{
 "cells": [
  {
   "cell_type": "markdown",
   "metadata": {},
   "source": [
    "# Formalia:\n",
    "\n",
    "Please read the [assignment overview page](https://github.com/lalessan/comsocsci2021/wiki/Assignments) carefully before proceeding. This page contains information about formatting (including formats etc), group sizes, and many other aspects of handing in the assignment. \n",
    "\n",
    "_If you fail to follow these simple instructions, it will negatively impact your grade!_\n",
    "\n",
    "**Due date and time**: The assignment is due on March 1st at 23:55. Hand in your Jupyter notebook file (with extension `.ipynb`) via DTU Learn _(Course Content, Assignemnts, Assignment 1)_"
   ]
  },
  {
   "cell_type": "markdown",
   "metadata": {},
   "source": [
    "# Part 1: Datasets for Computational Social Science"
   ]
  },
  {
   "cell_type": "markdown",
   "metadata": {},
   "source": [
    "> This year, lockdowns have helped governments contain the pandemic. But they also negatively impacted our wellbeing. Imagine you had to study the following question: \"_What are some of the strategies people adopt to preserve their mental and physical wellbeing during lockdown?_\"\n",
    "> * Write in a couple of lines: \n",
    ">> * Which data would you collect to study this topic? \n",
    ">> * How would you collect it?\n",
    "> * Describe the data you would need more in details (also by writing down a couple of lines): \n",
    ">> * How big is the data (number of users/number of data points)? \n",
    ">> * Which variables it contains? \n",
    "> * Write down three limitations of the data you have collected. \n"
   ]
  },
  {
   "cell_type": "markdown",
   "metadata": {},
   "source": [
    "# Part 2: r/wallstreetbets authors lifespan\n",
    "> Consider the _comments dataset_ including comments posted on r/wallstreetbets in reply to submissions about Gamestop. \n",
    "> 1. For each author, find the time of publication of their first comment, _min_time_, and the time of publication of their last comment, _max_time_, in [unix timestamp](https://www.unixtimestamp.com/). \n",
    "> 2. Compute the \"lifespan\" of authors as the difference between _max_time_ and _min_time_. Note that timestamps are measured in seconds, but it is appropriate here to compute the lifespan in days. Make a histogram showing the distribution of lifespans, choosing appropriate binning. What do you observe?\n",
    "> 3. Now, we will look at how many authors joined and abandoned the discussion on GME over time. First, use the numpy function [numpy.histogram2d](https://numpy.org/doc/stable/reference/generated/numpy.histogram2d.html) to create a 2-dimensional histogram for the two variables _min_time_ and _max_time_. A 2D histogram, is nothing but a histogram where bins have two dimensions, as we look simultaneously at two variables. You need to specify two arrays of bins, one for the x-axis and the other for the y-axis. Pick bins with length 1 week.\n",
    "> 4. Now, use the matplotlib function [``plt.imshow``](https://matplotlib.org/api/_as_gen/matplotlib.pyplot.imshow.html) to visualize the 2d histogram. You can follow [this example](https://stackoverflow.com/questions/2369492/generate-a-heatmap-in-matplotlib-using-a-scatter-data-set) on StackOverflow. To show dates instead of unix timestamps in the x and y axes, use [``mdates.date2num``](https://matplotlib.org/api/dates_api.html#matplotlib.dates.date2num). More details in this [StackOverflow example](https://stackoverflow.com/questions/23139595/dates-in-the-xaxis-for-a-matplotlib-plot-with-imshow), see accepted answer.\n",
    "> 5. Make sure that the colormap allows to well interpret the data, by passing ``norm=mpl.colors.LogNorm()`` as an argument to imshow. This will ensure that your colormap is log-scaled. Add a [colorbar](https://matplotlib.org/3.1.0/gallery/color/colorbar_basics.html) on the side of the figure, with the appropriate [colorbar label](https://matplotlib.org/3.1.1/api/colorbar_api.html#matplotlib.colorbar.ColorbarBase.set_label).\n",
    "> 6. Look at the figure, and write down three key observations."
   ]
  },
  {
   "cell_type": "markdown",
   "metadata": {},
   "source": [
    "#  Part 3: Exercises using the `NetworkX` library\n",
    "\n",
    "> Solve the following exercises from your [Network Science book](http://networksciencebook.com).\n",
    "> * Go to Section 2.12: [Homework](http://networksciencebook.com/chapter/2#homework2), then\n",
    ">     * Write the solution for exercise 2.1 (the 'Königsberg Problem') from NS in your notebook.\n",
    ">     * Solve exercise 2.3 ('Graph representation') from NS using NetworkX in your notebook. (You don't have to solve the last sub-question about cycles of length 4).\n",
    ">     * Solve exercise 2.5 ('Bipartite Networks') from NS using NetworkX in your notebook."
   ]
  },
  {
   "cell_type": "markdown",
   "metadata": {},
   "source": [
    "# Part 4: Preliminary analysis of the GME redditors network"
   ]
  },
  {
   "cell_type": "markdown",
   "metadata": {},
   "source": [
    "> Consider the directed network of redditors posting about GME on r/wallstreetbets in the period included between Jan 1st and Dec 31st, 2020 (the one you built in Week 3, Part 3).\n",
    "> * Why do you think I want you guys to use a _directed_ graph? Could have we used an undirected graph instead?\n",
    "> * What is the total number of nodes in the network? What is the total number of links? What is the density of the network (the total number of links over the maximum number of links)?\n",
    "> * What are the average, median, mode, minimum and maximum value of the in-degree (number of incoming edges per redditor)? And of the out-degree (number of outgoing edges per redditor)? How do you intepret the results?\n",
    "> * List the top 5 Redditors by in-degree and out-degree. What is their average score over time? At which point in time did they join the discussion on GME? When did they leave it?\n",
    "> * Plot the distribution of in-degrees and out-degrees, using a logarithmic binning. \n",
    "> * Plot a scatter plot of the the in- versus out- degree for all redditors. Comment on the relation between the two.\n",
    "> * Plot a scatter plot of the the in- degree versus average score for all redditors. Comment on the relation between the two.\n"
   ]
  },
  {
   "cell_type": "code",
   "execution_count": null,
   "metadata": {},
   "outputs": [],
   "source": []
  }
 ],
 "metadata": {
  "anaconda-cloud": {},
  "kernelspec": {
   "display_name": "Python 3",
   "language": "python",
   "name": "python3"
  },
  "language_info": {
   "codemirror_mode": {
    "name": "ipython",
    "version": 3
   },
   "file_extension": ".py",
   "mimetype": "text/x-python",
   "name": "python",
   "nbconvert_exporter": "python",
   "pygments_lexer": "ipython3",
   "version": "3.8.3"
  }
 },
 "nbformat": 4,
 "nbformat_minor": 1
}
