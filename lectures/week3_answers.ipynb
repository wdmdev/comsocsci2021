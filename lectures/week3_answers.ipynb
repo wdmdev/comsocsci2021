{
 "metadata": {
  "language_info": {
   "codemirror_mode": {
    "name": "ipython",
    "version": 3
   },
   "file_extension": ".py",
   "mimetype": "text/x-python",
   "name": "python",
   "nbconvert_exporter": "python",
   "pygments_lexer": "ipython3",
   "version": "3.9.1-final"
  },
  "orig_nbformat": 2,
  "kernelspec": {
   "name": "python3",
   "display_name": "Python 3.9.1 64-bit ('com_social2021': conda)",
   "metadata": {
    "interpreter": {
     "hash": "83ff59762366ec201ab4f65328d80b06a6364ce388f35dd8bdd75ebdd542ac99"
    }
   }
  }
 },
 "nbformat": 4,
 "nbformat_minor": 2,
 "cells": [
  {
   "source": [
    "# Part 1\n",
    "\n",
    "> _Exercises_  \n",
    "> _Chapter 1_ (Don't forget that you should be answering these in a Jupyter notebook.) \n",
    "> \n",
    "> * List three different real networks and state the nodes and links for each of them.\n",
    "> * Tell us of the network you are personally most interested in. Address the following questions:\n",
    ">   * What are its nodes and links? \n",
    ">   * How large is it? \n",
    ">   * Can be mapped out? \n",
    ">   * Why do you care about it? \n",
    "> * In your view what would be the area where network science could have the biggest impact in the next decade? Explain your answer - and base it on the text in the book. \n",
    "> \n",
    "> _Chapter 2_\n",
    "> \n",
    "> * Section 2.5 states that real networks are sparse. Can you think of a real network where each node has _many_ connections? Is that network still sparse? If yes, can you explain why?\n",
    "> \n",
    "> There are more questions on Chapter 2 below.\n",
    "> "
   ],
   "cell_type": "markdown",
   "metadata": {}
  },
  {
   "source": [
    "### Bullet Point 1)\n",
    "List three different real networks and state the nodes and links for each of them.\n"
   ],
   "cell_type": "markdown",
   "metadata": {}
  },
  {
   "source": [
    "1. Gas transportation\n",
    "    - Nodes: Consumers (house holds, companies, countries, etc.)\n",
    "    - Links: The gas pipeline\n",
    "\n",
    "2. Road Systems\n",
    "    - Nodes: Cities\n",
    "    - Links: Roads\n",
    "\n",
    "3. Cardiovascular System (Blood Flow)\n",
    "    - Nodes: Organs\n",
    "    - Links: Arteries"
   ],
   "cell_type": "markdown",
   "metadata": {}
  },
  {
   "source": [
    "### Bullet Point 2)\n",
    " Tell us of the network you are personally most interested in. Address the following questions:\n",
    ">   * What are its nodes and links? \n",
    ">   * How large is it? \n",
    ">   * Can be mapped out? \n",
    ">   * Why do you care about it? "
   ],
   "cell_type": "markdown",
   "metadata": {}
  },
  {
   "source": [
    "### Bullet Point 3)\n",
    "* In your view what would be the area where network science could have the biggest impact in the next decade? Explain your answer - and base it on the text in the book. "
   ],
   "cell_type": "markdown",
   "metadata": {}
  },
  {
   "source": [
    "### Bullet Point 4)\n",
    "* Section 2.5 states that real networks are sparse. Can you think of a real network where each node has _many_ connections? Is that network still sparse? If yes, can you explain why?"
   ],
   "cell_type": "markdown",
   "metadata": {}
  },
  {
   "source": [
    "The human brain. It consists of around 200 billion neurons linked together by hundreds of trillions of synapses. For that reason there must be many connections between each node."
   ],
   "cell_type": "markdown",
   "metadata": {}
  },
  {
   "source": [
    "I think neuroscience is an area which could benefit greatly from network science. As the book explains network science has had one of the greatest impacts in science. With mention of Network Biology as the second most cited paper in the history of Nature Reviews Genetics, the interest is clearly there. \n",
    "\n",
    "Also it seems to me, that network science can both impact social science, neurological/brain science and computational biology (neural networks and other connectionist work). All of which is facets of the vast field of neuroscience and important in the attempt to understand the human mind."
   ],
   "cell_type": "markdown",
   "metadata": {}
  },
  {
   "source": [
    "* The human nervous system (the brain in particular).\n",
    "    - Nodes: Neurons\n",
    "    - Links: Synapses\n",
    "\n",
    "* More than 1 trillion neurons (nodes) so more than 2 trillion synapses.\n",
    "\n",
    "* At the moment it is not fully mapped out. But a lot of research is going into it.\n",
    "\n",
    "* It's one of the important \"keys\" to unlocking the human mind and thereby consciouness, intelligence and many other spects of understading the human race."
   ],
   "cell_type": "markdown",
   "metadata": {}
  },
  {
   "source": [
    "# Part 2: Exercises using the `NetworkX` library\n",
    "\n",
    "We will analyse networks in Python using the [NetworkX](https://networkx.org/) library. The cool thing about networkx is that it includes a lot of algorithms and metrics for analysing networks, so you don't have to code things from scratch. Get started by running the magic ``pip install networkx`` command. Then, get familiar with the library through the following exercises: \n",
    "\n",
    ">  *Exercises*:\n",
    "\n",
    "> * Go to the NetworkX project's [tutorial page](https://networkx.org/documentation/stable/tutorial.html). The goal of this exercise is to create your own notebook that contains the entire tutorial. You're free to add your own (e.g. shorter) comments in place of the ones in the official tutorial - and change the code to make it your own where ever it makes sense.\n",
    "\n",
    "\n",
    "> * Go to Section 2.12: [Homework](http://networksciencebook.com/chapter/2#homework2), then\n",
    ">     * Write the solution for exercise 2.1 (the 'Königsberg Problem') from NS in your notebook.\n",
    "            * You can draw a, c, d. They have no more than two nodes with and uneven number of edges.\n",
    "            \n",
    "> * Solve exercise 2.3 ('Graph representation') from NS using NetworkX in your notebook. (You don't have to solve the last sub-question about cycles of length 4 ... but I'll be impressed if you do it).\n",
    "\n",
    "> * Solve exercise 2.5 ('Bipartite Networks') from NS using NetworkX in your notebook."
   ],
   "cell_type": "markdown",
   "metadata": {}
  },
  {
   "source": [
    "Solve exercise 2.3 ('Graph representation') from NS using NetworkX in your notebook. (You don't have to solve the last sub-question about cycles of length 4 ... but I'll be impressed if you do it). "
   ],
   "cell_type": "markdown",
   "metadata": {}
  },
  {
   "cell_type": "code",
   "execution_count": 1,
   "metadata": {},
   "outputs": [],
   "source": [
    "import networkx as nx\n",
    "import numpy as np"
   ]
  },
  {
   "cell_type": "code",
   "execution_count": 2,
   "metadata": {},
   "outputs": [],
   "source": [
    "G = nx.DiGraph()\n",
    "G.add_nodes_from(list(range(1,7)))\n",
    "G.add_edges_from([\n",
    "    (1,2),\n",
    "    (2,3), (2,4),\n",
    "    (3,1), (3,2),\n",
    "    (4,1),\n",
    "    (6,1), (6,3)\n",
    "])\n",
    "H = nx.Graph(G) #undirected"
   ]
  },
  {
   "cell_type": "code",
   "execution_count": 3,
   "metadata": {},
   "outputs": [
    {
     "output_type": "stream",
     "name": "stdout",
     "text": [
      "Adjancency matrix G\n[[0. 1. 0. 0. 0. 0.]\n [0. 0. 1. 1. 0. 0.]\n [1. 1. 0. 0. 0. 0.]\n [1. 0. 0. 0. 0. 0.]\n [0. 0. 0. 0. 0. 0.]\n [1. 0. 1. 0. 0. 0.]]\n\nAdjacency matric H\n[[0. 1. 1. 1. 0. 1.]\n [1. 0. 1. 1. 0. 0.]\n [1. 1. 0. 0. 0. 1.]\n [1. 1. 0. 0. 0. 0.]\n [0. 0. 0. 0. 0. 0.]\n [1. 0. 1. 0. 0. 0.]]\n"
     ]
    }
   ],
   "source": [
    "print('Adjancency matrix G')\n",
    "print(nx.to_numpy_matrix(G))\n",
    "\n",
    "print('\\nAdjacency matric H')\n",
    "print(nx.to_numpy_matrix(H))"
   ]
  },
  {
   "cell_type": "code",
   "execution_count": 4,
   "metadata": {},
   "outputs": [
    {
     "output_type": "stream",
     "name": "stdout",
     "text": [
      "Linklist G\n[(1, 2), (2, 3), (2, 4), (3, 1), (3, 2), (4, 1), (6, 1), (6, 3)]\n\nLinklist H\n[(1, 2), (1, 3), (1, 4), (1, 6), (2, 3), (2, 4), (3, 6)]\n"
     ]
    }
   ],
   "source": [
    "print('Linklist G')\n",
    "print(G.edges)\n",
    "\n",
    "print('\\nLinklist H')\n",
    "print(H.edges)"
   ]
  },
  {
   "cell_type": "code",
   "execution_count": 5,
   "metadata": {},
   "outputs": [
    {
     "output_type": "stream",
     "name": "stdout",
     "text": [
      "Average clustering coefficient G\n0.32222222222222224\n\nAverage clustering coefficient H\n0.6388888888888888\n"
     ]
    }
   ],
   "source": [
    "print('Average clustering coefficient G')\n",
    "print(nx.average_clustering(G))\n",
    "\n",
    "print('\\nAverage clustering coefficient H')\n",
    "print(nx.average_clustering(H))"
   ]
  },
  {
   "source": [
    "If we switch node 5 and 6 then the last and second last rows and columns are switched in the adjacency matrices and in the link list all 6's become 5's instead"
   ],
   "cell_type": "markdown",
   "metadata": {}
  },
  {
   "source": [
    "In the linked list you only get information about nodes that are linked to other nodes. So you cannot see node 5, because it is not linked to any nodes. But in the adjacency matrix you have rows and columns for all nodes, so you can see node 5 there. So you can infer the total number of nodes in the adjacency matrix, but not in the linked list."
   ],
   "cell_type": "markdown",
   "metadata": {}
  },
  {
   "cell_type": "code",
   "execution_count": 6,
   "metadata": {},
   "outputs": [
    {
     "output_type": "execute_result",
     "data": {
      "text/plain": [
       "EdgeView([(1, 2), (2, 3), (3, 4), (4, 5), (5, 6)])"
      ]
     },
     "metadata": {},
     "execution_count": 6
    }
   ],
   "source": [
    "nx.path_graph(G).edges"
   ]
  },
  {
   "source": [
    "8 paths for undirected:\n",
    "(1,4,2,3)\n",
    "(1,2,4,3)\n",
    "(1,2,1,3)\n",
    "(1,4,1,3)\n",
    "(1,6,1,3)\n",
    "(1,3,1,3)\n",
    "(1,3,6,3)\n",
    "(1,3,2,3)\n"
   ],
   "cell_type": "markdown",
   "metadata": {}
  },
  {
   "source": [
    "# Bipartite"
   ],
   "cell_type": "markdown",
   "metadata": {}
  },
  {
   "cell_type": "code",
   "execution_count": 7,
   "metadata": {},
   "outputs": [],
   "source": [
    "import numpy as np\n",
    "nodes = np.arange(1, 12)\n",
    "edges = [(1,7), (2,9), (3,7), (3,8), (3,9), (4,9), (4,10), (5,9), (5,11), (6,11)]\n",
    "GBI = nx.Graph()\n",
    "GBI.add_nodes_from(nodes)\n",
    "GBI.add_edges_from(edges)"
   ]
  },
  {
   "cell_type": "code",
   "execution_count": 8,
   "metadata": {},
   "outputs": [
    {
     "output_type": "display_data",
     "data": {
      "text/plain": "<Figure size 432x288 with 1 Axes>",
      "image/svg+xml": "<?xml version=\"1.0\" encoding=\"utf-8\" standalone=\"no\"?>\n<!DOCTYPE svg PUBLIC \"-//W3C//DTD SVG 1.1//EN\"\n  \"http://www.w3.org/Graphics/SVG/1.1/DTD/svg11.dtd\">\n<!-- Created with matplotlib (https://matplotlib.org/) -->\n<svg height=\"302.4pt\" version=\"1.1\" viewBox=\"0 0 446.4 302.4\" width=\"446.4pt\" xmlns=\"http://www.w3.org/2000/svg\" xmlns:xlink=\"http://www.w3.org/1999/xlink\">\n <metadata>\n  <rdf:RDF xmlns:cc=\"http://creativecommons.org/ns#\" xmlns:dc=\"http://purl.org/dc/elements/1.1/\" xmlns:rdf=\"http://www.w3.org/1999/02/22-rdf-syntax-ns#\">\n   <cc:Work>\n    <dc:type rdf:resource=\"http://purl.org/dc/dcmitype/StillImage\"/>\n    <dc:date>2021-03-03T09:18:00.058745</dc:date>\n    <dc:format>image/svg+xml</dc:format>\n    <dc:creator>\n     <cc:Agent>\n      <dc:title>Matplotlib v3.3.4, https://matplotlib.org/</dc:title>\n     </cc:Agent>\n    </dc:creator>\n   </cc:Work>\n  </rdf:RDF>\n </metadata>\n <defs>\n  <style type=\"text/css\">*{stroke-linecap:butt;stroke-linejoin:round;}</style>\n </defs>\n <g id=\"figure_1\">\n  <g id=\"patch_1\">\n   <path d=\"M 0 302.4 \nL 446.4 302.4 \nL 446.4 0 \nL 0 0 \nz\n\" style=\"fill:#ffffff;\"/>\n  </g>\n  <g id=\"axes_1\">\n   <g id=\"patch_2\">\n    <path clip-path=\"url(#pef1b46039c)\" d=\"M 223.2 261.547043 \nQ 223.2 246.404219 223.2 232.37943 \n\" style=\"fill:none;stroke:#000000;stroke-linecap:round;\"/>\n    <path clip-path=\"url(#pef1b46039c)\" d=\"M 221.2 236.37943 \nL 223.2 232.37943 \nL 225.2 236.37943 \nL 221.2 236.37943 \nz\n\" style=\"stroke:#000000;stroke-linecap:round;\"/>\n   </g>\n   <g id=\"patch_3\">\n    <path clip-path=\"url(#pef1b46039c)\" d=\"M 223.2 213.943737 \nQ 223.2 198.800914 223.2 184.776124 \n\" style=\"fill:none;stroke:#000000;stroke-linecap:round;\"/>\n    <path clip-path=\"url(#pef1b46039c)\" d=\"M 221.2 188.776124 \nL 223.2 184.776124 \nL 225.2 188.776124 \nL 221.2 188.776124 \nz\n\" style=\"stroke:#000000;stroke-linecap:round;\"/>\n   </g>\n   <g id=\"patch_4\">\n    <path clip-path=\"url(#pef1b46039c)\" d=\"M 223.2 213.943737 \nQ 223.2 175.001217 223.2 137.176731 \n\" style=\"fill:none;stroke:#000000;stroke-linecap:round;\"/>\n    <path clip-path=\"url(#pef1b46039c)\" d=\"M 221.2 141.176731 \nL 223.2 137.176731 \nL 225.2 141.176731 \nL 221.2 141.176731 \nz\n\" style=\"stroke:#000000;stroke-linecap:round;\"/>\n   </g>\n   <g id=\"patch_5\">\n    <path clip-path=\"url(#pef1b46039c)\" d=\"M 223.2 183.662874 \nQ 223.2 222.605395 223.2 260.429881 \n\" style=\"fill:none;stroke:#000000;stroke-linecap:round;\"/>\n    <path clip-path=\"url(#pef1b46039c)\" d=\"M 225.2 256.429881 \nL 223.2 260.429881 \nL 221.2 256.429881 \nL 225.2 256.429881 \nz\n\" style=\"stroke:#000000;stroke-linecap:round;\"/>\n   </g>\n   <g id=\"patch_6\">\n    <path clip-path=\"url(#pef1b46039c)\" d=\"M 223.2 183.662874 \nQ 223.2 198.805698 223.2 212.830487 \n\" style=\"fill:none;stroke:#000000;stroke-linecap:round;\"/>\n    <path clip-path=\"url(#pef1b46039c)\" d=\"M 225.2 208.830487 \nL 223.2 212.830487 \nL 221.2 208.830487 \nL 225.2 208.830487 \nz\n\" style=\"stroke:#000000;stroke-linecap:round;\"/>\n   </g>\n   <g id=\"patch_7\">\n    <path clip-path=\"url(#pef1b46039c)\" d=\"M 223.2 136.058116 \nQ 223.2 198.803851 223.2 260.431552 \n\" style=\"fill:none;stroke:#000000;stroke-linecap:round;\"/>\n    <path clip-path=\"url(#pef1b46039c)\" d=\"M 225.2 256.431552 \nL 223.2 260.431552 \nL 221.2 256.431552 \nL 225.2 256.431552 \nz\n\" style=\"stroke:#000000;stroke-linecap:round;\"/>\n   </g>\n   <g id=\"patch_8\">\n    <path clip-path=\"url(#pef1b46039c)\" d=\"M 223.2 40.853683 \nQ 223.2 151.200128 223.2 260.428539 \n\" style=\"fill:none;stroke:#000000;stroke-linecap:round;\"/>\n    <path clip-path=\"url(#pef1b46039c)\" d=\"M 225.2 256.428539 \nL 223.2 260.428539 \nL 221.2 256.428539 \nL 225.2 256.428539 \nz\n\" style=\"stroke:#000000;stroke-linecap:round;\"/>\n   </g>\n   <g id=\"patch_9\">\n    <path clip-path=\"url(#pef1b46039c)\" d=\"M 223.2 40.851504 \nQ 223.2 103.59724 223.2 165.224941 \n\" style=\"fill:none;stroke:#000000;stroke-linecap:round;\"/>\n    <path clip-path=\"url(#pef1b46039c)\" d=\"M 225.2 161.224941 \nL 223.2 165.224941 \nL 221.2 161.224941 \nL 225.2 161.224941 \nz\n\" style=\"stroke:#000000;stroke-linecap:round;\"/>\n   </g>\n   <g id=\"PathCollection_1\">\n    <defs>\n     <path d=\"M 0 8.660254 \nC 2.296726 8.660254 4.499694 7.747755 6.123724 6.123724 \nC 7.747755 4.499694 8.660254 2.296726 8.660254 0 \nC 8.660254 -2.296726 7.747755 -4.499694 6.123724 -6.123724 \nC 4.499694 -7.747755 2.296726 -8.660254 0 -8.660254 \nC -2.296726 -8.660254 -4.499694 -7.747755 -6.123724 -6.123724 \nC -7.747755 -4.499694 -8.660254 -2.296726 -8.660254 0 \nC -8.660254 2.296726 -7.747755 4.499694 -6.123724 6.123724 \nC -4.499694 7.747755 -2.296726 8.660254 0 8.660254 \nz\n\" id=\"m2a46b4d48d\" style=\"stroke:#1f78b4;\"/>\n    </defs>\n    <g clip-path=\"url(#pef1b46039c)\">\n     <use style=\"fill:#1f78b4;stroke:#1f78b4;\" x=\"223.2\" xlink:href=\"#m2a46b4d48d\" y=\"270.208264\"/>\n     <use style=\"fill:#1f78b4;stroke:#1f78b4;\" x=\"223.2\" xlink:href=\"#m2a46b4d48d\" y=\"222.604959\"/>\n     <use style=\"fill:#1f78b4;stroke:#1f78b4;\" x=\"223.2\" xlink:href=\"#m2a46b4d48d\" y=\"175.001653\"/>\n     <use style=\"fill:#1f78b4;stroke:#1f78b4;\" x=\"223.2\" xlink:href=\"#m2a46b4d48d\" y=\"127.398347\"/>\n     <use style=\"fill:#1f78b4;stroke:#1f78b4;\" x=\"223.2\" xlink:href=\"#m2a46b4d48d\" y=\"79.795041\"/>\n     <use style=\"fill:#1f78b4;stroke:#1f78b4;\" x=\"223.2\" xlink:href=\"#m2a46b4d48d\" y=\"32.191736\"/>\n    </g>\n   </g>\n   <g id=\"text_1\">\n    <g clip-path=\"url(#pef1b46039c)\">\n     <!-- 1 -->\n     <g transform=\"translate(219.3825 273.519514)scale(0.12 -0.12)\">\n      <defs>\n       <path d=\"M 12.40625 8.296875 \nL 28.515625 8.296875 \nL 28.515625 63.921875 \nL 10.984375 60.40625 \nL 10.984375 69.390625 \nL 28.421875 72.90625 \nL 38.28125 72.90625 \nL 38.28125 8.296875 \nL 54.390625 8.296875 \nL 54.390625 0 \nL 12.40625 0 \nz\n\" id=\"DejaVuSans-49\"/>\n      </defs>\n      <use xlink:href=\"#DejaVuSans-49\"/>\n     </g>\n    </g>\n   </g>\n   <g id=\"text_2\">\n    <g clip-path=\"url(#pef1b46039c)\">\n     <!-- 2 -->\n     <g transform=\"translate(219.3825 225.916209)scale(0.12 -0.12)\">\n      <defs>\n       <path d=\"M 19.1875 8.296875 \nL 53.609375 8.296875 \nL 53.609375 0 \nL 7.328125 0 \nL 7.328125 8.296875 \nQ 12.9375 14.109375 22.625 23.890625 \nQ 32.328125 33.6875 34.8125 36.53125 \nQ 39.546875 41.84375 41.421875 45.53125 \nQ 43.3125 49.21875 43.3125 52.78125 \nQ 43.3125 58.59375 39.234375 62.25 \nQ 35.15625 65.921875 28.609375 65.921875 \nQ 23.96875 65.921875 18.8125 64.3125 \nQ 13.671875 62.703125 7.8125 59.421875 \nL 7.8125 69.390625 \nQ 13.765625 71.78125 18.9375 73 \nQ 24.125 74.21875 28.421875 74.21875 \nQ 39.75 74.21875 46.484375 68.546875 \nQ 53.21875 62.890625 53.21875 53.421875 \nQ 53.21875 48.921875 51.53125 44.890625 \nQ 49.859375 40.875 45.40625 35.40625 \nQ 44.1875 33.984375 37.640625 27.21875 \nQ 31.109375 20.453125 19.1875 8.296875 \nz\n\" id=\"DejaVuSans-50\"/>\n      </defs>\n      <use xlink:href=\"#DejaVuSans-50\"/>\n     </g>\n    </g>\n   </g>\n   <g id=\"text_3\">\n    <g clip-path=\"url(#pef1b46039c)\">\n     <!-- 3 -->\n     <g transform=\"translate(219.3825 178.312903)scale(0.12 -0.12)\">\n      <defs>\n       <path d=\"M 40.578125 39.3125 \nQ 47.65625 37.796875 51.625 33 \nQ 55.609375 28.21875 55.609375 21.1875 \nQ 55.609375 10.40625 48.1875 4.484375 \nQ 40.765625 -1.421875 27.09375 -1.421875 \nQ 22.515625 -1.421875 17.65625 -0.515625 \nQ 12.796875 0.390625 7.625 2.203125 \nL 7.625 11.71875 \nQ 11.71875 9.328125 16.59375 8.109375 \nQ 21.484375 6.890625 26.8125 6.890625 \nQ 36.078125 6.890625 40.9375 10.546875 \nQ 45.796875 14.203125 45.796875 21.1875 \nQ 45.796875 27.640625 41.28125 31.265625 \nQ 36.765625 34.90625 28.71875 34.90625 \nL 20.21875 34.90625 \nL 20.21875 43.015625 \nL 29.109375 43.015625 \nQ 36.375 43.015625 40.234375 45.921875 \nQ 44.09375 48.828125 44.09375 54.296875 \nQ 44.09375 59.90625 40.109375 62.90625 \nQ 36.140625 65.921875 28.71875 65.921875 \nQ 24.65625 65.921875 20.015625 65.03125 \nQ 15.375 64.15625 9.8125 62.3125 \nL 9.8125 71.09375 \nQ 15.4375 72.65625 20.34375 73.4375 \nQ 25.25 74.21875 29.59375 74.21875 \nQ 40.828125 74.21875 47.359375 69.109375 \nQ 53.90625 64.015625 53.90625 55.328125 \nQ 53.90625 49.265625 50.4375 45.09375 \nQ 46.96875 40.921875 40.578125 39.3125 \nz\n\" id=\"DejaVuSans-51\"/>\n      </defs>\n      <use xlink:href=\"#DejaVuSans-51\"/>\n     </g>\n    </g>\n   </g>\n   <g id=\"text_4\">\n    <g clip-path=\"url(#pef1b46039c)\">\n     <!-- 4 -->\n     <g transform=\"translate(219.3825 130.709597)scale(0.12 -0.12)\">\n      <defs>\n       <path d=\"M 37.796875 64.3125 \nL 12.890625 25.390625 \nL 37.796875 25.390625 \nz\nM 35.203125 72.90625 \nL 47.609375 72.90625 \nL 47.609375 25.390625 \nL 58.015625 25.390625 \nL 58.015625 17.1875 \nL 47.609375 17.1875 \nL 47.609375 0 \nL 37.796875 0 \nL 37.796875 17.1875 \nL 4.890625 17.1875 \nL 4.890625 26.703125 \nz\n\" id=\"DejaVuSans-52\"/>\n      </defs>\n      <use xlink:href=\"#DejaVuSans-52\"/>\n     </g>\n    </g>\n   </g>\n   <g id=\"text_5\">\n    <g clip-path=\"url(#pef1b46039c)\">\n     <!-- 5 -->\n     <g transform=\"translate(219.3825 83.106291)scale(0.12 -0.12)\">\n      <defs>\n       <path d=\"M 10.796875 72.90625 \nL 49.515625 72.90625 \nL 49.515625 64.59375 \nL 19.828125 64.59375 \nL 19.828125 46.734375 \nQ 21.96875 47.46875 24.109375 47.828125 \nQ 26.265625 48.1875 28.421875 48.1875 \nQ 40.625 48.1875 47.75 41.5 \nQ 54.890625 34.8125 54.890625 23.390625 \nQ 54.890625 11.625 47.5625 5.09375 \nQ 40.234375 -1.421875 26.90625 -1.421875 \nQ 22.3125 -1.421875 17.546875 -0.640625 \nQ 12.796875 0.140625 7.71875 1.703125 \nL 7.71875 11.625 \nQ 12.109375 9.234375 16.796875 8.0625 \nQ 21.484375 6.890625 26.703125 6.890625 \nQ 35.15625 6.890625 40.078125 11.328125 \nQ 45.015625 15.765625 45.015625 23.390625 \nQ 45.015625 31 40.078125 35.4375 \nQ 35.15625 39.890625 26.703125 39.890625 \nQ 22.75 39.890625 18.8125 39.015625 \nQ 14.890625 38.140625 10.796875 36.28125 \nz\n\" id=\"DejaVuSans-53\"/>\n      </defs>\n      <use xlink:href=\"#DejaVuSans-53\"/>\n     </g>\n    </g>\n   </g>\n   <g id=\"text_6\">\n    <g clip-path=\"url(#pef1b46039c)\">\n     <!-- 6 -->\n     <g transform=\"translate(219.3825 35.502986)scale(0.12 -0.12)\">\n      <defs>\n       <path d=\"M 33.015625 40.375 \nQ 26.375 40.375 22.484375 35.828125 \nQ 18.609375 31.296875 18.609375 23.390625 \nQ 18.609375 15.53125 22.484375 10.953125 \nQ 26.375 6.390625 33.015625 6.390625 \nQ 39.65625 6.390625 43.53125 10.953125 \nQ 47.40625 15.53125 47.40625 23.390625 \nQ 47.40625 31.296875 43.53125 35.828125 \nQ 39.65625 40.375 33.015625 40.375 \nz\nM 52.59375 71.296875 \nL 52.59375 62.3125 \nQ 48.875 64.0625 45.09375 64.984375 \nQ 41.3125 65.921875 37.59375 65.921875 \nQ 27.828125 65.921875 22.671875 59.328125 \nQ 17.53125 52.734375 16.796875 39.40625 \nQ 19.671875 43.65625 24.015625 45.921875 \nQ 28.375 48.1875 33.59375 48.1875 \nQ 44.578125 48.1875 50.953125 41.515625 \nQ 57.328125 34.859375 57.328125 23.390625 \nQ 57.328125 12.15625 50.6875 5.359375 \nQ 44.046875 -1.421875 33.015625 -1.421875 \nQ 20.359375 -1.421875 13.671875 8.265625 \nQ 6.984375 17.96875 6.984375 36.375 \nQ 6.984375 53.65625 15.1875 63.9375 \nQ 23.390625 74.21875 37.203125 74.21875 \nQ 40.921875 74.21875 44.703125 73.484375 \nQ 48.484375 72.75 52.59375 71.296875 \nz\n\" id=\"DejaVuSans-54\"/>\n      </defs>\n      <use xlink:href=\"#DejaVuSans-54\"/>\n     </g>\n    </g>\n   </g>\n  </g>\n </g>\n <defs>\n  <clipPath id=\"pef1b46039c\">\n   <rect height=\"288\" width=\"432\" x=\"7.2\" y=\"7.2\"/>\n  </clipPath>\n </defs>\n</svg>\n",
      "image/png": "[encoded data removed]"
     },
     "metadata": {}
    }
   ],
   "source": [
    "import matplotlib.pyplot as plt\n",
    "X, Y = nx.bipartite.sets(GBI)\n",
    "pos = dict()\n",
    "pos.update( (n, (1, i)) for i, n in enumerate(X) ) # put nodes from X at x=1\n",
    "pos.update( (n, (2, i)) for i, n in enumerate(Y) ) # put nodes from Y at x=2\n",
    "nx.draw(G, pos=pos, with_labels = True)\n",
    "plt.show()"
   ]
  },
  {
   "cell_type": "code",
   "execution_count": 9,
   "metadata": {},
   "outputs": [
    {
     "output_type": "execute_result",
     "data": {
      "text/plain": [
       "matrix([[0., 0., 0., 0., 0., 0., 1., 0., 0., 0., 0.],\n",
       "        [0., 0., 0., 0., 0., 0., 0., 0., 1., 0., 0.],\n",
       "        [0., 0., 0., 0., 0., 0., 1., 1., 1., 0., 0.],\n",
       "        [0., 0., 0., 0., 0., 0., 0., 0., 1., 1., 0.],\n",
       "        [0., 0., 0., 0., 0., 0., 0., 0., 1., 0., 1.],\n",
       "        [0., 0., 0., 0., 0., 0., 0., 0., 0., 0., 1.],\n",
       "        [1., 0., 1., 0., 0., 0., 0., 0., 0., 0., 0.],\n",
       "        [0., 0., 1., 0., 0., 0., 0., 0., 0., 0., 0.],\n",
       "        [0., 1., 1., 1., 1., 0., 0., 0., 0., 0., 0.],\n",
       "        [0., 0., 0., 1., 0., 0., 0., 0., 0., 0., 0.],\n",
       "        [0., 0., 0., 0., 1., 1., 0., 0., 0., 0., 0.]])"
      ]
     },
     "metadata": {},
     "execution_count": 9
    }
   ],
   "source": [
    "nx.to_numpy_matrix(GBI)"
   ]
  },
  {
   "source": [
    "Block diagonal matrix because the lower end nodes 1 to 6 are not connect with each other and the same for the higher end nodes"
   ],
   "cell_type": "markdown",
   "metadata": {}
  },
  {
   "source": [
    "### Projections"
   ],
   "cell_type": "markdown",
   "metadata": {}
  },
  {
   "cell_type": "code",
   "execution_count": 10,
   "metadata": {},
   "outputs": [],
   "source": [
    "purp_proj = nx.bipartite.projection.projected_graph(GBI, list(range(1,7)))\n",
    "gree_proj = nx.bipartite.projection.projected_graph(GBI, list(range(7,12)))"
   ]
  },
  {
   "cell_type": "code",
   "execution_count": 11,
   "metadata": {},
   "outputs": [
    {
     "output_type": "execute_result",
     "data": {
      "text/plain": [
       "matrix([[0., 0., 1., 0., 0., 0.],\n",
       "        [0., 0., 1., 1., 1., 0.],\n",
       "        [1., 1., 0., 1., 1., 0.],\n",
       "        [0., 1., 1., 0., 1., 0.],\n",
       "        [0., 1., 1., 1., 0., 1.],\n",
       "        [0., 0., 0., 0., 1., 0.]])"
      ]
     },
     "metadata": {},
     "execution_count": 11
    }
   ],
   "source": [
    "nx.to_numpy_matrix(purp_proj)"
   ]
  },
  {
   "cell_type": "code",
   "execution_count": 12,
   "metadata": {},
   "outputs": [
    {
     "output_type": "execute_result",
     "data": {
      "text/plain": [
       "matrix([[0., 1., 1., 0., 0.],\n",
       "        [1., 0., 1., 0., 0.],\n",
       "        [1., 1., 0., 1., 1.],\n",
       "        [0., 0., 1., 0., 0.],\n",
       "        [0., 0., 1., 0., 0.]])"
      ]
     },
     "metadata": {},
     "execution_count": 12
    }
   ],
   "source": [
    "nx.to_numpy_matrix(gree_proj)"
   ]
  },
  {
   "cell_type": "code",
   "execution_count": 13,
   "metadata": {},
   "outputs": [],
   "source": [
    "def avg_degree(G, nodes):\n",
    "    degrees = list(nx.degree(G,nodes))\n",
    "    return sum([b for a,b in degrees])/len(degrees)"
   ]
  },
  {
   "cell_type": "code",
   "execution_count": 14,
   "metadata": {},
   "outputs": [
    {
     "output_type": "stream",
     "name": "stdout",
     "text": [
      "Average degree of purple nodes in full graph 1.6666666666666667\nAverage degree of green nodes in full graph 2.0\n"
     ]
    }
   ],
   "source": [
    "purple_nodes = list(range(1,7))\n",
    "green_nodes = list(range(7,12))\n",
    "print(f'Average degree of purple nodes in full graph {avg_degree(GBI, purple_nodes)}')\n",
    "print(f'Average degree of green nodes in full graph {avg_degree(GBI, green_nodes)}')"
   ]
  },
  {
   "cell_type": "code",
   "execution_count": 15,
   "metadata": {},
   "outputs": [
    {
     "output_type": "stream",
     "name": "stdout",
     "text": [
      "Average degree of purple nodes purple projection 2.6666666666666665\nAverage degree of green nodes in green projection 2.0\n"
     ]
    }
   ],
   "source": [
    "purple_nodes = list(range(1,7))\n",
    "green_nodes = list(range(7,12))\n",
    "print(f'Average degree of purple nodes purple projection {avg_degree(purp_proj, purple_nodes)}')\n",
    "print(f'Average degree of green nodes in green projection {avg_degree(gree_proj, green_nodes)}')"
   ]
  },
  {
   "source": [
    "# "
   ],
   "cell_type": "markdown",
   "metadata": {}
  }
 ]
}