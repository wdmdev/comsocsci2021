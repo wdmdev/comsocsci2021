{
 "cells": [
  {
   "cell_type": "markdown",
   "metadata": {},
   "source": [
    "# Overview\n",
    "\n",
    "This week we will go back to networks, and we will learn about community detection. \n",
    "\n",
    "Here is the plan:\n",
    "\n",
    "* __Part 1__: Learn about Community Detection with a lecture from Sune. Then do an exercise related to the famous [Zachary Karate Club Network](https://en.wikipedia.org/wiki/Zachary%27s_karate_club).\n",
    "* __Part 2__: Learn how to compare network communities, using _normalized [mutual information](https://en.wikipedia.org/wiki/Mutual_information)_.\n",
    "* __Part 3__: Apply community detection to the GME network.\n"
   ]
  },
  {
   "cell_type": "markdown",
   "metadata": {},
   "source": [
    "# Part 1: Community detection."
   ]
  },
  {
   "cell_type": "markdown",
   "metadata": {},
   "source": [
    "Now that we have learnt about text analysis, it is time to go back to our GME network! We will start by learning about community detection with a lecture from Sune.\n",
    "\n",
    "> **_Video Lecture_**: Communities in networks. \n",
    "\n",
    "You can watch the 2015 video [here](https://youtu.be/06GL_KGHdbE/)"
   ]
  },
  {
   "cell_type": "code",
   "execution_count": 1,
   "metadata": {},
   "outputs": [
    {
     "output_type": "execute_result",
     "data": {
      "text/plain": [
       "<IPython.lib.display.YouTubeVideo at 0x7fcc790be880>"
      ],
      "text/html": "\n        <iframe\n            width=\"800\"\n            height=\"450\"\n            src=\"https://www.youtube.com/embed/FSRoqXw28RI\"\n            frameborder=\"0\"\n            allowfullscreen\n        ></iframe>\n        ",
      "image/jpeg": "[encoded data removed]"
     },
     "metadata": {},
     "execution_count": 1
    }
   ],
   "source": [
    "from IPython.display import YouTubeVideo\n",
    "YouTubeVideo(\"FSRoqXw28RI\",width=800, height=450)"
   ]
  },
  {
   "cell_type": "markdown",
   "metadata": {},
   "source": [
    "> **_Reading_**: [Chapter 9 of the NS book.](http://networksciencebook.com/chapter/9). You can skip sections 9.3, 9.5 and 9.7. \n",
    "\n"
   ]
  },
  {
   "cell_type": "markdown",
   "metadata": {},
   "source": [
    "_Exercise 1: Zachary's karate club_: And now, the idea is to put a bit into practice the concept of community detection. In this exercise, we will work on Zarachy's karate club graph (refer to the Introduction of Chapter 9). The dataset is available in NetworkX, by calling the function [karate_club_graph](https://networkx.org/documentation/stable//auto_examples/graph/plot_karate_club.html) \n",
    "\n"
   ]
  },
  {
   "cell_type": "code",
   "execution_count": 1,
   "metadata": {},
   "outputs": [],
   "source": [
    "import networkx as nx\n",
    "import netwulf as nw"
   ]
  },
  {
   "cell_type": "code",
   "execution_count": 2,
   "metadata": {},
   "outputs": [],
   "source": [
    "karate_G = nx.karate_club_graph()"
   ]
  },
  {
   "source": [
    "> 1. Visualize the graph using [netwulf](https://netwulf.readthedocs.io/en/latest/). Set the color of each node based on the club split (the information is stored as a node attribute). My version of the visualization is below.\n",
    ">"
   ],
   "cell_type": "markdown",
   "metadata": {}
  },
  {
   "cell_type": "code",
   "execution_count": 3,
   "metadata": {},
   "outputs": [],
   "source": [
    "import numpy as np\n",
    "\n",
    "green = np.array([1,2,3,4,5,6,7,8,11,12,13,14,17,18,20,22]) - 1 #0 indexing\n",
    "purple = np.array([9,10,15,16,19,21,23,24,25,26,27,28,29,30,31,32,33,34]) - 1\n",
    "\n",
    "colors = dict(list(zip(green,['green']*len(green))) + list(zip(purple, ['purple']*len(purple))))\n",
    "\n",
    "nx.set_node_attributes(karate_G, colors, 'color')"
   ]
  },
  {
   "cell_type": "code",
   "execution_count": 45,
   "metadata": {},
   "outputs": [],
   "source": [
    "karate_G_visualization = nw.visualize(karate_G, plot_in_cell_below=True)"
   ]
  },
  {
   "source": [
    "<img src=\"Graphs/karate_graph.png\"></img>"
   ],
   "cell_type": "markdown",
   "metadata": {}
  },
  {
   "source": [
    "<img src=\"https://github.com/lalessan/comsocsci2021/raw/master/files/karate.png\" alt=\"Drawing\" style=\"width: 800px;\"/>"
   ],
   "cell_type": "markdown",
   "metadata": {}
  },
  {
   "source": [
    "> 2. Write a function to compute the __modularity__ of a graph partitioning (use **equation 9.12** in the book). The function should take a networkX Graph and a partitioning as inputs and return the modularity."
   ],
   "cell_type": "markdown",
   "metadata": {}
  },
  {
   "cell_type": "code",
   "execution_count": 4,
   "metadata": {},
   "outputs": [],
   "source": [
    "def calculate_modularity(graph:nx.Graph, partitions:list):\n",
    "    '''\n",
    "        graph: Networkx Graph\n",
    "        partitions: List of partitions. Each partition should be a set of nodes in the graph\n",
    "    '''\n",
    "    L = graph.number_of_edges()\n",
    "\n",
    "    M = 0\n",
    "    for p in partitions:\n",
    "        kc = sum(dict(graph.degree(p)).values())\n",
    "        partition = graph.subgraph(p)\n",
    "        Lc = partition.number_of_edges()\n",
    "        M += (Lc/L) - (kc/(2*L))**2\n",
    "    \n",
    "    return M"
   ]
  },
  {
   "source": [
    "> 3. Explain in your own words the concept of _modularity_. "
   ],
   "cell_type": "markdown",
   "metadata": {}
  },
  {
   "source": [
    "The concept of *modularity* descripes how well a suggested partitioning of a graph is compared to a random graph.\n",
    "I.e. if the suggested partitioning is just random or if it actually could originate from real communities in the network."
   ],
   "cell_type": "markdown",
   "metadata": {}
  },
  {
   "source": [
    "> 4. Compute the modularity of the Karate club split partitioning using the function you just wrote. Note: the Karate club split partitioning is avilable as a [node attribute](https://networkx.org/documentation/networkx-1.10/reference/generated/networkx.classes.function.get_node_attributes.html), called _\"club\"_.\n"
   ],
   "cell_type": "markdown",
   "metadata": {}
  },
  {
   "cell_type": "code",
   "execution_count": 5,
   "metadata": {},
   "outputs": [
    {
     "output_type": "execute_result",
     "data": {
      "text/plain": [
       "0.3582347140039447"
      ]
     },
     "metadata": {},
     "execution_count": 5
    }
   ],
   "source": [
    "partitions = nx.get_node_attributes(karate_G, 'club')\n",
    "partition_labels = set(partitions.values())\n",
    "communities = {label: set() for label in partition_labels}\n",
    "for n, p in partitions.items():\n",
    "    communities[p].add(n)\n",
    "\n",
    "calculate_modularity(karate_G, communities.values())"
   ]
  },
  {
   "cell_type": "code",
   "execution_count": 6,
   "metadata": {},
   "outputs": [
    {
     "output_type": "execute_result",
     "data": {
      "text/plain": [
       "0.3582347140039448"
      ]
     },
     "metadata": {},
     "execution_count": 6
    }
   ],
   "source": [
    "nx.algorithms.community.quality.modularity(karate_G, communities.values())"
   ]
  },
  {
   "cell_type": "code",
   "execution_count": 7,
   "metadata": {},
   "outputs": [],
   "source": [
    "#Example from book\n",
    "G = nx.Graph()\n",
    "green = [(0, {'color': 'green'}), (1, {'color': 'green'}), (2, {'color': 'green'}), (3,{'color': 'green'}), (4, {'color': 'green'})]\n",
    "purple = [(5,{'color': 'purple'}), (6,{'color': 'purple'}), (7,{'color': 'purple'}), (8,{'color': 'purple'})]\n",
    "G.add_nodes_from(green+purple)\n",
    "\n",
    "green_edges = [(0,1), (0,2), (0,3), (1,2), (1,3), (2,4), (3,4), (4,5)]\n",
    "purple_edges = [(5,6), (5,7), (5,8), (6,7), (7,8)]\n",
    "G.add_edges_from(green_edges+purple_edges)"
   ]
  },
  {
   "cell_type": "code",
   "execution_count": 8,
   "metadata": {},
   "outputs": [
    {
     "output_type": "execute_result",
     "data": {
      "text/plain": [
       "0.41124260355029596"
      ]
     },
     "metadata": {},
     "execution_count": 8
    }
   ],
   "source": [
    "G_partitions = nx.get_node_attributes(G, 'color')\n",
    "G_partition_labels = set(G_partitions.values())\n",
    "G_communities = {label: set() for label in G_partition_labels}\n",
    "for n, p in G_partitions.items():\n",
    "    G_communities[p].add(n)\n",
    "\n",
    "calculate_modularity(G, G_communities.values())"
   ]
  },
  {
   "cell_type": "code",
   "execution_count": 9,
   "metadata": {},
   "outputs": [
    {
     "output_type": "execute_result",
     "data": {
      "text/plain": [
       "0.41124260355029585"
      ]
     },
     "metadata": {},
     "execution_count": 9
    }
   ],
   "source": [
    "nx.algorithms.community.quality.modularity(G, G_communities.values())"
   ]
  },
  {
   "source": [
    "> 5. We will now perform a small randomization experiment to assess if the modularity you just computed is statitically different from $0$. To do so, we will implement a [configuration model](https://en.wikipedia.org/wiki/Configuration_model). In short, we will create a new network, such that each node has the same degree as in the original network, but different connections. Here is how the algorithm works.\n",
    ">       * __a.__ Create an identical copy of your original network. \n",
    ">       * __b.__ Consider the list of network edges. Create two lists: the list of source nodes and target nodes. (e.g. edges = [(1,2),(3,4)], sources = [1,3], targets = [2,4])\n",
    ">       * __c.__ Concatenate the list of source nodes and target nodes into a unique list (e.g. [1,2,3,4]). This is the list of _stubs_ (see the [Wikipedia page](https://en.wikipedia.org/wiki/Configuration_model) for the definition of stub).\n",
    ">       * __d.__ Shuffle the list of stubs. Build a set of edges (tuples), by connecting each element in the list of shuffled stubs with the following element (e.g. [4,1,2,3] --> [(4,1),(2,3)])\n",
    ">       * __e.__ Remove all the original network edges from your network. Add all the new _shuffled_ edges you created in step __d.__\n"
   ],
   "cell_type": "markdown",
   "metadata": {}
  },
  {
   "cell_type": "code",
   "execution_count": 10,
   "metadata": {},
   "outputs": [],
   "source": [
    "import random\n",
    "\n",
    "def compute_configuration_model(graph):\n",
    "    configuration_model = graph.copy()\n",
    "    sources = [s for s,t in karate_configuration.edges()]\n",
    "    targets = [t for s,t in karate_configuration.edges()]\n",
    "    stubs = sources + targets\n",
    "\n",
    "    random.shuffle(stubs)\n",
    "    random_edges = []\n",
    "    while len(stubs) >= 2:\n",
    "        random_edges.append((stubs.pop(), stubs.pop()))\n",
    "\n",
    "    configuration_model.remove_edges_from(list(configuration_model.edges()))\n",
    "    configuration_model.add_edges_from(random_edges)\n",
    "\n",
    "    return configuration_model"
   ]
  },
  {
   "cell_type": "code",
   "execution_count": 11,
   "metadata": {},
   "outputs": [],
   "source": [
    "import random\n",
    "\n",
    "karate_configuration = karate_G.copy()\n",
    "sources = [s for s,t in karate_configuration.edges()]\n",
    "targets = [t for s,t in karate_configuration.edges()]\n",
    "stubs = sources + targets\n",
    "\n",
    "random.shuffle(stubs)\n",
    "random_edges = []\n",
    "while len(stubs) >= 2:\n",
    "    random_edges.append((stubs.pop(), stubs.pop()))\n",
    "\n",
    "karate_configuration.remove_edges_from(list(karate_configuration.edges()))\n",
    "karate_configuration.add_edges_from(random_edges)"
   ]
  },
  {
   "source": [
    "> 6. Is the degree of the nodes in your original and the configuration model network the same? Why? . __Note 1:__ With this algorithm you may obtain some self-loops. Note that [a self-loop should add two to the degree](https://en.wikipedia.org/wiki/Loop_(graph_theory)#:~:text=For%20an%20undirected%20graph%2C%20the,adds%20two%20to%20the%20degree.&text=In%20other%20words%2C%20a%20vertex,not%20one%2C%20to%20the%20degree.). __Note 2:__ With this algorithm, you could also obtain repeated edges between the same two nodes. Only NetworkX [MultiGraph](https://networkx.org/documentation/stable/reference/classes/multigraph.html) allow for repeated edges, while regular [Graph](https://networkx.org/documentation/stable/reference/classes/graph.html?highlight=graph%20undirected#networkx.Graph) do not, meaning you will not be able to account for multi-edges when you have a regular Graph. (_Optional_: if you want to implement a configuration model without self-loops and multi-edges, you can try out the [double_edge_swap](https://networkx.org/documentation/stable//reference/algorithms/generated/networkx.algorithms.swap.double_edge_swap.html) algorithm)\n"
   ],
   "cell_type": "markdown",
   "metadata": {}
  },
  {
   "cell_type": "code",
   "execution_count": 12,
   "metadata": {},
   "outputs": [
    {
     "output_type": "execute_result",
     "data": {
      "text/plain": [
       "DegreeView({0: 16, 1: 9, 2: 10, 3: 6, 4: 3, 5: 4, 6: 4, 7: 4, 8: 5, 9: 2, 10: 3, 11: 1, 12: 2, 13: 5, 14: 2, 15: 2, 16: 2, 17: 2, 18: 2, 19: 3, 20: 2, 21: 2, 22: 2, 23: 5, 24: 3, 25: 3, 26: 2, 27: 4, 28: 3, 29: 4, 30: 4, 31: 6, 32: 12, 33: 17})"
      ]
     },
     "metadata": {},
     "execution_count": 12
    }
   ],
   "source": [
    "karate_G.degree"
   ]
  },
  {
   "cell_type": "code",
   "execution_count": 13,
   "metadata": {},
   "outputs": [
    {
     "output_type": "execute_result",
     "data": {
      "text/plain": [
       "DegreeView({0: 15, 1: 9, 2: 8, 3: 5, 4: 3, 5: 4, 6: 4, 7: 4, 8: 5, 9: 2, 10: 3, 11: 1, 12: 2, 13: 5, 14: 2, 15: 2, 16: 2, 17: 2, 18: 2, 19: 3, 20: 2, 21: 2, 22: 1, 23: 5, 24: 3, 25: 3, 26: 2, 27: 4, 28: 3, 29: 4, 30: 4, 31: 6, 32: 9, 33: 15})"
      ]
     },
     "metadata": {},
     "execution_count": 13
    }
   ],
   "source": [
    "karate_configuration.degree"
   ]
  },
  {
   "cell_type": "code",
   "execution_count": 14,
   "metadata": {},
   "outputs": [
    {
     "output_type": "execute_result",
     "data": {
      "text/plain": [
       "156"
      ]
     },
     "metadata": {},
     "execution_count": 14
    }
   ],
   "source": [
    "sum(dict(karate_G.degree).values())"
   ]
  },
  {
   "cell_type": "code",
   "execution_count": 15,
   "metadata": {},
   "outputs": [
    {
     "output_type": "execute_result",
     "data": {
      "text/plain": [
       "146"
      ]
     },
     "metadata": {},
     "execution_count": 15
    }
   ],
   "source": [
    "sum(dict(karate_configuration.degree).values())"
   ]
  },
  {
   "source": [
    "They are note the same. This makes sense, as the configuration model "
   ],
   "cell_type": "markdown",
   "metadata": {}
  },
  {
   "source": [
    "> 7. Create $1000$ randomized version of the Karate Club network using the algorithm you wrote in step 5. For each of them, compute the modularity of the \"club\" split and store it in a list.\n"
   ],
   "cell_type": "markdown",
   "metadata": {}
  },
  {
   "cell_type": "code",
   "execution_count": 37,
   "metadata": {},
   "outputs": [],
   "source": [
    "N = 1000\n",
    "\n",
    "partitions = nx.get_node_attributes(karate_G, 'club')\n",
    "partition_labels = set(partitions.values())\n",
    "communities = {label: set() for label in partition_labels}\n",
    "for n, p in partitions.items():\n",
    "    communities[p].add(n)\n",
    "\n",
    "modularities = []\n",
    "\n",
    "for _ in range(N):\n",
    "    configuration_model = compute_configuration_model(karate_G)\n",
    "    modularities.append(calculate_modularity(configuration_model, communities.values()))"
   ]
  },
  {
   "source": [
    "> 8. Compute the average and standard deviation of the modularity for the configuration model.\n"
   ],
   "cell_type": "markdown",
   "metadata": {}
  },
  {
   "cell_type": "code",
   "execution_count": 38,
   "metadata": {},
   "outputs": [
    {
     "output_type": "execute_result",
     "data": {
      "text/plain": [
       "-0.00032107803892627695"
      ]
     },
     "metadata": {},
     "execution_count": 38
    }
   ],
   "source": [
    "np.mean(modularities)"
   ]
  },
  {
   "cell_type": "code",
   "execution_count": 39,
   "metadata": {},
   "outputs": [
    {
     "output_type": "execute_result",
     "data": {
      "text/plain": [
       "0.054928744486309966"
      ]
     },
     "metadata": {},
     "execution_count": 39
    }
   ],
   "source": [
    "np.std(modularities)"
   ]
  },
  {
   "source": [
    "> 9. Plot the distribution of the configuration model modularity. Plot the actual modularity of the club split as a vertical line (use [axvline](https://matplotlib.org/stable/api/_as_gen/matplotlib.pyplot.axvline.html)). \n"
   ],
   "cell_type": "markdown",
   "metadata": {}
  },
  {
   "cell_type": "code",
   "execution_count": 48,
   "metadata": {},
   "outputs": [
    {
     "output_type": "display_data",
     "data": {
      "text/plain": "<Figure size 1080x360 with 1 Axes>",
      "image/svg+xml": "<?xml version=\"1.0\" encoding=\"utf-8\" standalone=\"no\"?>\n<!DOCTYPE svg PUBLIC \"-//W3C//DTD SVG 1.1//EN\"\n  \"http://www.w3.org/Graphics/SVG/1.1/DTD/svg11.dtd\">\n<!-- Created with matplotlib (https://matplotlib.org/) -->\n<svg height=\"331.674375pt\" version=\"1.1\" viewBox=\"0 0 878.440625 331.674375\" width=\"878.440625pt\" xmlns=\"http://www.w3.org/2000/svg\" xmlns:xlink=\"http://www.w3.org/1999/xlink\">\n <metadata>\n  <rdf:RDF xmlns:cc=\"http://creativecommons.org/ns#\" xmlns:dc=\"http://purl.org/dc/elements/1.1/\" xmlns:rdf=\"http://www.w3.org/1999/02/22-rdf-syntax-ns#\">\n   <cc:Work>\n    <dc:type rdf:resource=\"http://purl.org/dc/dcmitype/StillImage\"/>\n    <dc:date>2021-03-28T11:54:40.521185</dc:date>\n    <dc:format>image/svg+xml</dc:format>\n    <dc:creator>\n     <cc:Agent>\n      <dc:title>Matplotlib v3.3.4, https://matplotlib.org/</dc:title>\n     </cc:Agent>\n    </dc:creator>\n   </cc:Work>\n  </rdf:RDF>\n </metadata>\n <defs>\n  <style type=\"text/css\">*{stroke-linecap:butt;stroke-linejoin:round;}</style>\n </defs>\n <g id=\"figure_1\">\n  <g id=\"patch_1\">\n   <path d=\"M 0 331.674375 \nL 878.440625 331.674375 \nL 878.440625 0 \nL 0 0 \nz\n\" style=\"fill:none;\"/>\n  </g>\n  <g id=\"axes_1\">\n   <g id=\"patch_2\">\n    <path d=\"M 34.240625 294.118125 \nL 871.240625 294.118125 \nL 871.240625 22.318125 \nL 34.240625 22.318125 \nz\n\" style=\"fill:#ffffff;\"/>\n   </g>\n   <g id=\"patch_3\">\n    <path clip-path=\"url(#pf2cdc1df67)\" d=\"M 72.28608 294.118125 \nL 79.210429 294.118125 \nL 79.210429 294.118125 \nL 72.28608 294.118125 \nz\n\" style=\"fill:#1f77b4;\"/>\n   </g>\n   <g id=\"patch_4\">\n    <path clip-path=\"url(#pf2cdc1df67)\" d=\"M 79.979801 294.118125 \nL 86.904151 294.118125 \nL 86.904151 294.118125 \nL 79.979801 294.118125 \nz\n\" style=\"fill:#1f77b4;\"/>\n   </g>\n   <g id=\"patch_5\">\n    <path clip-path=\"url(#pf2cdc1df67)\" d=\"M 87.673523 294.118125 \nL 94.597873 294.118125 \nL 94.597873 294.118125 \nL 87.673523 294.118125 \nz\n\" style=\"fill:#1f77b4;\"/>\n   </g>\n   <g id=\"patch_6\">\n    <path clip-path=\"url(#pf2cdc1df67)\" d=\"M 95.367245 294.118125 \nL 102.291595 294.118125 \nL 102.291595 294.118125 \nL 95.367245 294.118125 \nz\n\" style=\"fill:#1f77b4;\"/>\n   </g>\n   <g id=\"patch_7\">\n    <path clip-path=\"url(#pf2cdc1df67)\" d=\"M 103.060967 294.118125 \nL 109.985317 294.118125 \nL 109.985317 294.118125 \nL 103.060967 294.118125 \nz\n\" style=\"fill:#1f77b4;\"/>\n   </g>\n   <g id=\"patch_8\">\n    <path clip-path=\"url(#pf2cdc1df67)\" d=\"M 110.754689 294.118125 \nL 117.679038 294.118125 \nL 117.679038 294.118125 \nL 110.754689 294.118125 \nz\n\" style=\"fill:#1f77b4;\"/>\n   </g>\n   <g id=\"patch_9\">\n    <path clip-path=\"url(#pf2cdc1df67)\" d=\"M 118.448411 294.118125 \nL 125.37276 294.118125 \nL 125.37276 294.118125 \nL 118.448411 294.118125 \nz\n\" style=\"fill:#1f77b4;\"/>\n   </g>\n   <g id=\"patch_10\">\n    <path clip-path=\"url(#pf2cdc1df67)\" d=\"M 126.142132 294.118125 \nL 133.066482 294.118125 \nL 133.066482 294.118125 \nL 126.142132 294.118125 \nz\n\" style=\"fill:#1f77b4;\"/>\n   </g>\n   <g id=\"patch_11\">\n    <path clip-path=\"url(#pf2cdc1df67)\" d=\"M 133.835854 294.118125 \nL 140.760204 294.118125 \nL 140.760204 294.118125 \nL 133.835854 294.118125 \nz\n\" style=\"fill:#1f77b4;\"/>\n   </g>\n   <g id=\"patch_12\">\n    <path clip-path=\"url(#pf2cdc1df67)\" d=\"M 141.529576 294.118125 \nL 148.453926 294.118125 \nL 148.453926 294.118125 \nL 141.529576 294.118125 \nz\n\" style=\"fill:#1f77b4;\"/>\n   </g>\n   <g id=\"patch_13\">\n    <path clip-path=\"url(#pf2cdc1df67)\" d=\"M 149.223298 294.118125 \nL 156.147648 294.118125 \nL 156.147648 294.118125 \nL 149.223298 294.118125 \nz\n\" style=\"fill:#1f77b4;\"/>\n   </g>\n   <g id=\"patch_14\">\n    <path clip-path=\"url(#pf2cdc1df67)\" d=\"M 156.91702 294.118125 \nL 163.84137 294.118125 \nL 163.84137 294.118125 \nL 156.91702 294.118125 \nz\n\" style=\"fill:#1f77b4;\"/>\n   </g>\n   <g id=\"patch_15\">\n    <path clip-path=\"url(#pf2cdc1df67)\" d=\"M 164.610742 294.118125 \nL 171.535091 294.118125 \nL 171.535091 294.118125 \nL 164.610742 294.118125 \nz\n\" style=\"fill:#1f77b4;\"/>\n   </g>\n   <g id=\"patch_16\">\n    <path clip-path=\"url(#pf2cdc1df67)\" d=\"M 172.304464 294.118125 \nL 179.228813 294.118125 \nL 179.228813 294.118125 \nL 172.304464 294.118125 \nz\n\" style=\"fill:#1f77b4;\"/>\n   </g>\n   <g id=\"patch_17\">\n    <path clip-path=\"url(#pf2cdc1df67)\" d=\"M 179.998185 294.118125 \nL 186.922535 294.118125 \nL 186.922535 294.118125 \nL 179.998185 294.118125 \nz\n\" style=\"fill:#1f77b4;\"/>\n   </g>\n   <g id=\"patch_18\">\n    <path clip-path=\"url(#pf2cdc1df67)\" d=\"M 187.691907 294.118125 \nL 194.616257 294.118125 \nL 194.616257 294.118125 \nL 187.691907 294.118125 \nz\n\" style=\"fill:#1f77b4;\"/>\n   </g>\n   <g id=\"patch_19\">\n    <path clip-path=\"url(#pf2cdc1df67)\" d=\"M 195.385629 294.118125 \nL 202.309979 294.118125 \nL 202.309979 294.118125 \nL 195.385629 294.118125 \nz\n\" style=\"fill:#1f77b4;\"/>\n   </g>\n   <g id=\"patch_20\">\n    <path clip-path=\"url(#pf2cdc1df67)\" d=\"M 203.079351 294.118125 \nL 210.003701 294.118125 \nL 210.003701 294.118125 \nL 203.079351 294.118125 \nz\n\" style=\"fill:#1f77b4;\"/>\n   </g>\n   <g id=\"patch_21\">\n    <path clip-path=\"url(#pf2cdc1df67)\" d=\"M 210.773073 294.118125 \nL 217.697422 294.118125 \nL 217.697422 294.118125 \nL 210.773073 294.118125 \nz\n\" style=\"fill:#1f77b4;\"/>\n   </g>\n   <g id=\"patch_22\">\n    <path clip-path=\"url(#pf2cdc1df67)\" d=\"M 218.466795 294.118125 \nL 225.391144 294.118125 \nL 225.391144 294.118125 \nL 218.466795 294.118125 \nz\n\" style=\"fill:#1f77b4;\"/>\n   </g>\n   <g id=\"patch_23\">\n    <path clip-path=\"url(#pf2cdc1df67)\" d=\"M 226.160517 294.118125 \nL 233.084866 294.118125 \nL 233.084866 294.118125 \nL 226.160517 294.118125 \nz\n\" style=\"fill:#1f77b4;\"/>\n   </g>\n   <g id=\"patch_24\">\n    <path clip-path=\"url(#pf2cdc1df67)\" d=\"M 233.854238 294.118125 \nL 240.778588 294.118125 \nL 240.778588 294.118125 \nL 233.854238 294.118125 \nz\n\" style=\"fill:#1f77b4;\"/>\n   </g>\n   <g id=\"patch_25\">\n    <path clip-path=\"url(#pf2cdc1df67)\" d=\"M 241.54796 294.118125 \nL 248.47231 294.118125 \nL 248.47231 294.118125 \nL 241.54796 294.118125 \nz\n\" style=\"fill:#1f77b4;\"/>\n   </g>\n   <g id=\"patch_26\">\n    <path clip-path=\"url(#pf2cdc1df67)\" d=\"M 249.241682 294.118125 \nL 256.166032 294.118125 \nL 256.166032 294.118125 \nL 249.241682 294.118125 \nz\n\" style=\"fill:#1f77b4;\"/>\n   </g>\n   <g id=\"patch_27\">\n    <path clip-path=\"url(#pf2cdc1df67)\" d=\"M 256.935404 294.118125 \nL 263.859754 294.118125 \nL 263.859754 294.118125 \nL 256.935404 294.118125 \nz\n\" style=\"fill:#1f77b4;\"/>\n   </g>\n   <g id=\"patch_28\">\n    <path clip-path=\"url(#pf2cdc1df67)\" d=\"M 264.629126 294.118125 \nL 271.553475 294.118125 \nL 271.553475 294.118125 \nL 264.629126 294.118125 \nz\n\" style=\"fill:#1f77b4;\"/>\n   </g>\n   <g id=\"patch_29\">\n    <path clip-path=\"url(#pf2cdc1df67)\" d=\"M 272.322848 294.118125 \nL 279.247197 294.118125 \nL 279.247197 294.118125 \nL 272.322848 294.118125 \nz\n\" style=\"fill:#1f77b4;\"/>\n   </g>\n   <g id=\"patch_30\">\n    <path clip-path=\"url(#pf2cdc1df67)\" d=\"M 280.016569 294.118125 \nL 286.940919 294.118125 \nL 286.940919 294.118125 \nL 280.016569 294.118125 \nz\n\" style=\"fill:#1f77b4;\"/>\n   </g>\n   <g id=\"patch_31\">\n    <path clip-path=\"url(#pf2cdc1df67)\" d=\"M 287.710291 294.118125 \nL 294.634641 294.118125 \nL 294.634641 294.118125 \nL 287.710291 294.118125 \nz\n\" style=\"fill:#1f77b4;\"/>\n   </g>\n   <g id=\"patch_32\">\n    <path clip-path=\"url(#pf2cdc1df67)\" d=\"M 295.404013 294.118125 \nL 302.328363 294.118125 \nL 302.328363 294.118125 \nL 295.404013 294.118125 \nz\n\" style=\"fill:#1f77b4;\"/>\n   </g>\n   <g id=\"patch_33\">\n    <path clip-path=\"url(#pf2cdc1df67)\" d=\"M 303.097735 294.118125 \nL 310.022085 294.118125 \nL 310.022085 294.118125 \nL 303.097735 294.118125 \nz\n\" style=\"fill:#1f77b4;\"/>\n   </g>\n   <g id=\"patch_34\">\n    <path clip-path=\"url(#pf2cdc1df67)\" d=\"M 310.791457 294.118125 \nL 317.715807 294.118125 \nL 317.715807 294.118125 \nL 310.791457 294.118125 \nz\n\" style=\"fill:#1f77b4;\"/>\n   </g>\n   <g id=\"patch_35\">\n    <path clip-path=\"url(#pf2cdc1df67)\" d=\"M 318.485179 294.118125 \nL 325.409528 294.118125 \nL 325.409528 294.118125 \nL 318.485179 294.118125 \nz\n\" style=\"fill:#1f77b4;\"/>\n   </g>\n   <g id=\"patch_36\">\n    <path clip-path=\"url(#pf2cdc1df67)\" d=\"M 326.178901 294.118125 \nL 333.10325 294.118125 \nL 333.10325 294.118125 \nL 326.178901 294.118125 \nz\n\" style=\"fill:#1f77b4;\"/>\n   </g>\n   <g id=\"patch_37\">\n    <path clip-path=\"url(#pf2cdc1df67)\" d=\"M 333.872622 294.118125 \nL 340.796972 294.118125 \nL 340.796972 294.118125 \nL 333.872622 294.118125 \nz\n\" style=\"fill:#1f77b4;\"/>\n   </g>\n   <g id=\"patch_38\">\n    <path clip-path=\"url(#pf2cdc1df67)\" d=\"M 341.566344 294.118125 \nL 348.490694 294.118125 \nL 348.490694 294.118125 \nL 341.566344 294.118125 \nz\n\" style=\"fill:#1f77b4;\"/>\n   </g>\n   <g id=\"patch_39\">\n    <path clip-path=\"url(#pf2cdc1df67)\" d=\"M 349.260066 294.118125 \nL 356.184416 294.118125 \nL 356.184416 294.118125 \nL 349.260066 294.118125 \nz\n\" style=\"fill:#1f77b4;\"/>\n   </g>\n   <g id=\"patch_40\">\n    <path clip-path=\"url(#pf2cdc1df67)\" d=\"M 356.953788 294.118125 \nL 363.878138 294.118125 \nL 363.878138 294.118125 \nL 356.953788 294.118125 \nz\n\" style=\"fill:#1f77b4;\"/>\n   </g>\n   <g id=\"patch_41\">\n    <path clip-path=\"url(#pf2cdc1df67)\" d=\"M 364.64751 294.118125 \nL 371.571859 294.118125 \nL 371.571859 292.539728 \nL 364.64751 292.539728 \nz\n\" style=\"fill:#1f77b4;\"/>\n   </g>\n   <g id=\"patch_42\">\n    <path clip-path=\"url(#pf2cdc1df67)\" d=\"M 372.341232 294.118125 \nL 379.265581 294.118125 \nL 379.265581 294.118125 \nL 372.341232 294.118125 \nz\n\" style=\"fill:#1f77b4;\"/>\n   </g>\n   <g id=\"patch_43\">\n    <path clip-path=\"url(#pf2cdc1df67)\" d=\"M 380.034954 294.118125 \nL 386.959303 294.118125 \nL 386.959303 292.539728 \nL 380.034954 292.539728 \nz\n\" style=\"fill:#1f77b4;\"/>\n   </g>\n   <g id=\"patch_44\">\n    <path clip-path=\"url(#pf2cdc1df67)\" d=\"M 387.728675 294.118125 \nL 394.653025 294.118125 \nL 394.653025 292.539728 \nL 387.728675 292.539728 \nz\n\" style=\"fill:#1f77b4;\"/>\n   </g>\n   <g id=\"patch_45\">\n    <path clip-path=\"url(#pf2cdc1df67)\" d=\"M 395.422397 294.118125 \nL 402.346747 294.118125 \nL 402.346747 287.804536 \nL 395.422397 287.804536 \nz\n\" style=\"fill:#1f77b4;\"/>\n   </g>\n   <g id=\"patch_46\">\n    <path clip-path=\"url(#pf2cdc1df67)\" d=\"M 403.116119 294.118125 \nL 410.040469 294.118125 \nL 410.040469 273.598961 \nL 403.116119 273.598961 \nz\n\" style=\"fill:#1f77b4;\"/>\n   </g>\n   <g id=\"patch_47\">\n    <path clip-path=\"url(#pf2cdc1df67)\" d=\"M 410.809841 294.118125 \nL 417.734191 294.118125 \nL 417.734191 238.874223 \nL 410.809841 238.874223 \nz\n\" style=\"fill:#1f77b4;\"/>\n   </g>\n   <g id=\"patch_48\">\n    <path clip-path=\"url(#pf2cdc1df67)\" d=\"M 418.503563 294.118125 \nL 425.427912 294.118125 \nL 425.427912 223.09025 \nL 418.503563 223.09025 \nz\n\" style=\"fill:#1f77b4;\"/>\n   </g>\n   <g id=\"patch_49\">\n    <path clip-path=\"url(#pf2cdc1df67)\" d=\"M 426.197285 294.118125 \nL 433.121634 294.118125 \nL 433.121634 161.532759 \nL 426.197285 161.532759 \nz\n\" style=\"fill:#1f77b4;\"/>\n   </g>\n   <g id=\"patch_50\">\n    <path clip-path=\"url(#pf2cdc1df67)\" d=\"M 433.891006 294.118125 \nL 440.815356 294.118125 \nL 440.815356 123.651226 \nL 433.891006 123.651226 \nz\n\" style=\"fill:#1f77b4;\"/>\n   </g>\n   <g id=\"patch_51\">\n    <path clip-path=\"url(#pf2cdc1df67)\" d=\"M 441.584728 294.118125 \nL 448.509078 294.118125 \nL 448.509078 96.818473 \nL 441.584728 96.818473 \nz\n\" style=\"fill:#1f77b4;\"/>\n   </g>\n   <g id=\"patch_52\">\n    <path clip-path=\"url(#pf2cdc1df67)\" d=\"M 449.27845 294.118125 \nL 456.2028 294.118125 \nL 456.2028 35.260982 \nL 449.27845 35.260982 \nz\n\" style=\"fill:#1f77b4;\"/>\n   </g>\n   <g id=\"patch_53\">\n    <path clip-path=\"url(#pf2cdc1df67)\" d=\"M 456.972172 294.118125 \nL 463.896522 294.118125 \nL 463.896522 82.612899 \nL 456.972172 82.612899 \nz\n\" style=\"fill:#1f77b4;\"/>\n   </g>\n   <g id=\"patch_54\">\n    <path clip-path=\"url(#pf2cdc1df67)\" d=\"M 464.665894 294.118125 \nL 471.590244 294.118125 \nL 471.590244 148.905581 \nL 464.665894 148.905581 \nz\n\" style=\"fill:#1f77b4;\"/>\n   </g>\n   <g id=\"patch_55\">\n    <path clip-path=\"url(#pf2cdc1df67)\" d=\"M 472.359616 294.118125 \nL 479.283965 294.118125 \nL 479.283965 155.21917 \nL 472.359616 155.21917 \nz\n\" style=\"fill:#1f77b4;\"/>\n   </g>\n   <g id=\"patch_56\">\n    <path clip-path=\"url(#pf2cdc1df67)\" d=\"M 480.053338 294.118125 \nL 486.977687 294.118125 \nL 486.977687 193.100703 \nL 480.053338 193.100703 \nz\n\" style=\"fill:#1f77b4;\"/>\n   </g>\n   <g id=\"patch_57\">\n    <path clip-path=\"url(#pf2cdc1df67)\" d=\"M 487.747059 294.118125 \nL 494.671409 294.118125 \nL 494.671409 256.236592 \nL 487.747059 256.236592 \nz\n\" style=\"fill:#1f77b4;\"/>\n   </g>\n   <g id=\"patch_58\">\n    <path clip-path=\"url(#pf2cdc1df67)\" d=\"M 495.440781 294.118125 \nL 502.365131 294.118125 \nL 502.365131 278.334153 \nL 495.440781 278.334153 \nz\n\" style=\"fill:#1f77b4;\"/>\n   </g>\n   <g id=\"patch_59\">\n    <path clip-path=\"url(#pf2cdc1df67)\" d=\"M 503.134503 294.118125 \nL 510.058853 294.118125 \nL 510.058853 284.647742 \nL 503.134503 284.647742 \nz\n\" style=\"fill:#1f77b4;\"/>\n   </g>\n   <g id=\"patch_60\">\n    <path clip-path=\"url(#pf2cdc1df67)\" d=\"M 510.828225 294.118125 \nL 517.752575 294.118125 \nL 517.752575 292.539728 \nL 510.828225 292.539728 \nz\n\" style=\"fill:#1f77b4;\"/>\n   </g>\n   <g id=\"patch_61\">\n    <path clip-path=\"url(#pf2cdc1df67)\" d=\"M 518.521947 294.118125 \nL 525.446296 294.118125 \nL 525.446296 294.118125 \nL 518.521947 294.118125 \nz\n\" style=\"fill:#1f77b4;\"/>\n   </g>\n   <g id=\"patch_62\">\n    <path clip-path=\"url(#pf2cdc1df67)\" d=\"M 526.215669 294.118125 \nL 533.140018 294.118125 \nL 533.140018 294.118125 \nL 526.215669 294.118125 \nz\n\" style=\"fill:#1f77b4;\"/>\n   </g>\n   <g id=\"patch_63\">\n    <path clip-path=\"url(#pf2cdc1df67)\" d=\"M 533.909391 294.118125 \nL 540.83374 294.118125 \nL 540.83374 294.118125 \nL 533.909391 294.118125 \nz\n\" style=\"fill:#1f77b4;\"/>\n   </g>\n   <g id=\"patch_64\">\n    <path clip-path=\"url(#pf2cdc1df67)\" d=\"M 541.603112 294.118125 \nL 548.527462 294.118125 \nL 548.527462 294.118125 \nL 541.603112 294.118125 \nz\n\" style=\"fill:#1f77b4;\"/>\n   </g>\n   <g id=\"patch_65\">\n    <path clip-path=\"url(#pf2cdc1df67)\" d=\"M 549.296834 294.118125 \nL 556.221184 294.118125 \nL 556.221184 294.118125 \nL 549.296834 294.118125 \nz\n\" style=\"fill:#1f77b4;\"/>\n   </g>\n   <g id=\"patch_66\">\n    <path clip-path=\"url(#pf2cdc1df67)\" d=\"M 556.990556 294.118125 \nL 563.914906 294.118125 \nL 563.914906 294.118125 \nL 556.990556 294.118125 \nz\n\" style=\"fill:#1f77b4;\"/>\n   </g>\n   <g id=\"patch_67\">\n    <path clip-path=\"url(#pf2cdc1df67)\" d=\"M 564.684278 294.118125 \nL 571.608628 294.118125 \nL 571.608628 294.118125 \nL 564.684278 294.118125 \nz\n\" style=\"fill:#1f77b4;\"/>\n   </g>\n   <g id=\"patch_68\">\n    <path clip-path=\"url(#pf2cdc1df67)\" d=\"M 572.378 294.118125 \nL 579.302349 294.118125 \nL 579.302349 294.118125 \nL 572.378 294.118125 \nz\n\" style=\"fill:#1f77b4;\"/>\n   </g>\n   <g id=\"patch_69\">\n    <path clip-path=\"url(#pf2cdc1df67)\" d=\"M 580.071722 294.118125 \nL 586.996071 294.118125 \nL 586.996071 294.118125 \nL 580.071722 294.118125 \nz\n\" style=\"fill:#1f77b4;\"/>\n   </g>\n   <g id=\"patch_70\">\n    <path clip-path=\"url(#pf2cdc1df67)\" d=\"M 587.765443 294.118125 \nL 594.689793 294.118125 \nL 594.689793 294.118125 \nL 587.765443 294.118125 \nz\n\" style=\"fill:#1f77b4;\"/>\n   </g>\n   <g id=\"patch_71\">\n    <path clip-path=\"url(#pf2cdc1df67)\" d=\"M 595.459165 294.118125 \nL 602.383515 294.118125 \nL 602.383515 294.118125 \nL 595.459165 294.118125 \nz\n\" style=\"fill:#1f77b4;\"/>\n   </g>\n   <g id=\"patch_72\">\n    <path clip-path=\"url(#pf2cdc1df67)\" d=\"M 603.152887 294.118125 \nL 610.077237 294.118125 \nL 610.077237 294.118125 \nL 603.152887 294.118125 \nz\n\" style=\"fill:#1f77b4;\"/>\n   </g>\n   <g id=\"patch_73\">\n    <path clip-path=\"url(#pf2cdc1df67)\" d=\"M 610.846609 294.118125 \nL 617.770959 294.118125 \nL 617.770959 294.118125 \nL 610.846609 294.118125 \nz\n\" style=\"fill:#1f77b4;\"/>\n   </g>\n   <g id=\"patch_74\">\n    <path clip-path=\"url(#pf2cdc1df67)\" d=\"M 618.540331 294.118125 \nL 625.464681 294.118125 \nL 625.464681 294.118125 \nL 618.540331 294.118125 \nz\n\" style=\"fill:#1f77b4;\"/>\n   </g>\n   <g id=\"patch_75\">\n    <path clip-path=\"url(#pf2cdc1df67)\" d=\"M 626.234053 294.118125 \nL 633.158402 294.118125 \nL 633.158402 294.118125 \nL 626.234053 294.118125 \nz\n\" style=\"fill:#1f77b4;\"/>\n   </g>\n   <g id=\"patch_76\">\n    <path clip-path=\"url(#pf2cdc1df67)\" d=\"M 633.927775 294.118125 \nL 640.852124 294.118125 \nL 640.852124 294.118125 \nL 633.927775 294.118125 \nz\n\" style=\"fill:#1f77b4;\"/>\n   </g>\n   <g id=\"patch_77\">\n    <path clip-path=\"url(#pf2cdc1df67)\" d=\"M 641.621496 294.118125 \nL 648.545846 294.118125 \nL 648.545846 294.118125 \nL 641.621496 294.118125 \nz\n\" style=\"fill:#1f77b4;\"/>\n   </g>\n   <g id=\"patch_78\">\n    <path clip-path=\"url(#pf2cdc1df67)\" d=\"M 649.315218 294.118125 \nL 656.239568 294.118125 \nL 656.239568 294.118125 \nL 649.315218 294.118125 \nz\n\" style=\"fill:#1f77b4;\"/>\n   </g>\n   <g id=\"patch_79\">\n    <path clip-path=\"url(#pf2cdc1df67)\" d=\"M 657.00894 294.118125 \nL 663.93329 294.118125 \nL 663.93329 294.118125 \nL 657.00894 294.118125 \nz\n\" style=\"fill:#1f77b4;\"/>\n   </g>\n   <g id=\"patch_80\">\n    <path clip-path=\"url(#pf2cdc1df67)\" d=\"M 664.702662 294.118125 \nL 671.627012 294.118125 \nL 671.627012 294.118125 \nL 664.702662 294.118125 \nz\n\" style=\"fill:#1f77b4;\"/>\n   </g>\n   <g id=\"patch_81\">\n    <path clip-path=\"url(#pf2cdc1df67)\" d=\"M 672.396384 294.118125 \nL 679.320733 294.118125 \nL 679.320733 294.118125 \nL 672.396384 294.118125 \nz\n\" style=\"fill:#1f77b4;\"/>\n   </g>\n   <g id=\"patch_82\">\n    <path clip-path=\"url(#pf2cdc1df67)\" d=\"M 680.090106 294.118125 \nL 687.014455 294.118125 \nL 687.014455 294.118125 \nL 680.090106 294.118125 \nz\n\" style=\"fill:#1f77b4;\"/>\n   </g>\n   <g id=\"patch_83\">\n    <path clip-path=\"url(#pf2cdc1df67)\" d=\"M 687.783828 294.118125 \nL 694.708177 294.118125 \nL 694.708177 294.118125 \nL 687.783828 294.118125 \nz\n\" style=\"fill:#1f77b4;\"/>\n   </g>\n   <g id=\"patch_84\">\n    <path clip-path=\"url(#pf2cdc1df67)\" d=\"M 695.477549 294.118125 \nL 702.401899 294.118125 \nL 702.401899 294.118125 \nL 695.477549 294.118125 \nz\n\" style=\"fill:#1f77b4;\"/>\n   </g>\n   <g id=\"patch_85\">\n    <path clip-path=\"url(#pf2cdc1df67)\" d=\"M 703.171271 294.118125 \nL 710.095621 294.118125 \nL 710.095621 294.118125 \nL 703.171271 294.118125 \nz\n\" style=\"fill:#1f77b4;\"/>\n   </g>\n   <g id=\"patch_86\">\n    <path clip-path=\"url(#pf2cdc1df67)\" d=\"M 710.864993 294.118125 \nL 717.789343 294.118125 \nL 717.789343 294.118125 \nL 710.864993 294.118125 \nz\n\" style=\"fill:#1f77b4;\"/>\n   </g>\n   <g id=\"patch_87\">\n    <path clip-path=\"url(#pf2cdc1df67)\" d=\"M 718.558715 294.118125 \nL 725.483065 294.118125 \nL 725.483065 294.118125 \nL 718.558715 294.118125 \nz\n\" style=\"fill:#1f77b4;\"/>\n   </g>\n   <g id=\"patch_88\">\n    <path clip-path=\"url(#pf2cdc1df67)\" d=\"M 726.252437 294.118125 \nL 733.176786 294.118125 \nL 733.176786 294.118125 \nL 726.252437 294.118125 \nz\n\" style=\"fill:#1f77b4;\"/>\n   </g>\n   <g id=\"patch_89\">\n    <path clip-path=\"url(#pf2cdc1df67)\" d=\"M 733.946159 294.118125 \nL 740.870508 294.118125 \nL 740.870508 294.118125 \nL 733.946159 294.118125 \nz\n\" style=\"fill:#1f77b4;\"/>\n   </g>\n   <g id=\"patch_90\">\n    <path clip-path=\"url(#pf2cdc1df67)\" d=\"M 741.63988 294.118125 \nL 748.56423 294.118125 \nL 748.56423 294.118125 \nL 741.63988 294.118125 \nz\n\" style=\"fill:#1f77b4;\"/>\n   </g>\n   <g id=\"patch_91\">\n    <path clip-path=\"url(#pf2cdc1df67)\" d=\"M 749.333602 294.118125 \nL 756.257952 294.118125 \nL 756.257952 294.118125 \nL 749.333602 294.118125 \nz\n\" style=\"fill:#1f77b4;\"/>\n   </g>\n   <g id=\"patch_92\">\n    <path clip-path=\"url(#pf2cdc1df67)\" d=\"M 757.027324 294.118125 \nL 763.951674 294.118125 \nL 763.951674 294.118125 \nL 757.027324 294.118125 \nz\n\" style=\"fill:#1f77b4;\"/>\n   </g>\n   <g id=\"patch_93\">\n    <path clip-path=\"url(#pf2cdc1df67)\" d=\"M 764.721046 294.118125 \nL 771.645396 294.118125 \nL 771.645396 294.118125 \nL 764.721046 294.118125 \nz\n\" style=\"fill:#1f77b4;\"/>\n   </g>\n   <g id=\"patch_94\">\n    <path clip-path=\"url(#pf2cdc1df67)\" d=\"M 772.414768 294.118125 \nL 779.339118 294.118125 \nL 779.339118 294.118125 \nL 772.414768 294.118125 \nz\n\" style=\"fill:#1f77b4;\"/>\n   </g>\n   <g id=\"patch_95\">\n    <path clip-path=\"url(#pf2cdc1df67)\" d=\"M 780.10849 294.118125 \nL 787.032839 294.118125 \nL 787.032839 294.118125 \nL 780.10849 294.118125 \nz\n\" style=\"fill:#1f77b4;\"/>\n   </g>\n   <g id=\"patch_96\">\n    <path clip-path=\"url(#pf2cdc1df67)\" d=\"M 787.802212 294.118125 \nL 794.726561 294.118125 \nL 794.726561 294.118125 \nL 787.802212 294.118125 \nz\n\" style=\"fill:#1f77b4;\"/>\n   </g>\n   <g id=\"patch_97\">\n    <path clip-path=\"url(#pf2cdc1df67)\" d=\"M 795.495933 294.118125 \nL 802.420283 294.118125 \nL 802.420283 294.118125 \nL 795.495933 294.118125 \nz\n\" style=\"fill:#1f77b4;\"/>\n   </g>\n   <g id=\"patch_98\">\n    <path clip-path=\"url(#pf2cdc1df67)\" d=\"M 803.189655 294.118125 \nL 810.114005 294.118125 \nL 810.114005 294.118125 \nL 803.189655 294.118125 \nz\n\" style=\"fill:#1f77b4;\"/>\n   </g>\n   <g id=\"patch_99\">\n    <path clip-path=\"url(#pf2cdc1df67)\" d=\"M 810.883377 294.118125 \nL 817.807727 294.118125 \nL 817.807727 294.118125 \nL 810.883377 294.118125 \nz\n\" style=\"fill:#1f77b4;\"/>\n   </g>\n   <g id=\"patch_100\">\n    <path clip-path=\"url(#pf2cdc1df67)\" d=\"M 818.577099 294.118125 \nL 825.501449 294.118125 \nL 825.501449 294.118125 \nL 818.577099 294.118125 \nz\n\" style=\"fill:#1f77b4;\"/>\n   </g>\n   <g id=\"patch_101\">\n    <path clip-path=\"url(#pf2cdc1df67)\" d=\"M 826.270821 294.118125 \nL 833.19517 294.118125 \nL 833.19517 294.118125 \nL 826.270821 294.118125 \nz\n\" style=\"fill:#1f77b4;\"/>\n   </g>\n   <g id=\"matplotlib.axis_1\">\n    <g id=\"xtick_1\">\n     <g id=\"line2d_1\">\n      <path clip-path=\"url(#pf2cdc1df67)\" d=\"M 71.901393 294.118125 \nL 71.901393 22.318125 \n\" style=\"fill:none;stroke:#b0b0b0;stroke-linecap:square;stroke-width:0.8;\"/>\n     </g>\n     <g id=\"line2d_2\">\n      <defs>\n       <path d=\"M 0 0 \nL 0 3.5 \n\" id=\"mb87e23dad8\" style=\"stroke:#000000;stroke-width:0.8;\"/>\n      </defs>\n      <g>\n       <use style=\"stroke:#000000;stroke-width:0.8;\" x=\"71.901393\" xlink:href=\"#mb87e23dad8\" y=\"294.118125\"/>\n      </g>\n     </g>\n     <g id=\"text_1\">\n      <!-- −1.00 -->\n      <g transform=\"translate(56.578737 308.716563)scale(0.1 -0.1)\">\n       <defs>\n        <path d=\"M 10.59375 35.5 \nL 73.1875 35.5 \nL 73.1875 27.203125 \nL 10.59375 27.203125 \nz\n\" id=\"DejaVuSans-8722\"/>\n        <path d=\"M 12.40625 8.296875 \nL 28.515625 8.296875 \nL 28.515625 63.921875 \nL 10.984375 60.40625 \nL 10.984375 69.390625 \nL 28.421875 72.90625 \nL 38.28125 72.90625 \nL 38.28125 8.296875 \nL 54.390625 8.296875 \nL 54.390625 0 \nL 12.40625 0 \nz\n\" id=\"DejaVuSans-49\"/>\n        <path d=\"M 10.6875 12.40625 \nL 21 12.40625 \nL 21 0 \nL 10.6875 0 \nz\n\" id=\"DejaVuSans-46\"/>\n        <path d=\"M 31.78125 66.40625 \nQ 24.171875 66.40625 20.328125 58.90625 \nQ 16.5 51.421875 16.5 36.375 \nQ 16.5 21.390625 20.328125 13.890625 \nQ 24.171875 6.390625 31.78125 6.390625 \nQ 39.453125 6.390625 43.28125 13.890625 \nQ 47.125 21.390625 47.125 36.375 \nQ 47.125 51.421875 43.28125 58.90625 \nQ 39.453125 66.40625 31.78125 66.40625 \nz\nM 31.78125 74.21875 \nQ 44.046875 74.21875 50.515625 64.515625 \nQ 56.984375 54.828125 56.984375 36.375 \nQ 56.984375 17.96875 50.515625 8.265625 \nQ 44.046875 -1.421875 31.78125 -1.421875 \nQ 19.53125 -1.421875 13.0625 8.265625 \nQ 6.59375 17.96875 6.59375 36.375 \nQ 6.59375 54.828125 13.0625 64.515625 \nQ 19.53125 74.21875 31.78125 74.21875 \nz\n\" id=\"DejaVuSans-48\"/>\n       </defs>\n       <use xlink:href=\"#DejaVuSans-8722\"/>\n       <use x=\"83.789062\" xlink:href=\"#DejaVuSans-49\"/>\n       <use x=\"147.412109\" xlink:href=\"#DejaVuSans-46\"/>\n       <use x=\"179.199219\" xlink:href=\"#DejaVuSans-48\"/>\n       <use x=\"242.822266\" xlink:href=\"#DejaVuSans-48\"/>\n      </g>\n     </g>\n    </g>\n    <g id=\"xtick_2\">\n     <g id=\"line2d_3\">\n      <path clip-path=\"url(#pf2cdc1df67)\" d=\"M 167.111201 294.118125 \nL 167.111201 22.318125 \n\" style=\"fill:none;stroke:#b0b0b0;stroke-linecap:square;stroke-width:0.8;\"/>\n     </g>\n     <g id=\"line2d_4\">\n      <g>\n       <use style=\"stroke:#000000;stroke-width:0.8;\" x=\"167.111201\" xlink:href=\"#mb87e23dad8\" y=\"294.118125\"/>\n      </g>\n     </g>\n     <g id=\"text_2\">\n      <!-- −0.75 -->\n      <g transform=\"translate(151.788545 308.716563)scale(0.1 -0.1)\">\n       <defs>\n        <path d=\"M 8.203125 72.90625 \nL 55.078125 72.90625 \nL 55.078125 68.703125 \nL 28.609375 0 \nL 18.3125 0 \nL 43.21875 64.59375 \nL 8.203125 64.59375 \nz\n\" id=\"DejaVuSans-55\"/>\n        <path d=\"M 10.796875 72.90625 \nL 49.515625 72.90625 \nL 49.515625 64.59375 \nL 19.828125 64.59375 \nL 19.828125 46.734375 \nQ 21.96875 47.46875 24.109375 47.828125 \nQ 26.265625 48.1875 28.421875 48.1875 \nQ 40.625 48.1875 47.75 41.5 \nQ 54.890625 34.8125 54.890625 23.390625 \nQ 54.890625 11.625 47.5625 5.09375 \nQ 40.234375 -1.421875 26.90625 -1.421875 \nQ 22.3125 -1.421875 17.546875 -0.640625 \nQ 12.796875 0.140625 7.71875 1.703125 \nL 7.71875 11.625 \nQ 12.109375 9.234375 16.796875 8.0625 \nQ 21.484375 6.890625 26.703125 6.890625 \nQ 35.15625 6.890625 40.078125 11.328125 \nQ 45.015625 15.765625 45.015625 23.390625 \nQ 45.015625 31 40.078125 35.4375 \nQ 35.15625 39.890625 26.703125 39.890625 \nQ 22.75 39.890625 18.8125 39.015625 \nQ 14.890625 38.140625 10.796875 36.28125 \nz\n\" id=\"DejaVuSans-53\"/>\n       </defs>\n       <use xlink:href=\"#DejaVuSans-8722\"/>\n       <use x=\"83.789062\" xlink:href=\"#DejaVuSans-48\"/>\n       <use x=\"147.412109\" xlink:href=\"#DejaVuSans-46\"/>\n       <use x=\"179.199219\" xlink:href=\"#DejaVuSans-55\"/>\n       <use x=\"242.822266\" xlink:href=\"#DejaVuSans-53\"/>\n      </g>\n     </g>\n    </g>\n    <g id=\"xtick_3\">\n     <g id=\"line2d_5\">\n      <path clip-path=\"url(#pf2cdc1df67)\" d=\"M 262.321009 294.118125 \nL 262.321009 22.318125 \n\" style=\"fill:none;stroke:#b0b0b0;stroke-linecap:square;stroke-width:0.8;\"/>\n     </g>\n     <g id=\"line2d_6\">\n      <g>\n       <use style=\"stroke:#000000;stroke-width:0.8;\" x=\"262.321009\" xlink:href=\"#mb87e23dad8\" y=\"294.118125\"/>\n      </g>\n     </g>\n     <g id=\"text_3\">\n      <!-- −0.50 -->\n      <g transform=\"translate(246.998353 308.716563)scale(0.1 -0.1)\">\n       <use xlink:href=\"#DejaVuSans-8722\"/>\n       <use x=\"83.789062\" xlink:href=\"#DejaVuSans-48\"/>\n       <use x=\"147.412109\" xlink:href=\"#DejaVuSans-46\"/>\n       <use x=\"179.199219\" xlink:href=\"#DejaVuSans-53\"/>\n       <use x=\"242.822266\" xlink:href=\"#DejaVuSans-48\"/>\n      </g>\n     </g>\n    </g>\n    <g id=\"xtick_4\">\n     <g id=\"line2d_7\">\n      <path clip-path=\"url(#pf2cdc1df67)\" d=\"M 357.530817 294.118125 \nL 357.530817 22.318125 \n\" style=\"fill:none;stroke:#b0b0b0;stroke-linecap:square;stroke-width:0.8;\"/>\n     </g>\n     <g id=\"line2d_8\">\n      <g>\n       <use style=\"stroke:#000000;stroke-width:0.8;\" x=\"357.530817\" xlink:href=\"#mb87e23dad8\" y=\"294.118125\"/>\n      </g>\n     </g>\n     <g id=\"text_4\">\n      <!-- −0.25 -->\n      <g transform=\"translate(342.208161 308.716563)scale(0.1 -0.1)\">\n       <defs>\n        <path d=\"M 19.1875 8.296875 \nL 53.609375 8.296875 \nL 53.609375 0 \nL 7.328125 0 \nL 7.328125 8.296875 \nQ 12.9375 14.109375 22.625 23.890625 \nQ 32.328125 33.6875 34.8125 36.53125 \nQ 39.546875 41.84375 41.421875 45.53125 \nQ 43.3125 49.21875 43.3125 52.78125 \nQ 43.3125 58.59375 39.234375 62.25 \nQ 35.15625 65.921875 28.609375 65.921875 \nQ 23.96875 65.921875 18.8125 64.3125 \nQ 13.671875 62.703125 7.8125 59.421875 \nL 7.8125 69.390625 \nQ 13.765625 71.78125 18.9375 73 \nQ 24.125 74.21875 28.421875 74.21875 \nQ 39.75 74.21875 46.484375 68.546875 \nQ 53.21875 62.890625 53.21875 53.421875 \nQ 53.21875 48.921875 51.53125 44.890625 \nQ 49.859375 40.875 45.40625 35.40625 \nQ 44.1875 33.984375 37.640625 27.21875 \nQ 31.109375 20.453125 19.1875 8.296875 \nz\n\" id=\"DejaVuSans-50\"/>\n       </defs>\n       <use xlink:href=\"#DejaVuSans-8722\"/>\n       <use x=\"83.789062\" xlink:href=\"#DejaVuSans-48\"/>\n       <use x=\"147.412109\" xlink:href=\"#DejaVuSans-46\"/>\n       <use x=\"179.199219\" xlink:href=\"#DejaVuSans-50\"/>\n       <use x=\"242.822266\" xlink:href=\"#DejaVuSans-53\"/>\n      </g>\n     </g>\n    </g>\n    <g id=\"xtick_5\">\n     <g id=\"line2d_9\">\n      <path clip-path=\"url(#pf2cdc1df67)\" d=\"M 452.740625 294.118125 \nL 452.740625 22.318125 \n\" style=\"fill:none;stroke:#b0b0b0;stroke-linecap:square;stroke-width:0.8;\"/>\n     </g>\n     <g id=\"line2d_10\">\n      <g>\n       <use style=\"stroke:#000000;stroke-width:0.8;\" x=\"452.740625\" xlink:href=\"#mb87e23dad8\" y=\"294.118125\"/>\n      </g>\n     </g>\n     <g id=\"text_5\">\n      <!-- 0.00 -->\n      <g transform=\"translate(441.607813 308.716563)scale(0.1 -0.1)\">\n       <use xlink:href=\"#DejaVuSans-48\"/>\n       <use x=\"63.623047\" xlink:href=\"#DejaVuSans-46\"/>\n       <use x=\"95.410156\" xlink:href=\"#DejaVuSans-48\"/>\n       <use x=\"159.033203\" xlink:href=\"#DejaVuSans-48\"/>\n      </g>\n     </g>\n    </g>\n    <g id=\"xtick_6\">\n     <g id=\"line2d_11\">\n      <path clip-path=\"url(#pf2cdc1df67)\" d=\"M 547.950433 294.118125 \nL 547.950433 22.318125 \n\" style=\"fill:none;stroke:#b0b0b0;stroke-linecap:square;stroke-width:0.8;\"/>\n     </g>\n     <g id=\"line2d_12\">\n      <g>\n       <use style=\"stroke:#000000;stroke-width:0.8;\" x=\"547.950433\" xlink:href=\"#mb87e23dad8\" y=\"294.118125\"/>\n      </g>\n     </g>\n     <g id=\"text_6\">\n      <!-- 0.25 -->\n      <g transform=\"translate(536.81762 308.716563)scale(0.1 -0.1)\">\n       <use xlink:href=\"#DejaVuSans-48\"/>\n       <use x=\"63.623047\" xlink:href=\"#DejaVuSans-46\"/>\n       <use x=\"95.410156\" xlink:href=\"#DejaVuSans-50\"/>\n       <use x=\"159.033203\" xlink:href=\"#DejaVuSans-53\"/>\n      </g>\n     </g>\n    </g>\n    <g id=\"xtick_7\">\n     <g id=\"line2d_13\">\n      <path clip-path=\"url(#pf2cdc1df67)\" d=\"M 643.160241 294.118125 \nL 643.160241 22.318125 \n\" style=\"fill:none;stroke:#b0b0b0;stroke-linecap:square;stroke-width:0.8;\"/>\n     </g>\n     <g id=\"line2d_14\">\n      <g>\n       <use style=\"stroke:#000000;stroke-width:0.8;\" x=\"643.160241\" xlink:href=\"#mb87e23dad8\" y=\"294.118125\"/>\n      </g>\n     </g>\n     <g id=\"text_7\">\n      <!-- 0.50 -->\n      <g transform=\"translate(632.027428 308.716563)scale(0.1 -0.1)\">\n       <use xlink:href=\"#DejaVuSans-48\"/>\n       <use x=\"63.623047\" xlink:href=\"#DejaVuSans-46\"/>\n       <use x=\"95.410156\" xlink:href=\"#DejaVuSans-53\"/>\n       <use x=\"159.033203\" xlink:href=\"#DejaVuSans-48\"/>\n      </g>\n     </g>\n    </g>\n    <g id=\"xtick_8\">\n     <g id=\"line2d_15\">\n      <path clip-path=\"url(#pf2cdc1df67)\" d=\"M 738.370049 294.118125 \nL 738.370049 22.318125 \n\" style=\"fill:none;stroke:#b0b0b0;stroke-linecap:square;stroke-width:0.8;\"/>\n     </g>\n     <g id=\"line2d_16\">\n      <g>\n       <use style=\"stroke:#000000;stroke-width:0.8;\" x=\"738.370049\" xlink:href=\"#mb87e23dad8\" y=\"294.118125\"/>\n      </g>\n     </g>\n     <g id=\"text_8\">\n      <!-- 0.75 -->\n      <g transform=\"translate(727.237236 308.716563)scale(0.1 -0.1)\">\n       <use xlink:href=\"#DejaVuSans-48\"/>\n       <use x=\"63.623047\" xlink:href=\"#DejaVuSans-46\"/>\n       <use x=\"95.410156\" xlink:href=\"#DejaVuSans-55\"/>\n       <use x=\"159.033203\" xlink:href=\"#DejaVuSans-53\"/>\n      </g>\n     </g>\n    </g>\n    <g id=\"xtick_9\">\n     <g id=\"line2d_17\">\n      <path clip-path=\"url(#pf2cdc1df67)\" d=\"M 833.579857 294.118125 \nL 833.579857 22.318125 \n\" style=\"fill:none;stroke:#b0b0b0;stroke-linecap:square;stroke-width:0.8;\"/>\n     </g>\n     <g id=\"line2d_18\">\n      <g>\n       <use style=\"stroke:#000000;stroke-width:0.8;\" x=\"833.579857\" xlink:href=\"#mb87e23dad8\" y=\"294.118125\"/>\n      </g>\n     </g>\n     <g id=\"text_9\">\n      <!-- 1.00 -->\n      <g transform=\"translate(822.447044 308.716563)scale(0.1 -0.1)\">\n       <use xlink:href=\"#DejaVuSans-49\"/>\n       <use x=\"63.623047\" xlink:href=\"#DejaVuSans-46\"/>\n       <use x=\"95.410156\" xlink:href=\"#DejaVuSans-48\"/>\n       <use x=\"159.033203\" xlink:href=\"#DejaVuSans-48\"/>\n      </g>\n     </g>\n    </g>\n    <g id=\"text_10\">\n     <!-- Modularity -->\n     <g transform=\"translate(426.207031 322.394687)scale(0.1 -0.1)\">\n      <defs>\n       <path d=\"M 9.8125 72.90625 \nL 24.515625 72.90625 \nL 43.109375 23.296875 \nL 61.8125 72.90625 \nL 76.515625 72.90625 \nL 76.515625 0 \nL 66.890625 0 \nL 66.890625 64.015625 \nL 48.09375 14.015625 \nL 38.1875 14.015625 \nL 19.390625 64.015625 \nL 19.390625 0 \nL 9.8125 0 \nz\n\" id=\"DejaVuSans-77\"/>\n       <path d=\"M 30.609375 48.390625 \nQ 23.390625 48.390625 19.1875 42.75 \nQ 14.984375 37.109375 14.984375 27.296875 \nQ 14.984375 17.484375 19.15625 11.84375 \nQ 23.34375 6.203125 30.609375 6.203125 \nQ 37.796875 6.203125 41.984375 11.859375 \nQ 46.1875 17.53125 46.1875 27.296875 \nQ 46.1875 37.015625 41.984375 42.703125 \nQ 37.796875 48.390625 30.609375 48.390625 \nz\nM 30.609375 56 \nQ 42.328125 56 49.015625 48.375 \nQ 55.71875 40.765625 55.71875 27.296875 \nQ 55.71875 13.875 49.015625 6.21875 \nQ 42.328125 -1.421875 30.609375 -1.421875 \nQ 18.84375 -1.421875 12.171875 6.21875 \nQ 5.515625 13.875 5.515625 27.296875 \nQ 5.515625 40.765625 12.171875 48.375 \nQ 18.84375 56 30.609375 56 \nz\n\" id=\"DejaVuSans-111\"/>\n       <path d=\"M 45.40625 46.390625 \nL 45.40625 75.984375 \nL 54.390625 75.984375 \nL 54.390625 0 \nL 45.40625 0 \nL 45.40625 8.203125 \nQ 42.578125 3.328125 38.25 0.953125 \nQ 33.9375 -1.421875 27.875 -1.421875 \nQ 17.96875 -1.421875 11.734375 6.484375 \nQ 5.515625 14.40625 5.515625 27.296875 \nQ 5.515625 40.1875 11.734375 48.09375 \nQ 17.96875 56 27.875 56 \nQ 33.9375 56 38.25 53.625 \nQ 42.578125 51.265625 45.40625 46.390625 \nz\nM 14.796875 27.296875 \nQ 14.796875 17.390625 18.875 11.75 \nQ 22.953125 6.109375 30.078125 6.109375 \nQ 37.203125 6.109375 41.296875 11.75 \nQ 45.40625 17.390625 45.40625 27.296875 \nQ 45.40625 37.203125 41.296875 42.84375 \nQ 37.203125 48.484375 30.078125 48.484375 \nQ 22.953125 48.484375 18.875 42.84375 \nQ 14.796875 37.203125 14.796875 27.296875 \nz\n\" id=\"DejaVuSans-100\"/>\n       <path d=\"M 8.5 21.578125 \nL 8.5 54.6875 \nL 17.484375 54.6875 \nL 17.484375 21.921875 \nQ 17.484375 14.15625 20.5 10.265625 \nQ 23.53125 6.390625 29.59375 6.390625 \nQ 36.859375 6.390625 41.078125 11.03125 \nQ 45.3125 15.671875 45.3125 23.6875 \nL 45.3125 54.6875 \nL 54.296875 54.6875 \nL 54.296875 0 \nL 45.3125 0 \nL 45.3125 8.40625 \nQ 42.046875 3.421875 37.71875 1 \nQ 33.40625 -1.421875 27.6875 -1.421875 \nQ 18.265625 -1.421875 13.375 4.4375 \nQ 8.5 10.296875 8.5 21.578125 \nz\nM 31.109375 56 \nz\n\" id=\"DejaVuSans-117\"/>\n       <path d=\"M 9.421875 75.984375 \nL 18.40625 75.984375 \nL 18.40625 0 \nL 9.421875 0 \nz\n\" id=\"DejaVuSans-108\"/>\n       <path d=\"M 34.28125 27.484375 \nQ 23.390625 27.484375 19.1875 25 \nQ 14.984375 22.515625 14.984375 16.5 \nQ 14.984375 11.71875 18.140625 8.90625 \nQ 21.296875 6.109375 26.703125 6.109375 \nQ 34.1875 6.109375 38.703125 11.40625 \nQ 43.21875 16.703125 43.21875 25.484375 \nL 43.21875 27.484375 \nz\nM 52.203125 31.203125 \nL 52.203125 0 \nL 43.21875 0 \nL 43.21875 8.296875 \nQ 40.140625 3.328125 35.546875 0.953125 \nQ 30.953125 -1.421875 24.3125 -1.421875 \nQ 15.921875 -1.421875 10.953125 3.296875 \nQ 6 8.015625 6 15.921875 \nQ 6 25.140625 12.171875 29.828125 \nQ 18.359375 34.515625 30.609375 34.515625 \nL 43.21875 34.515625 \nL 43.21875 35.40625 \nQ 43.21875 41.609375 39.140625 45 \nQ 35.0625 48.390625 27.6875 48.390625 \nQ 23 48.390625 18.546875 47.265625 \nQ 14.109375 46.140625 10.015625 43.890625 \nL 10.015625 52.203125 \nQ 14.9375 54.109375 19.578125 55.046875 \nQ 24.21875 56 28.609375 56 \nQ 40.484375 56 46.34375 49.84375 \nQ 52.203125 43.703125 52.203125 31.203125 \nz\n\" id=\"DejaVuSans-97\"/>\n       <path d=\"M 41.109375 46.296875 \nQ 39.59375 47.171875 37.8125 47.578125 \nQ 36.03125 48 33.890625 48 \nQ 26.265625 48 22.1875 43.046875 \nQ 18.109375 38.09375 18.109375 28.8125 \nL 18.109375 0 \nL 9.078125 0 \nL 9.078125 54.6875 \nL 18.109375 54.6875 \nL 18.109375 46.1875 \nQ 20.953125 51.171875 25.484375 53.578125 \nQ 30.03125 56 36.53125 56 \nQ 37.453125 56 38.578125 55.875 \nQ 39.703125 55.765625 41.0625 55.515625 \nz\n\" id=\"DejaVuSans-114\"/>\n       <path d=\"M 9.421875 54.6875 \nL 18.40625 54.6875 \nL 18.40625 0 \nL 9.421875 0 \nz\nM 9.421875 75.984375 \nL 18.40625 75.984375 \nL 18.40625 64.59375 \nL 9.421875 64.59375 \nz\n\" id=\"DejaVuSans-105\"/>\n       <path d=\"M 18.3125 70.21875 \nL 18.3125 54.6875 \nL 36.8125 54.6875 \nL 36.8125 47.703125 \nL 18.3125 47.703125 \nL 18.3125 18.015625 \nQ 18.3125 11.328125 20.140625 9.421875 \nQ 21.96875 7.515625 27.59375 7.515625 \nL 36.8125 7.515625 \nL 36.8125 0 \nL 27.59375 0 \nQ 17.1875 0 13.234375 3.875 \nQ 9.28125 7.765625 9.28125 18.015625 \nL 9.28125 47.703125 \nL 2.6875 47.703125 \nL 2.6875 54.6875 \nL 9.28125 54.6875 \nL 9.28125 70.21875 \nz\n\" id=\"DejaVuSans-116\"/>\n       <path d=\"M 32.171875 -5.078125 \nQ 28.375 -14.84375 24.75 -17.8125 \nQ 21.140625 -20.796875 15.09375 -20.796875 \nL 7.90625 -20.796875 \nL 7.90625 -13.28125 \nL 13.1875 -13.28125 \nQ 16.890625 -13.28125 18.9375 -11.515625 \nQ 21 -9.765625 23.484375 -3.21875 \nL 25.09375 0.875 \nL 2.984375 54.6875 \nL 12.5 54.6875 \nL 29.59375 11.921875 \nL 46.6875 54.6875 \nL 56.203125 54.6875 \nz\n\" id=\"DejaVuSans-121\"/>\n      </defs>\n      <use xlink:href=\"#DejaVuSans-77\"/>\n      <use x=\"86.279297\" xlink:href=\"#DejaVuSans-111\"/>\n      <use x=\"147.460938\" xlink:href=\"#DejaVuSans-100\"/>\n      <use x=\"210.9375\" xlink:href=\"#DejaVuSans-117\"/>\n      <use x=\"274.316406\" xlink:href=\"#DejaVuSans-108\"/>\n      <use x=\"302.099609\" xlink:href=\"#DejaVuSans-97\"/>\n      <use x=\"363.378906\" xlink:href=\"#DejaVuSans-114\"/>\n      <use x=\"404.492188\" xlink:href=\"#DejaVuSans-105\"/>\n      <use x=\"432.275391\" xlink:href=\"#DejaVuSans-116\"/>\n      <use x=\"471.484375\" xlink:href=\"#DejaVuSans-121\"/>\n     </g>\n    </g>\n   </g>\n   <g id=\"matplotlib.axis_2\">\n    <g id=\"ytick_1\">\n     <g id=\"line2d_19\">\n      <path clip-path=\"url(#pf2cdc1df67)\" d=\"M 34.240625 294.118125 \nL 871.240625 294.118125 \n\" style=\"fill:none;stroke:#b0b0b0;stroke-linecap:square;stroke-width:0.8;\"/>\n     </g>\n     <g id=\"line2d_20\">\n      <defs>\n       <path d=\"M 0 0 \nL -3.5 0 \n\" id=\"med40de3481\" style=\"stroke:#000000;stroke-width:0.8;\"/>\n      </defs>\n      <g>\n       <use style=\"stroke:#000000;stroke-width:0.8;\" x=\"34.240625\" xlink:href=\"#med40de3481\" y=\"294.118125\"/>\n      </g>\n     </g>\n     <g id=\"text_11\">\n      <!-- 0 -->\n      <g transform=\"translate(20.878125 297.917344)scale(0.1 -0.1)\">\n       <use xlink:href=\"#DejaVuSans-48\"/>\n      </g>\n     </g>\n    </g>\n    <g id=\"ytick_2\">\n     <g id=\"line2d_21\">\n      <path clip-path=\"url(#pf2cdc1df67)\" d=\"M 34.240625 262.231313 \nL 871.240625 262.231313 \n\" style=\"fill:none;stroke:#b0b0b0;stroke-linecap:square;stroke-width:0.8;\"/>\n     </g>\n     <g id=\"line2d_22\">\n      <g>\n       <use style=\"stroke:#000000;stroke-width:0.8;\" x=\"34.240625\" xlink:href=\"#med40de3481\" y=\"262.231313\"/>\n      </g>\n     </g>\n     <g id=\"text_12\">\n      <!-- 1 -->\n      <g transform=\"translate(20.878125 266.030531)scale(0.1 -0.1)\">\n       <use xlink:href=\"#DejaVuSans-49\"/>\n      </g>\n     </g>\n    </g>\n    <g id=\"ytick_3\">\n     <g id=\"line2d_23\">\n      <path clip-path=\"url(#pf2cdc1df67)\" d=\"M 34.240625 230.3445 \nL 871.240625 230.3445 \n\" style=\"fill:none;stroke:#b0b0b0;stroke-linecap:square;stroke-width:0.8;\"/>\n     </g>\n     <g id=\"line2d_24\">\n      <g>\n       <use style=\"stroke:#000000;stroke-width:0.8;\" x=\"34.240625\" xlink:href=\"#med40de3481\" y=\"230.3445\"/>\n      </g>\n     </g>\n     <g id=\"text_13\">\n      <!-- 2 -->\n      <g transform=\"translate(20.878125 234.143719)scale(0.1 -0.1)\">\n       <use xlink:href=\"#DejaVuSans-50\"/>\n      </g>\n     </g>\n    </g>\n    <g id=\"ytick_4\">\n     <g id=\"line2d_25\">\n      <path clip-path=\"url(#pf2cdc1df67)\" d=\"M 34.240625 198.457688 \nL 871.240625 198.457688 \n\" style=\"fill:none;stroke:#b0b0b0;stroke-linecap:square;stroke-width:0.8;\"/>\n     </g>\n     <g id=\"line2d_26\">\n      <g>\n       <use style=\"stroke:#000000;stroke-width:0.8;\" x=\"34.240625\" xlink:href=\"#med40de3481\" y=\"198.457688\"/>\n      </g>\n     </g>\n     <g id=\"text_14\">\n      <!-- 3 -->\n      <g transform=\"translate(20.878125 202.256907)scale(0.1 -0.1)\">\n       <defs>\n        <path d=\"M 40.578125 39.3125 \nQ 47.65625 37.796875 51.625 33 \nQ 55.609375 28.21875 55.609375 21.1875 \nQ 55.609375 10.40625 48.1875 4.484375 \nQ 40.765625 -1.421875 27.09375 -1.421875 \nQ 22.515625 -1.421875 17.65625 -0.515625 \nQ 12.796875 0.390625 7.625 2.203125 \nL 7.625 11.71875 \nQ 11.71875 9.328125 16.59375 8.109375 \nQ 21.484375 6.890625 26.8125 6.890625 \nQ 36.078125 6.890625 40.9375 10.546875 \nQ 45.796875 14.203125 45.796875 21.1875 \nQ 45.796875 27.640625 41.28125 31.265625 \nQ 36.765625 34.90625 28.71875 34.90625 \nL 20.21875 34.90625 \nL 20.21875 43.015625 \nL 29.109375 43.015625 \nQ 36.375 43.015625 40.234375 45.921875 \nQ 44.09375 48.828125 44.09375 54.296875 \nQ 44.09375 59.90625 40.109375 62.90625 \nQ 36.140625 65.921875 28.71875 65.921875 \nQ 24.65625 65.921875 20.015625 65.03125 \nQ 15.375 64.15625 9.8125 62.3125 \nL 9.8125 71.09375 \nQ 15.4375 72.65625 20.34375 73.4375 \nQ 25.25 74.21875 29.59375 74.21875 \nQ 40.828125 74.21875 47.359375 69.109375 \nQ 53.90625 64.015625 53.90625 55.328125 \nQ 53.90625 49.265625 50.4375 45.09375 \nQ 46.96875 40.921875 40.578125 39.3125 \nz\n\" id=\"DejaVuSans-51\"/>\n       </defs>\n       <use xlink:href=\"#DejaVuSans-51\"/>\n      </g>\n     </g>\n    </g>\n    <g id=\"ytick_5\">\n     <g id=\"line2d_27\">\n      <path clip-path=\"url(#pf2cdc1df67)\" d=\"M 34.240625 166.570876 \nL 871.240625 166.570876 \n\" style=\"fill:none;stroke:#b0b0b0;stroke-linecap:square;stroke-width:0.8;\"/>\n     </g>\n     <g id=\"line2d_28\">\n      <g>\n       <use style=\"stroke:#000000;stroke-width:0.8;\" x=\"34.240625\" xlink:href=\"#med40de3481\" y=\"166.570876\"/>\n      </g>\n     </g>\n     <g id=\"text_15\">\n      <!-- 4 -->\n      <g transform=\"translate(20.878125 170.370094)scale(0.1 -0.1)\">\n       <defs>\n        <path d=\"M 37.796875 64.3125 \nL 12.890625 25.390625 \nL 37.796875 25.390625 \nz\nM 35.203125 72.90625 \nL 47.609375 72.90625 \nL 47.609375 25.390625 \nL 58.015625 25.390625 \nL 58.015625 17.1875 \nL 47.609375 17.1875 \nL 47.609375 0 \nL 37.796875 0 \nL 37.796875 17.1875 \nL 4.890625 17.1875 \nL 4.890625 26.703125 \nz\n\" id=\"DejaVuSans-52\"/>\n       </defs>\n       <use xlink:href=\"#DejaVuSans-52\"/>\n      </g>\n     </g>\n    </g>\n    <g id=\"ytick_6\">\n     <g id=\"line2d_29\">\n      <path clip-path=\"url(#pf2cdc1df67)\" d=\"M 34.240625 134.684063 \nL 871.240625 134.684063 \n\" style=\"fill:none;stroke:#b0b0b0;stroke-linecap:square;stroke-width:0.8;\"/>\n     </g>\n     <g id=\"line2d_30\">\n      <g>\n       <use style=\"stroke:#000000;stroke-width:0.8;\" x=\"34.240625\" xlink:href=\"#med40de3481\" y=\"134.684063\"/>\n      </g>\n     </g>\n     <g id=\"text_16\">\n      <!-- 5 -->\n      <g transform=\"translate(20.878125 138.483282)scale(0.1 -0.1)\">\n       <use xlink:href=\"#DejaVuSans-53\"/>\n      </g>\n     </g>\n    </g>\n    <g id=\"ytick_7\">\n     <g id=\"line2d_31\">\n      <path clip-path=\"url(#pf2cdc1df67)\" d=\"M 34.240625 102.797251 \nL 871.240625 102.797251 \n\" style=\"fill:none;stroke:#b0b0b0;stroke-linecap:square;stroke-width:0.8;\"/>\n     </g>\n     <g id=\"line2d_32\">\n      <g>\n       <use style=\"stroke:#000000;stroke-width:0.8;\" x=\"34.240625\" xlink:href=\"#med40de3481\" y=\"102.797251\"/>\n      </g>\n     </g>\n     <g id=\"text_17\">\n      <!-- 6 -->\n      <g transform=\"translate(20.878125 106.59647)scale(0.1 -0.1)\">\n       <defs>\n        <path d=\"M 33.015625 40.375 \nQ 26.375 40.375 22.484375 35.828125 \nQ 18.609375 31.296875 18.609375 23.390625 \nQ 18.609375 15.53125 22.484375 10.953125 \nQ 26.375 6.390625 33.015625 6.390625 \nQ 39.65625 6.390625 43.53125 10.953125 \nQ 47.40625 15.53125 47.40625 23.390625 \nQ 47.40625 31.296875 43.53125 35.828125 \nQ 39.65625 40.375 33.015625 40.375 \nz\nM 52.59375 71.296875 \nL 52.59375 62.3125 \nQ 48.875 64.0625 45.09375 64.984375 \nQ 41.3125 65.921875 37.59375 65.921875 \nQ 27.828125 65.921875 22.671875 59.328125 \nQ 17.53125 52.734375 16.796875 39.40625 \nQ 19.671875 43.65625 24.015625 45.921875 \nQ 28.375 48.1875 33.59375 48.1875 \nQ 44.578125 48.1875 50.953125 41.515625 \nQ 57.328125 34.859375 57.328125 23.390625 \nQ 57.328125 12.15625 50.6875 5.359375 \nQ 44.046875 -1.421875 33.015625 -1.421875 \nQ 20.359375 -1.421875 13.671875 8.265625 \nQ 6.984375 17.96875 6.984375 36.375 \nQ 6.984375 53.65625 15.1875 63.9375 \nQ 23.390625 74.21875 37.203125 74.21875 \nQ 40.921875 74.21875 44.703125 73.484375 \nQ 48.484375 72.75 52.59375 71.296875 \nz\n\" id=\"DejaVuSans-54\"/>\n       </defs>\n       <use xlink:href=\"#DejaVuSans-54\"/>\n      </g>\n     </g>\n    </g>\n    <g id=\"ytick_8\">\n     <g id=\"line2d_33\">\n      <path clip-path=\"url(#pf2cdc1df67)\" d=\"M 34.240625 70.910438 \nL 871.240625 70.910438 \n\" style=\"fill:none;stroke:#b0b0b0;stroke-linecap:square;stroke-width:0.8;\"/>\n     </g>\n     <g id=\"line2d_34\">\n      <g>\n       <use style=\"stroke:#000000;stroke-width:0.8;\" x=\"34.240625\" xlink:href=\"#med40de3481\" y=\"70.910438\"/>\n      </g>\n     </g>\n     <g id=\"text_18\">\n      <!-- 7 -->\n      <g transform=\"translate(20.878125 74.709657)scale(0.1 -0.1)\">\n       <use xlink:href=\"#DejaVuSans-55\"/>\n      </g>\n     </g>\n    </g>\n    <g id=\"ytick_9\">\n     <g id=\"line2d_35\">\n      <path clip-path=\"url(#pf2cdc1df67)\" d=\"M 34.240625 39.023626 \nL 871.240625 39.023626 \n\" style=\"fill:none;stroke:#b0b0b0;stroke-linecap:square;stroke-width:0.8;\"/>\n     </g>\n     <g id=\"line2d_36\">\n      <g>\n       <use style=\"stroke:#000000;stroke-width:0.8;\" x=\"34.240625\" xlink:href=\"#med40de3481\" y=\"39.023626\"/>\n      </g>\n     </g>\n     <g id=\"text_19\">\n      <!-- 8 -->\n      <g transform=\"translate(20.878125 42.822845)scale(0.1 -0.1)\">\n       <defs>\n        <path d=\"M 31.78125 34.625 \nQ 24.75 34.625 20.71875 30.859375 \nQ 16.703125 27.09375 16.703125 20.515625 \nQ 16.703125 13.921875 20.71875 10.15625 \nQ 24.75 6.390625 31.78125 6.390625 \nQ 38.8125 6.390625 42.859375 10.171875 \nQ 46.921875 13.96875 46.921875 20.515625 \nQ 46.921875 27.09375 42.890625 30.859375 \nQ 38.875 34.625 31.78125 34.625 \nz\nM 21.921875 38.8125 \nQ 15.578125 40.375 12.03125 44.71875 \nQ 8.5 49.078125 8.5 55.328125 \nQ 8.5 64.0625 14.71875 69.140625 \nQ 20.953125 74.21875 31.78125 74.21875 \nQ 42.671875 74.21875 48.875 69.140625 \nQ 55.078125 64.0625 55.078125 55.328125 \nQ 55.078125 49.078125 51.53125 44.71875 \nQ 48 40.375 41.703125 38.8125 \nQ 48.828125 37.15625 52.796875 32.3125 \nQ 56.78125 27.484375 56.78125 20.515625 \nQ 56.78125 9.90625 50.3125 4.234375 \nQ 43.84375 -1.421875 31.78125 -1.421875 \nQ 19.734375 -1.421875 13.25 4.234375 \nQ 6.78125 9.90625 6.78125 20.515625 \nQ 6.78125 27.484375 10.78125 32.3125 \nQ 14.796875 37.15625 21.921875 38.8125 \nz\nM 18.3125 54.390625 \nQ 18.3125 48.734375 21.84375 45.5625 \nQ 25.390625 42.390625 31.78125 42.390625 \nQ 38.140625 42.390625 41.71875 45.5625 \nQ 45.3125 48.734375 45.3125 54.390625 \nQ 45.3125 60.0625 41.71875 63.234375 \nQ 38.140625 66.40625 31.78125 66.40625 \nQ 25.390625 66.40625 21.84375 63.234375 \nQ 18.3125 60.0625 18.3125 54.390625 \nz\n\" id=\"DejaVuSans-56\"/>\n       </defs>\n       <use xlink:href=\"#DejaVuSans-56\"/>\n      </g>\n     </g>\n    </g>\n    <g id=\"text_20\">\n     <!-- Probability density -->\n     <g transform=\"translate(14.798438 204.568906)rotate(-90)scale(0.1 -0.1)\">\n      <defs>\n       <path d=\"M 19.671875 64.796875 \nL 19.671875 37.40625 \nL 32.078125 37.40625 \nQ 38.96875 37.40625 42.71875 40.96875 \nQ 46.484375 44.53125 46.484375 51.125 \nQ 46.484375 57.671875 42.71875 61.234375 \nQ 38.96875 64.796875 32.078125 64.796875 \nz\nM 9.8125 72.90625 \nL 32.078125 72.90625 \nQ 44.34375 72.90625 50.609375 67.359375 \nQ 56.890625 61.8125 56.890625 51.125 \nQ 56.890625 40.328125 50.609375 34.8125 \nQ 44.34375 29.296875 32.078125 29.296875 \nL 19.671875 29.296875 \nL 19.671875 0 \nL 9.8125 0 \nz\n\" id=\"DejaVuSans-80\"/>\n       <path d=\"M 48.6875 27.296875 \nQ 48.6875 37.203125 44.609375 42.84375 \nQ 40.53125 48.484375 33.40625 48.484375 \nQ 26.265625 48.484375 22.1875 42.84375 \nQ 18.109375 37.203125 18.109375 27.296875 \nQ 18.109375 17.390625 22.1875 11.75 \nQ 26.265625 6.109375 33.40625 6.109375 \nQ 40.53125 6.109375 44.609375 11.75 \nQ 48.6875 17.390625 48.6875 27.296875 \nz\nM 18.109375 46.390625 \nQ 20.953125 51.265625 25.265625 53.625 \nQ 29.59375 56 35.59375 56 \nQ 45.5625 56 51.78125 48.09375 \nQ 58.015625 40.1875 58.015625 27.296875 \nQ 58.015625 14.40625 51.78125 6.484375 \nQ 45.5625 -1.421875 35.59375 -1.421875 \nQ 29.59375 -1.421875 25.265625 0.953125 \nQ 20.953125 3.328125 18.109375 8.203125 \nL 18.109375 0 \nL 9.078125 0 \nL 9.078125 75.984375 \nL 18.109375 75.984375 \nz\n\" id=\"DejaVuSans-98\"/>\n       <path id=\"DejaVuSans-32\"/>\n       <path d=\"M 56.203125 29.59375 \nL 56.203125 25.203125 \nL 14.890625 25.203125 \nQ 15.484375 15.921875 20.484375 11.0625 \nQ 25.484375 6.203125 34.421875 6.203125 \nQ 39.59375 6.203125 44.453125 7.46875 \nQ 49.3125 8.734375 54.109375 11.28125 \nL 54.109375 2.78125 \nQ 49.265625 0.734375 44.1875 -0.34375 \nQ 39.109375 -1.421875 33.890625 -1.421875 \nQ 20.796875 -1.421875 13.15625 6.1875 \nQ 5.515625 13.8125 5.515625 26.8125 \nQ 5.515625 40.234375 12.765625 48.109375 \nQ 20.015625 56 32.328125 56 \nQ 43.359375 56 49.78125 48.890625 \nQ 56.203125 41.796875 56.203125 29.59375 \nz\nM 47.21875 32.234375 \nQ 47.125 39.59375 43.09375 43.984375 \nQ 39.0625 48.390625 32.421875 48.390625 \nQ 24.90625 48.390625 20.390625 44.140625 \nQ 15.875 39.890625 15.1875 32.171875 \nz\n\" id=\"DejaVuSans-101\"/>\n       <path d=\"M 54.890625 33.015625 \nL 54.890625 0 \nL 45.90625 0 \nL 45.90625 32.71875 \nQ 45.90625 40.484375 42.875 44.328125 \nQ 39.84375 48.1875 33.796875 48.1875 \nQ 26.515625 48.1875 22.3125 43.546875 \nQ 18.109375 38.921875 18.109375 30.90625 \nL 18.109375 0 \nL 9.078125 0 \nL 9.078125 54.6875 \nL 18.109375 54.6875 \nL 18.109375 46.1875 \nQ 21.34375 51.125 25.703125 53.5625 \nQ 30.078125 56 35.796875 56 \nQ 45.21875 56 50.046875 50.171875 \nQ 54.890625 44.34375 54.890625 33.015625 \nz\n\" id=\"DejaVuSans-110\"/>\n       <path d=\"M 44.28125 53.078125 \nL 44.28125 44.578125 \nQ 40.484375 46.53125 36.375 47.5 \nQ 32.28125 48.484375 27.875 48.484375 \nQ 21.1875 48.484375 17.84375 46.4375 \nQ 14.5 44.390625 14.5 40.28125 \nQ 14.5 37.15625 16.890625 35.375 \nQ 19.28125 33.59375 26.515625 31.984375 \nL 29.59375 31.296875 \nQ 39.15625 29.25 43.1875 25.515625 \nQ 47.21875 21.78125 47.21875 15.09375 \nQ 47.21875 7.46875 41.1875 3.015625 \nQ 35.15625 -1.421875 24.609375 -1.421875 \nQ 20.21875 -1.421875 15.453125 -0.5625 \nQ 10.6875 0.296875 5.421875 2 \nL 5.421875 11.28125 \nQ 10.40625 8.6875 15.234375 7.390625 \nQ 20.0625 6.109375 24.8125 6.109375 \nQ 31.15625 6.109375 34.5625 8.28125 \nQ 37.984375 10.453125 37.984375 14.40625 \nQ 37.984375 18.0625 35.515625 20.015625 \nQ 33.0625 21.96875 24.703125 23.78125 \nL 21.578125 24.515625 \nQ 13.234375 26.265625 9.515625 29.90625 \nQ 5.8125 33.546875 5.8125 39.890625 \nQ 5.8125 47.609375 11.28125 51.796875 \nQ 16.75 56 26.8125 56 \nQ 31.78125 56 36.171875 55.265625 \nQ 40.578125 54.546875 44.28125 53.078125 \nz\n\" id=\"DejaVuSans-115\"/>\n      </defs>\n      <use xlink:href=\"#DejaVuSans-80\"/>\n      <use x=\"58.552734\" xlink:href=\"#DejaVuSans-114\"/>\n      <use x=\"97.416016\" xlink:href=\"#DejaVuSans-111\"/>\n      <use x=\"158.597656\" xlink:href=\"#DejaVuSans-98\"/>\n      <use x=\"222.074219\" xlink:href=\"#DejaVuSans-97\"/>\n      <use x=\"283.353516\" xlink:href=\"#DejaVuSans-98\"/>\n      <use x=\"346.830078\" xlink:href=\"#DejaVuSans-105\"/>\n      <use x=\"374.613281\" xlink:href=\"#DejaVuSans-108\"/>\n      <use x=\"402.396484\" xlink:href=\"#DejaVuSans-105\"/>\n      <use x=\"430.179688\" xlink:href=\"#DejaVuSans-116\"/>\n      <use x=\"469.388672\" xlink:href=\"#DejaVuSans-121\"/>\n      <use x=\"528.568359\" xlink:href=\"#DejaVuSans-32\"/>\n      <use x=\"560.355469\" xlink:href=\"#DejaVuSans-100\"/>\n      <use x=\"623.832031\" xlink:href=\"#DejaVuSans-101\"/>\n      <use x=\"685.355469\" xlink:href=\"#DejaVuSans-110\"/>\n      <use x=\"748.734375\" xlink:href=\"#DejaVuSans-115\"/>\n      <use x=\"800.833984\" xlink:href=\"#DejaVuSans-105\"/>\n      <use x=\"828.617188\" xlink:href=\"#DejaVuSans-116\"/>\n      <use x=\"867.826172\" xlink:href=\"#DejaVuSans-121\"/>\n     </g>\n    </g>\n   </g>\n   <g id=\"line2d_37\">\n    <path clip-path=\"url(#pf2cdc1df67)\" d=\"M 589.170458 294.118125 \nL 589.170458 22.318125 \n\" style=\"fill:none;stroke:#ffa500;stroke-dasharray:5.55,2.4;stroke-dashoffset:0;stroke-width:1.5;\"/>\n   </g>\n   <g id=\"patch_102\">\n    <path d=\"M 34.240625 294.118125 \nL 34.240625 22.318125 \n\" style=\"fill:none;stroke:#000000;stroke-linecap:square;stroke-linejoin:miter;stroke-width:0.8;\"/>\n   </g>\n   <g id=\"patch_103\">\n    <path d=\"M 871.240625 294.118125 \nL 871.240625 22.318125 \n\" style=\"fill:none;stroke:#000000;stroke-linecap:square;stroke-linejoin:miter;stroke-width:0.8;\"/>\n   </g>\n   <g id=\"patch_104\">\n    <path d=\"M 34.240625 294.118125 \nL 871.240625 294.118125 \n\" style=\"fill:none;stroke:#000000;stroke-linecap:square;stroke-linejoin:miter;stroke-width:0.8;\"/>\n   </g>\n   <g id=\"patch_105\">\n    <path d=\"M 34.240625 22.318125 \nL 871.240625 22.318125 \n\" style=\"fill:none;stroke:#000000;stroke-linecap:square;stroke-linejoin:miter;stroke-width:0.8;\"/>\n   </g>\n   <g id=\"text_21\">\n    <!-- Distribution of modularity for the configuration model -->\n    <g transform=\"translate(291.425938 16.318125)scale(0.12 -0.12)\">\n     <defs>\n      <path d=\"M 19.671875 64.796875 \nL 19.671875 8.109375 \nL 31.59375 8.109375 \nQ 46.6875 8.109375 53.6875 14.9375 \nQ 60.6875 21.78125 60.6875 36.53125 \nQ 60.6875 51.171875 53.6875 57.984375 \nQ 46.6875 64.796875 31.59375 64.796875 \nz\nM 9.8125 72.90625 \nL 30.078125 72.90625 \nQ 51.265625 72.90625 61.171875 64.09375 \nQ 71.09375 55.28125 71.09375 36.53125 \nQ 71.09375 17.671875 61.125 8.828125 \nQ 51.171875 0 30.078125 0 \nL 9.8125 0 \nz\n\" id=\"DejaVuSans-68\"/>\n      <path d=\"M 37.109375 75.984375 \nL 37.109375 68.5 \nL 28.515625 68.5 \nQ 23.6875 68.5 21.796875 66.546875 \nQ 19.921875 64.59375 19.921875 59.515625 \nL 19.921875 54.6875 \nL 34.71875 54.6875 \nL 34.71875 47.703125 \nL 19.921875 47.703125 \nL 19.921875 0 \nL 10.890625 0 \nL 10.890625 47.703125 \nL 2.296875 47.703125 \nL 2.296875 54.6875 \nL 10.890625 54.6875 \nL 10.890625 58.5 \nQ 10.890625 67.625 15.140625 71.796875 \nQ 19.390625 75.984375 28.609375 75.984375 \nz\n\" id=\"DejaVuSans-102\"/>\n      <path d=\"M 52 44.1875 \nQ 55.375 50.25 60.0625 53.125 \nQ 64.75 56 71.09375 56 \nQ 79.640625 56 84.28125 50.015625 \nQ 88.921875 44.046875 88.921875 33.015625 \nL 88.921875 0 \nL 79.890625 0 \nL 79.890625 32.71875 \nQ 79.890625 40.578125 77.09375 44.375 \nQ 74.3125 48.1875 68.609375 48.1875 \nQ 61.625 48.1875 57.5625 43.546875 \nQ 53.515625 38.921875 53.515625 30.90625 \nL 53.515625 0 \nL 44.484375 0 \nL 44.484375 32.71875 \nQ 44.484375 40.625 41.703125 44.40625 \nQ 38.921875 48.1875 33.109375 48.1875 \nQ 26.21875 48.1875 22.15625 43.53125 \nQ 18.109375 38.875 18.109375 30.90625 \nL 18.109375 0 \nL 9.078125 0 \nL 9.078125 54.6875 \nL 18.109375 54.6875 \nL 18.109375 46.1875 \nQ 21.1875 51.21875 25.484375 53.609375 \nQ 29.78125 56 35.6875 56 \nQ 41.65625 56 45.828125 52.96875 \nQ 50 49.953125 52 44.1875 \nz\n\" id=\"DejaVuSans-109\"/>\n      <path d=\"M 54.890625 33.015625 \nL 54.890625 0 \nL 45.90625 0 \nL 45.90625 32.71875 \nQ 45.90625 40.484375 42.875 44.328125 \nQ 39.84375 48.1875 33.796875 48.1875 \nQ 26.515625 48.1875 22.3125 43.546875 \nQ 18.109375 38.921875 18.109375 30.90625 \nL 18.109375 0 \nL 9.078125 0 \nL 9.078125 75.984375 \nL 18.109375 75.984375 \nL 18.109375 46.1875 \nQ 21.34375 51.125 25.703125 53.5625 \nQ 30.078125 56 35.796875 56 \nQ 45.21875 56 50.046875 50.171875 \nQ 54.890625 44.34375 54.890625 33.015625 \nz\n\" id=\"DejaVuSans-104\"/>\n      <path d=\"M 48.78125 52.59375 \nL 48.78125 44.1875 \nQ 44.96875 46.296875 41.140625 47.34375 \nQ 37.3125 48.390625 33.40625 48.390625 \nQ 24.65625 48.390625 19.8125 42.84375 \nQ 14.984375 37.3125 14.984375 27.296875 \nQ 14.984375 17.28125 19.8125 11.734375 \nQ 24.65625 6.203125 33.40625 6.203125 \nQ 37.3125 6.203125 41.140625 7.25 \nQ 44.96875 8.296875 48.78125 10.40625 \nL 48.78125 2.09375 \nQ 45.015625 0.34375 40.984375 -0.53125 \nQ 36.96875 -1.421875 32.421875 -1.421875 \nQ 20.0625 -1.421875 12.78125 6.34375 \nQ 5.515625 14.109375 5.515625 27.296875 \nQ 5.515625 40.671875 12.859375 48.328125 \nQ 20.21875 56 33.015625 56 \nQ 37.15625 56 41.109375 55.140625 \nQ 45.0625 54.296875 48.78125 52.59375 \nz\n\" id=\"DejaVuSans-99\"/>\n      <path d=\"M 45.40625 27.984375 \nQ 45.40625 37.75 41.375 43.109375 \nQ 37.359375 48.484375 30.078125 48.484375 \nQ 22.859375 48.484375 18.828125 43.109375 \nQ 14.796875 37.75 14.796875 27.984375 \nQ 14.796875 18.265625 18.828125 12.890625 \nQ 22.859375 7.515625 30.078125 7.515625 \nQ 37.359375 7.515625 41.375 12.890625 \nQ 45.40625 18.265625 45.40625 27.984375 \nz\nM 54.390625 6.78125 \nQ 54.390625 -7.171875 48.1875 -13.984375 \nQ 42 -20.796875 29.203125 -20.796875 \nQ 24.46875 -20.796875 20.265625 -20.09375 \nQ 16.0625 -19.390625 12.109375 -17.921875 \nL 12.109375 -9.1875 \nQ 16.0625 -11.328125 19.921875 -12.34375 \nQ 23.78125 -13.375 27.78125 -13.375 \nQ 36.625 -13.375 41.015625 -8.765625 \nQ 45.40625 -4.15625 45.40625 5.171875 \nL 45.40625 9.625 \nQ 42.625 4.78125 38.28125 2.390625 \nQ 33.9375 0 27.875 0 \nQ 17.828125 0 11.671875 7.65625 \nQ 5.515625 15.328125 5.515625 27.984375 \nQ 5.515625 40.671875 11.671875 48.328125 \nQ 17.828125 56 27.875 56 \nQ 33.9375 56 38.28125 53.609375 \nQ 42.625 51.21875 45.40625 46.390625 \nL 45.40625 54.6875 \nL 54.390625 54.6875 \nz\n\" id=\"DejaVuSans-103\"/>\n     </defs>\n     <use xlink:href=\"#DejaVuSans-68\"/>\n     <use x=\"77.001953\" xlink:href=\"#DejaVuSans-105\"/>\n     <use x=\"104.785156\" xlink:href=\"#DejaVuSans-115\"/>\n     <use x=\"156.884766\" xlink:href=\"#DejaVuSans-116\"/>\n     <use x=\"196.09375\" xlink:href=\"#DejaVuSans-114\"/>\n     <use x=\"237.207031\" xlink:href=\"#DejaVuSans-105\"/>\n     <use x=\"264.990234\" xlink:href=\"#DejaVuSans-98\"/>\n     <use x=\"328.466797\" xlink:href=\"#DejaVuSans-117\"/>\n     <use x=\"391.845703\" xlink:href=\"#DejaVuSans-116\"/>\n     <use x=\"431.054688\" xlink:href=\"#DejaVuSans-105\"/>\n     <use x=\"458.837891\" xlink:href=\"#DejaVuSans-111\"/>\n     <use x=\"520.019531\" xlink:href=\"#DejaVuSans-110\"/>\n     <use x=\"583.398438\" xlink:href=\"#DejaVuSans-32\"/>\n     <use x=\"615.185547\" xlink:href=\"#DejaVuSans-111\"/>\n     <use x=\"676.367188\" xlink:href=\"#DejaVuSans-102\"/>\n     <use x=\"711.572266\" xlink:href=\"#DejaVuSans-32\"/>\n     <use x=\"743.359375\" xlink:href=\"#DejaVuSans-109\"/>\n     <use x=\"840.771484\" xlink:href=\"#DejaVuSans-111\"/>\n     <use x=\"901.953125\" xlink:href=\"#DejaVuSans-100\"/>\n     <use x=\"965.429688\" xlink:href=\"#DejaVuSans-117\"/>\n     <use x=\"1028.808594\" xlink:href=\"#DejaVuSans-108\"/>\n     <use x=\"1056.591797\" xlink:href=\"#DejaVuSans-97\"/>\n     <use x=\"1117.871094\" xlink:href=\"#DejaVuSans-114\"/>\n     <use x=\"1158.984375\" xlink:href=\"#DejaVuSans-105\"/>\n     <use x=\"1186.767578\" xlink:href=\"#DejaVuSans-116\"/>\n     <use x=\"1225.976562\" xlink:href=\"#DejaVuSans-121\"/>\n     <use x=\"1285.15625\" xlink:href=\"#DejaVuSans-32\"/>\n     <use x=\"1316.943359\" xlink:href=\"#DejaVuSans-102\"/>\n     <use x=\"1352.148438\" xlink:href=\"#DejaVuSans-111\"/>\n     <use x=\"1413.330078\" xlink:href=\"#DejaVuSans-114\"/>\n     <use x=\"1454.443359\" xlink:href=\"#DejaVuSans-32\"/>\n     <use x=\"1486.230469\" xlink:href=\"#DejaVuSans-116\"/>\n     <use x=\"1525.439453\" xlink:href=\"#DejaVuSans-104\"/>\n     <use x=\"1588.818359\" xlink:href=\"#DejaVuSans-101\"/>\n     <use x=\"1650.341797\" xlink:href=\"#DejaVuSans-32\"/>\n     <use x=\"1682.128906\" xlink:href=\"#DejaVuSans-99\"/>\n     <use x=\"1737.109375\" xlink:href=\"#DejaVuSans-111\"/>\n     <use x=\"1798.291016\" xlink:href=\"#DejaVuSans-110\"/>\n     <use x=\"1861.669922\" xlink:href=\"#DejaVuSans-102\"/>\n     <use x=\"1896.875\" xlink:href=\"#DejaVuSans-105\"/>\n     <use x=\"1924.658203\" xlink:href=\"#DejaVuSans-103\"/>\n     <use x=\"1988.134766\" xlink:href=\"#DejaVuSans-117\"/>\n     <use x=\"2051.513672\" xlink:href=\"#DejaVuSans-114\"/>\n     <use x=\"2092.626953\" xlink:href=\"#DejaVuSans-97\"/>\n     <use x=\"2153.90625\" xlink:href=\"#DejaVuSans-116\"/>\n     <use x=\"2193.115234\" xlink:href=\"#DejaVuSans-105\"/>\n     <use x=\"2220.898438\" xlink:href=\"#DejaVuSans-111\"/>\n     <use x=\"2282.080078\" xlink:href=\"#DejaVuSans-110\"/>\n     <use x=\"2345.458984\" xlink:href=\"#DejaVuSans-32\"/>\n     <use x=\"2377.246094\" xlink:href=\"#DejaVuSans-109\"/>\n     <use x=\"2474.658203\" xlink:href=\"#DejaVuSans-111\"/>\n     <use x=\"2535.839844\" xlink:href=\"#DejaVuSans-100\"/>\n     <use x=\"2599.316406\" xlink:href=\"#DejaVuSans-101\"/>\n     <use x=\"2660.839844\" xlink:href=\"#DejaVuSans-108\"/>\n    </g>\n   </g>\n   <g id=\"legend_1\">\n    <g id=\"patch_106\">\n     <path d=\"M 674.814062 44.99625 \nL 864.240625 44.99625 \nQ 866.240625 44.99625 866.240625 42.99625 \nL 866.240625 29.318125 \nQ 866.240625 27.318125 864.240625 27.318125 \nL 674.814062 27.318125 \nQ 672.814062 27.318125 672.814062 29.318125 \nL 672.814062 42.99625 \nQ 672.814062 44.99625 674.814062 44.99625 \nz\n\" style=\"fill:#ffffff;opacity:0.8;stroke:#cccccc;stroke-linejoin:miter;\"/>\n    </g>\n    <g id=\"line2d_38\">\n     <path d=\"M 676.814062 35.416563 \nL 696.814062 35.416563 \n\" style=\"fill:none;stroke:#ffa500;stroke-dasharray:5.55,2.4;stroke-dashoffset:0;stroke-width:1.5;\"/>\n    </g>\n    <g id=\"line2d_39\"/>\n    <g id=\"text_22\">\n     <!-- Actual Karate Graph Modularity -->\n     <g transform=\"translate(704.814062 38.916563)scale(0.1 -0.1)\">\n      <defs>\n       <path d=\"M 34.1875 63.1875 \nL 20.796875 26.90625 \nL 47.609375 26.90625 \nz\nM 28.609375 72.90625 \nL 39.796875 72.90625 \nL 67.578125 0 \nL 57.328125 0 \nL 50.6875 18.703125 \nL 17.828125 18.703125 \nL 11.1875 0 \nL 0.78125 0 \nz\n\" id=\"DejaVuSans-65\"/>\n       <path d=\"M 9.8125 72.90625 \nL 19.671875 72.90625 \nL 19.671875 42.09375 \nL 52.390625 72.90625 \nL 65.09375 72.90625 \nL 28.90625 38.921875 \nL 67.671875 0 \nL 54.6875 0 \nL 19.671875 35.109375 \nL 19.671875 0 \nL 9.8125 0 \nz\n\" id=\"DejaVuSans-75\"/>\n       <path d=\"M 59.515625 10.40625 \nL 59.515625 29.984375 \nL 43.40625 29.984375 \nL 43.40625 38.09375 \nL 69.28125 38.09375 \nL 69.28125 6.78125 \nQ 63.578125 2.734375 56.6875 0.65625 \nQ 49.8125 -1.421875 42 -1.421875 \nQ 24.90625 -1.421875 15.25 8.5625 \nQ 5.609375 18.5625 5.609375 36.375 \nQ 5.609375 54.25 15.25 64.234375 \nQ 24.90625 74.21875 42 74.21875 \nQ 49.125 74.21875 55.546875 72.453125 \nQ 61.96875 70.703125 67.390625 67.28125 \nL 67.390625 56.78125 \nQ 61.921875 61.421875 55.765625 63.765625 \nQ 49.609375 66.109375 42.828125 66.109375 \nQ 29.4375 66.109375 22.71875 58.640625 \nQ 16.015625 51.171875 16.015625 36.375 \nQ 16.015625 21.625 22.71875 14.15625 \nQ 29.4375 6.6875 42.828125 6.6875 \nQ 48.046875 6.6875 52.140625 7.59375 \nQ 56.25 8.5 59.515625 10.40625 \nz\n\" id=\"DejaVuSans-71\"/>\n       <path d=\"M 18.109375 8.203125 \nL 18.109375 -20.796875 \nL 9.078125 -20.796875 \nL 9.078125 54.6875 \nL 18.109375 54.6875 \nL 18.109375 46.390625 \nQ 20.953125 51.265625 25.265625 53.625 \nQ 29.59375 56 35.59375 56 \nQ 45.5625 56 51.78125 48.09375 \nQ 58.015625 40.1875 58.015625 27.296875 \nQ 58.015625 14.40625 51.78125 6.484375 \nQ 45.5625 -1.421875 35.59375 -1.421875 \nQ 29.59375 -1.421875 25.265625 0.953125 \nQ 20.953125 3.328125 18.109375 8.203125 \nz\nM 48.6875 27.296875 \nQ 48.6875 37.203125 44.609375 42.84375 \nQ 40.53125 48.484375 33.40625 48.484375 \nQ 26.265625 48.484375 22.1875 42.84375 \nQ 18.109375 37.203125 18.109375 27.296875 \nQ 18.109375 17.390625 22.1875 11.75 \nQ 26.265625 6.109375 33.40625 6.109375 \nQ 40.53125 6.109375 44.609375 11.75 \nQ 48.6875 17.390625 48.6875 27.296875 \nz\n\" id=\"DejaVuSans-112\"/>\n      </defs>\n      <use xlink:href=\"#DejaVuSans-65\"/>\n      <use x=\"66.658203\" xlink:href=\"#DejaVuSans-99\"/>\n      <use x=\"121.638672\" xlink:href=\"#DejaVuSans-116\"/>\n      <use x=\"160.847656\" xlink:href=\"#DejaVuSans-117\"/>\n      <use x=\"224.226562\" xlink:href=\"#DejaVuSans-97\"/>\n      <use x=\"285.505859\" xlink:href=\"#DejaVuSans-108\"/>\n      <use x=\"313.289062\" xlink:href=\"#DejaVuSans-32\"/>\n      <use x=\"345.076172\" xlink:href=\"#DejaVuSans-75\"/>\n      <use x=\"408.902344\" xlink:href=\"#DejaVuSans-97\"/>\n      <use x=\"470.181641\" xlink:href=\"#DejaVuSans-114\"/>\n      <use x=\"511.294922\" xlink:href=\"#DejaVuSans-97\"/>\n      <use x=\"572.574219\" xlink:href=\"#DejaVuSans-116\"/>\n      <use x=\"611.783203\" xlink:href=\"#DejaVuSans-101\"/>\n      <use x=\"673.306641\" xlink:href=\"#DejaVuSans-32\"/>\n      <use x=\"705.09375\" xlink:href=\"#DejaVuSans-71\"/>\n      <use x=\"782.583984\" xlink:href=\"#DejaVuSans-114\"/>\n      <use x=\"823.697266\" xlink:href=\"#DejaVuSans-97\"/>\n      <use x=\"884.976562\" xlink:href=\"#DejaVuSans-112\"/>\n      <use x=\"948.453125\" xlink:href=\"#DejaVuSans-104\"/>\n      <use x=\"1011.832031\" xlink:href=\"#DejaVuSans-32\"/>\n      <use x=\"1043.619141\" xlink:href=\"#DejaVuSans-77\"/>\n      <use x=\"1129.898438\" xlink:href=\"#DejaVuSans-111\"/>\n      <use x=\"1191.080078\" xlink:href=\"#DejaVuSans-100\"/>\n      <use x=\"1254.556641\" xlink:href=\"#DejaVuSans-117\"/>\n      <use x=\"1317.935547\" xlink:href=\"#DejaVuSans-108\"/>\n      <use x=\"1345.71875\" xlink:href=\"#DejaVuSans-97\"/>\n      <use x=\"1406.998047\" xlink:href=\"#DejaVuSans-114\"/>\n      <use x=\"1448.111328\" xlink:href=\"#DejaVuSans-105\"/>\n      <use x=\"1475.894531\" xlink:href=\"#DejaVuSans-116\"/>\n      <use x=\"1515.103516\" xlink:href=\"#DejaVuSans-121\"/>\n     </g>\n    </g>\n   </g>\n  </g>\n </g>\n <defs>\n  <clipPath id=\"pf2cdc1df67\">\n   <rect height=\"271.8\" width=\"837\" x=\"34.240625\" y=\"22.318125\"/>\n  </clipPath>\n </defs>\n</svg>\n",
      "image/png": "[encoded data removed]"
     },
     "metadata": {
      "needs_background": "light"
     }
    }
   ],
   "source": [
    "import matplotlib.pylab as plt\n",
    "\n",
    "karate_modularity = calculate_modularity(karate_G, communities.values())\n",
    "\n",
    "bins = np.linspace(-1, 1, 100)\n",
    "hist, hist_edges = np.histogram(modularities, bins=bins, density=True)\n",
    "x = (hist_edges[1:]+hist_edges[:-1])/2\n",
    "\n",
    "fig, ax = plt.subplots(figsize=(15,5))\n",
    "width = bins[1]-bins[0]\n",
    "ax.bar(x, hist, width=width*0.9)\n",
    "ax.axvline(karate_modularity, linestyle='--', c='orange', label='Actual Karate Graph Modularity')\n",
    "ax.grid()\n",
    "ax.set_title('Distribution of modularity for the configuration model')\n",
    "ax.set_xlabel('Modularity')\n",
    "ax.set_ylabel('Probability density')\n",
    "plt.legend()\n",
    "plt.show()"
   ]
  },
  {
   "source": [
    "> 10. Comment on the figure. Is the club split a good partitioning? Why do you think I asked you to compare with the configuration model? What is the reason why we preserved the nodes degree?\n"
   ],
   "cell_type": "markdown",
   "metadata": {}
  },
  {
   "source": [
    "The modularity of the configuration model is normally distributed around 0. The normal distribution comes from the large N (central limit theorem). This shows that the modularity of a randomized equivalent to the karate club split network partion would be around 0 and that the modularity of the original karate club network partitioning therefore has a higher modularity than random. As such, the club split is indeed a split that shows community grouping which cannot be ascribed to randomness.   "
   ],
   "cell_type": "markdown",
   "metadata": {}
  },
  {
   "source": [
    "> 11.  Use [the Python Louvain-algorithm implementation](https://anaconda.org/auto/python-louvain) to find communities in this graph. Report the value of modularity found by the algorithm. Is it higher or lower than what you found above for the club split? What does this comparison reveal?\n"
   ],
   "cell_type": "markdown",
   "metadata": {}
  },
  {
   "cell_type": "code",
   "execution_count": null,
   "metadata": {},
   "outputs": [],
   "source": []
  },
  {
   "source": [
    "> 12.  Compare the communities found by the Louvain algorithm with the club split partitioning by creating a matrix **_D_** with dimension (2 times _A_), where _A_ is the number of communities found by Louvain. We set entry _D_(_i_,_j_) to be the number of nodes that community _i_ has in common with group split _j_. The matrix **_D_** is what we call a [**confusion matrix**](https://en.wikipedia.org/wiki/Confusion_matrix). Use the confusion matrix to explain how well the communities you've detected correspond to the club split partitioning."
   ],
   "cell_type": "markdown",
   "metadata": {}
  },
  {
   "cell_type": "code",
   "execution_count": null,
   "metadata": {},
   "outputs": [],
   "source": []
  },
  {
   "cell_type": "markdown",
   "metadata": {},
   "source": [
    "# Part 2: Comparing partitions"
   ]
  },
  {
   "cell_type": "markdown",
   "metadata": {},
   "source": [
    "[Section 9.6](http://networksciencebook.com/chapter/9#testing) of the Network Science book dicusses how to test the accuracy of community detection algorithms on networks with predefined community structure. This involves measuring the similarity between the predefined structure and the communities identified by a given community detection algorithm. There are many ways for comparing partitions (for an extensive review, see [this article](http://staff.ustc.edu.cn/~zwp/teach/MVA/cluster_validation.pdf)). The book introduces the widely used _normalized mutual information_ (eq. 9.19). We are going to learn more about it and implemement it!"
   ]
  },
  {
   "cell_type": "markdown",
   "metadata": {},
   "source": [
    "First, let's dig a bit deeper into the definition of __Mutual Information__ between two discrete variables $X$ and $Y$. \n",
    "\n",
    "The mutual information is the reduction in uncertainty about variable $X$, After observing a second random variable $Y$. It is measured as the difference between the entropy of $X$, $H(X)$ (which measures its uncertainty), and the conditional entropy of $X$ given $Y$, $H(X|Y)$ (which measures the uncertainty about $X$ after observing $Y$).\n",
    "\n",
    "$I(X;Y)=H(X)−H(X|Y)$\n",
    "\n",
    "If you are not familiar with the concepts of entropy and conditional entropy, or have any doubt about the definition of mutual information, I suggest to carefully read [this page](http://www.scholarpedia.org/article/Mutual_information). If you are someone who learns by doing, the next exercise should help!"
   ]
  },
  {
   "cell_type": "markdown",
   "metadata": {},
   "source": [
    "_Exercise 2: Mutual Information:_ In the exercise above, we computed the confusion matrix to compare the communities found by the Louvain method with the \"club\" split. In this exercise, we will compare the two using the Normalized Mutual Information (see eq. 9.19 in your Network Science Book).\n",
    "\n",
    "> 1. Write a function that, given as input a list of discrete items, returns a dictionary containing the probability of each unique value in the list. For example, given as input the list $[ 1,1,0,1,2]$, the function should return the following dictionary $\\{1:0.6,0:0.2,2:0.2\\}$.\n",
    "> 2. Loop through the nodes of your Zachary Karate Club network. For each node, find the corresponding club (either _\"Mr Hi\"_ or _\"Officer\"_) and store it in a list $l_1$. Compute the probability $p(x)$ of each club $x$ using the function you computed above. \n",
    "> 3. Loop again through the nodes of your Zachary Karate Club (in the same order as you did in step 1.). For each node, find the corresponding Louvain community, and store it in a list $l_2$. Compute the probability $p(y)$ for each Louvain community $y$ using your function. \n",
    "> 4. Loop again through the nodes of your Zachary Karate Club (in the same order!). This time, build a list of tuples $l_3$, such that the first value in the tuple is club and the second is the Louvain community. Compute the probability $p(x,y)$ for each tuple $(x,y)$ in your list using the function you wrote in step 1.. \n",
    "> 5. Compute the Shannon entropy of the Karate Club split. Remember that the entropy of a variable $X$ is defined as $H(X) = -\\sum_x p(x)log(p(x))$. Here the sum runs over the two clubs: _\"Mr Hi\"_ and _\"Officer\"_. You need the probabilities you computed in step 2.\n",
    "> 6. Compute the entropy of the Louvain community partitioning $H(Y) = -\\sum_x p(y)log(p(y))$. Here the sum runs over the communities found by the Louvain method. You need the probabilities you computed in step 3.\n",
    "> 7. Compute the conditional entropy $H(X|Y) = - \\sum_{x,y} p(x,y)\\cdot log \\frac{p(x,y)}{p(y)}$, where the sum runs over all possible combinations of clubs and communities. You need the probabilities you computed in steps 2. and 4.\n",
    "> 8. Now, compute the mutual information $I(X;Y) = H(X) - H(X|Y)$. Compare your result with the results you would obtain applying the scikit-learn function [mutual_info_score](https://scikit-learn.org/stable/modules/generated/sklearn.metrics.mutual_info_score.html). You should pass the lists $l_1$ and $l_2$ as inputs to your function.\n",
    "> 9. Compute the normalized mutual score: $I_n(X;Y) = \\frac{I(X;Y)}{\\frac{1}{2}H(X) + \\frac{1}{2}H(Y)}$.Compare your result with the results you would obtain applying the scikit-learn function [normalized_mutual_info_score](https://scikit-learn.org/stable/modules/generated/sklearn.metrics.normalized_mutual_info_score.html). \n",
    "> 10. What is the point of normalizing the mutual information through dividing it by ${\\frac{1}{2}H(X) + \\frac{1}{2}H(Y)}$?\n",
    "> 11. We will now perform another randomization test. Shuffle the club split node labels (e.g assign a new group to each node, but keep the size of the \"Officer\" and \"Mr Hi\" groups constant). Measure the _normalized mutual information_ with the Louvain communities using the procedure above. Repeat the procedure $1000$ times and plot the distribution of the \"random\" _normalized mutual information_.\n",
    "> 12. Based on your analysis, what can you conclude about the similarity of the Louvain communities and the actual club split? Why do you think I asked you to run a randomization test?"
   ]
  },
  {
   "cell_type": "markdown",
   "metadata": {},
   "source": [
    "# Part 3: communities in the GME network."
   ]
  },
  {
   "cell_type": "markdown",
   "metadata": {},
   "source": [
    "Finally, lets' apply community detection to our favourite network: the GME network. In the following, consider the undirected version of the graph."
   ]
  },
  {
   "cell_type": "markdown",
   "metadata": {},
   "source": [
    "> _Exercise 3_: Community detection on the GME network. \n",
    "> * Consider the GME network you built in [Week 3](https://nbviewer.jupyter.org/github/lalessan/comsocsci2021/blob/master/lectures/Week3.ipynb), part 3.\n",
    "> * Use [the Python Louvain-algorithm implementation](https://anaconda.org/auto/python-louvain) to find communities. How many communities do you find? What are their sizes? Report the value of modularity found by the algorithm. Is the modularity significantly different than 0? \n",
    "> * If you are curious, you can also try the *Infomap* algorithm. Go to [this page]. (https://mapequation.github.io/infomap/python/). It's harder to install, but a better community detection algorithm. You can read about it in [advanced topics 9B](http://networksciencebook.com/chapter/9#advanced-9b).\n",
    "> * Visualize the network, using netwulf (see Week 4). This time assign each node a different color based on their _community_. Describe the structure you observe.\n",
    "\n",
    "> _Exercise 4_ (*Optional*): Understanding communities using text analysis. \n",
    "> \n",
    "> * We want to find out which words are important for each community, so we're going to create N large documents, where N is the number of communities you have found in exercise 9. Tokenize the submissions, and combine the tokens into one long list including all the posts submitted by the members of the same community. \n",
    "> * Compute the TF-IDF for each community. \n",
    "> * Create a word-cloud for each community. Do they help interpreting the communities you have found?"
   ]
  },
  {
   "cell_type": "code",
   "execution_count": null,
   "metadata": {},
   "outputs": [],
   "source": []
  }
 ],
 "metadata": {
  "kernelspec": {
   "display_name": "Python 3",
   "language": "python",
   "name": "python3"
  },
  "language_info": {
   "codemirror_mode": {
    "name": "ipython",
    "version": 3
   },
   "file_extension": ".py",
   "mimetype": "text/x-python",
   "name": "python",
   "nbconvert_exporter": "python",
   "pygments_lexer": "ipython3",
   "version": "3.9.1-final"
  }
 },
 "nbformat": 4,
 "nbformat_minor": 4
}