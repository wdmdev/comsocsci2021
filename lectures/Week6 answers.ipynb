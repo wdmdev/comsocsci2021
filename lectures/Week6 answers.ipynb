{
 "cells": [
  {
   "cell_type": "markdown",
   "metadata": {},
   "source": [
    "# Some important admin and homework for next time.\n",
    "\n",
    "\n",
    "1. __Important point number 1__. We are reaching the mid-term of the semester and it is time for some reflection :) I want to know from you guys how the class is going. This is super important for me to make sure that the second half of the semester goes well. Before working on the material for today, please __fill [the mid-term survery ](https://docs.google.com/forms/d/e/1FAIpQLSc79NAmXoPfYjmVyVgCDUdyK8narAOuR-CmgYhQM6h3vRZfuA/viewform?usp=sf_link)__ on Google Forms. I promise it should not take more than 5 minutes. \n",
    "\n",
    "\n",
    "2. __Important point number 2__. We are slowly approaching the time when you guys will work on your own project. There are still a couple of classes to go, but by now you have a good idea of the methods and types of questions we work with in this class. And I would like to start discussing your ideas. Make sure you __complete Exercise 5 (at the end of this notebook) before next Wednesday__. We will take some time to talk about it next time. \n"
   ]
  },
  {
   "cell_type": "markdown",
   "metadata": {},
   "source": [
    "# Overview of today's class.\n",
    "\n",
    "This week's curriculum is about text analysis. The overview is\n",
    "\n",
    "* Tricks for raw text (NLPP Chapter 3) and finding the important words in a document (TF-IDF)\n",
    "* Apply these tricks to study the content of submissions \n",
    "\n",
    "In the first part, we will take a quick tour of NLPP's chapter 3, which is boring, but an amazing resource that you'll keep returning to. Then we'll talk about how we can use simple statistics to get text to show us what it's all about. We will even do a little visualization. \n"
   ]
  },
  {
   "cell_type": "markdown",
   "metadata": {},
   "source": [
    "# Part 1 - Processing real text (from out on the inter-webs)\n",
    "\n",
    "Ok. So Chapter 3 in NLPP is all about working with text from the real world. Getting text from this internet, cleaning it, tokenizing, modifying (e.g. stemming, converting to lower case, etc) to get the text in shape to work with the NLTK tools you've already learned about - and many more. In the process we'll learn more about regular expressions, as well as unicode; something we've already been struggling with a little bit will now be explained in more detail. \n",
    "> \n",
    "> **Video lecture**: Short overview of chapter 3 + a few words about kinds of language processing that we don't address in this class. \n",
    "> "
   ]
  },
  {
   "cell_type": "code",
   "execution_count": 2,
   "metadata": {},
   "outputs": [
    {
     "output_type": "execute_result",
     "data": {
      "text/plain": [
       "<IPython.lib.display.YouTubeVideo at 0x7f1fe5222700>"
      ],
      "text/html": "\n        <iframe\n            width=\"800\"\n            height=\"450\"\n            src=\"https://www.youtube.com/embed/Rwakh-HXPJk\"\n            frameborder=\"0\"\n            allowfullscreen\n        ></iframe>\n        ",
      "image/jpeg": "[encoded data removed]"
     },
     "metadata": {},
     "execution_count": 2
    }
   ],
   "source": [
    "from IPython.display import YouTubeVideo\n",
    "YouTubeVideo(\"Rwakh-HXPJk\",width=800, height=450)"
   ]
  },
  {
   "cell_type": "markdown",
   "metadata": {},
   "source": [
    "> *Reading*: NLPP Chapter 3.1, 3.2, 3.3, 3.4, 3.5, 3.6, 3.7, 3.9, and 3.10\\. It's not important that you go in depth with everything here - the key thing is that you *know that Chapter 3 of this book exists*, and that it's a great place to return to if you're ever in need of an explanation of regular expressions, unicode, or other topics that you forget as soon as you stop using them (and don't worry, I forget about those things too)."
   ]
  },
  {
   "cell_type": "markdown",
   "metadata": {},
   "source": [
    "> _Exercise_ 1: Just a couple of examples from the book: Work through the exercises NLPP 3.12: 6, 30."
   ]
  },
  {
   "cell_type": "markdown",
   "metadata": {},
   "source": [
    "**Exercise 6**\n",
    "\n",
    "Describe the class of strings matched by the following regular expressions.\n",
    "\n",
    "    [a-zA-Z]+\n",
    "    [A-Z][a-z]*\n",
    "    p[aeiou]{,2}t\n",
    "    \\d+(\\.\\d+)?\n",
    "    ([^aeiou][aeiou][^aeiou])*\n",
    "    \\w+|[^\\w\\s]+\n",
    "\n",
    "Test your answers using nltk.re_show()."
   ]
  },
  {
   "cell_type": "code",
   "execution_count": 3,
   "metadata": {},
   "outputs": [],
   "source": [
    "import nltk"
   ]
  },
  {
   "cell_type": "markdown",
   "metadata": {},
   "source": [
    "```[a-zA-Z]+```\n",
    "* Words (length 1+) containing the lower case letters a to z or upper case letters A to Z\n"
   ]
  },
  {
   "cell_type": "code",
   "execution_count": 4,
   "metadata": {},
   "outputs": [
    {
     "output_type": "stream",
     "name": "stdout",
     "text": [
      "{I} {am} {all} {legal} {words} {AnD} {YoU} {KNOw} {IT}\n"
     ]
    }
   ],
   "source": [
    "s = 'I am all legal words AnD YoU KNOw IT'\n",
    "nltk.re_show('[a-zA-Z]+', s)"
   ]
  },
  {
   "cell_type": "markdown",
   "metadata": {},
   "source": [
    "```[A-Z][a-z]*```\n",
    "* Two first letters of a word where the first letter must be a capital letter from A to Z and the next letter must be lower case from a to z\n"
   ]
  },
  {
   "cell_type": "code",
   "execution_count": 5,
   "metadata": {},
   "outputs": [
    {
     "output_type": "stream",
     "name": "stdout",
     "text": [
      "{I} {Am} {Legal} i am not legal!\n"
     ]
    }
   ],
   "source": [
    "s = 'I Am Legal i am not legal!'\n",
    "nltk.re_show('[A-Z][a-z]*', s)"
   ]
  },
  {
   "cell_type": "markdown",
   "metadata": {},
   "source": [
    "```p[aeiou]{,2}t```\n",
    "* letter sequences (also within words) starting with p followed by 0 to 2 letters that must be either a, e, i, o, or u and then ending on t\n"
   ]
  },
  {
   "cell_type": "code",
   "execution_count": 6,
   "metadata": {},
   "outputs": [
    {
     "output_type": "stream",
     "name": "stdout",
     "text": [
      "{pt} {pet} {pat} {pit} {put} {pot} {pait} {pat}ti s{pet} s{pat} not valid paait spelt\n"
     ]
    }
   ],
   "source": [
    "s = 'pt pet pat pit put pot pait patti spet spat not valid paait spelt'\n",
    "nltk.re_show('p[aeiou]{,2}t', s)"
   ]
  },
  {
   "cell_type": "markdown",
   "metadata": {},
   "source": [
    "```\\d+(\\.\\d+)?```\n",
    "* Any integer or floating point number"
   ]
  },
  {
   "cell_type": "code",
   "execution_count": 7,
   "metadata": {},
   "outputs": [
    {
     "output_type": "stream",
     "name": "stdout",
     "text": [
      "This is the numbers: {3}, {2.9}, {1.95}, {3.222222222222}, {321234}, {332132.3213123}\n"
     ]
    }
   ],
   "source": [
    "s = 'This is the numbers: 3, 2.9, 1.95, 3.222222222222, 321234, 332132.3213123'\n",
    "nltk.re_show('\\d+(.\\d+)?', s)"
   ]
  },
  {
   "cell_type": "markdown",
   "metadata": {},
   "source": [
    "```([^aeiou][aeiou][^aeiou])*```\n",
    "* Any sequence containing of a, e, i, o, or u where the left and right neighbors are not a, e, i, o, or u. It could also be the empty sequence (* means 0+ times)"
   ]
  },
  {
   "cell_type": "code",
   "execution_count": 8,
   "metadata": {},
   "outputs": [
    {
     "output_type": "stream",
     "name": "stdout",
     "text": [
      "{sas}{} {pet}{} {sit}{}\n{}s{}a{}i{}d{} {}s{}p{}o{}u{}s{}\n"
     ]
    }
   ],
   "source": [
    "valid_s = 'sas pet sit'\n",
    "invalid_s = 'said spous'\n",
    "\n",
    "nltk.re_show('([^aeiou][aeiou][^aeiou])*', valid_s)\n",
    "nltk.re_show('([^aeiou][aeiou][^aeiou])*', invalid_s)"
   ]
  },
  {
   "cell_type": "markdown",
   "metadata": {},
   "source": [
    "```\\w+|[^\\w\\s]+```\n",
    "* Any letter word or any symbol such as ? or ! or any repeating sequence of a non-letter characters and space i.e. symbols, spaces and numbers"
   ]
  },
  {
   "cell_type": "code",
   "execution_count": 9,
   "metadata": {},
   "outputs": [
    {
     "output_type": "stream",
     "name": "stdout",
     "text": [
      "{Valid}{!} {and} {also} {valid}{?} {Aaand} {?!?!?!} {123123}\n"
     ]
    }
   ],
   "source": [
    "s = 'Valid! and also valid? Aaand ?!?!?! 123123'\n",
    "nltk.re_show('\\w+|[^\\w\\s]+', s)"
   ]
  },
  {
   "cell_type": "markdown",
   "metadata": {},
   "source": [
    "**Exercise 30**\n",
    "Use the Porter Stemmer to normalize some tokenized text, calling the stemmer on each word. Do the same thing with the Lancaster Stemmer and see if you observe any differences."
   ]
  },
  {
   "cell_type": "code",
   "execution_count": 10,
   "metadata": {},
   "outputs": [
    {
     "output_type": "stream",
     "name": "stdout",
     "text": [
      "Porter Stemming\n['social', 'media', '&', 'the', 'press', 'are', 'current', 'incentiv', 'to', 'drastic', 'exagger', 'narr', 'of', 'divis', '.', 'thi', 'in', 'turn', 'creat', 'more', 'divis', '&', 'the', 'downward', 'spiral', 'continu', '.', 'I', 'hope', 'to', 'build', 'tech', 'that', 'chang', 'these', 'incent', '.', 'I', 'believ', 'there', 'is', 'much', 'more', 'love', 'than', 'hate', 'in', 'the', 'world', '.']\nLancaster Stemming\n['soc', 'med', '&', 'the', 'press', 'ar', 'cur', 'int', 'to', 'drast', 'exag', 'nar', 'of', 'divid', '.', 'thi', 'in', 'turn', 'cre', 'mor', 'divid', '&', 'the', 'downward', 'spir', 'continu', '.', 'i', 'hop', 'to', 'build', 'tech', 'that', 'chang', 'thes', 'int', '.', 'i', 'believ', 'ther', 'is', 'much', 'mor', 'lov', 'than', 'hat', 'in', 'the', 'world', '.']\n"
     ]
    }
   ],
   "source": [
    "tweet = 'Social media & the press are currently incentivized to drastically exaggerate narratives of division. This in turn creates more division & the downward spiral continues. I hope to build tech that changes these incentives. I believe there is much more love than hate in the world.'\n",
    "\n",
    "tokens = nltk.word_tokenize(tweet)\n",
    "\n",
    "porter = nltk.PorterStemmer()\n",
    "lancaster = nltk.LancasterStemmer()\n",
    "\n",
    "porter_stems = [porter.stem(t) for t in tokens]\n",
    "lancaster_stems = [lancaster.stem(t) for t in tokens]\n",
    "\n",
    "print('Porter Stemming')\n",
    "print(porter_stems)\n",
    "\n",
    "print('Lancaster Stemming')\n",
    "print(lancaster_stems)"
   ]
  },
  {
   "cell_type": "markdown",
   "metadata": {},
   "source": [
    "### Prelude to part 2. -  Data.\n",
    "\n",
    "In the follwing exercises, we will study the text contained in _r/wallstreebets_ submissions. To make things a bit more exciting, we will work with \\**all** the submissions posted in 2020 in _r/wallstreebets_. As you may well guess, we will need both the title and the content of each submission.\n",
    "\n",
    "To make things a bit less tedious for you guys, I downloaded and made avaialble the data you need (you can find it [here](https://github.com/lalessan/comsocsci2021/blob/master/data/wallstreet_subs.csv.gz)). The dataset consists of all the submissions posted between January 1st and December 31st 2020 with content in English. For each submission, you have the following information: timestamp of creation (__created_utc__), __title__, textual content (__selftext__), and __score__. You are welcome to use this data. If you prefer to download your own (see optional exercise below), that's even better!! As usual, I do not expect you to find a perfect match between your data and mine. In the exercises below, I refer to this data as the \"_wallstreetbets submissions dataset_\".\n",
    "\n",
    "_Exercise (Optional)_: \n",
    "\n",
    "> * Download all submissions posted on _r/wallstreetbets_ in 2020 using [psaw](https://pypi.org/project/psaw/).\n",
    "> * For each submission, keep the title, the textual content, the score, and the time of creation. \n",
    "> * Remove submissions whose content has been removed, and those that are not in English. You can use the library [langdetect](https://pypi.org/project/langdetect/) to detect the language of a given text.\n",
    "\n"
   ]
  },
  {
   "cell_type": "markdown",
   "metadata": {},
   "source": [
    "# Part 2 - Words that characterize stocks discussed on r/wallstreetbets\n",
    "\n",
    "In this section, we'll begin to play around with how far we can get with simple strategies for looking at text. The video is Sune talking about a fun paper, which shows you how little is needed in order to reveal something very interesting about humans that produce text. Then, we'll use a very simple weighting scheme called TF-IDF to find the words in the reddit r/wallstreetbets submissions that charachterize different stocks. In cleaning the Reddit submissions, we'll use some of the stuff you've just read about above. Finally, we'll even visualize them in a fun little word cloud (below is what I found for the discussions around Gamestop, Microsoft, and Tesla). The wordclouds may not be immediately understandable. But if you do some research on the important words, you will find that the TF-IDF method extracts quite interesting information.\n",
    "\n",
    "<img src=\"https://github.com/lalessan/comsocsci2021/blob/master/files/wordclouds.png?raw=true\" alt=\"Drawing\" style=\"width: 1000px;\"/>\n"
   ]
  },
  {
   "cell_type": "markdown",
   "metadata": {},
   "source": [
    "> **Video lecture**: Simple methods reveal a lot. Sune talks a little bit about the paper: [Personality, Gender, and Age in the Language of Social Media: The Open-Vocabulary Approach](http://journals.plos.org/plosone/article?id=10.1371/journal.pone.0073791).  "
   ]
  },
  {
   "cell_type": "code",
   "execution_count": 11,
   "metadata": {
    "scrolled": true
   },
   "outputs": [
    {
     "output_type": "execute_result",
     "data": {
      "text/plain": [
       "<IPython.lib.display.YouTubeVideo at 0x7f1fe51c1d00>"
      ],
      "text/html": "\n        <iframe\n            width=\"800\"\n            height=\"450\"\n            src=\"https://www.youtube.com/embed/wkYvdfkVmlI\"\n            frameborder=\"0\"\n            allowfullscreen\n        ></iframe>\n        ",
      "image/jpeg": "[encoded data removed]"
     },
     "metadata": {},
     "execution_count": 11
    }
   ],
   "source": [
    "YouTubeVideo(\"wkYvdfkVmlI\",width=800, height=450)"
   ]
  },
  {
   "cell_type": "markdown",
   "metadata": {},
   "source": [
    "_Exercise 2: Most discussed stocks in r/wallstreebets_. GME is only one among many stocks people have discussed in _r/wallstreetbets_. In this exercise, we will find the most discussed stocks on _wallstreetbets_. Stocks are identified by their [Ticker symbol](https://en.wikipedia.org/wiki/Ticker_symbol). A Ticker symbol is nothing but a string consisting of letters and numbers, and is typically quite short. For example the Gamestop symbol is _GME_, Amazon is _AMZN_, Alphabet is _GOOGL_..."
   ]
  },
  {
   "cell_type": "code",
   "execution_count": 12,
   "metadata": {},
   "outputs": [],
   "source": [
    "import nltk"
   ]
  },
  {
   "cell_type": "markdown",
   "metadata": {},
   "source": [
    "\n",
    "> 1. To talk about a specific stock, Redditors often use the corresponding ticker symbol [preceded by the dollar sign](https://www.reddit.com/r/wallstreetbets/comments/5yvvue/why_do_you_put_a_dollar_sign_in_front_of_a_ticker/) (\\$GME, \\$AMZN...). Write down a [Regular Expression](https://en.wikipedia.org/wiki/Regular_expression) matching words that begin with a dollar sign \"\\\\$\". See [NLPP book, section 3.4]()."
   ]
  },
  {
   "cell_type": "code",
   "execution_count": 13,
   "metadata": {},
   "outputs": [],
   "source": [
    "dollar_reg = '\\$\\w+'"
   ]
  },
  {
   "cell_type": "markdown",
   "metadata": {},
   "source": [
    "> 2. Load the _wallstreetbets submission dataset_ as a Pandas DataFrame and create a new column containing both the title and the textual content of each submission (as one long string). We refer to this as the _text_ of the submission."
   ]
  },
  {
   "cell_type": "code",
   "execution_count": 14,
   "metadata": {},
   "outputs": [],
   "source": [
    "import pandas as pd\n",
    "\n",
    "submissions = pd.read_csv('Data/week6/wallstreet_subs.csv', parse_dates=['created_utc'], \n",
    "                            date_parser=lambda d: pd.to_datetime(d, utc=True, unit='s'))"
   ]
  },
  {
   "cell_type": "code",
   "execution_count": 15,
   "metadata": {},
   "outputs": [],
   "source": [
    "submissions['text'] = submissions.apply(lambda row: ' '.join([row.title, row.selftext]), axis=1)"
   ]
  },
  {
   "cell_type": "markdown",
   "metadata": {},
   "source": [
    "> 3. For each submission, find all ticker symbols (those preceded by a dollar sign) contained in the _text_. Use the function [re.findall](https://docs.python.org/3/library/re.html), and the regular expression you created in point 1). Some tips for success: \n",
    "> > * Remove matches that are definetly not stock symbols (for example amounts like: \\$100, \\$1000k).\n",
    "> > * Convert all matches to uppercase\n",
    "> > * Remove the dollar sign at the beginning of the symbol (e.g. \\$gme → GME)."
   ]
  },
  {
   "cell_type": "code",
   "execution_count": 16,
   "metadata": {},
   "outputs": [],
   "source": [
    "import re\n",
    "\n",
    "def isMoney(word):\n",
    "    reg = '\\d+(\\.\\d+)?(MM|K|B|MILLION|x+|STOCK)?'\n",
    "    return re.match(reg, word)\n",
    "\n",
    "dollar_sign_words = []\n",
    "\n",
    "for t in submissions['text']:\n",
    "    for w in re.findall(dollar_reg, t):\n",
    "        w = w[1:].upper()\n",
    "        if not isMoney(w) and len(w) < 6:\n",
    "            dollar_sign_words.append(w)"
   ]
  },
  {
   "cell_type": "code",
   "execution_count": 17,
   "metadata": {
    "tags": []
   },
   "outputs": [
    {
     "output_type": "stream",
     "name": "stdout",
     "text": [
      "['GME', 'GME', 'GME', 'GME', 'GME', 'GME', 'GME', 'GME', 'GME', 'GME', 'GME', 'GME', 'GME', 'GME', 'GME', 'GME', 'GME', 'GME', 'GME', 'GME', 'GME', 'GME', 'GME', 'GME', 'GME', 'GME', 'GME', 'GME', 'GME', 'GME', 'GME', 'GME', 'GME', 'GME', 'GME', 'GME', 'GME', 'GME', 'GME', 'GME', 'GME', 'GME', 'GME', 'GME', 'GME', 'GME', 'GME', 'GME', 'GME', 'GME', 'GME', 'GME', 'GME', 'GME', 'GME', 'GME', 'GME', 'GME', 'GME', 'GME', 'GME', 'GME', 'GME', 'GME', 'GME', 'GME', 'GME', 'GME', 'GME', 'GME', 'GME', 'GME', 'GME', 'GME', 'GME', 'GME', 'GME', 'GME', 'GME', 'GME', 'GME', 'GME', 'GME', 'GME', 'GME', 'GME', 'GME', 'GME', 'GME', 'GME', 'GME', 'GME', 'GME', 'GME', 'GME', 'GME', 'GME', 'GME', 'GME', 'GME', 'GME', 'GME', 'GME', 'GME', 'GME', 'GME', 'GME', 'GME', 'GME', 'GME', 'GME', 'GME', 'GME', 'GME', 'GME', 'GME', 'GME', 'GME', 'GME', 'GME', 'GME', 'GME', 'GME', 'GME', 'GME', 'GME', 'GME', 'GME', 'GME', 'GME', 'GME', 'GME', 'GME', 'GME', 'GME', 'GME', 'GME', 'GME', 'GME', 'GME', 'GME', 'GME', 'GME', 'GME', 'GME', 'GME', 'GME', 'GME', 'GME', 'GME', 'GME', 'GME', 'GME', 'GME', 'GME', 'GME', 'GME', 'GME', 'GME', 'GME', 'GME', 'GME', 'GME', 'GME', 'GME', 'GME', 'GME', 'GME', 'GME', 'GME', 'GME', 'GME', 'GME', 'GME', 'GME', 'GME', 'GME', 'GME', 'GME', 'GME', 'GME', 'GME', 'GME', 'GME', 'GME', 'GME', 'GME', 'GME', 'GME', 'GME', 'GME', 'GME', 'GME', 'GME', 'GME', 'GME', 'GME', 'GME', 'GME', 'GME', 'GME', 'GME']\n"
     ]
    }
   ],
   "source": [
    "print([d for d in dollar_sign_words if d == 'GME'])"
   ]
  },
  {
   "cell_type": "markdown",
   "metadata": {},
   "source": [
    "> 4. Create a list containing the top 15 Ticker Symbols by number of occurrences. GME should be among them. If it is not, check again your analysis and/or come talk to me. Google the top 15 symbols and find the corresponding company names. Are they known companies or not?"
   ]
  },
  {
   "cell_type": "code",
   "execution_count": 18,
   "metadata": {},
   "outputs": [
    {
     "output_type": "error",
     "ename": "TypeError",
     "evalue": "unhashable type: 'slice'",
     "traceback": [
      "\u001b[0;31m---------------------------------------------------------------------------\u001b[0m",
      "\u001b[0;31mTypeError\u001b[0m                                 Traceback (most recent call last)",
      "\u001b[0;32m<ipython-input-18-b6910cefb93f>\u001b[0m in \u001b[0;36m<module>\u001b[0;34m\u001b[0m\n\u001b[1;32m      1\u001b[0m \u001b[0mstock_freq\u001b[0m \u001b[0;34m=\u001b[0m \u001b[0mnltk\u001b[0m\u001b[0;34m.\u001b[0m\u001b[0mFreqDist\u001b[0m\u001b[0;34m(\u001b[0m\u001b[0mdollar_sign_words\u001b[0m\u001b[0;34m)\u001b[0m\u001b[0;34m\u001b[0m\u001b[0;34m\u001b[0m\u001b[0m\n\u001b[0;32m----> 2\u001b[0;31m \u001b[0mtop15_stock\u001b[0m \u001b[0;34m=\u001b[0m \u001b[0mstock_freq\u001b[0m\u001b[0;34m[\u001b[0m\u001b[0;34m:\u001b[0m\u001b[0;36m15\u001b[0m\u001b[0;34m]\u001b[0m\u001b[0;34m\u001b[0m\u001b[0;34m\u001b[0m\u001b[0m\n\u001b[0m\u001b[1;32m      3\u001b[0m \u001b[0mtop15_stock\u001b[0m\u001b[0;34m\u001b[0m\u001b[0;34m\u001b[0m\u001b[0m\n",
      "\u001b[0;31mTypeError\u001b[0m: unhashable type: 'slice'"
     ]
    }
   ],
   "source": [
    "stock_freq = nltk.FreqDist(dollar_sign_words)\n",
    "top15_stock = stock_freq[:15]\n",
    "top15_stock"
   ]
  },
  {
   "cell_type": "markdown",
   "metadata": {},
   "source": [
    "_Exercise 3: TF-IDF and the stocks discussed on r/wallstreetbets._ The goal for this exercise is to find the words charachterizing each of the stocks discussed on r/wallstreetbets. We will focus on the top 15 stocks we idenfied in Exercise 2, and we will of course use TF-IDF."
   ]
  },
  {
   "cell_type": "markdown",
   "metadata": {},
   "source": [
    "> 1. First, check out [the wikipedia page for TF-IDF](https://en.wikipedia.org/wiki/Tf%E2%80%93idf). Explain in your own words the point of TF-IDF. \n",
    ">   * What does TF stand for? \n",
    ">   * What does IDF stand for?"
   ]
  },
  {
   "cell_type": "markdown",
   "metadata": {},
   "source": [
    "TF-IDF is a way of expressing how important a word is for a specific document in a corpus. The TF-IDF statistic also takes into account how often a word is occuring across documents in the corpus. Such that a word which appears often in a single document is deemed more characteristic for the document if it does not occur often in other documents in the corpus. So a word like 'the' will occur often in a document. But, it will most likely occur often in many documents and so it is not characteristic.\n",
    "\n",
    "TF - Term Frequency:\\\n",
    "The number of times a word occurs in a document. Often the term is also weighted according to the length of the text. Such that a long and a short text can still be compared.\n",
    "\n",
    "IDF - Inverse Document Frequency:\\\n",
    "A factor which weights the search terms/words by diminishing the wieght of words that appear often across different documents in the corpus and increases the weight of words that rarely occurs across the different documents in the corpus."
   ]
  },
  {
   "cell_type": "markdown",
   "metadata": {},
   "source": [
    "> 2. Tokenize the __text__ of each submission. Create a column __tokens__ in your dataframe containing the tokens. Remember the bullets below for success.\n",
    ">   * If you dont' know what _tokenization_ means, go back and read Chapter 3 again. **The advice to go back and check Chapter 3 is valid for every cleaning step below**.\n",
    ">   * Exclude punctuation.\n",
    ">   * Exclude URLs\n",
    ">   * Exclude stop words (if you don't know what stop words are, go back and read NLPP1e again).\n",
    ">   * Exclude numbers (since they're difficult to interpret in the word cloud).\n",
    ">   * Set everything to lower case.\n",
    ">   * **Note** that none of the above has to be perfect. And there's some room for improvisation. You can try using stemming. In my own first run the results didn't look so nice, because some submissions repeat certain words again and again and again, whereas other are very short. For that reason, I decided to use the unique set of words from each submission rather than each word in proportion to how it's actually used. Choices like that are up to you."
   ]
  },
  {
   "cell_type": "code",
   "execution_count": 18,
   "metadata": {},
   "outputs": [],
   "source": [
    "import nltk\n",
    "from nltk.corpus import stopwords\n",
    "import validators\n",
    "import re\n",
    "\n",
    "stop_words = stopwords.words('english')\n",
    "\n",
    "def tokenize(text):\n",
    "    tokens = []\n",
    "\n",
    "    for t in nltk.tokenize.word_tokenize(text):\n",
    "        if (not validators.url(t) and t not in stop_words \n",
    "            and not re.match('\\d+(.\\d+)?', t)):\n",
    "            t = t.replace('.', '').strip().lower()\n",
    "            tokens.append(t)\n",
    "\n",
    "    return tokens \n",
    "\n",
    "\n",
    "submissions['tokens'] = submissions['text'].apply(tokenize)"
   ]
  },
  {
   "cell_type": "code",
   "execution_count": 19,
   "metadata": {},
   "outputs": [
    {
     "data": {
      "text/html": [
       "<div>\n",
       "<style scoped>\n",
       "    .dataframe tbody tr th:only-of-type {\n",
       "        vertical-align: middle;\n",
       "    }\n",
       "\n",
       "    .dataframe tbody tr th {\n",
       "        vertical-align: top;\n",
       "    }\n",
       "\n",
       "    .dataframe thead th {\n",
       "        text-align: right;\n",
       "    }\n",
       "</style>\n",
       "<table border=\"1\" class=\"dataframe\">\n",
       "  <thead>\n",
       "    <tr style=\"text-align: right;\">\n",
       "      <th></th>\n",
       "      <th>created_utc</th>\n",
       "      <th>title</th>\n",
       "      <th>selftext</th>\n",
       "      <th>score</th>\n",
       "      <th>text</th>\n",
       "      <th>tokens</th>\n",
       "    </tr>\n",
       "  </thead>\n",
       "  <tbody>\n",
       "    <tr>\n",
       "      <th>0</th>\n",
       "      <td>2020-04-06 11:50:11+00:00</td>\n",
       "      <td>What is the Fed actually buying?</td>\n",
       "      <td>Okay, I may actually just be retarded. On my d...</td>\n",
       "      <td>1</td>\n",
       "      <td>What is the Fed actually buying? Okay, I may a...</td>\n",
       "      <td>[what, fed, actually, buying, ?, okay, ,, i, m...</td>\n",
       "    </tr>\n",
       "    <tr>\n",
       "      <th>1</th>\n",
       "      <td>2020-04-06 11:42:00+00:00</td>\n",
       "      <td>I didn’t learn about puts because I was lazy</td>\n",
       "      <td>Beginning of the this virus shit, everyone was...</td>\n",
       "      <td>1</td>\n",
       "      <td>I didn’t learn about puts because I was lazy B...</td>\n",
       "      <td>[i, ’, learn, puts, i, lazy, beginning, virus,...</td>\n",
       "    </tr>\n",
       "    <tr>\n",
       "      <th>2</th>\n",
       "      <td>2020-04-06 11:41:08+00:00</td>\n",
       "      <td>HOT TAKE</td>\n",
       "      <td>Literally everyone has free time on their hand...</td>\n",
       "      <td>1</td>\n",
       "      <td>HOT TAKE Literally everyone has free time on t...</td>\n",
       "      <td>[hot, take, literally, everyone, free, time, h...</td>\n",
       "    </tr>\n",
       "  </tbody>\n",
       "</table>\n",
       "</div>"
      ],
      "text/plain": [
       "                created_utc                                         title  \\\n",
       "0 2020-04-06 11:50:11+00:00              What is the Fed actually buying?   \n",
       "1 2020-04-06 11:42:00+00:00  I didn’t learn about puts because I was lazy   \n",
       "2 2020-04-06 11:41:08+00:00                                      HOT TAKE   \n",
       "\n",
       "                                            selftext  score  \\\n",
       "0  Okay, I may actually just be retarded. On my d...      1   \n",
       "1  Beginning of the this virus shit, everyone was...      1   \n",
       "2  Literally everyone has free time on their hand...      1   \n",
       "\n",
       "                                                text  \\\n",
       "0  What is the Fed actually buying? Okay, I may a...   \n",
       "1  I didn’t learn about puts because I was lazy B...   \n",
       "2  HOT TAKE Literally everyone has free time on t...   \n",
       "\n",
       "                                              tokens  \n",
       "0  [what, fed, actually, buying, ?, okay, ,, i, m...  \n",
       "1  [i, ’, learn, puts, i, lazy, beginning, virus,...  \n",
       "2  [hot, take, literally, everyone, free, time, h...  "
      ]
     },
     "execution_count": 19,
     "metadata": {},
     "output_type": "execute_result"
    }
   ],
   "source": [
    "submissions.head(3)"
   ]
  },
  {
   "cell_type": "markdown",
   "metadata": {},
   "source": [
    "> 3. Find submissions discussing at least one of the top 15 stocks you identified above. To do so: \n",
    "> > * Create a function that finds the intersection between a list of tokens and your list of top 15 stocks. For example, your function applied to the tokens: _\"[Here, TSLA, submission, GME]\"_ should return [\"TSLA\",\"GME\"]. (_Optional_: you can also try to included cases in which the list of tokens contains a company name among your top 15. For example the function applied to _\"[Here, Gamestop, submission]\"_ could return ['GME'].)\n",
    "> > * Create a new column _stock_ in your DataFrame, containing the output of your function applied to the _text_ column. Values in this column should be lists. \n",
    "> > * Handle cases where one post discusses more than one stock by applying the function [__explode__](https://pandas.pydata.org/pandas-docs/stable/reference/api/pandas.DataFrame.explode.html) to the _stock_ column. This will duplicate submissions associated to multiple stocks. After exploding, the values included in the _stock_ column should be strings. \n",
    "> > * Handle cases where none of the selected stocks is discussed by replacing Nan values, for example with \"Other\"."
   ]
  },
  {
   "cell_type": "code",
   "execution_count": 20,
   "metadata": {},
   "outputs": [],
   "source": [
    "import nltk\n",
    "\n",
    "def intersection(text, word_list):\n",
    "    return [w for w in nltk.tokenize.word_tokenize(text) if w in word_list]"
   ]
  },
  {
   "cell_type": "code",
   "execution_count": 21,
   "metadata": {},
   "outputs": [],
   "source": [
    "submissions['stock'] = submissions.text.apply(lambda text: intersection(text.upper(), top15_stock))\n",
    "submissions = submissions.explode('stock')\n",
    "submissions['stock'] = submissions['stock'].apply(lambda x: 'Other' if pd.isna(x) else x)"
   ]
  },
  {
   "cell_type": "code",
   "execution_count": 22,
   "metadata": {},
   "outputs": [
    {
     "data": {
      "text/html": [
       "<div>\n",
       "<style scoped>\n",
       "    .dataframe tbody tr th:only-of-type {\n",
       "        vertical-align: middle;\n",
       "    }\n",
       "\n",
       "    .dataframe tbody tr th {\n",
       "        vertical-align: top;\n",
       "    }\n",
       "\n",
       "    .dataframe thead th {\n",
       "        text-align: right;\n",
       "    }\n",
       "</style>\n",
       "<table border=\"1\" class=\"dataframe\">\n",
       "  <thead>\n",
       "    <tr style=\"text-align: right;\">\n",
       "      <th></th>\n",
       "      <th>created_utc</th>\n",
       "      <th>title</th>\n",
       "      <th>selftext</th>\n",
       "      <th>score</th>\n",
       "      <th>text</th>\n",
       "      <th>tokens</th>\n",
       "      <th>stock</th>\n",
       "    </tr>\n",
       "  </thead>\n",
       "  <tbody>\n",
       "    <tr>\n",
       "      <th>0</th>\n",
       "      <td>2020-04-06 11:50:11+00:00</td>\n",
       "      <td>What is the Fed actually buying?</td>\n",
       "      <td>Okay, I may actually just be retarded. On my d...</td>\n",
       "      <td>1</td>\n",
       "      <td>What is the Fed actually buying? Okay, I may a...</td>\n",
       "      <td>[what, fed, actually, buying, ?, okay, ,, i, m...</td>\n",
       "      <td>Other</td>\n",
       "    </tr>\n",
       "    <tr>\n",
       "      <th>1</th>\n",
       "      <td>2020-04-06 11:42:00+00:00</td>\n",
       "      <td>I didn’t learn about puts because I was lazy</td>\n",
       "      <td>Beginning of the this virus shit, everyone was...</td>\n",
       "      <td>1</td>\n",
       "      <td>I didn’t learn about puts because I was lazy B...</td>\n",
       "      <td>[i, ’, learn, puts, i, lazy, beginning, virus,...</td>\n",
       "      <td>Other</td>\n",
       "    </tr>\n",
       "    <tr>\n",
       "      <th>2</th>\n",
       "      <td>2020-04-06 11:41:08+00:00</td>\n",
       "      <td>HOT TAKE</td>\n",
       "      <td>Literally everyone has free time on their hand...</td>\n",
       "      <td>1</td>\n",
       "      <td>HOT TAKE Literally everyone has free time on t...</td>\n",
       "      <td>[hot, take, literally, everyone, free, time, h...</td>\n",
       "      <td>Other</td>\n",
       "    </tr>\n",
       "    <tr>\n",
       "      <th>3</th>\n",
       "      <td>2020-04-06 11:30:39+00:00</td>\n",
       "      <td>Fuck you Gordon</td>\n",
       "      <td>Gordon I believed in you, I can't even begin t...</td>\n",
       "      <td>1</td>\n",
       "      <td>Fuck you Gordon Gordon I believed in you, I ca...</td>\n",
       "      <td>[fuck, gordon, gordon, i, believed, ,, i, ca, ...</td>\n",
       "      <td>Other</td>\n",
       "    </tr>\n",
       "    <tr>\n",
       "      <th>4</th>\n",
       "      <td>2020-04-06 11:17:02+00:00</td>\n",
       "      <td>Can’t find a picture</td>\n",
       "      <td>Someone uploaded a ohoto of the stock market h...</td>\n",
       "      <td>1</td>\n",
       "      <td>Can’t find a picture Someone uploaded a ohoto ...</td>\n",
       "      <td>[can, ’, find, picture, someone, uploaded, oho...</td>\n",
       "      <td>Other</td>\n",
       "    </tr>\n",
       "    <tr>\n",
       "      <th>5</th>\n",
       "      <td>2020-04-06 11:12:15+00:00</td>\n",
       "      <td>Jamie Dimon has joined the bull gang. CNBC: “J...</td>\n",
       "      <td>https://www.cnbc.com/2020/04/06/jamie-dimon-de...</td>\n",
       "      <td>1</td>\n",
       "      <td>Jamie Dimon has joined the bull gang. CNBC: “J...</td>\n",
       "      <td>[jamie, dimon, joined, bull, gang, , cnbc, :, ...</td>\n",
       "      <td>Other</td>\n",
       "    </tr>\n",
       "    <tr>\n",
       "      <th>6</th>\n",
       "      <td>2020-04-06 11:11:55+00:00</td>\n",
       "      <td>Gauise... Gaise listen... I think Larry Fink i...</td>\n",
       "      <td>[https://www.google.de/amp/s/www.cnbc.com/amp/...</td>\n",
       "      <td>1</td>\n",
       "      <td>Gauise... Gaise listen... I think Larry Fink i...</td>\n",
       "      <td>[gauise, , gaise, listen, , i, think, larry, f...</td>\n",
       "      <td>Other</td>\n",
       "    </tr>\n",
       "    <tr>\n",
       "      <th>7</th>\n",
       "      <td>2020-04-06 11:05:51+00:00</td>\n",
       "      <td>Daily Discussion Thread - April 06, 2020</td>\n",
       "      <td>Your daily trading discussion thread. Please k...</td>\n",
       "      <td>1</td>\n",
       "      <td>Daily Discussion Thread - April 06, 2020 Your ...</td>\n",
       "      <td>[daily, discussion, thread, -, april, ,, your,...</td>\n",
       "      <td>Other</td>\n",
       "    </tr>\n",
       "    <tr>\n",
       "      <th>8</th>\n",
       "      <td>2020-04-06 11:05:50+00:00</td>\n",
       "      <td>The Big Bubble Keeps Getting Bigger - Junk Bonds</td>\n",
       "      <td>[https://www.cnbc.com/2020/04/06/investing-in-...</td>\n",
       "      <td>1</td>\n",
       "      <td>The Big Bubble Keeps Getting Bigger - Junk Bon...</td>\n",
       "      <td>[the, big, bubble, keeps, getting, bigger, -, ...</td>\n",
       "      <td>Other</td>\n",
       "    </tr>\n",
       "    <tr>\n",
       "      <th>9</th>\n",
       "      <td>2020-04-06 10:59:35+00:00</td>\n",
       "      <td>SPY PREDICTION- I'M 100% SURE THAT I MIGHT BE ...</td>\n",
       "      <td>How in the fuck did we actually miss the botto...</td>\n",
       "      <td>1</td>\n",
       "      <td>SPY PREDICTION- I'M 100% SURE THAT I MIGHT BE ...</td>\n",
       "      <td>[spy, prediction-, i, 'm, %, sure, that, i, mi...</td>\n",
       "      <td>SPY</td>\n",
       "    </tr>\n",
       "    <tr>\n",
       "      <th>9</th>\n",
       "      <td>2020-04-06 10:59:35+00:00</td>\n",
       "      <td>SPY PREDICTION- I'M 100% SURE THAT I MIGHT BE ...</td>\n",
       "      <td>How in the fuck did we actually miss the botto...</td>\n",
       "      <td>1</td>\n",
       "      <td>SPY PREDICTION- I'M 100% SURE THAT I MIGHT BE ...</td>\n",
       "      <td>[spy, prediction-, i, 'm, %, sure, that, i, mi...</td>\n",
       "      <td>SPY</td>\n",
       "    </tr>\n",
       "    <tr>\n",
       "      <th>9</th>\n",
       "      <td>2020-04-06 10:59:35+00:00</td>\n",
       "      <td>SPY PREDICTION- I'M 100% SURE THAT I MIGHT BE ...</td>\n",
       "      <td>How in the fuck did we actually miss the botto...</td>\n",
       "      <td>1</td>\n",
       "      <td>SPY PREDICTION- I'M 100% SURE THAT I MIGHT BE ...</td>\n",
       "      <td>[spy, prediction-, i, 'm, %, sure, that, i, mi...</td>\n",
       "      <td>SPY</td>\n",
       "    </tr>\n",
       "    <tr>\n",
       "      <th>9</th>\n",
       "      <td>2020-04-06 10:59:35+00:00</td>\n",
       "      <td>SPY PREDICTION- I'M 100% SURE THAT I MIGHT BE ...</td>\n",
       "      <td>How in the fuck did we actually miss the botto...</td>\n",
       "      <td>1</td>\n",
       "      <td>SPY PREDICTION- I'M 100% SURE THAT I MIGHT BE ...</td>\n",
       "      <td>[spy, prediction-, i, 'm, %, sure, that, i, mi...</td>\n",
       "      <td>SPY</td>\n",
       "    </tr>\n",
       "    <tr>\n",
       "      <th>9</th>\n",
       "      <td>2020-04-06 10:59:35+00:00</td>\n",
       "      <td>SPY PREDICTION- I'M 100% SURE THAT I MIGHT BE ...</td>\n",
       "      <td>How in the fuck did we actually miss the botto...</td>\n",
       "      <td>1</td>\n",
       "      <td>SPY PREDICTION- I'M 100% SURE THAT I MIGHT BE ...</td>\n",
       "      <td>[spy, prediction-, i, 'm, %, sure, that, i, mi...</td>\n",
       "      <td>SPY</td>\n",
       "    </tr>\n",
       "    <tr>\n",
       "      <th>10</th>\n",
       "      <td>2020-04-06 10:51:41+00:00</td>\n",
       "      <td>Ivermectin being used as a potential drug agai...</td>\n",
       "      <td>https://www.firstpost.com/health/anti-parasiti...</td>\n",
       "      <td>1</td>\n",
       "      <td>Ivermectin being used as a potential drug agai...</td>\n",
       "      <td>[ivermectin, used, potential, drug, covid-19, ...</td>\n",
       "      <td>Other</td>\n",
       "    </tr>\n",
       "    <tr>\n",
       "      <th>11</th>\n",
       "      <td>2020-04-06 10:12:48+00:00</td>\n",
       "      <td>How do you choose the stocks to trade?</td>\n",
       "      <td>Do you use charts? Fundamentals? If you are us...</td>\n",
       "      <td>1</td>\n",
       "      <td>How do you choose the stocks to trade? Do you ...</td>\n",
       "      <td>[how, choose, stocks, trade, ?, do, use, chart...</td>\n",
       "      <td>Other</td>\n",
       "    </tr>\n",
       "    <tr>\n",
       "      <th>12</th>\n",
       "      <td>2020-04-06 10:03:15+00:00</td>\n",
       "      <td>Question about \"6 trillion dollar\" response by...</td>\n",
       "      <td>Hello everyone, this is my first time posting ...</td>\n",
       "      <td>1</td>\n",
       "      <td>Question about \"6 trillion dollar\" response by...</td>\n",
       "      <td>[question, ``, trillion, dollar, '', response,...</td>\n",
       "      <td>Other</td>\n",
       "    </tr>\n",
       "    <tr>\n",
       "      <th>13</th>\n",
       "      <td>2020-04-06 09:57:38+00:00</td>\n",
       "      <td>Dow Futures up 810 points as of 5:30 am est......</td>\n",
       "      <td>I was expecting red. Orange man say 100k going...</td>\n",
       "      <td>1</td>\n",
       "      <td>Dow Futures up 810 points as of 5:30 am est......</td>\n",
       "      <td>[dow, futures, points, est, , printer, autisti...</td>\n",
       "      <td>Other</td>\n",
       "    </tr>\n",
       "    <tr>\n",
       "      <th>14</th>\n",
       "      <td>2020-04-06 09:38:45+00:00</td>\n",
       "      <td>How long do you think the quarantine will last...</td>\n",
       "      <td>How many months difference is there between wh...</td>\n",
       "      <td>1</td>\n",
       "      <td>How long do you think the quarantine will last...</td>\n",
       "      <td>[how, long, think, quarantine, last, ?, how, l...</td>\n",
       "      <td>Other</td>\n",
       "    </tr>\n",
       "    <tr>\n",
       "      <th>15</th>\n",
       "      <td>2020-04-06 08:58:28+00:00</td>\n",
       "      <td>Charity ASMR for incontinent gamblers</td>\n",
       "      <td>Fellow gamblers, dinstinguished bookies,\\n\\nI ...</td>\n",
       "      <td>1</td>\n",
       "      <td>Charity ASMR for incontinent gamblers Fellow g...</td>\n",
       "      <td>[charity, asmr, incontinent, gamblers, fellow,...</td>\n",
       "      <td>Other</td>\n",
       "    </tr>\n",
       "  </tbody>\n",
       "</table>\n",
       "</div>"
      ],
      "text/plain": [
       "                 created_utc  \\\n",
       "0  2020-04-06 11:50:11+00:00   \n",
       "1  2020-04-06 11:42:00+00:00   \n",
       "2  2020-04-06 11:41:08+00:00   \n",
       "3  2020-04-06 11:30:39+00:00   \n",
       "4  2020-04-06 11:17:02+00:00   \n",
       "5  2020-04-06 11:12:15+00:00   \n",
       "6  2020-04-06 11:11:55+00:00   \n",
       "7  2020-04-06 11:05:51+00:00   \n",
       "8  2020-04-06 11:05:50+00:00   \n",
       "9  2020-04-06 10:59:35+00:00   \n",
       "9  2020-04-06 10:59:35+00:00   \n",
       "9  2020-04-06 10:59:35+00:00   \n",
       "9  2020-04-06 10:59:35+00:00   \n",
       "9  2020-04-06 10:59:35+00:00   \n",
       "10 2020-04-06 10:51:41+00:00   \n",
       "11 2020-04-06 10:12:48+00:00   \n",
       "12 2020-04-06 10:03:15+00:00   \n",
       "13 2020-04-06 09:57:38+00:00   \n",
       "14 2020-04-06 09:38:45+00:00   \n",
       "15 2020-04-06 08:58:28+00:00   \n",
       "\n",
       "                                                title  \\\n",
       "0                    What is the Fed actually buying?   \n",
       "1        I didn’t learn about puts because I was lazy   \n",
       "2                                            HOT TAKE   \n",
       "3                                     Fuck you Gordon   \n",
       "4                                Can’t find a picture   \n",
       "5   Jamie Dimon has joined the bull gang. CNBC: “J...   \n",
       "6   Gauise... Gaise listen... I think Larry Fink i...   \n",
       "7            Daily Discussion Thread - April 06, 2020   \n",
       "8    The Big Bubble Keeps Getting Bigger - Junk Bonds   \n",
       "9   SPY PREDICTION- I'M 100% SURE THAT I MIGHT BE ...   \n",
       "9   SPY PREDICTION- I'M 100% SURE THAT I MIGHT BE ...   \n",
       "9   SPY PREDICTION- I'M 100% SURE THAT I MIGHT BE ...   \n",
       "9   SPY PREDICTION- I'M 100% SURE THAT I MIGHT BE ...   \n",
       "9   SPY PREDICTION- I'M 100% SURE THAT I MIGHT BE ...   \n",
       "10  Ivermectin being used as a potential drug agai...   \n",
       "11             How do you choose the stocks to trade?   \n",
       "12  Question about \"6 trillion dollar\" response by...   \n",
       "13  Dow Futures up 810 points as of 5:30 am est......   \n",
       "14  How long do you think the quarantine will last...   \n",
       "15              Charity ASMR for incontinent gamblers   \n",
       "\n",
       "                                             selftext  score  \\\n",
       "0   Okay, I may actually just be retarded. On my d...      1   \n",
       "1   Beginning of the this virus shit, everyone was...      1   \n",
       "2   Literally everyone has free time on their hand...      1   \n",
       "3   Gordon I believed in you, I can't even begin t...      1   \n",
       "4   Someone uploaded a ohoto of the stock market h...      1   \n",
       "5   https://www.cnbc.com/2020/04/06/jamie-dimon-de...      1   \n",
       "6   [https://www.google.de/amp/s/www.cnbc.com/amp/...      1   \n",
       "7   Your daily trading discussion thread. Please k...      1   \n",
       "8   [https://www.cnbc.com/2020/04/06/investing-in-...      1   \n",
       "9   How in the fuck did we actually miss the botto...      1   \n",
       "9   How in the fuck did we actually miss the botto...      1   \n",
       "9   How in the fuck did we actually miss the botto...      1   \n",
       "9   How in the fuck did we actually miss the botto...      1   \n",
       "9   How in the fuck did we actually miss the botto...      1   \n",
       "10  https://www.firstpost.com/health/anti-parasiti...      1   \n",
       "11  Do you use charts? Fundamentals? If you are us...      1   \n",
       "12  Hello everyone, this is my first time posting ...      1   \n",
       "13  I was expecting red. Orange man say 100k going...      1   \n",
       "14  How many months difference is there between wh...      1   \n",
       "15  Fellow gamblers, dinstinguished bookies,\\n\\nI ...      1   \n",
       "\n",
       "                                                 text  \\\n",
       "0   What is the Fed actually buying? Okay, I may a...   \n",
       "1   I didn’t learn about puts because I was lazy B...   \n",
       "2   HOT TAKE Literally everyone has free time on t...   \n",
       "3   Fuck you Gordon Gordon I believed in you, I ca...   \n",
       "4   Can’t find a picture Someone uploaded a ohoto ...   \n",
       "5   Jamie Dimon has joined the bull gang. CNBC: “J...   \n",
       "6   Gauise... Gaise listen... I think Larry Fink i...   \n",
       "7   Daily Discussion Thread - April 06, 2020 Your ...   \n",
       "8   The Big Bubble Keeps Getting Bigger - Junk Bon...   \n",
       "9   SPY PREDICTION- I'M 100% SURE THAT I MIGHT BE ...   \n",
       "9   SPY PREDICTION- I'M 100% SURE THAT I MIGHT BE ...   \n",
       "9   SPY PREDICTION- I'M 100% SURE THAT I MIGHT BE ...   \n",
       "9   SPY PREDICTION- I'M 100% SURE THAT I MIGHT BE ...   \n",
       "9   SPY PREDICTION- I'M 100% SURE THAT I MIGHT BE ...   \n",
       "10  Ivermectin being used as a potential drug agai...   \n",
       "11  How do you choose the stocks to trade? Do you ...   \n",
       "12  Question about \"6 trillion dollar\" response by...   \n",
       "13  Dow Futures up 810 points as of 5:30 am est......   \n",
       "14  How long do you think the quarantine will last...   \n",
       "15  Charity ASMR for incontinent gamblers Fellow g...   \n",
       "\n",
       "                                               tokens  stock  \n",
       "0   [what, fed, actually, buying, ?, okay, ,, i, m...  Other  \n",
       "1   [i, ’, learn, puts, i, lazy, beginning, virus,...  Other  \n",
       "2   [hot, take, literally, everyone, free, time, h...  Other  \n",
       "3   [fuck, gordon, gordon, i, believed, ,, i, ca, ...  Other  \n",
       "4   [can, ’, find, picture, someone, uploaded, oho...  Other  \n",
       "5   [jamie, dimon, joined, bull, gang, , cnbc, :, ...  Other  \n",
       "6   [gauise, , gaise, listen, , i, think, larry, f...  Other  \n",
       "7   [daily, discussion, thread, -, april, ,, your,...  Other  \n",
       "8   [the, big, bubble, keeps, getting, bigger, -, ...  Other  \n",
       "9   [spy, prediction-, i, 'm, %, sure, that, i, mi...    SPY  \n",
       "9   [spy, prediction-, i, 'm, %, sure, that, i, mi...    SPY  \n",
       "9   [spy, prediction-, i, 'm, %, sure, that, i, mi...    SPY  \n",
       "9   [spy, prediction-, i, 'm, %, sure, that, i, mi...    SPY  \n",
       "9   [spy, prediction-, i, 'm, %, sure, that, i, mi...    SPY  \n",
       "10  [ivermectin, used, potential, drug, covid-19, ...  Other  \n",
       "11  [how, choose, stocks, trade, ?, do, use, chart...  Other  \n",
       "12  [question, ``, trillion, dollar, '', response,...  Other  \n",
       "13  [dow, futures, points, est, , printer, autisti...  Other  \n",
       "14  [how, long, think, quarantine, last, ?, how, l...  Other  \n",
       "15  [charity, asmr, incontinent, gamblers, fellow,...  Other  "
      ]
     },
     "execution_count": 22,
     "metadata": {},
     "output_type": "execute_result"
    }
   ],
   "source": [
    "submissions.head(20)"
   ]
  },
  {
   "cell_type": "markdown",
   "metadata": {},
   "source": [
    "> 4. Now, we want to find out which words are important for each *stock*, so we're going to create several ***large documents, one for each stock***. Each document includes all the tokens related to the same stock. We will also have a document including discussions that do not relate to the top 15 stocks."
   ]
  },
  {
   "cell_type": "code",
   "execution_count": 23,
   "metadata": {},
   "outputs": [],
   "source": [
    "def concat(series):\n",
    "    document = []\n",
    "    for tokens in series:\n",
    "        document += tokens\n",
    "    \n",
    "    return document\n",
    "\n",
    "stock_documents = submissions.groupby('stock')['tokens'].apply(concat)"
   ]
  },
  {
   "cell_type": "code",
   "execution_count": 24,
   "metadata": {},
   "outputs": [
    {
     "data": {
      "text/plain": [
       "stock\n",
       "AAPL     [spx, :, likely, go, higher, week-, do, n't, f...\n",
       "AMD      [companies, likely, still, beat, earnings, q1,...\n",
       "AMZN     [is, shorting, exciting, pass, guys, ?, i, und...\n",
       "BA       [here, positions, commented, last, hours, --, ...\n",
       "BABA     [question, theta, gang, theta, gang, ,, come, ...\n",
       "DIS      [any, canadian, trading, us, options, stock, e...\n",
       "GME      [here, positions, commented, last, hours, --, ...\n",
       "MSFT     [here, positions, commented, last, hours, --, ...\n",
       "NIO      [chinese, adrs, :, if, ca, n't, say, something...\n",
       "Other    [what, fed, actually, buying, ?, okay, ,, i, m...\n",
       "PLTR     [pltr, vs, dkng, theory, pluto, mission, -2022...\n",
       "ROPE     [don, ’, sell, otm, puts, tomorrow, morning, i...\n",
       "SPCE     [psa, :, market, closed, due, empty, ink, cart...\n",
       "SPY      [spy, prediction-, i, 'm, %, sure, that, i, mi...\n",
       "TSLA     [any, canadian, trading, us, options, stock, e...\n",
       "ZM       [thoughts, zm, puts, currently, pe, ratio, ’, ...\n",
       "Name: tokens, dtype: object"
      ]
     },
     "execution_count": 24,
     "metadata": {},
     "output_type": "execute_result"
    }
   ],
   "source": [
    "stock_documents"
   ]
  },
  {
   "cell_type": "markdown",
   "metadata": {},
   "source": [
    "> 5. Now, we're ready to calculate the TF for each word. Use the method of your choice to find the top 5 terms within __5 stocks of your choice__. \n",
    ">   * Describe similarities and differences between the stocks.\n",
    ">   * Why aren't the TFs not necessarily a good description of the stocks?\n",
    ">   * Next, we calculate IDF for every word. \n",
    ">   * What base logarithm did you use? Is that important?"
   ]
  },
  {
   "cell_type": "code",
   "execution_count": 43,
   "metadata": {},
   "outputs": [
    {
     "name": "stdout",
     "output_type": "stream",
     "text": [
      "TSLA: [',', '', ')', '(', '*', ']', '[', 'tsla', '$', ':', 'i', ';', '&', 'amp', '#']\n",
      "GME: ['', ',', '*', 'i', 'gme', ')', '(', ':', '’', '$', ';', '?', '&', '[', ']']\n",
      "MSFT: [',', ')', '(', ']', '[', '*', '', '--', '$', ';', ':', 'i', '#', '&', 'msft']\n",
      "AMZN: [',', ')', '(', '', '*', '[', ']', ':', '$', ';', '#', '&', 'i', 'https', '%']\n",
      "AAPL: ['*', ',', '', ')', '(', ':', '#', ';', '[', ']', '&', '$', 'i', 'aapl', 'amp']\n"
     ]
    }
   ],
   "source": [
    "import nltk\n",
    "\n",
    "TSLA_Freq_Dist = nltk.FreqDist(stock_documents['TSLA'])\n",
    "print(f'TSLA: {list(TSLA_Freq_Dist)[:15]}')\n",
    "\n",
    "GME_Freq_Dist = nltk.FreqDist(stock_documents['GME'])\n",
    "print(f'GME: {list(GME_Freq_Dist)[:15]}')\n",
    "\n",
    "MSFT_Freq_Dist = nltk.FreqDist(stock_documents['MSFT'])\n",
    "print(f'MSFT: {list(MSFT_Freq_Dist)[:15]}')\n",
    "\n",
    "AMZN_Freq_Dist = nltk.FreqDist(stock_documents['AMZN'])\n",
    "print(f'AMZN: {list(AMZN_Freq_Dist)[:15]}')\n",
    "\n",
    "AAPL_Freq_Dist = nltk.FreqDist(stock_documents['AAPL'])\n",
    "print(f'AAPL: {list(AAPL_Freq_Dist)[:15]}')"
   ]
  },
  {
   "cell_type": "markdown",
   "metadata": {},
   "source": [
    "> 6. We're ready to calculate TF-IDF. Do that for the __5 stock of your choice__. \n",
    ">   * List the 10 top TF words for each stock.\n",
    ">  * List the 10 top TF-IDF words for each stock.\n",
    ">   * Are these 10 words more descriptive of the stock? If yes, what is it about IDF that makes the words more informative?"
   ]
  },
  {
   "cell_type": "code",
   "execution_count": 68,
   "metadata": {},
   "outputs": [],
   "source": [
    "from sklearn.feature_extraction.text import TfidfVectorizer\n",
    "\n",
    "text_stock_documents = stock_documents.apply(lambda doc: ' '.join(doc))\n",
    "\n",
    "tfIdfVectorizer=TfidfVectorizer(use_idf=True)\n",
    "tfIdf = tfIdfVectorizer.fit_transform(text_stock_documents)"
   ]
  },
  {
   "cell_type": "code",
   "execution_count": 69,
   "metadata": {},
   "outputs": [],
   "source": [
    "def print_top(stock, top=10):\n",
    "    df = pd.DataFrame(tfIdf[stock].T.todense(), index=tfIdfVectorizer.get_feature_names(), columns=[\"TF-IDF\"])\n",
    "    df = df.sort_values('TF-IDF', ascending=False)\n",
    "    print (df.head(top))"
   ]
  },
  {
   "cell_type": "code",
   "execution_count": 73,
   "metadata": {},
   "outputs": [
    {
     "name": "stdout",
     "output_type": "stream",
     "text": [
      "TSLA\n",
      "                  TF-IDF\n",
      "wallstreetbets  0.565936\n",
      "comments        0.565646\n",
      "tsla            0.364739\n",
      "amp             0.180086\n",
      "https           0.150124\n",
      "the             0.084383\n",
      "stock           0.077490\n",
      "tesla           0.070066\n",
      "spy             0.067878\n",
      "market          0.065011\n",
      "\n",
      "GME\n",
      "            TF-IDF\n",
      "gme       0.566540\n",
      "https     0.221501\n",
      "amp       0.200297\n",
      "short     0.196806\n",
      "gamestop  0.161097\n",
      "the       0.154072\n",
      "shares    0.141676\n",
      "cohen     0.133128\n",
      "long      0.132281\n",
      "squeeze   0.113719\n",
      "\n",
      "MSFT\n",
      "                                              TF-IDF\n",
      "comments                                    0.666544\n",
      "wallstreetbets                              0.665804\n",
      "msft                                        0.121529\n",
      "what_are_your_moves_tomorrow_april_30_2020  0.084146\n",
      "gagmei                                      0.084146\n",
      "spy                                         0.082602\n",
      "amp                                         0.080703\n",
      "the                                         0.059249\n",
      "https                                       0.052433\n",
      "daily_discussion_thread_for_april_30_2020   0.050325\n",
      "\n",
      "AMZN\n",
      "                  TF-IDF\n",
      "wallstreetbets  0.597863\n",
      "comments        0.594467\n",
      "https           0.211324\n",
      "amp             0.172505\n",
      "amzn            0.154123\n",
      "wwwredditcom    0.116582\n",
      "earnings        0.096580\n",
      "gt              0.094555\n",
      "the             0.091782\n",
      "tsla            0.084118\n",
      "\n",
      "AAPL\n",
      "                  TF-IDF\n",
      "opcalccom       0.311133\n",
      "aapl            0.309925\n",
      "wallstreetbets  0.304766\n",
      "comments        0.301493\n",
      "amp             0.283745\n",
      "http            0.222876\n",
      "https           0.199237\n",
      "gt              0.195888\n",
      "the             0.163240\n",
      "earnings        0.145106\n"
     ]
    }
   ],
   "source": [
    "print('TSLA')\n",
    "print_top(14) #TSLA\n",
    "print('\\nGME')\n",
    "print_top(6) #GME\n",
    "print('\\nMSFT')\n",
    "print_top(7) #MSFT\n",
    "print('\\nAMZN')\n",
    "print_top(2) #AMZN\n",
    "print('\\nAAPL')\n",
    "print_top(0) #AAPL"
   ]
  },
  {
   "cell_type": "markdown",
   "metadata": {},
   "source": [
    "The TF-IDF is much more informative, because all the \"common\" words across the documents are now filered out."
   ]
  },
  {
   "cell_type": "markdown",
   "metadata": {},
   "source": [
    " _Exercise 4: The Wordcloud_. It's time to visualize our results!\n",
    "\n",
    "> * Install the [`WordCloud`](https://pypi.org/project/wordcloud/) module. \n",
    "> * Now, create word-cloud for each stock. Feel free to make it as fancy or non-fancy as you like. \n",
    "> * Comment on the results. Are these words to be expected? Is there anything that is surprising? "
   ]
  },
  {
   "cell_type": "code",
   "execution_count": 90,
   "metadata": {},
   "outputs": [],
   "source": [
    "from wordcloud import WordCloud\n",
    "import matplotlib.pyplot as plt\n",
    "\n",
    "def plot_wordcloud(stock):\n",
    "    text = ' '.join(stock_documents[stock])\n",
    "    wordcloud = WordCloud().generate(text)\n",
    "\n",
    "    # lower max_font_size\n",
    "    wordcloud = WordCloud(max_font_size=40).generate(text)\n",
    "    fig, ax = plt.subplots(figsize=(15,5))\n",
    "    plt.imshow(wordcloud, interpolation=\"bilinear\")\n",
    "    plt.axis(\"off\")\n",
    "    plt.show()"
   ]
  },
  {
   "cell_type": "code",
   "execution_count": 91,
   "metadata": {},
   "outputs": [
    {
     "data": {
      "text/plain": [
       "Index(['AAPL', 'AMD', 'AMZN', 'BA', 'BABA', 'DIS', 'GME', 'MSFT', 'NIO',\n",
       "       'Other', 'PLTR', 'ROPE', 'SPCE', 'SPY', 'TSLA', 'ZM'],\n",
       "      dtype='object', name='stock')"
      ]
     },
     "execution_count": 91,
     "metadata": {},
     "output_type": "execute_result"
    }
   ],
   "source": [
    "stock_documents.keys()"
   ]
  },
  {
   "cell_type": "code",
   "execution_count": 94,
   "metadata": {},
   "outputs": [
    {
     "data": {
      "image/png": "[encoded data removed]",
      "text/plain": [
       "<Figure size 1080x360 with 1 Axes>"
      ]
     },
     "metadata": {
      "needs_background": "light"
     },
     "output_type": "display_data"
    }
   ],
   "source": [
    "plot_wordcloud('GME')"
   ]
  },
  {
   "cell_type": "markdown",
   "metadata": {},
   "source": [
    "_Exercise 5: A Study Project in Computational Social Science._\n",
    "> 1. Read the [Project Assignment](https://github.com/lalessan/comsocsci2021/wiki/Project-Assignment) page, where I explain how to set up a Study Project.\n",
    "> 2. Think of a topic of interest to your would like to study using data downloaded from the Web (Wikipedia, Twitter, Reddit, Facebook, Github, other data sources...), and some of the methods we have seen in this course. \n",
    "> 3. What is the topic? \n",
    "> 4. What is the data? \n",
    "> 5. Write down 3 research questions related to your topic that you would like to investigate.\n",
    "> 6. Put together 1 slide including the answers to points 3,4,5.\n",
    "\n",
    "__Important__: This will be by no means the final choice for your Project Assignment. All I want is for you guys to start thinking about it."
   ]
  },
  {
   "cell_type": "code",
   "execution_count": null,
   "metadata": {},
   "outputs": [],
   "source": []
  }
 ],
 "metadata": {
  "anaconda-cloud": {},
  "kernelspec": {
   "display_name": "Python 3",
   "language": "python",
   "name": "python3"
  },
  "language_info": {
   "codemirror_mode": {
    "name": "ipython",
    "version": 3
   },
   "file_extension": ".py",
   "mimetype": "text/x-python",
   "name": "python",
   "nbconvert_exporter": "python",
   "pygments_lexer": "ipython3",
   "version": "3.9.1-final"
  }
 },
 "nbformat": 4,
 "nbformat_minor": 4
}