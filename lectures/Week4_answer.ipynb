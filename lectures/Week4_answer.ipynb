{
 "cells": [
  {
   "cell_type": "markdown",
   "metadata": {},
   "source": [
    "# Overview\n",
    "\n",
    "This week we'll talk about some of the charachteristics of real-world social networks. The structure is the following: \n",
    "\n",
    "* Part 1: A crash course on real-world social networks.\n",
    "* Part 2: Visualizing the network of Redditors\n",
    "* Part 3: Properties of the real-world network of Redditors\n",
    "\n",
    "\n",
    "> *Reading*: Read [Chapter 3 of the Network Science book.](http://networksciencebook.com/chapter/3). The most important sections are 3.1 to 3.4 and 3.8 to 3.10, so focus on that."
   ]
  },
  {
   "cell_type": "markdown",
   "metadata": {},
   "source": [
    "# Part 1 : Empirical properties of real-world social networks"
   ]
  },
  {
   "cell_type": "markdown",
   "metadata": {},
   "source": [
    "Researchers in Computational Social Science have widely studied the properties of real-world social networks. The very cool thing they found is that many widely different social networks (from face-to-face interactions among classmates, to the Facebook network, to collaboration networks among scientists, etc) present some commonalities. We refer to those as 'Universalities'.\n",
    "In the video-lecture below, I will introduce _some_ of the things we know to be true for most real-world social networks. "
   ]
  },
  {
   "cell_type": "markdown",
   "metadata": {},
   "source": [
    ">> **_Video Lecture_**. Start by watching the [\"Properties of empirical social networks\"](https://youtu.be/jHdnehLku54). \n"
   ]
  },
  {
   "cell_type": "code",
   "execution_count": 6,
   "metadata": {},
   "outputs": [
    {
     "output_type": "execute_result",
     "data": {
      "text/plain": [
       "<IPython.lib.display.YouTubeVideo at 0x7f68a6d1d190>"
      ],
      "text/html": "\n        <iframe\n            width=\"800\"\n            height=\"450\"\n            src=\"https://www.youtube.com/embed/jHdnehLku54\"\n            frameborder=\"0\"\n            allowfullscreen\n        ></iframe>\n        ",
      "image/jpeg": "[encoded data removed]"
     },
     "metadata": {},
     "execution_count": 6
    }
   ],
   "source": [
    "from IPython.display import YouTubeVideo\n",
    "YouTubeVideo(\"jHdnehLku54\",width=800, height=450)"
   ]
  },
  {
   "cell_type": "markdown",
   "metadata": {},
   "source": [
    "> *Exercise 1:* Did you really read the text? Answer the following questions (no calculations needed) in your Jupyter notebook.\n",
    "\n",
    "> * What's the problem with random networks as a model for real-world networks according to the argument in section 3.5 (near the end)?\n",
    "    - If nodes are randomly connected to each other, we lack outliers. In cases like social networks we lack popular people or people who are left behind.\n",
    "\n",
    "> * List the four regimes that characterize random networks as a function of ⟨k⟩.\n",
    "    - subcritical regime, critical point, supercritical regime, connected regime\n",
    "    \n",
    "> * According to the book, why is it a problem for random networks (in terms of being a model for real-world networks that the degree-dependent clustering C(k) decreases as a function of k in real-world networks?\n",
    "    - Because it does not fit with random networks, where C(k) is independent of the degree"
   ]
  },
  {
   "cell_type": "markdown",
   "metadata": {},
   "source": [
    "# Part 2 : Visualizing the network of Redditors"
   ]
  },
  {
   "cell_type": "markdown",
   "metadata": {},
   "source": [
    "Take the network of redditors you built in Week3, Part 3. To get an idea about how the network looks like, we start visualizing it. For this exercise, we will use the __awesome library [``netwulf``](https://netwulf.readthedocs.io/en/latest/index.html)__ created by Ulf Aslak, a colleague of mine and former DTU PhD student. You can install it via ``pip install netwulf``. \n",
    "\n",
    "Netwulf is built on top of [d3-force](https://github.com/d3/d3-force), a Javascript library that simulates the dynamics of particles moving in 2D. In the visualization, particles correspond to network nodes subject to forces:\n",
    " * Nodes are attracted to the center of the viz \n",
    " * Nodes repel each other\n",
    " * Nodes linked by an edge will preferably stay at a fixed distance to each other.\n"
   ]
  },
  {
   "cell_type": "markdown",
   "metadata": {},
   "source": [
    "> _Exercise_ 1: Visualize the network of Redditors. "
   ]
  },
  {
   "cell_type": "code",
   "execution_count": 9,
   "metadata": {},
   "outputs": [],
   "source": [
    "import pandas as pd\n",
    "import matplotlib.pyplot as plt\n",
    "import numpy as np\n",
    "import networkx as nx\n",
    "import datetime\n",
    "\n",
    "def dateparse (time_in_secs):    \n",
    "    return datetime.datetime.fromtimestamp(float(time_in_secs))\n",
    "\n",
    "# load data\n",
    "comments = pd.read_csv('Data/wallstreetbets_comments.csv', parse_dates=['created_utc'], date_parser=dateparse)\n",
    "submissions = pd.read_csv(\"Data/wallstreetbets_submissions.csv\", parse_dates = [\"created_utc\"], date_parser=dateparse)"
   ]
  },
  {
   "cell_type": "code",
   "execution_count": 12,
   "metadata": {},
   "outputs": [
    {
     "output_type": "execute_result",
     "data": {
      "text/plain": [
       "        id  score         created_utc           author   parent_id  \\\n",
       "0  gkjkq9i     82 2021-01-24 13:06:31  skinfather11216   t3_l3y4mp   \n",
       "1  gkjkjmx      9 2021-01-24 13:05:44     DivingDeep21  t1_gkjja9s   \n",
       "2  gkjkiyd     28 2021-01-24 13:05:39   je_veux_sentir  t1_gkjjk3k   \n",
       "3  gkjkiki     18 2021-01-24 13:05:36       BlazingLeo  t1_gkjjk3k   \n",
       "4  gkjkdnm     11 2021-01-24 13:05:01  Anon-1400secret  t1_gkjjzr8   \n",
       "5  gkjkbg4     34 2021-01-24 13:04:45   je_veux_sentir  t1_gkjjcjj   \n",
       "6  gkjkax0      9 2021-01-24 13:04:42           bschug  t1_gkji91v   \n",
       "7  gkjk9ke     15 2021-01-24 13:04:32   WesternBenefit   t3_l3xmhk   \n",
       "8  gkjk6wp     13 2021-01-24 13:04:11   je_veux_sentir  t1_gkjja9s   \n",
       "9  gkjk6q0      1 2021-01-24 13:04:10        [deleted]   t3_l3vqn9   \n",
       "\n",
       "        created  \n",
       "0  1.611486e+09  \n",
       "1  1.611486e+09  \n",
       "2  1.611486e+09  \n",
       "3  1.611486e+09  \n",
       "4  1.611486e+09  \n",
       "5  1.611486e+09  \n",
       "6  1.611486e+09  \n",
       "7  1.611486e+09  \n",
       "8  1.611486e+09  \n",
       "9  1.611486e+09  "
      ],
      "text/html": "<div>\n<style scoped>\n    .dataframe tbody tr th:only-of-type {\n        vertical-align: middle;\n    }\n\n    .dataframe tbody tr th {\n        vertical-align: top;\n    }\n\n    .dataframe thead th {\n        text-align: right;\n    }\n</style>\n<table border=\"1\" class=\"dataframe\">\n  <thead>\n    <tr style=\"text-align: right;\">\n      <th></th>\n      <th>id</th>\n      <th>score</th>\n      <th>created_utc</th>\n      <th>author</th>\n      <th>parent_id</th>\n      <th>created</th>\n    </tr>\n  </thead>\n  <tbody>\n    <tr>\n      <th>0</th>\n      <td>gkjkq9i</td>\n      <td>82</td>\n      <td>2021-01-24 13:06:31</td>\n      <td>skinfather11216</td>\n      <td>t3_l3y4mp</td>\n      <td>1.611486e+09</td>\n    </tr>\n    <tr>\n      <th>1</th>\n      <td>gkjkjmx</td>\n      <td>9</td>\n      <td>2021-01-24 13:05:44</td>\n      <td>DivingDeep21</td>\n      <td>t1_gkjja9s</td>\n      <td>1.611486e+09</td>\n    </tr>\n    <tr>\n      <th>2</th>\n      <td>gkjkiyd</td>\n      <td>28</td>\n      <td>2021-01-24 13:05:39</td>\n      <td>je_veux_sentir</td>\n      <td>t1_gkjjk3k</td>\n      <td>1.611486e+09</td>\n    </tr>\n    <tr>\n      <th>3</th>\n      <td>gkjkiki</td>\n      <td>18</td>\n      <td>2021-01-24 13:05:36</td>\n      <td>BlazingLeo</td>\n      <td>t1_gkjjk3k</td>\n      <td>1.611486e+09</td>\n    </tr>\n    <tr>\n      <th>4</th>\n      <td>gkjkdnm</td>\n      <td>11</td>\n      <td>2021-01-24 13:05:01</td>\n      <td>Anon-1400secret</td>\n      <td>t1_gkjjzr8</td>\n      <td>1.611486e+09</td>\n    </tr>\n    <tr>\n      <th>5</th>\n      <td>gkjkbg4</td>\n      <td>34</td>\n      <td>2021-01-24 13:04:45</td>\n      <td>je_veux_sentir</td>\n      <td>t1_gkjjcjj</td>\n      <td>1.611486e+09</td>\n    </tr>\n    <tr>\n      <th>6</th>\n      <td>gkjkax0</td>\n      <td>9</td>\n      <td>2021-01-24 13:04:42</td>\n      <td>bschug</td>\n      <td>t1_gkji91v</td>\n      <td>1.611486e+09</td>\n    </tr>\n    <tr>\n      <th>7</th>\n      <td>gkjk9ke</td>\n      <td>15</td>\n      <td>2021-01-24 13:04:32</td>\n      <td>WesternBenefit</td>\n      <td>t3_l3xmhk</td>\n      <td>1.611486e+09</td>\n    </tr>\n    <tr>\n      <th>8</th>\n      <td>gkjk6wp</td>\n      <td>13</td>\n      <td>2021-01-24 13:04:11</td>\n      <td>je_veux_sentir</td>\n      <td>t1_gkjja9s</td>\n      <td>1.611486e+09</td>\n    </tr>\n    <tr>\n      <th>9</th>\n      <td>gkjk6q0</td>\n      <td>1</td>\n      <td>2021-01-24 13:04:10</td>\n      <td>[deleted]</td>\n      <td>t3_l3vqn9</td>\n      <td>1.611486e+09</td>\n    </tr>\n  </tbody>\n</table>\n</div>"
     },
     "metadata": {},
     "execution_count": 12
    }
   ],
   "source": [
    "comments.head(10)"
   ]
  },
  {
   "cell_type": "code",
   "execution_count": 15,
   "metadata": {},
   "outputs": [],
   "source": [
    "# dictionaries\n",
    "comment_authors = dict(zip(comments[\"id\"], comments[\"author\"]))\n",
    "parent = dict(zip(comments[\"id\"], comments[\"parent_id\"]))\n",
    "submissions_authors = dict(zip(submissions[\"id\"], submissions[\"author\"]))\n",
    "\n",
    "# function for getting author of parent id\n",
    "def get_parent_author(comment_id):\n",
    "    parent_id = parent[comment_id]\n",
    "    t_parent_id = parent_id[:3]\n",
    "    parent_id = parent_id[3:]\n",
    "\n",
    "    try: \n",
    "        if t_parent_id == \"t1_\":\n",
    "                return comment_authors[parent_id]# if parent_id in comment_authors.keys else None\n",
    "        elif t_parent_id == \"t3_\":\n",
    "            return submissions_authors[parent_id]\n",
    "        else:\n",
    "            return -1\n",
    "    except KeyError:\n",
    "        return -1\n",
    "\n",
    "# create parent_author column in comments dataframe\n",
    "comments[\"parent_author\"] = list(map(get_parent_author, comments[\"id\"]))\n",
    "# remove unwanted authors\n",
    "comments = comments[comments.parent_author != -1] # remove rows with keyerror (around 14k rows)\n",
    "comments = comments[comments.created_utc <= \"2020-12-31\"] # remove comments from after 31/12-2020\n",
    "comments = comments[(comments.author != \"[deleted]\") & (comments.parent_author != \"[deleted]\")]# remove deleted users"
   ]
  },
  {
   "cell_type": "code",
   "execution_count": 18,
   "metadata": {},
   "outputs": [],
   "source": [
    "# build network\n",
    "\n",
    "#Create the weighted edge-list of your network\n",
    "comments_network = comments.groupby([\"author\", \"parent_author\"]).size()\n",
    "comments_network = comments_network.reset_index()\n",
    "comments_network.columns = [\"author\", \"parent_author\",\"weight\"]\n",
    "\n",
    "# create graph\n",
    "\n",
    "# \"A direct link going from node A to node B exists if A ever answered a submission or a comment by B\"\n",
    "G = nx.from_pandas_edgelist(comments_network, \"author\", \"parent_author\", \"weight\", create_using = nx.DiGraph()) # adds directed edges from parent_author to author"
   ]
  },
  {
   "cell_type": "markdown",
   "metadata": {},
   "source": [
    "> * For this and the following exercise, we will study the undirected graph of \"reciprocal\" edges. Reciprocal edges are such that each of the two authors forming the edge has replied to the other at least once. Build the reciprocal graph using the function [``to_undirected``](https://networkx.org/documentation/stable//reference/classes/generated/networkx.DiGraph.to_undirected.html)(set ``reciprocal=True``). Assign to each undirected edge a weight equal to the sum of the weights in the two corresponding directed edges. Remove self-loops (edges connecting a node to itself). Remove from the network all the nodes without connections. "
   ]
  },
  {
   "cell_type": "code",
   "execution_count": 21,
   "metadata": {
    "tags": []
   },
   "outputs": [],
   "source": [
    "reciprocal_G = G.to_undirected(reciprocal=True)\n",
    "#remove self-loops\n",
    "for edge in list(nx.selfloop_edges(reciprocal_G)):\n",
    "    reciprocal_G.remove_edge(edge[0], edge[1])\n",
    "#remove all nodes without connections\n",
    "reciprocal_G.remove_nodes_from(list(nx.isolates(reciprocal_G)))\n",
    "#assign edge weights\n",
    "G_weighted_edges = nx.get_edge_attributes(G, 'weight')\n",
    "\n",
    "for e in reciprocal_G.edges():\n",
    "    w = 0\n",
    "    e1 = (e[0], e[1])\n",
    "    e2 = (e[1], e[0])\n",
    "    if e1 in G_weighted_edges:\n",
    "        w += G_weighted_edges[(e[0],e[1])]\n",
    "    if e2 in G_weighted_edges:\n",
    "        w += G_weighted_edges[(e[1],e[0])]\n",
    "\n",
    "    G[e[0]][e[1]]['weight'] = w"
   ]
  },
  {
   "cell_type": "markdown",
   "metadata": {},
   "source": [
    "> * How many nodes are present in the reciprocal graph? How many edges? Which fraction of the original network nodes and edges they represent? How do you interpret this result?"
   ]
  },
  {
   "cell_type": "code",
   "execution_count": 24,
   "metadata": {},
   "outputs": [
    {
     "output_type": "stream",
     "name": "stdout",
     "text": [
      "Nodes: 6132\nEdges: 7437\nReciprocal node fraction of original: 0.27690223526755475\nReciprocal edge fraction of original: 0.13064788138570727\n"
     ]
    }
   ],
   "source": [
    "print(f'Nodes: {len(reciprocal_G.nodes)}')\n",
    "print(f'Edges: {len(reciprocal_G.edges)}')\n",
    "\n",
    "print(f'Reciprocal node fraction of original: {len(reciprocal_G.nodes)/len(G.nodes)}')\n",
    "print(f'Reciprocal edge fraction of original: {len(reciprocal_G.edges)/len(G.edges)}')"
   ]
  },
  {
   "cell_type": "markdown",
   "metadata": {},
   "source": [
    "Reciprocal node fration is 29%. This would mean that many users have not both posted and received comments.\n",
    "\n",
    "Reciprocal edge fration is around 13%. This would mean that the reciprocal graph has less edges. So, quite a few users have more than one edge to and from each other. \n",
    "\n",
    "All in all, it looks like there are quite a lot of users who gets no interactions with others and a smaller group of users who interacts quite a lot with each other."
   ]
  },
  {
   "cell_type": "markdown",
   "metadata": {},
   "source": [
    "> * Visualize the undirected graph you just created using the function [``visualize``](https://netwulf.readthedocs.io/en/latest/reference/interactive.html?highlight=visualize#netwulf.interactive.visualize) of the Netwulf package. \n"
   ]
  },
  {
   "cell_type": "code",
   "execution_count": 27,
   "metadata": {},
   "outputs": [
    {
     "output_type": "execute_result",
     "data": {
      "text/plain": [
       "41,\n",
       "    'y': 229.03539558647446,\n",
       "    'x_canvas': 400.0488162305842,\n",
       "    'y_canvas': 229.03539558647446,\n",
       "    'radius': 5,\n",
       "    'color': '#79aaa0'},\n",
       "   {'id': 'new2cigars',\n",
       "    'x': 389.28149787671947,\n",
       "    'y': 221.5666520743177,\n",
       "    'x_canvas': 389.28149787671947,\n",
       "    'y_canvas': 221.5666520743177,\n",
       "    'radius': 5,\n",
       "    'color': '#79aaa0'},\n",
       "   {'id': 'orangeandblue122',\n",
       "    'x': 400.5421016717003,\n",
       "    'y': 196.38054498751674,\n",
       "    'x_canvas': 400.5421016717003,\n",
       "    'y_canvas': 196.38054498751674,\n",
       "    'radius': 5,\n",
       "    'color': '#79aaa0'},\n",
       "   {'id': 'papabear570',\n",
       "    'x': 354.27823024511423,\n",
       "    'y': 249.91087974855643,\n",
       "    'x_canvas': 354.27823024511423,\n",
       "    'y_canvas': 249.91087974855643,\n",
       "    'radius': 5,\n",
       "    'color': '#79aaa0'},\n",
       "   {'id': 'peterman2012',\n",
       "    'x': 424.0549675695644,\n",
       "    'y': 590.3020549057306,\n",
       "    'x_canvas': 424.05496756956444,\n",
       "    'y_canvas': 590.3020549057306,\n",
       "    'radius': 5,\n",
       "    'color': '#79aaa0'},\n",
       "   {'id': 'plomii',\n",
       "    'x': 183.0150287203567,\n",
       "    'y': 61.871520356461026,\n",
       "    'x_canvas': 183.0150287203567,\n",
       "    'y_canvas': 61.871520356461026,\n",
       "    'radius': 5,\n",
       "    'color': '#79aaa0'},\n",
       "   {'id': 'prateek_tandon',\n",
       "    'x': 433.1337699753876,\n",
       "    'y': -66.80816552834268,\n",
       "    'x_canvas': 433.13376997538757,\n",
       "    'y_canvas': -66.80816552834268,\n",
       "    'radius': 5,\n",
       "    'color': '#79aaa0'},\n",
       "   {'id': 'pupule',\n",
       "    'x': 21.949393695808915,\n",
       "    'y': 467.0862503641679,\n",
       "    'x_canvas': 21.949393695808915,\n",
       "    'y_canvas': 467.0862503641678,\n",
       "    'radius': 5,\n",
       "    'color': '#79aaa0'},\n",
       "   {'id': 'rahulshtv',\n",
       "    'x': 188.16037510188508,\n",
       "    'y': 834.0899769877484,\n",
       "    'x_canvas': 188.16037510188508,\n",
       "    'y_canvas': 834.0899769877484,\n",
       "    'radius': 5,\n",
       "    'color': '#79aaa0'},\n",
       "   {'id': 'reportminority',\n",
       "    'x': 822.9097309795281,\n",
       "    'y': 707.4968411593212,\n",
       "    'x_canvas': 822.909730979528,\n",
       "    'y_canvas': 707.4968411593212,\n",
       "    'radius': 5,\n",
       "    'color': '#79aaa0'},\n",
       "   {'id': 'rwoooshed',\n",
       "    'x': 396.67048580683104,\n",
       "    'y': 214.77654628706182,\n",
       "    'x_canvas': 396.67048580683104,\n",
       "    'y_canvas': 214.77654628706182,\n",
       "    'radius': 5,\n",
       "    'color': '#79aaa0'},\n",
       "   {'id': 'sperko818',\n",
       "    'x': 610.041278920707,\n",
       "    'y': 595.3453884421865,\n",
       "    'x_canvas': 610.041278920707,\n",
       "    'y_canvas': 595.3453884421865,\n",
       "    'radius': 5,\n",
       "    'color': '#79aaa0'},\n",
       "   {'id': 'starskeeponcalling',\n",
       "    'x': 994.1390743432052,\n",
       "    'y': 338.6088087285572,\n",
       "    'x_canvas': 994.1390743432052,\n",
       "    'y_canvas': 338.6088087285572,\n",
       "    'radius': 5,\n",
       "    'color': '#79aaa0'},\n",
       "   {'id': 'steggun_cinargo',\n",
       "    'x': 409.96977542555015,\n",
       "    'y': 225.68213078787943,\n",
       "    'x_canvas': 409.9697754255502,\n",
       "    'y_canvas': 225.6821307878794,\n",
       "    'radius': 5,\n",
       "    'color': '#79aaa0'},\n",
       "   {'id': 'stevejobswasmurdered',\n",
       "    'x': 138.49338047563185,\n",
       "    'y': 581.7782346913237,\n",
       "    'x_canvas': 138.49338047563185,\n",
       "    'y_canvas': 581.7782346913237,\n",
       "    'radius': 5,\n",
       "    'color': '#79aaa0'},\n",
       "   {'id': 'stevenpaperwork',\n",
       "    'x': 406.5854954221822,\n",
       "    'y': 211.69532586340554,\n",
       "    'x_canvas': 406.5854954221822,\n",
       "    'y_canvas': 211.69532586340554,\n",
       "    'radius': 5,\n",
       "    'color': '#79aaa0'},\n",
       "   {'id': 'stlbull1992',\n",
       "    'x': 397.41026416597117,\n",
       "    'y': 240.00621254735665,\n",
       "    'x_canvas': 397.41026416597117,\n",
       "    'y_canvas': 240.00621254735665,\n",
       "    'radius': 5,\n",
       "    'color': '#79aaa0'},\n",
       "   {'id': 't3amkill',\n",
       "    'x': 187.51824174808613,\n",
       "    'y': -471.9746713751922,\n",
       "    'x_canvas': 187.51824174808615,\n",
       "    'y_canvas': -471.9746713751922,\n",
       "    'radius': 5,\n",
       "    'color': '#79aaa0'},\n",
       "   {'id': 'tendies_all_day',\n",
       "    'x': 510.7076614222545,\n",
       "    'y': 638.362701125441,\n",
       "    'x_canvas': 510.7076614222545,\n",
       "    'y_canvas': 638.362701125441,\n",
       "    'radius': 5,\n",
       "    'color': '#79aaa0'},\n",
       "   {'id': 'thenetworkking',\n",
       "    'x': 144.80793763251748,\n",
       "    'y': 502.6851778922209,\n",
       "    'x_canvas': 144.80793763251748,\n",
       "    'y_canvas': 502.6851778922209,\n",
       "    'radius': 5,\n",
       "    'color': '#79aaa0'},\n",
       "   {'id': 'thrwaway8921',\n",
       "    'x': 826.842672476641,\n",
       "    'y': 686.1083622400296,\n",
       "    'x_canvas': 826.842672476641,\n",
       "    'y_canvas': 686.1083622400296,\n",
       "    'radius': 5,\n",
       "    'color': '#79aaa0'},\n",
       "   {'id': 'titanium_hydra',\n",
       "    'x': 286.3164671427916,\n",
       "    'y': 616.3549354714825,\n",
       "    'x_canvas': 286.3164671427916,\n",
       "    'y_canvas': 616.3549354714825,\n",
       "    'radius': 5,\n",
       "    'color': '#79aaa0'},\n",
       "   {'id': 'trdlts',\n",
       "    'x': 352.4930594278107,\n",
       "    'y': 130.67173380386544,\n",
       "    'x_canvas': 352.4930594278107,\n",
       "    'y_canvas': 130.67173380386544,\n",
       "    'radius': 5,\n",
       "    'color': '#79aaa0'},\n",
       "   {'id': 'troy_caster',\n",
       "    'x': 717.8568290440564,\n",
       "    'y': 522.6697101102795,\n",
       "    'x_canvas': 717.8568290440564,\n",
       "    'y_canvas': 522.6697101102795,\n",
       "    'radius': 5,\n",
       "    'color': '#79aaa0'},\n",
       "   {'id': 'uwuTilxs',\n",
       "    'x': 527.8914678039523,\n",
       "    'y': 113.89315236212336,\n",
       "    'x_canvas': 527.8914678039523,\n",
       "    'y_canvas': 113.89315236212336,\n",
       "    'radius': 5,\n",
       "    'color': '#79aaa0'},\n",
       "   {'id': 'w-on',\n",
       "    'x': 12.27718980948106,\n",
       "    'y': 323.29513848867026,\n",
       "    'x_canvas': 12.277189809481062,\n",
       "    'y_canvas': 323.29513848867026,\n",
       "    'radius': 5,\n",
       "    'color': '#79aaa0'},\n",
       "   {'id': 'wildstrike',\n",
       "    'x': -17.156473576066468,\n",
       "    'y': 549.8922935458312,\n",
       "    'x_canvas': -17.156473576066468,\n",
       "    'y_canvas': 549.8922935458312,\n",
       "    'radius': 5,\n",
       "    'color': '#79aaa0'},\n",
       "   {'id': 'wolfiasty',\n",
       "    'x': 1491.6136222852085,\n",
       "    'y': 667.516233906174,\n",
       "    'x_canvas': 1491.6136222852085,\n",
       "    'y_canvas': 667.516233906174,\n",
       "    'radius': 5,\n",
       "    'color': '#79aaa0'},\n",
       "   {'id': 'xXxTRIPLE6Mxfia',\n",
       "    'x': -652.0033734276246,\n",
       "    'y': 436.59458583873146,\n",
       "    'x_canvas': -652.0033734276246,\n",
       "    'y_canvas': 436.59458583873146,\n",
       "    'radius': 5,\n",
       "    'color': '#79aaa0'},\n",
       "   {'id': 'xxxboyxxxc',\n",
       "    'x': 368.1027409349472,\n",
       "    'y': 249.95010518589066,\n",
       "    'x_canvas': 368.1027409349472,\n",
       "    'y_canvas': 249.95010518589064,\n",
       "    'radius': 5,\n",
       "    'color': '#79aaa0'},\n",
       "   {'id': 'yyl238',\n",
       "    'x': 520.0314350653512,\n",
       "    'y': 317.5973345703111,\n",
       "    'x_canvas': 520.0314350653512,\n",
       "    'y_canvas': 317.5973345703111,\n",
       "    'radius': 5,\n",
       "    'color': '#79aaa0'},\n",
       "   {'id': 'Acoconutting',\n",
       "    'x': 412.54624851627227,\n",
       "    'y': -432.5753272479949,\n",
       "    'x_canvas': 412.5462485162722,\n",
       "    'y_canvas': -432.5753272479949,\n",
       "    'radius': 5,\n",
       "    'color': '#79aaa0'},\n",
       "   {'id': 'Disco_Tempo',\n",
       "    'x': 334.62579796485204,\n",
       "    'y': -891.8360026206838,\n",
       "    'x_canvas': 334.62579796485204,\n",
       "    'y_canvas': -891.8360026206838,\n",
       "    'radius': 5,\n",
       "    'color': '#79aaa0'},\n",
       "   {'id': 'NeverWin32',\n",
       "    'x': 699.4660739865704,\n",
       "    'y': -432.174129719715,\n",
       "    'x_canvas': 699.4660739865704,\n",
       "    'y_canvas': -432.1741297197149,\n",
       "    'radius': 5,\n",
       "    'color': '#79aaa0'},\n",
       "   {'id': 'ActionJackson_No8',\n",
       "    'x': -409.53151732671523,\n",
       "    'y': 835.9689242949713,\n",
       "    'x_canvas': -409.5315173267152,\n",
       "    'y_canvas': 835.9689242949713,\n",
       "    'radius': 5,\n",
       "    'color': '#79aaa0'},\n",
       "   {'id': 'Boss1010',\n",
       "    'x': -310.13748793858093,\n",
       "    'y': 786.5942752298758,\n",
       "    'x_canvas': -310.13748793858093,\n",
       "    'y_canvas': 786.5942752298758,\n",
       "    'radius': 5,\n",
       "    'color': '#79aaa0'},\n",
       "   {'id': 'Active_Airport',\n",
       "    'x': 1208.20590687766,\n",
       "    'y': 780.2634031974173,\n",
       "    'x_canvas': 1208.20590687766,\n",
       "    'y_canvas': 780.2634031974172,\n",
       "    'radius': 5,\n",
       "    'color': '#79aaa0'},\n",
       "   {'id': 'ActualArrival0',\n",
       "    'x': 250.83797035775797,\n",
       "    'y': 1292.4504772015919,\n",
       "    'x_canvas': 250.83797035775797,\n",
       "    'y_canvas': 1292.4504772015919,\n",
       "    'radius': 5,\n",
       "    'color': '#79aaa0'},\n",
       "   {'id': 'OutrageousDesk',\n",
       "    'x': -80.46205775281283,\n",
       "    'y': 594.0695059905552,\n",
       "    'x_canvas': -80.46205775281283,\n",
       "    'y_canvas': 594.0695059905552,\n",
       "    'radius': 5,\n",
       "    'color': '#79aaa0'},\n",
       "   {'id': 'ThetaGangFeedsMyFam',\n",
       "    'x': -72.21806675506409,\n",
       "    'y': 1423.5978360038357,\n",
       "    'x_canvas': -72.21806675506409,\n",
       "    'y_canvas': 1423.5978360038357,\n",
       "    'radius': 5,\n",
       "    'color': '#79aaa0'},\n",
       "   {'id': 'YoLO-Mage-007',\n",
       "    'x': 486.13860980764883,\n",
       "    'y': 1042.754760270235,\n",
       "    'x_canvas': 486.13860980764883,\n",
       "    'y_canvas': 1042.754760270235,\n",
       "    'radius': 5,\n",
       "    'color': '#79aaa0'},\n",
       "   {'id': 'trojanmana',\n",
       "    'x': 21.32642920668406,\n",
       "    'y': -150.3855751267942,\n",
       "    'x_canvas': 21.32642920668406,\n",
       "    'y_canvas': -150.3855751267942,\n",
       "    'radius': 5,\n",
       "    'color': '#79aaa0'},\n",
       "   {'id': 'promiseaik',\n",
       "    'x': 375.3882078650968,\n",
       "    'y': -172.2132000667899,\n",
       "    'x_canvas': 375.38820786509683,\n",
       "    'y_canvas': -172.2132000667899,\n",
       "    'radius': 5,\n",
       "    'color': '#79aaa0'},\n",
       "   {'id': 'Chi3fSlapaho3',\n",
       "    'x': 804.7535506780874,\n",
       "    'y': 882.9305766770526,\n",
       "    'x_canvas': 804.7535506780874,\n",
       "    'y_canvas': 882.9305766770526,\n",
       "    'radius': 5,\n",
       "    'color': '#79aaa0'},\n",
       "   {'id': 'Additional_Still5612',\n",
       "    'x': 616.197537169715,\n",
       "    'y': 190.695956002178,\n",
       "    'x_canvas': 616.197537169715,\n",
       "    'y_canvas': 190.69595600217798,\n",
       "    'radius': 5,\n",
       "    'color': '#79aaa0'},\n",
       "   {'id': 'Sloppy_JoeBK',\n",
       "    'x': 1872.0078444190303,\n",
       "    'y': 922.5224228204905,\n",
       "    'x_canvas': 1872.00784441903,\n",
       "    'y_canvas': 922.5224228204905,\n",
       "    'radius': 5,\n",
       "    'color': '#79aaa0'},\n",
       "   {'id': 'Adept_Carpet',\n",
       "    'x': -84.98522552762272,\n",
       "    'y': 693.728060793457,\n",
       "    'x_canvas': -84.98522552762272,\n",
       "    'y_canvas': 693.728060793457,\n",
       "    'radius': 5,\n",
       "    'color': '#79aaa0'},\n",
       "   {'id': 'MasterDan118',\n",
       "    'x': 100.69631860315731,\n",
       "    'y': 920.2752779770747,\n",
       "    'x_canvas': 100.69631860315732,\n",
       "    'y_canvas': 920.2752779770748,\n",
       "    'radius': 5,\n",
       "    'color': '#79aaa0'},\n",
       "   {'id': 'MrTruxian',\n",
       "    'x': -178.0610032929134,\n",
       "    'y': 1406.3054886748694,\n",
       "    'x_canvas': -178.0610032929134,\n",
       "    'y_canvas': 1406.3054886748694,\n",
       "    'radius': 5,\n",
       "    'color': '#79aaa0'},\n",
       "   {'id': 'KainC4444',\n",
       "    'x': 988.1209285057566,\n",
       "    'y': 50.95242550425109,\n",
       "    'x_canvas': 988.1209285057566,\n",
       "    'y_canvas': 50.95242550425109,\n",
       "    'radius': 5,\n",
       "    'color': '#79aaa0'},\n",
       "   {'id': 'Schlongus69',\n",
       "    'x': 1032.7136385439787,\n",
       "    'y': 202.2034439377979,\n",
       "    'x_canvas': 1032.7136385439787,\n",
       "    'y_canvas': 202.20344393779789,\n",
       "    'radius': 5,\n",
       "    'color': '#79aaa0'},\n",
       "   {'id': 'Sianator',\n",
       "    'x': 913.315632407019,\n",
       "    'y': 157.30325278204492,\n",
       "    'x_canvas': 913.3156324070189,\n",
       "    'y_canvas': 157.30325278204492,\n",
       "    'radius': 5,\n",
       "    'color': '#79aaa0'},\n",
       "   {'id': 'thegodlyvision',\n",
       "    'x': 243.9665911083906,\n",
       "    'y': 705.943002433912,\n",
       "    'x_canvas': 243.9665911083906,\n",
       "    'y_canvas': 705.943002433912,\n",
       "    'radius': 5,\n",
       "    'color': '#79aaa0'},\n",
       "   {'id': 'Administrative_Pie31',\n",
       "    'x': -319.4962297894095,\n",
       "    'y': -139.65000938357815,\n",
       "    'x_canvas': -319.4962297894095,\n",
       "    'y_canvas': -139.65000938357815,\n",
       "    'radius': 5,\n",
       "    'color': '#79aaa0'},\n",
       "   {'id': 'blackboard_toss',\n",
       "    'x': 831.0944313131095,\n",
       "    'y': -8.242434342648956,\n",
       "    'x_canvas': 831.0944313131095,\n",
       "    'y_canvas': -8.242434342648956,\n",
       "    'radius': 5,\n",
       "    'color': '#79aaa0'},\n",
       "   {'id': 'AdmiralSnakbar',\n",
       "    'x': 497.06104320253905,\n",
       "    'y': 157.7319706349657,\n",
       "    'x_canvas': 497.0610432025391,\n",
       "    'y_canvas': 157.7319706349657,\n",
       "    'radius': 5,\n",
       "    'color': '#79aaa0'},\n",
       "   {'id': 'AdvancedRiver',\n",
       "    'x': -566.0092972073852,\n",
       "    'y': 87.8716437364279,\n",
       "    'x_canvas': -566.0092972073852,\n",
       "    'y_canvas': 87.8716437364279,\n",
       "    'radius': 5,\n",
       "    'color': '#79aaa0'},\n",
       "   {'id': 'ayjaylar',\n",
       "    'x': -500.12574451814146,\n",
       "    'y': 167.91766133430428,\n",
       "    'x_canvas': -500.12574451814146,\n",
       "    'y_canvas': 167.91766133430428,\n",
       "    'radius': 5,\n",
       "    'color': '#79aaa0'},\n",
       "   {'id': 'ktempo',\n",
       "    'x': 90.59567245161938,\n",
       "    'y': 1011.6814149390801,\n",
       "    'x_canvas': 90.59567245161938,\n",
       "    'y_canvas': 1011.6814149390802,\n",
       "    'radius': 5,\n",
       "    'color': '#79aaa0'},\n",
       "   {'id': 'Adventurous_Park_551',\n",
       "    'x': 407.13230787916046,\n",
       "    'y': -394.7443715955731,\n",
       "    'x_canvas': 407.13230787916046,\n",
       "    'y_canvas': -394.7443715955731,\n",
       "    'radius': 5,\n",
       "    'color': '#79aaa0'},\n",
       "   {'id': 'Advice-plz-1994',\n",
       "    'x': 345.17497845271055,\n",
       "    'y': 417.31551381207703,\n",
       "    'x_canvas': 345.17497845271055,\n",
       "    'y_canvas': 417.31551381207703,\n",
       "    'radius': 5,\n",
       "    'color': '#79aaa0'},\n",
       "   {'id': 'FUPeiMe',\n",
       "    'x': -661.7740301030957,\n",
       "    'y': 468.9768723410671,\n",
       "    'x_canvas': -661.7740301030957,\n",
       "    'y_canvas': 468.9768723410671,\n",
       "    'radius': 5,\n",
       "    'color': '#79aaa0'},\n",
       "   {'id': 'MrSteelio',\n",
       "    'x': 499.8264080517334,\n",
       "    'y': -1262.8052811626078,\n",
       "    'x_canvas': 499.8264080517334,\n",
       "    'y_canvas': -1262.8052811626078,\n",
       "    'radius': 5,\n",
       "    'color': '#79aaa0'},\n",
       "   {'id': 'sshiiniigamii',\n",
       "    'x': -859.0950539756682,\n",
       "    'y': 1453.6667167870241,\n",
       "    'x_canvas': -859.0950539756683,\n",
       "    'y_canvas': 1453.6667167870241,\n",
       "    'radius': 5,\n",
       "    'color': '#79aaa0'},\n",
       "   {'id': 'SEA-B',\n",
       "    'x': -428.33736861536283,\n",
       "    'y': 413.36670144853406,\n",
       "    'x_canvas': -428.33736861536283,\n",
       "    'y_canvas': 413.36670144853406,\n",
       "    'radius': 5,\n",
       "    'color': '#79aaa0'},\n",
       "   {'id': 'Thecdog00',\n",
       "    'x': 1068.4440638481876,\n",
       "    'y': 1439.775977017959,\n",
       "    'x_canvas': 1068.4440638481876,\n",
       "    'y_canvas': 1439.775977017959,\n",
       "    'radius': 5,\n",
       "    'color': '#79aaa0'},\n",
       "   {'id': 'DigitalJedi007',\n",
       "    'x': -596.668967105683,\n",
       "    'y': -211.81937770777864,\n",
       "    'x_canvas': -596.668967105683,\n",
       "    'y_canvas': -211.8193777077786,\n",
       "    'radius': 5,\n",
       "    'color': '#79aaa0'},\n",
       "   {'id': 'Th3_Capitalist',\n",
       "    'x': 637.7805783445838,\n",
       "    'y': 201.752692138393,\n",
       "    'x_canvas': 637.7805783445838,\n",
       "    'y_canvas': 201.752692138393,\n",
       "    'radius': 5,\n",
       "    'color': '#79aaa0'},\n",
       "   {'id': 'Jarzazz',\n",
       "    'x': 731.9548783979344,\n",
       "    'y': 2.972885324598934,\n",
       "    'x_canvas': 731.9548783979344,\n",
       "    'y_canvas': 2.972885324598934,\n",
       "    'radius': 5,\n",
       "    'color': '#79aaa0'},\n",
       "   {'id': 'aanon6996',\n",
       "    'x': -428.8104140085988,\n",
       "    'y': -916.8139261066992,\n",
       "    'x_canvas': -428.8104140085988,\n",
       "    'y_canvas': -916.8139261066992,\n",
       "    'radius': 5,\n",
       "    'color': '#79aaa0'},\n",
       "   {'id': 'sonofalando',\n",
       "    'x': 804.8861095710604,\n",
       "    'y': -56.74314391508171,\n",
       "    'x_canvas': 804.8861095710605,\n",
       "    'y_canvas': -56.74314391508171,\n",
       "    'radius': 5,\n",
       "    'color': '#79aaa0'},\n",
       "   {'id': 'Afflictedx1',\n",
       "    'x': 628.6406862397977,\n",
       "    'y': 719.9337916962648,\n",
       "    'x_canvas': 628.6406862397977,\n",
       "    'y_canvas': 719.9337916962648,\n",
       "    'radius': 5,\n",
       "    'color': '#79aaa0'},\n",
       "   {'id': 'AlexSpaghetti',\n",
       "    'x': 599.6447316819584,\n",
       "    'y': 799.9928166572515,\n",
       "    'x_canvas': 599.6447316819584,\n",
       "    'y_canvas': 799.9928166572516,\n",
       "    'radius': 5,\n",
       "    'color': '#79aaa0'},\n",
       "   {'id': 'pseudocleric',\n",
       "    'x': 530.5349989877279,\n",
       "    'y': 863.6450906633489,\n",
       "    'x_canvas': 530.5349989877279,\n",
       "    'y_canvas': 863.6450906633489,\n",
       "    'radius': 5,\n",
       "    'color': '#79aaa0'},\n",
       "   {'id': 'BloxSlot',\n",
       "    'x': 699.9705389917459,\n",
       "    'y': 529.6092002834985,\n",
       "    'x_canvas': 699.9705389917459,\n",
       "    'y_canvas': 529.6092002834985,\n",
       "    'radius': 5,\n",
       "    'color': '#79aaa0'},\n",
       "   {'id': 'AfroKermit',\n",
       "    'x': 1803.4503118837579,\n",
       "    'y': 81.72552704296851,\n",
       "    'x_canvas': 1803.4503118837579,\n",
       "    'y_canvas': 81.72552704296851,\n",
       "    'radius': 5,\n",
       "    'color': '#79aaa0'},\n",
       "   {'id': 'MyUsernameIsJudge',\n",
       "    'x': 1796.5513285091395,\n",
       "    'y': 99.105470009035,\n",
       "    'x_canvas': 1796.5513285091397,\n",
       "    'y_canvas': 99.105470009035,\n",
       "    'radius': 5,\n",
       "    'color': '#79aaa0'},\n",
       "   {'id': '_sillycibin_',\n",
       "    'x': 717.2295198559231,\n",
       "    'y': 408.96023873343177,\n",
       "    'x_canvas': 717.2295198559231,\n",
       "    'y_canvas': 408.96023873343177,\n",
       "    'radius': 5,\n",
       "    'color': '#79aaa0'},\n",
       "   {'id': 'toughc0okies',\n",
       "    'x': 1124.0785041463284,\n",
       "    'y': -1086.9790862030477,\n",
       "    'x_canvas': 1124.0785041463284,\n",
       "    'y_canvas': -1086.9790862030477,\n",
       "    'radius': 5,\n",
       "    'color': '#79aaa0'},\n",
       "   {'id': 'Hacking_the_Gibson',\n",
       "    'x': 747.3320564913839,\n",
       "    'y': 340.1956679761617,\n",
       "    'x_canvas': 747.3320564913839,\n",
       "    'y_canvas': 340.1956679761617,\n",
       "    'radius': 5,\n",
       "    'color': '#79aaa0'},\n",
       "   {'id': 'Agent248',\n",
       "    'x': -647.6076040430542,\n",
       "    'y': 1130.0552958375777,\n",
       "    'x_canvas': -647.6076040430542,\n",
       "    'y_canvas': 1130.0552958375777,\n",
       "    'radius': 5,\n",
       "    'color': '#79aaa0'},\n",
       "   {'id': 'AgentFN2187',\n",
       "    'x': -1071.2952039044349,\n",
       "    'y': 1129.5671945625816,\n",
       "    'x_canvas': -1071.2952039044349,\n",
       "    'y_canvas': 1129.5671945625816,\n",
       "    'radius': 5,\n",
       "    'color': '#79aaa0'},\n",
       "   {'id': 'Tonyp32810',\n",
       "    'x': -1052.0158416292286,\n",
       "    'y': 1131.5402675765918,\n",
       "    'x_canvas': -1052.0158416292286,\n",
       "    'y_canvas': 1131.5402675765918,\n",
       "    'radius': 5,\n",
       "    'color': '#79aaa0'},\n",
       "   {'id': 'AloneTombstone',\n",
       "    'x': 920.41904455596,\n",
       "    'y': -828.4242150501514,\n",
       "    'x_canvas': 920.41904455596,\n",
       "    'y_canvas': -828.4242150501514,\n",
       "    'radius': 5,\n",
       "    'color': '#79aaa0'},\n",
       "   {'id': 'CZ-75_9x19',\n",
       "    'x': 843.0518475948885,\n",
       "    'y': -717.8539247334594,\n",
       "    'x_canvas': 843.0518475948884,\n",
       "    'y_canvas': -717.8539247334594,\n",
       "    'radius': 5,\n",
       "    'color': '#79aaa0'},\n",
       "   {'id': 'TheDonTitan',\n",
       "    'x': 873.2743043028696,\n",
       "    'y': -783.9928708195818,\n",
       "    'x_canvas': 873.2743043028696,\n",
       "    'y_canvas': -783.9928708195819,\n",
       "    'radius': 5,\n",
       "    'color': '#79aaa0'},\n",
       "   {'id': 'hey-look-over-there',\n",
       "    'x': 516.5344736885412,\n",
       "    'y': -673.6509659174014,\n",
       "    'x_canvas': 516.5344736885412,\n",
       "    'y_canvas': -673.6509659174014,\n",
       "    'radius': 5,\n",
       "    'color': '#79aaa0'},\n",
       "   {'id': 'hoopaholik91',\n",
       "    'x': 894.2690048025398,\n",
       "    'y': -774.3792105738675,\n",
       "    'x_canvas': 894.2690048025398,\n",
       "    'y_canvas': -774.3792105738675,\n",
       "    'radius': 5,\n",
       "    'color': '#79aaa0'},\n",
       "   {'id': 'lkh23o874249plhkjhdl',\n",
       "    'x': 136.3423466941307,\n",
       "    'y': -152.60560991026608,\n",
       "    'x_canvas': 136.3423466941307,\n",
       "    'y_canvas': -152.60560991026608,\n",
       "    'radius': 5,\n",
       "    'color': '#79aaa0'},\n",
       "   {'id': 'you_are_a_wanker',\n",
       "    'x': 929.4059698473993,\n",
       "    'y': -111.23668515809679,\n",
       "    'x_canvas': 929.4059698473993,\n",
       "    'y_canvas': -111.23668515809678,\n",
       "    'radius': 5,\n",
       "    'color': '#79aaa0'},\n",
       "   {'id': 'OwlishBambino',\n",
       "    'x': -861.7079180170042,\n",
       "    'y': -381.3313502578637,\n",
       "    'x_canvas': -861.7079180170042,\n",
       "    'y_canvas': -381.3313502578637,\n",
       "    'radius': 5,\n",
       "    'color': '#79aaa0'},\n",
       "   {'id': 'SavorySkills_',\n",
       "    'x': -457.4383222024777,\n",
       "    'y': -391.75106394194046,\n",
       "    'x_canvas': -457.4383222024777,\n",
       "    'y_canvas': -391.7510639419404,\n",
       "    'radius': 5,\n",
       "    'color': '#79aaa0'},\n",
       "   {'id': 'kanto-neimoidia',\n",
       "    'x': -341.70132084820386,\n",
       "    'y': 390.7065638758659,\n",
       "    'x_canvas': -341.70132084820386,\n",
       "    'y_canvas': 390.7065638758659,\n",
       "    'radius': 5,\n",
       "    'color': '#79aaa0'},\n",
       "   {'id': 'Ahem_ak_achem_ACHOO',\n",
       "    'x': 683.3876934770263,\n",
       "    'y': 931.9965308708623,\n",
       "    'x_canvas': 683.3876934770263,\n",
       "    'y_canvas': 931.9965308708623,\n",
       "    'radius': 5,\n",
       "    'color': '#79aaa0'},\n",
       "   {'id': 'CumFlakess',\n",
       "    'x': 639.7761033370815,\n",
       "    'y': 896.9579204126215,\n",
       "    'x_canvas': 639.7761033370815,\n",
       "    'y_canvas': 896.9579204126215,\n",
       "    'radius': 5,\n",
       "    'color': '#79aaa0'},\n",
       "   {'id': 'Ahnold_Stonkntendder',\n",
       "    'x': 1601.4714153414016,\n",
       "    'y': 754.9500682314905,\n",
       "    'x_canvas': 1601.4714153414016,\n",
       "    'y_canvas': 754.9500682314905,\n",
       "    'radius': 5,\n",
       "    'color': '#79aaa0'},\n",
       "   {'id': 'Ahsim',\n",
       "    'x': 1843.5063603939263,\n",
       "    'y': 276.77420878334556,\n",
       "    'x_canvas': 1843.5063603939263,\n",
       "    'y_canvas': 276.77420878334556,\n",
       "    'radius': 5,\n",
       "    'color': '#79aaa0'},\n",
       "   {'id': 'Jeffthinks',\n",
       "    'x': 1838.8664911317137,\n",
       "    'y': 294.1280440218245,\n",
       "    'x_canvas': 1838.866491131714,\n",
       "    'y_canvas': 294.1280440218245,\n",
       "    'radius': 5,\n",
       "    'color': '#79aaa0'},\n",
       "   {'id': 'crocdog_',\n",
       "    'x': 337.12013320847734,\n",
       "    'y': 1107.6885497938592,\n",
       "    'x_canvas': 337.12013320847734,\n",
       "    'y_canvas': 1107.6885497938592,\n",
       "    'radius': 5,\n",
       "    'color': '#79aaa0'},\n",
       "   ...]},\n",
       " {'zoom': 1,\n",
       "  'node_charge': -45,\n",
       "  'node_gravity': 0.1,\n",
       "  'link_distance': 15,\n",
       "  'link_distance_variation': 0,\n",
       "  'node_collision': True,\n",
       "  'wiggle_nodes': False,\n",
       "  'freeze_nodes': False,\n",
       "  'node_fill_color': '#79aaa0',\n",
       "  'node_stroke_color': '#555555',\n",
       "  'node_label_color': '#000000',\n",
       "  'display_node_labels': False,\n",
       "  'scale_node_size_by_strength': False,\n",
       "  'node_size': 5,\n",
       "  'node_stroke_width': 1,\n",
       "  'node_size_variation': 0.5,\n",
       "  'link_color': '#7c7c7c',\n",
       "  'link_width': 2,\n",
       "  'link_alpha': 0.5,\n",
       "  'link_width_variation': 0.5,\n",
       "  'display_singleton_nodes': True,\n",
       "  'min_link_weight_percentile': 0,\n",
       "  'max_link_weight_percentile': 1})"
      ]
     },
     "metadata": {},
     "execution_count": 27
    }
   ],
   "source": [
    "from netwulf import visualize\n",
    "\n",
    "#need to restart notebook each time to run this visualization due to the local server which renders the graph\n",
    "visualize(reciprocal_G)"
   ]
  },
  {
   "cell_type": "markdown",
   "metadata": {},
   "source": [
    "> * Play with the parameters of the netwulf algorithm to obtain a visualization you like. To understand better what the parameters mean, have a look at the [documentation](https://netwulf.readthedocs.io/en/latest/visualization/init.html?). Your visualization may look similar to the one below, where I made the size of nodes proportional to their strength (sum of weights on the outgoing edges), and I added the names of the top redditors by degree... But not necessarily! Just have fun making your own version. You can save the figure directly from the interactive visualization panel, or plot it in higher resolution in matplotlib following [this example](https://netwulf.readthedocs.io/en/latest/cookbook/cookbook.html#save-as-pdf)."
   ]
  },
  {
   "cell_type": "markdown",
   "metadata": {},
   "source": [
    "> * Describe the structure you observe. Can you identify nodes with a privileged position in the network? \n",
    "- Yes, there are nodes such as *Stonksflyingup*, *Ackilles*, *DeepFuckingValue*, *restioned*. these nodes have high degrees, meaning that they have a lot of interactions in the network. Probably, they are very active and/or popular users."
   ]
  },
  {
   "cell_type": "markdown",
   "metadata": {},
   "source": [
    "> * _Optional_: You can color nodes based on a property of your interest. For example, I colored nodes based on the date of authors' first comment, following [this example](https://github.com/benmaier/netwulf/issues/38). What do you observe? Can you find specific nodes properties that seem to correlate with a node's position in the network?\n",
    "\n",
    "<img src=\"https://github.com/lalessan/comsocsci2021/raw/master/files/network.png\" alt=\"Drawing\" style=\"width: 800px;\"/>"
   ]
  },
  {
   "cell_type": "markdown",
   "metadata": {},
   "source": [
    "# Part 3: Properties of the real-world network of Redditors\n"
   ]
  },
  {
   "cell_type": "markdown",
   "metadata": {},
   "source": [
    "> _Exercise 2_: \n",
    ">"
   ]
  },
  {
   "source": [
    "> 2.1 _Random Network_: In this exercise we will create a Random Network as a null model to investigate some properties of the Redditors Network."
   ],
   "cell_type": "markdown",
   "metadata": {}
  },
  {
   "source": [
    "> * Compute the value of _p_ such that the number of expected edges of the random network equals the number of edges in the redditor network (see equation 3.2 in your Network Science Book). What is the value of p? Compute the average value of the degree < k > (using the formula)."
   ],
   "cell_type": "markdown",
   "metadata": {}
  },
  {
   "cell_type": "code",
   "execution_count": 30,
   "metadata": {},
   "outputs": [
    {
     "output_type": "execute_result",
     "data": {
      "text/plain": [
       "0.0003956346448911741"
      ]
     },
     "metadata": {},
     "execution_count": 30
    }
   ],
   "source": [
    "#from chapter 3.3\n",
    "N = len(reciprocal_G.nodes)\n",
    "L = len(reciprocal_G.edges)\n",
    "\n",
    "p = (2*L)/(N*(N-1))\n",
    "p"
   ]
  },
  {
   "cell_type": "code",
   "execution_count": 33,
   "metadata": {},
   "outputs": [
    {
     "output_type": "execute_result",
     "data": {
      "text/plain": [
       "2.4256360078277885"
      ]
     },
     "metadata": {},
     "execution_count": 33
    }
   ],
   "source": [
    "#also from chapter 3.3\n",
    "k = p*(N-1)\n",
    "k"
   ]
  },
  {
   "source": [
    "> * Use NetworkX to create a Random network with the same number of nodes as the redditor networks, and _p_ as computed above. You can use the function [``erdos_renyi_graph``](https://networkx.org/documentation/stable/reference/generated/networkx.generators.random_graphs.erdos_renyi_graph.html#networkx.generators.random_graphs.erdos_renyi_graph) in NetworkX. "
   ],
   "cell_type": "markdown",
   "metadata": {}
  },
  {
   "cell_type": "code",
   "execution_count": 36,
   "metadata": {},
   "outputs": [],
   "source": [
    "import networkx as nx\n",
    "\n",
    "seed = 42\n",
    "#using N and p from previous cells\n",
    "rnd_G = nx.erdos_renyi_graph(N,p)"
   ]
  },
  {
   "source": [
    "> * Visualize the network as you did for the Redditors network in the exercise above (my version is below). Comment on the differences between the two.\n",
    ">"
   ],
   "cell_type": "markdown",
   "metadata": {}
  },
  {
   "cell_type": "code",
   "execution_count": 39,
   "metadata": {},
   "outputs": [],
   "source": [
    "import networkx\n",
    "from netwulf import visualize\n",
    "\n",
    "#need to restart notebook each time to run this visualization due to the local server which renders the graph\n",
    "data = visualize(rnd_G, plot_in_cell_below=True)"
   ]
  },
  {
   "source": [
    "I have probably chosen a different zoom and node size parameter, which gives a different look to the whole network.\n",
    "\n",
    "Also it seems like the sphere of your network is more connected than in my network. "
   ],
   "cell_type": "markdown",
   "metadata": {}
  },
  {
   "source": [
    "> 2.2 _Degree Distribution_: In this exercise, we will compare the degree distribution of the real network and its random counterpart."
   ],
   "cell_type": "markdown",
   "metadata": {}
  },
  {
   "source": [
    "> * Compute the distribution of degree for the random network using the numpy function ``np.histogram``. Bin your histogram using 10 linearly spaced bins. Remember to pass the parameter ``density=True``."
   ],
   "cell_type": "markdown",
   "metadata": {}
  },
  {
   "cell_type": "code",
   "execution_count": null,
   "metadata": {},
   "outputs": [],
   "source": [
    "import numpy as np\n",
    "\n",
    "degrees = list(rnd_G.degree())\n",
    "degrees = [(x,y) for x,y in degrees if y > 0]\n",
    "xx = [x for x,y in degrees]\n",
    "yy = [y for x,y in degrees]\n",
    "bins = np.linspace(0, 10, 10)\n",
    "hist, hist_edges = np.histogram(yy, bins=bins, density=True)\n",
    "x = (hist_edges[1:]+hist_edges[:-1])/2"
   ]
  },
  {
   "cell_type": "code",
   "execution_count": 32,
   "metadata": {},
   "outputs": [
    {
     "output_type": "display_data",
     "data": {
      "text/plain": "<Figure size 1080x360 with 1 Axes>",
      "image/svg+xml": "<?xml version=\"1.0\" encoding=\"utf-8\" standalone=\"no\"?>\n<!DOCTYPE svg PUBLIC \"-//W3C//DTD SVG 1.1//EN\"\n  \"http://www.w3.org/Graphics/SVG/1.1/DTD/svg11.dtd\">\n<!-- Created with matplotlib (https://matplotlib.org/) -->\n<svg height=\"331.674375pt\" version=\"1.1\" viewBox=\"0 0 894.34375 331.674375\" width=\"894.34375pt\" xmlns=\"http://www.w3.org/2000/svg\" xmlns:xlink=\"http://www.w3.org/1999/xlink\">\n <metadata>\n  <rdf:RDF xmlns:cc=\"http://creativecommons.org/ns#\" xmlns:dc=\"http://purl.org/dc/elements/1.1/\" xmlns:rdf=\"http://www.w3.org/1999/02/22-rdf-syntax-ns#\">\n   <cc:Work>\n    <dc:type rdf:resource=\"http://purl.org/dc/dcmitype/StillImage\"/>\n    <dc:date>2021-03-26T17:23:42.023452</dc:date>\n    <dc:format>image/svg+xml</dc:format>\n    <dc:creator>\n     <cc:Agent>\n      <dc:title>Matplotlib v3.3.4, https://matplotlib.org/</dc:title>\n     </cc:Agent>\n    </dc:creator>\n   </cc:Work>\n  </rdf:RDF>\n </metadata>\n <defs>\n  <style type=\"text/css\">*{stroke-linecap:butt;stroke-linejoin:round;}</style>\n </defs>\n <g id=\"figure_1\">\n  <g id=\"patch_1\">\n   <path d=\"M 0 331.674375 \nL 894.34375 331.674375 \nL 894.34375 0 \nL 0 0 \nz\n\" style=\"fill:none;\"/>\n  </g>\n  <g id=\"axes_1\">\n   <g id=\"patch_2\">\n    <path d=\"M 50.14375 294.118125 \nL 887.14375 294.118125 \nL 887.14375 22.318125 \nL 50.14375 22.318125 \nz\n\" style=\"fill:#ffffff;\"/>\n   </g>\n   <g id=\"patch_3\">\n    <path clip-path=\"url(#p6c40ada56b)\" d=\"M 88.189205 294.118125 \nL 165.135068 294.118125 \nL 165.135068 83.890214 \nL 88.189205 83.890214 \nz\n\" style=\"fill:#1f77b4;\"/>\n   </g>\n   <g id=\"patch_4\">\n    <path clip-path=\"url(#p6c40ada56b)\" d=\"M 173.684608 294.118125 \nL 250.630471 294.118125 \nL 250.630471 35.260982 \nL 173.684608 35.260982 \nz\n\" style=\"fill:#1f77b4;\"/>\n   </g>\n   <g id=\"patch_5\">\n    <path clip-path=\"url(#p6c40ada56b)\" d=\"M 259.180011 294.118125 \nL 336.125875 294.118125 \nL 336.125875 91.072378 \nL 259.180011 91.072378 \nz\n\" style=\"fill:#1f77b4;\"/>\n   </g>\n   <g id=\"patch_6\">\n    <path clip-path=\"url(#p6c40ada56b)\" d=\"M 344.675415 294.118125 \nL 421.621278 294.118125 \nL 421.621278 170.375433 \nL 344.675415 170.375433 \nz\n\" style=\"fill:#1f77b4;\"/>\n   </g>\n   <g id=\"patch_7\">\n    <path clip-path=\"url(#p6c40ada56b)\" d=\"M 430.170818 294.118125 \nL 507.116682 294.118125 \nL 507.116682 229.77791 \nL 430.170818 229.77791 \nz\n\" style=\"fill:#1f77b4;\"/>\n   </g>\n   <g id=\"patch_8\">\n    <path clip-path=\"url(#p6c40ada56b)\" d=\"M 515.666222 294.118125 \nL 592.612085 294.118125 \nL 592.612085 268.232411 \nL 515.666222 268.232411 \nz\n\" style=\"fill:#1f77b4;\"/>\n   </g>\n   <g id=\"patch_9\">\n    <path clip-path=\"url(#p6c40ada56b)\" d=\"M 601.161625 294.118125 \nL 678.107489 294.118125 \nL 678.107489 285.738934 \nL 601.161625 285.738934 \nz\n\" style=\"fill:#1f77b4;\"/>\n   </g>\n   <g id=\"patch_10\">\n    <path clip-path=\"url(#p6c40ada56b)\" d=\"M 686.657029 294.118125 \nL 763.602892 294.118125 \nL 763.602892 291.125557 \nL 686.657029 291.125557 \nz\n\" style=\"fill:#1f77b4;\"/>\n   </g>\n   <g id=\"patch_11\">\n    <path clip-path=\"url(#p6c40ada56b)\" d=\"M 772.152432 294.118125 \nL 849.098295 294.118125 \nL 849.098295 293.220355 \nL 772.152432 293.220355 \nz\n\" style=\"fill:#1f77b4;\"/>\n   </g>\n   <g id=\"matplotlib.axis_1\">\n    <g id=\"xtick_1\">\n     <g id=\"line2d_1\">\n      <path clip-path=\"url(#p6c40ada56b)\" d=\"M 83.914434 294.118125 \nL 83.914434 22.318125 \n\" style=\"fill:none;stroke:#b0b0b0;stroke-linecap:square;stroke-width:0.8;\"/>\n     </g>\n     <g id=\"line2d_2\">\n      <defs>\n       <path d=\"M 0 0 \nL 0 3.5 \n\" id=\"m86154c3eeb\" style=\"stroke:#000000;stroke-width:0.8;\"/>\n      </defs>\n      <g>\n       <use style=\"stroke:#000000;stroke-width:0.8;\" x=\"83.914434\" xlink:href=\"#m86154c3eeb\" y=\"294.118125\"/>\n      </g>\n     </g>\n     <g id=\"text_1\">\n      <!-- 0 -->\n      <g transform=\"translate(80.733184 308.716563)scale(0.1 -0.1)\">\n       <defs>\n        <path d=\"M 31.78125 66.40625 \nQ 24.171875 66.40625 20.328125 58.90625 \nQ 16.5 51.421875 16.5 36.375 \nQ 16.5 21.390625 20.328125 13.890625 \nQ 24.171875 6.390625 31.78125 6.390625 \nQ 39.453125 6.390625 43.28125 13.890625 \nQ 47.125 21.390625 47.125 36.375 \nQ 47.125 51.421875 43.28125 58.90625 \nQ 39.453125 66.40625 31.78125 66.40625 \nz\nM 31.78125 74.21875 \nQ 44.046875 74.21875 50.515625 64.515625 \nQ 56.984375 54.828125 56.984375 36.375 \nQ 56.984375 17.96875 50.515625 8.265625 \nQ 44.046875 -1.421875 31.78125 -1.421875 \nQ 19.53125 -1.421875 13.0625 8.265625 \nQ 6.59375 17.96875 6.59375 36.375 \nQ 6.59375 54.828125 13.0625 64.515625 \nQ 19.53125 74.21875 31.78125 74.21875 \nz\n\" id=\"DejaVuSans-48\"/>\n       </defs>\n       <use xlink:href=\"#DejaVuSans-48\"/>\n      </g>\n     </g>\n    </g>\n    <g id=\"xtick_2\">\n     <g id=\"line2d_3\">\n      <path clip-path=\"url(#p6c40ada56b)\" d=\"M 237.806161 294.118125 \nL 237.806161 22.318125 \n\" style=\"fill:none;stroke:#b0b0b0;stroke-linecap:square;stroke-width:0.8;\"/>\n     </g>\n     <g id=\"line2d_4\">\n      <g>\n       <use style=\"stroke:#000000;stroke-width:0.8;\" x=\"237.806161\" xlink:href=\"#m86154c3eeb\" y=\"294.118125\"/>\n      </g>\n     </g>\n     <g id=\"text_2\">\n      <!-- 2 -->\n      <g transform=\"translate(234.624911 308.716563)scale(0.1 -0.1)\">\n       <defs>\n        <path d=\"M 19.1875 8.296875 \nL 53.609375 8.296875 \nL 53.609375 0 \nL 7.328125 0 \nL 7.328125 8.296875 \nQ 12.9375 14.109375 22.625 23.890625 \nQ 32.328125 33.6875 34.8125 36.53125 \nQ 39.546875 41.84375 41.421875 45.53125 \nQ 43.3125 49.21875 43.3125 52.78125 \nQ 43.3125 58.59375 39.234375 62.25 \nQ 35.15625 65.921875 28.609375 65.921875 \nQ 23.96875 65.921875 18.8125 64.3125 \nQ 13.671875 62.703125 7.8125 59.421875 \nL 7.8125 69.390625 \nQ 13.765625 71.78125 18.9375 73 \nQ 24.125 74.21875 28.421875 74.21875 \nQ 39.75 74.21875 46.484375 68.546875 \nQ 53.21875 62.890625 53.21875 53.421875 \nQ 53.21875 48.921875 51.53125 44.890625 \nQ 49.859375 40.875 45.40625 35.40625 \nQ 44.1875 33.984375 37.640625 27.21875 \nQ 31.109375 20.453125 19.1875 8.296875 \nz\n\" id=\"DejaVuSans-50\"/>\n       </defs>\n       <use xlink:href=\"#DejaVuSans-50\"/>\n      </g>\n     </g>\n    </g>\n    <g id=\"xtick_3\">\n     <g id=\"line2d_5\">\n      <path clip-path=\"url(#p6c40ada56b)\" d=\"M 391.697887 294.118125 \nL 391.697887 22.318125 \n\" style=\"fill:none;stroke:#b0b0b0;stroke-linecap:square;stroke-width:0.8;\"/>\n     </g>\n     <g id=\"line2d_6\">\n      <g>\n       <use style=\"stroke:#000000;stroke-width:0.8;\" x=\"391.697887\" xlink:href=\"#m86154c3eeb\" y=\"294.118125\"/>\n      </g>\n     </g>\n     <g id=\"text_3\">\n      <!-- 4 -->\n      <g transform=\"translate(388.516637 308.716563)scale(0.1 -0.1)\">\n       <defs>\n        <path d=\"M 37.796875 64.3125 \nL 12.890625 25.390625 \nL 37.796875 25.390625 \nz\nM 35.203125 72.90625 \nL 47.609375 72.90625 \nL 47.609375 25.390625 \nL 58.015625 25.390625 \nL 58.015625 17.1875 \nL 47.609375 17.1875 \nL 47.609375 0 \nL 37.796875 0 \nL 37.796875 17.1875 \nL 4.890625 17.1875 \nL 4.890625 26.703125 \nz\n\" id=\"DejaVuSans-52\"/>\n       </defs>\n       <use xlink:href=\"#DejaVuSans-52\"/>\n      </g>\n     </g>\n    </g>\n    <g id=\"xtick_4\">\n     <g id=\"line2d_7\">\n      <path clip-path=\"url(#p6c40ada56b)\" d=\"M 545.589613 294.118125 \nL 545.589613 22.318125 \n\" style=\"fill:none;stroke:#b0b0b0;stroke-linecap:square;stroke-width:0.8;\"/>\n     </g>\n     <g id=\"line2d_8\">\n      <g>\n       <use style=\"stroke:#000000;stroke-width:0.8;\" x=\"545.589613\" xlink:href=\"#m86154c3eeb\" y=\"294.118125\"/>\n      </g>\n     </g>\n     <g id=\"text_4\">\n      <!-- 6 -->\n      <g transform=\"translate(542.408363 308.716563)scale(0.1 -0.1)\">\n       <defs>\n        <path d=\"M 33.015625 40.375 \nQ 26.375 40.375 22.484375 35.828125 \nQ 18.609375 31.296875 18.609375 23.390625 \nQ 18.609375 15.53125 22.484375 10.953125 \nQ 26.375 6.390625 33.015625 6.390625 \nQ 39.65625 6.390625 43.53125 10.953125 \nQ 47.40625 15.53125 47.40625 23.390625 \nQ 47.40625 31.296875 43.53125 35.828125 \nQ 39.65625 40.375 33.015625 40.375 \nz\nM 52.59375 71.296875 \nL 52.59375 62.3125 \nQ 48.875 64.0625 45.09375 64.984375 \nQ 41.3125 65.921875 37.59375 65.921875 \nQ 27.828125 65.921875 22.671875 59.328125 \nQ 17.53125 52.734375 16.796875 39.40625 \nQ 19.671875 43.65625 24.015625 45.921875 \nQ 28.375 48.1875 33.59375 48.1875 \nQ 44.578125 48.1875 50.953125 41.515625 \nQ 57.328125 34.859375 57.328125 23.390625 \nQ 57.328125 12.15625 50.6875 5.359375 \nQ 44.046875 -1.421875 33.015625 -1.421875 \nQ 20.359375 -1.421875 13.671875 8.265625 \nQ 6.984375 17.96875 6.984375 36.375 \nQ 6.984375 53.65625 15.1875 63.9375 \nQ 23.390625 74.21875 37.203125 74.21875 \nQ 40.921875 74.21875 44.703125 73.484375 \nQ 48.484375 72.75 52.59375 71.296875 \nz\n\" id=\"DejaVuSans-54\"/>\n       </defs>\n       <use xlink:href=\"#DejaVuSans-54\"/>\n      </g>\n     </g>\n    </g>\n    <g id=\"xtick_5\">\n     <g id=\"line2d_9\">\n      <path clip-path=\"url(#p6c40ada56b)\" d=\"M 699.481339 294.118125 \nL 699.481339 22.318125 \n\" style=\"fill:none;stroke:#b0b0b0;stroke-linecap:square;stroke-width:0.8;\"/>\n     </g>\n     <g id=\"line2d_10\">\n      <g>\n       <use style=\"stroke:#000000;stroke-width:0.8;\" x=\"699.481339\" xlink:href=\"#m86154c3eeb\" y=\"294.118125\"/>\n      </g>\n     </g>\n     <g id=\"text_5\">\n      <!-- 8 -->\n      <g transform=\"translate(696.300089 308.716563)scale(0.1 -0.1)\">\n       <defs>\n        <path d=\"M 31.78125 34.625 \nQ 24.75 34.625 20.71875 30.859375 \nQ 16.703125 27.09375 16.703125 20.515625 \nQ 16.703125 13.921875 20.71875 10.15625 \nQ 24.75 6.390625 31.78125 6.390625 \nQ 38.8125 6.390625 42.859375 10.171875 \nQ 46.921875 13.96875 46.921875 20.515625 \nQ 46.921875 27.09375 42.890625 30.859375 \nQ 38.875 34.625 31.78125 34.625 \nz\nM 21.921875 38.8125 \nQ 15.578125 40.375 12.03125 44.71875 \nQ 8.5 49.078125 8.5 55.328125 \nQ 8.5 64.0625 14.71875 69.140625 \nQ 20.953125 74.21875 31.78125 74.21875 \nQ 42.671875 74.21875 48.875 69.140625 \nQ 55.078125 64.0625 55.078125 55.328125 \nQ 55.078125 49.078125 51.53125 44.71875 \nQ 48 40.375 41.703125 38.8125 \nQ 48.828125 37.15625 52.796875 32.3125 \nQ 56.78125 27.484375 56.78125 20.515625 \nQ 56.78125 9.90625 50.3125 4.234375 \nQ 43.84375 -1.421875 31.78125 -1.421875 \nQ 19.734375 -1.421875 13.25 4.234375 \nQ 6.78125 9.90625 6.78125 20.515625 \nQ 6.78125 27.484375 10.78125 32.3125 \nQ 14.796875 37.15625 21.921875 38.8125 \nz\nM 18.3125 54.390625 \nQ 18.3125 48.734375 21.84375 45.5625 \nQ 25.390625 42.390625 31.78125 42.390625 \nQ 38.140625 42.390625 41.71875 45.5625 \nQ 45.3125 48.734375 45.3125 54.390625 \nQ 45.3125 60.0625 41.71875 63.234375 \nQ 38.140625 66.40625 31.78125 66.40625 \nQ 25.390625 66.40625 21.84375 63.234375 \nQ 18.3125 60.0625 18.3125 54.390625 \nz\n\" id=\"DejaVuSans-56\"/>\n       </defs>\n       <use xlink:href=\"#DejaVuSans-56\"/>\n      </g>\n     </g>\n    </g>\n    <g id=\"xtick_6\">\n     <g id=\"line2d_11\">\n      <path clip-path=\"url(#p6c40ada56b)\" d=\"M 853.373066 294.118125 \nL 853.373066 22.318125 \n\" style=\"fill:none;stroke:#b0b0b0;stroke-linecap:square;stroke-width:0.8;\"/>\n     </g>\n     <g id=\"line2d_12\">\n      <g>\n       <use style=\"stroke:#000000;stroke-width:0.8;\" x=\"853.373066\" xlink:href=\"#m86154c3eeb\" y=\"294.118125\"/>\n      </g>\n     </g>\n     <g id=\"text_6\">\n      <!-- 10 -->\n      <g transform=\"translate(847.010566 308.716563)scale(0.1 -0.1)\">\n       <defs>\n        <path d=\"M 12.40625 8.296875 \nL 28.515625 8.296875 \nL 28.515625 63.921875 \nL 10.984375 60.40625 \nL 10.984375 69.390625 \nL 28.421875 72.90625 \nL 38.28125 72.90625 \nL 38.28125 8.296875 \nL 54.390625 8.296875 \nL 54.390625 0 \nL 12.40625 0 \nz\n\" id=\"DejaVuSans-49\"/>\n       </defs>\n       <use xlink:href=\"#DejaVuSans-49\"/>\n       <use x=\"63.623047\" xlink:href=\"#DejaVuSans-48\"/>\n      </g>\n     </g>\n    </g>\n    <g id=\"text_7\">\n     <!-- Node degree -->\n     <g transform=\"translate(436.482813 322.394687)scale(0.1 -0.1)\">\n      <defs>\n       <path d=\"M 9.8125 72.90625 \nL 23.09375 72.90625 \nL 55.421875 11.921875 \nL 55.421875 72.90625 \nL 64.984375 72.90625 \nL 64.984375 0 \nL 51.703125 0 \nL 19.390625 60.984375 \nL 19.390625 0 \nL 9.8125 0 \nz\n\" id=\"DejaVuSans-78\"/>\n       <path d=\"M 30.609375 48.390625 \nQ 23.390625 48.390625 19.1875 42.75 \nQ 14.984375 37.109375 14.984375 27.296875 \nQ 14.984375 17.484375 19.15625 11.84375 \nQ 23.34375 6.203125 30.609375 6.203125 \nQ 37.796875 6.203125 41.984375 11.859375 \nQ 46.1875 17.53125 46.1875 27.296875 \nQ 46.1875 37.015625 41.984375 42.703125 \nQ 37.796875 48.390625 30.609375 48.390625 \nz\nM 30.609375 56 \nQ 42.328125 56 49.015625 48.375 \nQ 55.71875 40.765625 55.71875 27.296875 \nQ 55.71875 13.875 49.015625 6.21875 \nQ 42.328125 -1.421875 30.609375 -1.421875 \nQ 18.84375 -1.421875 12.171875 6.21875 \nQ 5.515625 13.875 5.515625 27.296875 \nQ 5.515625 40.765625 12.171875 48.375 \nQ 18.84375 56 30.609375 56 \nz\n\" id=\"DejaVuSans-111\"/>\n       <path d=\"M 45.40625 46.390625 \nL 45.40625 75.984375 \nL 54.390625 75.984375 \nL 54.390625 0 \nL 45.40625 0 \nL 45.40625 8.203125 \nQ 42.578125 3.328125 38.25 0.953125 \nQ 33.9375 -1.421875 27.875 -1.421875 \nQ 17.96875 -1.421875 11.734375 6.484375 \nQ 5.515625 14.40625 5.515625 27.296875 \nQ 5.515625 40.1875 11.734375 48.09375 \nQ 17.96875 56 27.875 56 \nQ 33.9375 56 38.25 53.625 \nQ 42.578125 51.265625 45.40625 46.390625 \nz\nM 14.796875 27.296875 \nQ 14.796875 17.390625 18.875 11.75 \nQ 22.953125 6.109375 30.078125 6.109375 \nQ 37.203125 6.109375 41.296875 11.75 \nQ 45.40625 17.390625 45.40625 27.296875 \nQ 45.40625 37.203125 41.296875 42.84375 \nQ 37.203125 48.484375 30.078125 48.484375 \nQ 22.953125 48.484375 18.875 42.84375 \nQ 14.796875 37.203125 14.796875 27.296875 \nz\n\" id=\"DejaVuSans-100\"/>\n       <path d=\"M 56.203125 29.59375 \nL 56.203125 25.203125 \nL 14.890625 25.203125 \nQ 15.484375 15.921875 20.484375 11.0625 \nQ 25.484375 6.203125 34.421875 6.203125 \nQ 39.59375 6.203125 44.453125 7.46875 \nQ 49.3125 8.734375 54.109375 11.28125 \nL 54.109375 2.78125 \nQ 49.265625 0.734375 44.1875 -0.34375 \nQ 39.109375 -1.421875 33.890625 -1.421875 \nQ 20.796875 -1.421875 13.15625 6.1875 \nQ 5.515625 13.8125 5.515625 26.8125 \nQ 5.515625 40.234375 12.765625 48.109375 \nQ 20.015625 56 32.328125 56 \nQ 43.359375 56 49.78125 48.890625 \nQ 56.203125 41.796875 56.203125 29.59375 \nz\nM 47.21875 32.234375 \nQ 47.125 39.59375 43.09375 43.984375 \nQ 39.0625 48.390625 32.421875 48.390625 \nQ 24.90625 48.390625 20.390625 44.140625 \nQ 15.875 39.890625 15.1875 32.171875 \nz\n\" id=\"DejaVuSans-101\"/>\n       <path id=\"DejaVuSans-32\"/>\n       <path d=\"M 45.40625 27.984375 \nQ 45.40625 37.75 41.375 43.109375 \nQ 37.359375 48.484375 30.078125 48.484375 \nQ 22.859375 48.484375 18.828125 43.109375 \nQ 14.796875 37.75 14.796875 27.984375 \nQ 14.796875 18.265625 18.828125 12.890625 \nQ 22.859375 7.515625 30.078125 7.515625 \nQ 37.359375 7.515625 41.375 12.890625 \nQ 45.40625 18.265625 45.40625 27.984375 \nz\nM 54.390625 6.78125 \nQ 54.390625 -7.171875 48.1875 -13.984375 \nQ 42 -20.796875 29.203125 -20.796875 \nQ 24.46875 -20.796875 20.265625 -20.09375 \nQ 16.0625 -19.390625 12.109375 -17.921875 \nL 12.109375 -9.1875 \nQ 16.0625 -11.328125 19.921875 -12.34375 \nQ 23.78125 -13.375 27.78125 -13.375 \nQ 36.625 -13.375 41.015625 -8.765625 \nQ 45.40625 -4.15625 45.40625 5.171875 \nL 45.40625 9.625 \nQ 42.625 4.78125 38.28125 2.390625 \nQ 33.9375 0 27.875 0 \nQ 17.828125 0 11.671875 7.65625 \nQ 5.515625 15.328125 5.515625 27.984375 \nQ 5.515625 40.671875 11.671875 48.328125 \nQ 17.828125 56 27.875 56 \nQ 33.9375 56 38.28125 53.609375 \nQ 42.625 51.21875 45.40625 46.390625 \nL 45.40625 54.6875 \nL 54.390625 54.6875 \nz\n\" id=\"DejaVuSans-103\"/>\n       <path d=\"M 41.109375 46.296875 \nQ 39.59375 47.171875 37.8125 47.578125 \nQ 36.03125 48 33.890625 48 \nQ 26.265625 48 22.1875 43.046875 \nQ 18.109375 38.09375 18.109375 28.8125 \nL 18.109375 0 \nL 9.078125 0 \nL 9.078125 54.6875 \nL 18.109375 54.6875 \nL 18.109375 46.1875 \nQ 20.953125 51.171875 25.484375 53.578125 \nQ 30.03125 56 36.53125 56 \nQ 37.453125 56 38.578125 55.875 \nQ 39.703125 55.765625 41.0625 55.515625 \nz\n\" id=\"DejaVuSans-114\"/>\n      </defs>\n      <use xlink:href=\"#DejaVuSans-78\"/>\n      <use x=\"74.804688\" xlink:href=\"#DejaVuSans-111\"/>\n      <use x=\"135.986328\" xlink:href=\"#DejaVuSans-100\"/>\n      <use x=\"199.462891\" xlink:href=\"#DejaVuSans-101\"/>\n      <use x=\"260.986328\" xlink:href=\"#DejaVuSans-32\"/>\n      <use x=\"292.773438\" xlink:href=\"#DejaVuSans-100\"/>\n      <use x=\"356.25\" xlink:href=\"#DejaVuSans-101\"/>\n      <use x=\"417.773438\" xlink:href=\"#DejaVuSans-103\"/>\n      <use x=\"481.25\" xlink:href=\"#DejaVuSans-114\"/>\n      <use x=\"520.113281\" xlink:href=\"#DejaVuSans-101\"/>\n      <use x=\"581.636719\" xlink:href=\"#DejaVuSans-101\"/>\n     </g>\n    </g>\n   </g>\n   <g id=\"matplotlib.axis_2\">\n    <g id=\"ytick_1\">\n     <g id=\"line2d_13\">\n      <path clip-path=\"url(#p6c40ada56b)\" d=\"M 50.14375 294.118125 \nL 887.14375 294.118125 \n\" style=\"fill:none;stroke:#b0b0b0;stroke-linecap:square;stroke-width:0.8;\"/>\n     </g>\n     <g id=\"line2d_14\">\n      <defs>\n       <path d=\"M 0 0 \nL -3.5 0 \n\" id=\"m6dfe6db5d8\" style=\"stroke:#000000;stroke-width:0.8;\"/>\n      </defs>\n      <g>\n       <use style=\"stroke:#000000;stroke-width:0.8;\" x=\"50.14375\" xlink:href=\"#m6dfe6db5d8\" y=\"294.118125\"/>\n      </g>\n     </g>\n     <g id=\"text_8\">\n      <!-- 0.00 -->\n      <g transform=\"translate(20.878125 297.917344)scale(0.1 -0.1)\">\n       <defs>\n        <path d=\"M 10.6875 12.40625 \nL 21 12.40625 \nL 21 0 \nL 10.6875 0 \nz\n\" id=\"DejaVuSans-46\"/>\n       </defs>\n       <use xlink:href=\"#DejaVuSans-48\"/>\n       <use x=\"63.623047\" xlink:href=\"#DejaVuSans-46\"/>\n       <use x=\"95.410156\" xlink:href=\"#DejaVuSans-48\"/>\n       <use x=\"159.033203\" xlink:href=\"#DejaVuSans-48\"/>\n      </g>\n     </g>\n    </g>\n    <g id=\"ytick_2\">\n     <g id=\"line2d_15\">\n      <path clip-path=\"url(#p6c40ada56b)\" d=\"M 50.14375 244.208739 \nL 887.14375 244.208739 \n\" style=\"fill:none;stroke:#b0b0b0;stroke-linecap:square;stroke-width:0.8;\"/>\n     </g>\n     <g id=\"line2d_16\">\n      <g>\n       <use style=\"stroke:#000000;stroke-width:0.8;\" x=\"50.14375\" xlink:href=\"#m6dfe6db5d8\" y=\"244.208739\"/>\n      </g>\n     </g>\n     <g id=\"text_9\">\n      <!-- 0.05 -->\n      <g transform=\"translate(20.878125 248.007958)scale(0.1 -0.1)\">\n       <defs>\n        <path d=\"M 10.796875 72.90625 \nL 49.515625 72.90625 \nL 49.515625 64.59375 \nL 19.828125 64.59375 \nL 19.828125 46.734375 \nQ 21.96875 47.46875 24.109375 47.828125 \nQ 26.265625 48.1875 28.421875 48.1875 \nQ 40.625 48.1875 47.75 41.5 \nQ 54.890625 34.8125 54.890625 23.390625 \nQ 54.890625 11.625 47.5625 5.09375 \nQ 40.234375 -1.421875 26.90625 -1.421875 \nQ 22.3125 -1.421875 17.546875 -0.640625 \nQ 12.796875 0.140625 7.71875 1.703125 \nL 7.71875 11.625 \nQ 12.109375 9.234375 16.796875 8.0625 \nQ 21.484375 6.890625 26.703125 6.890625 \nQ 35.15625 6.890625 40.078125 11.328125 \nQ 45.015625 15.765625 45.015625 23.390625 \nQ 45.015625 31 40.078125 35.4375 \nQ 35.15625 39.890625 26.703125 39.890625 \nQ 22.75 39.890625 18.8125 39.015625 \nQ 14.890625 38.140625 10.796875 36.28125 \nz\n\" id=\"DejaVuSans-53\"/>\n       </defs>\n       <use xlink:href=\"#DejaVuSans-48\"/>\n       <use x=\"63.623047\" xlink:href=\"#DejaVuSans-46\"/>\n       <use x=\"95.410156\" xlink:href=\"#DejaVuSans-48\"/>\n       <use x=\"159.033203\" xlink:href=\"#DejaVuSans-53\"/>\n      </g>\n     </g>\n    </g>\n    <g id=\"ytick_3\">\n     <g id=\"line2d_17\">\n      <path clip-path=\"url(#p6c40ada56b)\" d=\"M 50.14375 194.299353 \nL 887.14375 194.299353 \n\" style=\"fill:none;stroke:#b0b0b0;stroke-linecap:square;stroke-width:0.8;\"/>\n     </g>\n     <g id=\"line2d_18\">\n      <g>\n       <use style=\"stroke:#000000;stroke-width:0.8;\" x=\"50.14375\" xlink:href=\"#m6dfe6db5d8\" y=\"194.299353\"/>\n      </g>\n     </g>\n     <g id=\"text_10\">\n      <!-- 0.10 -->\n      <g transform=\"translate(20.878125 198.098571)scale(0.1 -0.1)\">\n       <use xlink:href=\"#DejaVuSans-48\"/>\n       <use x=\"63.623047\" xlink:href=\"#DejaVuSans-46\"/>\n       <use x=\"95.410156\" xlink:href=\"#DejaVuSans-49\"/>\n       <use x=\"159.033203\" xlink:href=\"#DejaVuSans-48\"/>\n      </g>\n     </g>\n    </g>\n    <g id=\"ytick_4\">\n     <g id=\"line2d_19\">\n      <path clip-path=\"url(#p6c40ada56b)\" d=\"M 50.14375 144.389966 \nL 887.14375 144.389966 \n\" style=\"fill:none;stroke:#b0b0b0;stroke-linecap:square;stroke-width:0.8;\"/>\n     </g>\n     <g id=\"line2d_20\">\n      <g>\n       <use style=\"stroke:#000000;stroke-width:0.8;\" x=\"50.14375\" xlink:href=\"#m6dfe6db5d8\" y=\"144.389966\"/>\n      </g>\n     </g>\n     <g id=\"text_11\">\n      <!-- 0.15 -->\n      <g transform=\"translate(20.878125 148.189185)scale(0.1 -0.1)\">\n       <use xlink:href=\"#DejaVuSans-48\"/>\n       <use x=\"63.623047\" xlink:href=\"#DejaVuSans-46\"/>\n       <use x=\"95.410156\" xlink:href=\"#DejaVuSans-49\"/>\n       <use x=\"159.033203\" xlink:href=\"#DejaVuSans-53\"/>\n      </g>\n     </g>\n    </g>\n    <g id=\"ytick_5\">\n     <g id=\"line2d_21\">\n      <path clip-path=\"url(#p6c40ada56b)\" d=\"M 50.14375 94.48058 \nL 887.14375 94.48058 \n\" style=\"fill:none;stroke:#b0b0b0;stroke-linecap:square;stroke-width:0.8;\"/>\n     </g>\n     <g id=\"line2d_22\">\n      <g>\n       <use style=\"stroke:#000000;stroke-width:0.8;\" x=\"50.14375\" xlink:href=\"#m6dfe6db5d8\" y=\"94.48058\"/>\n      </g>\n     </g>\n     <g id=\"text_12\">\n      <!-- 0.20 -->\n      <g transform=\"translate(20.878125 98.279799)scale(0.1 -0.1)\">\n       <use xlink:href=\"#DejaVuSans-48\"/>\n       <use x=\"63.623047\" xlink:href=\"#DejaVuSans-46\"/>\n       <use x=\"95.410156\" xlink:href=\"#DejaVuSans-50\"/>\n       <use x=\"159.033203\" xlink:href=\"#DejaVuSans-48\"/>\n      </g>\n     </g>\n    </g>\n    <g id=\"ytick_6\">\n     <g id=\"line2d_23\">\n      <path clip-path=\"url(#p6c40ada56b)\" d=\"M 50.14375 44.571194 \nL 887.14375 44.571194 \n\" style=\"fill:none;stroke:#b0b0b0;stroke-linecap:square;stroke-width:0.8;\"/>\n     </g>\n     <g id=\"line2d_24\">\n      <g>\n       <use style=\"stroke:#000000;stroke-width:0.8;\" x=\"50.14375\" xlink:href=\"#m6dfe6db5d8\" y=\"44.571194\"/>\n      </g>\n     </g>\n     <g id=\"text_13\">\n      <!-- 0.25 -->\n      <g transform=\"translate(20.878125 48.370413)scale(0.1 -0.1)\">\n       <use xlink:href=\"#DejaVuSans-48\"/>\n       <use x=\"63.623047\" xlink:href=\"#DejaVuSans-46\"/>\n       <use x=\"95.410156\" xlink:href=\"#DejaVuSans-50\"/>\n       <use x=\"159.033203\" xlink:href=\"#DejaVuSans-53\"/>\n      </g>\n     </g>\n    </g>\n    <g id=\"text_14\">\n     <!-- Probability density -->\n     <g transform=\"translate(14.798438 204.568906)rotate(-90)scale(0.1 -0.1)\">\n      <defs>\n       <path d=\"M 19.671875 64.796875 \nL 19.671875 37.40625 \nL 32.078125 37.40625 \nQ 38.96875 37.40625 42.71875 40.96875 \nQ 46.484375 44.53125 46.484375 51.125 \nQ 46.484375 57.671875 42.71875 61.234375 \nQ 38.96875 64.796875 32.078125 64.796875 \nz\nM 9.8125 72.90625 \nL 32.078125 72.90625 \nQ 44.34375 72.90625 50.609375 67.359375 \nQ 56.890625 61.8125 56.890625 51.125 \nQ 56.890625 40.328125 50.609375 34.8125 \nQ 44.34375 29.296875 32.078125 29.296875 \nL 19.671875 29.296875 \nL 19.671875 0 \nL 9.8125 0 \nz\n\" id=\"DejaVuSans-80\"/>\n       <path d=\"M 48.6875 27.296875 \nQ 48.6875 37.203125 44.609375 42.84375 \nQ 40.53125 48.484375 33.40625 48.484375 \nQ 26.265625 48.484375 22.1875 42.84375 \nQ 18.109375 37.203125 18.109375 27.296875 \nQ 18.109375 17.390625 22.1875 11.75 \nQ 26.265625 6.109375 33.40625 6.109375 \nQ 40.53125 6.109375 44.609375 11.75 \nQ 48.6875 17.390625 48.6875 27.296875 \nz\nM 18.109375 46.390625 \nQ 20.953125 51.265625 25.265625 53.625 \nQ 29.59375 56 35.59375 56 \nQ 45.5625 56 51.78125 48.09375 \nQ 58.015625 40.1875 58.015625 27.296875 \nQ 58.015625 14.40625 51.78125 6.484375 \nQ 45.5625 -1.421875 35.59375 -1.421875 \nQ 29.59375 -1.421875 25.265625 0.953125 \nQ 20.953125 3.328125 18.109375 8.203125 \nL 18.109375 0 \nL 9.078125 0 \nL 9.078125 75.984375 \nL 18.109375 75.984375 \nz\n\" id=\"DejaVuSans-98\"/>\n       <path d=\"M 34.28125 27.484375 \nQ 23.390625 27.484375 19.1875 25 \nQ 14.984375 22.515625 14.984375 16.5 \nQ 14.984375 11.71875 18.140625 8.90625 \nQ 21.296875 6.109375 26.703125 6.109375 \nQ 34.1875 6.109375 38.703125 11.40625 \nQ 43.21875 16.703125 43.21875 25.484375 \nL 43.21875 27.484375 \nz\nM 52.203125 31.203125 \nL 52.203125 0 \nL 43.21875 0 \nL 43.21875 8.296875 \nQ 40.140625 3.328125 35.546875 0.953125 \nQ 30.953125 -1.421875 24.3125 -1.421875 \nQ 15.921875 -1.421875 10.953125 3.296875 \nQ 6 8.015625 6 15.921875 \nQ 6 25.140625 12.171875 29.828125 \nQ 18.359375 34.515625 30.609375 34.515625 \nL 43.21875 34.515625 \nL 43.21875 35.40625 \nQ 43.21875 41.609375 39.140625 45 \nQ 35.0625 48.390625 27.6875 48.390625 \nQ 23 48.390625 18.546875 47.265625 \nQ 14.109375 46.140625 10.015625 43.890625 \nL 10.015625 52.203125 \nQ 14.9375 54.109375 19.578125 55.046875 \nQ 24.21875 56 28.609375 56 \nQ 40.484375 56 46.34375 49.84375 \nQ 52.203125 43.703125 52.203125 31.203125 \nz\n\" id=\"DejaVuSans-97\"/>\n       <path d=\"M 9.421875 54.6875 \nL 18.40625 54.6875 \nL 18.40625 0 \nL 9.421875 0 \nz\nM 9.421875 75.984375 \nL 18.40625 75.984375 \nL 18.40625 64.59375 \nL 9.421875 64.59375 \nz\n\" id=\"DejaVuSans-105\"/>\n       <path d=\"M 9.421875 75.984375 \nL 18.40625 75.984375 \nL 18.40625 0 \nL 9.421875 0 \nz\n\" id=\"DejaVuSans-108\"/>\n       <path d=\"M 18.3125 70.21875 \nL 18.3125 54.6875 \nL 36.8125 54.6875 \nL 36.8125 47.703125 \nL 18.3125 47.703125 \nL 18.3125 18.015625 \nQ 18.3125 11.328125 20.140625 9.421875 \nQ 21.96875 7.515625 27.59375 7.515625 \nL 36.8125 7.515625 \nL 36.8125 0 \nL 27.59375 0 \nQ 17.1875 0 13.234375 3.875 \nQ 9.28125 7.765625 9.28125 18.015625 \nL 9.28125 47.703125 \nL 2.6875 47.703125 \nL 2.6875 54.6875 \nL 9.28125 54.6875 \nL 9.28125 70.21875 \nz\n\" id=\"DejaVuSans-116\"/>\n       <path d=\"M 32.171875 -5.078125 \nQ 28.375 -14.84375 24.75 -17.8125 \nQ 21.140625 -20.796875 15.09375 -20.796875 \nL 7.90625 -20.796875 \nL 7.90625 -13.28125 \nL 13.1875 -13.28125 \nQ 16.890625 -13.28125 18.9375 -11.515625 \nQ 21 -9.765625 23.484375 -3.21875 \nL 25.09375 0.875 \nL 2.984375 54.6875 \nL 12.5 54.6875 \nL 29.59375 11.921875 \nL 46.6875 54.6875 \nL 56.203125 54.6875 \nz\n\" id=\"DejaVuSans-121\"/>\n       <path d=\"M 54.890625 33.015625 \nL 54.890625 0 \nL 45.90625 0 \nL 45.90625 32.71875 \nQ 45.90625 40.484375 42.875 44.328125 \nQ 39.84375 48.1875 33.796875 48.1875 \nQ 26.515625 48.1875 22.3125 43.546875 \nQ 18.109375 38.921875 18.109375 30.90625 \nL 18.109375 0 \nL 9.078125 0 \nL 9.078125 54.6875 \nL 18.109375 54.6875 \nL 18.109375 46.1875 \nQ 21.34375 51.125 25.703125 53.5625 \nQ 30.078125 56 35.796875 56 \nQ 45.21875 56 50.046875 50.171875 \nQ 54.890625 44.34375 54.890625 33.015625 \nz\n\" id=\"DejaVuSans-110\"/>\n       <path d=\"M 44.28125 53.078125 \nL 44.28125 44.578125 \nQ 40.484375 46.53125 36.375 47.5 \nQ 32.28125 48.484375 27.875 48.484375 \nQ 21.1875 48.484375 17.84375 46.4375 \nQ 14.5 44.390625 14.5 40.28125 \nQ 14.5 37.15625 16.890625 35.375 \nQ 19.28125 33.59375 26.515625 31.984375 \nL 29.59375 31.296875 \nQ 39.15625 29.25 43.1875 25.515625 \nQ 47.21875 21.78125 47.21875 15.09375 \nQ 47.21875 7.46875 41.1875 3.015625 \nQ 35.15625 -1.421875 24.609375 -1.421875 \nQ 20.21875 -1.421875 15.453125 -0.5625 \nQ 10.6875 0.296875 5.421875 2 \nL 5.421875 11.28125 \nQ 10.40625 8.6875 15.234375 7.390625 \nQ 20.0625 6.109375 24.8125 6.109375 \nQ 31.15625 6.109375 34.5625 8.28125 \nQ 37.984375 10.453125 37.984375 14.40625 \nQ 37.984375 18.0625 35.515625 20.015625 \nQ 33.0625 21.96875 24.703125 23.78125 \nL 21.578125 24.515625 \nQ 13.234375 26.265625 9.515625 29.90625 \nQ 5.8125 33.546875 5.8125 39.890625 \nQ 5.8125 47.609375 11.28125 51.796875 \nQ 16.75 56 26.8125 56 \nQ 31.78125 56 36.171875 55.265625 \nQ 40.578125 54.546875 44.28125 53.078125 \nz\n\" id=\"DejaVuSans-115\"/>\n      </defs>\n      <use xlink:href=\"#DejaVuSans-80\"/>\n      <use x=\"58.552734\" xlink:href=\"#DejaVuSans-114\"/>\n      <use x=\"97.416016\" xlink:href=\"#DejaVuSans-111\"/>\n      <use x=\"158.597656\" xlink:href=\"#DejaVuSans-98\"/>\n      <use x=\"222.074219\" xlink:href=\"#DejaVuSans-97\"/>\n      <use x=\"283.353516\" xlink:href=\"#DejaVuSans-98\"/>\n      <use x=\"346.830078\" xlink:href=\"#DejaVuSans-105\"/>\n      <use x=\"374.613281\" xlink:href=\"#DejaVuSans-108\"/>\n      <use x=\"402.396484\" xlink:href=\"#DejaVuSans-105\"/>\n      <use x=\"430.179688\" xlink:href=\"#DejaVuSans-116\"/>\n      <use x=\"469.388672\" xlink:href=\"#DejaVuSans-121\"/>\n      <use x=\"528.568359\" xlink:href=\"#DejaVuSans-32\"/>\n      <use x=\"560.355469\" xlink:href=\"#DejaVuSans-100\"/>\n      <use x=\"623.832031\" xlink:href=\"#DejaVuSans-101\"/>\n      <use x=\"685.355469\" xlink:href=\"#DejaVuSans-110\"/>\n      <use x=\"748.734375\" xlink:href=\"#DejaVuSans-115\"/>\n      <use x=\"800.833984\" xlink:href=\"#DejaVuSans-105\"/>\n      <use x=\"828.617188\" xlink:href=\"#DejaVuSans-116\"/>\n      <use x=\"867.826172\" xlink:href=\"#DejaVuSans-121\"/>\n     </g>\n    </g>\n   </g>\n   <g id=\"patch_12\">\n    <path d=\"M 50.14375 294.118125 \nL 50.14375 22.318125 \n\" style=\"fill:none;stroke:#000000;stroke-linecap:square;stroke-linejoin:miter;stroke-width:0.8;\"/>\n   </g>\n   <g id=\"patch_13\">\n    <path d=\"M 887.14375 294.118125 \nL 887.14375 22.318125 \n\" style=\"fill:none;stroke:#000000;stroke-linecap:square;stroke-linejoin:miter;stroke-width:0.8;\"/>\n   </g>\n   <g id=\"patch_14\">\n    <path d=\"M 50.14375 294.118125 \nL 887.14375 294.118125 \n\" style=\"fill:none;stroke:#000000;stroke-linecap:square;stroke-linejoin:miter;stroke-width:0.8;\"/>\n   </g>\n   <g id=\"patch_15\">\n    <path d=\"M 50.14375 22.318125 \nL 887.14375 22.318125 \n\" style=\"fill:none;stroke:#000000;stroke-linecap:square;stroke-linejoin:miter;stroke-width:0.8;\"/>\n   </g>\n   <g id=\"text_15\">\n    <!-- Distribution of degree for the random Reddit network -->\n    <g transform=\"translate(308.523438 16.318125)scale(0.12 -0.12)\">\n     <defs>\n      <path d=\"M 19.671875 64.796875 \nL 19.671875 8.109375 \nL 31.59375 8.109375 \nQ 46.6875 8.109375 53.6875 14.9375 \nQ 60.6875 21.78125 60.6875 36.53125 \nQ 60.6875 51.171875 53.6875 57.984375 \nQ 46.6875 64.796875 31.59375 64.796875 \nz\nM 9.8125 72.90625 \nL 30.078125 72.90625 \nQ 51.265625 72.90625 61.171875 64.09375 \nQ 71.09375 55.28125 71.09375 36.53125 \nQ 71.09375 17.671875 61.125 8.828125 \nQ 51.171875 0 30.078125 0 \nL 9.8125 0 \nz\n\" id=\"DejaVuSans-68\"/>\n      <path d=\"M 8.5 21.578125 \nL 8.5 54.6875 \nL 17.484375 54.6875 \nL 17.484375 21.921875 \nQ 17.484375 14.15625 20.5 10.265625 \nQ 23.53125 6.390625 29.59375 6.390625 \nQ 36.859375 6.390625 41.078125 11.03125 \nQ 45.3125 15.671875 45.3125 23.6875 \nL 45.3125 54.6875 \nL 54.296875 54.6875 \nL 54.296875 0 \nL 45.3125 0 \nL 45.3125 8.40625 \nQ 42.046875 3.421875 37.71875 1 \nQ 33.40625 -1.421875 27.6875 -1.421875 \nQ 18.265625 -1.421875 13.375 4.4375 \nQ 8.5 10.296875 8.5 21.578125 \nz\nM 31.109375 56 \nz\n\" id=\"DejaVuSans-117\"/>\n      <path d=\"M 37.109375 75.984375 \nL 37.109375 68.5 \nL 28.515625 68.5 \nQ 23.6875 68.5 21.796875 66.546875 \nQ 19.921875 64.59375 19.921875 59.515625 \nL 19.921875 54.6875 \nL 34.71875 54.6875 \nL 34.71875 47.703125 \nL 19.921875 47.703125 \nL 19.921875 0 \nL 10.890625 0 \nL 10.890625 47.703125 \nL 2.296875 47.703125 \nL 2.296875 54.6875 \nL 10.890625 54.6875 \nL 10.890625 58.5 \nQ 10.890625 67.625 15.140625 71.796875 \nQ 19.390625 75.984375 28.609375 75.984375 \nz\n\" id=\"DejaVuSans-102\"/>\n      <path d=\"M 54.890625 33.015625 \nL 54.890625 0 \nL 45.90625 0 \nL 45.90625 32.71875 \nQ 45.90625 40.484375 42.875 44.328125 \nQ 39.84375 48.1875 33.796875 48.1875 \nQ 26.515625 48.1875 22.3125 43.546875 \nQ 18.109375 38.921875 18.109375 30.90625 \nL 18.109375 0 \nL 9.078125 0 \nL 9.078125 75.984375 \nL 18.109375 75.984375 \nL 18.109375 46.1875 \nQ 21.34375 51.125 25.703125 53.5625 \nQ 30.078125 56 35.796875 56 \nQ 45.21875 56 50.046875 50.171875 \nQ 54.890625 44.34375 54.890625 33.015625 \nz\n\" id=\"DejaVuSans-104\"/>\n      <path d=\"M 52 44.1875 \nQ 55.375 50.25 60.0625 53.125 \nQ 64.75 56 71.09375 56 \nQ 79.640625 56 84.28125 50.015625 \nQ 88.921875 44.046875 88.921875 33.015625 \nL 88.921875 0 \nL 79.890625 0 \nL 79.890625 32.71875 \nQ 79.890625 40.578125 77.09375 44.375 \nQ 74.3125 48.1875 68.609375 48.1875 \nQ 61.625 48.1875 57.5625 43.546875 \nQ 53.515625 38.921875 53.515625 30.90625 \nL 53.515625 0 \nL 44.484375 0 \nL 44.484375 32.71875 \nQ 44.484375 40.625 41.703125 44.40625 \nQ 38.921875 48.1875 33.109375 48.1875 \nQ 26.21875 48.1875 22.15625 43.53125 \nQ 18.109375 38.875 18.109375 30.90625 \nL 18.109375 0 \nL 9.078125 0 \nL 9.078125 54.6875 \nL 18.109375 54.6875 \nL 18.109375 46.1875 \nQ 21.1875 51.21875 25.484375 53.609375 \nQ 29.78125 56 35.6875 56 \nQ 41.65625 56 45.828125 52.96875 \nQ 50 49.953125 52 44.1875 \nz\n\" id=\"DejaVuSans-109\"/>\n      <path d=\"M 44.390625 34.1875 \nQ 47.5625 33.109375 50.5625 29.59375 \nQ 53.5625 26.078125 56.59375 19.921875 \nL 66.609375 0 \nL 56 0 \nL 46.6875 18.703125 \nQ 43.0625 26.03125 39.671875 28.421875 \nQ 36.28125 30.8125 30.421875 30.8125 \nL 19.671875 30.8125 \nL 19.671875 0 \nL 9.8125 0 \nL 9.8125 72.90625 \nL 32.078125 72.90625 \nQ 44.578125 72.90625 50.734375 67.671875 \nQ 56.890625 62.453125 56.890625 51.90625 \nQ 56.890625 45.015625 53.6875 40.46875 \nQ 50.484375 35.9375 44.390625 34.1875 \nz\nM 19.671875 64.796875 \nL 19.671875 38.921875 \nL 32.078125 38.921875 \nQ 39.203125 38.921875 42.84375 42.21875 \nQ 46.484375 45.515625 46.484375 51.90625 \nQ 46.484375 58.296875 42.84375 61.546875 \nQ 39.203125 64.796875 32.078125 64.796875 \nz\n\" id=\"DejaVuSans-82\"/>\n      <path d=\"M 4.203125 54.6875 \nL 13.1875 54.6875 \nL 24.421875 12.015625 \nL 35.59375 54.6875 \nL 46.1875 54.6875 \nL 57.421875 12.015625 \nL 68.609375 54.6875 \nL 77.59375 54.6875 \nL 63.28125 0 \nL 52.6875 0 \nL 40.921875 44.828125 \nL 29.109375 0 \nL 18.5 0 \nz\n\" id=\"DejaVuSans-119\"/>\n      <path d=\"M 9.078125 75.984375 \nL 18.109375 75.984375 \nL 18.109375 31.109375 \nL 44.921875 54.6875 \nL 56.390625 54.6875 \nL 27.390625 29.109375 \nL 57.625 0 \nL 45.90625 0 \nL 18.109375 26.703125 \nL 18.109375 0 \nL 9.078125 0 \nz\n\" id=\"DejaVuSans-107\"/>\n     </defs>\n     <use xlink:href=\"#DejaVuSans-68\"/>\n     <use x=\"77.001953\" xlink:href=\"#DejaVuSans-105\"/>\n     <use x=\"104.785156\" xlink:href=\"#DejaVuSans-115\"/>\n     <use x=\"156.884766\" xlink:href=\"#DejaVuSans-116\"/>\n     <use x=\"196.09375\" xlink:href=\"#DejaVuSans-114\"/>\n     <use x=\"237.207031\" xlink:href=\"#DejaVuSans-105\"/>\n     <use x=\"264.990234\" xlink:href=\"#DejaVuSans-98\"/>\n     <use x=\"328.466797\" xlink:href=\"#DejaVuSans-117\"/>\n     <use x=\"391.845703\" xlink:href=\"#DejaVuSans-116\"/>\n     <use x=\"431.054688\" xlink:href=\"#DejaVuSans-105\"/>\n     <use x=\"458.837891\" xlink:href=\"#DejaVuSans-111\"/>\n     <use x=\"520.019531\" xlink:href=\"#DejaVuSans-110\"/>\n     <use x=\"583.398438\" xlink:href=\"#DejaVuSans-32\"/>\n     <use x=\"615.185547\" xlink:href=\"#DejaVuSans-111\"/>\n     <use x=\"676.367188\" xlink:href=\"#DejaVuSans-102\"/>\n     <use x=\"711.572266\" xlink:href=\"#DejaVuSans-32\"/>\n     <use x=\"743.359375\" xlink:href=\"#DejaVuSans-100\"/>\n     <use x=\"806.835938\" xlink:href=\"#DejaVuSans-101\"/>\n     <use x=\"868.359375\" xlink:href=\"#DejaVuSans-103\"/>\n     <use x=\"931.835938\" xlink:href=\"#DejaVuSans-114\"/>\n     <use x=\"970.699219\" xlink:href=\"#DejaVuSans-101\"/>\n     <use x=\"1032.222656\" xlink:href=\"#DejaVuSans-101\"/>\n     <use x=\"1093.746094\" xlink:href=\"#DejaVuSans-32\"/>\n     <use x=\"1125.533203\" xlink:href=\"#DejaVuSans-102\"/>\n     <use x=\"1160.738281\" xlink:href=\"#DejaVuSans-111\"/>\n     <use x=\"1221.919922\" xlink:href=\"#DejaVuSans-114\"/>\n     <use x=\"1263.033203\" xlink:href=\"#DejaVuSans-32\"/>\n     <use x=\"1294.820312\" xlink:href=\"#DejaVuSans-116\"/>\n     <use x=\"1334.029297\" xlink:href=\"#DejaVuSans-104\"/>\n     <use x=\"1397.408203\" xlink:href=\"#DejaVuSans-101\"/>\n     <use x=\"1458.931641\" xlink:href=\"#DejaVuSans-32\"/>\n     <use x=\"1490.71875\" xlink:href=\"#DejaVuSans-114\"/>\n     <use x=\"1531.832031\" xlink:href=\"#DejaVuSans-97\"/>\n     <use x=\"1593.111328\" xlink:href=\"#DejaVuSans-110\"/>\n     <use x=\"1656.490234\" xlink:href=\"#DejaVuSans-100\"/>\n     <use x=\"1719.966797\" xlink:href=\"#DejaVuSans-111\"/>\n     <use x=\"1781.148438\" xlink:href=\"#DejaVuSans-109\"/>\n     <use x=\"1878.560547\" xlink:href=\"#DejaVuSans-32\"/>\n     <use x=\"1910.347656\" xlink:href=\"#DejaVuSans-82\"/>\n     <use x=\"1975.330078\" xlink:href=\"#DejaVuSans-101\"/>\n     <use x=\"2036.853516\" xlink:href=\"#DejaVuSans-100\"/>\n     <use x=\"2100.330078\" xlink:href=\"#DejaVuSans-100\"/>\n     <use x=\"2163.806641\" xlink:href=\"#DejaVuSans-105\"/>\n     <use x=\"2191.589844\" xlink:href=\"#DejaVuSans-116\"/>\n     <use x=\"2230.798828\" xlink:href=\"#DejaVuSans-32\"/>\n     <use x=\"2262.585938\" xlink:href=\"#DejaVuSans-110\"/>\n     <use x=\"2325.964844\" xlink:href=\"#DejaVuSans-101\"/>\n     <use x=\"2387.488281\" xlink:href=\"#DejaVuSans-116\"/>\n     <use x=\"2426.697266\" xlink:href=\"#DejaVuSans-119\"/>\n     <use x=\"2508.484375\" xlink:href=\"#DejaVuSans-111\"/>\n     <use x=\"2569.666016\" xlink:href=\"#DejaVuSans-114\"/>\n     <use x=\"2610.779297\" xlink:href=\"#DejaVuSans-107\"/>\n    </g>\n   </g>\n  </g>\n </g>\n <defs>\n  <clipPath id=\"p6c40ada56b\">\n   <rect height=\"271.8\" width=\"837\" x=\"50.14375\" y=\"22.318125\"/>\n  </clipPath>\n </defs>\n</svg>\n",
      "image/png": "[encoded data removed]"
     },
     "metadata": {
      "needs_background": "light"
     }
    }
   ],
   "source": [
    "import matplotlib.pylab as plt\n",
    "\n",
    "fig, ax = plt.subplots(figsize=(15,5))\n",
    "width = bins[1]-bins[0]\n",
    "ax.bar(x, hist, width=width*0.9)\n",
    "ax.grid()\n",
    "ax.set_title('Distribution of degree for the random Reddit network')\n",
    "ax.set_xlabel('Node degree')\n",
    "ax.set_ylabel('Probability density')\n",
    "plt.show()"
   ]
  },
  {
   "source": [
    "> * Compute the distribution of degree for the Redditors undirected network using the numpy function ``np.histogram``. Bin your histogram using 10 logarithmically spaced bins. Remember to pass the parameter ``density=True``."
   ],
   "cell_type": "markdown",
   "metadata": {}
  },
  {
   "cell_type": "code",
   "execution_count": 44,
   "metadata": {},
   "outputs": [],
   "source": [
    "import numpy as np\n",
    "\n",
    "degrees = list(rnd_G.degree())\n",
    "degrees = [(x,y) for x,y in degrees if y > 0]\n",
    "xx = [x for x,y in degrees]\n",
    "yy = [y for x,y in degrees]\n",
    "bins = np.logspace(0, np.log10(10), 10)\n",
    "hist, hist_edges = np.histogram(yy, bins=bins, density=True)\n",
    "x = (hist_edges[1:]+hist_edges[:-1])/2"
   ]
  },
  {
   "cell_type": "code",
   "execution_count": 45,
   "metadata": {},
   "outputs": [
    {
     "output_type": "display_data",
     "data": {
      "text/plain": "<Figure size 1080x360 with 1 Axes>",
      "image/svg+xml": "<?xml version=\"1.0\" encoding=\"utf-8\" standalone=\"no\"?>\n<!DOCTYPE svg PUBLIC \"-//W3C//DTD SVG 1.1//EN\"\n  \"http://www.w3.org/Graphics/SVG/1.1/DTD/svg11.dtd\">\n<!-- Created with matplotlib (https://matplotlib.org/) -->\n<svg height=\"331.674375pt\" version=\"1.1\" viewBox=\"0 0 902.959305 331.674375\" width=\"902.959305pt\" xmlns=\"http://www.w3.org/2000/svg\" xmlns:xlink=\"http://www.w3.org/1999/xlink\">\n <metadata>\n  <rdf:RDF xmlns:cc=\"http://creativecommons.org/ns#\" xmlns:dc=\"http://purl.org/dc/elements/1.1/\" xmlns:rdf=\"http://www.w3.org/1999/02/22-rdf-syntax-ns#\">\n   <cc:Work>\n    <dc:type rdf:resource=\"http://purl.org/dc/dcmitype/StillImage\"/>\n    <dc:date>2021-03-26T17:25:35.682805</dc:date>\n    <dc:format>image/svg+xml</dc:format>\n    <dc:creator>\n     <cc:Agent>\n      <dc:title>Matplotlib v3.3.4, https://matplotlib.org/</dc:title>\n     </cc:Agent>\n    </dc:creator>\n   </cc:Work>\n  </rdf:RDF>\n </metadata>\n <defs>\n  <style type=\"text/css\">*{stroke-linecap:butt;stroke-linejoin:round;}</style>\n </defs>\n <g id=\"figure_1\">\n  <g id=\"patch_1\">\n   <path d=\"M -0 331.674375 \nL 902.959305 331.674375 \nL 902.959305 0 \nL -0 0 \nz\n\" style=\"fill:none;\"/>\n  </g>\n  <g id=\"axes_1\">\n   <g id=\"patch_2\">\n    <path d=\"M 51.378125 294.118125 \nL 888.378125 294.118125 \nL 888.378125 22.318125 \nL 51.378125 22.318125 \nz\n\" style=\"fill:#ffffff;\"/>\n   </g>\n   <g id=\"patch_3\">\n    <path clip-path=\"url(#pb52e073925)\" d=\"M 89.42358 91269.041527 \nL 169.598297 91269.041527 \nL 169.598297 34.67267 \nL 89.42358 34.67267 \nz\n\" style=\"fill:#1f77b4;\"/>\n   </g>\n   <g id=\"patch_4\">\n    <path clip-path=\"url(#pb52e073925)\" d=\"M 188.627998 91269.041527 \nL 250.594808 91269.041527 \nL 250.594808 91269.041527 \nL 188.627998 91269.041527 \nz\n\" style=\"fill:#1f77b4;\"/>\n   </g>\n   <g id=\"patch_5\">\n    <path clip-path=\"url(#pb52e073925)\" d=\"M 285.375061 91269.041527 \nL 333.303115 91269.041527 \nL 333.303115 48.71362 \nL 285.375061 48.71362 \nz\n\" style=\"fill:#1f77b4;\"/>\n   </g>\n   <g id=\"patch_6\">\n    <path clip-path=\"url(#pb52e073925)\" d=\"M 380.302036 91269.041527 \nL 417.387574 91269.041527 \nL 417.387574 91269.041527 \nL 380.302036 91269.041527 \nz\n\" style=\"fill:#1f77b4;\"/>\n   </g>\n   <g id=\"patch_7\">\n    <path clip-path=\"url(#pb52e073925)\" d=\"M 473.866424 91269.041527 \nL 502.569561 91269.041527 \nL 502.569561 80.153255 \nL 473.866424 80.153255 \nz\n\" style=\"fill:#1f77b4;\"/>\n   </g>\n   <g id=\"patch_8\">\n    <path clip-path=\"url(#pb52e073925)\" d=\"M 566.40254 91269.041527 \nL 588.621307 91269.041527 \nL 588.621307 107.50837 \nL 566.40254 107.50837 \nz\n\" style=\"fill:#1f77b4;\"/>\n   </g>\n   <g id=\"patch_9\">\n    <path clip-path=\"url(#pb52e073925)\" d=\"M 658.157984 91269.041527 \nL 675.358836 91269.041527 \nL 675.358836 150.690607 \nL 658.157984 150.690607 \nz\n\" style=\"fill:#1f77b4;\"/>\n   </g>\n   <g id=\"patch_10\">\n    <path clip-path=\"url(#pb52e073925)\" d=\"M 749.318023 91269.041527 \nL 762.634935 91269.041527 \nL 762.634935 182.716517 \nL 749.318023 182.716517 \nz\n\" style=\"fill:#1f77b4;\"/>\n   </g>\n   <g id=\"patch_11\">\n    <path clip-path=\"url(#pb52e073925)\" d=\"M 840.022371 91269.041527 \nL 850.33267 91269.041527 \nL 850.33267 281.76358 \nL 840.022371 281.76358 \nz\n\" style=\"fill:#1f77b4;\"/>\n   </g>\n   <g id=\"matplotlib.axis_1\">\n    <g id=\"xtick_1\">\n     <g id=\"line2d_1\">\n      <path clip-path=\"url(#pb52e073925)\" d=\"M 84.379187 294.118125 \nL 84.379187 22.318125 \n\" style=\"fill:none;stroke:#b0b0b0;stroke-linecap:square;stroke-width:0.8;\"/>\n     </g>\n     <g id=\"line2d_2\">\n      <defs>\n       <path d=\"M 0 0 \nL 0 3.5 \n\" id=\"m602889df2e\" style=\"stroke:#000000;stroke-width:0.8;\"/>\n      </defs>\n      <g>\n       <use style=\"stroke:#000000;stroke-width:0.8;\" x=\"84.379187\" xlink:href=\"#m602889df2e\" y=\"294.118125\"/>\n      </g>\n     </g>\n     <g id=\"text_1\">\n      <!-- $\\mathdefault{10^{0}}$ -->\n      <g transform=\"translate(75.579187 308.716563)scale(0.1 -0.1)\">\n       <defs>\n        <path d=\"M 12.40625 8.296875 \nL 28.515625 8.296875 \nL 28.515625 63.921875 \nL 10.984375 60.40625 \nL 10.984375 69.390625 \nL 28.421875 72.90625 \nL 38.28125 72.90625 \nL 38.28125 8.296875 \nL 54.390625 8.296875 \nL 54.390625 0 \nL 12.40625 0 \nz\n\" id=\"DejaVuSans-49\"/>\n        <path d=\"M 31.78125 66.40625 \nQ 24.171875 66.40625 20.328125 58.90625 \nQ 16.5 51.421875 16.5 36.375 \nQ 16.5 21.390625 20.328125 13.890625 \nQ 24.171875 6.390625 31.78125 6.390625 \nQ 39.453125 6.390625 43.28125 13.890625 \nQ 47.125 21.390625 47.125 36.375 \nQ 47.125 51.421875 43.28125 58.90625 \nQ 39.453125 66.40625 31.78125 66.40625 \nz\nM 31.78125 74.21875 \nQ 44.046875 74.21875 50.515625 64.515625 \nQ 56.984375 54.828125 56.984375 36.375 \nQ 56.984375 17.96875 50.515625 8.265625 \nQ 44.046875 -1.421875 31.78125 -1.421875 \nQ 19.53125 -1.421875 13.0625 8.265625 \nQ 6.59375 17.96875 6.59375 36.375 \nQ 6.59375 54.828125 13.0625 64.515625 \nQ 19.53125 74.21875 31.78125 74.21875 \nz\n\" id=\"DejaVuSans-48\"/>\n       </defs>\n       <use transform=\"translate(0 0.765625)\" xlink:href=\"#DejaVuSans-49\"/>\n       <use transform=\"translate(63.623047 0.765625)\" xlink:href=\"#DejaVuSans-48\"/>\n       <use transform=\"translate(128.203125 39.046875)scale(0.7)\" xlink:href=\"#DejaVuSans-48\"/>\n      </g>\n     </g>\n    </g>\n    <g id=\"xtick_2\">\n     <g id=\"line2d_3\">\n      <path clip-path=\"url(#pb52e073925)\" d=\"M 886.959305 294.118125 \nL 886.959305 22.318125 \n\" style=\"fill:none;stroke:#b0b0b0;stroke-linecap:square;stroke-width:0.8;\"/>\n     </g>\n     <g id=\"line2d_4\">\n      <g>\n       <use style=\"stroke:#000000;stroke-width:0.8;\" x=\"886.959305\" xlink:href=\"#m602889df2e\" y=\"294.118125\"/>\n      </g>\n     </g>\n     <g id=\"text_2\">\n      <!-- $\\mathdefault{10^{1}}$ -->\n      <g transform=\"translate(878.159305 308.716563)scale(0.1 -0.1)\">\n       <use transform=\"translate(0 0.684375)\" xlink:href=\"#DejaVuSans-49\"/>\n       <use transform=\"translate(63.623047 0.684375)\" xlink:href=\"#DejaVuSans-48\"/>\n       <use transform=\"translate(128.203125 38.965625)scale(0.7)\" xlink:href=\"#DejaVuSans-49\"/>\n      </g>\n     </g>\n    </g>\n    <g id=\"xtick_3\">\n     <g id=\"line2d_5\">\n      <defs>\n       <path d=\"M 0 0 \nL 0 2 \n\" id=\"me3ef5bf947\" style=\"stroke:#000000;stroke-width:0.6;\"/>\n      </defs>\n      <g>\n       <use style=\"stroke:#000000;stroke-width:0.6;\" x=\"325.979876\" xlink:href=\"#me3ef5bf947\" y=\"294.118125\"/>\n      </g>\n     </g>\n    </g>\n    <g id=\"xtick_4\">\n     <g id=\"line2d_6\">\n      <g>\n       <use style=\"stroke:#000000;stroke-width:0.6;\" x=\"467.30722\" xlink:href=\"#me3ef5bf947\" y=\"294.118125\"/>\n      </g>\n     </g>\n    </g>\n    <g id=\"xtick_5\">\n     <g id=\"line2d_7\">\n      <g>\n       <use style=\"stroke:#000000;stroke-width:0.6;\" x=\"567.580566\" xlink:href=\"#me3ef5bf947\" y=\"294.118125\"/>\n      </g>\n     </g>\n    </g>\n    <g id=\"xtick_6\">\n     <g id=\"line2d_8\">\n      <g>\n       <use style=\"stroke:#000000;stroke-width:0.6;\" x=\"645.358615\" xlink:href=\"#me3ef5bf947\" y=\"294.118125\"/>\n      </g>\n     </g>\n    </g>\n    <g id=\"xtick_7\">\n     <g id=\"line2d_9\">\n      <g>\n       <use style=\"stroke:#000000;stroke-width:0.6;\" x=\"708.907909\" xlink:href=\"#me3ef5bf947\" y=\"294.118125\"/>\n      </g>\n     </g>\n    </g>\n    <g id=\"xtick_8\">\n     <g id=\"line2d_10\">\n      <g>\n       <use style=\"stroke:#000000;stroke-width:0.6;\" x=\"762.638071\" xlink:href=\"#me3ef5bf947\" y=\"294.118125\"/>\n      </g>\n     </g>\n    </g>\n    <g id=\"xtick_9\">\n     <g id=\"line2d_11\">\n      <g>\n       <use style=\"stroke:#000000;stroke-width:0.6;\" x=\"809.181255\" xlink:href=\"#me3ef5bf947\" y=\"294.118125\"/>\n      </g>\n     </g>\n    </g>\n    <g id=\"xtick_10\">\n     <g id=\"line2d_12\">\n      <g>\n       <use style=\"stroke:#000000;stroke-width:0.6;\" x=\"850.235252\" xlink:href=\"#me3ef5bf947\" y=\"294.118125\"/>\n      </g>\n     </g>\n    </g>\n    <g id=\"text_3\">\n     <!-- Node degree -->\n     <g transform=\"translate(437.717188 322.394687)scale(0.1 -0.1)\">\n      <defs>\n       <path d=\"M 9.8125 72.90625 \nL 23.09375 72.90625 \nL 55.421875 11.921875 \nL 55.421875 72.90625 \nL 64.984375 72.90625 \nL 64.984375 0 \nL 51.703125 0 \nL 19.390625 60.984375 \nL 19.390625 0 \nL 9.8125 0 \nz\n\" id=\"DejaVuSans-78\"/>\n       <path d=\"M 30.609375 48.390625 \nQ 23.390625 48.390625 19.1875 42.75 \nQ 14.984375 37.109375 14.984375 27.296875 \nQ 14.984375 17.484375 19.15625 11.84375 \nQ 23.34375 6.203125 30.609375 6.203125 \nQ 37.796875 6.203125 41.984375 11.859375 \nQ 46.1875 17.53125 46.1875 27.296875 \nQ 46.1875 37.015625 41.984375 42.703125 \nQ 37.796875 48.390625 30.609375 48.390625 \nz\nM 30.609375 56 \nQ 42.328125 56 49.015625 48.375 \nQ 55.71875 40.765625 55.71875 27.296875 \nQ 55.71875 13.875 49.015625 6.21875 \nQ 42.328125 -1.421875 30.609375 -1.421875 \nQ 18.84375 -1.421875 12.171875 6.21875 \nQ 5.515625 13.875 5.515625 27.296875 \nQ 5.515625 40.765625 12.171875 48.375 \nQ 18.84375 56 30.609375 56 \nz\n\" id=\"DejaVuSans-111\"/>\n       <path d=\"M 45.40625 46.390625 \nL 45.40625 75.984375 \nL 54.390625 75.984375 \nL 54.390625 0 \nL 45.40625 0 \nL 45.40625 8.203125 \nQ 42.578125 3.328125 38.25 0.953125 \nQ 33.9375 -1.421875 27.875 -1.421875 \nQ 17.96875 -1.421875 11.734375 6.484375 \nQ 5.515625 14.40625 5.515625 27.296875 \nQ 5.515625 40.1875 11.734375 48.09375 \nQ 17.96875 56 27.875 56 \nQ 33.9375 56 38.25 53.625 \nQ 42.578125 51.265625 45.40625 46.390625 \nz\nM 14.796875 27.296875 \nQ 14.796875 17.390625 18.875 11.75 \nQ 22.953125 6.109375 30.078125 6.109375 \nQ 37.203125 6.109375 41.296875 11.75 \nQ 45.40625 17.390625 45.40625 27.296875 \nQ 45.40625 37.203125 41.296875 42.84375 \nQ 37.203125 48.484375 30.078125 48.484375 \nQ 22.953125 48.484375 18.875 42.84375 \nQ 14.796875 37.203125 14.796875 27.296875 \nz\n\" id=\"DejaVuSans-100\"/>\n       <path d=\"M 56.203125 29.59375 \nL 56.203125 25.203125 \nL 14.890625 25.203125 \nQ 15.484375 15.921875 20.484375 11.0625 \nQ 25.484375 6.203125 34.421875 6.203125 \nQ 39.59375 6.203125 44.453125 7.46875 \nQ 49.3125 8.734375 54.109375 11.28125 \nL 54.109375 2.78125 \nQ 49.265625 0.734375 44.1875 -0.34375 \nQ 39.109375 -1.421875 33.890625 -1.421875 \nQ 20.796875 -1.421875 13.15625 6.1875 \nQ 5.515625 13.8125 5.515625 26.8125 \nQ 5.515625 40.234375 12.765625 48.109375 \nQ 20.015625 56 32.328125 56 \nQ 43.359375 56 49.78125 48.890625 \nQ 56.203125 41.796875 56.203125 29.59375 \nz\nM 47.21875 32.234375 \nQ 47.125 39.59375 43.09375 43.984375 \nQ 39.0625 48.390625 32.421875 48.390625 \nQ 24.90625 48.390625 20.390625 44.140625 \nQ 15.875 39.890625 15.1875 32.171875 \nz\n\" id=\"DejaVuSans-101\"/>\n       <path id=\"DejaVuSans-32\"/>\n       <path d=\"M 45.40625 27.984375 \nQ 45.40625 37.75 41.375 43.109375 \nQ 37.359375 48.484375 30.078125 48.484375 \nQ 22.859375 48.484375 18.828125 43.109375 \nQ 14.796875 37.75 14.796875 27.984375 \nQ 14.796875 18.265625 18.828125 12.890625 \nQ 22.859375 7.515625 30.078125 7.515625 \nQ 37.359375 7.515625 41.375 12.890625 \nQ 45.40625 18.265625 45.40625 27.984375 \nz\nM 54.390625 6.78125 \nQ 54.390625 -7.171875 48.1875 -13.984375 \nQ 42 -20.796875 29.203125 -20.796875 \nQ 24.46875 -20.796875 20.265625 -20.09375 \nQ 16.0625 -19.390625 12.109375 -17.921875 \nL 12.109375 -9.1875 \nQ 16.0625 -11.328125 19.921875 -12.34375 \nQ 23.78125 -13.375 27.78125 -13.375 \nQ 36.625 -13.375 41.015625 -8.765625 \nQ 45.40625 -4.15625 45.40625 5.171875 \nL 45.40625 9.625 \nQ 42.625 4.78125 38.28125 2.390625 \nQ 33.9375 0 27.875 0 \nQ 17.828125 0 11.671875 7.65625 \nQ 5.515625 15.328125 5.515625 27.984375 \nQ 5.515625 40.671875 11.671875 48.328125 \nQ 17.828125 56 27.875 56 \nQ 33.9375 56 38.28125 53.609375 \nQ 42.625 51.21875 45.40625 46.390625 \nL 45.40625 54.6875 \nL 54.390625 54.6875 \nz\n\" id=\"DejaVuSans-103\"/>\n       <path d=\"M 41.109375 46.296875 \nQ 39.59375 47.171875 37.8125 47.578125 \nQ 36.03125 48 33.890625 48 \nQ 26.265625 48 22.1875 43.046875 \nQ 18.109375 38.09375 18.109375 28.8125 \nL 18.109375 0 \nL 9.078125 0 \nL 9.078125 54.6875 \nL 18.109375 54.6875 \nL 18.109375 46.1875 \nQ 20.953125 51.171875 25.484375 53.578125 \nQ 30.03125 56 36.53125 56 \nQ 37.453125 56 38.578125 55.875 \nQ 39.703125 55.765625 41.0625 55.515625 \nz\n\" id=\"DejaVuSans-114\"/>\n      </defs>\n      <use xlink:href=\"#DejaVuSans-78\"/>\n      <use x=\"74.804688\" xlink:href=\"#DejaVuSans-111\"/>\n      <use x=\"135.986328\" xlink:href=\"#DejaVuSans-100\"/>\n      <use x=\"199.462891\" xlink:href=\"#DejaVuSans-101\"/>\n      <use x=\"260.986328\" xlink:href=\"#DejaVuSans-32\"/>\n      <use x=\"292.773438\" xlink:href=\"#DejaVuSans-100\"/>\n      <use x=\"356.25\" xlink:href=\"#DejaVuSans-101\"/>\n      <use x=\"417.773438\" xlink:href=\"#DejaVuSans-103\"/>\n      <use x=\"481.25\" xlink:href=\"#DejaVuSans-114\"/>\n      <use x=\"520.113281\" xlink:href=\"#DejaVuSans-101\"/>\n      <use x=\"581.636719\" xlink:href=\"#DejaVuSans-101\"/>\n     </g>\n    </g>\n   </g>\n   <g id=\"matplotlib.axis_2\">\n    <g id=\"ytick_1\">\n     <g id=\"line2d_13\">\n      <path clip-path=\"url(#pb52e073925)\" d=\"M 51.378125 210.748371 \nL 888.378125 210.748371 \n\" style=\"fill:none;stroke:#b0b0b0;stroke-linecap:square;stroke-width:0.8;\"/>\n     </g>\n     <g id=\"line2d_14\">\n      <defs>\n       <path d=\"M 0 0 \nL -3.5 0 \n\" id=\"mcc0337c765\" style=\"stroke:#000000;stroke-width:0.8;\"/>\n      </defs>\n      <g>\n       <use style=\"stroke:#000000;stroke-width:0.8;\" x=\"51.378125\" xlink:href=\"#mcc0337c765\" y=\"210.748371\"/>\n      </g>\n     </g>\n     <g id=\"text_4\">\n      <!-- $\\mathdefault{10^{-2}}$ -->\n      <g transform=\"translate(20.878125 214.54759)scale(0.1 -0.1)\">\n       <defs>\n        <path d=\"M 10.59375 35.5 \nL 73.1875 35.5 \nL 73.1875 27.203125 \nL 10.59375 27.203125 \nz\n\" id=\"DejaVuSans-8722\"/>\n        <path d=\"M 19.1875 8.296875 \nL 53.609375 8.296875 \nL 53.609375 0 \nL 7.328125 0 \nL 7.328125 8.296875 \nQ 12.9375 14.109375 22.625 23.890625 \nQ 32.328125 33.6875 34.8125 36.53125 \nQ 39.546875 41.84375 41.421875 45.53125 \nQ 43.3125 49.21875 43.3125 52.78125 \nQ 43.3125 58.59375 39.234375 62.25 \nQ 35.15625 65.921875 28.609375 65.921875 \nQ 23.96875 65.921875 18.8125 64.3125 \nQ 13.671875 62.703125 7.8125 59.421875 \nL 7.8125 69.390625 \nQ 13.765625 71.78125 18.9375 73 \nQ 24.125 74.21875 28.421875 74.21875 \nQ 39.75 74.21875 46.484375 68.546875 \nQ 53.21875 62.890625 53.21875 53.421875 \nQ 53.21875 48.921875 51.53125 44.890625 \nQ 49.859375 40.875 45.40625 35.40625 \nQ 44.1875 33.984375 37.640625 27.21875 \nQ 31.109375 20.453125 19.1875 8.296875 \nz\n\" id=\"DejaVuSans-50\"/>\n       </defs>\n       <use transform=\"translate(0 0.765625)\" xlink:href=\"#DejaVuSans-49\"/>\n       <use transform=\"translate(63.623047 0.765625)\" xlink:href=\"#DejaVuSans-48\"/>\n       <use transform=\"translate(128.203125 39.046875)scale(0.7)\" xlink:href=\"#DejaVuSans-8722\"/>\n       <use transform=\"translate(186.855469 39.046875)scale(0.7)\" xlink:href=\"#DejaVuSans-50\"/>\n      </g>\n     </g>\n    </g>\n    <g id=\"ytick_2\">\n     <g id=\"line2d_15\">\n      <path clip-path=\"url(#pb52e073925)\" d=\"M 51.378125 119.507596 \nL 888.378125 119.507596 \n\" style=\"fill:none;stroke:#b0b0b0;stroke-linecap:square;stroke-width:0.8;\"/>\n     </g>\n     <g id=\"line2d_16\">\n      <g>\n       <use style=\"stroke:#000000;stroke-width:0.8;\" x=\"51.378125\" xlink:href=\"#mcc0337c765\" y=\"119.507596\"/>\n      </g>\n     </g>\n     <g id=\"text_5\">\n      <!-- $\\mathdefault{10^{-1}}$ -->\n      <g transform=\"translate(20.878125 123.306815)scale(0.1 -0.1)\">\n       <use transform=\"translate(0 0.684375)\" xlink:href=\"#DejaVuSans-49\"/>\n       <use transform=\"translate(63.623047 0.684375)\" xlink:href=\"#DejaVuSans-48\"/>\n       <use transform=\"translate(128.203125 38.965625)scale(0.7)\" xlink:href=\"#DejaVuSans-8722\"/>\n       <use transform=\"translate(186.855469 38.965625)scale(0.7)\" xlink:href=\"#DejaVuSans-49\"/>\n      </g>\n     </g>\n    </g>\n    <g id=\"ytick_3\">\n     <g id=\"line2d_17\">\n      <path clip-path=\"url(#pb52e073925)\" d=\"M 51.378125 28.266821 \nL 888.378125 28.266821 \n\" style=\"fill:none;stroke:#b0b0b0;stroke-linecap:square;stroke-width:0.8;\"/>\n     </g>\n     <g id=\"line2d_18\">\n      <g>\n       <use style=\"stroke:#000000;stroke-width:0.8;\" x=\"51.378125\" xlink:href=\"#mcc0337c765\" y=\"28.266821\"/>\n      </g>\n     </g>\n     <g id=\"text_6\">\n      <!-- $\\mathdefault{10^{0}}$ -->\n      <g transform=\"translate(26.778125 32.06604)scale(0.1 -0.1)\">\n       <use transform=\"translate(0 0.765625)\" xlink:href=\"#DejaVuSans-49\"/>\n       <use transform=\"translate(63.623047 0.765625)\" xlink:href=\"#DejaVuSans-48\"/>\n       <use transform=\"translate(128.203125 39.046875)scale(0.7)\" xlink:href=\"#DejaVuSans-48\"/>\n      </g>\n     </g>\n    </g>\n    <g id=\"ytick_4\">\n     <g id=\"line2d_19\">\n      <defs>\n       <path d=\"M 0 0 \nL -2 0 \n\" id=\"m1890eac8bb\" style=\"stroke:#000000;stroke-width:0.6;\"/>\n      </defs>\n      <g>\n       <use style=\"stroke:#000000;stroke-width:0.6;\" x=\"51.378125\" xlink:href=\"#m1890eac8bb\" y=\"274.522936\"/>\n      </g>\n     </g>\n    </g>\n    <g id=\"ytick_5\">\n     <g id=\"line2d_20\">\n      <g>\n       <use style=\"stroke:#000000;stroke-width:0.6;\" x=\"51.378125\" xlink:href=\"#m1890eac8bb\" y=\"258.456233\"/>\n      </g>\n     </g>\n    </g>\n    <g id=\"ytick_6\">\n     <g id=\"line2d_21\">\n      <g>\n       <use style=\"stroke:#000000;stroke-width:0.6;\" x=\"51.378125\" xlink:href=\"#m1890eac8bb\" y=\"247.056726\"/>\n      </g>\n     </g>\n    </g>\n    <g id=\"ytick_7\">\n     <g id=\"line2d_22\">\n      <g>\n       <use style=\"stroke:#000000;stroke-width:0.6;\" x=\"51.378125\" xlink:href=\"#m1890eac8bb\" y=\"238.214581\"/>\n      </g>\n     </g>\n    </g>\n    <g id=\"ytick_8\">\n     <g id=\"line2d_23\">\n      <g>\n       <use style=\"stroke:#000000;stroke-width:0.6;\" x=\"51.378125\" xlink:href=\"#m1890eac8bb\" y=\"230.990023\"/>\n      </g>\n     </g>\n    </g>\n    <g id=\"ytick_9\">\n     <g id=\"line2d_24\">\n      <g>\n       <use style=\"stroke:#000000;stroke-width:0.6;\" x=\"51.378125\" xlink:href=\"#m1890eac8bb\" y=\"224.881746\"/>\n      </g>\n     </g>\n    </g>\n    <g id=\"ytick_10\">\n     <g id=\"line2d_25\">\n      <g>\n       <use style=\"stroke:#000000;stroke-width:0.6;\" x=\"51.378125\" xlink:href=\"#m1890eac8bb\" y=\"219.590516\"/>\n      </g>\n     </g>\n    </g>\n    <g id=\"ytick_11\">\n     <g id=\"line2d_26\">\n      <g>\n       <use style=\"stroke:#000000;stroke-width:0.6;\" x=\"51.378125\" xlink:href=\"#m1890eac8bb\" y=\"214.92332\"/>\n      </g>\n     </g>\n    </g>\n    <g id=\"ytick_12\">\n     <g id=\"line2d_27\">\n      <g>\n       <use style=\"stroke:#000000;stroke-width:0.6;\" x=\"51.378125\" xlink:href=\"#m1890eac8bb\" y=\"183.282161\"/>\n      </g>\n     </g>\n    </g>\n    <g id=\"ytick_13\">\n     <g id=\"line2d_28\">\n      <g>\n       <use style=\"stroke:#000000;stroke-width:0.6;\" x=\"51.378125\" xlink:href=\"#m1890eac8bb\" y=\"167.215458\"/>\n      </g>\n     </g>\n    </g>\n    <g id=\"ytick_14\">\n     <g id=\"line2d_29\">\n      <g>\n       <use style=\"stroke:#000000;stroke-width:0.6;\" x=\"51.378125\" xlink:href=\"#m1890eac8bb\" y=\"155.815951\"/>\n      </g>\n     </g>\n    </g>\n    <g id=\"ytick_15\">\n     <g id=\"line2d_30\">\n      <g>\n       <use style=\"stroke:#000000;stroke-width:0.6;\" x=\"51.378125\" xlink:href=\"#m1890eac8bb\" y=\"146.973806\"/>\n      </g>\n     </g>\n    </g>\n    <g id=\"ytick_16\">\n     <g id=\"line2d_31\">\n      <g>\n       <use style=\"stroke:#000000;stroke-width:0.6;\" x=\"51.378125\" xlink:href=\"#m1890eac8bb\" y=\"139.749248\"/>\n      </g>\n     </g>\n    </g>\n    <g id=\"ytick_17\">\n     <g id=\"line2d_32\">\n      <g>\n       <use style=\"stroke:#000000;stroke-width:0.6;\" x=\"51.378125\" xlink:href=\"#m1890eac8bb\" y=\"133.640971\"/>\n      </g>\n     </g>\n    </g>\n    <g id=\"ytick_18\">\n     <g id=\"line2d_33\">\n      <g>\n       <use style=\"stroke:#000000;stroke-width:0.6;\" x=\"51.378125\" xlink:href=\"#m1890eac8bb\" y=\"128.349741\"/>\n      </g>\n     </g>\n    </g>\n    <g id=\"ytick_19\">\n     <g id=\"line2d_34\">\n      <g>\n       <use style=\"stroke:#000000;stroke-width:0.6;\" x=\"51.378125\" xlink:href=\"#m1890eac8bb\" y=\"123.682545\"/>\n      </g>\n     </g>\n    </g>\n    <g id=\"ytick_20\">\n     <g id=\"line2d_35\">\n      <g>\n       <use style=\"stroke:#000000;stroke-width:0.6;\" x=\"51.378125\" xlink:href=\"#m1890eac8bb\" y=\"92.041386\"/>\n      </g>\n     </g>\n    </g>\n    <g id=\"ytick_21\">\n     <g id=\"line2d_36\">\n      <g>\n       <use style=\"stroke:#000000;stroke-width:0.6;\" x=\"51.378125\" xlink:href=\"#m1890eac8bb\" y=\"75.974683\"/>\n      </g>\n     </g>\n    </g>\n    <g id=\"ytick_22\">\n     <g id=\"line2d_37\">\n      <g>\n       <use style=\"stroke:#000000;stroke-width:0.6;\" x=\"51.378125\" xlink:href=\"#m1890eac8bb\" y=\"64.575176\"/>\n      </g>\n     </g>\n    </g>\n    <g id=\"ytick_23\">\n     <g id=\"line2d_38\">\n      <g>\n       <use style=\"stroke:#000000;stroke-width:0.6;\" x=\"51.378125\" xlink:href=\"#m1890eac8bb\" y=\"55.733031\"/>\n      </g>\n     </g>\n    </g>\n    <g id=\"ytick_24\">\n     <g id=\"line2d_39\">\n      <g>\n       <use style=\"stroke:#000000;stroke-width:0.6;\" x=\"51.378125\" xlink:href=\"#m1890eac8bb\" y=\"48.508473\"/>\n      </g>\n     </g>\n    </g>\n    <g id=\"ytick_25\">\n     <g id=\"line2d_40\">\n      <g>\n       <use style=\"stroke:#000000;stroke-width:0.6;\" x=\"51.378125\" xlink:href=\"#m1890eac8bb\" y=\"42.400196\"/>\n      </g>\n     </g>\n    </g>\n    <g id=\"ytick_26\">\n     <g id=\"line2d_41\">\n      <g>\n       <use style=\"stroke:#000000;stroke-width:0.6;\" x=\"51.378125\" xlink:href=\"#m1890eac8bb\" y=\"37.108966\"/>\n      </g>\n     </g>\n    </g>\n    <g id=\"ytick_27\">\n     <g id=\"line2d_42\">\n      <g>\n       <use style=\"stroke:#000000;stroke-width:0.6;\" x=\"51.378125\" xlink:href=\"#m1890eac8bb\" y=\"32.44177\"/>\n      </g>\n     </g>\n    </g>\n    <g id=\"text_7\">\n     <!-- Probability density -->\n     <g transform=\"translate(14.798438 204.568906)rotate(-90)scale(0.1 -0.1)\">\n      <defs>\n       <path d=\"M 19.671875 64.796875 \nL 19.671875 37.40625 \nL 32.078125 37.40625 \nQ 38.96875 37.40625 42.71875 40.96875 \nQ 46.484375 44.53125 46.484375 51.125 \nQ 46.484375 57.671875 42.71875 61.234375 \nQ 38.96875 64.796875 32.078125 64.796875 \nz\nM 9.8125 72.90625 \nL 32.078125 72.90625 \nQ 44.34375 72.90625 50.609375 67.359375 \nQ 56.890625 61.8125 56.890625 51.125 \nQ 56.890625 40.328125 50.609375 34.8125 \nQ 44.34375 29.296875 32.078125 29.296875 \nL 19.671875 29.296875 \nL 19.671875 0 \nL 9.8125 0 \nz\n\" id=\"DejaVuSans-80\"/>\n       <path d=\"M 48.6875 27.296875 \nQ 48.6875 37.203125 44.609375 42.84375 \nQ 40.53125 48.484375 33.40625 48.484375 \nQ 26.265625 48.484375 22.1875 42.84375 \nQ 18.109375 37.203125 18.109375 27.296875 \nQ 18.109375 17.390625 22.1875 11.75 \nQ 26.265625 6.109375 33.40625 6.109375 \nQ 40.53125 6.109375 44.609375 11.75 \nQ 48.6875 17.390625 48.6875 27.296875 \nz\nM 18.109375 46.390625 \nQ 20.953125 51.265625 25.265625 53.625 \nQ 29.59375 56 35.59375 56 \nQ 45.5625 56 51.78125 48.09375 \nQ 58.015625 40.1875 58.015625 27.296875 \nQ 58.015625 14.40625 51.78125 6.484375 \nQ 45.5625 -1.421875 35.59375 -1.421875 \nQ 29.59375 -1.421875 25.265625 0.953125 \nQ 20.953125 3.328125 18.109375 8.203125 \nL 18.109375 0 \nL 9.078125 0 \nL 9.078125 75.984375 \nL 18.109375 75.984375 \nz\n\" id=\"DejaVuSans-98\"/>\n       <path d=\"M 34.28125 27.484375 \nQ 23.390625 27.484375 19.1875 25 \nQ 14.984375 22.515625 14.984375 16.5 \nQ 14.984375 11.71875 18.140625 8.90625 \nQ 21.296875 6.109375 26.703125 6.109375 \nQ 34.1875 6.109375 38.703125 11.40625 \nQ 43.21875 16.703125 43.21875 25.484375 \nL 43.21875 27.484375 \nz\nM 52.203125 31.203125 \nL 52.203125 0 \nL 43.21875 0 \nL 43.21875 8.296875 \nQ 40.140625 3.328125 35.546875 0.953125 \nQ 30.953125 -1.421875 24.3125 -1.421875 \nQ 15.921875 -1.421875 10.953125 3.296875 \nQ 6 8.015625 6 15.921875 \nQ 6 25.140625 12.171875 29.828125 \nQ 18.359375 34.515625 30.609375 34.515625 \nL 43.21875 34.515625 \nL 43.21875 35.40625 \nQ 43.21875 41.609375 39.140625 45 \nQ 35.0625 48.390625 27.6875 48.390625 \nQ 23 48.390625 18.546875 47.265625 \nQ 14.109375 46.140625 10.015625 43.890625 \nL 10.015625 52.203125 \nQ 14.9375 54.109375 19.578125 55.046875 \nQ 24.21875 56 28.609375 56 \nQ 40.484375 56 46.34375 49.84375 \nQ 52.203125 43.703125 52.203125 31.203125 \nz\n\" id=\"DejaVuSans-97\"/>\n       <path d=\"M 9.421875 54.6875 \nL 18.40625 54.6875 \nL 18.40625 0 \nL 9.421875 0 \nz\nM 9.421875 75.984375 \nL 18.40625 75.984375 \nL 18.40625 64.59375 \nL 9.421875 64.59375 \nz\n\" id=\"DejaVuSans-105\"/>\n       <path d=\"M 9.421875 75.984375 \nL 18.40625 75.984375 \nL 18.40625 0 \nL 9.421875 0 \nz\n\" id=\"DejaVuSans-108\"/>\n       <path d=\"M 18.3125 70.21875 \nL 18.3125 54.6875 \nL 36.8125 54.6875 \nL 36.8125 47.703125 \nL 18.3125 47.703125 \nL 18.3125 18.015625 \nQ 18.3125 11.328125 20.140625 9.421875 \nQ 21.96875 7.515625 27.59375 7.515625 \nL 36.8125 7.515625 \nL 36.8125 0 \nL 27.59375 0 \nQ 17.1875 0 13.234375 3.875 \nQ 9.28125 7.765625 9.28125 18.015625 \nL 9.28125 47.703125 \nL 2.6875 47.703125 \nL 2.6875 54.6875 \nL 9.28125 54.6875 \nL 9.28125 70.21875 \nz\n\" id=\"DejaVuSans-116\"/>\n       <path d=\"M 32.171875 -5.078125 \nQ 28.375 -14.84375 24.75 -17.8125 \nQ 21.140625 -20.796875 15.09375 -20.796875 \nL 7.90625 -20.796875 \nL 7.90625 -13.28125 \nL 13.1875 -13.28125 \nQ 16.890625 -13.28125 18.9375 -11.515625 \nQ 21 -9.765625 23.484375 -3.21875 \nL 25.09375 0.875 \nL 2.984375 54.6875 \nL 12.5 54.6875 \nL 29.59375 11.921875 \nL 46.6875 54.6875 \nL 56.203125 54.6875 \nz\n\" id=\"DejaVuSans-121\"/>\n       <path d=\"M 54.890625 33.015625 \nL 54.890625 0 \nL 45.90625 0 \nL 45.90625 32.71875 \nQ 45.90625 40.484375 42.875 44.328125 \nQ 39.84375 48.1875 33.796875 48.1875 \nQ 26.515625 48.1875 22.3125 43.546875 \nQ 18.109375 38.921875 18.109375 30.90625 \nL 18.109375 0 \nL 9.078125 0 \nL 9.078125 54.6875 \nL 18.109375 54.6875 \nL 18.109375 46.1875 \nQ 21.34375 51.125 25.703125 53.5625 \nQ 30.078125 56 35.796875 56 \nQ 45.21875 56 50.046875 50.171875 \nQ 54.890625 44.34375 54.890625 33.015625 \nz\n\" id=\"DejaVuSans-110\"/>\n       <path d=\"M 44.28125 53.078125 \nL 44.28125 44.578125 \nQ 40.484375 46.53125 36.375 47.5 \nQ 32.28125 48.484375 27.875 48.484375 \nQ 21.1875 48.484375 17.84375 46.4375 \nQ 14.5 44.390625 14.5 40.28125 \nQ 14.5 37.15625 16.890625 35.375 \nQ 19.28125 33.59375 26.515625 31.984375 \nL 29.59375 31.296875 \nQ 39.15625 29.25 43.1875 25.515625 \nQ 47.21875 21.78125 47.21875 15.09375 \nQ 47.21875 7.46875 41.1875 3.015625 \nQ 35.15625 -1.421875 24.609375 -1.421875 \nQ 20.21875 -1.421875 15.453125 -0.5625 \nQ 10.6875 0.296875 5.421875 2 \nL 5.421875 11.28125 \nQ 10.40625 8.6875 15.234375 7.390625 \nQ 20.0625 6.109375 24.8125 6.109375 \nQ 31.15625 6.109375 34.5625 8.28125 \nQ 37.984375 10.453125 37.984375 14.40625 \nQ 37.984375 18.0625 35.515625 20.015625 \nQ 33.0625 21.96875 24.703125 23.78125 \nL 21.578125 24.515625 \nQ 13.234375 26.265625 9.515625 29.90625 \nQ 5.8125 33.546875 5.8125 39.890625 \nQ 5.8125 47.609375 11.28125 51.796875 \nQ 16.75 56 26.8125 56 \nQ 31.78125 56 36.171875 55.265625 \nQ 40.578125 54.546875 44.28125 53.078125 \nz\n\" id=\"DejaVuSans-115\"/>\n      </defs>\n      <use xlink:href=\"#DejaVuSans-80\"/>\n      <use x=\"58.552734\" xlink:href=\"#DejaVuSans-114\"/>\n      <use x=\"97.416016\" xlink:href=\"#DejaVuSans-111\"/>\n      <use x=\"158.597656\" xlink:href=\"#DejaVuSans-98\"/>\n      <use x=\"222.074219\" xlink:href=\"#DejaVuSans-97\"/>\n      <use x=\"283.353516\" xlink:href=\"#DejaVuSans-98\"/>\n      <use x=\"346.830078\" xlink:href=\"#DejaVuSans-105\"/>\n      <use x=\"374.613281\" xlink:href=\"#DejaVuSans-108\"/>\n      <use x=\"402.396484\" xlink:href=\"#DejaVuSans-105\"/>\n      <use x=\"430.179688\" xlink:href=\"#DejaVuSans-116\"/>\n      <use x=\"469.388672\" xlink:href=\"#DejaVuSans-121\"/>\n      <use x=\"528.568359\" xlink:href=\"#DejaVuSans-32\"/>\n      <use x=\"560.355469\" xlink:href=\"#DejaVuSans-100\"/>\n      <use x=\"623.832031\" xlink:href=\"#DejaVuSans-101\"/>\n      <use x=\"685.355469\" xlink:href=\"#DejaVuSans-110\"/>\n      <use x=\"748.734375\" xlink:href=\"#DejaVuSans-115\"/>\n      <use x=\"800.833984\" xlink:href=\"#DejaVuSans-105\"/>\n      <use x=\"828.617188\" xlink:href=\"#DejaVuSans-116\"/>\n      <use x=\"867.826172\" xlink:href=\"#DejaVuSans-121\"/>\n     </g>\n    </g>\n   </g>\n   <g id=\"patch_12\">\n    <path d=\"M 51.378125 294.118125 \nL 51.378125 22.318125 \n\" style=\"fill:none;stroke:#000000;stroke-linecap:square;stroke-linejoin:miter;stroke-width:0.8;\"/>\n   </g>\n   <g id=\"patch_13\">\n    <path d=\"M 888.378125 294.118125 \nL 888.378125 22.318125 \n\" style=\"fill:none;stroke:#000000;stroke-linecap:square;stroke-linejoin:miter;stroke-width:0.8;\"/>\n   </g>\n   <g id=\"patch_14\">\n    <path d=\"M 51.378125 294.118125 \nL 888.378125 294.118125 \n\" style=\"fill:none;stroke:#000000;stroke-linecap:square;stroke-linejoin:miter;stroke-width:0.8;\"/>\n   </g>\n   <g id=\"patch_15\">\n    <path d=\"M 51.378125 22.318125 \nL 888.378125 22.318125 \n\" style=\"fill:none;stroke:#000000;stroke-linecap:square;stroke-linejoin:miter;stroke-width:0.8;\"/>\n   </g>\n   <g id=\"text_8\">\n    <!-- Distribution of degree for the random Reddit network -->\n    <g transform=\"translate(309.757812 16.318125)scale(0.12 -0.12)\">\n     <defs>\n      <path d=\"M 19.671875 64.796875 \nL 19.671875 8.109375 \nL 31.59375 8.109375 \nQ 46.6875 8.109375 53.6875 14.9375 \nQ 60.6875 21.78125 60.6875 36.53125 \nQ 60.6875 51.171875 53.6875 57.984375 \nQ 46.6875 64.796875 31.59375 64.796875 \nz\nM 9.8125 72.90625 \nL 30.078125 72.90625 \nQ 51.265625 72.90625 61.171875 64.09375 \nQ 71.09375 55.28125 71.09375 36.53125 \nQ 71.09375 17.671875 61.125 8.828125 \nQ 51.171875 0 30.078125 0 \nL 9.8125 0 \nz\n\" id=\"DejaVuSans-68\"/>\n      <path d=\"M 8.5 21.578125 \nL 8.5 54.6875 \nL 17.484375 54.6875 \nL 17.484375 21.921875 \nQ 17.484375 14.15625 20.5 10.265625 \nQ 23.53125 6.390625 29.59375 6.390625 \nQ 36.859375 6.390625 41.078125 11.03125 \nQ 45.3125 15.671875 45.3125 23.6875 \nL 45.3125 54.6875 \nL 54.296875 54.6875 \nL 54.296875 0 \nL 45.3125 0 \nL 45.3125 8.40625 \nQ 42.046875 3.421875 37.71875 1 \nQ 33.40625 -1.421875 27.6875 -1.421875 \nQ 18.265625 -1.421875 13.375 4.4375 \nQ 8.5 10.296875 8.5 21.578125 \nz\nM 31.109375 56 \nz\n\" id=\"DejaVuSans-117\"/>\n      <path d=\"M 37.109375 75.984375 \nL 37.109375 68.5 \nL 28.515625 68.5 \nQ 23.6875 68.5 21.796875 66.546875 \nQ 19.921875 64.59375 19.921875 59.515625 \nL 19.921875 54.6875 \nL 34.71875 54.6875 \nL 34.71875 47.703125 \nL 19.921875 47.703125 \nL 19.921875 0 \nL 10.890625 0 \nL 10.890625 47.703125 \nL 2.296875 47.703125 \nL 2.296875 54.6875 \nL 10.890625 54.6875 \nL 10.890625 58.5 \nQ 10.890625 67.625 15.140625 71.796875 \nQ 19.390625 75.984375 28.609375 75.984375 \nz\n\" id=\"DejaVuSans-102\"/>\n      <path d=\"M 54.890625 33.015625 \nL 54.890625 0 \nL 45.90625 0 \nL 45.90625 32.71875 \nQ 45.90625 40.484375 42.875 44.328125 \nQ 39.84375 48.1875 33.796875 48.1875 \nQ 26.515625 48.1875 22.3125 43.546875 \nQ 18.109375 38.921875 18.109375 30.90625 \nL 18.109375 0 \nL 9.078125 0 \nL 9.078125 75.984375 \nL 18.109375 75.984375 \nL 18.109375 46.1875 \nQ 21.34375 51.125 25.703125 53.5625 \nQ 30.078125 56 35.796875 56 \nQ 45.21875 56 50.046875 50.171875 \nQ 54.890625 44.34375 54.890625 33.015625 \nz\n\" id=\"DejaVuSans-104\"/>\n      <path d=\"M 52 44.1875 \nQ 55.375 50.25 60.0625 53.125 \nQ 64.75 56 71.09375 56 \nQ 79.640625 56 84.28125 50.015625 \nQ 88.921875 44.046875 88.921875 33.015625 \nL 88.921875 0 \nL 79.890625 0 \nL 79.890625 32.71875 \nQ 79.890625 40.578125 77.09375 44.375 \nQ 74.3125 48.1875 68.609375 48.1875 \nQ 61.625 48.1875 57.5625 43.546875 \nQ 53.515625 38.921875 53.515625 30.90625 \nL 53.515625 0 \nL 44.484375 0 \nL 44.484375 32.71875 \nQ 44.484375 40.625 41.703125 44.40625 \nQ 38.921875 48.1875 33.109375 48.1875 \nQ 26.21875 48.1875 22.15625 43.53125 \nQ 18.109375 38.875 18.109375 30.90625 \nL 18.109375 0 \nL 9.078125 0 \nL 9.078125 54.6875 \nL 18.109375 54.6875 \nL 18.109375 46.1875 \nQ 21.1875 51.21875 25.484375 53.609375 \nQ 29.78125 56 35.6875 56 \nQ 41.65625 56 45.828125 52.96875 \nQ 50 49.953125 52 44.1875 \nz\n\" id=\"DejaVuSans-109\"/>\n      <path d=\"M 44.390625 34.1875 \nQ 47.5625 33.109375 50.5625 29.59375 \nQ 53.5625 26.078125 56.59375 19.921875 \nL 66.609375 0 \nL 56 0 \nL 46.6875 18.703125 \nQ 43.0625 26.03125 39.671875 28.421875 \nQ 36.28125 30.8125 30.421875 30.8125 \nL 19.671875 30.8125 \nL 19.671875 0 \nL 9.8125 0 \nL 9.8125 72.90625 \nL 32.078125 72.90625 \nQ 44.578125 72.90625 50.734375 67.671875 \nQ 56.890625 62.453125 56.890625 51.90625 \nQ 56.890625 45.015625 53.6875 40.46875 \nQ 50.484375 35.9375 44.390625 34.1875 \nz\nM 19.671875 64.796875 \nL 19.671875 38.921875 \nL 32.078125 38.921875 \nQ 39.203125 38.921875 42.84375 42.21875 \nQ 46.484375 45.515625 46.484375 51.90625 \nQ 46.484375 58.296875 42.84375 61.546875 \nQ 39.203125 64.796875 32.078125 64.796875 \nz\n\" id=\"DejaVuSans-82\"/>\n      <path d=\"M 4.203125 54.6875 \nL 13.1875 54.6875 \nL 24.421875 12.015625 \nL 35.59375 54.6875 \nL 46.1875 54.6875 \nL 57.421875 12.015625 \nL 68.609375 54.6875 \nL 77.59375 54.6875 \nL 63.28125 0 \nL 52.6875 0 \nL 40.921875 44.828125 \nL 29.109375 0 \nL 18.5 0 \nz\n\" id=\"DejaVuSans-119\"/>\n      <path d=\"M 9.078125 75.984375 \nL 18.109375 75.984375 \nL 18.109375 31.109375 \nL 44.921875 54.6875 \nL 56.390625 54.6875 \nL 27.390625 29.109375 \nL 57.625 0 \nL 45.90625 0 \nL 18.109375 26.703125 \nL 18.109375 0 \nL 9.078125 0 \nz\n\" id=\"DejaVuSans-107\"/>\n     </defs>\n     <use xlink:href=\"#DejaVuSans-68\"/>\n     <use x=\"77.001953\" xlink:href=\"#DejaVuSans-105\"/>\n     <use x=\"104.785156\" xlink:href=\"#DejaVuSans-115\"/>\n     <use x=\"156.884766\" xlink:href=\"#DejaVuSans-116\"/>\n     <use x=\"196.09375\" xlink:href=\"#DejaVuSans-114\"/>\n     <use x=\"237.207031\" xlink:href=\"#DejaVuSans-105\"/>\n     <use x=\"264.990234\" xlink:href=\"#DejaVuSans-98\"/>\n     <use x=\"328.466797\" xlink:href=\"#DejaVuSans-117\"/>\n     <use x=\"391.845703\" xlink:href=\"#DejaVuSans-116\"/>\n     <use x=\"431.054688\" xlink:href=\"#DejaVuSans-105\"/>\n     <use x=\"458.837891\" xlink:href=\"#DejaVuSans-111\"/>\n     <use x=\"520.019531\" xlink:href=\"#DejaVuSans-110\"/>\n     <use x=\"583.398438\" xlink:href=\"#DejaVuSans-32\"/>\n     <use x=\"615.185547\" xlink:href=\"#DejaVuSans-111\"/>\n     <use x=\"676.367188\" xlink:href=\"#DejaVuSans-102\"/>\n     <use x=\"711.572266\" xlink:href=\"#DejaVuSans-32\"/>\n     <use x=\"743.359375\" xlink:href=\"#DejaVuSans-100\"/>\n     <use x=\"806.835938\" xlink:href=\"#DejaVuSans-101\"/>\n     <use x=\"868.359375\" xlink:href=\"#DejaVuSans-103\"/>\n     <use x=\"931.835938\" xlink:href=\"#DejaVuSans-114\"/>\n     <use x=\"970.699219\" xlink:href=\"#DejaVuSans-101\"/>\n     <use x=\"1032.222656\" xlink:href=\"#DejaVuSans-101\"/>\n     <use x=\"1093.746094\" xlink:href=\"#DejaVuSans-32\"/>\n     <use x=\"1125.533203\" xlink:href=\"#DejaVuSans-102\"/>\n     <use x=\"1160.738281\" xlink:href=\"#DejaVuSans-111\"/>\n     <use x=\"1221.919922\" xlink:href=\"#DejaVuSans-114\"/>\n     <use x=\"1263.033203\" xlink:href=\"#DejaVuSans-32\"/>\n     <use x=\"1294.820312\" xlink:href=\"#DejaVuSans-116\"/>\n     <use x=\"1334.029297\" xlink:href=\"#DejaVuSans-104\"/>\n     <use x=\"1397.408203\" xlink:href=\"#DejaVuSans-101\"/>\n     <use x=\"1458.931641\" xlink:href=\"#DejaVuSans-32\"/>\n     <use x=\"1490.71875\" xlink:href=\"#DejaVuSans-114\"/>\n     <use x=\"1531.832031\" xlink:href=\"#DejaVuSans-97\"/>\n     <use x=\"1593.111328\" xlink:href=\"#DejaVuSans-110\"/>\n     <use x=\"1656.490234\" xlink:href=\"#DejaVuSans-100\"/>\n     <use x=\"1719.966797\" xlink:href=\"#DejaVuSans-111\"/>\n     <use x=\"1781.148438\" xlink:href=\"#DejaVuSans-109\"/>\n     <use x=\"1878.560547\" xlink:href=\"#DejaVuSans-32\"/>\n     <use x=\"1910.347656\" xlink:href=\"#DejaVuSans-82\"/>\n     <use x=\"1975.330078\" xlink:href=\"#DejaVuSans-101\"/>\n     <use x=\"2036.853516\" xlink:href=\"#DejaVuSans-100\"/>\n     <use x=\"2100.330078\" xlink:href=\"#DejaVuSans-100\"/>\n     <use x=\"2163.806641\" xlink:href=\"#DejaVuSans-105\"/>\n     <use x=\"2191.589844\" xlink:href=\"#DejaVuSans-116\"/>\n     <use x=\"2230.798828\" xlink:href=\"#DejaVuSans-32\"/>\n     <use x=\"2262.585938\" xlink:href=\"#DejaVuSans-110\"/>\n     <use x=\"2325.964844\" xlink:href=\"#DejaVuSans-101\"/>\n     <use x=\"2387.488281\" xlink:href=\"#DejaVuSans-116\"/>\n     <use x=\"2426.697266\" xlink:href=\"#DejaVuSans-119\"/>\n     <use x=\"2508.484375\" xlink:href=\"#DejaVuSans-111\"/>\n     <use x=\"2569.666016\" xlink:href=\"#DejaVuSans-114\"/>\n     <use x=\"2610.779297\" xlink:href=\"#DejaVuSans-107\"/>\n    </g>\n   </g>\n  </g>\n </g>\n <defs>\n  <clipPath id=\"pb52e073925\">\n   <rect height=\"271.8\" width=\"837\" x=\"51.378125\" y=\"22.318125\"/>\n  </clipPath>\n </defs>\n</svg>\n",
      "image/png": "[encoded data removed]"
     },
     "metadata": {
      "needs_background": "light"
     }
    }
   ],
   "source": [
    "import matplotlib.pylab as plt\n",
    "\n",
    "fig, ax = plt.subplots(figsize=(15,5))\n",
    "width = bins[1]-bins[0]\n",
    "ax.bar(x, hist, width=width*0.9)\n",
    "ax.grid()\n",
    "ax.set_title('Distribution of degree for the random Reddit network')\n",
    "ax.set_xlabel('Node degree')\n",
    "ax.set_ylabel('Probability density')\n",
    "ax.set_xscale('log')\n",
    "ax.set_yscale('log')\n",
    "plt.show()"
   ]
  },
  {
   "source": [
    "> * Plot the two distributions you computed in steps 1. and 2. in the same figure as two line-graphs. Log-scale the x and y axes. "
   ],
   "cell_type": "markdown",
   "metadata": {}
  },
  {
   "source": [
    "# create histogram and plot it\n",
    "degrees = list(rnd_G.degree())\n",
    "degrees = [(x,y) for x,y in degrees if y > 0]\n",
    "xx = [x for x,y in degrees]\n",
    "yy = [y for x,y in degrees]\n",
    "\n",
    "#linear binning\n",
    "bins_lin = np.linspace(0, 7, 10)\n",
    "hist_lin, hist_edges_lin = np.histogram(yy, bins=bins_lin, density=True)\n",
    "x_lin = (hist_edges_lin[1:]+hist_edges_lin[:-1])/2\n",
    "\n",
    "#log binning\n",
    "bins_log = np.logspace(0, np.log10(376), 10)\n",
    "hist_log, hist_edges_log = np.histogram(yy, bins=bins, density=True)\n",
    "x_log = (hist_edges_log[1:]+hist_edges_log[:-1])/2\n",
    "\n",
    "# remove 0 entries\n",
    "def remove_zero_entries(x, hist):\n",
    "    return zip(*[(i,j) for (i,j) in zip(x, hist) if j > 0])\n",
    "\n",
    "xx_lin, yy_lin = remove_zero_entries(x_lin, hist_lin)\n",
    "xx_log, yy_log = remove_zero_entries(x_log, hist_log)\n",
    "\n",
    "fig, ax = plt.subplots(dpi = 100)\n",
    "\n",
    "ax.plot(xx_lin,yy_lin, marker = \".\", label = \"Linear Binning\")\n",
    "ax.plot(xx_log,yy_log, marker = \".\", label = \"Log Binning\")\n",
    "ax.set_yscale(\"log\")\n",
    "ax.set_xscale(\"log\")\n",
    "ax.set_xlabel(\"Node degree\")\n",
    "ax.set_ylabel(\"Probability Density\")\n",
    "ax.grid(linestyle = '--')\n",
    "ax.legend()\n",
    "\n",
    "ax.set_title(\"Distribution of lifespans\")\n",
    "fig.show()"
   ],
   "cell_type": "code",
   "metadata": {},
   "execution_count": 49,
   "outputs": [
    {
     "output_type": "stream",
     "name": "stderr",
     "text": [
      "<ipython-input-49-a3afc00725af>:36: UserWarning: Matplotlib is currently using module://ipykernel.pylab.backend_inline, which is a non-GUI backend, so cannot show the figure.\n  fig.show()\n"
     ]
    },
    {
     "output_type": "display_data",
     "data": {
      "text/plain": "<Figure size 600x400 with 1 Axes>",
      "image/svg+xml": "<?xml version=\"1.0\" encoding=\"utf-8\" standalone=\"no\"?>\n<!DOCTYPE svg PUBLIC \"-//W3C//DTD SVG 1.1//EN\"\n  \"http://www.w3.org/Graphics/SVG/1.1/DTD/svg11.dtd\">\n<!-- Created with matplotlib (https://matplotlib.org/) -->\n<svg height=\"275.714375pt\" version=\"1.1\" viewBox=\"0 0 393.378125 275.714375\" width=\"393.378125pt\" xmlns=\"http://www.w3.org/2000/svg\" xmlns:xlink=\"http://www.w3.org/1999/xlink\">\n <metadata>\n  <rdf:RDF xmlns:cc=\"http://creativecommons.org/ns#\" xmlns:dc=\"http://purl.org/dc/elements/1.1/\" xmlns:rdf=\"http://www.w3.org/1999/02/22-rdf-syntax-ns#\">\n   <cc:Work>\n    <dc:type rdf:resource=\"http://purl.org/dc/dcmitype/StillImage\"/>\n    <dc:date>2021-03-26T17:27:32.519346</dc:date>\n    <dc:format>image/svg+xml</dc:format>\n    <dc:creator>\n     <cc:Agent>\n      <dc:title>Matplotlib v3.3.4, https://matplotlib.org/</dc:title>\n     </cc:Agent>\n    </dc:creator>\n   </cc:Work>\n  </rdf:RDF>\n </metadata>\n <defs>\n  <style type=\"text/css\">*{stroke-linecap:butt;stroke-linejoin:round;}</style>\n </defs>\n <g id=\"figure_1\">\n  <g id=\"patch_1\">\n   <path d=\"M 0 275.714375 \nL 393.378125 275.714375 \nL 393.378125 0 \nL 0 0 \nz\n\" style=\"fill:none;\"/>\n  </g>\n  <g id=\"axes_1\">\n   <g id=\"patch_2\">\n    <path d=\"M 51.378125 239.758125 \nL 386.178125 239.758125 \nL 386.178125 22.318125 \nL 51.378125 22.318125 \nz\n\" style=\"fill:#ffffff;\"/>\n   </g>\n   <g id=\"matplotlib.axis_1\">\n    <g id=\"xtick_1\">\n     <g id=\"line2d_1\">\n      <defs>\n       <path d=\"M 0 0 \nL 0 2 \n\" id=\"mae70942916\" style=\"stroke:#000000;stroke-width:0.6;\"/>\n      </defs>\n      <g>\n       <use style=\"stroke:#000000;stroke-width:0.6;\" x=\"149.435584\" xlink:href=\"#mae70942916\" y=\"239.758125\"/>\n      </g>\n     </g>\n     <g id=\"text_1\">\n      <!-- $\\mathdefault{2\\times10^{0}}$ -->\n      <g transform=\"translate(131.335584 252.756563)scale(0.1 -0.1)\">\n       <defs>\n        <path d=\"M 19.1875 8.296875 \nL 53.609375 8.296875 \nL 53.609375 0 \nL 7.328125 0 \nL 7.328125 8.296875 \nQ 12.9375 14.109375 22.625 23.890625 \nQ 32.328125 33.6875 34.8125 36.53125 \nQ 39.546875 41.84375 41.421875 45.53125 \nQ 43.3125 49.21875 43.3125 52.78125 \nQ 43.3125 58.59375 39.234375 62.25 \nQ 35.15625 65.921875 28.609375 65.921875 \nQ 23.96875 65.921875 18.8125 64.3125 \nQ 13.671875 62.703125 7.8125 59.421875 \nL 7.8125 69.390625 \nQ 13.765625 71.78125 18.9375 73 \nQ 24.125 74.21875 28.421875 74.21875 \nQ 39.75 74.21875 46.484375 68.546875 \nQ 53.21875 62.890625 53.21875 53.421875 \nQ 53.21875 48.921875 51.53125 44.890625 \nQ 49.859375 40.875 45.40625 35.40625 \nQ 44.1875 33.984375 37.640625 27.21875 \nQ 31.109375 20.453125 19.1875 8.296875 \nz\n\" id=\"DejaVuSans-50\"/>\n        <path d=\"M 70.125 53.71875 \nL 47.796875 31.296875 \nL 70.125 8.984375 \nL 64.3125 3.078125 \nL 41.890625 25.484375 \nL 19.484375 3.078125 \nL 13.71875 8.984375 \nL 35.984375 31.296875 \nL 13.71875 53.71875 \nL 19.484375 59.625 \nL 41.890625 37.203125 \nL 64.3125 59.625 \nz\n\" id=\"DejaVuSans-215\"/>\n        <path d=\"M 12.40625 8.296875 \nL 28.515625 8.296875 \nL 28.515625 63.921875 \nL 10.984375 60.40625 \nL 10.984375 69.390625 \nL 28.421875 72.90625 \nL 38.28125 72.90625 \nL 38.28125 8.296875 \nL 54.390625 8.296875 \nL 54.390625 0 \nL 12.40625 0 \nz\n\" id=\"DejaVuSans-49\"/>\n        <path d=\"M 31.78125 66.40625 \nQ 24.171875 66.40625 20.328125 58.90625 \nQ 16.5 51.421875 16.5 36.375 \nQ 16.5 21.390625 20.328125 13.890625 \nQ 24.171875 6.390625 31.78125 6.390625 \nQ 39.453125 6.390625 43.28125 13.890625 \nQ 47.125 21.390625 47.125 36.375 \nQ 47.125 51.421875 43.28125 58.90625 \nQ 39.453125 66.40625 31.78125 66.40625 \nz\nM 31.78125 74.21875 \nQ 44.046875 74.21875 50.515625 64.515625 \nQ 56.984375 54.828125 56.984375 36.375 \nQ 56.984375 17.96875 50.515625 8.265625 \nQ 44.046875 -1.421875 31.78125 -1.421875 \nQ 19.53125 -1.421875 13.0625 8.265625 \nQ 6.59375 17.96875 6.59375 36.375 \nQ 6.59375 54.828125 13.0625 64.515625 \nQ 19.53125 74.21875 31.78125 74.21875 \nz\n\" id=\"DejaVuSans-48\"/>\n       </defs>\n       <use transform=\"translate(0 0.765625)\" xlink:href=\"#DejaVuSans-50\"/>\n       <use transform=\"translate(83.105469 0.765625)\" xlink:href=\"#DejaVuSans-215\"/>\n       <use transform=\"translate(186.376953 0.765625)\" xlink:href=\"#DejaVuSans-49\"/>\n       <use transform=\"translate(250 0.765625)\" xlink:href=\"#DejaVuSans-48\"/>\n       <use transform=\"translate(314.580078 39.046875)scale(0.7)\" xlink:href=\"#DejaVuSans-48\"/>\n      </g>\n     </g>\n    </g>\n    <g id=\"xtick_2\">\n     <g id=\"line2d_2\">\n      <g>\n       <use style=\"stroke:#000000;stroke-width:0.6;\" x=\"209.730832\" xlink:href=\"#mae70942916\" y=\"239.758125\"/>\n      </g>\n     </g>\n     <g id=\"text_2\">\n      <!-- $\\mathdefault{3\\times10^{0}}$ -->\n      <g transform=\"translate(191.630832 252.756563)scale(0.1 -0.1)\">\n       <defs>\n        <path d=\"M 40.578125 39.3125 \nQ 47.65625 37.796875 51.625 33 \nQ 55.609375 28.21875 55.609375 21.1875 \nQ 55.609375 10.40625 48.1875 4.484375 \nQ 40.765625 -1.421875 27.09375 -1.421875 \nQ 22.515625 -1.421875 17.65625 -0.515625 \nQ 12.796875 0.390625 7.625 2.203125 \nL 7.625 11.71875 \nQ 11.71875 9.328125 16.59375 8.109375 \nQ 21.484375 6.890625 26.8125 6.890625 \nQ 36.078125 6.890625 40.9375 10.546875 \nQ 45.796875 14.203125 45.796875 21.1875 \nQ 45.796875 27.640625 41.28125 31.265625 \nQ 36.765625 34.90625 28.71875 34.90625 \nL 20.21875 34.90625 \nL 20.21875 43.015625 \nL 29.109375 43.015625 \nQ 36.375 43.015625 40.234375 45.921875 \nQ 44.09375 48.828125 44.09375 54.296875 \nQ 44.09375 59.90625 40.109375 62.90625 \nQ 36.140625 65.921875 28.71875 65.921875 \nQ 24.65625 65.921875 20.015625 65.03125 \nQ 15.375 64.15625 9.8125 62.3125 \nL 9.8125 71.09375 \nQ 15.4375 72.65625 20.34375 73.4375 \nQ 25.25 74.21875 29.59375 74.21875 \nQ 40.828125 74.21875 47.359375 69.109375 \nQ 53.90625 64.015625 53.90625 55.328125 \nQ 53.90625 49.265625 50.4375 45.09375 \nQ 46.96875 40.921875 40.578125 39.3125 \nz\n\" id=\"DejaVuSans-51\"/>\n       </defs>\n       <use transform=\"translate(0 0.765625)\" xlink:href=\"#DejaVuSans-51\"/>\n       <use transform=\"translate(83.105469 0.765625)\" xlink:href=\"#DejaVuSans-215\"/>\n       <use transform=\"translate(186.376953 0.765625)\" xlink:href=\"#DejaVuSans-49\"/>\n       <use transform=\"translate(250 0.765625)\" xlink:href=\"#DejaVuSans-48\"/>\n       <use transform=\"translate(314.580078 39.046875)scale(0.7)\" xlink:href=\"#DejaVuSans-48\"/>\n      </g>\n     </g>\n    </g>\n    <g id=\"xtick_3\">\n     <g id=\"line2d_3\">\n      <g>\n       <use style=\"stroke:#000000;stroke-width:0.6;\" x=\"252.510991\" xlink:href=\"#mae70942916\" y=\"239.758125\"/>\n      </g>\n     </g>\n     <g id=\"text_3\">\n      <!-- $\\mathdefault{4\\times10^{0}}$ -->\n      <g transform=\"translate(234.410991 252.756563)scale(0.1 -0.1)\">\n       <defs>\n        <path d=\"M 37.796875 64.3125 \nL 12.890625 25.390625 \nL 37.796875 25.390625 \nz\nM 35.203125 72.90625 \nL 47.609375 72.90625 \nL 47.609375 25.390625 \nL 58.015625 25.390625 \nL 58.015625 17.1875 \nL 47.609375 17.1875 \nL 47.609375 0 \nL 37.796875 0 \nL 37.796875 17.1875 \nL 4.890625 17.1875 \nL 4.890625 26.703125 \nz\n\" id=\"DejaVuSans-52\"/>\n       </defs>\n       <use transform=\"translate(0 0.765625)\" xlink:href=\"#DejaVuSans-52\"/>\n       <use transform=\"translate(83.105469 0.765625)\" xlink:href=\"#DejaVuSans-215\"/>\n       <use transform=\"translate(186.376953 0.765625)\" xlink:href=\"#DejaVuSans-49\"/>\n       <use transform=\"translate(250 0.765625)\" xlink:href=\"#DejaVuSans-48\"/>\n       <use transform=\"translate(314.580078 39.046875)scale(0.7)\" xlink:href=\"#DejaVuSans-48\"/>\n      </g>\n     </g>\n    </g>\n    <g id=\"xtick_4\">\n     <g id=\"line2d_4\">\n      <g>\n       <use style=\"stroke:#000000;stroke-width:0.6;\" x=\"285.69386\" xlink:href=\"#mae70942916\" y=\"239.758125\"/>\n      </g>\n     </g>\n    </g>\n    <g id=\"xtick_5\">\n     <g id=\"line2d_5\">\n      <g>\n       <use style=\"stroke:#000000;stroke-width:0.6;\" x=\"312.806239\" xlink:href=\"#mae70942916\" y=\"239.758125\"/>\n      </g>\n     </g>\n     <g id=\"text_4\">\n      <!-- $\\mathdefault{6\\times10^{0}}$ -->\n      <g transform=\"translate(294.706239 252.756563)scale(0.1 -0.1)\">\n       <defs>\n        <path d=\"M 33.015625 40.375 \nQ 26.375 40.375 22.484375 35.828125 \nQ 18.609375 31.296875 18.609375 23.390625 \nQ 18.609375 15.53125 22.484375 10.953125 \nQ 26.375 6.390625 33.015625 6.390625 \nQ 39.65625 6.390625 43.53125 10.953125 \nQ 47.40625 15.53125 47.40625 23.390625 \nQ 47.40625 31.296875 43.53125 35.828125 \nQ 39.65625 40.375 33.015625 40.375 \nz\nM 52.59375 71.296875 \nL 52.59375 62.3125 \nQ 48.875 64.0625 45.09375 64.984375 \nQ 41.3125 65.921875 37.59375 65.921875 \nQ 27.828125 65.921875 22.671875 59.328125 \nQ 17.53125 52.734375 16.796875 39.40625 \nQ 19.671875 43.65625 24.015625 45.921875 \nQ 28.375 48.1875 33.59375 48.1875 \nQ 44.578125 48.1875 50.953125 41.515625 \nQ 57.328125 34.859375 57.328125 23.390625 \nQ 57.328125 12.15625 50.6875 5.359375 \nQ 44.046875 -1.421875 33.015625 -1.421875 \nQ 20.359375 -1.421875 13.671875 8.265625 \nQ 6.984375 17.96875 6.984375 36.375 \nQ 6.984375 53.65625 15.1875 63.9375 \nQ 23.390625 74.21875 37.203125 74.21875 \nQ 40.921875 74.21875 44.703125 73.484375 \nQ 48.484375 72.75 52.59375 71.296875 \nz\n\" id=\"DejaVuSans-54\"/>\n       </defs>\n       <use transform=\"translate(0 0.765625)\" xlink:href=\"#DejaVuSans-54\"/>\n       <use transform=\"translate(83.105469 0.765625)\" xlink:href=\"#DejaVuSans-215\"/>\n       <use transform=\"translate(186.376953 0.765625)\" xlink:href=\"#DejaVuSans-49\"/>\n       <use transform=\"translate(250 0.765625)\" xlink:href=\"#DejaVuSans-48\"/>\n       <use transform=\"translate(314.580078 39.046875)scale(0.7)\" xlink:href=\"#DejaVuSans-48\"/>\n      </g>\n     </g>\n    </g>\n    <g id=\"xtick_6\">\n     <g id=\"line2d_6\">\n      <g>\n       <use style=\"stroke:#000000;stroke-width:0.6;\" x=\"335.729428\" xlink:href=\"#mae70942916\" y=\"239.758125\"/>\n      </g>\n     </g>\n    </g>\n    <g id=\"xtick_7\">\n     <g id=\"line2d_7\">\n      <g>\n       <use style=\"stroke:#000000;stroke-width:0.6;\" x=\"355.586398\" xlink:href=\"#mae70942916\" y=\"239.758125\"/>\n      </g>\n     </g>\n    </g>\n    <g id=\"xtick_8\">\n     <g id=\"line2d_8\">\n      <g>\n       <use style=\"stroke:#000000;stroke-width:0.6;\" x=\"373.101487\" xlink:href=\"#mae70942916\" y=\"239.758125\"/>\n      </g>\n     </g>\n    </g>\n    <g id=\"text_5\">\n     <!-- Node degree -->\n     <g transform=\"translate(186.617188 266.434687)scale(0.1 -0.1)\">\n      <defs>\n       <path d=\"M 9.8125 72.90625 \nL 23.09375 72.90625 \nL 55.421875 11.921875 \nL 55.421875 72.90625 \nL 64.984375 72.90625 \nL 64.984375 0 \nL 51.703125 0 \nL 19.390625 60.984375 \nL 19.390625 0 \nL 9.8125 0 \nz\n\" id=\"DejaVuSans-78\"/>\n       <path d=\"M 30.609375 48.390625 \nQ 23.390625 48.390625 19.1875 42.75 \nQ 14.984375 37.109375 14.984375 27.296875 \nQ 14.984375 17.484375 19.15625 11.84375 \nQ 23.34375 6.203125 30.609375 6.203125 \nQ 37.796875 6.203125 41.984375 11.859375 \nQ 46.1875 17.53125 46.1875 27.296875 \nQ 46.1875 37.015625 41.984375 42.703125 \nQ 37.796875 48.390625 30.609375 48.390625 \nz\nM 30.609375 56 \nQ 42.328125 56 49.015625 48.375 \nQ 55.71875 40.765625 55.71875 27.296875 \nQ 55.71875 13.875 49.015625 6.21875 \nQ 42.328125 -1.421875 30.609375 -1.421875 \nQ 18.84375 -1.421875 12.171875 6.21875 \nQ 5.515625 13.875 5.515625 27.296875 \nQ 5.515625 40.765625 12.171875 48.375 \nQ 18.84375 56 30.609375 56 \nz\n\" id=\"DejaVuSans-111\"/>\n       <path d=\"M 45.40625 46.390625 \nL 45.40625 75.984375 \nL 54.390625 75.984375 \nL 54.390625 0 \nL 45.40625 0 \nL 45.40625 8.203125 \nQ 42.578125 3.328125 38.25 0.953125 \nQ 33.9375 -1.421875 27.875 -1.421875 \nQ 17.96875 -1.421875 11.734375 6.484375 \nQ 5.515625 14.40625 5.515625 27.296875 \nQ 5.515625 40.1875 11.734375 48.09375 \nQ 17.96875 56 27.875 56 \nQ 33.9375 56 38.25 53.625 \nQ 42.578125 51.265625 45.40625 46.390625 \nz\nM 14.796875 27.296875 \nQ 14.796875 17.390625 18.875 11.75 \nQ 22.953125 6.109375 30.078125 6.109375 \nQ 37.203125 6.109375 41.296875 11.75 \nQ 45.40625 17.390625 45.40625 27.296875 \nQ 45.40625 37.203125 41.296875 42.84375 \nQ 37.203125 48.484375 30.078125 48.484375 \nQ 22.953125 48.484375 18.875 42.84375 \nQ 14.796875 37.203125 14.796875 27.296875 \nz\n\" id=\"DejaVuSans-100\"/>\n       <path d=\"M 56.203125 29.59375 \nL 56.203125 25.203125 \nL 14.890625 25.203125 \nQ 15.484375 15.921875 20.484375 11.0625 \nQ 25.484375 6.203125 34.421875 6.203125 \nQ 39.59375 6.203125 44.453125 7.46875 \nQ 49.3125 8.734375 54.109375 11.28125 \nL 54.109375 2.78125 \nQ 49.265625 0.734375 44.1875 -0.34375 \nQ 39.109375 -1.421875 33.890625 -1.421875 \nQ 20.796875 -1.421875 13.15625 6.1875 \nQ 5.515625 13.8125 5.515625 26.8125 \nQ 5.515625 40.234375 12.765625 48.109375 \nQ 20.015625 56 32.328125 56 \nQ 43.359375 56 49.78125 48.890625 \nQ 56.203125 41.796875 56.203125 29.59375 \nz\nM 47.21875 32.234375 \nQ 47.125 39.59375 43.09375 43.984375 \nQ 39.0625 48.390625 32.421875 48.390625 \nQ 24.90625 48.390625 20.390625 44.140625 \nQ 15.875 39.890625 15.1875 32.171875 \nz\n\" id=\"DejaVuSans-101\"/>\n       <path id=\"DejaVuSans-32\"/>\n       <path d=\"M 45.40625 27.984375 \nQ 45.40625 37.75 41.375 43.109375 \nQ 37.359375 48.484375 30.078125 48.484375 \nQ 22.859375 48.484375 18.828125 43.109375 \nQ 14.796875 37.75 14.796875 27.984375 \nQ 14.796875 18.265625 18.828125 12.890625 \nQ 22.859375 7.515625 30.078125 7.515625 \nQ 37.359375 7.515625 41.375 12.890625 \nQ 45.40625 18.265625 45.40625 27.984375 \nz\nM 54.390625 6.78125 \nQ 54.390625 -7.171875 48.1875 -13.984375 \nQ 42 -20.796875 29.203125 -20.796875 \nQ 24.46875 -20.796875 20.265625 -20.09375 \nQ 16.0625 -19.390625 12.109375 -17.921875 \nL 12.109375 -9.1875 \nQ 16.0625 -11.328125 19.921875 -12.34375 \nQ 23.78125 -13.375 27.78125 -13.375 \nQ 36.625 -13.375 41.015625 -8.765625 \nQ 45.40625 -4.15625 45.40625 5.171875 \nL 45.40625 9.625 \nQ 42.625 4.78125 38.28125 2.390625 \nQ 33.9375 0 27.875 0 \nQ 17.828125 0 11.671875 7.65625 \nQ 5.515625 15.328125 5.515625 27.984375 \nQ 5.515625 40.671875 11.671875 48.328125 \nQ 17.828125 56 27.875 56 \nQ 33.9375 56 38.28125 53.609375 \nQ 42.625 51.21875 45.40625 46.390625 \nL 45.40625 54.6875 \nL 54.390625 54.6875 \nz\n\" id=\"DejaVuSans-103\"/>\n       <path d=\"M 41.109375 46.296875 \nQ 39.59375 47.171875 37.8125 47.578125 \nQ 36.03125 48 33.890625 48 \nQ 26.265625 48 22.1875 43.046875 \nQ 18.109375 38.09375 18.109375 28.8125 \nL 18.109375 0 \nL 9.078125 0 \nL 9.078125 54.6875 \nL 18.109375 54.6875 \nL 18.109375 46.1875 \nQ 20.953125 51.171875 25.484375 53.578125 \nQ 30.03125 56 36.53125 56 \nQ 37.453125 56 38.578125 55.875 \nQ 39.703125 55.765625 41.0625 55.515625 \nz\n\" id=\"DejaVuSans-114\"/>\n      </defs>\n      <use xlink:href=\"#DejaVuSans-78\"/>\n      <use x=\"74.804688\" xlink:href=\"#DejaVuSans-111\"/>\n      <use x=\"135.986328\" xlink:href=\"#DejaVuSans-100\"/>\n      <use x=\"199.462891\" xlink:href=\"#DejaVuSans-101\"/>\n      <use x=\"260.986328\" xlink:href=\"#DejaVuSans-32\"/>\n      <use x=\"292.773438\" xlink:href=\"#DejaVuSans-100\"/>\n      <use x=\"356.25\" xlink:href=\"#DejaVuSans-101\"/>\n      <use x=\"417.773438\" xlink:href=\"#DejaVuSans-103\"/>\n      <use x=\"481.25\" xlink:href=\"#DejaVuSans-114\"/>\n      <use x=\"520.113281\" xlink:href=\"#DejaVuSans-101\"/>\n      <use x=\"581.636719\" xlink:href=\"#DejaVuSans-101\"/>\n     </g>\n    </g>\n   </g>\n   <g id=\"matplotlib.axis_2\">\n    <g id=\"ytick_1\">\n     <g id=\"line2d_9\">\n      <path clip-path=\"url(#p2c57fd7f17)\" d=\"M 51.378125 173.062322 \nL 386.178125 173.062322 \n\" style=\"fill:none;stroke:#b0b0b0;stroke-dasharray:2.96,1.28;stroke-dashoffset:0;stroke-width:0.8;\"/>\n     </g>\n     <g id=\"line2d_10\">\n      <defs>\n       <path d=\"M 0 0 \nL -3.5 0 \n\" id=\"mdfb198f803\" style=\"stroke:#000000;stroke-width:0.8;\"/>\n      </defs>\n      <g>\n       <use style=\"stroke:#000000;stroke-width:0.8;\" x=\"51.378125\" xlink:href=\"#mdfb198f803\" y=\"173.062322\"/>\n      </g>\n     </g>\n     <g id=\"text_6\">\n      <!-- $\\mathdefault{10^{-2}}$ -->\n      <g transform=\"translate(20.878125 176.86154)scale(0.1 -0.1)\">\n       <defs>\n        <path d=\"M 10.59375 35.5 \nL 73.1875 35.5 \nL 73.1875 27.203125 \nL 10.59375 27.203125 \nz\n\" id=\"DejaVuSans-8722\"/>\n       </defs>\n       <use transform=\"translate(0 0.765625)\" xlink:href=\"#DejaVuSans-49\"/>\n       <use transform=\"translate(63.623047 0.765625)\" xlink:href=\"#DejaVuSans-48\"/>\n       <use transform=\"translate(128.203125 39.046875)scale(0.7)\" xlink:href=\"#DejaVuSans-8722\"/>\n       <use transform=\"translate(186.855469 39.046875)scale(0.7)\" xlink:href=\"#DejaVuSans-50\"/>\n      </g>\n     </g>\n    </g>\n    <g id=\"ytick_2\">\n     <g id=\"line2d_11\">\n      <path clip-path=\"url(#p2c57fd7f17)\" d=\"M 51.378125 100.069702 \nL 386.178125 100.069702 \n\" style=\"fill:none;stroke:#b0b0b0;stroke-dasharray:2.96,1.28;stroke-dashoffset:0;stroke-width:0.8;\"/>\n     </g>\n     <g id=\"line2d_12\">\n      <g>\n       <use style=\"stroke:#000000;stroke-width:0.8;\" x=\"51.378125\" xlink:href=\"#mdfb198f803\" y=\"100.069702\"/>\n      </g>\n     </g>\n     <g id=\"text_7\">\n      <!-- $\\mathdefault{10^{-1}}$ -->\n      <g transform=\"translate(20.878125 103.868921)scale(0.1 -0.1)\">\n       <use transform=\"translate(0 0.684375)\" xlink:href=\"#DejaVuSans-49\"/>\n       <use transform=\"translate(63.623047 0.684375)\" xlink:href=\"#DejaVuSans-48\"/>\n       <use transform=\"translate(128.203125 38.965625)scale(0.7)\" xlink:href=\"#DejaVuSans-8722\"/>\n       <use transform=\"translate(186.855469 38.965625)scale(0.7)\" xlink:href=\"#DejaVuSans-49\"/>\n      </g>\n     </g>\n    </g>\n    <g id=\"ytick_3\">\n     <g id=\"line2d_13\">\n      <path clip-path=\"url(#p2c57fd7f17)\" d=\"M 51.378125 27.077082 \nL 386.178125 27.077082 \n\" style=\"fill:none;stroke:#b0b0b0;stroke-dasharray:2.96,1.28;stroke-dashoffset:0;stroke-width:0.8;\"/>\n     </g>\n     <g id=\"line2d_14\">\n      <g>\n       <use style=\"stroke:#000000;stroke-width:0.8;\" x=\"51.378125\" xlink:href=\"#mdfb198f803\" y=\"27.077082\"/>\n      </g>\n     </g>\n     <g id=\"text_8\">\n      <!-- $\\mathdefault{10^{0}}$ -->\n      <g transform=\"translate(26.778125 30.876301)scale(0.1 -0.1)\">\n       <use transform=\"translate(0 0.765625)\" xlink:href=\"#DejaVuSans-49\"/>\n       <use transform=\"translate(63.623047 0.765625)\" xlink:href=\"#DejaVuSans-48\"/>\n       <use transform=\"translate(128.203125 39.046875)scale(0.7)\" xlink:href=\"#DejaVuSans-48\"/>\n      </g>\n     </g>\n    </g>\n    <g id=\"ytick_4\">\n     <g id=\"line2d_15\">\n      <defs>\n       <path d=\"M 0 0 \nL -2 0 \n\" id=\"m01c5cd1dc6\" style=\"stroke:#000000;stroke-width:0.6;\"/>\n      </defs>\n      <g>\n       <use style=\"stroke:#000000;stroke-width:0.6;\" x=\"51.378125\" xlink:href=\"#m01c5cd1dc6\" y=\"224.081973\"/>\n      </g>\n     </g>\n    </g>\n    <g id=\"ytick_5\">\n     <g id=\"line2d_16\">\n      <g>\n       <use style=\"stroke:#000000;stroke-width:0.6;\" x=\"51.378125\" xlink:href=\"#m01c5cd1dc6\" y=\"211.228611\"/>\n      </g>\n     </g>\n    </g>\n    <g id=\"ytick_6\">\n     <g id=\"line2d_17\">\n      <g>\n       <use style=\"stroke:#000000;stroke-width:0.6;\" x=\"51.378125\" xlink:href=\"#m01c5cd1dc6\" y=\"202.109005\"/>\n      </g>\n     </g>\n    </g>\n    <g id=\"ytick_7\">\n     <g id=\"line2d_18\">\n      <g>\n       <use style=\"stroke:#000000;stroke-width:0.6;\" x=\"51.378125\" xlink:href=\"#m01c5cd1dc6\" y=\"195.03529\"/>\n      </g>\n     </g>\n    </g>\n    <g id=\"ytick_8\">\n     <g id=\"line2d_19\">\n      <g>\n       <use style=\"stroke:#000000;stroke-width:0.6;\" x=\"51.378125\" xlink:href=\"#m01c5cd1dc6\" y=\"189.255643\"/>\n      </g>\n     </g>\n    </g>\n    <g id=\"ytick_9\">\n     <g id=\"line2d_20\">\n      <g>\n       <use style=\"stroke:#000000;stroke-width:0.6;\" x=\"51.378125\" xlink:href=\"#m01c5cd1dc6\" y=\"184.369022\"/>\n      </g>\n     </g>\n    </g>\n    <g id=\"ytick_10\">\n     <g id=\"line2d_21\">\n      <g>\n       <use style=\"stroke:#000000;stroke-width:0.6;\" x=\"51.378125\" xlink:href=\"#m01c5cd1dc6\" y=\"180.136037\"/>\n      </g>\n     </g>\n    </g>\n    <g id=\"ytick_11\">\n     <g id=\"line2d_22\">\n      <g>\n       <use style=\"stroke:#000000;stroke-width:0.6;\" x=\"51.378125\" xlink:href=\"#m01c5cd1dc6\" y=\"176.402281\"/>\n      </g>\n     </g>\n    </g>\n    <g id=\"ytick_12\">\n     <g id=\"line2d_23\">\n      <g>\n       <use style=\"stroke:#000000;stroke-width:0.6;\" x=\"51.378125\" xlink:href=\"#m01c5cd1dc6\" y=\"151.089354\"/>\n      </g>\n     </g>\n    </g>\n    <g id=\"ytick_13\">\n     <g id=\"line2d_24\">\n      <g>\n       <use style=\"stroke:#000000;stroke-width:0.6;\" x=\"51.378125\" xlink:href=\"#m01c5cd1dc6\" y=\"138.235991\"/>\n      </g>\n     </g>\n    </g>\n    <g id=\"ytick_14\">\n     <g id=\"line2d_25\">\n      <g>\n       <use style=\"stroke:#000000;stroke-width:0.6;\" x=\"51.378125\" xlink:href=\"#m01c5cd1dc6\" y=\"129.116386\"/>\n      </g>\n     </g>\n    </g>\n    <g id=\"ytick_15\">\n     <g id=\"line2d_26\">\n      <g>\n       <use style=\"stroke:#000000;stroke-width:0.6;\" x=\"51.378125\" xlink:href=\"#m01c5cd1dc6\" y=\"122.04267\"/>\n      </g>\n     </g>\n    </g>\n    <g id=\"ytick_16\">\n     <g id=\"line2d_27\">\n      <g>\n       <use style=\"stroke:#000000;stroke-width:0.6;\" x=\"51.378125\" xlink:href=\"#m01c5cd1dc6\" y=\"116.263023\"/>\n      </g>\n     </g>\n    </g>\n    <g id=\"ytick_17\">\n     <g id=\"line2d_28\">\n      <g>\n       <use style=\"stroke:#000000;stroke-width:0.6;\" x=\"51.378125\" xlink:href=\"#m01c5cd1dc6\" y=\"111.376402\"/>\n      </g>\n     </g>\n    </g>\n    <g id=\"ytick_18\">\n     <g id=\"line2d_29\">\n      <g>\n       <use style=\"stroke:#000000;stroke-width:0.6;\" x=\"51.378125\" xlink:href=\"#m01c5cd1dc6\" y=\"107.143418\"/>\n      </g>\n     </g>\n    </g>\n    <g id=\"ytick_19\">\n     <g id=\"line2d_30\">\n      <g>\n       <use style=\"stroke:#000000;stroke-width:0.6;\" x=\"51.378125\" xlink:href=\"#m01c5cd1dc6\" y=\"103.409661\"/>\n      </g>\n     </g>\n    </g>\n    <g id=\"ytick_20\">\n     <g id=\"line2d_31\">\n      <g>\n       <use style=\"stroke:#000000;stroke-width:0.6;\" x=\"51.378125\" xlink:href=\"#m01c5cd1dc6\" y=\"78.096734\"/>\n      </g>\n     </g>\n    </g>\n    <g id=\"ytick_21\">\n     <g id=\"line2d_32\">\n      <g>\n       <use style=\"stroke:#000000;stroke-width:0.6;\" x=\"51.378125\" xlink:href=\"#m01c5cd1dc6\" y=\"65.243372\"/>\n      </g>\n     </g>\n    </g>\n    <g id=\"ytick_22\">\n     <g id=\"line2d_33\">\n      <g>\n       <use style=\"stroke:#000000;stroke-width:0.6;\" x=\"51.378125\" xlink:href=\"#m01c5cd1dc6\" y=\"56.123766\"/>\n      </g>\n     </g>\n    </g>\n    <g id=\"ytick_23\">\n     <g id=\"line2d_34\">\n      <g>\n       <use style=\"stroke:#000000;stroke-width:0.6;\" x=\"51.378125\" xlink:href=\"#m01c5cd1dc6\" y=\"49.05005\"/>\n      </g>\n     </g>\n    </g>\n    <g id=\"ytick_24\">\n     <g id=\"line2d_35\">\n      <g>\n       <use style=\"stroke:#000000;stroke-width:0.6;\" x=\"51.378125\" xlink:href=\"#m01c5cd1dc6\" y=\"43.270404\"/>\n      </g>\n     </g>\n    </g>\n    <g id=\"ytick_25\">\n     <g id=\"line2d_36\">\n      <g>\n       <use style=\"stroke:#000000;stroke-width:0.6;\" x=\"51.378125\" xlink:href=\"#m01c5cd1dc6\" y=\"38.383782\"/>\n      </g>\n     </g>\n    </g>\n    <g id=\"ytick_26\">\n     <g id=\"line2d_37\">\n      <g>\n       <use style=\"stroke:#000000;stroke-width:0.6;\" x=\"51.378125\" xlink:href=\"#m01c5cd1dc6\" y=\"34.150798\"/>\n      </g>\n     </g>\n    </g>\n    <g id=\"ytick_27\">\n     <g id=\"line2d_38\">\n      <g>\n       <use style=\"stroke:#000000;stroke-width:0.6;\" x=\"51.378125\" xlink:href=\"#m01c5cd1dc6\" y=\"30.417041\"/>\n      </g>\n     </g>\n    </g>\n    <g id=\"text_9\">\n     <!-- Probability Density -->\n     <g transform=\"translate(14.798438 178.064688)rotate(-90)scale(0.1 -0.1)\">\n      <defs>\n       <path d=\"M 19.671875 64.796875 \nL 19.671875 37.40625 \nL 32.078125 37.40625 \nQ 38.96875 37.40625 42.71875 40.96875 \nQ 46.484375 44.53125 46.484375 51.125 \nQ 46.484375 57.671875 42.71875 61.234375 \nQ 38.96875 64.796875 32.078125 64.796875 \nz\nM 9.8125 72.90625 \nL 32.078125 72.90625 \nQ 44.34375 72.90625 50.609375 67.359375 \nQ 56.890625 61.8125 56.890625 51.125 \nQ 56.890625 40.328125 50.609375 34.8125 \nQ 44.34375 29.296875 32.078125 29.296875 \nL 19.671875 29.296875 \nL 19.671875 0 \nL 9.8125 0 \nz\n\" id=\"DejaVuSans-80\"/>\n       <path d=\"M 48.6875 27.296875 \nQ 48.6875 37.203125 44.609375 42.84375 \nQ 40.53125 48.484375 33.40625 48.484375 \nQ 26.265625 48.484375 22.1875 42.84375 \nQ 18.109375 37.203125 18.109375 27.296875 \nQ 18.109375 17.390625 22.1875 11.75 \nQ 26.265625 6.109375 33.40625 6.109375 \nQ 40.53125 6.109375 44.609375 11.75 \nQ 48.6875 17.390625 48.6875 27.296875 \nz\nM 18.109375 46.390625 \nQ 20.953125 51.265625 25.265625 53.625 \nQ 29.59375 56 35.59375 56 \nQ 45.5625 56 51.78125 48.09375 \nQ 58.015625 40.1875 58.015625 27.296875 \nQ 58.015625 14.40625 51.78125 6.484375 \nQ 45.5625 -1.421875 35.59375 -1.421875 \nQ 29.59375 -1.421875 25.265625 0.953125 \nQ 20.953125 3.328125 18.109375 8.203125 \nL 18.109375 0 \nL 9.078125 0 \nL 9.078125 75.984375 \nL 18.109375 75.984375 \nz\n\" id=\"DejaVuSans-98\"/>\n       <path d=\"M 34.28125 27.484375 \nQ 23.390625 27.484375 19.1875 25 \nQ 14.984375 22.515625 14.984375 16.5 \nQ 14.984375 11.71875 18.140625 8.90625 \nQ 21.296875 6.109375 26.703125 6.109375 \nQ 34.1875 6.109375 38.703125 11.40625 \nQ 43.21875 16.703125 43.21875 25.484375 \nL 43.21875 27.484375 \nz\nM 52.203125 31.203125 \nL 52.203125 0 \nL 43.21875 0 \nL 43.21875 8.296875 \nQ 40.140625 3.328125 35.546875 0.953125 \nQ 30.953125 -1.421875 24.3125 -1.421875 \nQ 15.921875 -1.421875 10.953125 3.296875 \nQ 6 8.015625 6 15.921875 \nQ 6 25.140625 12.171875 29.828125 \nQ 18.359375 34.515625 30.609375 34.515625 \nL 43.21875 34.515625 \nL 43.21875 35.40625 \nQ 43.21875 41.609375 39.140625 45 \nQ 35.0625 48.390625 27.6875 48.390625 \nQ 23 48.390625 18.546875 47.265625 \nQ 14.109375 46.140625 10.015625 43.890625 \nL 10.015625 52.203125 \nQ 14.9375 54.109375 19.578125 55.046875 \nQ 24.21875 56 28.609375 56 \nQ 40.484375 56 46.34375 49.84375 \nQ 52.203125 43.703125 52.203125 31.203125 \nz\n\" id=\"DejaVuSans-97\"/>\n       <path d=\"M 9.421875 54.6875 \nL 18.40625 54.6875 \nL 18.40625 0 \nL 9.421875 0 \nz\nM 9.421875 75.984375 \nL 18.40625 75.984375 \nL 18.40625 64.59375 \nL 9.421875 64.59375 \nz\n\" id=\"DejaVuSans-105\"/>\n       <path d=\"M 9.421875 75.984375 \nL 18.40625 75.984375 \nL 18.40625 0 \nL 9.421875 0 \nz\n\" id=\"DejaVuSans-108\"/>\n       <path d=\"M 18.3125 70.21875 \nL 18.3125 54.6875 \nL 36.8125 54.6875 \nL 36.8125 47.703125 \nL 18.3125 47.703125 \nL 18.3125 18.015625 \nQ 18.3125 11.328125 20.140625 9.421875 \nQ 21.96875 7.515625 27.59375 7.515625 \nL 36.8125 7.515625 \nL 36.8125 0 \nL 27.59375 0 \nQ 17.1875 0 13.234375 3.875 \nQ 9.28125 7.765625 9.28125 18.015625 \nL 9.28125 47.703125 \nL 2.6875 47.703125 \nL 2.6875 54.6875 \nL 9.28125 54.6875 \nL 9.28125 70.21875 \nz\n\" id=\"DejaVuSans-116\"/>\n       <path d=\"M 32.171875 -5.078125 \nQ 28.375 -14.84375 24.75 -17.8125 \nQ 21.140625 -20.796875 15.09375 -20.796875 \nL 7.90625 -20.796875 \nL 7.90625 -13.28125 \nL 13.1875 -13.28125 \nQ 16.890625 -13.28125 18.9375 -11.515625 \nQ 21 -9.765625 23.484375 -3.21875 \nL 25.09375 0.875 \nL 2.984375 54.6875 \nL 12.5 54.6875 \nL 29.59375 11.921875 \nL 46.6875 54.6875 \nL 56.203125 54.6875 \nz\n\" id=\"DejaVuSans-121\"/>\n       <path d=\"M 19.671875 64.796875 \nL 19.671875 8.109375 \nL 31.59375 8.109375 \nQ 46.6875 8.109375 53.6875 14.9375 \nQ 60.6875 21.78125 60.6875 36.53125 \nQ 60.6875 51.171875 53.6875 57.984375 \nQ 46.6875 64.796875 31.59375 64.796875 \nz\nM 9.8125 72.90625 \nL 30.078125 72.90625 \nQ 51.265625 72.90625 61.171875 64.09375 \nQ 71.09375 55.28125 71.09375 36.53125 \nQ 71.09375 17.671875 61.125 8.828125 \nQ 51.171875 0 30.078125 0 \nL 9.8125 0 \nz\n\" id=\"DejaVuSans-68\"/>\n       <path d=\"M 54.890625 33.015625 \nL 54.890625 0 \nL 45.90625 0 \nL 45.90625 32.71875 \nQ 45.90625 40.484375 42.875 44.328125 \nQ 39.84375 48.1875 33.796875 48.1875 \nQ 26.515625 48.1875 22.3125 43.546875 \nQ 18.109375 38.921875 18.109375 30.90625 \nL 18.109375 0 \nL 9.078125 0 \nL 9.078125 54.6875 \nL 18.109375 54.6875 \nL 18.109375 46.1875 \nQ 21.34375 51.125 25.703125 53.5625 \nQ 30.078125 56 35.796875 56 \nQ 45.21875 56 50.046875 50.171875 \nQ 54.890625 44.34375 54.890625 33.015625 \nz\n\" id=\"DejaVuSans-110\"/>\n       <path d=\"M 44.28125 53.078125 \nL 44.28125 44.578125 \nQ 40.484375 46.53125 36.375 47.5 \nQ 32.28125 48.484375 27.875 48.484375 \nQ 21.1875 48.484375 17.84375 46.4375 \nQ 14.5 44.390625 14.5 40.28125 \nQ 14.5 37.15625 16.890625 35.375 \nQ 19.28125 33.59375 26.515625 31.984375 \nL 29.59375 31.296875 \nQ 39.15625 29.25 43.1875 25.515625 \nQ 47.21875 21.78125 47.21875 15.09375 \nQ 47.21875 7.46875 41.1875 3.015625 \nQ 35.15625 -1.421875 24.609375 -1.421875 \nQ 20.21875 -1.421875 15.453125 -0.5625 \nQ 10.6875 0.296875 5.421875 2 \nL 5.421875 11.28125 \nQ 10.40625 8.6875 15.234375 7.390625 \nQ 20.0625 6.109375 24.8125 6.109375 \nQ 31.15625 6.109375 34.5625 8.28125 \nQ 37.984375 10.453125 37.984375 14.40625 \nQ 37.984375 18.0625 35.515625 20.015625 \nQ 33.0625 21.96875 24.703125 23.78125 \nL 21.578125 24.515625 \nQ 13.234375 26.265625 9.515625 29.90625 \nQ 5.8125 33.546875 5.8125 39.890625 \nQ 5.8125 47.609375 11.28125 51.796875 \nQ 16.75 56 26.8125 56 \nQ 31.78125 56 36.171875 55.265625 \nQ 40.578125 54.546875 44.28125 53.078125 \nz\n\" id=\"DejaVuSans-115\"/>\n      </defs>\n      <use xlink:href=\"#DejaVuSans-80\"/>\n      <use x=\"58.552734\" xlink:href=\"#DejaVuSans-114\"/>\n      <use x=\"97.416016\" xlink:href=\"#DejaVuSans-111\"/>\n      <use x=\"158.597656\" xlink:href=\"#DejaVuSans-98\"/>\n      <use x=\"222.074219\" xlink:href=\"#DejaVuSans-97\"/>\n      <use x=\"283.353516\" xlink:href=\"#DejaVuSans-98\"/>\n      <use x=\"346.830078\" xlink:href=\"#DejaVuSans-105\"/>\n      <use x=\"374.613281\" xlink:href=\"#DejaVuSans-108\"/>\n      <use x=\"402.396484\" xlink:href=\"#DejaVuSans-105\"/>\n      <use x=\"430.179688\" xlink:href=\"#DejaVuSans-116\"/>\n      <use x=\"469.388672\" xlink:href=\"#DejaVuSans-121\"/>\n      <use x=\"528.568359\" xlink:href=\"#DejaVuSans-32\"/>\n      <use x=\"560.355469\" xlink:href=\"#DejaVuSans-68\"/>\n      <use x=\"637.357422\" xlink:href=\"#DejaVuSans-101\"/>\n      <use x=\"698.880859\" xlink:href=\"#DejaVuSans-110\"/>\n      <use x=\"762.259766\" xlink:href=\"#DejaVuSans-115\"/>\n      <use x=\"814.359375\" xlink:href=\"#DejaVuSans-105\"/>\n      <use x=\"842.142578\" xlink:href=\"#DejaVuSans-116\"/>\n      <use x=\"881.351562\" xlink:href=\"#DejaVuSans-121\"/>\n     </g>\n    </g>\n   </g>\n   <g id=\"line2d_39\">\n    <path clip-path=\"url(#p2c57fd7f17)\" d=\"M 69.283366 63.187613 \nL 145.246395 58.19979 \nL 195.281962 67.130916 \nL 262.495033 80.904717 \nL 287.337041 107.340216 \nL 308.61705 133.65166 \nL 327.229607 169.772059 \n\" style=\"fill:none;stroke:#1f77b4;stroke-linecap:square;stroke-width:1.5;\"/>\n    <defs>\n     <path d=\"M 0 1.5 \nC 0.397805 1.5 0.77937 1.341951 1.06066 1.06066 \nC 1.341951 0.77937 1.5 0.397805 1.5 0 \nC 1.5 -0.397805 1.341951 -0.77937 1.06066 -1.06066 \nC 0.77937 -1.341951 0.397805 -1.5 0 -1.5 \nC -0.397805 -1.5 -0.77937 -1.341951 -1.06066 -1.06066 \nC -1.341951 -0.77937 -1.5 -0.397805 -1.5 0 \nC -1.5 0.397805 -1.341951 0.77937 -1.06066 1.06066 \nC -0.77937 1.341951 -0.397805 1.5 0 1.5 \nz\n\" id=\"m93c74e7798\" style=\"stroke:#1f77b4;\"/>\n    </defs>\n    <g clip-path=\"url(#p2c57fd7f17)\">\n     <use style=\"fill:#1f77b4;stroke:#1f77b4;\" x=\"69.283366\" xlink:href=\"#m93c74e7798\" y=\"63.187613\"/>\n     <use style=\"fill:#1f77b4;stroke:#1f77b4;\" x=\"145.246395\" xlink:href=\"#m93c74e7798\" y=\"58.19979\"/>\n     <use style=\"fill:#1f77b4;stroke:#1f77b4;\" x=\"195.281962\" xlink:href=\"#m93c74e7798\" y=\"67.130916\"/>\n     <use style=\"fill:#1f77b4;stroke:#1f77b4;\" x=\"262.495033\" xlink:href=\"#m93c74e7798\" y=\"80.904717\"/>\n     <use style=\"fill:#1f77b4;stroke:#1f77b4;\" x=\"287.337041\" xlink:href=\"#m93c74e7798\" y=\"107.340216\"/>\n     <use style=\"fill:#1f77b4;stroke:#1f77b4;\" x=\"308.61705\" xlink:href=\"#m93c74e7798\" y=\"133.65166\"/>\n     <use style=\"fill:#1f77b4;stroke:#1f77b4;\" x=\"327.229607\" xlink:href=\"#m93c74e7798\" y=\"169.772059\"/>\n    </g>\n   </g>\n   <g id=\"line2d_40\">\n    <path clip-path=\"url(#p2c57fd7f17)\" d=\"M 66.596307 32.201761 \nL 142.687216 43.434521 \nL 218.778125 68.586229 \nL 256.82358 90.470321 \nL 294.869034 125.016111 \nL 332.914489 150.636839 \nL 370.959943 229.874489 \n\" style=\"fill:none;stroke:#ff7f0e;stroke-linecap:square;stroke-width:1.5;\"/>\n    <defs>\n     <path d=\"M 0 1.5 \nC 0.397805 1.5 0.77937 1.341951 1.06066 1.06066 \nC 1.341951 0.77937 1.5 0.397805 1.5 0 \nC 1.5 -0.397805 1.341951 -0.77937 1.06066 -1.06066 \nC 0.77937 -1.341951 0.397805 -1.5 0 -1.5 \nC -0.397805 -1.5 -0.77937 -1.341951 -1.06066 -1.06066 \nC -1.341951 -0.77937 -1.5 -0.397805 -1.5 0 \nC -1.5 0.397805 -1.341951 0.77937 -1.06066 1.06066 \nC -0.77937 1.341951 -0.397805 1.5 0 1.5 \nz\n\" id=\"md3d121d993\" style=\"stroke:#ff7f0e;\"/>\n    </defs>\n    <g clip-path=\"url(#p2c57fd7f17)\">\n     <use style=\"fill:#ff7f0e;stroke:#ff7f0e;\" x=\"66.596307\" xlink:href=\"#md3d121d993\" y=\"32.201761\"/>\n     <use style=\"fill:#ff7f0e;stroke:#ff7f0e;\" x=\"142.687216\" xlink:href=\"#md3d121d993\" y=\"43.434521\"/>\n     <use style=\"fill:#ff7f0e;stroke:#ff7f0e;\" x=\"218.778125\" xlink:href=\"#md3d121d993\" y=\"68.586229\"/>\n     <use style=\"fill:#ff7f0e;stroke:#ff7f0e;\" x=\"256.82358\" xlink:href=\"#md3d121d993\" y=\"90.470321\"/>\n     <use style=\"fill:#ff7f0e;stroke:#ff7f0e;\" x=\"294.869034\" xlink:href=\"#md3d121d993\" y=\"125.016111\"/>\n     <use style=\"fill:#ff7f0e;stroke:#ff7f0e;\" x=\"332.914489\" xlink:href=\"#md3d121d993\" y=\"150.636839\"/>\n     <use style=\"fill:#ff7f0e;stroke:#ff7f0e;\" x=\"370.959943\" xlink:href=\"#md3d121d993\" y=\"229.874489\"/>\n    </g>\n   </g>\n   <g id=\"patch_3\">\n    <path d=\"M 51.378125 239.758125 \nL 51.378125 22.318125 \n\" style=\"fill:none;stroke:#000000;stroke-linecap:square;stroke-linejoin:miter;stroke-width:0.8;\"/>\n   </g>\n   <g id=\"patch_4\">\n    <path d=\"M 386.178125 239.758125 \nL 386.178125 22.318125 \n\" style=\"fill:none;stroke:#000000;stroke-linecap:square;stroke-linejoin:miter;stroke-width:0.8;\"/>\n   </g>\n   <g id=\"patch_5\">\n    <path d=\"M 51.378125 239.758125 \nL 386.178125 239.758125 \n\" style=\"fill:none;stroke:#000000;stroke-linecap:square;stroke-linejoin:miter;stroke-width:0.8;\"/>\n   </g>\n   <g id=\"patch_6\">\n    <path d=\"M 51.378125 22.318125 \nL 386.178125 22.318125 \n\" style=\"fill:none;stroke:#000000;stroke-linecap:square;stroke-linejoin:miter;stroke-width:0.8;\"/>\n   </g>\n   <g id=\"text_10\">\n    <!-- Distribution of lifespans -->\n    <g transform=\"translate(147.500938 16.318125)scale(0.12 -0.12)\">\n     <defs>\n      <path d=\"M 8.5 21.578125 \nL 8.5 54.6875 \nL 17.484375 54.6875 \nL 17.484375 21.921875 \nQ 17.484375 14.15625 20.5 10.265625 \nQ 23.53125 6.390625 29.59375 6.390625 \nQ 36.859375 6.390625 41.078125 11.03125 \nQ 45.3125 15.671875 45.3125 23.6875 \nL 45.3125 54.6875 \nL 54.296875 54.6875 \nL 54.296875 0 \nL 45.3125 0 \nL 45.3125 8.40625 \nQ 42.046875 3.421875 37.71875 1 \nQ 33.40625 -1.421875 27.6875 -1.421875 \nQ 18.265625 -1.421875 13.375 4.4375 \nQ 8.5 10.296875 8.5 21.578125 \nz\nM 31.109375 56 \nz\n\" id=\"DejaVuSans-117\"/>\n      <path d=\"M 37.109375 75.984375 \nL 37.109375 68.5 \nL 28.515625 68.5 \nQ 23.6875 68.5 21.796875 66.546875 \nQ 19.921875 64.59375 19.921875 59.515625 \nL 19.921875 54.6875 \nL 34.71875 54.6875 \nL 34.71875 47.703125 \nL 19.921875 47.703125 \nL 19.921875 0 \nL 10.890625 0 \nL 10.890625 47.703125 \nL 2.296875 47.703125 \nL 2.296875 54.6875 \nL 10.890625 54.6875 \nL 10.890625 58.5 \nQ 10.890625 67.625 15.140625 71.796875 \nQ 19.390625 75.984375 28.609375 75.984375 \nz\n\" id=\"DejaVuSans-102\"/>\n      <path d=\"M 18.109375 8.203125 \nL 18.109375 -20.796875 \nL 9.078125 -20.796875 \nL 9.078125 54.6875 \nL 18.109375 54.6875 \nL 18.109375 46.390625 \nQ 20.953125 51.265625 25.265625 53.625 \nQ 29.59375 56 35.59375 56 \nQ 45.5625 56 51.78125 48.09375 \nQ 58.015625 40.1875 58.015625 27.296875 \nQ 58.015625 14.40625 51.78125 6.484375 \nQ 45.5625 -1.421875 35.59375 -1.421875 \nQ 29.59375 -1.421875 25.265625 0.953125 \nQ 20.953125 3.328125 18.109375 8.203125 \nz\nM 48.6875 27.296875 \nQ 48.6875 37.203125 44.609375 42.84375 \nQ 40.53125 48.484375 33.40625 48.484375 \nQ 26.265625 48.484375 22.1875 42.84375 \nQ 18.109375 37.203125 18.109375 27.296875 \nQ 18.109375 17.390625 22.1875 11.75 \nQ 26.265625 6.109375 33.40625 6.109375 \nQ 40.53125 6.109375 44.609375 11.75 \nQ 48.6875 17.390625 48.6875 27.296875 \nz\n\" id=\"DejaVuSans-112\"/>\n     </defs>\n     <use xlink:href=\"#DejaVuSans-68\"/>\n     <use x=\"77.001953\" xlink:href=\"#DejaVuSans-105\"/>\n     <use x=\"104.785156\" xlink:href=\"#DejaVuSans-115\"/>\n     <use x=\"156.884766\" xlink:href=\"#DejaVuSans-116\"/>\n     <use x=\"196.09375\" xlink:href=\"#DejaVuSans-114\"/>\n     <use x=\"237.207031\" xlink:href=\"#DejaVuSans-105\"/>\n     <use x=\"264.990234\" xlink:href=\"#DejaVuSans-98\"/>\n     <use x=\"328.466797\" xlink:href=\"#DejaVuSans-117\"/>\n     <use x=\"391.845703\" xlink:href=\"#DejaVuSans-116\"/>\n     <use x=\"431.054688\" xlink:href=\"#DejaVuSans-105\"/>\n     <use x=\"458.837891\" xlink:href=\"#DejaVuSans-111\"/>\n     <use x=\"520.019531\" xlink:href=\"#DejaVuSans-110\"/>\n     <use x=\"583.398438\" xlink:href=\"#DejaVuSans-32\"/>\n     <use x=\"615.185547\" xlink:href=\"#DejaVuSans-111\"/>\n     <use x=\"676.367188\" xlink:href=\"#DejaVuSans-102\"/>\n     <use x=\"711.572266\" xlink:href=\"#DejaVuSans-32\"/>\n     <use x=\"743.359375\" xlink:href=\"#DejaVuSans-108\"/>\n     <use x=\"771.142578\" xlink:href=\"#DejaVuSans-105\"/>\n     <use x=\"798.925781\" xlink:href=\"#DejaVuSans-102\"/>\n     <use x=\"834.130859\" xlink:href=\"#DejaVuSans-101\"/>\n     <use x=\"895.654297\" xlink:href=\"#DejaVuSans-115\"/>\n     <use x=\"947.753906\" xlink:href=\"#DejaVuSans-112\"/>\n     <use x=\"1011.230469\" xlink:href=\"#DejaVuSans-97\"/>\n     <use x=\"1072.509766\" xlink:href=\"#DejaVuSans-110\"/>\n     <use x=\"1135.888672\" xlink:href=\"#DejaVuSans-115\"/>\n    </g>\n   </g>\n   <g id=\"legend_1\">\n    <g id=\"patch_7\">\n     <path d=\"M 275.142188 59.674375 \nL 379.178125 59.674375 \nQ 381.178125 59.674375 381.178125 57.674375 \nL 381.178125 29.318125 \nQ 381.178125 27.318125 379.178125 27.318125 \nL 275.142188 27.318125 \nQ 273.142188 27.318125 273.142188 29.318125 \nL 273.142188 57.674375 \nQ 273.142188 59.674375 275.142188 59.674375 \nz\n\" style=\"fill:#ffffff;opacity:0.8;stroke:#cccccc;stroke-linejoin:miter;\"/>\n    </g>\n    <g id=\"line2d_41\">\n     <path d=\"M 277.142188 35.416562 \nL 297.142188 35.416562 \n\" style=\"fill:none;stroke:#1f77b4;stroke-linecap:square;stroke-width:1.5;\"/>\n    </g>\n    <g id=\"line2d_42\">\n     <g>\n      <use style=\"fill:#1f77b4;stroke:#1f77b4;\" x=\"287.142188\" xlink:href=\"#m93c74e7798\" y=\"35.416562\"/>\n     </g>\n    </g>\n    <g id=\"text_11\">\n     <!-- Linear Binning -->\n     <g transform=\"translate(305.142188 38.916562)scale(0.1 -0.1)\">\n      <defs>\n       <path d=\"M 9.8125 72.90625 \nL 19.671875 72.90625 \nL 19.671875 8.296875 \nL 55.171875 8.296875 \nL 55.171875 0 \nL 9.8125 0 \nz\n\" id=\"DejaVuSans-76\"/>\n       <path d=\"M 19.671875 34.8125 \nL 19.671875 8.109375 \nL 35.5 8.109375 \nQ 43.453125 8.109375 47.28125 11.40625 \nQ 51.125 14.703125 51.125 21.484375 \nQ 51.125 28.328125 47.28125 31.5625 \nQ 43.453125 34.8125 35.5 34.8125 \nz\nM 19.671875 64.796875 \nL 19.671875 42.828125 \nL 34.28125 42.828125 \nQ 41.5 42.828125 45.03125 45.53125 \nQ 48.578125 48.25 48.578125 53.8125 \nQ 48.578125 59.328125 45.03125 62.0625 \nQ 41.5 64.796875 34.28125 64.796875 \nz\nM 9.8125 72.90625 \nL 35.015625 72.90625 \nQ 46.296875 72.90625 52.390625 68.21875 \nQ 58.5 63.53125 58.5 54.890625 \nQ 58.5 48.1875 55.375 44.234375 \nQ 52.25 40.28125 46.1875 39.3125 \nQ 53.46875 37.75 57.5 32.78125 \nQ 61.53125 27.828125 61.53125 20.40625 \nQ 61.53125 10.640625 54.890625 5.3125 \nQ 48.25 0 35.984375 0 \nL 9.8125 0 \nz\n\" id=\"DejaVuSans-66\"/>\n      </defs>\n      <use xlink:href=\"#DejaVuSans-76\"/>\n      <use x=\"55.712891\" xlink:href=\"#DejaVuSans-105\"/>\n      <use x=\"83.496094\" xlink:href=\"#DejaVuSans-110\"/>\n      <use x=\"146.875\" xlink:href=\"#DejaVuSans-101\"/>\n      <use x=\"208.398438\" xlink:href=\"#DejaVuSans-97\"/>\n      <use x=\"269.677734\" xlink:href=\"#DejaVuSans-114\"/>\n      <use x=\"310.791016\" xlink:href=\"#DejaVuSans-32\"/>\n      <use x=\"342.578125\" xlink:href=\"#DejaVuSans-66\"/>\n      <use x=\"411.181641\" xlink:href=\"#DejaVuSans-105\"/>\n      <use x=\"438.964844\" xlink:href=\"#DejaVuSans-110\"/>\n      <use x=\"502.34375\" xlink:href=\"#DejaVuSans-110\"/>\n      <use x=\"565.722656\" xlink:href=\"#DejaVuSans-105\"/>\n      <use x=\"593.505859\" xlink:href=\"#DejaVuSans-110\"/>\n      <use x=\"656.884766\" xlink:href=\"#DejaVuSans-103\"/>\n     </g>\n    </g>\n    <g id=\"line2d_43\">\n     <path d=\"M 277.142188 50.094687 \nL 297.142188 50.094687 \n\" style=\"fill:none;stroke:#ff7f0e;stroke-linecap:square;stroke-width:1.5;\"/>\n    </g>\n    <g id=\"line2d_44\">\n     <g>\n      <use style=\"fill:#ff7f0e;stroke:#ff7f0e;\" x=\"287.142188\" xlink:href=\"#md3d121d993\" y=\"50.094687\"/>\n     </g>\n    </g>\n    <g id=\"text_12\">\n     <!-- Log Binning -->\n     <g transform=\"translate(305.142188 53.594687)scale(0.1 -0.1)\">\n      <use xlink:href=\"#DejaVuSans-76\"/>\n      <use x=\"53.962891\" xlink:href=\"#DejaVuSans-111\"/>\n      <use x=\"115.144531\" xlink:href=\"#DejaVuSans-103\"/>\n      <use x=\"178.621094\" xlink:href=\"#DejaVuSans-32\"/>\n      <use x=\"210.408203\" xlink:href=\"#DejaVuSans-66\"/>\n      <use x=\"279.011719\" xlink:href=\"#DejaVuSans-105\"/>\n      <use x=\"306.794922\" xlink:href=\"#DejaVuSans-110\"/>\n      <use x=\"370.173828\" xlink:href=\"#DejaVuSans-110\"/>\n      <use x=\"433.552734\" xlink:href=\"#DejaVuSans-105\"/>\n      <use x=\"461.335938\" xlink:href=\"#DejaVuSans-110\"/>\n      <use x=\"524.714844\" xlink:href=\"#DejaVuSans-103\"/>\n     </g>\n    </g>\n   </g>\n  </g>\n </g>\n <defs>\n  <clipPath id=\"p2c57fd7f17\">\n   <rect height=\"217.44\" width=\"334.8\" x=\"51.378125\" y=\"22.318125\"/>\n  </clipPath>\n </defs>\n</svg>\n",
      "image/png": "[encoded data removed]"
     },
     "metadata": {
      "needs_background": "light"
     }
    }
   ]
  },
  {
   "source": [
    "> * Comment the figure. What are the differences between the two distributions? Why did I ask you to use two different types of binning? "
   ],
   "cell_type": "markdown",
   "metadata": {}
  },
  {
   "source": [
    "TODO"
   ],
   "cell_type": "markdown",
   "metadata": {}
  },
  {
   "source": [
    "> * What is the average degree of the random and the real network? Comment on the relation between the two. \n",
    ">"
   ],
   "cell_type": "markdown",
   "metadata": {}
  },
  {
   "cell_type": "code",
   "execution_count": 18,
   "metadata": {},
   "outputs": [],
   "source": [
    "def P(L,N):\n",
    "    return (2*L)/(N*(N-1))\n",
    "\n",
    "def K(p,N):\n",
    "    return p*(N-1)"
   ]
  },
  {
   "cell_type": "code",
   "execution_count": 19,
   "metadata": {},
   "outputs": [
    {
     "output_type": "stream",
     "name": "stdout",
     "text": [
      "Real Network\np: 0.0003726751945160055\nk: 2.444749276024996\n\nRandom Network\np: 0.00037169936171241\nk: 2.4383478128334097\n"
     ]
    }
   ],
   "source": [
    "#real network\n",
    "print(f'Real Network')\n",
    "print(f'p: {p}')\n",
    "print(f'k: {k}')\n",
    "\n",
    "Nr = len(rnd_G.nodes)\n",
    "Lr = len(rnd_G.edges)\n",
    "pr = P(Lr, Nr)\n",
    "kr = K(pr, Nr)\n",
    "\n",
    "print('\\nRandom Network')\n",
    "print(f'p: {pr}')\n",
    "print(f'k: {kr}')"
   ]
  },
  {
   "cell_type": "code",
   "execution_count": 20,
   "metadata": {},
   "outputs": [
    {
     "output_type": "stream",
     "name": "stdout",
     "text": [
      "Real Reciprocal Network\nAverage degree: 2.444749276024996\nReal Reciprocal Network\nAverage degree: 2.4383478128334097\n"
     ]
    }
   ],
   "source": [
    "#real network\n",
    "avg_degree = sum([d for n,d in reciprocal_G.degree])/len(reciprocal_G.nodes)\n",
    "print('Real Reciprocal Network')\n",
    "print(f'Average degree: {avg_degree}')\n",
    "\n",
    "#random network\n",
    "rnd_avg_degree = sum([d for n,d in rnd_G.degree])/len(rnd_G.nodes)\n",
    "print('Real Reciprocal Network')\n",
    "print(f'Average degree: {rnd_avg_degree}')"
   ]
  },
  {
   "source": [
    "Average degree is pretty much the same for each network.\n",
    "It could mean, that the average degree, i.e. the amount of other users a user interacts with, can be accounted for by randomness."
   ],
   "cell_type": "markdown",
   "metadata": {}
  },
  {
   "source": [
    "> 2.3 _Shortest Paths_: Here, we will check if the Redditors Network is a small-world Network."
   ],
   "cell_type": "markdown",
   "metadata": {}
  },
  {
   "source": [
    "> * Compute the average shortest path for the largest connected component of the Redditors network (for a reminder of the definition of connected components, check [section 2.9 of the Network Science book](http://networksciencebook.com/chapter/2#connectedness)). You can use the following steps: \n",
    ">    * Use [``nx.algorithms.connected_components``](https://networkx.org/documentation/stable//reference/algorithms/generated/networkx.algorithms.components.connected_components.html) to find all connected components (it returns a list of subsets of the original set of nodes). \n",
    ">    * Consider the largest subset of nodes found in the step above. Build the subgraph of your original network containing those nodes exclusively, using [``nx.Graph.subgraph``](https://networkx.org/documentation/stable/reference/classes/generated/networkx.Graph.subgraph.html). This corresponds to your largest connected component (a.k.a [giant component](https://en.wikipedia.org/wiki/Giant_component)).\n",
    ">"
   ],
   "cell_type": "markdown",
   "metadata": {}
  },
  {
   "cell_type": "code",
   "execution_count": 50,
   "metadata": {},
   "outputs": [],
   "source": [
    "import networkx as nx\n",
    "\n",
    "components = list(nx.algorithms.connected_components(reciprocal_G))\n",
    "giant_component = max(nx.connected_components(reciprocal_G), key=len)\n",
    "giant_component = reciprocal_G.subgraph(giant_component)"
   ]
  },
  {
   "source": [
    "> * Compute the average shortest path length of the giant component using [``nx.average_shortest_path_length``](https://networkx.org/documentation/networkx-1.3/reference/generated/networkx.average_shortest_path_length.html)\n"
   ],
   "cell_type": "markdown",
   "metadata": {}
  },
  {
   "cell_type": "code",
   "execution_count": 51,
   "metadata": {},
   "outputs": [
    {
     "output_type": "execute_result",
     "data": {
      "text/plain": [
       "5.56651001498743"
      ]
     },
     "metadata": {},
     "execution_count": 51
    }
   ],
   "source": [
    "nx.average_shortest_path_length(giant_component)"
   ]
  },
  {
   "source": [
    "> * Compute the average shortest path length for the giant component of the random network you built in exercise 2.1."
   ],
   "cell_type": "markdown",
   "metadata": {}
  },
  {
   "cell_type": "code",
   "execution_count": 140,
   "metadata": {},
   "outputs": [
    {
     "output_type": "execute_result",
     "data": {
      "text/plain": [
       "9.53991461530288"
      ]
     },
     "metadata": {},
     "execution_count": 140
    }
   ],
   "source": [
    "rnd_components = list(nx.algorithms.connected_components(rnd_G))\n",
    "rnd_giant_component =  max(nx.connected_components(rnd_G), key=len)\n",
    "rnd_giant_component = rnd_G.subgraph(rnd_giant_component)\n",
    "nx.average_shortest_path_length(rnd_giant_component)"
   ]
  },
  {
   "source": [
    "> * Comment on the relation between the average shortest path length in the real and the random networks. Can you conclude that the small-world property apply to the Redditors network? "
   ],
   "cell_type": "markdown",
   "metadata": {}
  },
  {
   "source": [
    "The average shortest path for the reciprocal Reddit network is around 5.5, so close to that of 6, which is what the small-world (six degrees of separation) property suggests. So yes, the small-world property apply to the Reddit network.\n",
    "\n",
    "In the random network, the average shortest path is a lot bigger than 6, so the small-world property does not apply here."
   ],
   "cell_type": "markdown",
   "metadata": {}
  },
  {
   "source": [
    "> 2.4 _Clustering_: Here, we will compare the clustering coefficient in the Redditors Network and its random counterpart.\n",
    "> * Compute the clustering coefficient for all nodes in the random network, using networkx [``clustering``](https://networkx.org/documentation/stable/reference/algorithms/generated/networkx.algorithms.cluster.clustering.html#networkx.algorithms.cluster.clustering) function. Compute the average across nodes. Is it consistent with the analytical prediction (network science book equation 3.21)?\n",
    "> * Compute the average clustering coefficient for the Redditors network. How does it compare to its random counterpart? Is it something you would expect? Why?\n",
    "\n",
    "\n",
    "<img src=\"https://github.com/lalessan/comsocsci2021/raw/master/files/random_network.png\" alt=\"Drawing\" style=\"width: 800px;\"/>"
   ],
   "cell_type": "markdown",
   "metadata": {}
  },
  {
   "cell_type": "code",
   "execution_count": 29,
   "metadata": {},
   "outputs": [
    {
     "output_type": "execute_result",
     "data": {
      "text/plain": [
       "0.00023080105384632132"
      ]
     },
     "metadata": {},
     "execution_count": 29
    }
   ],
   "source": [
    "clustering_coef_all_nodes = nx.clustering(rnd_G)\n",
    "avg_clust_coef_all_nodes = nx.average_clustering(rnd_G)\n",
    "avg_clust_coef_all_nodes"
   ]
  },
  {
   "cell_type": "code",
   "execution_count": 30,
   "metadata": {},
   "outputs": [
    {
     "output_type": "execute_result",
     "data": {
      "text/plain": [
       "0.0003716427088604496"
      ]
     },
     "metadata": {},
     "execution_count": 30
    }
   ],
   "source": [
    "kr/Nr"
   ]
  },
  {
   "source": [
    "It's pretty close"
   ],
   "cell_type": "markdown",
   "metadata": {}
  },
  {
   "cell_type": "code",
   "execution_count": 31,
   "metadata": {},
   "outputs": [
    {
     "output_type": "execute_result",
     "data": {
      "text/plain": [
       "0.012414133067246095"
      ]
     },
     "metadata": {},
     "execution_count": 31
    }
   ],
   "source": [
    "nx.average_clustering(reciprocal_G)"
   ]
  },
  {
   "source": [
    "Much higher which is also expected since it's a real network, as announced in the book (box 3.9)"
   ],
   "cell_type": "markdown",
   "metadata": {}
  },
  {
   "cell_type": "code",
   "execution_count": null,
   "metadata": {},
   "outputs": [],
   "source": []
  }
 ],
 "metadata": {
  "kernelspec": {
   "display_name": "Python 3",
   "language": "python",
   "name": "python3"
  },
  "language_info": {
   "codemirror_mode": {
    "name": "ipython",
    "version": 3
   },
   "file_extension": ".py",
   "mimetype": "text/x-python",
   "name": "python",
   "nbconvert_exporter": "python",
   "pygments_lexer": "ipython3",
   "version": "3.9.1-final"
  }
 },
 "nbformat": 4,
 "nbformat_minor": 4
}