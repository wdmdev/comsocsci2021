{
 "cells": [
  {
   "cell_type": "markdown",
   "metadata": {},
   "source": [
    "# Overview\n",
    "\n",
    "This week we'll talk about some of the charachteristics of real-world social networks. The structure is the following: \n",
    "\n",
    "* Part 1: A crash course on real-world social networks.\n",
    "* Part 2: Visualizing the network of Redditors\n",
    "* Part 3: Properties of the real-world network of Redditors\n",
    "\n",
    "\n",
    "> *Reading*: Read [Chapter 3 of the Network Science book.](http://networksciencebook.com/chapter/3). The most important sections are 3.1 to 3.4 and 3.8 to 3.10, so focus on that."
   ]
  },
  {
   "cell_type": "markdown",
   "metadata": {},
   "source": [
    "# Part 1 : Empirical properties of real-world social networks"
   ]
  },
  {
   "cell_type": "markdown",
   "metadata": {},
   "source": [
    "Researchers in Computational Social Science have widely studied the properties of real-world social networks. The very cool thing they found is that many widely different social networks (from face-to-face interactions among classmates, to the Facebook network, to collaboration networks among scientists, etc) present some commonalities. We refer to those as 'Universalities'.\n",
    "In the video-lecture below, I will introduce _some_ of the things we know to be true for most real-world social networks. "
   ]
  },
  {
   "cell_type": "markdown",
   "metadata": {},
   "source": [
    ">> **_Video Lecture_**. Start by watching the [\"Properties of empirical social networks\"](https://youtu.be/jHdnehLku54). \n"
   ]
  },
  {
   "cell_type": "code",
   "execution_count": 1,
   "metadata": {},
   "outputs": [
    {
     "output_type": "execute_result",
     "data": {
      "text/plain": [
       "<IPython.lib.display.YouTubeVideo at 0x7fbe1c6a7f70>"
      ],
      "text/html": "\n        <iframe\n            width=\"800\"\n            height=\"450\"\n            src=\"https://www.youtube.com/embed/jHdnehLku54\"\n            frameborder=\"0\"\n            allowfullscreen\n        ></iframe>\n        ",
      "image/jpeg": "[encoded data removed]"
     },
     "metadata": {},
     "execution_count": 1
    }
   ],
   "source": [
    "from IPython.display import YouTubeVideo\n",
    "YouTubeVideo(\"jHdnehLku54\",width=800, height=450)"
   ]
  },
  {
   "cell_type": "markdown",
   "metadata": {},
   "source": [
    "> *Exercise 1:* Did you really read the text? Answer the following questions (no calculations needed) in your Jupyter notebook.\n",
    "\n",
    "> * What's the problem with random networks as a model for real-world networks according to the argument in section 3.5 (near the end)?\n",
    "    - If nodes are randomly connected to each other, we lack outliers. In cases like social networks we lack popular people or people who are left behind.\n",
    "\n",
    "> * List the four regimes that characterize random networks as a function of ⟨k⟩.\n",
    "    - subcritical regime, critical point, supercritical regime, connected regime\n",
    "    \n",
    "> * According to the book, why is it a problem for random networks (in terms of being a model for real-world networks that the degree-dependent clustering C(k) decreases as a function of k in real-world networks?\n",
    "    - Because it does not fit with random networks, where C(k) is independent of the degree"
   ]
  },
  {
   "cell_type": "markdown",
   "metadata": {},
   "source": [
    "# Part 2 : Visualizing the network of Redditors"
   ]
  },
  {
   "cell_type": "markdown",
   "metadata": {},
   "source": [
    "Take the network of redditors you built in Week3, Part 3. To get an idea about how the network looks like, we start visualizing it. For this exercise, we will use the __awesome library [``netwulf``](https://netwulf.readthedocs.io/en/latest/index.html)__ created by Ulf Aslak, a colleague of mine and former DTU PhD student. You can install it via ``pip install netwulf``. \n",
    "\n",
    "Netwulf is built on top of [d3-force](https://github.com/d3/d3-force), a Javascript library that simulates the dynamics of particles moving in 2D. In the visualization, particles correspond to network nodes subject to forces:\n",
    " * Nodes are attracted to the center of the viz \n",
    " * Nodes repel each other\n",
    " * Nodes linked by an edge will preferably stay at a fixed distance to each other.\n"
   ]
  },
  {
   "cell_type": "markdown",
   "metadata": {},
   "source": [
    "> _Exercise_ 1: Visualize the network of Redditors. "
   ]
  },
  {
   "cell_type": "code",
   "execution_count": 2,
   "metadata": {},
   "outputs": [],
   "source": [
    "import pandas as pd\n",
    "import matplotlib.pyplot as plt\n",
    "import numpy as np\n",
    "import networkx as nx\n",
    "import datetime\n",
    "\n",
    "def dateparse (time_in_secs):    \n",
    "    return datetime.datetime.fromtimestamp(float(time_in_secs))\n",
    "\n",
    "# load data\n",
    "comments = pd.read_csv('Data/wallstreetbets_comments.csv', parse_dates=['created_utc'], date_parser=dateparse)\n",
    "submissions = pd.read_csv(\"Data/wallstreetbets_submissions.csv\", parse_dates = [\"created_utc\"], date_parser=dateparse)"
   ]
  },
  {
   "cell_type": "code",
   "execution_count": 3,
   "metadata": {},
   "outputs": [
    {
     "output_type": "execute_result",
     "data": {
      "text/plain": [
       "        id  score         created_utc           author   parent_id  \\\n",
       "0  gkjkq9i     82 2021-01-24 13:06:31  skinfather11216   t3_l3y4mp   \n",
       "1  gkjkjmx      9 2021-01-24 13:05:44     DivingDeep21  t1_gkjja9s   \n",
       "2  gkjkiyd     28 2021-01-24 13:05:39   je_veux_sentir  t1_gkjjk3k   \n",
       "3  gkjkiki     18 2021-01-24 13:05:36       BlazingLeo  t1_gkjjk3k   \n",
       "4  gkjkdnm     11 2021-01-24 13:05:01  Anon-1400secret  t1_gkjjzr8   \n",
       "5  gkjkbg4     34 2021-01-24 13:04:45   je_veux_sentir  t1_gkjjcjj   \n",
       "6  gkjkax0      9 2021-01-24 13:04:42           bschug  t1_gkji91v   \n",
       "7  gkjk9ke     15 2021-01-24 13:04:32   WesternBenefit   t3_l3xmhk   \n",
       "8  gkjk6wp     13 2021-01-24 13:04:11   je_veux_sentir  t1_gkjja9s   \n",
       "9  gkjk6q0      1 2021-01-24 13:04:10        [deleted]   t3_l3vqn9   \n",
       "\n",
       "        created  \n",
       "0  1.611486e+09  \n",
       "1  1.611486e+09  \n",
       "2  1.611486e+09  \n",
       "3  1.611486e+09  \n",
       "4  1.611486e+09  \n",
       "5  1.611486e+09  \n",
       "6  1.611486e+09  \n",
       "7  1.611486e+09  \n",
       "8  1.611486e+09  \n",
       "9  1.611486e+09  "
      ],
      "text/html": "<div>\n<style scoped>\n    .dataframe tbody tr th:only-of-type {\n        vertical-align: middle;\n    }\n\n    .dataframe tbody tr th {\n        vertical-align: top;\n    }\n\n    .dataframe thead th {\n        text-align: right;\n    }\n</style>\n<table border=\"1\" class=\"dataframe\">\n  <thead>\n    <tr style=\"text-align: right;\">\n      <th></th>\n      <th>id</th>\n      <th>score</th>\n      <th>created_utc</th>\n      <th>author</th>\n      <th>parent_id</th>\n      <th>created</th>\n    </tr>\n  </thead>\n  <tbody>\n    <tr>\n      <th>0</th>\n      <td>gkjkq9i</td>\n      <td>82</td>\n      <td>2021-01-24 13:06:31</td>\n      <td>skinfather11216</td>\n      <td>t3_l3y4mp</td>\n      <td>1.611486e+09</td>\n    </tr>\n    <tr>\n      <th>1</th>\n      <td>gkjkjmx</td>\n      <td>9</td>\n      <td>2021-01-24 13:05:44</td>\n      <td>DivingDeep21</td>\n      <td>t1_gkjja9s</td>\n      <td>1.611486e+09</td>\n    </tr>\n    <tr>\n      <th>2</th>\n      <td>gkjkiyd</td>\n      <td>28</td>\n      <td>2021-01-24 13:05:39</td>\n      <td>je_veux_sentir</td>\n      <td>t1_gkjjk3k</td>\n      <td>1.611486e+09</td>\n    </tr>\n    <tr>\n      <th>3</th>\n      <td>gkjkiki</td>\n      <td>18</td>\n      <td>2021-01-24 13:05:36</td>\n      <td>BlazingLeo</td>\n      <td>t1_gkjjk3k</td>\n      <td>1.611486e+09</td>\n    </tr>\n    <tr>\n      <th>4</th>\n      <td>gkjkdnm</td>\n      <td>11</td>\n      <td>2021-01-24 13:05:01</td>\n      <td>Anon-1400secret</td>\n      <td>t1_gkjjzr8</td>\n      <td>1.611486e+09</td>\n    </tr>\n    <tr>\n      <th>5</th>\n      <td>gkjkbg4</td>\n      <td>34</td>\n      <td>2021-01-24 13:04:45</td>\n      <td>je_veux_sentir</td>\n      <td>t1_gkjjcjj</td>\n      <td>1.611486e+09</td>\n    </tr>\n    <tr>\n      <th>6</th>\n      <td>gkjkax0</td>\n      <td>9</td>\n      <td>2021-01-24 13:04:42</td>\n      <td>bschug</td>\n      <td>t1_gkji91v</td>\n      <td>1.611486e+09</td>\n    </tr>\n    <tr>\n      <th>7</th>\n      <td>gkjk9ke</td>\n      <td>15</td>\n      <td>2021-01-24 13:04:32</td>\n      <td>WesternBenefit</td>\n      <td>t3_l3xmhk</td>\n      <td>1.611486e+09</td>\n    </tr>\n    <tr>\n      <th>8</th>\n      <td>gkjk6wp</td>\n      <td>13</td>\n      <td>2021-01-24 13:04:11</td>\n      <td>je_veux_sentir</td>\n      <td>t1_gkjja9s</td>\n      <td>1.611486e+09</td>\n    </tr>\n    <tr>\n      <th>9</th>\n      <td>gkjk6q0</td>\n      <td>1</td>\n      <td>2021-01-24 13:04:10</td>\n      <td>[deleted]</td>\n      <td>t3_l3vqn9</td>\n      <td>1.611486e+09</td>\n    </tr>\n  </tbody>\n</table>\n</div>"
     },
     "metadata": {},
     "execution_count": 3
    }
   ],
   "source": [
    "comments.head(10)"
   ]
  },
  {
   "cell_type": "code",
   "execution_count": 4,
   "metadata": {},
   "outputs": [],
   "source": [
    "# dictionaries\n",
    "comment_authors = dict(zip(comments[\"id\"], comments[\"author\"]))\n",
    "parent = dict(zip(comments[\"id\"], comments[\"parent_id\"]))\n",
    "submissions_authors = dict(zip(submissions[\"id\"], submissions[\"author\"]))\n",
    "\n",
    "# function for getting author of parent id\n",
    "def get_parent_author(comment_id):\n",
    "    parent_id = parent[comment_id]\n",
    "    t_parent_id = parent_id[:3]\n",
    "    parent_id = parent_id[3:]\n",
    "\n",
    "    try: \n",
    "        if t_parent_id == \"t1_\":\n",
    "                return comment_authors[parent_id]# if parent_id in comment_authors.keys else None\n",
    "        elif t_parent_id == \"t3_\":\n",
    "            return submissions_authors[parent_id]\n",
    "        else:\n",
    "            return -1\n",
    "    except KeyError:\n",
    "        return -1\n",
    "\n",
    "# create parent_author column in comments dataframe\n",
    "comments[\"parent_author\"] = list(map(get_parent_author, comments[\"id\"]))\n",
    "# remove unwanted authors\n",
    "comments = comments[comments.parent_author != -1] # remove rows with keyerror (around 14k rows)\n",
    "comments = comments[comments.created_utc <= \"2020-12-31\"] # remove comments from after 31/12-2020\n",
    "comments = comments[(comments.author != \"[deleted]\") & (comments.parent_author != \"[deleted]\")]# remove deleted users"
   ]
  },
  {
   "cell_type": "code",
   "execution_count": 5,
   "metadata": {},
   "outputs": [],
   "source": [
    "# build network\n",
    "\n",
    "#Create the weighted edge-list of your network\n",
    "comments_network = comments.groupby([\"author\", \"parent_author\"]).size()\n",
    "comments_network = comments_network.reset_index()\n",
    "comments_network.columns = [\"author\", \"parent_author\",\"weight\"]\n",
    "\n",
    "# create graph\n",
    "\n",
    "# \"A direct link going from node A to node B exists if A ever answered a submission or a comment by B\"\n",
    "G = nx.from_pandas_edgelist(comments_network, \"author\", \"parent_author\", \"weight\", create_using = nx.DiGraph()) # adds directed edges from parent_author to author"
   ]
  },
  {
   "cell_type": "markdown",
   "metadata": {},
   "source": [
    "> * For this and the following exercise, we will study the undirected graph of \"reciprocal\" edges. Reciprocal edges are such that each of the two authors forming the edge has replied to the other at least once. Build the reciprocal graph using the function [``to_undirected``](https://networkx.org/documentation/stable//reference/classes/generated/networkx.DiGraph.to_undirected.html)(set ``reciprocal=True``). Assign to each undirected edge a weight equal to the sum of the weights in the two corresponding directed edges. Remove self-loops (edges connecting a node to itself). Remove from the network all the nodes without connections. "
   ]
  },
  {
   "cell_type": "code",
   "execution_count": 6,
   "metadata": {
    "tags": []
   },
   "outputs": [],
   "source": [
    "reciprocal_G = G.to_undirected(reciprocal=True)\n",
    "#remove self-loops\n",
    "for edge in list(nx.selfloop_edges(reciprocal_G)):\n",
    "    reciprocal_G.remove_edge(edge[0], edge[1])\n",
    "#remove all nodes without connections\n",
    "reciprocal_G.remove_nodes_from(list(nx.isolates(reciprocal_G)))\n",
    "#assign edge weights\n",
    "G_weighted_edges = nx.get_edge_attributes(G, 'weight')\n",
    "\n",
    "for e in reciprocal_G.edges():\n",
    "    w = 0\n",
    "    e1 = (e[0], e[1])\n",
    "    e2 = (e[1], e[0])\n",
    "    if e1 in G_weighted_edges:\n",
    "        w += G_weighted_edges[(e[0],e[1])]\n",
    "    if e2 in G_weighted_edges:\n",
    "        w += G_weighted_edges[(e[1],e[0])]\n",
    "\n",
    "    G[e[0]][e[1]]['weight'] = w"
   ]
  },
  {
   "cell_type": "markdown",
   "metadata": {},
   "source": [
    "> * How many nodes are present in the reciprocal graph? How many edges? Which fraction of the original network nodes and edges they represent? How do you interpret this result?"
   ]
  },
  {
   "cell_type": "code",
   "execution_count": 7,
   "metadata": {},
   "outputs": [
    {
     "output_type": "stream",
     "name": "stdout",
     "text": [
      "Nodes: 6561\nEdges: 8020\nReciprocal node fraction of original: 0.2851368970013038\nReciprocal edge fraction of original: 0.1326123981017577\n"
     ]
    }
   ],
   "source": [
    "print(f'Nodes: {len(reciprocal_G.nodes)}')\n",
    "print(f'Edges: {len(reciprocal_G.edges)}')\n",
    "\n",
    "print(f'Reciprocal node fraction of original: {len(reciprocal_G.nodes)/len(G.nodes)}')\n",
    "print(f'Reciprocal edge fraction of original: {len(reciprocal_G.edges)/len(G.edges)}')"
   ]
  },
  {
   "cell_type": "markdown",
   "metadata": {},
   "source": [
    "Reciprocal node fration is 29%. This would mean that many users have not both posted and received comments.\n",
    "\n",
    "Reciprocal edge fration is around 13%. This would mean that the reciprocal graph has less edges. So, quite a few users have more than one edge to and from each other. \n",
    "\n",
    "All in all, it looks like there are quite a lot of users who gets no interactions with others and a smaller group of users who interacts quite a lot with each other."
   ]
  },
  {
   "cell_type": "markdown",
   "metadata": {},
   "source": [
    "> * Visualize the undirected graph you just created using the function [``visualize``](https://netwulf.readthedocs.io/en/latest/reference/interactive.html?highlight=visualize#netwulf.interactive.visualize) of the Netwulf package. \n"
   ]
  },
  {
   "cell_type": "code",
   "execution_count": 8,
   "metadata": {},
   "outputs": [
    {
     "output_type": "stream",
     "name": "stderr",
     "text": [
      "----------------------------------------\nException occurred during processing of request from ('127.0.0.1', 40028)\nTraceback (most recent call last):\n  File \"/home/williammarstrand/miniconda3/envs/com_social2021/lib/python3.9/http/server.py\", line 711, in send_head\n    f = open(path, 'rb')\nFileNotFoundError: [Errno 2] No such file or directory: '/home/williammarstrand/.netwulf/favicon.ico'\n\nDuring handling of the above exception, another exception occurred:\n\nTraceback (most recent call last):\n  File \"/home/williammarstrand/miniconda3/envs/com_social2021/lib/python3.9/socketserver.py\", line 316, in _handle_request_noblock\n    self.process_request(request, client_address)\n  File \"/home/williammarstrand/miniconda3/envs/com_social2021/lib/python3.9/socketserver.py\", line 347, in process_request\n    self.finish_request(request, client_address)\n  File \"/home/williammarstrand/miniconda3/envs/com_social2021/lib/python3.9/socketserver.py\", line 360, in finish_request\n    self.RequestHandlerClass(request, client_address, self)\n  File \"/home/williammarstrand/miniconda3/envs/com_social2021/lib/python3.9/http/server.py\", line 653, in __init__\n    super().__init__(*args, **kwargs)\n  File \"/home/williammarstrand/miniconda3/envs/com_social2021/lib/python3.9/socketserver.py\", line 720, in __init__\n    self.handle()\n  File \"/home/williammarstrand/miniconda3/envs/com_social2021/lib/python3.9/http/server.py\", line 427, in handle\n    self.handle_one_request()\n  File \"/home/williammarstrand/miniconda3/envs/com_social2021/lib/python3.9/http/server.py\", line 415, in handle_one_request\n    method()\n  File \"/home/williammarstrand/miniconda3/envs/com_social2021/lib/python3.9/http/server.py\", line 657, in do_GET\n    f = self.send_head()\n  File \"/home/williammarstrand/miniconda3/envs/com_social2021/lib/python3.9/http/server.py\", line 713, in send_head\n    self.send_error(HTTPStatus.NOT_FOUND, \"File not found\")\n  File \"/home/williammarstrand/miniconda3/envs/com_social2021/lib/python3.9/http/server.py\", line 482, in send_error\n    self.wfile.write(body)\n  File \"/home/williammarstrand/miniconda3/envs/com_social2021/lib/python3.9/socketserver.py\", line 799, in write\n    self._sock.sendall(b)\nBrokenPipeError: [Errno 32] Broken pipe\n----------------------------------------\n"
     ]
    },
    {
     "output_type": "execute_result",
     "data": {
      "text/plain": [
       "': '#79aaa0'},\n",
       "   {'id': 'RealTwinLeaf',\n",
       "    'x': 832.4969517693639,\n",
       "    'y': 664.6004664187525,\n",
       "    'x_canvas': 832.4969517693639,\n",
       "    'y_canvas': 664.6004664187525,\n",
       "    'radius': 5,\n",
       "    'color': '#79aaa0'},\n",
       "   {'id': 'Redmine23',\n",
       "    'x': 274.7741836667688,\n",
       "    'y': 368.0226774173492,\n",
       "    'x_canvas': 274.7741836667688,\n",
       "    'y_canvas': 368.02267741734926,\n",
       "    'radius': 5,\n",
       "    'color': '#79aaa0'},\n",
       "   {'id': 'Robinhood_Trader',\n",
       "    'x': 799.2671478647717,\n",
       "    'y': 617.6774313530613,\n",
       "    'x_canvas': 799.2671478647717,\n",
       "    'y_canvas': 617.6774313530613,\n",
       "    'radius': 5,\n",
       "    'color': '#79aaa0'},\n",
       "   {'id': 'Rrrrandle',\n",
       "    'x': -221.89282962997243,\n",
       "    'y': 1132.5556314459352,\n",
       "    'x_canvas': -221.89282962997243,\n",
       "    'y_canvas': 1132.5556314459352,\n",
       "    'radius': 5,\n",
       "    'color': '#79aaa0'},\n",
       "   {'id': 'Rubu_',\n",
       "    'x': 1125.9343719196138,\n",
       "    'y': 371.1178252578169,\n",
       "    'x_canvas': 1125.9343719196138,\n",
       "    'y_canvas': 371.1178252578169,\n",
       "    'radius': 5,\n",
       "    'color': '#79aaa0'},\n",
       "   {'id': 'RuneChicken45',\n",
       "    'x': 343.36735259964445,\n",
       "    'y': 418.6327928114313,\n",
       "    'x_canvas': 343.36735259964445,\n",
       "    'y_canvas': 418.6327928114313,\n",
       "    'radius': 5,\n",
       "    'color': '#79aaa0'},\n",
       "   {'id': 'SPYTANKINGSEPTEMBER',\n",
       "    'x': 390.7869916764771,\n",
       "    'y': 882.8640256958348,\n",
       "    'x_canvas': 390.7869916764771,\n",
       "    'y_canvas': 882.8640256958348,\n",
       "    'radius': 5,\n",
       "    'color': '#79aaa0'},\n",
       "   {'id': 'Sakrie',\n",
       "    'x': 508.72327047322324,\n",
       "    'y': -42.40758395395027,\n",
       "    'x_canvas': 508.72327047322324,\n",
       "    'y_canvas': -42.40758395395027,\n",
       "    'radius': 5,\n",
       "    'color': '#79aaa0'},\n",
       "   {'id': 'SamsquatchWildman',\n",
       "    'x': 341.1770794771262,\n",
       "    'y': 454.6249770583416,\n",
       "    'x_canvas': 341.1770794771262,\n",
       "    'y_canvas': 454.6249770583416,\n",
       "    'radius': 5,\n",
       "    'color': '#79aaa0'},\n",
       "   {'id': 'Schlongus69',\n",
       "    'x': 679.5474563505327,\n",
       "    'y': 112.62605683207178,\n",
       "    'x_canvas': 679.5474563505327,\n",
       "    'y_canvas': 112.62605683207178,\n",
       "    'radius': 5,\n",
       "    'color': '#79aaa0'},\n",
       "   {'id': 'Screwyball',\n",
       "    'x': 223.78357658433563,\n",
       "    'y': -92.13433068318204,\n",
       "    'x_canvas': 223.78357658433563,\n",
       "    'y_canvas': -92.13433068318204,\n",
       "    'radius': 5,\n",
       "    'color': '#79aaa0'},\n",
       "   {'id': 'SenHeffy',\n",
       "    'x': -25.414941620859494,\n",
       "    'y': 516.0971246603514,\n",
       "    'x_canvas': -25.414941620859494,\n",
       "    'y_canvas': 516.0971246603514,\n",
       "    'radius': 5,\n",
       "    'color': '#79aaa0'},\n",
       "   {'id': 'Sharptire',\n",
       "    'x': -132.57736908147274,\n",
       "    'y': 388.1387060936232,\n",
       "    'x_canvas': -132.57736908147274,\n",
       "    'y_canvas': 388.1387060936232,\n",
       "    'radius': 5,\n",
       "    'color': '#79aaa0'},\n",
       "   {'id': 'Ski_g',\n",
       "    'x': 413.65760547991454,\n",
       "    'y': 641.583103450694,\n",
       "    'x_canvas': 413.65760547991454,\n",
       "    'y_canvas': 641.583103450694,\n",
       "    'radius': 5,\n",
       "    'color': '#79aaa0'},\n",
       "   {'id': 'SkyBisonPilot',\n",
       "    'x': 362.3010322108982,\n",
       "    'y': 1031.487185896643,\n",
       "    'x_canvas': 362.3010322108982,\n",
       "    'y_canvas': 1031.487185896643,\n",
       "    'radius': 5,\n",
       "    'color': '#79aaa0'},\n",
       "   {'id': 'SnooLobsters185',\n",
       "    'x': -153.73401863605488,\n",
       "    'y': 244.2129443690994,\n",
       "    'x_canvas': -153.73401863605488,\n",
       "    'y_canvas': 244.2129443690994,\n",
       "    'radius': 5,\n",
       "    'color': '#79aaa0'},\n",
       "   {'id': 'SnooRegrets8671',\n",
       "    'x': -283.70180597024654,\n",
       "    'y': 1100.6588223282142,\n",
       "    'x_canvas': -283.70180597024654,\n",
       "    'y_canvas': 1100.6588223282142,\n",
       "    'radius': 5,\n",
       "    'color': '#79aaa0'},\n",
       "   {'id': 'Softspokenclark',\n",
       "    'x': -141.70673687623383,\n",
       "    'y': 588.5343756599402,\n",
       "    'x_canvas': -141.70673687623383,\n",
       "    'y_canvas': 588.5343756599402,\n",
       "    'radius': 5,\n",
       "    'color': '#79aaa0'},\n",
       "   {'id': 'Squall2201',\n",
       "    'x': 791.2913356061515,\n",
       "    'y': 528.7510828231063,\n",
       "    'x_canvas': 791.2913356061515,\n",
       "    'y_canvas': 528.7510828231063,\n",
       "    'radius': 5,\n",
       "    'color': '#79aaa0'},\n",
       "   {'id': 'TESLAN8',\n",
       "    'x': 270.1393119287398,\n",
       "    'y': 417.9577261507859,\n",
       "    'x_canvas': 270.1393119287398,\n",
       "    'y_canvas': 417.9577261507859,\n",
       "    'radius': 5,\n",
       "    'color': '#79aaa0'},\n",
       "   {'id': 'TajPereira',\n",
       "    'x': 302.8755160577731,\n",
       "    'y': 327.69224316785505,\n",
       "    'x_canvas': 302.8755160577731,\n",
       "    'y_canvas': 327.69224316785505,\n",
       "    'radius': 5,\n",
       "    'color': '#79aaa0'},\n",
       "   {'id': 'ThatKarmaWhore',\n",
       "    'x': -145.16372450809445,\n",
       "    'y': 14.148303288350732,\n",
       "    'x_canvas': -145.16372450809445,\n",
       "    'y_canvas': 14.148303288350732,\n",
       "    'radius': 5,\n",
       "    'color': '#79aaa0'},\n",
       "   {'id': 'ThePatchyman',\n",
       "    'x': 266.9371857258077,\n",
       "    'y': 362.63657495343614,\n",
       "    'x_canvas': 266.9371857258077,\n",
       "    'y_canvas': 362.63657495343614,\n",
       "    'radius': 5,\n",
       "    'color': '#79aaa0'},\n",
       "   {'id': 'TheSuperlativ',\n",
       "    'x': 993.9253663855575,\n",
       "    'y': 577.1998882021744,\n",
       "    'x_canvas': 993.9253663855575,\n",
       "    'y_canvas': 577.1998882021744,\n",
       "    'radius': 5,\n",
       "    'color': '#79aaa0'},\n",
       "   {'id': 'TherapyThrowawayC',\n",
       "    'x': 726.2155464816788,\n",
       "    'y': 1725.8947188376903,\n",
       "    'x_canvas': 726.2155464816788,\n",
       "    'y_canvas': 1725.8947188376903,\n",
       "    'radius': 5,\n",
       "    'color': '#79aaa0'},\n",
       "   {'id': 'Thestoicoracle',\n",
       "    'x': 307.19213488382917,\n",
       "    'y': -467.5207291100757,\n",
       "    'x_canvas': 307.19213488382917,\n",
       "    'y_canvas': -467.5207291100757,\n",
       "    'radius': 5,\n",
       "    'color': '#79aaa0'},\n",
       "   {'id': 'TrueNorth617',\n",
       "    'x': -201.8434669922026,\n",
       "    'y': 630.5688132327779,\n",
       "    'x_canvas': -201.8434669922026,\n",
       "    'y_canvas': 630.5688132327779,\n",
       "    'radius': 5,\n",
       "    'color': '#79aaa0'},\n",
       "   {'id': 'UpSideofDown',\n",
       "    'x': -346.2354956968895,\n",
       "    'y': 370.63851320794316,\n",
       "    'x_canvas': -346.2354956968895,\n",
       "    'y_canvas': 370.63851320794316,\n",
       "    'radius': 5,\n",
       "    'color': '#79aaa0'},\n",
       "   {'id': 'Usernameuser-name',\n",
       "    'x': 352.3730335282987,\n",
       "    'y': 323.41342698773906,\n",
       "    'x_canvas': 352.3730335282987,\n",
       "    'y_canvas': 323.41342698773906,\n",
       "    'radius': 5,\n",
       "    'color': '#79aaa0'},\n",
       "   {'id': 'VapesOnAPlane',\n",
       "    'x': 522.1705759511785,\n",
       "    'y': 1088.6704477925753,\n",
       "    'x_canvas': 522.1705759511785,\n",
       "    'y_canvas': 1088.6704477925753,\n",
       "    'radius': 5,\n",
       "    'color': '#79aaa0'},\n",
       "   {'id': 'WHSKYJCK',\n",
       "    'x': -261.9649674357798,\n",
       "    'y': -189.83842132094244,\n",
       "    'x_canvas': -261.9649674357798,\n",
       "    'y_canvas': -189.83842132094244,\n",
       "    'radius': 5,\n",
       "    'color': '#79aaa0'},\n",
       "   {'id': 'WhiteMorphious',\n",
       "    'x': 391.09032896819053,\n",
       "    'y': 342.42161573460595,\n",
       "    'x_canvas': 391.09032896819053,\n",
       "    'y_canvas': 342.42161573460595,\n",
       "    'radius': 5,\n",
       "    'color': '#79aaa0'},\n",
       "   {'id': 'Willing-Frosting7106',\n",
       "    'x': 169.1508378696829,\n",
       "    'y': 200.85582767837155,\n",
       "    'x_canvas': 169.1508378696829,\n",
       "    'y_canvas': 200.85582767837155,\n",
       "    'radius': 5,\n",
       "    'color': '#79aaa0'},\n",
       "   {'id': 'WinterZookeepergame3',\n",
       "    'x': 180.9894020551837,\n",
       "    'y': -375.32774599102925,\n",
       "    'x_canvas': 180.9894020551837,\n",
       "    'y_canvas': -375.32774599102925,\n",
       "    'radius': 5,\n",
       "    'color': '#79aaa0'},\n",
       "   {'id': 'Wrastlemania',\n",
       "    'x': 1261.2138734941775,\n",
       "    'y': 667.828246346111,\n",
       "    'x_canvas': 1261.2138734941775,\n",
       "    'y_canvas': 667.828246346111,\n",
       "    'radius': 5,\n",
       "    'color': '#79aaa0'},\n",
       "   {'id': 'YOLOtilitHURTS',\n",
       "    'x': 243.94944199598794,\n",
       "    'y': 372.516359719265,\n",
       "    'x_canvas': 243.94944199598794,\n",
       "    'y_canvas': 372.516359719265,\n",
       "    'radius': 5,\n",
       "    'color': '#79aaa0'},\n",
       "   {'id': 'Yosoyshinobi',\n",
       "    'x': 551.6896012146053,\n",
       "    'y': 433.72809622415264,\n",
       "    'x_canvas': 551.6896012146053,\n",
       "    'y_canvas': 433.72809622415264,\n",
       "    'radius': 5,\n",
       "    'color': '#79aaa0'},\n",
       "   {'id': '_fauxfox',\n",
       "    'x': -423.9136223247717,\n",
       "    'y': 740.2204087780394,\n",
       "    'x_canvas': -423.9136223247717,\n",
       "    'y_canvas': 740.2204087780394,\n",
       "    'radius': 5,\n",
       "    'color': '#79aaa0'},\n",
       "   {'id': 'ackwaves',\n",
       "    'x': -151.59749805533275,\n",
       "    'y': 727.4673087148301,\n",
       "    'x_canvas': -151.59749805533275,\n",
       "    'y_canvas': 727.4673087148301,\n",
       "    'radius': 5,\n",
       "    'color': '#79aaa0'},\n",
       "   {'id': 'adrojono',\n",
       "    'x': 348.80863615257573,\n",
       "    'y': 402.81840394231637,\n",
       "    'x_canvas': 348.80863615257573,\n",
       "    'y_canvas': 402.81840394231637,\n",
       "    'radius': 5,\n",
       "    'color': '#79aaa0'},\n",
       "   {'id': 'arcsliu',\n",
       "    'x': 389.47474704564377,\n",
       "    'y': 689.2878365616159,\n",
       "    'x_canvas': 389.47474704564377,\n",
       "    'y_canvas': 689.2878365616159,\n",
       "    'radius': 5,\n",
       "    'color': '#79aaa0'},\n",
       "   {'id': 'arthas_98',\n",
       "    'x': 560.0980430357151,\n",
       "    'y': -301.0119251555675,\n",
       "    'x_canvas': 560.0980430357151,\n",
       "    'y_canvas': -301.0119251555675,\n",
       "    'radius': 5,\n",
       "    'color': '#79aaa0'},\n",
       "   {'id': 'axey89',\n",
       "    'x': -312.2266602583266,\n",
       "    'y': -1061.1193959357943,\n",
       "    'x_canvas': -312.2266602583266,\n",
       "    'y_canvas': -1061.1193959357943,\n",
       "    'radius': 5,\n",
       "    'color': '#79aaa0'},\n",
       "   {'id': 'banditcleaner2',\n",
       "    'x': -275.8816481714282,\n",
       "    'y': 329.13145398539456,\n",
       "    'x_canvas': -275.8816481714282,\n",
       "    'y_canvas': 329.13145398539456,\n",
       "    'radius': 5,\n",
       "    'color': '#79aaa0'},\n",
       "   {'id': 'beffjezos1102',\n",
       "    'x': 341.6830862759674,\n",
       "    'y': 385.41560264016584,\n",
       "    'x_canvas': 341.68308627596747,\n",
       "    'y_canvas': 385.41560264016584,\n",
       "    'radius': 5,\n",
       "    'color': '#79aaa0'},\n",
       "   {'id': 'belicee12',\n",
       "    'x': 300.32167459233784,\n",
       "    'y': 666.8378643311545,\n",
       "    'x_canvas': 300.32167459233784,\n",
       "    'y_canvas': 666.8378643311545,\n",
       "    'radius': 5,\n",
       "    'color': '#79aaa0'},\n",
       "   {'id': 'billy_stonks',\n",
       "    'x': 69.72618414578145,\n",
       "    'y': 137.23421882643186,\n",
       "    'x_canvas': 69.72618414578145,\n",
       "    'y_canvas': 137.23421882643186,\n",
       "    'radius': 5,\n",
       "    'color': '#79aaa0'},\n",
       "   {'id': 'bmarvin35',\n",
       "    'x': 385.47463965870656,\n",
       "    'y': 160.89230569420312,\n",
       "    'x_canvas': 385.47463965870656,\n",
       "    'y_canvas': 160.89230569420312,\n",
       "    'radius': 5,\n",
       "    'color': '#79aaa0'},\n",
       "   {'id': 'bowls4noles',\n",
       "    'x': -184.8029810241263,\n",
       "    'y': 486.1300554642783,\n",
       "    'x_canvas': -184.8029810241263,\n",
       "    'y_canvas': 486.1300554642783,\n",
       "    'radius': 5,\n",
       "    'color': '#79aaa0'},\n",
       "   {'id': 'bull778',\n",
       "    'x': 320.48163459255153,\n",
       "    'y': -21.57333551581718,\n",
       "    'x_canvas': 320.48163459255153,\n",
       "    'y_canvas': -21.57333551581718,\n",
       "    'radius': 5,\n",
       "    'color': '#79aaa0'},\n",
       "   {'id': 'cutiesarustimes2',\n",
       "    'x': 744.5352602171419,\n",
       "    'y': 903.1785033017374,\n",
       "    'x_canvas': 744.5352602171419,\n",
       "    'y_canvas': 903.1785033017374,\n",
       "    'radius': 5,\n",
       "    'color': '#79aaa0'},\n",
       "   {'id': 'd3g4d0',\n",
       "    'x': 513.0187078004318,\n",
       "    'y': 258.8762992710431,\n",
       "    'x_canvas': 513.0187078004318,\n",
       "    'y_canvas': 258.8762992710431,\n",
       "    'radius': 5,\n",
       "    'color': '#79aaa0'},\n",
       "   {'id': 'davidcroda',\n",
       "    'x': 358.1478520364349,\n",
       "    'y': 438.86306284620593,\n",
       "    'x_canvas': 358.1478520364349,\n",
       "    'y_canvas': 438.86306284620593,\n",
       "    'radius': 5,\n",
       "    'color': '#79aaa0'},\n",
       "   {'id': 'ddroukas',\n",
       "    'x': -605.127844594541,\n",
       "    'y': -27.96273167914093,\n",
       "    'x_canvas': -605.127844594541,\n",
       "    'y_canvas': -27.96273167914093,\n",
       "    'radius': 5,\n",
       "    'color': '#79aaa0'},\n",
       "   {'id': 'desertrock62',\n",
       "    'x': 791.4252163122939,\n",
       "    'y': 585.4686449131173,\n",
       "    'x_canvas': 791.4252163122939,\n",
       "    'y_canvas': 585.4686449131173,\n",
       "    'radius': 5,\n",
       "    'color': '#79aaa0'},\n",
       "   {'id': 'dfreinc',\n",
       "    'x': 327.1961353287378,\n",
       "    'y': 463.36364053804175,\n",
       "    'x_canvas': 327.1961353287378,\n",
       "    'y_canvas': 463.36364053804175,\n",
       "    'radius': 5,\n",
       "    'color': '#79aaa0'},\n",
       "   {'id': 'dolphinenthusiast99',\n",
       "    'x': 235.1399159044983,\n",
       "    'y': 377.78547257047603,\n",
       "    'x_canvas': 235.1399159044983,\n",
       "    'y_canvas': 377.78547257047603,\n",
       "    'radius': 5,\n",
       "    'color': '#79aaa0'},\n",
       "   {'id': 'dota2leddit',\n",
       "    'x': 413.01484744436596,\n",
       "    'y': 149.3230651205506,\n",
       "    'x_canvas': 413.01484744436596,\n",
       "    'y_canvas': 149.3230651205506,\n",
       "    'radius': 5,\n",
       "    'color': '#79aaa0'},\n",
       "   {'id': 'duckfishwave',\n",
       "    'x': 144.9804460691267,\n",
       "    'y': 1388.077137252932,\n",
       "    'x_canvas': 144.9804460691267,\n",
       "    'y_canvas': 1388.077137252932,\n",
       "    'radius': 5,\n",
       "    'color': '#79aaa0'},\n",
       "   {'id': 'dum_townerino',\n",
       "    'x': 11.693223968040927,\n",
       "    'y': -76.95969143522574,\n",
       "    'x_canvas': 11.693223968040927,\n",
       "    'y_canvas': -76.95969143522574,\n",
       "    'radius': 5,\n",
       "    'color': '#79aaa0'},\n",
       "   {'id': 'edible_scissors',\n",
       "    'x': 625.8381412624597,\n",
       "    'y': 424.24280441284606,\n",
       "    'x_canvas': 625.8381412624597,\n",
       "    'y_canvas': 424.24280441284606,\n",
       "    'radius': 5,\n",
       "    'color': '#79aaa0'},\n",
       "   {'id': 'eli5howtifu',\n",
       "    'x': -124.13801427133515,\n",
       "    'y': 355.43218048436484,\n",
       "    'x_canvas': -124.13801427133515,\n",
       "    'y_canvas': 355.43218048436484,\n",
       "    'radius': 5,\n",
       "    'color': '#79aaa0'},\n",
       "   {'id': 'floridabuds',\n",
       "    'x': 390.6971155187007,\n",
       "    'y': -116.43563249187903,\n",
       "    'x_canvas': 390.6971155187007,\n",
       "    'y_canvas': -116.43563249187903,\n",
       "    'radius': 5,\n",
       "    'color': '#79aaa0'},\n",
       "   {'id': 'g4858364957',\n",
       "    'x': 255.18838755861654,\n",
       "    'y': 607.9140166113227,\n",
       "    'x_canvas': 255.18838755861654,\n",
       "    'y_canvas': 607.9140166113227,\n",
       "    'radius': 5,\n",
       "    'color': '#79aaa0'},\n",
       "   {'id': 'gravityCaffeStocks',\n",
       "    'x': 158.54110724265135,\n",
       "    'y': -69.00132867850863,\n",
       "    'x_canvas': 158.54110724265135,\n",
       "    'y_canvas': -69.00132867850863,\n",
       "    'radius': 5,\n",
       "    'color': '#79aaa0'},\n",
       "   {'id': 'guido1205us',\n",
       "    'x': 217.306787578408,\n",
       "    'y': 808.6246709846574,\n",
       "    'x_canvas': 217.306787578408,\n",
       "    'y_canvas': 808.6246709846574,\n",
       "    'radius': 5,\n",
       "    'color': '#79aaa0'},\n",
       "   {'id': 'hanr86',\n",
       "    'x': 106.06562345510028,\n",
       "    'y': 569.9812899291486,\n",
       "    'x_canvas': 106.06562345510028,\n",
       "    'y_canvas': 569.9812899291486,\n",
       "    'radius': 5,\n",
       "    'color': '#79aaa0'},\n",
       "   {'id': 'heelhookd',\n",
       "    'x': 543.1343392959989,\n",
       "    'y': -553.2966443545665,\n",
       "    'x_canvas': 543.1343392959989,\n",
       "    'y_canvas': -553.2966443545665,\n",
       "    'radius': 5,\n",
       "    'color': '#79aaa0'},\n",
       "   {'id': 'icydash',\n",
       "    'x': 613.3091386852354,\n",
       "    'y': 865.8640955189832,\n",
       "    'x_canvas': 613.3091386852354,\n",
       "    'y_canvas': 865.8640955189832,\n",
       "    'radius': 5,\n",
       "    'color': '#79aaa0'},\n",
       "   {'id': 'innatangle',\n",
       "    'x': 254.44247723955434,\n",
       "    'y': 429.06476941676465,\n",
       "    'x_canvas': 254.44247723955434,\n",
       "    'y_canvas': 429.06476941676465,\n",
       "    'radius': 5,\n",
       "    'color': '#79aaa0'},\n",
       "   {'id': 'iy28',\n",
       "    'x': 243.42178893212858,\n",
       "    'y': -176.1655705000333,\n",
       "    'x_canvas': 243.42178893212858,\n",
       "    'y_canvas': -176.1655705000333,\n",
       "    'radius': 5,\n",
       "    'color': '#79aaa0'},\n",
       "   {'id': 'jackandjill22',\n",
       "    'x': 718.3476499531156,\n",
       "    'y': 364.3928082521957,\n",
       "    'x_canvas': 718.3476499531156,\n",
       "    'y_canvas': 364.3928082521957,\n",
       "    'radius': 5,\n",
       "    'color': '#79aaa0'},\n",
       "   {'id': 'java1450',\n",
       "    'x': -859.8553931583016,\n",
       "    'y': 1173.4614671365784,\n",
       "    'x_canvas': -859.8553931583016,\n",
       "    'y_canvas': 1173.4614671365784,\n",
       "    'radius': 5,\n",
       "    'color': '#79aaa0'},\n",
       "   {'id': 'jimbofbx',\n",
       "    'x': 897.2565068876712,\n",
       "    'y': 604.0989005726323,\n",
       "    'x_canvas': 897.2565068876712,\n",
       "    'y_canvas': 604.0989005726323,\n",
       "    'radius': 5,\n",
       "    'color': '#79aaa0'},\n",
       "   {'id': 'jimig2511',\n",
       "    'x': 258.10443074290623,\n",
       "    'y': 436.2667733829589,\n",
       "    'x_canvas': 258.10443074290623,\n",
       "    'y_canvas': 436.2667733829589,\n",
       "    'radius': 5,\n",
       "    'color': '#79aaa0'},\n",
       "   {'id': 'jpark28',\n",
       "    'x': -60.19354887677446,\n",
       "    'y': -52.30305473508118,\n",
       "    'x_canvas': -60.19354887677446,\n",
       "    'y_canvas': -52.30305473508118,\n",
       "    'radius': 5,\n",
       "    'color': '#79aaa0'},\n",
       "   {'id': 'kahtsue',\n",
       "    'x': -219.23627679207308,\n",
       "    'y': 1331.8757299700605,\n",
       "    'x_canvas': -219.23627679207308,\n",
       "    'y_canvas': 1331.8757299700605,\n",
       "    'radius': 5,\n",
       "    'color': '#79aaa0'},\n",
       "   {'id': 'kawaiisparklezz',\n",
       "    'x': 257.321671857047,\n",
       "    'y': 390.2018532307279,\n",
       "    'x_canvas': 257.321671857047,\n",
       "    'y_canvas': 390.2018532307279,\n",
       "    'radius': 5,\n",
       "    'color': '#79aaa0'},\n",
       "   {'id': 'kenyard',\n",
       "    'x': 454.50758375463624,\n",
       "    'y': 728.7478679532466,\n",
       "    'x_canvas': 454.50758375463624,\n",
       "    'y_canvas': 728.7478679532466,\n",
       "    'radius': 5,\n",
       "    'color': '#79aaa0'},\n",
       "   {'id': 'kkpeel',\n",
       "    'x': 62.82342780005743,\n",
       "    'y': 523.9861211816337,\n",
       "    'x_canvas': 62.82342780005743,\n",
       "    'y_canvas': 523.9861211816337,\n",
       "    'radius': 5,\n",
       "    'color': '#79aaa0'},\n",
       "   {'id': 'kscise',\n",
       "    'x': 42.75155862815087,\n",
       "    'y': -358.0923940713883,\n",
       "    'x_canvas': 42.75155862815087,\n",
       "    'y_canvas': -358.0923940713883,\n",
       "    'radius': 5,\n",
       "    'color': '#79aaa0'},\n",
       "   {'id': 'lIlIlIlIlIlII',\n",
       "    'x': 430.61660946311844,\n",
       "    'y': 515.5931797742832,\n",
       "    'x_canvas': 430.61660946311844,\n",
       "    'y_canvas': 515.5931797742832,\n",
       "    'radius': 5,\n",
       "    'color': '#79aaa0'},\n",
       "   {'id': 'ldc2626',\n",
       "    'x': 37.98140855492085,\n",
       "    'y': 187.3349630466226,\n",
       "    'x_canvas': 37.98140855492085,\n",
       "    'y_canvas': 187.3349630466226,\n",
       "    'radius': 5,\n",
       "    'color': '#79aaa0'},\n",
       "   {'id': 'le_anonamoose',\n",
       "    'x': 343.6806197053084,\n",
       "    'y': -70.18209678156288,\n",
       "    'x_canvas': 343.6806197053084,\n",
       "    'y_canvas': -70.18209678156288,\n",
       "    'radius': 5,\n",
       "    'color': '#79aaa0'},\n",
       "   {'id': 'longi11',\n",
       "    'x': 352.9640095479457,\n",
       "    'y': 1.0748625450075089,\n",
       "    'x_canvas': 352.9640095479457,\n",
       "    'y_canvas': 1.0748625450075089,\n",
       "    'radius': 5,\n",
       "    'color': '#79aaa0'},\n",
       "   {'id': 'lowtierdeity',\n",
       "    'x': -153.23902300934253,\n",
       "    'y': 190.61454276753287,\n",
       "    'x_canvas': -153.23902300934253,\n",
       "    'y_canvas': 190.61454276753287,\n",
       "    'radius': 5,\n",
       "    'color': '#79aaa0'},\n",
       "   {'id': 'markerAngry',\n",
       "    'x': 774.2007246801214,\n",
       "    'y': 334.6785914121674,\n",
       "    'x_canvas': 774.2007246801214,\n",
       "    'y_canvas': 334.67859141216735,\n",
       "    'radius': 5,\n",
       "    'color': '#79aaa0'},\n",
       "   {'id': 'nathansnewaccount',\n",
       "    'x': 190.36067759888948,\n",
       "    'y': 471.88060271017423,\n",
       "    'x_canvas': 190.36067759888948,\n",
       "    'y_canvas': 471.88060271017423,\n",
       "    'radius': 5,\n",
       "    'color': '#79aaa0'},\n",
       "   {'id': 'neckbeardlord42069',\n",
       "    'x': 170.1384769275588,\n",
       "    'y': -179.822615103348,\n",
       "    'x_canvas': 170.1384769275588,\n",
       "    'y_canvas': -179.822615103348,\n",
       "    'radius': 5,\n",
       "    'color': '#79aaa0'},\n",
       "   {'id': 'neon_Hermit',\n",
       "    'x': 335.8134521803778,\n",
       "    'y': 432.18902024819226,\n",
       "    'x_canvas': 335.8134521803778,\n",
       "    'y_canvas': 432.18902024819226,\n",
       "    'radius': 5,\n",
       "    'color': '#79aaa0'},\n",
       "   {'id': 'new2cigars',\n",
       "    'x': 249.18197868777003,\n",
       "    'y': 392.01459469899106,\n",
       "    'x_canvas': 249.18197868777003,\n",
       "    'y_canvas': 392.01459469899106,\n",
       "    'radius': 5,\n",
       "    'color': '#79aaa0'},\n",
       "   {'id': 'orangeandblue122',\n",
       "    'x': 351.47754363203705,\n",
       "    'y': 338.1236127943391,\n",
       "    'x_canvas': 351.47754363203705,\n",
       "    'y_canvas': 338.1236127943391,\n",
       "    'radius': 5,\n",
       "    'color': '#79aaa0'},\n",
       "   {'id': 'papabear570',\n",
       "    'x': 288.4808707970737,\n",
       "    'y': 454.3895602734871,\n",
       "    'x_canvas': 288.4808707970737,\n",
       "    'y_canvas': 454.3895602734871,\n",
       "    'radius': 5,\n",
       "    'color': '#79aaa0'},\n",
       "   {'id': 'peterman2012',\n",
       "    'x': 591.0484471911632,\n",
       "    'y': 128.06425568176215,\n",
       "    'x_canvas': 591.0484471911632,\n",
       "    'y_canvas': 128.06425568176215,\n",
       "    'radius': 5,\n",
       "    'color': '#79aaa0'},\n",
       "   {'id': 'plomii',\n",
       "    'x': 794.8169199092445,\n",
       "    'y': 466.1535538795296,\n",
       "    'x_canvas': 794.8169199092445,\n",
       "    'y_canvas': 466.1535538795296,\n",
       "    'radius': 5,\n",
       "    'color': '#79aaa0'},\n",
       "   {'id': 'prateek_tandon',\n",
       "    'x': -320.9147173212402,\n",
       "    'y': 1124.405925719965,\n",
       "    'x_canvas': -320.9147173212402,\n",
       "    'y_canvas': 1124.405925719965,\n",
       "    'radius': 5,\n",
       "    'color': '#79aaa0'},\n",
       "   {'id': 'pupule',\n",
       "    'x': 753.1867269100269,\n",
       "    'y': -590.9046567561976,\n",
       "    'x_canvas': 753.1867269100269,\n",
       "    'y_canvas': -590.9046567561976,\n",
       "    'radius': 5,\n",
       "    'color': '#79aaa0'},\n",
       "   {'id': 'rahulshtv',\n",
       "    'x': 671.9371006225722,\n",
       "    'y': 801.2835512060948,\n",
       "    'x_canvas': 671.9371006225722,\n",
       "    'y_canvas': 801.2835512060948,\n",
       "    'radius': 5,\n",
       "    'color': '#79aaa0'},\n",
       "   {'id': 'reportminority',\n",
       "    'x': 306.6024304546735,\n",
       "    'y': -221.6357310241874,\n",
       "    'x_canvas': 306.6024304546735,\n",
       "    'y_canvas': -221.6357310241874,\n",
       "    'radius': 5,\n",
       "    'color': '#79aaa0'},\n",
       "   ...]},\n",
       " {'zoom': 1,\n",
       "  'node_charge': -45,\n",
       "  'node_gravity': 0.1,\n",
       "  'link_distance': 15,\n",
       "  'link_distance_variation': 0,\n",
       "  'node_collision': True,\n",
       "  'wiggle_nodes': False,\n",
       "  'freeze_nodes': False,\n",
       "  'node_fill_color': '#79aaa0',\n",
       "  'node_stroke_color': '#555555',\n",
       "  'node_label_color': '#000000',\n",
       "  'display_node_labels': False,\n",
       "  'scale_node_size_by_strength': False,\n",
       "  'node_size': 5,\n",
       "  'node_stroke_width': 1,\n",
       "  'node_size_variation': 0.5,\n",
       "  'link_color': '#7c7c7c',\n",
       "  'link_width': 2,\n",
       "  'link_alpha': 0.5,\n",
       "  'link_width_variation': 0.5,\n",
       "  'display_singleton_nodes': True,\n",
       "  'min_link_weight_percentile': 0,\n",
       "  'max_link_weight_percentile': 1})"
      ]
     },
     "metadata": {},
     "execution_count": 8
    }
   ],
   "source": [
    "from netwulf import visualize\n",
    "\n",
    "#need to restart notebook each time to run this visualization due to the local server which renders the graph\n",
    "visualize(reciprocal_G)"
   ]
  },
  {
   "cell_type": "markdown",
   "metadata": {},
   "source": [
    "> * Play with the parameters of the netwulf algorithm to obtain a visualization you like. To understand better what the parameters mean, have a look at the [documentation](https://netwulf.readthedocs.io/en/latest/visualization/init.html?). Your visualization may look similar to the one below, where I made the size of nodes proportional to their strength (sum of weights on the outgoing edges), and I added the names of the top redditors by degree... But not necessarily! Just have fun making your own version. You can save the figure directly from the interactive visualization panel, or plot it in higher resolution in matplotlib following [this example](https://netwulf.readthedocs.io/en/latest/cookbook/cookbook.html#save-as-pdf)."
   ]
  },
  {
   "cell_type": "markdown",
   "metadata": {},
   "source": [
    "> * Describe the structure you observe. Can you identify nodes with a privileged position in the network? \n",
    "- Yes, there are nodes such as *Stonksflyingup*, *Ackilles*, *DeepFuckingValue*, *restioned*. these nodes have high degrees, meaning that they have a lot of interactions in the network. Probably, they are very active and/or popular users."
   ]
  },
  {
   "cell_type": "markdown",
   "metadata": {},
   "source": [
    "> * _Optional_: You can color nodes based on a property of your interest. For example, I colored nodes based on the date of authors' first comment, following [this example](https://github.com/benmaier/netwulf/issues/38). What do you observe? Can you find specific nodes properties that seem to correlate with a node's position in the network?\n",
    "\n",
    "<img src=\"https://github.com/lalessan/comsocsci2021/raw/master/files/network.png\" alt=\"Drawing\" style=\"width: 800px;\"/>"
   ]
  },
  {
   "cell_type": "markdown",
   "metadata": {},
   "source": [
    "# Part 3: Properties of the real-world network of Redditors\n"
   ]
  },
  {
   "cell_type": "markdown",
   "metadata": {},
   "source": [
    "> _Exercise 2_: \n",
    ">"
   ]
  },
  {
   "source": [
    "> 2.1 _Random Network_: In this exercise we will create a Random Network as a null model to investigate some properties of the Redditors Network."
   ],
   "cell_type": "markdown",
   "metadata": {}
  },
  {
   "source": [
    "> * Compute the value of _p_ such that the number of expected edges of the random network equals the number of edges in the redditor network (see equation 3.2 in your Network Science Book). What is the value of p? Compute the average value of the degree < k > (using the formula)."
   ],
   "cell_type": "markdown",
   "metadata": {}
  },
  {
   "cell_type": "code",
   "execution_count": 9,
   "metadata": {},
   "outputs": [
    {
     "output_type": "execute_result",
     "data": {
      "text/plain": [
       "0.0003726751945160055"
      ]
     },
     "metadata": {},
     "execution_count": 9
    }
   ],
   "source": [
    "#from chapter 3.3\n",
    "N = len(reciprocal_G.nodes)\n",
    "L = len(reciprocal_G.edges)\n",
    "\n",
    "p = (2*L)/(N*(N-1))\n",
    "p"
   ]
  },
  {
   "cell_type": "code",
   "execution_count": 10,
   "metadata": {},
   "outputs": [
    {
     "output_type": "execute_result",
     "data": {
      "text/plain": [
       "2.444749276024996"
      ]
     },
     "metadata": {},
     "execution_count": 10
    }
   ],
   "source": [
    "#also from chapter 3.3\n",
    "k = p*(N-1)\n",
    "k"
   ]
  },
  {
   "source": [
    "> * Use NetworkX to create a Random network with the same number of nodes as the redditor networks, and _p_ as computed above. You can use the function [``erdos_renyi_graph``](https://networkx.org/documentation/stable/reference/generated/networkx.generators.random_graphs.erdos_renyi_graph.html#networkx.generators.random_graphs.erdos_renyi_graph) in NetworkX. "
   ],
   "cell_type": "markdown",
   "metadata": {}
  },
  {
   "cell_type": "code",
   "execution_count": 11,
   "metadata": {},
   "outputs": [],
   "source": [
    "import networkx as nx\n",
    "\n",
    "seed = 42\n",
    "#using N and p from previous cells\n",
    "rnd_G = nx.erdos_renyi_graph(N,p)"
   ]
  },
  {
   "source": [
    "> * Visualize the network as you did for the Redditors network in the exercise above (my version is below). Comment on the differences between the two.\n",
    ">"
   ],
   "cell_type": "markdown",
   "metadata": {}
  },
  {
   "cell_type": "code",
   "execution_count": 12,
   "metadata": {},
   "outputs": [],
   "source": [
    "import networkx\n",
    "from netwulf import visualize\n",
    "\n",
    "#need to restart notebook each time to run this visualization due to the local server which renders the graph\n",
    "data = visualize(rnd_G, plot_in_cell_below=True)"
   ]
  },
  {
   "source": [
    "I have probably chosen a different zoom and node size parameter, which gives a different look to the whole network.\n",
    "\n",
    "Also it seems like the sphere of your network is more connected than in my network. "
   ],
   "cell_type": "markdown",
   "metadata": {}
  },
  {
   "source": [
    "> 2.2 _Degree Distribution_: In this exercise, we will compare the degree distribution of the real network and its random counterpart."
   ],
   "cell_type": "markdown",
   "metadata": {}
  },
  {
   "source": [
    "> * Compute the distribution of degree for the random network using the numpy function ``np.histogram``. Bin your histogram using 10 linearly spaced bins. Remember to pass the parameter ``density=True``."
   ],
   "cell_type": "markdown",
   "metadata": {}
  },
  {
   "cell_type": "code",
   "execution_count": 13,
   "metadata": {},
   "outputs": [],
   "source": [
    "import numpy as np\n",
    "\n",
    "degrees = list(rnd_G.degree())\n",
    "degrees = [(x,y) for x,y in degrees if y > 0]\n",
    "xx = [x for x,y in degrees]\n",
    "yy = [y for x,y in degrees]\n",
    "bins = np.linspace(0, 10, 10)\n",
    "hist, hist_edges = np.histogram(yy, bins=bins, density=True)\n",
    "x = (hist_edges[1:]+hist_edges[:-1])/2"
   ]
  },
  {
   "cell_type": "code",
   "execution_count": 14,
   "metadata": {},
   "outputs": [
    {
     "output_type": "display_data",
     "data": {
      "text/plain": "<Figure size 1080x360 with 1 Axes>",
      "image/svg+xml": "<?xml version=\"1.0\" encoding=\"utf-8\" standalone=\"no\"?>\n<!DOCTYPE svg PUBLIC \"-//W3C//DTD SVG 1.1//EN\"\n  \"http://www.w3.org/Graphics/SVG/1.1/DTD/svg11.dtd\">\n<!-- Created with matplotlib (https://matplotlib.org/) -->\n<svg height=\"331.674375pt\" version=\"1.1\" viewBox=\"0 0 894.34375 331.674375\" width=\"894.34375pt\" xmlns=\"http://www.w3.org/2000/svg\" xmlns:xlink=\"http://www.w3.org/1999/xlink\">\n <metadata>\n  <rdf:RDF xmlns:cc=\"http://creativecommons.org/ns#\" xmlns:dc=\"http://purl.org/dc/elements/1.1/\" xmlns:rdf=\"http://www.w3.org/1999/02/22-rdf-syntax-ns#\">\n   <cc:Work>\n    <dc:type rdf:resource=\"http://purl.org/dc/dcmitype/StillImage\"/>\n    <dc:date>2021-03-05T14:05:34.640162</dc:date>\n    <dc:format>image/svg+xml</dc:format>\n    <dc:creator>\n     <cc:Agent>\n      <dc:title>Matplotlib v3.3.4, https://matplotlib.org/</dc:title>\n     </cc:Agent>\n    </dc:creator>\n   </cc:Work>\n  </rdf:RDF>\n </metadata>\n <defs>\n  <style type=\"text/css\">*{stroke-linecap:butt;stroke-linejoin:round;}</style>\n </defs>\n <g id=\"figure_1\">\n  <g id=\"patch_1\">\n   <path d=\"M 0 331.674375 \nL 894.34375 331.674375 \nL 894.34375 0 \nL 0 0 \nz\n\" style=\"fill:none;\"/>\n  </g>\n  <g id=\"axes_1\">\n   <g id=\"patch_2\">\n    <path d=\"M 50.14375 294.118125 \nL 887.14375 294.118125 \nL 887.14375 22.318125 \nL 50.14375 22.318125 \nz\n\" style=\"fill:#ffffff;\"/>\n   </g>\n   <g id=\"patch_3\">\n    <path clip-path=\"url(#p4f7e83dea9)\" d=\"M 88.189205 294.118125 \nL 165.135068 294.118125 \nL 165.135068 80.73381 \nL 88.189205 80.73381 \nz\n\" style=\"fill:#1f77b4;\"/>\n   </g>\n   <g id=\"patch_4\">\n    <path clip-path=\"url(#p4f7e83dea9)\" d=\"M 173.684608 294.118125 \nL 250.630471 294.118125 \nL 250.630471 35.260982 \nL 173.684608 35.260982 \nz\n\" style=\"fill:#1f77b4;\"/>\n   </g>\n   <g id=\"patch_5\">\n    <path clip-path=\"url(#p4f7e83dea9)\" d=\"M 259.180011 294.118125 \nL 336.125875 294.118125 \nL 336.125875 85.649791 \nL 259.180011 85.649791 \nz\n\" style=\"fill:#1f77b4;\"/>\n   </g>\n   <g id=\"patch_6\">\n    <path clip-path=\"url(#p4f7e83dea9)\" d=\"M 344.675415 294.118125 \nL 421.621278 294.118125 \nL 421.621278 159.543136 \nL 344.675415 159.543136 \nz\n\" style=\"fill:#1f77b4;\"/>\n   </g>\n   <g id=\"patch_7\">\n    <path clip-path=\"url(#p4f7e83dea9)\" d=\"M 430.170818 294.118125 \nL 507.116682 294.118125 \nL 507.116682 225.908884 \nL 430.170818 225.908884 \nz\n\" style=\"fill:#1f77b4;\"/>\n   </g>\n   <g id=\"patch_8\">\n    <path clip-path=\"url(#p4f7e83dea9)\" d=\"M 515.666222 294.118125 \nL 592.612085 294.118125 \nL 592.612085 273.532453 \nL 515.666222 273.532453 \nz\n\" style=\"fill:#1f77b4;\"/>\n   </g>\n   <g id=\"patch_9\">\n    <path clip-path=\"url(#p4f7e83dea9)\" d=\"M 601.161625 294.118125 \nL 678.107489 294.118125 \nL 678.107489 285.515158 \nL 601.161625 285.515158 \nz\n\" style=\"fill:#1f77b4;\"/>\n   </g>\n   <g id=\"patch_10\">\n    <path clip-path=\"url(#p4f7e83dea9)\" d=\"M 686.657029 294.118125 \nL 763.602892 294.118125 \nL 763.602892 290.584763 \nL 686.657029 290.584763 \nz\n\" style=\"fill:#1f77b4;\"/>\n   </g>\n   <g id=\"patch_11\">\n    <path clip-path=\"url(#p4f7e83dea9)\" d=\"M 772.152432 294.118125 \nL 849.098295 294.118125 \nL 849.098295 293.042754 \nL 772.152432 293.042754 \nz\n\" style=\"fill:#1f77b4;\"/>\n   </g>\n   <g id=\"matplotlib.axis_1\">\n    <g id=\"xtick_1\">\n     <g id=\"line2d_1\">\n      <path clip-path=\"url(#p4f7e83dea9)\" d=\"M 83.914434 294.118125 \nL 83.914434 22.318125 \n\" style=\"fill:none;stroke:#b0b0b0;stroke-linecap:square;stroke-width:0.8;\"/>\n     </g>\n     <g id=\"line2d_2\">\n      <defs>\n       <path d=\"M 0 0 \nL 0 3.5 \n\" id=\"m158b6591d1\" style=\"stroke:#000000;stroke-width:0.8;\"/>\n      </defs>\n      <g>\n       <use style=\"stroke:#000000;stroke-width:0.8;\" x=\"83.914434\" xlink:href=\"#m158b6591d1\" y=\"294.118125\"/>\n      </g>\n     </g>\n     <g id=\"text_1\">\n      <!-- 0 -->\n      <g transform=\"translate(80.733184 308.716563)scale(0.1 -0.1)\">\n       <defs>\n        <path d=\"M 31.78125 66.40625 \nQ 24.171875 66.40625 20.328125 58.90625 \nQ 16.5 51.421875 16.5 36.375 \nQ 16.5 21.390625 20.328125 13.890625 \nQ 24.171875 6.390625 31.78125 6.390625 \nQ 39.453125 6.390625 43.28125 13.890625 \nQ 47.125 21.390625 47.125 36.375 \nQ 47.125 51.421875 43.28125 58.90625 \nQ 39.453125 66.40625 31.78125 66.40625 \nz\nM 31.78125 74.21875 \nQ 44.046875 74.21875 50.515625 64.515625 \nQ 56.984375 54.828125 56.984375 36.375 \nQ 56.984375 17.96875 50.515625 8.265625 \nQ 44.046875 -1.421875 31.78125 -1.421875 \nQ 19.53125 -1.421875 13.0625 8.265625 \nQ 6.59375 17.96875 6.59375 36.375 \nQ 6.59375 54.828125 13.0625 64.515625 \nQ 19.53125 74.21875 31.78125 74.21875 \nz\n\" id=\"DejaVuSans-48\"/>\n       </defs>\n       <use xlink:href=\"#DejaVuSans-48\"/>\n      </g>\n     </g>\n    </g>\n    <g id=\"xtick_2\">\n     <g id=\"line2d_3\">\n      <path clip-path=\"url(#p4f7e83dea9)\" d=\"M 237.806161 294.118125 \nL 237.806161 22.318125 \n\" style=\"fill:none;stroke:#b0b0b0;stroke-linecap:square;stroke-width:0.8;\"/>\n     </g>\n     <g id=\"line2d_4\">\n      <g>\n       <use style=\"stroke:#000000;stroke-width:0.8;\" x=\"237.806161\" xlink:href=\"#m158b6591d1\" y=\"294.118125\"/>\n      </g>\n     </g>\n     <g id=\"text_2\">\n      <!-- 2 -->\n      <g transform=\"translate(234.624911 308.716563)scale(0.1 -0.1)\">\n       <defs>\n        <path d=\"M 19.1875 8.296875 \nL 53.609375 8.296875 \nL 53.609375 0 \nL 7.328125 0 \nL 7.328125 8.296875 \nQ 12.9375 14.109375 22.625 23.890625 \nQ 32.328125 33.6875 34.8125 36.53125 \nQ 39.546875 41.84375 41.421875 45.53125 \nQ 43.3125 49.21875 43.3125 52.78125 \nQ 43.3125 58.59375 39.234375 62.25 \nQ 35.15625 65.921875 28.609375 65.921875 \nQ 23.96875 65.921875 18.8125 64.3125 \nQ 13.671875 62.703125 7.8125 59.421875 \nL 7.8125 69.390625 \nQ 13.765625 71.78125 18.9375 73 \nQ 24.125 74.21875 28.421875 74.21875 \nQ 39.75 74.21875 46.484375 68.546875 \nQ 53.21875 62.890625 53.21875 53.421875 \nQ 53.21875 48.921875 51.53125 44.890625 \nQ 49.859375 40.875 45.40625 35.40625 \nQ 44.1875 33.984375 37.640625 27.21875 \nQ 31.109375 20.453125 19.1875 8.296875 \nz\n\" id=\"DejaVuSans-50\"/>\n       </defs>\n       <use xlink:href=\"#DejaVuSans-50\"/>\n      </g>\n     </g>\n    </g>\n    <g id=\"xtick_3\">\n     <g id=\"line2d_5\">\n      <path clip-path=\"url(#p4f7e83dea9)\" d=\"M 391.697887 294.118125 \nL 391.697887 22.318125 \n\" style=\"fill:none;stroke:#b0b0b0;stroke-linecap:square;stroke-width:0.8;\"/>\n     </g>\n     <g id=\"line2d_6\">\n      <g>\n       <use style=\"stroke:#000000;stroke-width:0.8;\" x=\"391.697887\" xlink:href=\"#m158b6591d1\" y=\"294.118125\"/>\n      </g>\n     </g>\n     <g id=\"text_3\">\n      <!-- 4 -->\n      <g transform=\"translate(388.516637 308.716563)scale(0.1 -0.1)\">\n       <defs>\n        <path d=\"M 37.796875 64.3125 \nL 12.890625 25.390625 \nL 37.796875 25.390625 \nz\nM 35.203125 72.90625 \nL 47.609375 72.90625 \nL 47.609375 25.390625 \nL 58.015625 25.390625 \nL 58.015625 17.1875 \nL 47.609375 17.1875 \nL 47.609375 0 \nL 37.796875 0 \nL 37.796875 17.1875 \nL 4.890625 17.1875 \nL 4.890625 26.703125 \nz\n\" id=\"DejaVuSans-52\"/>\n       </defs>\n       <use xlink:href=\"#DejaVuSans-52\"/>\n      </g>\n     </g>\n    </g>\n    <g id=\"xtick_4\">\n     <g id=\"line2d_7\">\n      <path clip-path=\"url(#p4f7e83dea9)\" d=\"M 545.589613 294.118125 \nL 545.589613 22.318125 \n\" style=\"fill:none;stroke:#b0b0b0;stroke-linecap:square;stroke-width:0.8;\"/>\n     </g>\n     <g id=\"line2d_8\">\n      <g>\n       <use style=\"stroke:#000000;stroke-width:0.8;\" x=\"545.589613\" xlink:href=\"#m158b6591d1\" y=\"294.118125\"/>\n      </g>\n     </g>\n     <g id=\"text_4\">\n      <!-- 6 -->\n      <g transform=\"translate(542.408363 308.716563)scale(0.1 -0.1)\">\n       <defs>\n        <path d=\"M 33.015625 40.375 \nQ 26.375 40.375 22.484375 35.828125 \nQ 18.609375 31.296875 18.609375 23.390625 \nQ 18.609375 15.53125 22.484375 10.953125 \nQ 26.375 6.390625 33.015625 6.390625 \nQ 39.65625 6.390625 43.53125 10.953125 \nQ 47.40625 15.53125 47.40625 23.390625 \nQ 47.40625 31.296875 43.53125 35.828125 \nQ 39.65625 40.375 33.015625 40.375 \nz\nM 52.59375 71.296875 \nL 52.59375 62.3125 \nQ 48.875 64.0625 45.09375 64.984375 \nQ 41.3125 65.921875 37.59375 65.921875 \nQ 27.828125 65.921875 22.671875 59.328125 \nQ 17.53125 52.734375 16.796875 39.40625 \nQ 19.671875 43.65625 24.015625 45.921875 \nQ 28.375 48.1875 33.59375 48.1875 \nQ 44.578125 48.1875 50.953125 41.515625 \nQ 57.328125 34.859375 57.328125 23.390625 \nQ 57.328125 12.15625 50.6875 5.359375 \nQ 44.046875 -1.421875 33.015625 -1.421875 \nQ 20.359375 -1.421875 13.671875 8.265625 \nQ 6.984375 17.96875 6.984375 36.375 \nQ 6.984375 53.65625 15.1875 63.9375 \nQ 23.390625 74.21875 37.203125 74.21875 \nQ 40.921875 74.21875 44.703125 73.484375 \nQ 48.484375 72.75 52.59375 71.296875 \nz\n\" id=\"DejaVuSans-54\"/>\n       </defs>\n       <use xlink:href=\"#DejaVuSans-54\"/>\n      </g>\n     </g>\n    </g>\n    <g id=\"xtick_5\">\n     <g id=\"line2d_9\">\n      <path clip-path=\"url(#p4f7e83dea9)\" d=\"M 699.481339 294.118125 \nL 699.481339 22.318125 \n\" style=\"fill:none;stroke:#b0b0b0;stroke-linecap:square;stroke-width:0.8;\"/>\n     </g>\n     <g id=\"line2d_10\">\n      <g>\n       <use style=\"stroke:#000000;stroke-width:0.8;\" x=\"699.481339\" xlink:href=\"#m158b6591d1\" y=\"294.118125\"/>\n      </g>\n     </g>\n     <g id=\"text_5\">\n      <!-- 8 -->\n      <g transform=\"translate(696.300089 308.716563)scale(0.1 -0.1)\">\n       <defs>\n        <path d=\"M 31.78125 34.625 \nQ 24.75 34.625 20.71875 30.859375 \nQ 16.703125 27.09375 16.703125 20.515625 \nQ 16.703125 13.921875 20.71875 10.15625 \nQ 24.75 6.390625 31.78125 6.390625 \nQ 38.8125 6.390625 42.859375 10.171875 \nQ 46.921875 13.96875 46.921875 20.515625 \nQ 46.921875 27.09375 42.890625 30.859375 \nQ 38.875 34.625 31.78125 34.625 \nz\nM 21.921875 38.8125 \nQ 15.578125 40.375 12.03125 44.71875 \nQ 8.5 49.078125 8.5 55.328125 \nQ 8.5 64.0625 14.71875 69.140625 \nQ 20.953125 74.21875 31.78125 74.21875 \nQ 42.671875 74.21875 48.875 69.140625 \nQ 55.078125 64.0625 55.078125 55.328125 \nQ 55.078125 49.078125 51.53125 44.71875 \nQ 48 40.375 41.703125 38.8125 \nQ 48.828125 37.15625 52.796875 32.3125 \nQ 56.78125 27.484375 56.78125 20.515625 \nQ 56.78125 9.90625 50.3125 4.234375 \nQ 43.84375 -1.421875 31.78125 -1.421875 \nQ 19.734375 -1.421875 13.25 4.234375 \nQ 6.78125 9.90625 6.78125 20.515625 \nQ 6.78125 27.484375 10.78125 32.3125 \nQ 14.796875 37.15625 21.921875 38.8125 \nz\nM 18.3125 54.390625 \nQ 18.3125 48.734375 21.84375 45.5625 \nQ 25.390625 42.390625 31.78125 42.390625 \nQ 38.140625 42.390625 41.71875 45.5625 \nQ 45.3125 48.734375 45.3125 54.390625 \nQ 45.3125 60.0625 41.71875 63.234375 \nQ 38.140625 66.40625 31.78125 66.40625 \nQ 25.390625 66.40625 21.84375 63.234375 \nQ 18.3125 60.0625 18.3125 54.390625 \nz\n\" id=\"DejaVuSans-56\"/>\n       </defs>\n       <use xlink:href=\"#DejaVuSans-56\"/>\n      </g>\n     </g>\n    </g>\n    <g id=\"xtick_6\">\n     <g id=\"line2d_11\">\n      <path clip-path=\"url(#p4f7e83dea9)\" d=\"M 853.373066 294.118125 \nL 853.373066 22.318125 \n\" style=\"fill:none;stroke:#b0b0b0;stroke-linecap:square;stroke-width:0.8;\"/>\n     </g>\n     <g id=\"line2d_12\">\n      <g>\n       <use style=\"stroke:#000000;stroke-width:0.8;\" x=\"853.373066\" xlink:href=\"#m158b6591d1\" y=\"294.118125\"/>\n      </g>\n     </g>\n     <g id=\"text_6\">\n      <!-- 10 -->\n      <g transform=\"translate(847.010566 308.716563)scale(0.1 -0.1)\">\n       <defs>\n        <path d=\"M 12.40625 8.296875 \nL 28.515625 8.296875 \nL 28.515625 63.921875 \nL 10.984375 60.40625 \nL 10.984375 69.390625 \nL 28.421875 72.90625 \nL 38.28125 72.90625 \nL 38.28125 8.296875 \nL 54.390625 8.296875 \nL 54.390625 0 \nL 12.40625 0 \nz\n\" id=\"DejaVuSans-49\"/>\n       </defs>\n       <use xlink:href=\"#DejaVuSans-49\"/>\n       <use x=\"63.623047\" xlink:href=\"#DejaVuSans-48\"/>\n      </g>\n     </g>\n    </g>\n    <g id=\"text_7\">\n     <!-- Node degree -->\n     <g transform=\"translate(436.482813 322.394687)scale(0.1 -0.1)\">\n      <defs>\n       <path d=\"M 9.8125 72.90625 \nL 23.09375 72.90625 \nL 55.421875 11.921875 \nL 55.421875 72.90625 \nL 64.984375 72.90625 \nL 64.984375 0 \nL 51.703125 0 \nL 19.390625 60.984375 \nL 19.390625 0 \nL 9.8125 0 \nz\n\" id=\"DejaVuSans-78\"/>\n       <path d=\"M 30.609375 48.390625 \nQ 23.390625 48.390625 19.1875 42.75 \nQ 14.984375 37.109375 14.984375 27.296875 \nQ 14.984375 17.484375 19.15625 11.84375 \nQ 23.34375 6.203125 30.609375 6.203125 \nQ 37.796875 6.203125 41.984375 11.859375 \nQ 46.1875 17.53125 46.1875 27.296875 \nQ 46.1875 37.015625 41.984375 42.703125 \nQ 37.796875 48.390625 30.609375 48.390625 \nz\nM 30.609375 56 \nQ 42.328125 56 49.015625 48.375 \nQ 55.71875 40.765625 55.71875 27.296875 \nQ 55.71875 13.875 49.015625 6.21875 \nQ 42.328125 -1.421875 30.609375 -1.421875 \nQ 18.84375 -1.421875 12.171875 6.21875 \nQ 5.515625 13.875 5.515625 27.296875 \nQ 5.515625 40.765625 12.171875 48.375 \nQ 18.84375 56 30.609375 56 \nz\n\" id=\"DejaVuSans-111\"/>\n       <path d=\"M 45.40625 46.390625 \nL 45.40625 75.984375 \nL 54.390625 75.984375 \nL 54.390625 0 \nL 45.40625 0 \nL 45.40625 8.203125 \nQ 42.578125 3.328125 38.25 0.953125 \nQ 33.9375 -1.421875 27.875 -1.421875 \nQ 17.96875 -1.421875 11.734375 6.484375 \nQ 5.515625 14.40625 5.515625 27.296875 \nQ 5.515625 40.1875 11.734375 48.09375 \nQ 17.96875 56 27.875 56 \nQ 33.9375 56 38.25 53.625 \nQ 42.578125 51.265625 45.40625 46.390625 \nz\nM 14.796875 27.296875 \nQ 14.796875 17.390625 18.875 11.75 \nQ 22.953125 6.109375 30.078125 6.109375 \nQ 37.203125 6.109375 41.296875 11.75 \nQ 45.40625 17.390625 45.40625 27.296875 \nQ 45.40625 37.203125 41.296875 42.84375 \nQ 37.203125 48.484375 30.078125 48.484375 \nQ 22.953125 48.484375 18.875 42.84375 \nQ 14.796875 37.203125 14.796875 27.296875 \nz\n\" id=\"DejaVuSans-100\"/>\n       <path d=\"M 56.203125 29.59375 \nL 56.203125 25.203125 \nL 14.890625 25.203125 \nQ 15.484375 15.921875 20.484375 11.0625 \nQ 25.484375 6.203125 34.421875 6.203125 \nQ 39.59375 6.203125 44.453125 7.46875 \nQ 49.3125 8.734375 54.109375 11.28125 \nL 54.109375 2.78125 \nQ 49.265625 0.734375 44.1875 -0.34375 \nQ 39.109375 -1.421875 33.890625 -1.421875 \nQ 20.796875 -1.421875 13.15625 6.1875 \nQ 5.515625 13.8125 5.515625 26.8125 \nQ 5.515625 40.234375 12.765625 48.109375 \nQ 20.015625 56 32.328125 56 \nQ 43.359375 56 49.78125 48.890625 \nQ 56.203125 41.796875 56.203125 29.59375 \nz\nM 47.21875 32.234375 \nQ 47.125 39.59375 43.09375 43.984375 \nQ 39.0625 48.390625 32.421875 48.390625 \nQ 24.90625 48.390625 20.390625 44.140625 \nQ 15.875 39.890625 15.1875 32.171875 \nz\n\" id=\"DejaVuSans-101\"/>\n       <path id=\"DejaVuSans-32\"/>\n       <path d=\"M 45.40625 27.984375 \nQ 45.40625 37.75 41.375 43.109375 \nQ 37.359375 48.484375 30.078125 48.484375 \nQ 22.859375 48.484375 18.828125 43.109375 \nQ 14.796875 37.75 14.796875 27.984375 \nQ 14.796875 18.265625 18.828125 12.890625 \nQ 22.859375 7.515625 30.078125 7.515625 \nQ 37.359375 7.515625 41.375 12.890625 \nQ 45.40625 18.265625 45.40625 27.984375 \nz\nM 54.390625 6.78125 \nQ 54.390625 -7.171875 48.1875 -13.984375 \nQ 42 -20.796875 29.203125 -20.796875 \nQ 24.46875 -20.796875 20.265625 -20.09375 \nQ 16.0625 -19.390625 12.109375 -17.921875 \nL 12.109375 -9.1875 \nQ 16.0625 -11.328125 19.921875 -12.34375 \nQ 23.78125 -13.375 27.78125 -13.375 \nQ 36.625 -13.375 41.015625 -8.765625 \nQ 45.40625 -4.15625 45.40625 5.171875 \nL 45.40625 9.625 \nQ 42.625 4.78125 38.28125 2.390625 \nQ 33.9375 0 27.875 0 \nQ 17.828125 0 11.671875 7.65625 \nQ 5.515625 15.328125 5.515625 27.984375 \nQ 5.515625 40.671875 11.671875 48.328125 \nQ 17.828125 56 27.875 56 \nQ 33.9375 56 38.28125 53.609375 \nQ 42.625 51.21875 45.40625 46.390625 \nL 45.40625 54.6875 \nL 54.390625 54.6875 \nz\n\" id=\"DejaVuSans-103\"/>\n       <path d=\"M 41.109375 46.296875 \nQ 39.59375 47.171875 37.8125 47.578125 \nQ 36.03125 48 33.890625 48 \nQ 26.265625 48 22.1875 43.046875 \nQ 18.109375 38.09375 18.109375 28.8125 \nL 18.109375 0 \nL 9.078125 0 \nL 9.078125 54.6875 \nL 18.109375 54.6875 \nL 18.109375 46.1875 \nQ 20.953125 51.171875 25.484375 53.578125 \nQ 30.03125 56 36.53125 56 \nQ 37.453125 56 38.578125 55.875 \nQ 39.703125 55.765625 41.0625 55.515625 \nz\n\" id=\"DejaVuSans-114\"/>\n      </defs>\n      <use xlink:href=\"#DejaVuSans-78\"/>\n      <use x=\"74.804688\" xlink:href=\"#DejaVuSans-111\"/>\n      <use x=\"135.986328\" xlink:href=\"#DejaVuSans-100\"/>\n      <use x=\"199.462891\" xlink:href=\"#DejaVuSans-101\"/>\n      <use x=\"260.986328\" xlink:href=\"#DejaVuSans-32\"/>\n      <use x=\"292.773438\" xlink:href=\"#DejaVuSans-100\"/>\n      <use x=\"356.25\" xlink:href=\"#DejaVuSans-101\"/>\n      <use x=\"417.773438\" xlink:href=\"#DejaVuSans-103\"/>\n      <use x=\"481.25\" xlink:href=\"#DejaVuSans-114\"/>\n      <use x=\"520.113281\" xlink:href=\"#DejaVuSans-101\"/>\n      <use x=\"581.636719\" xlink:href=\"#DejaVuSans-101\"/>\n     </g>\n    </g>\n   </g>\n   <g id=\"matplotlib.axis_2\">\n    <g id=\"ytick_1\">\n     <g id=\"line2d_13\">\n      <path clip-path=\"url(#p4f7e83dea9)\" d=\"M 50.14375 294.118125 \nL 887.14375 294.118125 \n\" style=\"fill:none;stroke:#b0b0b0;stroke-linecap:square;stroke-width:0.8;\"/>\n     </g>\n     <g id=\"line2d_14\">\n      <defs>\n       <path d=\"M 0 0 \nL -3.5 0 \n\" id=\"mce6850d4f8\" style=\"stroke:#000000;stroke-width:0.8;\"/>\n      </defs>\n      <g>\n       <use style=\"stroke:#000000;stroke-width:0.8;\" x=\"50.14375\" xlink:href=\"#mce6850d4f8\" y=\"294.118125\"/>\n      </g>\n     </g>\n     <g id=\"text_8\">\n      <!-- 0.00 -->\n      <g transform=\"translate(20.878125 297.917344)scale(0.1 -0.1)\">\n       <defs>\n        <path d=\"M 10.6875 12.40625 \nL 21 12.40625 \nL 21 0 \nL 10.6875 0 \nz\n\" id=\"DejaVuSans-46\"/>\n       </defs>\n       <use xlink:href=\"#DejaVuSans-48\"/>\n       <use x=\"63.623047\" xlink:href=\"#DejaVuSans-46\"/>\n       <use x=\"95.410156\" xlink:href=\"#DejaVuSans-48\"/>\n       <use x=\"159.033203\" xlink:href=\"#DejaVuSans-48\"/>\n      </g>\n     </g>\n    </g>\n    <g id=\"ytick_2\">\n     <g id=\"line2d_15\">\n      <path clip-path=\"url(#p4f7e83dea9)\" d=\"M 50.14375 243.157492 \nL 887.14375 243.157492 \n\" style=\"fill:none;stroke:#b0b0b0;stroke-linecap:square;stroke-width:0.8;\"/>\n     </g>\n     <g id=\"line2d_16\">\n      <g>\n       <use style=\"stroke:#000000;stroke-width:0.8;\" x=\"50.14375\" xlink:href=\"#mce6850d4f8\" y=\"243.157492\"/>\n      </g>\n     </g>\n     <g id=\"text_9\">\n      <!-- 0.05 -->\n      <g transform=\"translate(20.878125 246.956711)scale(0.1 -0.1)\">\n       <defs>\n        <path d=\"M 10.796875 72.90625 \nL 49.515625 72.90625 \nL 49.515625 64.59375 \nL 19.828125 64.59375 \nL 19.828125 46.734375 \nQ 21.96875 47.46875 24.109375 47.828125 \nQ 26.265625 48.1875 28.421875 48.1875 \nQ 40.625 48.1875 47.75 41.5 \nQ 54.890625 34.8125 54.890625 23.390625 \nQ 54.890625 11.625 47.5625 5.09375 \nQ 40.234375 -1.421875 26.90625 -1.421875 \nQ 22.3125 -1.421875 17.546875 -0.640625 \nQ 12.796875 0.140625 7.71875 1.703125 \nL 7.71875 11.625 \nQ 12.109375 9.234375 16.796875 8.0625 \nQ 21.484375 6.890625 26.703125 6.890625 \nQ 35.15625 6.890625 40.078125 11.328125 \nQ 45.015625 15.765625 45.015625 23.390625 \nQ 45.015625 31 40.078125 35.4375 \nQ 35.15625 39.890625 26.703125 39.890625 \nQ 22.75 39.890625 18.8125 39.015625 \nQ 14.890625 38.140625 10.796875 36.28125 \nz\n\" id=\"DejaVuSans-53\"/>\n       </defs>\n       <use xlink:href=\"#DejaVuSans-48\"/>\n       <use x=\"63.623047\" xlink:href=\"#DejaVuSans-46\"/>\n       <use x=\"95.410156\" xlink:href=\"#DejaVuSans-48\"/>\n       <use x=\"159.033203\" xlink:href=\"#DejaVuSans-53\"/>\n      </g>\n     </g>\n    </g>\n    <g id=\"ytick_3\">\n     <g id=\"line2d_17\">\n      <path clip-path=\"url(#p4f7e83dea9)\" d=\"M 50.14375 192.196859 \nL 887.14375 192.196859 \n\" style=\"fill:none;stroke:#b0b0b0;stroke-linecap:square;stroke-width:0.8;\"/>\n     </g>\n     <g id=\"line2d_18\">\n      <g>\n       <use style=\"stroke:#000000;stroke-width:0.8;\" x=\"50.14375\" xlink:href=\"#mce6850d4f8\" y=\"192.196859\"/>\n      </g>\n     </g>\n     <g id=\"text_10\">\n      <!-- 0.10 -->\n      <g transform=\"translate(20.878125 195.996078)scale(0.1 -0.1)\">\n       <use xlink:href=\"#DejaVuSans-48\"/>\n       <use x=\"63.623047\" xlink:href=\"#DejaVuSans-46\"/>\n       <use x=\"95.410156\" xlink:href=\"#DejaVuSans-49\"/>\n       <use x=\"159.033203\" xlink:href=\"#DejaVuSans-48\"/>\n      </g>\n     </g>\n    </g>\n    <g id=\"ytick_4\">\n     <g id=\"line2d_19\">\n      <path clip-path=\"url(#p4f7e83dea9)\" d=\"M 50.14375 141.236226 \nL 887.14375 141.236226 \n\" style=\"fill:none;stroke:#b0b0b0;stroke-linecap:square;stroke-width:0.8;\"/>\n     </g>\n     <g id=\"line2d_20\">\n      <g>\n       <use style=\"stroke:#000000;stroke-width:0.8;\" x=\"50.14375\" xlink:href=\"#mce6850d4f8\" y=\"141.236226\"/>\n      </g>\n     </g>\n     <g id=\"text_11\">\n      <!-- 0.15 -->\n      <g transform=\"translate(20.878125 145.035445)scale(0.1 -0.1)\">\n       <use xlink:href=\"#DejaVuSans-48\"/>\n       <use x=\"63.623047\" xlink:href=\"#DejaVuSans-46\"/>\n       <use x=\"95.410156\" xlink:href=\"#DejaVuSans-49\"/>\n       <use x=\"159.033203\" xlink:href=\"#DejaVuSans-53\"/>\n      </g>\n     </g>\n    </g>\n    <g id=\"ytick_5\">\n     <g id=\"line2d_21\">\n      <path clip-path=\"url(#p4f7e83dea9)\" d=\"M 50.14375 90.275593 \nL 887.14375 90.275593 \n\" style=\"fill:none;stroke:#b0b0b0;stroke-linecap:square;stroke-width:0.8;\"/>\n     </g>\n     <g id=\"line2d_22\">\n      <g>\n       <use style=\"stroke:#000000;stroke-width:0.8;\" x=\"50.14375\" xlink:href=\"#mce6850d4f8\" y=\"90.275593\"/>\n      </g>\n     </g>\n     <g id=\"text_12\">\n      <!-- 0.20 -->\n      <g transform=\"translate(20.878125 94.074812)scale(0.1 -0.1)\">\n       <use xlink:href=\"#DejaVuSans-48\"/>\n       <use x=\"63.623047\" xlink:href=\"#DejaVuSans-46\"/>\n       <use x=\"95.410156\" xlink:href=\"#DejaVuSans-50\"/>\n       <use x=\"159.033203\" xlink:href=\"#DejaVuSans-48\"/>\n      </g>\n     </g>\n    </g>\n    <g id=\"ytick_6\">\n     <g id=\"line2d_23\">\n      <path clip-path=\"url(#p4f7e83dea9)\" d=\"M 50.14375 39.31496 \nL 887.14375 39.31496 \n\" style=\"fill:none;stroke:#b0b0b0;stroke-linecap:square;stroke-width:0.8;\"/>\n     </g>\n     <g id=\"line2d_24\">\n      <g>\n       <use style=\"stroke:#000000;stroke-width:0.8;\" x=\"50.14375\" xlink:href=\"#mce6850d4f8\" y=\"39.31496\"/>\n      </g>\n     </g>\n     <g id=\"text_13\">\n      <!-- 0.25 -->\n      <g transform=\"translate(20.878125 43.114179)scale(0.1 -0.1)\">\n       <use xlink:href=\"#DejaVuSans-48\"/>\n       <use x=\"63.623047\" xlink:href=\"#DejaVuSans-46\"/>\n       <use x=\"95.410156\" xlink:href=\"#DejaVuSans-50\"/>\n       <use x=\"159.033203\" xlink:href=\"#DejaVuSans-53\"/>\n      </g>\n     </g>\n    </g>\n    <g id=\"text_14\">\n     <!-- Probability density -->\n     <g transform=\"translate(14.798438 204.568906)rotate(-90)scale(0.1 -0.1)\">\n      <defs>\n       <path d=\"M 19.671875 64.796875 \nL 19.671875 37.40625 \nL 32.078125 37.40625 \nQ 38.96875 37.40625 42.71875 40.96875 \nQ 46.484375 44.53125 46.484375 51.125 \nQ 46.484375 57.671875 42.71875 61.234375 \nQ 38.96875 64.796875 32.078125 64.796875 \nz\nM 9.8125 72.90625 \nL 32.078125 72.90625 \nQ 44.34375 72.90625 50.609375 67.359375 \nQ 56.890625 61.8125 56.890625 51.125 \nQ 56.890625 40.328125 50.609375 34.8125 \nQ 44.34375 29.296875 32.078125 29.296875 \nL 19.671875 29.296875 \nL 19.671875 0 \nL 9.8125 0 \nz\n\" id=\"DejaVuSans-80\"/>\n       <path d=\"M 48.6875 27.296875 \nQ 48.6875 37.203125 44.609375 42.84375 \nQ 40.53125 48.484375 33.40625 48.484375 \nQ 26.265625 48.484375 22.1875 42.84375 \nQ 18.109375 37.203125 18.109375 27.296875 \nQ 18.109375 17.390625 22.1875 11.75 \nQ 26.265625 6.109375 33.40625 6.109375 \nQ 40.53125 6.109375 44.609375 11.75 \nQ 48.6875 17.390625 48.6875 27.296875 \nz\nM 18.109375 46.390625 \nQ 20.953125 51.265625 25.265625 53.625 \nQ 29.59375 56 35.59375 56 \nQ 45.5625 56 51.78125 48.09375 \nQ 58.015625 40.1875 58.015625 27.296875 \nQ 58.015625 14.40625 51.78125 6.484375 \nQ 45.5625 -1.421875 35.59375 -1.421875 \nQ 29.59375 -1.421875 25.265625 0.953125 \nQ 20.953125 3.328125 18.109375 8.203125 \nL 18.109375 0 \nL 9.078125 0 \nL 9.078125 75.984375 \nL 18.109375 75.984375 \nz\n\" id=\"DejaVuSans-98\"/>\n       <path d=\"M 34.28125 27.484375 \nQ 23.390625 27.484375 19.1875 25 \nQ 14.984375 22.515625 14.984375 16.5 \nQ 14.984375 11.71875 18.140625 8.90625 \nQ 21.296875 6.109375 26.703125 6.109375 \nQ 34.1875 6.109375 38.703125 11.40625 \nQ 43.21875 16.703125 43.21875 25.484375 \nL 43.21875 27.484375 \nz\nM 52.203125 31.203125 \nL 52.203125 0 \nL 43.21875 0 \nL 43.21875 8.296875 \nQ 40.140625 3.328125 35.546875 0.953125 \nQ 30.953125 -1.421875 24.3125 -1.421875 \nQ 15.921875 -1.421875 10.953125 3.296875 \nQ 6 8.015625 6 15.921875 \nQ 6 25.140625 12.171875 29.828125 \nQ 18.359375 34.515625 30.609375 34.515625 \nL 43.21875 34.515625 \nL 43.21875 35.40625 \nQ 43.21875 41.609375 39.140625 45 \nQ 35.0625 48.390625 27.6875 48.390625 \nQ 23 48.390625 18.546875 47.265625 \nQ 14.109375 46.140625 10.015625 43.890625 \nL 10.015625 52.203125 \nQ 14.9375 54.109375 19.578125 55.046875 \nQ 24.21875 56 28.609375 56 \nQ 40.484375 56 46.34375 49.84375 \nQ 52.203125 43.703125 52.203125 31.203125 \nz\n\" id=\"DejaVuSans-97\"/>\n       <path d=\"M 9.421875 54.6875 \nL 18.40625 54.6875 \nL 18.40625 0 \nL 9.421875 0 \nz\nM 9.421875 75.984375 \nL 18.40625 75.984375 \nL 18.40625 64.59375 \nL 9.421875 64.59375 \nz\n\" id=\"DejaVuSans-105\"/>\n       <path d=\"M 9.421875 75.984375 \nL 18.40625 75.984375 \nL 18.40625 0 \nL 9.421875 0 \nz\n\" id=\"DejaVuSans-108\"/>\n       <path d=\"M 18.3125 70.21875 \nL 18.3125 54.6875 \nL 36.8125 54.6875 \nL 36.8125 47.703125 \nL 18.3125 47.703125 \nL 18.3125 18.015625 \nQ 18.3125 11.328125 20.140625 9.421875 \nQ 21.96875 7.515625 27.59375 7.515625 \nL 36.8125 7.515625 \nL 36.8125 0 \nL 27.59375 0 \nQ 17.1875 0 13.234375 3.875 \nQ 9.28125 7.765625 9.28125 18.015625 \nL 9.28125 47.703125 \nL 2.6875 47.703125 \nL 2.6875 54.6875 \nL 9.28125 54.6875 \nL 9.28125 70.21875 \nz\n\" id=\"DejaVuSans-116\"/>\n       <path d=\"M 32.171875 -5.078125 \nQ 28.375 -14.84375 24.75 -17.8125 \nQ 21.140625 -20.796875 15.09375 -20.796875 \nL 7.90625 -20.796875 \nL 7.90625 -13.28125 \nL 13.1875 -13.28125 \nQ 16.890625 -13.28125 18.9375 -11.515625 \nQ 21 -9.765625 23.484375 -3.21875 \nL 25.09375 0.875 \nL 2.984375 54.6875 \nL 12.5 54.6875 \nL 29.59375 11.921875 \nL 46.6875 54.6875 \nL 56.203125 54.6875 \nz\n\" id=\"DejaVuSans-121\"/>\n       <path d=\"M 54.890625 33.015625 \nL 54.890625 0 \nL 45.90625 0 \nL 45.90625 32.71875 \nQ 45.90625 40.484375 42.875 44.328125 \nQ 39.84375 48.1875 33.796875 48.1875 \nQ 26.515625 48.1875 22.3125 43.546875 \nQ 18.109375 38.921875 18.109375 30.90625 \nL 18.109375 0 \nL 9.078125 0 \nL 9.078125 54.6875 \nL 18.109375 54.6875 \nL 18.109375 46.1875 \nQ 21.34375 51.125 25.703125 53.5625 \nQ 30.078125 56 35.796875 56 \nQ 45.21875 56 50.046875 50.171875 \nQ 54.890625 44.34375 54.890625 33.015625 \nz\n\" id=\"DejaVuSans-110\"/>\n       <path d=\"M 44.28125 53.078125 \nL 44.28125 44.578125 \nQ 40.484375 46.53125 36.375 47.5 \nQ 32.28125 48.484375 27.875 48.484375 \nQ 21.1875 48.484375 17.84375 46.4375 \nQ 14.5 44.390625 14.5 40.28125 \nQ 14.5 37.15625 16.890625 35.375 \nQ 19.28125 33.59375 26.515625 31.984375 \nL 29.59375 31.296875 \nQ 39.15625 29.25 43.1875 25.515625 \nQ 47.21875 21.78125 47.21875 15.09375 \nQ 47.21875 7.46875 41.1875 3.015625 \nQ 35.15625 -1.421875 24.609375 -1.421875 \nQ 20.21875 -1.421875 15.453125 -0.5625 \nQ 10.6875 0.296875 5.421875 2 \nL 5.421875 11.28125 \nQ 10.40625 8.6875 15.234375 7.390625 \nQ 20.0625 6.109375 24.8125 6.109375 \nQ 31.15625 6.109375 34.5625 8.28125 \nQ 37.984375 10.453125 37.984375 14.40625 \nQ 37.984375 18.0625 35.515625 20.015625 \nQ 33.0625 21.96875 24.703125 23.78125 \nL 21.578125 24.515625 \nQ 13.234375 26.265625 9.515625 29.90625 \nQ 5.8125 33.546875 5.8125 39.890625 \nQ 5.8125 47.609375 11.28125 51.796875 \nQ 16.75 56 26.8125 56 \nQ 31.78125 56 36.171875 55.265625 \nQ 40.578125 54.546875 44.28125 53.078125 \nz\n\" id=\"DejaVuSans-115\"/>\n      </defs>\n      <use xlink:href=\"#DejaVuSans-80\"/>\n      <use x=\"58.552734\" xlink:href=\"#DejaVuSans-114\"/>\n      <use x=\"97.416016\" xlink:href=\"#DejaVuSans-111\"/>\n      <use x=\"158.597656\" xlink:href=\"#DejaVuSans-98\"/>\n      <use x=\"222.074219\" xlink:href=\"#DejaVuSans-97\"/>\n      <use x=\"283.353516\" xlink:href=\"#DejaVuSans-98\"/>\n      <use x=\"346.830078\" xlink:href=\"#DejaVuSans-105\"/>\n      <use x=\"374.613281\" xlink:href=\"#DejaVuSans-108\"/>\n      <use x=\"402.396484\" xlink:href=\"#DejaVuSans-105\"/>\n      <use x=\"430.179688\" xlink:href=\"#DejaVuSans-116\"/>\n      <use x=\"469.388672\" xlink:href=\"#DejaVuSans-121\"/>\n      <use x=\"528.568359\" xlink:href=\"#DejaVuSans-32\"/>\n      <use x=\"560.355469\" xlink:href=\"#DejaVuSans-100\"/>\n      <use x=\"623.832031\" xlink:href=\"#DejaVuSans-101\"/>\n      <use x=\"685.355469\" xlink:href=\"#DejaVuSans-110\"/>\n      <use x=\"748.734375\" xlink:href=\"#DejaVuSans-115\"/>\n      <use x=\"800.833984\" xlink:href=\"#DejaVuSans-105\"/>\n      <use x=\"828.617188\" xlink:href=\"#DejaVuSans-116\"/>\n      <use x=\"867.826172\" xlink:href=\"#DejaVuSans-121\"/>\n     </g>\n    </g>\n   </g>\n   <g id=\"patch_12\">\n    <path d=\"M 50.14375 294.118125 \nL 50.14375 22.318125 \n\" style=\"fill:none;stroke:#000000;stroke-linecap:square;stroke-linejoin:miter;stroke-width:0.8;\"/>\n   </g>\n   <g id=\"patch_13\">\n    <path d=\"M 887.14375 294.118125 \nL 887.14375 22.318125 \n\" style=\"fill:none;stroke:#000000;stroke-linecap:square;stroke-linejoin:miter;stroke-width:0.8;\"/>\n   </g>\n   <g id=\"patch_14\">\n    <path d=\"M 50.14375 294.118125 \nL 887.14375 294.118125 \n\" style=\"fill:none;stroke:#000000;stroke-linecap:square;stroke-linejoin:miter;stroke-width:0.8;\"/>\n   </g>\n   <g id=\"patch_15\">\n    <path d=\"M 50.14375 22.318125 \nL 887.14375 22.318125 \n\" style=\"fill:none;stroke:#000000;stroke-linecap:square;stroke-linejoin:miter;stroke-width:0.8;\"/>\n   </g>\n   <g id=\"text_15\">\n    <!-- Distribution of degree for the random Reddit network -->\n    <g transform=\"translate(308.523438 16.318125)scale(0.12 -0.12)\">\n     <defs>\n      <path d=\"M 19.671875 64.796875 \nL 19.671875 8.109375 \nL 31.59375 8.109375 \nQ 46.6875 8.109375 53.6875 14.9375 \nQ 60.6875 21.78125 60.6875 36.53125 \nQ 60.6875 51.171875 53.6875 57.984375 \nQ 46.6875 64.796875 31.59375 64.796875 \nz\nM 9.8125 72.90625 \nL 30.078125 72.90625 \nQ 51.265625 72.90625 61.171875 64.09375 \nQ 71.09375 55.28125 71.09375 36.53125 \nQ 71.09375 17.671875 61.125 8.828125 \nQ 51.171875 0 30.078125 0 \nL 9.8125 0 \nz\n\" id=\"DejaVuSans-68\"/>\n      <path d=\"M 8.5 21.578125 \nL 8.5 54.6875 \nL 17.484375 54.6875 \nL 17.484375 21.921875 \nQ 17.484375 14.15625 20.5 10.265625 \nQ 23.53125 6.390625 29.59375 6.390625 \nQ 36.859375 6.390625 41.078125 11.03125 \nQ 45.3125 15.671875 45.3125 23.6875 \nL 45.3125 54.6875 \nL 54.296875 54.6875 \nL 54.296875 0 \nL 45.3125 0 \nL 45.3125 8.40625 \nQ 42.046875 3.421875 37.71875 1 \nQ 33.40625 -1.421875 27.6875 -1.421875 \nQ 18.265625 -1.421875 13.375 4.4375 \nQ 8.5 10.296875 8.5 21.578125 \nz\nM 31.109375 56 \nz\n\" id=\"DejaVuSans-117\"/>\n      <path d=\"M 37.109375 75.984375 \nL 37.109375 68.5 \nL 28.515625 68.5 \nQ 23.6875 68.5 21.796875 66.546875 \nQ 19.921875 64.59375 19.921875 59.515625 \nL 19.921875 54.6875 \nL 34.71875 54.6875 \nL 34.71875 47.703125 \nL 19.921875 47.703125 \nL 19.921875 0 \nL 10.890625 0 \nL 10.890625 47.703125 \nL 2.296875 47.703125 \nL 2.296875 54.6875 \nL 10.890625 54.6875 \nL 10.890625 58.5 \nQ 10.890625 67.625 15.140625 71.796875 \nQ 19.390625 75.984375 28.609375 75.984375 \nz\n\" id=\"DejaVuSans-102\"/>\n      <path d=\"M 54.890625 33.015625 \nL 54.890625 0 \nL 45.90625 0 \nL 45.90625 32.71875 \nQ 45.90625 40.484375 42.875 44.328125 \nQ 39.84375 48.1875 33.796875 48.1875 \nQ 26.515625 48.1875 22.3125 43.546875 \nQ 18.109375 38.921875 18.109375 30.90625 \nL 18.109375 0 \nL 9.078125 0 \nL 9.078125 75.984375 \nL 18.109375 75.984375 \nL 18.109375 46.1875 \nQ 21.34375 51.125 25.703125 53.5625 \nQ 30.078125 56 35.796875 56 \nQ 45.21875 56 50.046875 50.171875 \nQ 54.890625 44.34375 54.890625 33.015625 \nz\n\" id=\"DejaVuSans-104\"/>\n      <path d=\"M 52 44.1875 \nQ 55.375 50.25 60.0625 53.125 \nQ 64.75 56 71.09375 56 \nQ 79.640625 56 84.28125 50.015625 \nQ 88.921875 44.046875 88.921875 33.015625 \nL 88.921875 0 \nL 79.890625 0 \nL 79.890625 32.71875 \nQ 79.890625 40.578125 77.09375 44.375 \nQ 74.3125 48.1875 68.609375 48.1875 \nQ 61.625 48.1875 57.5625 43.546875 \nQ 53.515625 38.921875 53.515625 30.90625 \nL 53.515625 0 \nL 44.484375 0 \nL 44.484375 32.71875 \nQ 44.484375 40.625 41.703125 44.40625 \nQ 38.921875 48.1875 33.109375 48.1875 \nQ 26.21875 48.1875 22.15625 43.53125 \nQ 18.109375 38.875 18.109375 30.90625 \nL 18.109375 0 \nL 9.078125 0 \nL 9.078125 54.6875 \nL 18.109375 54.6875 \nL 18.109375 46.1875 \nQ 21.1875 51.21875 25.484375 53.609375 \nQ 29.78125 56 35.6875 56 \nQ 41.65625 56 45.828125 52.96875 \nQ 50 49.953125 52 44.1875 \nz\n\" id=\"DejaVuSans-109\"/>\n      <path d=\"M 44.390625 34.1875 \nQ 47.5625 33.109375 50.5625 29.59375 \nQ 53.5625 26.078125 56.59375 19.921875 \nL 66.609375 0 \nL 56 0 \nL 46.6875 18.703125 \nQ 43.0625 26.03125 39.671875 28.421875 \nQ 36.28125 30.8125 30.421875 30.8125 \nL 19.671875 30.8125 \nL 19.671875 0 \nL 9.8125 0 \nL 9.8125 72.90625 \nL 32.078125 72.90625 \nQ 44.578125 72.90625 50.734375 67.671875 \nQ 56.890625 62.453125 56.890625 51.90625 \nQ 56.890625 45.015625 53.6875 40.46875 \nQ 50.484375 35.9375 44.390625 34.1875 \nz\nM 19.671875 64.796875 \nL 19.671875 38.921875 \nL 32.078125 38.921875 \nQ 39.203125 38.921875 42.84375 42.21875 \nQ 46.484375 45.515625 46.484375 51.90625 \nQ 46.484375 58.296875 42.84375 61.546875 \nQ 39.203125 64.796875 32.078125 64.796875 \nz\n\" id=\"DejaVuSans-82\"/>\n      <path d=\"M 4.203125 54.6875 \nL 13.1875 54.6875 \nL 24.421875 12.015625 \nL 35.59375 54.6875 \nL 46.1875 54.6875 \nL 57.421875 12.015625 \nL 68.609375 54.6875 \nL 77.59375 54.6875 \nL 63.28125 0 \nL 52.6875 0 \nL 40.921875 44.828125 \nL 29.109375 0 \nL 18.5 0 \nz\n\" id=\"DejaVuSans-119\"/>\n      <path d=\"M 9.078125 75.984375 \nL 18.109375 75.984375 \nL 18.109375 31.109375 \nL 44.921875 54.6875 \nL 56.390625 54.6875 \nL 27.390625 29.109375 \nL 57.625 0 \nL 45.90625 0 \nL 18.109375 26.703125 \nL 18.109375 0 \nL 9.078125 0 \nz\n\" id=\"DejaVuSans-107\"/>\n     </defs>\n     <use xlink:href=\"#DejaVuSans-68\"/>\n     <use x=\"77.001953\" xlink:href=\"#DejaVuSans-105\"/>\n     <use x=\"104.785156\" xlink:href=\"#DejaVuSans-115\"/>\n     <use x=\"156.884766\" xlink:href=\"#DejaVuSans-116\"/>\n     <use x=\"196.09375\" xlink:href=\"#DejaVuSans-114\"/>\n     <use x=\"237.207031\" xlink:href=\"#DejaVuSans-105\"/>\n     <use x=\"264.990234\" xlink:href=\"#DejaVuSans-98\"/>\n     <use x=\"328.466797\" xlink:href=\"#DejaVuSans-117\"/>\n     <use x=\"391.845703\" xlink:href=\"#DejaVuSans-116\"/>\n     <use x=\"431.054688\" xlink:href=\"#DejaVuSans-105\"/>\n     <use x=\"458.837891\" xlink:href=\"#DejaVuSans-111\"/>\n     <use x=\"520.019531\" xlink:href=\"#DejaVuSans-110\"/>\n     <use x=\"583.398438\" xlink:href=\"#DejaVuSans-32\"/>\n     <use x=\"615.185547\" xlink:href=\"#DejaVuSans-111\"/>\n     <use x=\"676.367188\" xlink:href=\"#DejaVuSans-102\"/>\n     <use x=\"711.572266\" xlink:href=\"#DejaVuSans-32\"/>\n     <use x=\"743.359375\" xlink:href=\"#DejaVuSans-100\"/>\n     <use x=\"806.835938\" xlink:href=\"#DejaVuSans-101\"/>\n     <use x=\"868.359375\" xlink:href=\"#DejaVuSans-103\"/>\n     <use x=\"931.835938\" xlink:href=\"#DejaVuSans-114\"/>\n     <use x=\"970.699219\" xlink:href=\"#DejaVuSans-101\"/>\n     <use x=\"1032.222656\" xlink:href=\"#DejaVuSans-101\"/>\n     <use x=\"1093.746094\" xlink:href=\"#DejaVuSans-32\"/>\n     <use x=\"1125.533203\" xlink:href=\"#DejaVuSans-102\"/>\n     <use x=\"1160.738281\" xlink:href=\"#DejaVuSans-111\"/>\n     <use x=\"1221.919922\" xlink:href=\"#DejaVuSans-114\"/>\n     <use x=\"1263.033203\" xlink:href=\"#DejaVuSans-32\"/>\n     <use x=\"1294.820312\" xlink:href=\"#DejaVuSans-116\"/>\n     <use x=\"1334.029297\" xlink:href=\"#DejaVuSans-104\"/>\n     <use x=\"1397.408203\" xlink:href=\"#DejaVuSans-101\"/>\n     <use x=\"1458.931641\" xlink:href=\"#DejaVuSans-32\"/>\n     <use x=\"1490.71875\" xlink:href=\"#DejaVuSans-114\"/>\n     <use x=\"1531.832031\" xlink:href=\"#DejaVuSans-97\"/>\n     <use x=\"1593.111328\" xlink:href=\"#DejaVuSans-110\"/>\n     <use x=\"1656.490234\" xlink:href=\"#DejaVuSans-100\"/>\n     <use x=\"1719.966797\" xlink:href=\"#DejaVuSans-111\"/>\n     <use x=\"1781.148438\" xlink:href=\"#DejaVuSans-109\"/>\n     <use x=\"1878.560547\" xlink:href=\"#DejaVuSans-32\"/>\n     <use x=\"1910.347656\" xlink:href=\"#DejaVuSans-82\"/>\n     <use x=\"1975.330078\" xlink:href=\"#DejaVuSans-101\"/>\n     <use x=\"2036.853516\" xlink:href=\"#DejaVuSans-100\"/>\n     <use x=\"2100.330078\" xlink:href=\"#DejaVuSans-100\"/>\n     <use x=\"2163.806641\" xlink:href=\"#DejaVuSans-105\"/>\n     <use x=\"2191.589844\" xlink:href=\"#DejaVuSans-116\"/>\n     <use x=\"2230.798828\" xlink:href=\"#DejaVuSans-32\"/>\n     <use x=\"2262.585938\" xlink:href=\"#DejaVuSans-110\"/>\n     <use x=\"2325.964844\" xlink:href=\"#DejaVuSans-101\"/>\n     <use x=\"2387.488281\" xlink:href=\"#DejaVuSans-116\"/>\n     <use x=\"2426.697266\" xlink:href=\"#DejaVuSans-119\"/>\n     <use x=\"2508.484375\" xlink:href=\"#DejaVuSans-111\"/>\n     <use x=\"2569.666016\" xlink:href=\"#DejaVuSans-114\"/>\n     <use x=\"2610.779297\" xlink:href=\"#DejaVuSans-107\"/>\n    </g>\n   </g>\n  </g>\n </g>\n <defs>\n  <clipPath id=\"p4f7e83dea9\">\n   <rect height=\"271.8\" width=\"837\" x=\"50.14375\" y=\"22.318125\"/>\n  </clipPath>\n </defs>\n</svg>\n",
      "image/png": "[encoded data removed]"
     },
     "metadata": {
      "needs_background": "light"
     }
    }
   ],
   "source": [
    "import matplotlib.pylab as plt\n",
    "\n",
    "fig, ax = plt.subplots(figsize=(15,5))\n",
    "width = bins[1]-bins[0]\n",
    "ax.bar(x, hist, width=width*0.9)\n",
    "ax.grid()\n",
    "ax.set_title('Distribution of degree for the random Reddit network')\n",
    "ax.set_xlabel('Node degree')\n",
    "ax.set_ylabel('Probability density')\n",
    "plt.show()"
   ]
  },
  {
   "source": [
    "> * Compute the distribution of degree for the Redditors undirected network using the numpy function ``np.histogram``. Bin your histogram using 10 logarithmically spaced bins. Remember to pass the parameter ``density=True``."
   ],
   "cell_type": "markdown",
   "metadata": {}
  },
  {
   "cell_type": "code",
   "execution_count": 15,
   "metadata": {},
   "outputs": [],
   "source": [
    "import numpy as np\n",
    "\n",
    "degrees = list(rnd_G.degree())\n",
    "degrees = [(x,y) for x,y in degrees if y > 0]\n",
    "xx = [x for x,y in degrees]\n",
    "yy = [y for x,y in degrees]\n",
    "bins = np.logspace(0, np.log(10), 10)\n",
    "hist, hist_edges = np.histogram(yy, bins=bins, density=True)\n",
    "x = (hist_edges[1:]+hist_edges[:-1])/2"
   ]
  },
  {
   "cell_type": "code",
   "execution_count": 16,
   "metadata": {},
   "outputs": [
    {
     "output_type": "display_data",
     "data": {
      "text/plain": "<Figure size 1080x360 with 1 Axes>",
      "image/svg+xml": "<?xml version=\"1.0\" encoding=\"utf-8\" standalone=\"no\"?>\n<!DOCTYPE svg PUBLIC \"-//W3C//DTD SVG 1.1//EN\"\n  \"http://www.w3.org/Graphics/SVG/1.1/DTD/svg11.dtd\">\n<!-- Created with matplotlib (https://matplotlib.org/) -->\n<svg height=\"331.674375pt\" version=\"1.1\" viewBox=\"0 0 895.578125 331.674375\" width=\"895.578125pt\" xmlns=\"http://www.w3.org/2000/svg\" xmlns:xlink=\"http://www.w3.org/1999/xlink\">\n <metadata>\n  <rdf:RDF xmlns:cc=\"http://creativecommons.org/ns#\" xmlns:dc=\"http://purl.org/dc/elements/1.1/\" xmlns:rdf=\"http://www.w3.org/1999/02/22-rdf-syntax-ns#\">\n   <cc:Work>\n    <dc:type rdf:resource=\"http://purl.org/dc/dcmitype/StillImage\"/>\n    <dc:date>2021-03-05T14:05:35.913131</dc:date>\n    <dc:format>image/svg+xml</dc:format>\n    <dc:creator>\n     <cc:Agent>\n      <dc:title>Matplotlib v3.3.4, https://matplotlib.org/</dc:title>\n     </cc:Agent>\n    </dc:creator>\n   </cc:Work>\n  </rdf:RDF>\n </metadata>\n <defs>\n  <style type=\"text/css\">*{stroke-linecap:butt;stroke-linejoin:round;}</style>\n </defs>\n <g id=\"figure_1\">\n  <g id=\"patch_1\">\n   <path d=\"M -0 331.674375 \nL 895.578125 331.674375 \nL 895.578125 0 \nL -0 0 \nz\n\" style=\"fill:none;\"/>\n  </g>\n  <g id=\"axes_1\">\n   <g id=\"patch_2\">\n    <path d=\"M 51.378125 294.118125 \nL 888.378125 294.118125 \nL 888.378125 22.318125 \nL 51.378125 22.318125 \nz\n\" style=\"fill:#ffffff;\"/>\n   </g>\n   <g id=\"patch_3\">\n    <path clip-path=\"url(#p73048ed822)\" d=\"M 89.42358 149499.479975 \nL 169.452696 149499.479975 \nL 169.452696 47.325245 \nL 89.42358 47.325245 \nz\n\" style=\"fill:#1f77b4;\"/>\n   </g>\n   <g id=\"patch_4\">\n    <path clip-path=\"url(#p73048ed822)\" d=\"M 200.650998 149499.479975 \nL 244.351841 149499.479975 \nL 244.351841 34.67267 \nL 200.650998 34.67267 \nz\n\" style=\"fill:#1f77b4;\"/>\n   </g>\n   <g id=\"patch_5\">\n    <path clip-path=\"url(#p73048ed822)\" d=\"M 300.940402 149499.479975 \nL 325.071373 149499.479975 \nL 325.071373 127.147803 \nL 300.940402 127.147803 \nz\n\" style=\"fill:#1f77b4;\"/>\n   </g>\n   <g id=\"patch_6\">\n    <path clip-path=\"url(#p73048ed822)\" d=\"M 396.069438 149499.479975 \nL 409.438448 149499.479975 \nL 409.438448 281.76358 \nL 396.069438 281.76358 \nz\n\" style=\"fill:#1f77b4;\"/>\n   </g>\n   <g id=\"patch_7\">\n    <path clip-path=\"url(#p73048ed822)\" d=\"M 488.564894 149499.479975 \nL 495.979058 149499.479975 \nL 495.979058 149499.479975 \nL 488.564894 149499.479975 \nz\n\" style=\"fill:#1f77b4;\"/>\n   </g>\n   <g id=\"patch_8\">\n    <path clip-path=\"url(#p73048ed822)\" d=\"M 579.66296 149499.479975 \nL 583.775969 149499.479975 \nL 583.775969 149499.479975 \nL 579.66296 149499.479975 \nz\n\" style=\"fill:#1f77b4;\"/>\n   </g>\n   <g id=\"patch_9\">\n    <path clip-path=\"url(#p73048ed822)\" d=\"M 670.004308 149499.479975 \nL 672.286217 149499.479975 \nL 672.286217 149499.479975 \nL 670.004308 149499.479975 \nz\n\" style=\"fill:#1f77b4;\"/>\n   </g>\n   <g id=\"patch_10\">\n    <path clip-path=\"url(#p73048ed822)\" d=\"M 759.931361 149499.479975 \nL 761.197409 149499.479975 \nL 761.197409 149499.479975 \nL 759.931361 149499.479975 \nz\n\" style=\"fill:#1f77b4;\"/>\n   </g>\n   <g id=\"patch_11\">\n    <path clip-path=\"url(#p73048ed822)\" d=\"M 849.630237 149499.479975 \nL 850.33267 149499.479975 \nL 850.33267 149499.479975 \nL 849.630237 149499.479975 \nz\n\" style=\"fill:#1f77b4;\"/>\n   </g>\n   <g id=\"matplotlib.axis_1\">\n    <g id=\"xtick_1\">\n     <g id=\"line2d_1\">\n      <path clip-path=\"url(#p73048ed822)\" d=\"M 83.453229 294.118125 \nL 83.453229 22.318125 \n\" style=\"fill:none;stroke:#b0b0b0;stroke-linecap:square;stroke-width:0.8;\"/>\n     </g>\n     <g id=\"line2d_2\">\n      <defs>\n       <path d=\"M 0 0 \nL 0 3.5 \n\" id=\"mf65101155b\" style=\"stroke:#000000;stroke-width:0.8;\"/>\n      </defs>\n      <g>\n       <use style=\"stroke:#000000;stroke-width:0.8;\" x=\"83.453229\" xlink:href=\"#mf65101155b\" y=\"294.118125\"/>\n      </g>\n     </g>\n     <g id=\"text_1\">\n      <!-- $\\mathdefault{10^{0}}$ -->\n      <g transform=\"translate(74.653229 308.716563)scale(0.1 -0.1)\">\n       <defs>\n        <path d=\"M 12.40625 8.296875 \nL 28.515625 8.296875 \nL 28.515625 63.921875 \nL 10.984375 60.40625 \nL 10.984375 69.390625 \nL 28.421875 72.90625 \nL 38.28125 72.90625 \nL 38.28125 8.296875 \nL 54.390625 8.296875 \nL 54.390625 0 \nL 12.40625 0 \nz\n\" id=\"DejaVuSans-49\"/>\n        <path d=\"M 31.78125 66.40625 \nQ 24.171875 66.40625 20.328125 58.90625 \nQ 16.5 51.421875 16.5 36.375 \nQ 16.5 21.390625 20.328125 13.890625 \nQ 24.171875 6.390625 31.78125 6.390625 \nQ 39.453125 6.390625 43.28125 13.890625 \nQ 47.125 21.390625 47.125 36.375 \nQ 47.125 51.421875 43.28125 58.90625 \nQ 39.453125 66.40625 31.78125 66.40625 \nz\nM 31.78125 74.21875 \nQ 44.046875 74.21875 50.515625 64.515625 \nQ 56.984375 54.828125 56.984375 36.375 \nQ 56.984375 17.96875 50.515625 8.265625 \nQ 44.046875 -1.421875 31.78125 -1.421875 \nQ 19.53125 -1.421875 13.0625 8.265625 \nQ 6.59375 17.96875 6.59375 36.375 \nQ 6.59375 54.828125 13.0625 64.515625 \nQ 19.53125 74.21875 31.78125 74.21875 \nz\n\" id=\"DejaVuSans-48\"/>\n       </defs>\n       <use transform=\"translate(0 0.765625)\" xlink:href=\"#DejaVuSans-49\"/>\n       <use transform=\"translate(63.623047 0.765625)\" xlink:href=\"#DejaVuSans-48\"/>\n       <use transform=\"translate(128.203125 39.046875)scale(0.7)\" xlink:href=\"#DejaVuSans-48\"/>\n      </g>\n     </g>\n    </g>\n    <g id=\"xtick_2\">\n     <g id=\"line2d_3\">\n      <path clip-path=\"url(#p73048ed822)\" d=\"M 432.949712 294.118125 \nL 432.949712 22.318125 \n\" style=\"fill:none;stroke:#b0b0b0;stroke-linecap:square;stroke-width:0.8;\"/>\n     </g>\n     <g id=\"line2d_4\">\n      <g>\n       <use style=\"stroke:#000000;stroke-width:0.8;\" x=\"432.949712\" xlink:href=\"#mf65101155b\" y=\"294.118125\"/>\n      </g>\n     </g>\n     <g id=\"text_2\">\n      <!-- $\\mathdefault{10^{1}}$ -->\n      <g transform=\"translate(424.149712 308.716563)scale(0.1 -0.1)\">\n       <use transform=\"translate(0 0.684375)\" xlink:href=\"#DejaVuSans-49\"/>\n       <use transform=\"translate(63.623047 0.684375)\" xlink:href=\"#DejaVuSans-48\"/>\n       <use transform=\"translate(128.203125 38.965625)scale(0.7)\" xlink:href=\"#DejaVuSans-49\"/>\n      </g>\n     </g>\n    </g>\n    <g id=\"xtick_3\">\n     <g id=\"line2d_5\">\n      <path clip-path=\"url(#p73048ed822)\" d=\"M 782.446195 294.118125 \nL 782.446195 22.318125 \n\" style=\"fill:none;stroke:#b0b0b0;stroke-linecap:square;stroke-width:0.8;\"/>\n     </g>\n     <g id=\"line2d_6\">\n      <g>\n       <use style=\"stroke:#000000;stroke-width:0.8;\" x=\"782.446195\" xlink:href=\"#mf65101155b\" y=\"294.118125\"/>\n      </g>\n     </g>\n     <g id=\"text_3\">\n      <!-- $\\mathdefault{10^{2}}$ -->\n      <g transform=\"translate(773.646195 308.716563)scale(0.1 -0.1)\">\n       <defs>\n        <path d=\"M 19.1875 8.296875 \nL 53.609375 8.296875 \nL 53.609375 0 \nL 7.328125 0 \nL 7.328125 8.296875 \nQ 12.9375 14.109375 22.625 23.890625 \nQ 32.328125 33.6875 34.8125 36.53125 \nQ 39.546875 41.84375 41.421875 45.53125 \nQ 43.3125 49.21875 43.3125 52.78125 \nQ 43.3125 58.59375 39.234375 62.25 \nQ 35.15625 65.921875 28.609375 65.921875 \nQ 23.96875 65.921875 18.8125 64.3125 \nQ 13.671875 62.703125 7.8125 59.421875 \nL 7.8125 69.390625 \nQ 13.765625 71.78125 18.9375 73 \nQ 24.125 74.21875 28.421875 74.21875 \nQ 39.75 74.21875 46.484375 68.546875 \nQ 53.21875 62.890625 53.21875 53.421875 \nQ 53.21875 48.921875 51.53125 44.890625 \nQ 49.859375 40.875 45.40625 35.40625 \nQ 44.1875 33.984375 37.640625 27.21875 \nQ 31.109375 20.453125 19.1875 8.296875 \nz\n\" id=\"DejaVuSans-50\"/>\n       </defs>\n       <use transform=\"translate(0 0.765625)\" xlink:href=\"#DejaVuSans-49\"/>\n       <use transform=\"translate(63.623047 0.765625)\" xlink:href=\"#DejaVuSans-48\"/>\n       <use transform=\"translate(128.203125 39.046875)scale(0.7)\" xlink:href=\"#DejaVuSans-50\"/>\n      </g>\n     </g>\n    </g>\n    <g id=\"xtick_4\">\n     <g id=\"line2d_7\">\n      <defs>\n       <path d=\"M 0 0 \nL 0 2 \n\" id=\"mb4d7484662\" style=\"stroke:#000000;stroke-width:0.6;\"/>\n      </defs>\n      <g>\n       <use style=\"stroke:#000000;stroke-width:0.6;\" x=\"67.461147\" xlink:href=\"#mb4d7484662\" y=\"294.118125\"/>\n      </g>\n     </g>\n    </g>\n    <g id=\"xtick_5\">\n     <g id=\"line2d_8\">\n      <g>\n       <use style=\"stroke:#000000;stroke-width:0.6;\" x=\"188.662154\" xlink:href=\"#mb4d7484662\" y=\"294.118125\"/>\n      </g>\n     </g>\n    </g>\n    <g id=\"xtick_6\">\n     <g id=\"line2d_9\">\n      <g>\n       <use style=\"stroke:#000000;stroke-width:0.6;\" x=\"250.205429\" xlink:href=\"#mb4d7484662\" y=\"294.118125\"/>\n      </g>\n     </g>\n    </g>\n    <g id=\"xtick_7\">\n     <g id=\"line2d_10\">\n      <g>\n       <use style=\"stroke:#000000;stroke-width:0.6;\" x=\"293.871078\" xlink:href=\"#mb4d7484662\" y=\"294.118125\"/>\n      </g>\n     </g>\n    </g>\n    <g id=\"xtick_8\">\n     <g id=\"line2d_11\">\n      <g>\n       <use style=\"stroke:#000000;stroke-width:0.6;\" x=\"327.740787\" xlink:href=\"#mb4d7484662\" y=\"294.118125\"/>\n      </g>\n     </g>\n    </g>\n    <g id=\"xtick_9\">\n     <g id=\"line2d_12\">\n      <g>\n       <use style=\"stroke:#000000;stroke-width:0.6;\" x=\"355.414354\" xlink:href=\"#mb4d7484662\" y=\"294.118125\"/>\n      </g>\n     </g>\n    </g>\n    <g id=\"xtick_10\">\n     <g id=\"line2d_13\">\n      <g>\n       <use style=\"stroke:#000000;stroke-width:0.6;\" x=\"378.812022\" xlink:href=\"#mb4d7484662\" y=\"294.118125\"/>\n      </g>\n     </g>\n    </g>\n    <g id=\"xtick_11\">\n     <g id=\"line2d_14\">\n      <g>\n       <use style=\"stroke:#000000;stroke-width:0.6;\" x=\"399.080003\" xlink:href=\"#mb4d7484662\" y=\"294.118125\"/>\n      </g>\n     </g>\n    </g>\n    <g id=\"xtick_12\">\n     <g id=\"line2d_15\">\n      <g>\n       <use style=\"stroke:#000000;stroke-width:0.6;\" x=\"416.95763\" xlink:href=\"#mb4d7484662\" y=\"294.118125\"/>\n      </g>\n     </g>\n    </g>\n    <g id=\"xtick_13\">\n     <g id=\"line2d_16\">\n      <g>\n       <use style=\"stroke:#000000;stroke-width:0.6;\" x=\"538.158637\" xlink:href=\"#mb4d7484662\" y=\"294.118125\"/>\n      </g>\n     </g>\n    </g>\n    <g id=\"xtick_14\">\n     <g id=\"line2d_17\">\n      <g>\n       <use style=\"stroke:#000000;stroke-width:0.6;\" x=\"599.701912\" xlink:href=\"#mb4d7484662\" y=\"294.118125\"/>\n      </g>\n     </g>\n    </g>\n    <g id=\"xtick_15\">\n     <g id=\"line2d_18\">\n      <g>\n       <use style=\"stroke:#000000;stroke-width:0.6;\" x=\"643.367562\" xlink:href=\"#mb4d7484662\" y=\"294.118125\"/>\n      </g>\n     </g>\n    </g>\n    <g id=\"xtick_16\">\n     <g id=\"line2d_19\">\n      <g>\n       <use style=\"stroke:#000000;stroke-width:0.6;\" x=\"677.23727\" xlink:href=\"#mb4d7484662\" y=\"294.118125\"/>\n      </g>\n     </g>\n    </g>\n    <g id=\"xtick_17\">\n     <g id=\"line2d_20\">\n      <g>\n       <use style=\"stroke:#000000;stroke-width:0.6;\" x=\"704.910837\" xlink:href=\"#mb4d7484662\" y=\"294.118125\"/>\n      </g>\n     </g>\n    </g>\n    <g id=\"xtick_18\">\n     <g id=\"line2d_21\">\n      <g>\n       <use style=\"stroke:#000000;stroke-width:0.6;\" x=\"728.308505\" xlink:href=\"#mb4d7484662\" y=\"294.118125\"/>\n      </g>\n     </g>\n    </g>\n    <g id=\"xtick_19\">\n     <g id=\"line2d_22\">\n      <g>\n       <use style=\"stroke:#000000;stroke-width:0.6;\" x=\"748.576486\" xlink:href=\"#mb4d7484662\" y=\"294.118125\"/>\n      </g>\n     </g>\n    </g>\n    <g id=\"xtick_20\">\n     <g id=\"line2d_23\">\n      <g>\n       <use style=\"stroke:#000000;stroke-width:0.6;\" x=\"766.454113\" xlink:href=\"#mb4d7484662\" y=\"294.118125\"/>\n      </g>\n     </g>\n    </g>\n    <g id=\"xtick_21\">\n     <g id=\"line2d_24\">\n      <g>\n       <use style=\"stroke:#000000;stroke-width:0.6;\" x=\"887.65512\" xlink:href=\"#mb4d7484662\" y=\"294.118125\"/>\n      </g>\n     </g>\n    </g>\n    <g id=\"text_4\">\n     <!-- Node degree -->\n     <g transform=\"translate(437.717188 322.394687)scale(0.1 -0.1)\">\n      <defs>\n       <path d=\"M 9.8125 72.90625 \nL 23.09375 72.90625 \nL 55.421875 11.921875 \nL 55.421875 72.90625 \nL 64.984375 72.90625 \nL 64.984375 0 \nL 51.703125 0 \nL 19.390625 60.984375 \nL 19.390625 0 \nL 9.8125 0 \nz\n\" id=\"DejaVuSans-78\"/>\n       <path d=\"M 30.609375 48.390625 \nQ 23.390625 48.390625 19.1875 42.75 \nQ 14.984375 37.109375 14.984375 27.296875 \nQ 14.984375 17.484375 19.15625 11.84375 \nQ 23.34375 6.203125 30.609375 6.203125 \nQ 37.796875 6.203125 41.984375 11.859375 \nQ 46.1875 17.53125 46.1875 27.296875 \nQ 46.1875 37.015625 41.984375 42.703125 \nQ 37.796875 48.390625 30.609375 48.390625 \nz\nM 30.609375 56 \nQ 42.328125 56 49.015625 48.375 \nQ 55.71875 40.765625 55.71875 27.296875 \nQ 55.71875 13.875 49.015625 6.21875 \nQ 42.328125 -1.421875 30.609375 -1.421875 \nQ 18.84375 -1.421875 12.171875 6.21875 \nQ 5.515625 13.875 5.515625 27.296875 \nQ 5.515625 40.765625 12.171875 48.375 \nQ 18.84375 56 30.609375 56 \nz\n\" id=\"DejaVuSans-111\"/>\n       <path d=\"M 45.40625 46.390625 \nL 45.40625 75.984375 \nL 54.390625 75.984375 \nL 54.390625 0 \nL 45.40625 0 \nL 45.40625 8.203125 \nQ 42.578125 3.328125 38.25 0.953125 \nQ 33.9375 -1.421875 27.875 -1.421875 \nQ 17.96875 -1.421875 11.734375 6.484375 \nQ 5.515625 14.40625 5.515625 27.296875 \nQ 5.515625 40.1875 11.734375 48.09375 \nQ 17.96875 56 27.875 56 \nQ 33.9375 56 38.25 53.625 \nQ 42.578125 51.265625 45.40625 46.390625 \nz\nM 14.796875 27.296875 \nQ 14.796875 17.390625 18.875 11.75 \nQ 22.953125 6.109375 30.078125 6.109375 \nQ 37.203125 6.109375 41.296875 11.75 \nQ 45.40625 17.390625 45.40625 27.296875 \nQ 45.40625 37.203125 41.296875 42.84375 \nQ 37.203125 48.484375 30.078125 48.484375 \nQ 22.953125 48.484375 18.875 42.84375 \nQ 14.796875 37.203125 14.796875 27.296875 \nz\n\" id=\"DejaVuSans-100\"/>\n       <path d=\"M 56.203125 29.59375 \nL 56.203125 25.203125 \nL 14.890625 25.203125 \nQ 15.484375 15.921875 20.484375 11.0625 \nQ 25.484375 6.203125 34.421875 6.203125 \nQ 39.59375 6.203125 44.453125 7.46875 \nQ 49.3125 8.734375 54.109375 11.28125 \nL 54.109375 2.78125 \nQ 49.265625 0.734375 44.1875 -0.34375 \nQ 39.109375 -1.421875 33.890625 -1.421875 \nQ 20.796875 -1.421875 13.15625 6.1875 \nQ 5.515625 13.8125 5.515625 26.8125 \nQ 5.515625 40.234375 12.765625 48.109375 \nQ 20.015625 56 32.328125 56 \nQ 43.359375 56 49.78125 48.890625 \nQ 56.203125 41.796875 56.203125 29.59375 \nz\nM 47.21875 32.234375 \nQ 47.125 39.59375 43.09375 43.984375 \nQ 39.0625 48.390625 32.421875 48.390625 \nQ 24.90625 48.390625 20.390625 44.140625 \nQ 15.875 39.890625 15.1875 32.171875 \nz\n\" id=\"DejaVuSans-101\"/>\n       <path id=\"DejaVuSans-32\"/>\n       <path d=\"M 45.40625 27.984375 \nQ 45.40625 37.75 41.375 43.109375 \nQ 37.359375 48.484375 30.078125 48.484375 \nQ 22.859375 48.484375 18.828125 43.109375 \nQ 14.796875 37.75 14.796875 27.984375 \nQ 14.796875 18.265625 18.828125 12.890625 \nQ 22.859375 7.515625 30.078125 7.515625 \nQ 37.359375 7.515625 41.375 12.890625 \nQ 45.40625 18.265625 45.40625 27.984375 \nz\nM 54.390625 6.78125 \nQ 54.390625 -7.171875 48.1875 -13.984375 \nQ 42 -20.796875 29.203125 -20.796875 \nQ 24.46875 -20.796875 20.265625 -20.09375 \nQ 16.0625 -19.390625 12.109375 -17.921875 \nL 12.109375 -9.1875 \nQ 16.0625 -11.328125 19.921875 -12.34375 \nQ 23.78125 -13.375 27.78125 -13.375 \nQ 36.625 -13.375 41.015625 -8.765625 \nQ 45.40625 -4.15625 45.40625 5.171875 \nL 45.40625 9.625 \nQ 42.625 4.78125 38.28125 2.390625 \nQ 33.9375 0 27.875 0 \nQ 17.828125 0 11.671875 7.65625 \nQ 5.515625 15.328125 5.515625 27.984375 \nQ 5.515625 40.671875 11.671875 48.328125 \nQ 17.828125 56 27.875 56 \nQ 33.9375 56 38.28125 53.609375 \nQ 42.625 51.21875 45.40625 46.390625 \nL 45.40625 54.6875 \nL 54.390625 54.6875 \nz\n\" id=\"DejaVuSans-103\"/>\n       <path d=\"M 41.109375 46.296875 \nQ 39.59375 47.171875 37.8125 47.578125 \nQ 36.03125 48 33.890625 48 \nQ 26.265625 48 22.1875 43.046875 \nQ 18.109375 38.09375 18.109375 28.8125 \nL 18.109375 0 \nL 9.078125 0 \nL 9.078125 54.6875 \nL 18.109375 54.6875 \nL 18.109375 46.1875 \nQ 20.953125 51.171875 25.484375 53.578125 \nQ 30.03125 56 36.53125 56 \nQ 37.453125 56 38.578125 55.875 \nQ 39.703125 55.765625 41.0625 55.515625 \nz\n\" id=\"DejaVuSans-114\"/>\n      </defs>\n      <use xlink:href=\"#DejaVuSans-78\"/>\n      <use x=\"74.804688\" xlink:href=\"#DejaVuSans-111\"/>\n      <use x=\"135.986328\" xlink:href=\"#DejaVuSans-100\"/>\n      <use x=\"199.462891\" xlink:href=\"#DejaVuSans-101\"/>\n      <use x=\"260.986328\" xlink:href=\"#DejaVuSans-32\"/>\n      <use x=\"292.773438\" xlink:href=\"#DejaVuSans-100\"/>\n      <use x=\"356.25\" xlink:href=\"#DejaVuSans-101\"/>\n      <use x=\"417.773438\" xlink:href=\"#DejaVuSans-103\"/>\n      <use x=\"481.25\" xlink:href=\"#DejaVuSans-114\"/>\n      <use x=\"520.113281\" xlink:href=\"#DejaVuSans-101\"/>\n      <use x=\"581.636719\" xlink:href=\"#DejaVuSans-101\"/>\n     </g>\n    </g>\n   </g>\n   <g id=\"matplotlib.axis_2\">\n    <g id=\"ytick_1\">\n     <g id=\"line2d_25\">\n      <path clip-path=\"url(#p73048ed822)\" d=\"M 51.378125 265.984182 \nL 888.378125 265.984182 \n\" style=\"fill:none;stroke:#b0b0b0;stroke-linecap:square;stroke-width:0.8;\"/>\n     </g>\n     <g id=\"line2d_26\">\n      <defs>\n       <path d=\"M 0 0 \nL -3.5 0 \n\" id=\"md8e533ebf9\" style=\"stroke:#000000;stroke-width:0.8;\"/>\n      </defs>\n      <g>\n       <use style=\"stroke:#000000;stroke-width:0.8;\" x=\"51.378125\" xlink:href=\"#md8e533ebf9\" y=\"265.984182\"/>\n      </g>\n     </g>\n     <g id=\"text_5\">\n      <!-- $\\mathdefault{10^{-2}}$ -->\n      <g transform=\"translate(20.878125 269.783401)scale(0.1 -0.1)\">\n       <defs>\n        <path d=\"M 10.59375 35.5 \nL 73.1875 35.5 \nL 73.1875 27.203125 \nL 10.59375 27.203125 \nz\n\" id=\"DejaVuSans-8722\"/>\n       </defs>\n       <use transform=\"translate(0 0.765625)\" xlink:href=\"#DejaVuSans-49\"/>\n       <use transform=\"translate(63.623047 0.765625)\" xlink:href=\"#DejaVuSans-48\"/>\n       <use transform=\"translate(128.203125 39.046875)scale(0.7)\" xlink:href=\"#DejaVuSans-8722\"/>\n       <use transform=\"translate(186.855469 39.046875)scale(0.7)\" xlink:href=\"#DejaVuSans-50\"/>\n      </g>\n     </g>\n    </g>\n    <g id=\"ytick_2\">\n     <g id=\"line2d_27\">\n      <path clip-path=\"url(#p73048ed822)\" d=\"M 51.378125 116.451621 \nL 888.378125 116.451621 \n\" style=\"fill:none;stroke:#b0b0b0;stroke-linecap:square;stroke-width:0.8;\"/>\n     </g>\n     <g id=\"line2d_28\">\n      <g>\n       <use style=\"stroke:#000000;stroke-width:0.8;\" x=\"51.378125\" xlink:href=\"#md8e533ebf9\" y=\"116.451621\"/>\n      </g>\n     </g>\n     <g id=\"text_6\">\n      <!-- $\\mathdefault{10^{-1}}$ -->\n      <g transform=\"translate(20.878125 120.25084)scale(0.1 -0.1)\">\n       <use transform=\"translate(0 0.684375)\" xlink:href=\"#DejaVuSans-49\"/>\n       <use transform=\"translate(63.623047 0.684375)\" xlink:href=\"#DejaVuSans-48\"/>\n       <use transform=\"translate(128.203125 38.965625)scale(0.7)\" xlink:href=\"#DejaVuSans-8722\"/>\n       <use transform=\"translate(186.855469 38.965625)scale(0.7)\" xlink:href=\"#DejaVuSans-49\"/>\n      </g>\n     </g>\n    </g>\n    <g id=\"ytick_3\">\n     <g id=\"line2d_29\">\n      <defs>\n       <path d=\"M 0 0 \nL -2 0 \n\" id=\"m3203f4d11e\" style=\"stroke:#000000;stroke-width:0.6;\"/>\n      </defs>\n      <g>\n       <use style=\"stroke:#000000;stroke-width:0.6;\" x=\"51.378125\" xlink:href=\"#m3203f4d11e\" y=\"289.147069\"/>\n      </g>\n     </g>\n    </g>\n    <g id=\"ytick_4\">\n     <g id=\"line2d_30\">\n      <g>\n       <use style=\"stroke:#000000;stroke-width:0.6;\" x=\"51.378125\" xlink:href=\"#m3203f4d11e\" y=\"280.475384\"/>\n      </g>\n     </g>\n    </g>\n    <g id=\"ytick_5\">\n     <g id=\"line2d_31\">\n      <g>\n       <use style=\"stroke:#000000;stroke-width:0.6;\" x=\"51.378125\" xlink:href=\"#m3203f4d11e\" y=\"272.826417\"/>\n      </g>\n     </g>\n    </g>\n    <g id=\"ytick_6\">\n     <g id=\"line2d_32\">\n      <g>\n       <use style=\"stroke:#000000;stroke-width:0.6;\" x=\"51.378125\" xlink:href=\"#m3203f4d11e\" y=\"220.970396\"/>\n      </g>\n     </g>\n    </g>\n    <g id=\"ytick_7\">\n     <g id=\"line2d_33\">\n      <g>\n       <use style=\"stroke:#000000;stroke-width:0.6;\" x=\"51.378125\" xlink:href=\"#m3203f4d11e\" y=\"194.639019\"/>\n      </g>\n     </g>\n    </g>\n    <g id=\"ytick_8\">\n     <g id=\"line2d_34\">\n      <g>\n       <use style=\"stroke:#000000;stroke-width:0.6;\" x=\"51.378125\" xlink:href=\"#m3203f4d11e\" y=\"175.95661\"/>\n      </g>\n     </g>\n    </g>\n    <g id=\"ytick_9\">\n     <g id=\"line2d_35\">\n      <g>\n       <use style=\"stroke:#000000;stroke-width:0.6;\" x=\"51.378125\" xlink:href=\"#m3203f4d11e\" y=\"161.465407\"/>\n      </g>\n     </g>\n    </g>\n    <g id=\"ytick_10\">\n     <g id=\"line2d_36\">\n      <g>\n       <use style=\"stroke:#000000;stroke-width:0.6;\" x=\"51.378125\" xlink:href=\"#m3203f4d11e\" y=\"149.625233\"/>\n      </g>\n     </g>\n    </g>\n    <g id=\"ytick_11\">\n     <g id=\"line2d_37\">\n      <g>\n       <use style=\"stroke:#000000;stroke-width:0.6;\" x=\"51.378125\" xlink:href=\"#m3203f4d11e\" y=\"139.614508\"/>\n      </g>\n     </g>\n    </g>\n    <g id=\"ytick_12\">\n     <g id=\"line2d_38\">\n      <g>\n       <use style=\"stroke:#000000;stroke-width:0.6;\" x=\"51.378125\" xlink:href=\"#m3203f4d11e\" y=\"130.942823\"/>\n      </g>\n     </g>\n    </g>\n    <g id=\"ytick_13\">\n     <g id=\"line2d_39\">\n      <g>\n       <use style=\"stroke:#000000;stroke-width:0.6;\" x=\"51.378125\" xlink:href=\"#m3203f4d11e\" y=\"123.293856\"/>\n      </g>\n     </g>\n    </g>\n    <g id=\"ytick_14\">\n     <g id=\"line2d_40\">\n      <g>\n       <use style=\"stroke:#000000;stroke-width:0.6;\" x=\"51.378125\" xlink:href=\"#m3203f4d11e\" y=\"71.437835\"/>\n      </g>\n     </g>\n    </g>\n    <g id=\"ytick_15\">\n     <g id=\"line2d_41\">\n      <g>\n       <use style=\"stroke:#000000;stroke-width:0.6;\" x=\"51.378125\" xlink:href=\"#m3203f4d11e\" y=\"45.106458\"/>\n      </g>\n     </g>\n    </g>\n    <g id=\"ytick_16\">\n     <g id=\"line2d_42\">\n      <g>\n       <use style=\"stroke:#000000;stroke-width:0.6;\" x=\"51.378125\" xlink:href=\"#m3203f4d11e\" y=\"26.424049\"/>\n      </g>\n     </g>\n    </g>\n    <g id=\"text_7\">\n     <!-- Probability density -->\n     <g transform=\"translate(14.798438 204.568906)rotate(-90)scale(0.1 -0.1)\">\n      <defs>\n       <path d=\"M 19.671875 64.796875 \nL 19.671875 37.40625 \nL 32.078125 37.40625 \nQ 38.96875 37.40625 42.71875 40.96875 \nQ 46.484375 44.53125 46.484375 51.125 \nQ 46.484375 57.671875 42.71875 61.234375 \nQ 38.96875 64.796875 32.078125 64.796875 \nz\nM 9.8125 72.90625 \nL 32.078125 72.90625 \nQ 44.34375 72.90625 50.609375 67.359375 \nQ 56.890625 61.8125 56.890625 51.125 \nQ 56.890625 40.328125 50.609375 34.8125 \nQ 44.34375 29.296875 32.078125 29.296875 \nL 19.671875 29.296875 \nL 19.671875 0 \nL 9.8125 0 \nz\n\" id=\"DejaVuSans-80\"/>\n       <path d=\"M 48.6875 27.296875 \nQ 48.6875 37.203125 44.609375 42.84375 \nQ 40.53125 48.484375 33.40625 48.484375 \nQ 26.265625 48.484375 22.1875 42.84375 \nQ 18.109375 37.203125 18.109375 27.296875 \nQ 18.109375 17.390625 22.1875 11.75 \nQ 26.265625 6.109375 33.40625 6.109375 \nQ 40.53125 6.109375 44.609375 11.75 \nQ 48.6875 17.390625 48.6875 27.296875 \nz\nM 18.109375 46.390625 \nQ 20.953125 51.265625 25.265625 53.625 \nQ 29.59375 56 35.59375 56 \nQ 45.5625 56 51.78125 48.09375 \nQ 58.015625 40.1875 58.015625 27.296875 \nQ 58.015625 14.40625 51.78125 6.484375 \nQ 45.5625 -1.421875 35.59375 -1.421875 \nQ 29.59375 -1.421875 25.265625 0.953125 \nQ 20.953125 3.328125 18.109375 8.203125 \nL 18.109375 0 \nL 9.078125 0 \nL 9.078125 75.984375 \nL 18.109375 75.984375 \nz\n\" id=\"DejaVuSans-98\"/>\n       <path d=\"M 34.28125 27.484375 \nQ 23.390625 27.484375 19.1875 25 \nQ 14.984375 22.515625 14.984375 16.5 \nQ 14.984375 11.71875 18.140625 8.90625 \nQ 21.296875 6.109375 26.703125 6.109375 \nQ 34.1875 6.109375 38.703125 11.40625 \nQ 43.21875 16.703125 43.21875 25.484375 \nL 43.21875 27.484375 \nz\nM 52.203125 31.203125 \nL 52.203125 0 \nL 43.21875 0 \nL 43.21875 8.296875 \nQ 40.140625 3.328125 35.546875 0.953125 \nQ 30.953125 -1.421875 24.3125 -1.421875 \nQ 15.921875 -1.421875 10.953125 3.296875 \nQ 6 8.015625 6 15.921875 \nQ 6 25.140625 12.171875 29.828125 \nQ 18.359375 34.515625 30.609375 34.515625 \nL 43.21875 34.515625 \nL 43.21875 35.40625 \nQ 43.21875 41.609375 39.140625 45 \nQ 35.0625 48.390625 27.6875 48.390625 \nQ 23 48.390625 18.546875 47.265625 \nQ 14.109375 46.140625 10.015625 43.890625 \nL 10.015625 52.203125 \nQ 14.9375 54.109375 19.578125 55.046875 \nQ 24.21875 56 28.609375 56 \nQ 40.484375 56 46.34375 49.84375 \nQ 52.203125 43.703125 52.203125 31.203125 \nz\n\" id=\"DejaVuSans-97\"/>\n       <path d=\"M 9.421875 54.6875 \nL 18.40625 54.6875 \nL 18.40625 0 \nL 9.421875 0 \nz\nM 9.421875 75.984375 \nL 18.40625 75.984375 \nL 18.40625 64.59375 \nL 9.421875 64.59375 \nz\n\" id=\"DejaVuSans-105\"/>\n       <path d=\"M 9.421875 75.984375 \nL 18.40625 75.984375 \nL 18.40625 0 \nL 9.421875 0 \nz\n\" id=\"DejaVuSans-108\"/>\n       <path d=\"M 18.3125 70.21875 \nL 18.3125 54.6875 \nL 36.8125 54.6875 \nL 36.8125 47.703125 \nL 18.3125 47.703125 \nL 18.3125 18.015625 \nQ 18.3125 11.328125 20.140625 9.421875 \nQ 21.96875 7.515625 27.59375 7.515625 \nL 36.8125 7.515625 \nL 36.8125 0 \nL 27.59375 0 \nQ 17.1875 0 13.234375 3.875 \nQ 9.28125 7.765625 9.28125 18.015625 \nL 9.28125 47.703125 \nL 2.6875 47.703125 \nL 2.6875 54.6875 \nL 9.28125 54.6875 \nL 9.28125 70.21875 \nz\n\" id=\"DejaVuSans-116\"/>\n       <path d=\"M 32.171875 -5.078125 \nQ 28.375 -14.84375 24.75 -17.8125 \nQ 21.140625 -20.796875 15.09375 -20.796875 \nL 7.90625 -20.796875 \nL 7.90625 -13.28125 \nL 13.1875 -13.28125 \nQ 16.890625 -13.28125 18.9375 -11.515625 \nQ 21 -9.765625 23.484375 -3.21875 \nL 25.09375 0.875 \nL 2.984375 54.6875 \nL 12.5 54.6875 \nL 29.59375 11.921875 \nL 46.6875 54.6875 \nL 56.203125 54.6875 \nz\n\" id=\"DejaVuSans-121\"/>\n       <path d=\"M 54.890625 33.015625 \nL 54.890625 0 \nL 45.90625 0 \nL 45.90625 32.71875 \nQ 45.90625 40.484375 42.875 44.328125 \nQ 39.84375 48.1875 33.796875 48.1875 \nQ 26.515625 48.1875 22.3125 43.546875 \nQ 18.109375 38.921875 18.109375 30.90625 \nL 18.109375 0 \nL 9.078125 0 \nL 9.078125 54.6875 \nL 18.109375 54.6875 \nL 18.109375 46.1875 \nQ 21.34375 51.125 25.703125 53.5625 \nQ 30.078125 56 35.796875 56 \nQ 45.21875 56 50.046875 50.171875 \nQ 54.890625 44.34375 54.890625 33.015625 \nz\n\" id=\"DejaVuSans-110\"/>\n       <path d=\"M 44.28125 53.078125 \nL 44.28125 44.578125 \nQ 40.484375 46.53125 36.375 47.5 \nQ 32.28125 48.484375 27.875 48.484375 \nQ 21.1875 48.484375 17.84375 46.4375 \nQ 14.5 44.390625 14.5 40.28125 \nQ 14.5 37.15625 16.890625 35.375 \nQ 19.28125 33.59375 26.515625 31.984375 \nL 29.59375 31.296875 \nQ 39.15625 29.25 43.1875 25.515625 \nQ 47.21875 21.78125 47.21875 15.09375 \nQ 47.21875 7.46875 41.1875 3.015625 \nQ 35.15625 -1.421875 24.609375 -1.421875 \nQ 20.21875 -1.421875 15.453125 -0.5625 \nQ 10.6875 0.296875 5.421875 2 \nL 5.421875 11.28125 \nQ 10.40625 8.6875 15.234375 7.390625 \nQ 20.0625 6.109375 24.8125 6.109375 \nQ 31.15625 6.109375 34.5625 8.28125 \nQ 37.984375 10.453125 37.984375 14.40625 \nQ 37.984375 18.0625 35.515625 20.015625 \nQ 33.0625 21.96875 24.703125 23.78125 \nL 21.578125 24.515625 \nQ 13.234375 26.265625 9.515625 29.90625 \nQ 5.8125 33.546875 5.8125 39.890625 \nQ 5.8125 47.609375 11.28125 51.796875 \nQ 16.75 56 26.8125 56 \nQ 31.78125 56 36.171875 55.265625 \nQ 40.578125 54.546875 44.28125 53.078125 \nz\n\" id=\"DejaVuSans-115\"/>\n      </defs>\n      <use xlink:href=\"#DejaVuSans-80\"/>\n      <use x=\"58.552734\" xlink:href=\"#DejaVuSans-114\"/>\n      <use x=\"97.416016\" xlink:href=\"#DejaVuSans-111\"/>\n      <use x=\"158.597656\" xlink:href=\"#DejaVuSans-98\"/>\n      <use x=\"222.074219\" xlink:href=\"#DejaVuSans-97\"/>\n      <use x=\"283.353516\" xlink:href=\"#DejaVuSans-98\"/>\n      <use x=\"346.830078\" xlink:href=\"#DejaVuSans-105\"/>\n      <use x=\"374.613281\" xlink:href=\"#DejaVuSans-108\"/>\n      <use x=\"402.396484\" xlink:href=\"#DejaVuSans-105\"/>\n      <use x=\"430.179688\" xlink:href=\"#DejaVuSans-116\"/>\n      <use x=\"469.388672\" xlink:href=\"#DejaVuSans-121\"/>\n      <use x=\"528.568359\" xlink:href=\"#DejaVuSans-32\"/>\n      <use x=\"560.355469\" xlink:href=\"#DejaVuSans-100\"/>\n      <use x=\"623.832031\" xlink:href=\"#DejaVuSans-101\"/>\n      <use x=\"685.355469\" xlink:href=\"#DejaVuSans-110\"/>\n      <use x=\"748.734375\" xlink:href=\"#DejaVuSans-115\"/>\n      <use x=\"800.833984\" xlink:href=\"#DejaVuSans-105\"/>\n      <use x=\"828.617188\" xlink:href=\"#DejaVuSans-116\"/>\n      <use x=\"867.826172\" xlink:href=\"#DejaVuSans-121\"/>\n     </g>\n    </g>\n   </g>\n   <g id=\"patch_12\">\n    <path d=\"M 51.378125 294.118125 \nL 51.378125 22.318125 \n\" style=\"fill:none;stroke:#000000;stroke-linecap:square;stroke-linejoin:miter;stroke-width:0.8;\"/>\n   </g>\n   <g id=\"patch_13\">\n    <path d=\"M 888.378125 294.118125 \nL 888.378125 22.318125 \n\" style=\"fill:none;stroke:#000000;stroke-linecap:square;stroke-linejoin:miter;stroke-width:0.8;\"/>\n   </g>\n   <g id=\"patch_14\">\n    <path d=\"M 51.378125 294.118125 \nL 888.378125 294.118125 \n\" style=\"fill:none;stroke:#000000;stroke-linecap:square;stroke-linejoin:miter;stroke-width:0.8;\"/>\n   </g>\n   <g id=\"patch_15\">\n    <path d=\"M 51.378125 22.318125 \nL 888.378125 22.318125 \n\" style=\"fill:none;stroke:#000000;stroke-linecap:square;stroke-linejoin:miter;stroke-width:0.8;\"/>\n   </g>\n   <g id=\"text_8\">\n    <!-- Distribution of degree for the random Reddit network -->\n    <g transform=\"translate(309.757812 16.318125)scale(0.12 -0.12)\">\n     <defs>\n      <path d=\"M 19.671875 64.796875 \nL 19.671875 8.109375 \nL 31.59375 8.109375 \nQ 46.6875 8.109375 53.6875 14.9375 \nQ 60.6875 21.78125 60.6875 36.53125 \nQ 60.6875 51.171875 53.6875 57.984375 \nQ 46.6875 64.796875 31.59375 64.796875 \nz\nM 9.8125 72.90625 \nL 30.078125 72.90625 \nQ 51.265625 72.90625 61.171875 64.09375 \nQ 71.09375 55.28125 71.09375 36.53125 \nQ 71.09375 17.671875 61.125 8.828125 \nQ 51.171875 0 30.078125 0 \nL 9.8125 0 \nz\n\" id=\"DejaVuSans-68\"/>\n      <path d=\"M 8.5 21.578125 \nL 8.5 54.6875 \nL 17.484375 54.6875 \nL 17.484375 21.921875 \nQ 17.484375 14.15625 20.5 10.265625 \nQ 23.53125 6.390625 29.59375 6.390625 \nQ 36.859375 6.390625 41.078125 11.03125 \nQ 45.3125 15.671875 45.3125 23.6875 \nL 45.3125 54.6875 \nL 54.296875 54.6875 \nL 54.296875 0 \nL 45.3125 0 \nL 45.3125 8.40625 \nQ 42.046875 3.421875 37.71875 1 \nQ 33.40625 -1.421875 27.6875 -1.421875 \nQ 18.265625 -1.421875 13.375 4.4375 \nQ 8.5 10.296875 8.5 21.578125 \nz\nM 31.109375 56 \nz\n\" id=\"DejaVuSans-117\"/>\n      <path d=\"M 37.109375 75.984375 \nL 37.109375 68.5 \nL 28.515625 68.5 \nQ 23.6875 68.5 21.796875 66.546875 \nQ 19.921875 64.59375 19.921875 59.515625 \nL 19.921875 54.6875 \nL 34.71875 54.6875 \nL 34.71875 47.703125 \nL 19.921875 47.703125 \nL 19.921875 0 \nL 10.890625 0 \nL 10.890625 47.703125 \nL 2.296875 47.703125 \nL 2.296875 54.6875 \nL 10.890625 54.6875 \nL 10.890625 58.5 \nQ 10.890625 67.625 15.140625 71.796875 \nQ 19.390625 75.984375 28.609375 75.984375 \nz\n\" id=\"DejaVuSans-102\"/>\n      <path d=\"M 54.890625 33.015625 \nL 54.890625 0 \nL 45.90625 0 \nL 45.90625 32.71875 \nQ 45.90625 40.484375 42.875 44.328125 \nQ 39.84375 48.1875 33.796875 48.1875 \nQ 26.515625 48.1875 22.3125 43.546875 \nQ 18.109375 38.921875 18.109375 30.90625 \nL 18.109375 0 \nL 9.078125 0 \nL 9.078125 75.984375 \nL 18.109375 75.984375 \nL 18.109375 46.1875 \nQ 21.34375 51.125 25.703125 53.5625 \nQ 30.078125 56 35.796875 56 \nQ 45.21875 56 50.046875 50.171875 \nQ 54.890625 44.34375 54.890625 33.015625 \nz\n\" id=\"DejaVuSans-104\"/>\n      <path d=\"M 52 44.1875 \nQ 55.375 50.25 60.0625 53.125 \nQ 64.75 56 71.09375 56 \nQ 79.640625 56 84.28125 50.015625 \nQ 88.921875 44.046875 88.921875 33.015625 \nL 88.921875 0 \nL 79.890625 0 \nL 79.890625 32.71875 \nQ 79.890625 40.578125 77.09375 44.375 \nQ 74.3125 48.1875 68.609375 48.1875 \nQ 61.625 48.1875 57.5625 43.546875 \nQ 53.515625 38.921875 53.515625 30.90625 \nL 53.515625 0 \nL 44.484375 0 \nL 44.484375 32.71875 \nQ 44.484375 40.625 41.703125 44.40625 \nQ 38.921875 48.1875 33.109375 48.1875 \nQ 26.21875 48.1875 22.15625 43.53125 \nQ 18.109375 38.875 18.109375 30.90625 \nL 18.109375 0 \nL 9.078125 0 \nL 9.078125 54.6875 \nL 18.109375 54.6875 \nL 18.109375 46.1875 \nQ 21.1875 51.21875 25.484375 53.609375 \nQ 29.78125 56 35.6875 56 \nQ 41.65625 56 45.828125 52.96875 \nQ 50 49.953125 52 44.1875 \nz\n\" id=\"DejaVuSans-109\"/>\n      <path d=\"M 44.390625 34.1875 \nQ 47.5625 33.109375 50.5625 29.59375 \nQ 53.5625 26.078125 56.59375 19.921875 \nL 66.609375 0 \nL 56 0 \nL 46.6875 18.703125 \nQ 43.0625 26.03125 39.671875 28.421875 \nQ 36.28125 30.8125 30.421875 30.8125 \nL 19.671875 30.8125 \nL 19.671875 0 \nL 9.8125 0 \nL 9.8125 72.90625 \nL 32.078125 72.90625 \nQ 44.578125 72.90625 50.734375 67.671875 \nQ 56.890625 62.453125 56.890625 51.90625 \nQ 56.890625 45.015625 53.6875 40.46875 \nQ 50.484375 35.9375 44.390625 34.1875 \nz\nM 19.671875 64.796875 \nL 19.671875 38.921875 \nL 32.078125 38.921875 \nQ 39.203125 38.921875 42.84375 42.21875 \nQ 46.484375 45.515625 46.484375 51.90625 \nQ 46.484375 58.296875 42.84375 61.546875 \nQ 39.203125 64.796875 32.078125 64.796875 \nz\n\" id=\"DejaVuSans-82\"/>\n      <path d=\"M 4.203125 54.6875 \nL 13.1875 54.6875 \nL 24.421875 12.015625 \nL 35.59375 54.6875 \nL 46.1875 54.6875 \nL 57.421875 12.015625 \nL 68.609375 54.6875 \nL 77.59375 54.6875 \nL 63.28125 0 \nL 52.6875 0 \nL 40.921875 44.828125 \nL 29.109375 0 \nL 18.5 0 \nz\n\" id=\"DejaVuSans-119\"/>\n      <path d=\"M 9.078125 75.984375 \nL 18.109375 75.984375 \nL 18.109375 31.109375 \nL 44.921875 54.6875 \nL 56.390625 54.6875 \nL 27.390625 29.109375 \nL 57.625 0 \nL 45.90625 0 \nL 18.109375 26.703125 \nL 18.109375 0 \nL 9.078125 0 \nz\n\" id=\"DejaVuSans-107\"/>\n     </defs>\n     <use xlink:href=\"#DejaVuSans-68\"/>\n     <use x=\"77.001953\" xlink:href=\"#DejaVuSans-105\"/>\n     <use x=\"104.785156\" xlink:href=\"#DejaVuSans-115\"/>\n     <use x=\"156.884766\" xlink:href=\"#DejaVuSans-116\"/>\n     <use x=\"196.09375\" xlink:href=\"#DejaVuSans-114\"/>\n     <use x=\"237.207031\" xlink:href=\"#DejaVuSans-105\"/>\n     <use x=\"264.990234\" xlink:href=\"#DejaVuSans-98\"/>\n     <use x=\"328.466797\" xlink:href=\"#DejaVuSans-117\"/>\n     <use x=\"391.845703\" xlink:href=\"#DejaVuSans-116\"/>\n     <use x=\"431.054688\" xlink:href=\"#DejaVuSans-105\"/>\n     <use x=\"458.837891\" xlink:href=\"#DejaVuSans-111\"/>\n     <use x=\"520.019531\" xlink:href=\"#DejaVuSans-110\"/>\n     <use x=\"583.398438\" xlink:href=\"#DejaVuSans-32\"/>\n     <use x=\"615.185547\" xlink:href=\"#DejaVuSans-111\"/>\n     <use x=\"676.367188\" xlink:href=\"#DejaVuSans-102\"/>\n     <use x=\"711.572266\" xlink:href=\"#DejaVuSans-32\"/>\n     <use x=\"743.359375\" xlink:href=\"#DejaVuSans-100\"/>\n     <use x=\"806.835938\" xlink:href=\"#DejaVuSans-101\"/>\n     <use x=\"868.359375\" xlink:href=\"#DejaVuSans-103\"/>\n     <use x=\"931.835938\" xlink:href=\"#DejaVuSans-114\"/>\n     <use x=\"970.699219\" xlink:href=\"#DejaVuSans-101\"/>\n     <use x=\"1032.222656\" xlink:href=\"#DejaVuSans-101\"/>\n     <use x=\"1093.746094\" xlink:href=\"#DejaVuSans-32\"/>\n     <use x=\"1125.533203\" xlink:href=\"#DejaVuSans-102\"/>\n     <use x=\"1160.738281\" xlink:href=\"#DejaVuSans-111\"/>\n     <use x=\"1221.919922\" xlink:href=\"#DejaVuSans-114\"/>\n     <use x=\"1263.033203\" xlink:href=\"#DejaVuSans-32\"/>\n     <use x=\"1294.820312\" xlink:href=\"#DejaVuSans-116\"/>\n     <use x=\"1334.029297\" xlink:href=\"#DejaVuSans-104\"/>\n     <use x=\"1397.408203\" xlink:href=\"#DejaVuSans-101\"/>\n     <use x=\"1458.931641\" xlink:href=\"#DejaVuSans-32\"/>\n     <use x=\"1490.71875\" xlink:href=\"#DejaVuSans-114\"/>\n     <use x=\"1531.832031\" xlink:href=\"#DejaVuSans-97\"/>\n     <use x=\"1593.111328\" xlink:href=\"#DejaVuSans-110\"/>\n     <use x=\"1656.490234\" xlink:href=\"#DejaVuSans-100\"/>\n     <use x=\"1719.966797\" xlink:href=\"#DejaVuSans-111\"/>\n     <use x=\"1781.148438\" xlink:href=\"#DejaVuSans-109\"/>\n     <use x=\"1878.560547\" xlink:href=\"#DejaVuSans-32\"/>\n     <use x=\"1910.347656\" xlink:href=\"#DejaVuSans-82\"/>\n     <use x=\"1975.330078\" xlink:href=\"#DejaVuSans-101\"/>\n     <use x=\"2036.853516\" xlink:href=\"#DejaVuSans-100\"/>\n     <use x=\"2100.330078\" xlink:href=\"#DejaVuSans-100\"/>\n     <use x=\"2163.806641\" xlink:href=\"#DejaVuSans-105\"/>\n     <use x=\"2191.589844\" xlink:href=\"#DejaVuSans-116\"/>\n     <use x=\"2230.798828\" xlink:href=\"#DejaVuSans-32\"/>\n     <use x=\"2262.585938\" xlink:href=\"#DejaVuSans-110\"/>\n     <use x=\"2325.964844\" xlink:href=\"#DejaVuSans-101\"/>\n     <use x=\"2387.488281\" xlink:href=\"#DejaVuSans-116\"/>\n     <use x=\"2426.697266\" xlink:href=\"#DejaVuSans-119\"/>\n     <use x=\"2508.484375\" xlink:href=\"#DejaVuSans-111\"/>\n     <use x=\"2569.666016\" xlink:href=\"#DejaVuSans-114\"/>\n     <use x=\"2610.779297\" xlink:href=\"#DejaVuSans-107\"/>\n    </g>\n   </g>\n  </g>\n </g>\n <defs>\n  <clipPath id=\"p73048ed822\">\n   <rect height=\"271.8\" width=\"837\" x=\"51.378125\" y=\"22.318125\"/>\n  </clipPath>\n </defs>\n</svg>\n",
      "image/png": "[encoded data removed]"
     },
     "metadata": {
      "needs_background": "light"
     }
    }
   ],
   "source": [
    "import matplotlib.pylab as plt\n",
    "\n",
    "fig, ax = plt.subplots(figsize=(15,5))\n",
    "width = bins[1]-bins[0]\n",
    "ax.bar(x, hist, width=width*0.9)\n",
    "ax.grid()\n",
    "ax.set_title('Distribution of degree for the random Reddit network')\n",
    "ax.set_xlabel('Node degree')\n",
    "ax.set_ylabel('Probability density')\n",
    "ax.set_xscale('log')\n",
    "ax.set_yscale('log')\n",
    "plt.show()"
   ]
  },
  {
   "source": [
    "> * Plot the two distributions you computed in steps 1. and 2. in the same figure as two line-graphs. Log-scale the x and y axes. "
   ],
   "cell_type": "markdown",
   "metadata": {}
  },
  {
   "source": [
    "# create histogram and plot it\n",
    "degrees = list(rnd_G.degree())\n",
    "degrees = [(x,y) for x,y in degrees if y > 0]\n",
    "xx = [x for x,y in degrees]\n",
    "yy = [y for x,y in degrees]\n",
    "\n",
    "#linear binning\n",
    "bins_lin = np.linspace(0, 10, 10)\n",
    "hist_lin, hist_edges_lin = np.histogram(yy, bins=bins_lin, density=True)\n",
    "x_lin = (hist_edges_lin[1:]+hist_edges_lin[:-1])/2\n",
    "\n",
    "#log binning\n",
    "bins_log = np.logspace(0, np.log(10), 10)\n",
    "hist_log, hist_edges_log = np.histogram(yy, bins=bins, density=True)\n",
    "x_log = (hist_edges_log[1:]+hist_edges_log[:-1])/2\n",
    "\n",
    "# remove 0 entries\n",
    "def remove_zero_entries(x, hist):\n",
    "    return zip(*[(i,j) for (i,j) in zip(x, hist) if j > 0])\n",
    "\n",
    "xx_lin, yy_lin = remove_zero_entries(x_lin, hist_lin)\n",
    "xx_log, yy_log = remove_zero_entries(x_log, hist_log)\n",
    "\n",
    "fig, ax = plt.subplots(dpi = 100)\n",
    "\n",
    "ax.plot(xx_lin,yy_lin, marker = \".\", label = \"Linear Binning\")\n",
    "ax.plot(xx_log,yy_log, marker = \".\", label = \"Log Binning\")\n",
    "ax.set_yscale(\"log\")\n",
    "ax.set_xscale(\"log\")\n",
    "ax.set_xlabel(\"Node degree\")\n",
    "ax.set_ylabel(\"Probability Density\")\n",
    "ax.grid(linestyle = '--')\n",
    "ax.legend()\n",
    "\n",
    "ax.set_title(\"Distribution of lifespans\")\n",
    "fig.show()"
   ],
   "cell_type": "code",
   "metadata": {},
   "execution_count": 17,
   "outputs": [
    {
     "output_type": "display_data",
     "data": {
      "text/plain": "<Figure size 600x400 with 1 Axes>",
      "image/svg+xml": "<?xml version=\"1.0\" encoding=\"utf-8\" standalone=\"no\"?>\n<!DOCTYPE svg PUBLIC \"-//W3C//DTD SVG 1.1//EN\"\n  \"http://www.w3.org/Graphics/SVG/1.1/DTD/svg11.dtd\">\n<!-- Created with matplotlib (https://matplotlib.org/) -->\n<svg height=\"277.314375pt\" version=\"1.1\" viewBox=\"0 0 393.378125 277.314375\" width=\"393.378125pt\" xmlns=\"http://www.w3.org/2000/svg\" xmlns:xlink=\"http://www.w3.org/1999/xlink\">\n <metadata>\n  <rdf:RDF xmlns:cc=\"http://creativecommons.org/ns#\" xmlns:dc=\"http://purl.org/dc/elements/1.1/\" xmlns:rdf=\"http://www.w3.org/1999/02/22-rdf-syntax-ns#\">\n   <cc:Work>\n    <dc:type rdf:resource=\"http://purl.org/dc/dcmitype/StillImage\"/>\n    <dc:date>2021-03-05T14:05:36.963199</dc:date>\n    <dc:format>image/svg+xml</dc:format>\n    <dc:creator>\n     <cc:Agent>\n      <dc:title>Matplotlib v3.3.4, https://matplotlib.org/</dc:title>\n     </cc:Agent>\n    </dc:creator>\n   </cc:Work>\n  </rdf:RDF>\n </metadata>\n <defs>\n  <style type=\"text/css\">*{stroke-linecap:butt;stroke-linejoin:round;}</style>\n </defs>\n <g id=\"figure_1\">\n  <g id=\"patch_1\">\n   <path d=\"M 0 277.314375 \nL 393.378125 277.314375 \nL 393.378125 0 \nL 0 0 \nz\n\" style=\"fill:none;\"/>\n  </g>\n  <g id=\"axes_1\">\n   <g id=\"patch_2\">\n    <path d=\"M 51.378125 239.758125 \nL 386.178125 239.758125 \nL 386.178125 22.318125 \nL 51.378125 22.318125 \nz\n\" style=\"fill:#ffffff;\"/>\n   </g>\n   <g id=\"matplotlib.axis_1\">\n    <g id=\"xtick_1\">\n     <g id=\"line2d_1\">\n      <path clip-path=\"url(#p90c156cc99)\" d=\"M 129.74047 239.758125 \nL 129.74047 22.318125 \n\" style=\"fill:none;stroke:#b0b0b0;stroke-dasharray:2.96,1.28;stroke-dashoffset:0;stroke-width:0.8;\"/>\n     </g>\n     <g id=\"line2d_2\">\n      <defs>\n       <path d=\"M 0 0 \nL 0 3.5 \n\" id=\"m0fa942ab90\" style=\"stroke:#000000;stroke-width:0.8;\"/>\n      </defs>\n      <g>\n       <use style=\"stroke:#000000;stroke-width:0.8;\" x=\"129.74047\" xlink:href=\"#m0fa942ab90\" y=\"239.758125\"/>\n      </g>\n     </g>\n     <g id=\"text_1\">\n      <!-- $\\mathdefault{10^{0}}$ -->\n      <g transform=\"translate(120.94047 254.356562)scale(0.1 -0.1)\">\n       <defs>\n        <path d=\"M 12.40625 8.296875 \nL 28.515625 8.296875 \nL 28.515625 63.921875 \nL 10.984375 60.40625 \nL 10.984375 69.390625 \nL 28.421875 72.90625 \nL 38.28125 72.90625 \nL 38.28125 8.296875 \nL 54.390625 8.296875 \nL 54.390625 0 \nL 12.40625 0 \nz\n\" id=\"DejaVuSans-49\"/>\n        <path d=\"M 31.78125 66.40625 \nQ 24.171875 66.40625 20.328125 58.90625 \nQ 16.5 51.421875 16.5 36.375 \nQ 16.5 21.390625 20.328125 13.890625 \nQ 24.171875 6.390625 31.78125 6.390625 \nQ 39.453125 6.390625 43.28125 13.890625 \nQ 47.125 21.390625 47.125 36.375 \nQ 47.125 51.421875 43.28125 58.90625 \nQ 39.453125 66.40625 31.78125 66.40625 \nz\nM 31.78125 74.21875 \nQ 44.046875 74.21875 50.515625 64.515625 \nQ 56.984375 54.828125 56.984375 36.375 \nQ 56.984375 17.96875 50.515625 8.265625 \nQ 44.046875 -1.421875 31.78125 -1.421875 \nQ 19.53125 -1.421875 13.0625 8.265625 \nQ 6.59375 17.96875 6.59375 36.375 \nQ 6.59375 54.828125 13.0625 64.515625 \nQ 19.53125 74.21875 31.78125 74.21875 \nz\n\" id=\"DejaVuSans-48\"/>\n       </defs>\n       <use transform=\"translate(0 0.765625)\" xlink:href=\"#DejaVuSans-49\"/>\n       <use transform=\"translate(63.623047 0.765625)\" xlink:href=\"#DejaVuSans-48\"/>\n       <use transform=\"translate(128.203125 39.046875)scale(0.7)\" xlink:href=\"#DejaVuSans-48\"/>\n      </g>\n     </g>\n    </g>\n    <g id=\"xtick_2\">\n     <g id=\"line2d_3\">\n      <path clip-path=\"url(#p90c156cc99)\" d=\"M 377.100301 239.758125 \nL 377.100301 22.318125 \n\" style=\"fill:none;stroke:#b0b0b0;stroke-dasharray:2.96,1.28;stroke-dashoffset:0;stroke-width:0.8;\"/>\n     </g>\n     <g id=\"line2d_4\">\n      <g>\n       <use style=\"stroke:#000000;stroke-width:0.8;\" x=\"377.100301\" xlink:href=\"#m0fa942ab90\" y=\"239.758125\"/>\n      </g>\n     </g>\n     <g id=\"text_2\">\n      <!-- $\\mathdefault{10^{1}}$ -->\n      <g transform=\"translate(368.300301 254.356562)scale(0.1 -0.1)\">\n       <use transform=\"translate(0 0.684375)\" xlink:href=\"#DejaVuSans-49\"/>\n       <use transform=\"translate(63.623047 0.684375)\" xlink:href=\"#DejaVuSans-48\"/>\n       <use transform=\"translate(128.203125 38.965625)scale(0.7)\" xlink:href=\"#DejaVuSans-49\"/>\n      </g>\n     </g>\n    </g>\n    <g id=\"xtick_3\">\n     <g id=\"line2d_5\">\n      <defs>\n       <path d=\"M 0 0 \nL 0 2 \n\" id=\"m57b5f98d6c\" style=\"stroke:#000000;stroke-width:0.6;\"/>\n      </defs>\n      <g>\n       <use style=\"stroke:#000000;stroke-width:0.6;\" x=\"55.277742\" xlink:href=\"#m57b5f98d6c\" y=\"239.758125\"/>\n      </g>\n     </g>\n    </g>\n    <g id=\"xtick_4\">\n     <g id=\"line2d_6\">\n      <g>\n       <use style=\"stroke:#000000;stroke-width:0.6;\" x=\"74.864001\" xlink:href=\"#m57b5f98d6c\" y=\"239.758125\"/>\n      </g>\n     </g>\n    </g>\n    <g id=\"xtick_5\">\n     <g id=\"line2d_7\">\n      <g>\n       <use style=\"stroke:#000000;stroke-width:0.6;\" x=\"91.423948\" xlink:href=\"#m57b5f98d6c\" y=\"239.758125\"/>\n      </g>\n     </g>\n    </g>\n    <g id=\"xtick_6\">\n     <g id=\"line2d_8\">\n      <g>\n       <use style=\"stroke:#000000;stroke-width:0.6;\" x=\"105.768826\" xlink:href=\"#m57b5f98d6c\" y=\"239.758125\"/>\n      </g>\n     </g>\n    </g>\n    <g id=\"xtick_7\">\n     <g id=\"line2d_9\">\n      <g>\n       <use style=\"stroke:#000000;stroke-width:0.6;\" x=\"118.421905\" xlink:href=\"#m57b5f98d6c\" y=\"239.758125\"/>\n      </g>\n     </g>\n    </g>\n    <g id=\"xtick_8\">\n     <g id=\"line2d_10\">\n      <g>\n       <use style=\"stroke:#000000;stroke-width:0.6;\" x=\"204.203199\" xlink:href=\"#m57b5f98d6c\" y=\"239.758125\"/>\n      </g>\n     </g>\n    </g>\n    <g id=\"xtick_9\">\n     <g id=\"line2d_11\">\n      <g>\n       <use style=\"stroke:#000000;stroke-width:0.6;\" x=\"247.761103\" xlink:href=\"#m57b5f98d6c\" y=\"239.758125\"/>\n      </g>\n     </g>\n    </g>\n    <g id=\"xtick_10\">\n     <g id=\"line2d_12\">\n      <g>\n       <use style=\"stroke:#000000;stroke-width:0.6;\" x=\"278.665928\" xlink:href=\"#m57b5f98d6c\" y=\"239.758125\"/>\n      </g>\n     </g>\n    </g>\n    <g id=\"xtick_11\">\n     <g id=\"line2d_13\">\n      <g>\n       <use style=\"stroke:#000000;stroke-width:0.6;\" x=\"302.637572\" xlink:href=\"#m57b5f98d6c\" y=\"239.758125\"/>\n      </g>\n     </g>\n    </g>\n    <g id=\"xtick_12\">\n     <g id=\"line2d_14\">\n      <g>\n       <use style=\"stroke:#000000;stroke-width:0.6;\" x=\"322.223832\" xlink:href=\"#m57b5f98d6c\" y=\"239.758125\"/>\n      </g>\n     </g>\n    </g>\n    <g id=\"xtick_13\">\n     <g id=\"line2d_15\">\n      <g>\n       <use style=\"stroke:#000000;stroke-width:0.6;\" x=\"338.783778\" xlink:href=\"#m57b5f98d6c\" y=\"239.758125\"/>\n      </g>\n     </g>\n    </g>\n    <g id=\"xtick_14\">\n     <g id=\"line2d_16\">\n      <g>\n       <use style=\"stroke:#000000;stroke-width:0.6;\" x=\"353.128656\" xlink:href=\"#m57b5f98d6c\" y=\"239.758125\"/>\n      </g>\n     </g>\n    </g>\n    <g id=\"xtick_15\">\n     <g id=\"line2d_17\">\n      <g>\n       <use style=\"stroke:#000000;stroke-width:0.6;\" x=\"365.781736\" xlink:href=\"#m57b5f98d6c\" y=\"239.758125\"/>\n      </g>\n     </g>\n    </g>\n    <g id=\"text_3\">\n     <!-- Node degree -->\n     <g transform=\"translate(186.617188 268.034687)scale(0.1 -0.1)\">\n      <defs>\n       <path d=\"M 9.8125 72.90625 \nL 23.09375 72.90625 \nL 55.421875 11.921875 \nL 55.421875 72.90625 \nL 64.984375 72.90625 \nL 64.984375 0 \nL 51.703125 0 \nL 19.390625 60.984375 \nL 19.390625 0 \nL 9.8125 0 \nz\n\" id=\"DejaVuSans-78\"/>\n       <path d=\"M 30.609375 48.390625 \nQ 23.390625 48.390625 19.1875 42.75 \nQ 14.984375 37.109375 14.984375 27.296875 \nQ 14.984375 17.484375 19.15625 11.84375 \nQ 23.34375 6.203125 30.609375 6.203125 \nQ 37.796875 6.203125 41.984375 11.859375 \nQ 46.1875 17.53125 46.1875 27.296875 \nQ 46.1875 37.015625 41.984375 42.703125 \nQ 37.796875 48.390625 30.609375 48.390625 \nz\nM 30.609375 56 \nQ 42.328125 56 49.015625 48.375 \nQ 55.71875 40.765625 55.71875 27.296875 \nQ 55.71875 13.875 49.015625 6.21875 \nQ 42.328125 -1.421875 30.609375 -1.421875 \nQ 18.84375 -1.421875 12.171875 6.21875 \nQ 5.515625 13.875 5.515625 27.296875 \nQ 5.515625 40.765625 12.171875 48.375 \nQ 18.84375 56 30.609375 56 \nz\n\" id=\"DejaVuSans-111\"/>\n       <path d=\"M 45.40625 46.390625 \nL 45.40625 75.984375 \nL 54.390625 75.984375 \nL 54.390625 0 \nL 45.40625 0 \nL 45.40625 8.203125 \nQ 42.578125 3.328125 38.25 0.953125 \nQ 33.9375 -1.421875 27.875 -1.421875 \nQ 17.96875 -1.421875 11.734375 6.484375 \nQ 5.515625 14.40625 5.515625 27.296875 \nQ 5.515625 40.1875 11.734375 48.09375 \nQ 17.96875 56 27.875 56 \nQ 33.9375 56 38.25 53.625 \nQ 42.578125 51.265625 45.40625 46.390625 \nz\nM 14.796875 27.296875 \nQ 14.796875 17.390625 18.875 11.75 \nQ 22.953125 6.109375 30.078125 6.109375 \nQ 37.203125 6.109375 41.296875 11.75 \nQ 45.40625 17.390625 45.40625 27.296875 \nQ 45.40625 37.203125 41.296875 42.84375 \nQ 37.203125 48.484375 30.078125 48.484375 \nQ 22.953125 48.484375 18.875 42.84375 \nQ 14.796875 37.203125 14.796875 27.296875 \nz\n\" id=\"DejaVuSans-100\"/>\n       <path d=\"M 56.203125 29.59375 \nL 56.203125 25.203125 \nL 14.890625 25.203125 \nQ 15.484375 15.921875 20.484375 11.0625 \nQ 25.484375 6.203125 34.421875 6.203125 \nQ 39.59375 6.203125 44.453125 7.46875 \nQ 49.3125 8.734375 54.109375 11.28125 \nL 54.109375 2.78125 \nQ 49.265625 0.734375 44.1875 -0.34375 \nQ 39.109375 -1.421875 33.890625 -1.421875 \nQ 20.796875 -1.421875 13.15625 6.1875 \nQ 5.515625 13.8125 5.515625 26.8125 \nQ 5.515625 40.234375 12.765625 48.109375 \nQ 20.015625 56 32.328125 56 \nQ 43.359375 56 49.78125 48.890625 \nQ 56.203125 41.796875 56.203125 29.59375 \nz\nM 47.21875 32.234375 \nQ 47.125 39.59375 43.09375 43.984375 \nQ 39.0625 48.390625 32.421875 48.390625 \nQ 24.90625 48.390625 20.390625 44.140625 \nQ 15.875 39.890625 15.1875 32.171875 \nz\n\" id=\"DejaVuSans-101\"/>\n       <path id=\"DejaVuSans-32\"/>\n       <path d=\"M 45.40625 27.984375 \nQ 45.40625 37.75 41.375 43.109375 \nQ 37.359375 48.484375 30.078125 48.484375 \nQ 22.859375 48.484375 18.828125 43.109375 \nQ 14.796875 37.75 14.796875 27.984375 \nQ 14.796875 18.265625 18.828125 12.890625 \nQ 22.859375 7.515625 30.078125 7.515625 \nQ 37.359375 7.515625 41.375 12.890625 \nQ 45.40625 18.265625 45.40625 27.984375 \nz\nM 54.390625 6.78125 \nQ 54.390625 -7.171875 48.1875 -13.984375 \nQ 42 -20.796875 29.203125 -20.796875 \nQ 24.46875 -20.796875 20.265625 -20.09375 \nQ 16.0625 -19.390625 12.109375 -17.921875 \nL 12.109375 -9.1875 \nQ 16.0625 -11.328125 19.921875 -12.34375 \nQ 23.78125 -13.375 27.78125 -13.375 \nQ 36.625 -13.375 41.015625 -8.765625 \nQ 45.40625 -4.15625 45.40625 5.171875 \nL 45.40625 9.625 \nQ 42.625 4.78125 38.28125 2.390625 \nQ 33.9375 0 27.875 0 \nQ 17.828125 0 11.671875 7.65625 \nQ 5.515625 15.328125 5.515625 27.984375 \nQ 5.515625 40.671875 11.671875 48.328125 \nQ 17.828125 56 27.875 56 \nQ 33.9375 56 38.28125 53.609375 \nQ 42.625 51.21875 45.40625 46.390625 \nL 45.40625 54.6875 \nL 54.390625 54.6875 \nz\n\" id=\"DejaVuSans-103\"/>\n       <path d=\"M 41.109375 46.296875 \nQ 39.59375 47.171875 37.8125 47.578125 \nQ 36.03125 48 33.890625 48 \nQ 26.265625 48 22.1875 43.046875 \nQ 18.109375 38.09375 18.109375 28.8125 \nL 18.109375 0 \nL 9.078125 0 \nL 9.078125 54.6875 \nL 18.109375 54.6875 \nL 18.109375 46.1875 \nQ 20.953125 51.171875 25.484375 53.578125 \nQ 30.03125 56 36.53125 56 \nQ 37.453125 56 38.578125 55.875 \nQ 39.703125 55.765625 41.0625 55.515625 \nz\n\" id=\"DejaVuSans-114\"/>\n      </defs>\n      <use xlink:href=\"#DejaVuSans-78\"/>\n      <use x=\"74.804688\" xlink:href=\"#DejaVuSans-111\"/>\n      <use x=\"135.986328\" xlink:href=\"#DejaVuSans-100\"/>\n      <use x=\"199.462891\" xlink:href=\"#DejaVuSans-101\"/>\n      <use x=\"260.986328\" xlink:href=\"#DejaVuSans-32\"/>\n      <use x=\"292.773438\" xlink:href=\"#DejaVuSans-100\"/>\n      <use x=\"356.25\" xlink:href=\"#DejaVuSans-101\"/>\n      <use x=\"417.773438\" xlink:href=\"#DejaVuSans-103\"/>\n      <use x=\"481.25\" xlink:href=\"#DejaVuSans-114\"/>\n      <use x=\"520.113281\" xlink:href=\"#DejaVuSans-101\"/>\n      <use x=\"581.636719\" xlink:href=\"#DejaVuSans-101\"/>\n     </g>\n    </g>\n   </g>\n   <g id=\"matplotlib.axis_2\">\n    <g id=\"ytick_1\">\n     <g id=\"line2d_18\">\n      <path clip-path=\"url(#p90c156cc99)\" d=\"M 51.378125 231.699056 \nL 386.178125 231.699056 \n\" style=\"fill:none;stroke:#b0b0b0;stroke-dasharray:2.96,1.28;stroke-dashoffset:0;stroke-width:0.8;\"/>\n     </g>\n     <g id=\"line2d_19\">\n      <defs>\n       <path d=\"M 0 0 \nL -3.5 0 \n\" id=\"m03f2adcfd3\" style=\"stroke:#000000;stroke-width:0.8;\"/>\n      </defs>\n      <g>\n       <use style=\"stroke:#000000;stroke-width:0.8;\" x=\"51.378125\" xlink:href=\"#m03f2adcfd3\" y=\"231.699056\"/>\n      </g>\n     </g>\n     <g id=\"text_4\">\n      <!-- $\\mathdefault{10^{-3}}$ -->\n      <g transform=\"translate(20.878125 235.498275)scale(0.1 -0.1)\">\n       <defs>\n        <path d=\"M 10.59375 35.5 \nL 73.1875 35.5 \nL 73.1875 27.203125 \nL 10.59375 27.203125 \nz\n\" id=\"DejaVuSans-8722\"/>\n        <path d=\"M 40.578125 39.3125 \nQ 47.65625 37.796875 51.625 33 \nQ 55.609375 28.21875 55.609375 21.1875 \nQ 55.609375 10.40625 48.1875 4.484375 \nQ 40.765625 -1.421875 27.09375 -1.421875 \nQ 22.515625 -1.421875 17.65625 -0.515625 \nQ 12.796875 0.390625 7.625 2.203125 \nL 7.625 11.71875 \nQ 11.71875 9.328125 16.59375 8.109375 \nQ 21.484375 6.890625 26.8125 6.890625 \nQ 36.078125 6.890625 40.9375 10.546875 \nQ 45.796875 14.203125 45.796875 21.1875 \nQ 45.796875 27.640625 41.28125 31.265625 \nQ 36.765625 34.90625 28.71875 34.90625 \nL 20.21875 34.90625 \nL 20.21875 43.015625 \nL 29.109375 43.015625 \nQ 36.375 43.015625 40.234375 45.921875 \nQ 44.09375 48.828125 44.09375 54.296875 \nQ 44.09375 59.90625 40.109375 62.90625 \nQ 36.140625 65.921875 28.71875 65.921875 \nQ 24.65625 65.921875 20.015625 65.03125 \nQ 15.375 64.15625 9.8125 62.3125 \nL 9.8125 71.09375 \nQ 15.4375 72.65625 20.34375 73.4375 \nQ 25.25 74.21875 29.59375 74.21875 \nQ 40.828125 74.21875 47.359375 69.109375 \nQ 53.90625 64.015625 53.90625 55.328125 \nQ 53.90625 49.265625 50.4375 45.09375 \nQ 46.96875 40.921875 40.578125 39.3125 \nz\n\" id=\"DejaVuSans-51\"/>\n       </defs>\n       <use transform=\"translate(0 0.765625)\" xlink:href=\"#DejaVuSans-49\"/>\n       <use transform=\"translate(63.623047 0.765625)\" xlink:href=\"#DejaVuSans-48\"/>\n       <use transform=\"translate(128.203125 39.046875)scale(0.7)\" xlink:href=\"#DejaVuSans-8722\"/>\n       <use transform=\"translate(186.855469 39.046875)scale(0.7)\" xlink:href=\"#DejaVuSans-51\"/>\n      </g>\n     </g>\n    </g>\n    <g id=\"ytick_2\">\n     <g id=\"line2d_20\">\n      <path clip-path=\"url(#p90c156cc99)\" d=\"M 51.378125 153.369515 \nL 386.178125 153.369515 \n\" style=\"fill:none;stroke:#b0b0b0;stroke-dasharray:2.96,1.28;stroke-dashoffset:0;stroke-width:0.8;\"/>\n     </g>\n     <g id=\"line2d_21\">\n      <g>\n       <use style=\"stroke:#000000;stroke-width:0.8;\" x=\"51.378125\" xlink:href=\"#m03f2adcfd3\" y=\"153.369515\"/>\n      </g>\n     </g>\n     <g id=\"text_5\">\n      <!-- $\\mathdefault{10^{-2}}$ -->\n      <g transform=\"translate(20.878125 157.168734)scale(0.1 -0.1)\">\n       <defs>\n        <path d=\"M 19.1875 8.296875 \nL 53.609375 8.296875 \nL 53.609375 0 \nL 7.328125 0 \nL 7.328125 8.296875 \nQ 12.9375 14.109375 22.625 23.890625 \nQ 32.328125 33.6875 34.8125 36.53125 \nQ 39.546875 41.84375 41.421875 45.53125 \nQ 43.3125 49.21875 43.3125 52.78125 \nQ 43.3125 58.59375 39.234375 62.25 \nQ 35.15625 65.921875 28.609375 65.921875 \nQ 23.96875 65.921875 18.8125 64.3125 \nQ 13.671875 62.703125 7.8125 59.421875 \nL 7.8125 69.390625 \nQ 13.765625 71.78125 18.9375 73 \nQ 24.125 74.21875 28.421875 74.21875 \nQ 39.75 74.21875 46.484375 68.546875 \nQ 53.21875 62.890625 53.21875 53.421875 \nQ 53.21875 48.921875 51.53125 44.890625 \nQ 49.859375 40.875 45.40625 35.40625 \nQ 44.1875 33.984375 37.640625 27.21875 \nQ 31.109375 20.453125 19.1875 8.296875 \nz\n\" id=\"DejaVuSans-50\"/>\n       </defs>\n       <use transform=\"translate(0 0.765625)\" xlink:href=\"#DejaVuSans-49\"/>\n       <use transform=\"translate(63.623047 0.765625)\" xlink:href=\"#DejaVuSans-48\"/>\n       <use transform=\"translate(128.203125 39.046875)scale(0.7)\" xlink:href=\"#DejaVuSans-8722\"/>\n       <use transform=\"translate(186.855469 39.046875)scale(0.7)\" xlink:href=\"#DejaVuSans-50\"/>\n      </g>\n     </g>\n    </g>\n    <g id=\"ytick_3\">\n     <g id=\"line2d_22\">\n      <path clip-path=\"url(#p90c156cc99)\" d=\"M 51.378125 75.039974 \nL 386.178125 75.039974 \n\" style=\"fill:none;stroke:#b0b0b0;stroke-dasharray:2.96,1.28;stroke-dashoffset:0;stroke-width:0.8;\"/>\n     </g>\n     <g id=\"line2d_23\">\n      <g>\n       <use style=\"stroke:#000000;stroke-width:0.8;\" x=\"51.378125\" xlink:href=\"#m03f2adcfd3\" y=\"75.039974\"/>\n      </g>\n     </g>\n     <g id=\"text_6\">\n      <!-- $\\mathdefault{10^{-1}}$ -->\n      <g transform=\"translate(20.878125 78.839193)scale(0.1 -0.1)\">\n       <use transform=\"translate(0 0.684375)\" xlink:href=\"#DejaVuSans-49\"/>\n       <use transform=\"translate(63.623047 0.684375)\" xlink:href=\"#DejaVuSans-48\"/>\n       <use transform=\"translate(128.203125 38.965625)scale(0.7)\" xlink:href=\"#DejaVuSans-8722\"/>\n       <use transform=\"translate(186.855469 38.965625)scale(0.7)\" xlink:href=\"#DejaVuSans-49\"/>\n      </g>\n     </g>\n    </g>\n    <g id=\"ytick_4\">\n     <g id=\"line2d_24\">\n      <defs>\n       <path d=\"M 0 0 \nL -2 0 \n\" id=\"md2a575b436\" style=\"stroke:#000000;stroke-width:0.6;\"/>\n      </defs>\n      <g>\n       <use style=\"stroke:#000000;stroke-width:0.6;\" x=\"51.378125\" xlink:href=\"#md2a575b436\" y=\"239.289973\"/>\n      </g>\n     </g>\n    </g>\n    <g id=\"ytick_5\">\n     <g id=\"line2d_25\">\n      <g>\n       <use style=\"stroke:#000000;stroke-width:0.6;\" x=\"51.378125\" xlink:href=\"#md2a575b436\" y=\"235.283219\"/>\n      </g>\n     </g>\n    </g>\n    <g id=\"ytick_6\">\n     <g id=\"line2d_26\">\n      <g>\n       <use style=\"stroke:#000000;stroke-width:0.6;\" x=\"51.378125\" xlink:href=\"#md2a575b436\" y=\"208.119515\"/>\n      </g>\n     </g>\n    </g>\n    <g id=\"ytick_7\">\n     <g id=\"line2d_27\">\n      <g>\n       <use style=\"stroke:#000000;stroke-width:0.6;\" x=\"51.378125\" xlink:href=\"#md2a575b436\" y=\"194.326367\"/>\n      </g>\n     </g>\n    </g>\n    <g id=\"ytick_8\">\n     <g id=\"line2d_28\">\n      <g>\n       <use style=\"stroke:#000000;stroke-width:0.6;\" x=\"51.378125\" xlink:href=\"#md2a575b436\" y=\"184.539973\"/>\n      </g>\n     </g>\n    </g>\n    <g id=\"ytick_9\">\n     <g id=\"line2d_29\">\n      <g>\n       <use style=\"stroke:#000000;stroke-width:0.6;\" x=\"51.378125\" xlink:href=\"#md2a575b436\" y=\"176.949056\"/>\n      </g>\n     </g>\n    </g>\n    <g id=\"ytick_10\">\n     <g id=\"line2d_30\">\n      <g>\n       <use style=\"stroke:#000000;stroke-width:0.6;\" x=\"51.378125\" xlink:href=\"#md2a575b436\" y=\"170.746826\"/>\n      </g>\n     </g>\n    </g>\n    <g id=\"ytick_11\">\n     <g id=\"line2d_31\">\n      <g>\n       <use style=\"stroke:#000000;stroke-width:0.6;\" x=\"51.378125\" xlink:href=\"#md2a575b436\" y=\"165.502915\"/>\n      </g>\n     </g>\n    </g>\n    <g id=\"ytick_12\">\n     <g id=\"line2d_32\">\n      <g>\n       <use style=\"stroke:#000000;stroke-width:0.6;\" x=\"51.378125\" xlink:href=\"#md2a575b436\" y=\"160.960432\"/>\n      </g>\n     </g>\n    </g>\n    <g id=\"ytick_13\">\n     <g id=\"line2d_33\">\n      <g>\n       <use style=\"stroke:#000000;stroke-width:0.6;\" x=\"51.378125\" xlink:href=\"#md2a575b436\" y=\"156.953678\"/>\n      </g>\n     </g>\n    </g>\n    <g id=\"ytick_14\">\n     <g id=\"line2d_34\">\n      <g>\n       <use style=\"stroke:#000000;stroke-width:0.6;\" x=\"51.378125\" xlink:href=\"#md2a575b436\" y=\"129.789974\"/>\n      </g>\n     </g>\n    </g>\n    <g id=\"ytick_15\">\n     <g id=\"line2d_35\">\n      <g>\n       <use style=\"stroke:#000000;stroke-width:0.6;\" x=\"51.378125\" xlink:href=\"#md2a575b436\" y=\"115.996826\"/>\n      </g>\n     </g>\n    </g>\n    <g id=\"ytick_16\">\n     <g id=\"line2d_36\">\n      <g>\n       <use style=\"stroke:#000000;stroke-width:0.6;\" x=\"51.378125\" xlink:href=\"#md2a575b436\" y=\"106.210432\"/>\n      </g>\n     </g>\n    </g>\n    <g id=\"ytick_17\">\n     <g id=\"line2d_37\">\n      <g>\n       <use style=\"stroke:#000000;stroke-width:0.6;\" x=\"51.378125\" xlink:href=\"#md2a575b436\" y=\"98.619516\"/>\n      </g>\n     </g>\n    </g>\n    <g id=\"ytick_18\">\n     <g id=\"line2d_38\">\n      <g>\n       <use style=\"stroke:#000000;stroke-width:0.6;\" x=\"51.378125\" xlink:href=\"#md2a575b436\" y=\"92.417285\"/>\n      </g>\n     </g>\n    </g>\n    <g id=\"ytick_19\">\n     <g id=\"line2d_39\">\n      <g>\n       <use style=\"stroke:#000000;stroke-width:0.6;\" x=\"51.378125\" xlink:href=\"#md2a575b436\" y=\"87.173374\"/>\n      </g>\n     </g>\n    </g>\n    <g id=\"ytick_20\">\n     <g id=\"line2d_40\">\n      <g>\n       <use style=\"stroke:#000000;stroke-width:0.6;\" x=\"51.378125\" xlink:href=\"#md2a575b436\" y=\"82.630891\"/>\n      </g>\n     </g>\n    </g>\n    <g id=\"ytick_21\">\n     <g id=\"line2d_41\">\n      <g>\n       <use style=\"stroke:#000000;stroke-width:0.6;\" x=\"51.378125\" xlink:href=\"#md2a575b436\" y=\"78.624137\"/>\n      </g>\n     </g>\n    </g>\n    <g id=\"ytick_22\">\n     <g id=\"line2d_42\">\n      <g>\n       <use style=\"stroke:#000000;stroke-width:0.6;\" x=\"51.378125\" xlink:href=\"#md2a575b436\" y=\"51.460433\"/>\n      </g>\n     </g>\n    </g>\n    <g id=\"ytick_23\">\n     <g id=\"line2d_43\">\n      <g>\n       <use style=\"stroke:#000000;stroke-width:0.6;\" x=\"51.378125\" xlink:href=\"#md2a575b436\" y=\"37.667285\"/>\n      </g>\n     </g>\n    </g>\n    <g id=\"ytick_24\">\n     <g id=\"line2d_44\">\n      <g>\n       <use style=\"stroke:#000000;stroke-width:0.6;\" x=\"51.378125\" xlink:href=\"#md2a575b436\" y=\"27.880891\"/>\n      </g>\n     </g>\n    </g>\n    <g id=\"text_7\">\n     <!-- Probability Density -->\n     <g transform=\"translate(14.798438 178.064687)rotate(-90)scale(0.1 -0.1)\">\n      <defs>\n       <path d=\"M 19.671875 64.796875 \nL 19.671875 37.40625 \nL 32.078125 37.40625 \nQ 38.96875 37.40625 42.71875 40.96875 \nQ 46.484375 44.53125 46.484375 51.125 \nQ 46.484375 57.671875 42.71875 61.234375 \nQ 38.96875 64.796875 32.078125 64.796875 \nz\nM 9.8125 72.90625 \nL 32.078125 72.90625 \nQ 44.34375 72.90625 50.609375 67.359375 \nQ 56.890625 61.8125 56.890625 51.125 \nQ 56.890625 40.328125 50.609375 34.8125 \nQ 44.34375 29.296875 32.078125 29.296875 \nL 19.671875 29.296875 \nL 19.671875 0 \nL 9.8125 0 \nz\n\" id=\"DejaVuSans-80\"/>\n       <path d=\"M 48.6875 27.296875 \nQ 48.6875 37.203125 44.609375 42.84375 \nQ 40.53125 48.484375 33.40625 48.484375 \nQ 26.265625 48.484375 22.1875 42.84375 \nQ 18.109375 37.203125 18.109375 27.296875 \nQ 18.109375 17.390625 22.1875 11.75 \nQ 26.265625 6.109375 33.40625 6.109375 \nQ 40.53125 6.109375 44.609375 11.75 \nQ 48.6875 17.390625 48.6875 27.296875 \nz\nM 18.109375 46.390625 \nQ 20.953125 51.265625 25.265625 53.625 \nQ 29.59375 56 35.59375 56 \nQ 45.5625 56 51.78125 48.09375 \nQ 58.015625 40.1875 58.015625 27.296875 \nQ 58.015625 14.40625 51.78125 6.484375 \nQ 45.5625 -1.421875 35.59375 -1.421875 \nQ 29.59375 -1.421875 25.265625 0.953125 \nQ 20.953125 3.328125 18.109375 8.203125 \nL 18.109375 0 \nL 9.078125 0 \nL 9.078125 75.984375 \nL 18.109375 75.984375 \nz\n\" id=\"DejaVuSans-98\"/>\n       <path d=\"M 34.28125 27.484375 \nQ 23.390625 27.484375 19.1875 25 \nQ 14.984375 22.515625 14.984375 16.5 \nQ 14.984375 11.71875 18.140625 8.90625 \nQ 21.296875 6.109375 26.703125 6.109375 \nQ 34.1875 6.109375 38.703125 11.40625 \nQ 43.21875 16.703125 43.21875 25.484375 \nL 43.21875 27.484375 \nz\nM 52.203125 31.203125 \nL 52.203125 0 \nL 43.21875 0 \nL 43.21875 8.296875 \nQ 40.140625 3.328125 35.546875 0.953125 \nQ 30.953125 -1.421875 24.3125 -1.421875 \nQ 15.921875 -1.421875 10.953125 3.296875 \nQ 6 8.015625 6 15.921875 \nQ 6 25.140625 12.171875 29.828125 \nQ 18.359375 34.515625 30.609375 34.515625 \nL 43.21875 34.515625 \nL 43.21875 35.40625 \nQ 43.21875 41.609375 39.140625 45 \nQ 35.0625 48.390625 27.6875 48.390625 \nQ 23 48.390625 18.546875 47.265625 \nQ 14.109375 46.140625 10.015625 43.890625 \nL 10.015625 52.203125 \nQ 14.9375 54.109375 19.578125 55.046875 \nQ 24.21875 56 28.609375 56 \nQ 40.484375 56 46.34375 49.84375 \nQ 52.203125 43.703125 52.203125 31.203125 \nz\n\" id=\"DejaVuSans-97\"/>\n       <path d=\"M 9.421875 54.6875 \nL 18.40625 54.6875 \nL 18.40625 0 \nL 9.421875 0 \nz\nM 9.421875 75.984375 \nL 18.40625 75.984375 \nL 18.40625 64.59375 \nL 9.421875 64.59375 \nz\n\" id=\"DejaVuSans-105\"/>\n       <path d=\"M 9.421875 75.984375 \nL 18.40625 75.984375 \nL 18.40625 0 \nL 9.421875 0 \nz\n\" id=\"DejaVuSans-108\"/>\n       <path d=\"M 18.3125 70.21875 \nL 18.3125 54.6875 \nL 36.8125 54.6875 \nL 36.8125 47.703125 \nL 18.3125 47.703125 \nL 18.3125 18.015625 \nQ 18.3125 11.328125 20.140625 9.421875 \nQ 21.96875 7.515625 27.59375 7.515625 \nL 36.8125 7.515625 \nL 36.8125 0 \nL 27.59375 0 \nQ 17.1875 0 13.234375 3.875 \nQ 9.28125 7.765625 9.28125 18.015625 \nL 9.28125 47.703125 \nL 2.6875 47.703125 \nL 2.6875 54.6875 \nL 9.28125 54.6875 \nL 9.28125 70.21875 \nz\n\" id=\"DejaVuSans-116\"/>\n       <path d=\"M 32.171875 -5.078125 \nQ 28.375 -14.84375 24.75 -17.8125 \nQ 21.140625 -20.796875 15.09375 -20.796875 \nL 7.90625 -20.796875 \nL 7.90625 -13.28125 \nL 13.1875 -13.28125 \nQ 16.890625 -13.28125 18.9375 -11.515625 \nQ 21 -9.765625 23.484375 -3.21875 \nL 25.09375 0.875 \nL 2.984375 54.6875 \nL 12.5 54.6875 \nL 29.59375 11.921875 \nL 46.6875 54.6875 \nL 56.203125 54.6875 \nz\n\" id=\"DejaVuSans-121\"/>\n       <path d=\"M 19.671875 64.796875 \nL 19.671875 8.109375 \nL 31.59375 8.109375 \nQ 46.6875 8.109375 53.6875 14.9375 \nQ 60.6875 21.78125 60.6875 36.53125 \nQ 60.6875 51.171875 53.6875 57.984375 \nQ 46.6875 64.796875 31.59375 64.796875 \nz\nM 9.8125 72.90625 \nL 30.078125 72.90625 \nQ 51.265625 72.90625 61.171875 64.09375 \nQ 71.09375 55.28125 71.09375 36.53125 \nQ 71.09375 17.671875 61.125 8.828125 \nQ 51.171875 0 30.078125 0 \nL 9.8125 0 \nz\n\" id=\"DejaVuSans-68\"/>\n       <path d=\"M 54.890625 33.015625 \nL 54.890625 0 \nL 45.90625 0 \nL 45.90625 32.71875 \nQ 45.90625 40.484375 42.875 44.328125 \nQ 39.84375 48.1875 33.796875 48.1875 \nQ 26.515625 48.1875 22.3125 43.546875 \nQ 18.109375 38.921875 18.109375 30.90625 \nL 18.109375 0 \nL 9.078125 0 \nL 9.078125 54.6875 \nL 18.109375 54.6875 \nL 18.109375 46.1875 \nQ 21.34375 51.125 25.703125 53.5625 \nQ 30.078125 56 35.796875 56 \nQ 45.21875 56 50.046875 50.171875 \nQ 54.890625 44.34375 54.890625 33.015625 \nz\n\" id=\"DejaVuSans-110\"/>\n       <path d=\"M 44.28125 53.078125 \nL 44.28125 44.578125 \nQ 40.484375 46.53125 36.375 47.5 \nQ 32.28125 48.484375 27.875 48.484375 \nQ 21.1875 48.484375 17.84375 46.4375 \nQ 14.5 44.390625 14.5 40.28125 \nQ 14.5 37.15625 16.890625 35.375 \nQ 19.28125 33.59375 26.515625 31.984375 \nL 29.59375 31.296875 \nQ 39.15625 29.25 43.1875 25.515625 \nQ 47.21875 21.78125 47.21875 15.09375 \nQ 47.21875 7.46875 41.1875 3.015625 \nQ 35.15625 -1.421875 24.609375 -1.421875 \nQ 20.21875 -1.421875 15.453125 -0.5625 \nQ 10.6875 0.296875 5.421875 2 \nL 5.421875 11.28125 \nQ 10.40625 8.6875 15.234375 7.390625 \nQ 20.0625 6.109375 24.8125 6.109375 \nQ 31.15625 6.109375 34.5625 8.28125 \nQ 37.984375 10.453125 37.984375 14.40625 \nQ 37.984375 18.0625 35.515625 20.015625 \nQ 33.0625 21.96875 24.703125 23.78125 \nL 21.578125 24.515625 \nQ 13.234375 26.265625 9.515625 29.90625 \nQ 5.8125 33.546875 5.8125 39.890625 \nQ 5.8125 47.609375 11.28125 51.796875 \nQ 16.75 56 26.8125 56 \nQ 31.78125 56 36.171875 55.265625 \nQ 40.578125 54.546875 44.28125 53.078125 \nz\n\" id=\"DejaVuSans-115\"/>\n      </defs>\n      <use xlink:href=\"#DejaVuSans-80\"/>\n      <use x=\"58.552734\" xlink:href=\"#DejaVuSans-114\"/>\n      <use x=\"97.416016\" xlink:href=\"#DejaVuSans-111\"/>\n      <use x=\"158.597656\" xlink:href=\"#DejaVuSans-98\"/>\n      <use x=\"222.074219\" xlink:href=\"#DejaVuSans-97\"/>\n      <use x=\"283.353516\" xlink:href=\"#DejaVuSans-98\"/>\n      <use x=\"346.830078\" xlink:href=\"#DejaVuSans-105\"/>\n      <use x=\"374.613281\" xlink:href=\"#DejaVuSans-108\"/>\n      <use x=\"402.396484\" xlink:href=\"#DejaVuSans-105\"/>\n      <use x=\"430.179688\" xlink:href=\"#DejaVuSans-116\"/>\n      <use x=\"469.388672\" xlink:href=\"#DejaVuSans-121\"/>\n      <use x=\"528.568359\" xlink:href=\"#DejaVuSans-32\"/>\n      <use x=\"560.355469\" xlink:href=\"#DejaVuSans-68\"/>\n      <use x=\"637.357422\" xlink:href=\"#DejaVuSans-101\"/>\n      <use x=\"698.880859\" xlink:href=\"#DejaVuSans-110\"/>\n      <use x=\"762.259766\" xlink:href=\"#DejaVuSans-115\"/>\n      <use x=\"814.359375\" xlink:href=\"#DejaVuSans-105\"/>\n      <use x=\"842.142578\" xlink:href=\"#DejaVuSans-116\"/>\n      <use x=\"881.351562\" xlink:href=\"#DejaVuSans-121\"/>\n     </g>\n    </g>\n   </g>\n   <g id=\"line2d_45\">\n    <path clip-path=\"url(#p90c156cc99)\" d=\"M 66.596307 49.904206 \nL 184.616939 43.332541 \nL 239.493408 50.697089 \nL 275.639615 65.585634 \nL 302.637572 88.702337 \nL 324.195025 129.455488 \nL 342.141145 159.135864 \nL 357.514041 189.407114 \nL 370.959943 229.874489 \n\" style=\"fill:none;stroke:#1f77b4;stroke-linecap:square;stroke-width:1.5;\"/>\n    <defs>\n     <path d=\"M 0 1.5 \nC 0.397805 1.5 0.77937 1.341951 1.06066 1.06066 \nC 1.341951 0.77937 1.5 0.397805 1.5 0 \nC 1.5 -0.397805 1.341951 -0.77937 1.06066 -1.06066 \nC 0.77937 -1.341951 0.397805 -1.5 0 -1.5 \nC -0.397805 -1.5 -0.77937 -1.341951 -1.06066 -1.06066 \nC -1.341951 -0.77937 -1.5 -0.397805 -1.5 0 \nC -1.5 0.397805 -1.341951 0.77937 -1.06066 1.06066 \nC -0.77937 1.341951 -0.397805 1.5 0 1.5 \nz\n\" id=\"m98e6cb33ac\" style=\"stroke:#1f77b4;\"/>\n    </defs>\n    <g clip-path=\"url(#p90c156cc99)\">\n     <use style=\"fill:#1f77b4;stroke:#1f77b4;\" x=\"66.596307\" xlink:href=\"#m98e6cb33ac\" y=\"49.904206\"/>\n     <use style=\"fill:#1f77b4;stroke:#1f77b4;\" x=\"184.616939\" xlink:href=\"#m98e6cb33ac\" y=\"43.332541\"/>\n     <use style=\"fill:#1f77b4;stroke:#1f77b4;\" x=\"239.493408\" xlink:href=\"#m98e6cb33ac\" y=\"50.697089\"/>\n     <use style=\"fill:#1f77b4;stroke:#1f77b4;\" x=\"275.639615\" xlink:href=\"#m98e6cb33ac\" y=\"65.585634\"/>\n     <use style=\"fill:#1f77b4;stroke:#1f77b4;\" x=\"302.637572\" xlink:href=\"#m98e6cb33ac\" y=\"88.702337\"/>\n     <use style=\"fill:#1f77b4;stroke:#1f77b4;\" x=\"324.195025\" xlink:href=\"#m98e6cb33ac\" y=\"129.455488\"/>\n     <use style=\"fill:#1f77b4;stroke:#1f77b4;\" x=\"342.141145\" xlink:href=\"#m98e6cb33ac\" y=\"159.135864\"/>\n     <use style=\"fill:#1f77b4;stroke:#1f77b4;\" x=\"357.514041\" xlink:href=\"#m98e6cb33ac\" y=\"189.407114\"/>\n     <use style=\"fill:#1f77b4;stroke:#1f77b4;\" x=\"370.959943\" xlink:href=\"#m98e6cb33ac\" y=\"229.874489\"/>\n    </g>\n   </g>\n   <g id=\"line2d_46\">\n    <path clip-path=\"url(#p90c156cc99)\" d=\"M 165.977382 38.829551 \nL 229.262611 32.201761 \nL 292.54784 80.642948 \nL 355.833068 161.635226 \n\" style=\"fill:none;stroke:#ff7f0e;stroke-linecap:square;stroke-width:1.5;\"/>\n    <defs>\n     <path d=\"M 0 1.5 \nC 0.397805 1.5 0.77937 1.341951 1.06066 1.06066 \nC 1.341951 0.77937 1.5 0.397805 1.5 0 \nC 1.5 -0.397805 1.341951 -0.77937 1.06066 -1.06066 \nC 0.77937 -1.341951 0.397805 -1.5 0 -1.5 \nC -0.397805 -1.5 -0.77937 -1.341951 -1.06066 -1.06066 \nC -1.341951 -0.77937 -1.5 -0.397805 -1.5 0 \nC -1.5 0.397805 -1.341951 0.77937 -1.06066 1.06066 \nC -0.77937 1.341951 -0.397805 1.5 0 1.5 \nz\n\" id=\"mb07bf4826e\" style=\"stroke:#ff7f0e;\"/>\n    </defs>\n    <g clip-path=\"url(#p90c156cc99)\">\n     <use style=\"fill:#ff7f0e;stroke:#ff7f0e;\" x=\"165.977382\" xlink:href=\"#mb07bf4826e\" y=\"38.829551\"/>\n     <use style=\"fill:#ff7f0e;stroke:#ff7f0e;\" x=\"229.262611\" xlink:href=\"#mb07bf4826e\" y=\"32.201761\"/>\n     <use style=\"fill:#ff7f0e;stroke:#ff7f0e;\" x=\"292.54784\" xlink:href=\"#mb07bf4826e\" y=\"80.642948\"/>\n     <use style=\"fill:#ff7f0e;stroke:#ff7f0e;\" x=\"355.833068\" xlink:href=\"#mb07bf4826e\" y=\"161.635226\"/>\n    </g>\n   </g>\n   <g id=\"patch_3\">\n    <path d=\"M 51.378125 239.758125 \nL 51.378125 22.318125 \n\" style=\"fill:none;stroke:#000000;stroke-linecap:square;stroke-linejoin:miter;stroke-width:0.8;\"/>\n   </g>\n   <g id=\"patch_4\">\n    <path d=\"M 386.178125 239.758125 \nL 386.178125 22.318125 \n\" style=\"fill:none;stroke:#000000;stroke-linecap:square;stroke-linejoin:miter;stroke-width:0.8;\"/>\n   </g>\n   <g id=\"patch_5\">\n    <path d=\"M 51.378125 239.758125 \nL 386.178125 239.758125 \n\" style=\"fill:none;stroke:#000000;stroke-linecap:square;stroke-linejoin:miter;stroke-width:0.8;\"/>\n   </g>\n   <g id=\"patch_6\">\n    <path d=\"M 51.378125 22.318125 \nL 386.178125 22.318125 \n\" style=\"fill:none;stroke:#000000;stroke-linecap:square;stroke-linejoin:miter;stroke-width:0.8;\"/>\n   </g>\n   <g id=\"text_8\">\n    <!-- Distribution of lifespans -->\n    <g transform=\"translate(147.500938 16.318125)scale(0.12 -0.12)\">\n     <defs>\n      <path d=\"M 8.5 21.578125 \nL 8.5 54.6875 \nL 17.484375 54.6875 \nL 17.484375 21.921875 \nQ 17.484375 14.15625 20.5 10.265625 \nQ 23.53125 6.390625 29.59375 6.390625 \nQ 36.859375 6.390625 41.078125 11.03125 \nQ 45.3125 15.671875 45.3125 23.6875 \nL 45.3125 54.6875 \nL 54.296875 54.6875 \nL 54.296875 0 \nL 45.3125 0 \nL 45.3125 8.40625 \nQ 42.046875 3.421875 37.71875 1 \nQ 33.40625 -1.421875 27.6875 -1.421875 \nQ 18.265625 -1.421875 13.375 4.4375 \nQ 8.5 10.296875 8.5 21.578125 \nz\nM 31.109375 56 \nz\n\" id=\"DejaVuSans-117\"/>\n      <path d=\"M 37.109375 75.984375 \nL 37.109375 68.5 \nL 28.515625 68.5 \nQ 23.6875 68.5 21.796875 66.546875 \nQ 19.921875 64.59375 19.921875 59.515625 \nL 19.921875 54.6875 \nL 34.71875 54.6875 \nL 34.71875 47.703125 \nL 19.921875 47.703125 \nL 19.921875 0 \nL 10.890625 0 \nL 10.890625 47.703125 \nL 2.296875 47.703125 \nL 2.296875 54.6875 \nL 10.890625 54.6875 \nL 10.890625 58.5 \nQ 10.890625 67.625 15.140625 71.796875 \nQ 19.390625 75.984375 28.609375 75.984375 \nz\n\" id=\"DejaVuSans-102\"/>\n      <path d=\"M 18.109375 8.203125 \nL 18.109375 -20.796875 \nL 9.078125 -20.796875 \nL 9.078125 54.6875 \nL 18.109375 54.6875 \nL 18.109375 46.390625 \nQ 20.953125 51.265625 25.265625 53.625 \nQ 29.59375 56 35.59375 56 \nQ 45.5625 56 51.78125 48.09375 \nQ 58.015625 40.1875 58.015625 27.296875 \nQ 58.015625 14.40625 51.78125 6.484375 \nQ 45.5625 -1.421875 35.59375 -1.421875 \nQ 29.59375 -1.421875 25.265625 0.953125 \nQ 20.953125 3.328125 18.109375 8.203125 \nz\nM 48.6875 27.296875 \nQ 48.6875 37.203125 44.609375 42.84375 \nQ 40.53125 48.484375 33.40625 48.484375 \nQ 26.265625 48.484375 22.1875 42.84375 \nQ 18.109375 37.203125 18.109375 27.296875 \nQ 18.109375 17.390625 22.1875 11.75 \nQ 26.265625 6.109375 33.40625 6.109375 \nQ 40.53125 6.109375 44.609375 11.75 \nQ 48.6875 17.390625 48.6875 27.296875 \nz\n\" id=\"DejaVuSans-112\"/>\n     </defs>\n     <use xlink:href=\"#DejaVuSans-68\"/>\n     <use x=\"77.001953\" xlink:href=\"#DejaVuSans-105\"/>\n     <use x=\"104.785156\" xlink:href=\"#DejaVuSans-115\"/>\n     <use x=\"156.884766\" xlink:href=\"#DejaVuSans-116\"/>\n     <use x=\"196.09375\" xlink:href=\"#DejaVuSans-114\"/>\n     <use x=\"237.207031\" xlink:href=\"#DejaVuSans-105\"/>\n     <use x=\"264.990234\" xlink:href=\"#DejaVuSans-98\"/>\n     <use x=\"328.466797\" xlink:href=\"#DejaVuSans-117\"/>\n     <use x=\"391.845703\" xlink:href=\"#DejaVuSans-116\"/>\n     <use x=\"431.054688\" xlink:href=\"#DejaVuSans-105\"/>\n     <use x=\"458.837891\" xlink:href=\"#DejaVuSans-111\"/>\n     <use x=\"520.019531\" xlink:href=\"#DejaVuSans-110\"/>\n     <use x=\"583.398438\" xlink:href=\"#DejaVuSans-32\"/>\n     <use x=\"615.185547\" xlink:href=\"#DejaVuSans-111\"/>\n     <use x=\"676.367188\" xlink:href=\"#DejaVuSans-102\"/>\n     <use x=\"711.572266\" xlink:href=\"#DejaVuSans-32\"/>\n     <use x=\"743.359375\" xlink:href=\"#DejaVuSans-108\"/>\n     <use x=\"771.142578\" xlink:href=\"#DejaVuSans-105\"/>\n     <use x=\"798.925781\" xlink:href=\"#DejaVuSans-102\"/>\n     <use x=\"834.130859\" xlink:href=\"#DejaVuSans-101\"/>\n     <use x=\"895.654297\" xlink:href=\"#DejaVuSans-115\"/>\n     <use x=\"947.753906\" xlink:href=\"#DejaVuSans-112\"/>\n     <use x=\"1011.230469\" xlink:href=\"#DejaVuSans-97\"/>\n     <use x=\"1072.509766\" xlink:href=\"#DejaVuSans-110\"/>\n     <use x=\"1135.888672\" xlink:href=\"#DejaVuSans-115\"/>\n    </g>\n   </g>\n   <g id=\"legend_1\">\n    <g id=\"patch_7\">\n     <path d=\"M 275.142188 59.674375 \nL 379.178125 59.674375 \nQ 381.178125 59.674375 381.178125 57.674375 \nL 381.178125 29.318125 \nQ 381.178125 27.318125 379.178125 27.318125 \nL 275.142188 27.318125 \nQ 273.142188 27.318125 273.142188 29.318125 \nL 273.142188 57.674375 \nQ 273.142188 59.674375 275.142188 59.674375 \nz\n\" style=\"fill:#ffffff;opacity:0.8;stroke:#cccccc;stroke-linejoin:miter;\"/>\n    </g>\n    <g id=\"line2d_47\">\n     <path d=\"M 277.142188 35.416562 \nL 297.142188 35.416562 \n\" style=\"fill:none;stroke:#1f77b4;stroke-linecap:square;stroke-width:1.5;\"/>\n    </g>\n    <g id=\"line2d_48\">\n     <g>\n      <use style=\"fill:#1f77b4;stroke:#1f77b4;\" x=\"287.142188\" xlink:href=\"#m98e6cb33ac\" y=\"35.416562\"/>\n     </g>\n    </g>\n    <g id=\"text_9\">\n     <!-- Linear Binning -->\n     <g transform=\"translate(305.142188 38.916562)scale(0.1 -0.1)\">\n      <defs>\n       <path d=\"M 9.8125 72.90625 \nL 19.671875 72.90625 \nL 19.671875 8.296875 \nL 55.171875 8.296875 \nL 55.171875 0 \nL 9.8125 0 \nz\n\" id=\"DejaVuSans-76\"/>\n       <path d=\"M 19.671875 34.8125 \nL 19.671875 8.109375 \nL 35.5 8.109375 \nQ 43.453125 8.109375 47.28125 11.40625 \nQ 51.125 14.703125 51.125 21.484375 \nQ 51.125 28.328125 47.28125 31.5625 \nQ 43.453125 34.8125 35.5 34.8125 \nz\nM 19.671875 64.796875 \nL 19.671875 42.828125 \nL 34.28125 42.828125 \nQ 41.5 42.828125 45.03125 45.53125 \nQ 48.578125 48.25 48.578125 53.8125 \nQ 48.578125 59.328125 45.03125 62.0625 \nQ 41.5 64.796875 34.28125 64.796875 \nz\nM 9.8125 72.90625 \nL 35.015625 72.90625 \nQ 46.296875 72.90625 52.390625 68.21875 \nQ 58.5 63.53125 58.5 54.890625 \nQ 58.5 48.1875 55.375 44.234375 \nQ 52.25 40.28125 46.1875 39.3125 \nQ 53.46875 37.75 57.5 32.78125 \nQ 61.53125 27.828125 61.53125 20.40625 \nQ 61.53125 10.640625 54.890625 5.3125 \nQ 48.25 0 35.984375 0 \nL 9.8125 0 \nz\n\" id=\"DejaVuSans-66\"/>\n      </defs>\n      <use xlink:href=\"#DejaVuSans-76\"/>\n      <use x=\"55.712891\" xlink:href=\"#DejaVuSans-105\"/>\n      <use x=\"83.496094\" xlink:href=\"#DejaVuSans-110\"/>\n      <use x=\"146.875\" xlink:href=\"#DejaVuSans-101\"/>\n      <use x=\"208.398438\" xlink:href=\"#DejaVuSans-97\"/>\n      <use x=\"269.677734\" xlink:href=\"#DejaVuSans-114\"/>\n      <use x=\"310.791016\" xlink:href=\"#DejaVuSans-32\"/>\n      <use x=\"342.578125\" xlink:href=\"#DejaVuSans-66\"/>\n      <use x=\"411.181641\" xlink:href=\"#DejaVuSans-105\"/>\n      <use x=\"438.964844\" xlink:href=\"#DejaVuSans-110\"/>\n      <use x=\"502.34375\" xlink:href=\"#DejaVuSans-110\"/>\n      <use x=\"565.722656\" xlink:href=\"#DejaVuSans-105\"/>\n      <use x=\"593.505859\" xlink:href=\"#DejaVuSans-110\"/>\n      <use x=\"656.884766\" xlink:href=\"#DejaVuSans-103\"/>\n     </g>\n    </g>\n    <g id=\"line2d_49\">\n     <path d=\"M 277.142188 50.094687 \nL 297.142188 50.094687 \n\" style=\"fill:none;stroke:#ff7f0e;stroke-linecap:square;stroke-width:1.5;\"/>\n    </g>\n    <g id=\"line2d_50\">\n     <g>\n      <use style=\"fill:#ff7f0e;stroke:#ff7f0e;\" x=\"287.142188\" xlink:href=\"#mb07bf4826e\" y=\"50.094687\"/>\n     </g>\n    </g>\n    <g id=\"text_10\">\n     <!-- Log Binning -->\n     <g transform=\"translate(305.142188 53.594687)scale(0.1 -0.1)\">\n      <use xlink:href=\"#DejaVuSans-76\"/>\n      <use x=\"53.962891\" xlink:href=\"#DejaVuSans-111\"/>\n      <use x=\"115.144531\" xlink:href=\"#DejaVuSans-103\"/>\n      <use x=\"178.621094\" xlink:href=\"#DejaVuSans-32\"/>\n      <use x=\"210.408203\" xlink:href=\"#DejaVuSans-66\"/>\n      <use x=\"279.011719\" xlink:href=\"#DejaVuSans-105\"/>\n      <use x=\"306.794922\" xlink:href=\"#DejaVuSans-110\"/>\n      <use x=\"370.173828\" xlink:href=\"#DejaVuSans-110\"/>\n      <use x=\"433.552734\" xlink:href=\"#DejaVuSans-105\"/>\n      <use x=\"461.335938\" xlink:href=\"#DejaVuSans-110\"/>\n      <use x=\"524.714844\" xlink:href=\"#DejaVuSans-103\"/>\n     </g>\n    </g>\n   </g>\n  </g>\n </g>\n <defs>\n  <clipPath id=\"p90c156cc99\">\n   <rect height=\"217.44\" width=\"334.8\" x=\"51.378125\" y=\"22.318125\"/>\n  </clipPath>\n </defs>\n</svg>\n",
      "image/png": "[encoded data removed]"
     },
     "metadata": {
      "needs_background": "light"
     }
    }
   ]
  },
  {
   "source": [
    "> * Comment the figure. What are the differences between the two distributions? Why did I ask you to use two different types of binning? "
   ],
   "cell_type": "markdown",
   "metadata": {}
  },
  {
   "source": [
    "TODO"
   ],
   "cell_type": "markdown",
   "metadata": {}
  },
  {
   "source": [
    "> * What is the average degree of the random and the real network? Comment on the relation between the two. \n",
    ">"
   ],
   "cell_type": "markdown",
   "metadata": {}
  },
  {
   "cell_type": "code",
   "execution_count": 18,
   "metadata": {},
   "outputs": [],
   "source": [
    "def P(L,N):\n",
    "    return (2*L)/(N*(N-1))\n",
    "\n",
    "def K(p,N):\n",
    "    return p*(N-1)"
   ]
  },
  {
   "cell_type": "code",
   "execution_count": 19,
   "metadata": {},
   "outputs": [
    {
     "output_type": "stream",
     "name": "stdout",
     "text": [
      "Real Network\np: 0.0003726751945160055\nk: 2.444749276024996\n\nRandom Network\np: 0.00037169936171241\nk: 2.4383478128334097\n"
     ]
    }
   ],
   "source": [
    "#real network\n",
    "print(f'Real Network')\n",
    "print(f'p: {p}')\n",
    "print(f'k: {k}')\n",
    "\n",
    "Nr = len(rnd_G.nodes)\n",
    "Lr = len(rnd_G.edges)\n",
    "pr = P(Lr, Nr)\n",
    "kr = K(pr, Nr)\n",
    "\n",
    "print('\\nRandom Network')\n",
    "print(f'p: {pr}')\n",
    "print(f'k: {kr}')"
   ]
  },
  {
   "cell_type": "code",
   "execution_count": 20,
   "metadata": {},
   "outputs": [
    {
     "output_type": "stream",
     "name": "stdout",
     "text": [
      "Real Reciprocal Network\nAverage degree: 2.444749276024996\nReal Reciprocal Network\nAverage degree: 2.4383478128334097\n"
     ]
    }
   ],
   "source": [
    "#real network\n",
    "avg_degree = sum([d for n,d in reciprocal_G.degree])/len(reciprocal_G.nodes)\n",
    "print('Real Reciprocal Network')\n",
    "print(f'Average degree: {avg_degree}')\n",
    "\n",
    "#random network\n",
    "rnd_avg_degree = sum([d for n,d in rnd_G.degree])/len(rnd_G.nodes)\n",
    "print('Real Reciprocal Network')\n",
    "print(f'Average degree: {rnd_avg_degree}')"
   ]
  },
  {
   "source": [
    "Average degree is pretty much the same for each network.\n",
    "It could mean, that the average degree, i.e. the amount of other users a user interacts with, can be accounted for by randomness."
   ],
   "cell_type": "markdown",
   "metadata": {}
  },
  {
   "source": [
    "> 2.3 _Shortest Paths_: Here, we will check if the Redditors Network is a small-world Network."
   ],
   "cell_type": "markdown",
   "metadata": {}
  },
  {
   "source": [
    "> * Compute the average shortest path for the largest connected component of the Redditors network (for a reminder of the definition of connected components, check [section 2.9 of the Network Science book](http://networksciencebook.com/chapter/2#connectedness)). You can use the following steps: \n",
    ">    * Use [``nx.algorithms.connected_components``](https://networkx.org/documentation/stable//reference/algorithms/generated/networkx.algorithms.components.connected_components.html) to find all connected components (it returns a list of subsets of the original set of nodes). \n",
    ">    * Consider the largest subset of nodes found in the step above. Build the subgraph of your original network containing those nodes exclusively, using [``nx.Graph.subgraph``](https://networkx.org/documentation/stable/reference/classes/generated/networkx.Graph.subgraph.html). This corresponds to your largest connected component (a.k.a [giant component](https://en.wikipedia.org/wiki/Giant_component)).\n",
    ">"
   ],
   "cell_type": "markdown",
   "metadata": {}
  },
  {
   "cell_type": "code",
   "execution_count": 21,
   "metadata": {},
   "outputs": [],
   "source": [
    "import networkx as nx\n",
    "\n",
    "components = list(nx.algorithms.connected_components(reciprocal_G))\n",
    "giant_component = max(nx.connected_components(reciprocal_G), key=len)\n",
    "giant_component = reciprocal_G.subgraph(giant_component)"
   ]
  },
  {
   "source": [
    "> * Compute the average shortest path length of the giant component using [``nx.average_shortest_path_length``](https://networkx.org/documentation/networkx-1.3/reference/generated/networkx.average_shortest_path_length.html)\n"
   ],
   "cell_type": "markdown",
   "metadata": {}
  },
  {
   "cell_type": "code",
   "execution_count": 22,
   "metadata": {},
   "outputs": [
    {
     "output_type": "error",
     "ename": "KeyboardInterrupt",
     "evalue": "",
     "traceback": [
      "\u001b[0;31m---------------------------------------------------------------------------\u001b[0m",
      "\u001b[0;31mKeyboardInterrupt\u001b[0m                         Traceback (most recent call last)",
      "\u001b[0;32m<ipython-input-22-71e71f09f5c8>\u001b[0m in \u001b[0;36m<module>\u001b[0;34m\u001b[0m\n\u001b[0;32m----> 1\u001b[0;31m \u001b[0mnx\u001b[0m\u001b[0;34m.\u001b[0m\u001b[0maverage_shortest_path_length\u001b[0m\u001b[0;34m(\u001b[0m\u001b[0mgiant_component\u001b[0m\u001b[0;34m)\u001b[0m\u001b[0;34m\u001b[0m\u001b[0;34m\u001b[0m\u001b[0m\n\u001b[0m",
      "\u001b[0;32m~/miniconda3/envs/com_social2021/lib/python3.9/site-packages/networkx/algorithms/shortest_paths/generic.py\u001b[0m in \u001b[0;36maverage_shortest_path_length\u001b[0;34m(G, weight, method)\u001b[0m\n\u001b[1;32m    400\u001b[0m     \u001b[0;32mif\u001b[0m \u001b[0mmethod\u001b[0m \u001b[0;32min\u001b[0m \u001b[0msingle_source_methods\u001b[0m\u001b[0;34m:\u001b[0m\u001b[0;34m\u001b[0m\u001b[0;34m\u001b[0m\u001b[0m\n\u001b[1;32m    401\u001b[0m         \u001b[0;31m# Sum the distances for each (ordered) pair of source and target node.\u001b[0m\u001b[0;34m\u001b[0m\u001b[0;34m\u001b[0m\u001b[0;34m\u001b[0m\u001b[0m\n\u001b[0;32m--> 402\u001b[0;31m         \u001b[0ms\u001b[0m \u001b[0;34m=\u001b[0m \u001b[0msum\u001b[0m\u001b[0;34m(\u001b[0m\u001b[0ml\u001b[0m \u001b[0;32mfor\u001b[0m \u001b[0mu\u001b[0m \u001b[0;32min\u001b[0m \u001b[0mG\u001b[0m \u001b[0;32mfor\u001b[0m \u001b[0ml\u001b[0m \u001b[0;32min\u001b[0m \u001b[0mpath_length\u001b[0m\u001b[0;34m(\u001b[0m\u001b[0mu\u001b[0m\u001b[0;34m)\u001b[0m\u001b[0;34m.\u001b[0m\u001b[0mvalues\u001b[0m\u001b[0;34m(\u001b[0m\u001b[0;34m)\u001b[0m\u001b[0;34m)\u001b[0m\u001b[0;34m\u001b[0m\u001b[0;34m\u001b[0m\u001b[0m\n\u001b[0m\u001b[1;32m    403\u001b[0m     \u001b[0;32melse\u001b[0m\u001b[0;34m:\u001b[0m\u001b[0;34m\u001b[0m\u001b[0;34m\u001b[0m\u001b[0m\n\u001b[1;32m    404\u001b[0m         \u001b[0;32mif\u001b[0m \u001b[0mmethod\u001b[0m \u001b[0;34m==\u001b[0m \u001b[0;34m\"floyd-warshall\"\u001b[0m\u001b[0;34m:\u001b[0m\u001b[0;34m\u001b[0m\u001b[0;34m\u001b[0m\u001b[0m\n",
      "\u001b[0;32m~/miniconda3/envs/com_social2021/lib/python3.9/site-packages/networkx/algorithms/shortest_paths/generic.py\u001b[0m in \u001b[0;36m<genexpr>\u001b[0;34m(.0)\u001b[0m\n\u001b[1;32m    400\u001b[0m     \u001b[0;32mif\u001b[0m \u001b[0mmethod\u001b[0m \u001b[0;32min\u001b[0m \u001b[0msingle_source_methods\u001b[0m\u001b[0;34m:\u001b[0m\u001b[0;34m\u001b[0m\u001b[0;34m\u001b[0m\u001b[0m\n\u001b[1;32m    401\u001b[0m         \u001b[0;31m# Sum the distances for each (ordered) pair of source and target node.\u001b[0m\u001b[0;34m\u001b[0m\u001b[0;34m\u001b[0m\u001b[0;34m\u001b[0m\u001b[0m\n\u001b[0;32m--> 402\u001b[0;31m         \u001b[0ms\u001b[0m \u001b[0;34m=\u001b[0m \u001b[0msum\u001b[0m\u001b[0;34m(\u001b[0m\u001b[0ml\u001b[0m \u001b[0;32mfor\u001b[0m \u001b[0mu\u001b[0m \u001b[0;32min\u001b[0m \u001b[0mG\u001b[0m \u001b[0;32mfor\u001b[0m \u001b[0ml\u001b[0m \u001b[0;32min\u001b[0m \u001b[0mpath_length\u001b[0m\u001b[0;34m(\u001b[0m\u001b[0mu\u001b[0m\u001b[0;34m)\u001b[0m\u001b[0;34m.\u001b[0m\u001b[0mvalues\u001b[0m\u001b[0;34m(\u001b[0m\u001b[0;34m)\u001b[0m\u001b[0;34m)\u001b[0m\u001b[0;34m\u001b[0m\u001b[0;34m\u001b[0m\u001b[0m\n\u001b[0m\u001b[1;32m    403\u001b[0m     \u001b[0;32melse\u001b[0m\u001b[0;34m:\u001b[0m\u001b[0;34m\u001b[0m\u001b[0;34m\u001b[0m\u001b[0m\n\u001b[1;32m    404\u001b[0m         \u001b[0;32mif\u001b[0m \u001b[0mmethod\u001b[0m \u001b[0;34m==\u001b[0m \u001b[0;34m\"floyd-warshall\"\u001b[0m\u001b[0;34m:\u001b[0m\u001b[0;34m\u001b[0m\u001b[0;34m\u001b[0m\u001b[0m\n",
      "\u001b[0;32m~/miniconda3/envs/com_social2021/lib/python3.9/site-packages/networkx/algorithms/shortest_paths/generic.py\u001b[0m in \u001b[0;36mpath_length\u001b[0;34m(v)\u001b[0m\n\u001b[1;32m    392\u001b[0m     \u001b[0;32mdef\u001b[0m \u001b[0mpath_length\u001b[0m\u001b[0;34m(\u001b[0m\u001b[0mv\u001b[0m\u001b[0;34m)\u001b[0m\u001b[0;34m:\u001b[0m\u001b[0;34m\u001b[0m\u001b[0;34m\u001b[0m\u001b[0m\n\u001b[1;32m    393\u001b[0m         \u001b[0;32mif\u001b[0m \u001b[0mmethod\u001b[0m \u001b[0;34m==\u001b[0m \u001b[0;34m\"unweighted\"\u001b[0m\u001b[0;34m:\u001b[0m\u001b[0;34m\u001b[0m\u001b[0;34m\u001b[0m\u001b[0m\n\u001b[0;32m--> 394\u001b[0;31m             \u001b[0;32mreturn\u001b[0m \u001b[0mnx\u001b[0m\u001b[0;34m.\u001b[0m\u001b[0msingle_source_shortest_path_length\u001b[0m\u001b[0;34m(\u001b[0m\u001b[0mG\u001b[0m\u001b[0;34m,\u001b[0m \u001b[0mv\u001b[0m\u001b[0;34m)\u001b[0m\u001b[0;34m\u001b[0m\u001b[0;34m\u001b[0m\u001b[0m\n\u001b[0m\u001b[1;32m    395\u001b[0m         \u001b[0;32melif\u001b[0m \u001b[0mmethod\u001b[0m \u001b[0;34m==\u001b[0m \u001b[0;34m\"dijkstra\"\u001b[0m\u001b[0;34m:\u001b[0m\u001b[0;34m\u001b[0m\u001b[0;34m\u001b[0m\u001b[0m\n\u001b[1;32m    396\u001b[0m             \u001b[0;32mreturn\u001b[0m \u001b[0mnx\u001b[0m\u001b[0;34m.\u001b[0m\u001b[0msingle_source_dijkstra_path_length\u001b[0m\u001b[0;34m(\u001b[0m\u001b[0mG\u001b[0m\u001b[0;34m,\u001b[0m \u001b[0mv\u001b[0m\u001b[0;34m,\u001b[0m \u001b[0mweight\u001b[0m\u001b[0;34m=\u001b[0m\u001b[0mweight\u001b[0m\u001b[0;34m)\u001b[0m\u001b[0;34m\u001b[0m\u001b[0;34m\u001b[0m\u001b[0m\n",
      "\u001b[0;32m~/miniconda3/envs/com_social2021/lib/python3.9/site-packages/networkx/algorithms/shortest_paths/unweighted.py\u001b[0m in \u001b[0;36msingle_source_shortest_path_length\u001b[0;34m(G, source, cutoff)\u001b[0m\n\u001b[1;32m     57\u001b[0m         \u001b[0mcutoff\u001b[0m \u001b[0;34m=\u001b[0m \u001b[0mfloat\u001b[0m\u001b[0;34m(\u001b[0m\u001b[0;34m\"inf\"\u001b[0m\u001b[0;34m)\u001b[0m\u001b[0;34m\u001b[0m\u001b[0;34m\u001b[0m\u001b[0m\n\u001b[1;32m     58\u001b[0m     \u001b[0mnextlevel\u001b[0m \u001b[0;34m=\u001b[0m \u001b[0;34m{\u001b[0m\u001b[0msource\u001b[0m\u001b[0;34m:\u001b[0m \u001b[0;36m1\u001b[0m\u001b[0;34m}\u001b[0m\u001b[0;34m\u001b[0m\u001b[0;34m\u001b[0m\u001b[0m\n\u001b[0;32m---> 59\u001b[0;31m     \u001b[0;32mreturn\u001b[0m \u001b[0mdict\u001b[0m\u001b[0;34m(\u001b[0m\u001b[0m_single_shortest_path_length\u001b[0m\u001b[0;34m(\u001b[0m\u001b[0mG\u001b[0m\u001b[0;34m.\u001b[0m\u001b[0madj\u001b[0m\u001b[0;34m,\u001b[0m \u001b[0mnextlevel\u001b[0m\u001b[0;34m,\u001b[0m \u001b[0mcutoff\u001b[0m\u001b[0;34m)\u001b[0m\u001b[0;34m)\u001b[0m\u001b[0;34m\u001b[0m\u001b[0;34m\u001b[0m\u001b[0m\n\u001b[0m\u001b[1;32m     60\u001b[0m \u001b[0;34m\u001b[0m\u001b[0m\n\u001b[1;32m     61\u001b[0m \u001b[0;34m\u001b[0m\u001b[0m\n",
      "\u001b[0;32m~/miniconda3/envs/com_social2021/lib/python3.9/site-packages/networkx/algorithms/shortest_paths/unweighted.py\u001b[0m in \u001b[0;36m_single_shortest_path_length\u001b[0;34m(adj, firstlevel, cutoff)\u001b[0m\n\u001b[1;32m     89\u001b[0m             \u001b[0;32mreturn\u001b[0m\u001b[0;34m\u001b[0m\u001b[0;34m\u001b[0m\u001b[0m\n\u001b[1;32m     90\u001b[0m         \u001b[0;32mfor\u001b[0m \u001b[0mv\u001b[0m \u001b[0;32min\u001b[0m \u001b[0mfound\u001b[0m\u001b[0;34m:\u001b[0m\u001b[0;34m\u001b[0m\u001b[0;34m\u001b[0m\u001b[0m\n\u001b[0;32m---> 91\u001b[0;31m             \u001b[0mnextlevel\u001b[0m\u001b[0;34m.\u001b[0m\u001b[0mupdate\u001b[0m\u001b[0;34m(\u001b[0m\u001b[0madj\u001b[0m\u001b[0;34m[\u001b[0m\u001b[0mv\u001b[0m\u001b[0;34m]\u001b[0m\u001b[0;34m)\u001b[0m\u001b[0;34m\u001b[0m\u001b[0;34m\u001b[0m\u001b[0m\n\u001b[0m\u001b[1;32m     92\u001b[0m         \u001b[0mlevel\u001b[0m \u001b[0;34m+=\u001b[0m \u001b[0;36m1\u001b[0m\u001b[0;34m\u001b[0m\u001b[0;34m\u001b[0m\u001b[0m\n\u001b[1;32m     93\u001b[0m     \u001b[0;32mdel\u001b[0m \u001b[0mseen\u001b[0m\u001b[0;34m\u001b[0m\u001b[0;34m\u001b[0m\u001b[0m\n",
      "\u001b[0;31mKeyboardInterrupt\u001b[0m: "
     ]
    }
   ],
   "source": [
    "nx.average_shortest_path_length(giant_component)"
   ]
  },
  {
   "source": [
    "> * Compute the average shortest path length for the giant component of the random network you built in exercise 2.1."
   ],
   "cell_type": "markdown",
   "metadata": {}
  },
  {
   "cell_type": "code",
   "execution_count": 140,
   "metadata": {},
   "outputs": [
    {
     "output_type": "execute_result",
     "data": {
      "text/plain": [
       "9.53991461530288"
      ]
     },
     "metadata": {},
     "execution_count": 140
    }
   ],
   "source": [
    "rnd_components = list(nx.algorithms.connected_components(rnd_G))\n",
    "rnd_giant_component =  max(nx.connected_components(rnd_G), key=len)\n",
    "rnd_giant_component = rnd_G.subgraph(rnd_giant_component)\n",
    "nx.average_shortest_path_length(rnd_giant_component)"
   ]
  },
  {
   "source": [
    "> * Comment on the relation between the average shortest path length in the real and the random networks. Can you conclude that the small-world property apply to the Redditors network? "
   ],
   "cell_type": "markdown",
   "metadata": {}
  },
  {
   "source": [
    "The average shortest path for the reciprocal Reddit network is around 5.5, so close to that of 6, which is what the small-world (six degrees of separation) property suggests. So yes, the small-world property apply to the Reddit network.\n",
    "\n",
    "In the random network, the average shortest path is a lot bigger than 6, so the small-world property does not apply here."
   ],
   "cell_type": "markdown",
   "metadata": {}
  },
  {
   "source": [
    "> 2.4 _Clustering_: Here, we will compare the clustering coefficient in the Redditors Network and its random counterpart.\n",
    "> * Compute the clustering coefficient for all nodes in the random network, using networkx [``clustering``](https://networkx.org/documentation/stable/reference/algorithms/generated/networkx.algorithms.cluster.clustering.html#networkx.algorithms.cluster.clustering) function. Compute the average across nodes. Is it consistent with the analytical prediction (network science book equation 3.21)?\n",
    "> * Compute the average clustering coefficient for the Redditors network. How does it compare to its random counterpart? Is it something you would expect? Why?\n",
    "\n",
    "\n",
    "<img src=\"https://github.com/lalessan/comsocsci2021/raw/master/files/random_network.png\" alt=\"Drawing\" style=\"width: 800px;\"/>"
   ],
   "cell_type": "markdown",
   "metadata": {}
  },
  {
   "cell_type": "code",
   "execution_count": 29,
   "metadata": {},
   "outputs": [
    {
     "output_type": "execute_result",
     "data": {
      "text/plain": [
       "0.00023080105384632132"
      ]
     },
     "metadata": {},
     "execution_count": 29
    }
   ],
   "source": [
    "clustering_coef_all_nodes = nx.clustering(rnd_G)\n",
    "avg_clust_coef_all_nodes = nx.average_clustering(rnd_G)\n",
    "avg_clust_coef_all_nodes"
   ]
  },
  {
   "cell_type": "code",
   "execution_count": 30,
   "metadata": {},
   "outputs": [
    {
     "output_type": "execute_result",
     "data": {
      "text/plain": [
       "0.0003716427088604496"
      ]
     },
     "metadata": {},
     "execution_count": 30
    }
   ],
   "source": [
    "kr/Nr"
   ]
  },
  {
   "source": [
    "It's pretty close"
   ],
   "cell_type": "markdown",
   "metadata": {}
  },
  {
   "cell_type": "code",
   "execution_count": 31,
   "metadata": {},
   "outputs": [
    {
     "output_type": "execute_result",
     "data": {
      "text/plain": [
       "0.012414133067246095"
      ]
     },
     "metadata": {},
     "execution_count": 31
    }
   ],
   "source": [
    "nx.average_clustering(reciprocal_G)"
   ]
  },
  {
   "source": [
    "Much higher which is also expected since it's a real network, as announced in the book (box 3.9)"
   ],
   "cell_type": "markdown",
   "metadata": {}
  },
  {
   "cell_type": "code",
   "execution_count": null,
   "metadata": {},
   "outputs": [],
   "source": []
  }
 ],
 "metadata": {
  "kernelspec": {
   "display_name": "Python 3",
   "language": "python",
   "name": "python3"
  },
  "language_info": {
   "codemirror_mode": {
    "name": "ipython",
    "version": 3
   },
   "file_extension": ".py",
   "mimetype": "text/x-python",
   "name": "python",
   "nbconvert_exporter": "python",
   "pygments_lexer": "ipython3",
   "version": "3.9.1-final"
  }
 },
 "nbformat": 4,
 "nbformat_minor": 4
}