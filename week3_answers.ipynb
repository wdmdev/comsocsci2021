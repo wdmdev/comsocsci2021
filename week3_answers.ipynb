{
 "metadata": {
  "language_info": {
   "codemirror_mode": {
    "name": "ipython",
    "version": 3
   },
   "file_extension": ".py",
   "mimetype": "text/x-python",
   "name": "python",
   "nbconvert_exporter": "python",
   "pygments_lexer": "ipython3",
   "version": "3.9.1-final"
  },
  "orig_nbformat": 2,
  "kernelspec": {
   "name": "python3",
   "display_name": "Python 3.9.1 64-bit ('com_social2021': conda)",
   "metadata": {
    "interpreter": {
     "hash": "83ff59762366ec201ab4f65328d80b06a6364ce388f35dd8bdd75ebdd542ac99"
    }
   }
  }
 },
 "nbformat": 4,
 "nbformat_minor": 2,
 "cells": [
  {
   "source": [
    "# Part 2 "
   ],
   "cell_type": "markdown",
   "metadata": {}
  },
  {
   "source": [
    "# Part 2: Exercises using the `NetworkX` library\n",
    "\n",
    "We will analyse networks in Python using the [NetworkX](https://networkx.org/) library. The cool thing about networkx is that it includes a lot of algorithms and metrics for analysing networks, so you don't have to code things from scratch. Get started by running the magic ``pip install networkx`` command. Then, get familiar with the library through the following exercises: \n",
    "\n",
    ">  *Exercises*:\n",
    "\n",
    "> * Go to the NetworkX project's [tutorial page](https://networkx.org/documentation/stable/tutorial.html). The goal of this exercise is to create your own notebook that contains the entire tutorial. You're free to add your own (e.g. shorter) comments in place of the ones in the official tutorial - and change the code to make it your own where ever it makes sense.\n",
    "\n",
    "\n",
    "> * Go to Section 2.12: [Homework](http://networksciencebook.com/chapter/2#homework2), then\n",
    ">     * Write the solution for exercise 2.1 (the 'Königsberg Problem') from NS in your notebook.\n",
    "            * You can draw a, c, d. They have no more than two nodes with and uneven number of edges.\n",
    "            \n",
    "> * Solve exercise 2.3 ('Graph representation') from NS using NetworkX in your notebook. (You don't have to solve the last sub-question about cycles of length 4 ... but I'll be impressed if you do it).\n",
    "\n",
    "> * Solve exercise 2.5 ('Bipartite Networks') from NS using NetworkX in your notebook."
   ],
   "cell_type": "markdown",
   "metadata": {}
  },
  {
   "source": [
    "Solve exercise 2.3 ('Graph representation') from NS using NetworkX in your notebook. (You don't have to solve the last sub-question about cycles of length 4 ... but I'll be impressed if you do it). "
   ],
   "cell_type": "markdown",
   "metadata": {}
  },
  {
   "cell_type": "code",
   "execution_count": 8,
   "metadata": {},
   "outputs": [],
   "source": [
    "import networkx as nx\n",
    "import numpy as np"
   ]
  },
  {
   "cell_type": "code",
   "execution_count": 5,
   "metadata": {},
   "outputs": [],
   "source": [
    "G = nx.DiGraph()\n",
    "G.add_nodes_from(list(range(1,7)))\n",
    "G.add_edges_from([\n",
    "    (1,2),\n",
    "    (2,3), (2,4),\n",
    "    (3,1), (3,2),\n",
    "    (4,1),\n",
    "    (6,1), (6,3)\n",
    "])\n",
    "H = nx.Graph(G) #undirected"
   ]
  },
  {
   "cell_type": "code",
   "execution_count": 21,
   "metadata": {},
   "outputs": [
    {
     "output_type": "stream",
     "name": "stdout",
     "text": [
      "Adjancency matrix G\n[[0. 1. 0. 0. 0. 0.]\n [0. 0. 1. 1. 0. 0.]\n [1. 1. 0. 0. 0. 0.]\n [1. 0. 0. 0. 0. 0.]\n [0. 0. 0. 0. 0. 0.]\n [1. 0. 1. 0. 0. 0.]]\n\nAdjacency matric H\n[[0. 1. 1. 1. 0. 1.]\n [1. 0. 1. 1. 0. 0.]\n [1. 1. 0. 0. 0. 1.]\n [1. 1. 0. 0. 0. 0.]\n [0. 0. 0. 0. 0. 0.]\n [1. 0. 1. 0. 0. 0.]]\n"
     ]
    }
   ],
   "source": [
    "print('Adjancency matrix G')\n",
    "print(nx.to_numpy_matrix(G))\n",
    "\n",
    "print('\\nAdjacency matric H')\n",
    "print(nx.to_numpy_matrix(H))"
   ]
  },
  {
   "cell_type": "code",
   "execution_count": 30,
   "metadata": {},
   "outputs": [
    {
     "output_type": "stream",
     "name": "stdout",
     "text": [
      "Linklist G\n[(1, 2), (2, 3), (2, 4), (3, 1), (3, 2), (4, 1), (6, 1), (6, 3)]\n\nLinklist H\n[(1, 2), (1, 3), (1, 4), (1, 6), (2, 3), (2, 4), (3, 6)]\n"
     ]
    }
   ],
   "source": [
    "print('Linklist G')\n",
    "print(G.edges)\n",
    "\n",
    "print('\\nLinklist H')\n",
    "print(H.edges)"
   ]
  },
  {
   "cell_type": "code",
   "execution_count": 35,
   "metadata": {},
   "outputs": [
    {
     "output_type": "stream",
     "name": "stdout",
     "text": [
      "Average clustering coefficient G\n0.32222222222222224\n\nAverage clustering coefficient H\n0.6388888888888888\n"
     ]
    }
   ],
   "source": [
    "print('Average clustering coefficient G')\n",
    "print(nx.average_clustering(G))\n",
    "\n",
    "print('\\nAverage clustering coefficient H')\n",
    "print(nx.average_clustering(H))"
   ]
  },
  {
   "source": [
    "If we switch node 5 and 6 then the last and second last rows and columns are switched in the adjacency matrices and in the link list all 6's become 5's instead"
   ],
   "cell_type": "markdown",
   "metadata": {}
  },
  {
   "source": [
    "In the linked list you only get information about nodes that are linked to other nodes. So you cannot see node 5, because it is not linked to any nodes. But in the adjacency matrix you have rows and columns for all nodes, so you can see node 5 there. So you can infer the total number of nodes in the adjacency matrix, but not in the linked list."
   ],
   "cell_type": "markdown",
   "metadata": {}
  },
  {
   "cell_type": "code",
   "execution_count": 37,
   "metadata": {},
   "outputs": [
    {
     "output_type": "execute_result",
     "data": {
      "text/plain": [
       "EdgeView([(1, 2), (2, 3), (3, 4), (4, 5), (5, 6)])"
      ]
     },
     "metadata": {},
     "execution_count": 37
    }
   ],
   "source": [
    "nx.path_graph(G).edges"
   ]
  },
  {
   "source": [
    "8 paths for undirected:\n",
    "(1,4,2,3)\n",
    "(1,2,4,3)\n",
    "(1,2,1,3)\n",
    "(1,4,1,3)\n",
    "(1,6,1,3)\n",
    "(1,3,1,3)\n",
    "(1,3,6,3)\n",
    "(1,3,2,3)\n"
   ],
   "cell_type": "markdown",
   "metadata": {}
  },
  {
   "source": [
    "# Bipartite"
   ],
   "cell_type": "markdown",
   "metadata": {}
  },
  {
   "cell_type": "code",
   "execution_count": 82,
   "metadata": {},
   "outputs": [],
   "source": [
    "import numpy as np\n",
    "nodes = np.arange(1, 12)\n",
    "edges = [(1,7), (2,9), (3,7), (3,8), (3,9), (4,9), (4,10), (5,9), (5,11), (6,11)]\n",
    "GBI = nx.Graph()\n",
    "GBI.add_nodes_from(nodes)\n",
    "GBI.add_edges_from(edges)"
   ]
  },
  {
   "cell_type": "code",
   "execution_count": 83,
   "metadata": {},
   "outputs": [
    {
     "output_type": "display_data",
     "data": {
      "text/plain": "<Figure size 432x288 with 1 Axes>",
      "image/svg+xml": "<?xml version=\"1.0\" encoding=\"utf-8\" standalone=\"no\"?>\n<!DOCTYPE svg PUBLIC \"-//W3C//DTD SVG 1.1//EN\"\n  \"http://www.w3.org/Graphics/SVG/1.1/DTD/svg11.dtd\">\n<!-- Created with matplotlib (https://matplotlib.org/) -->\n<svg height=\"302.4pt\" version=\"1.1\" viewBox=\"0 0 446.4 302.4\" width=\"446.4pt\" xmlns=\"http://www.w3.org/2000/svg\" xmlns:xlink=\"http://www.w3.org/1999/xlink\">\n <metadata>\n  <rdf:RDF xmlns:cc=\"http://creativecommons.org/ns#\" xmlns:dc=\"http://purl.org/dc/elements/1.1/\" xmlns:rdf=\"http://www.w3.org/1999/02/22-rdf-syntax-ns#\">\n   <cc:Work>\n    <dc:type rdf:resource=\"http://purl.org/dc/dcmitype/StillImage\"/>\n    <dc:date>2021-02-17T11:13:22.255273</dc:date>\n    <dc:format>image/svg+xml</dc:format>\n    <dc:creator>\n     <cc:Agent>\n      <dc:title>Matplotlib v3.3.4, https://matplotlib.org/</dc:title>\n     </cc:Agent>\n    </dc:creator>\n   </cc:Work>\n  </rdf:RDF>\n </metadata>\n <defs>\n  <style type=\"text/css\">*{stroke-linecap:butt;stroke-linejoin:round;}</style>\n </defs>\n <g id=\"figure_1\">\n  <g id=\"patch_1\">\n   <path d=\"M 0 302.4 \nL 446.4 302.4 \nL 446.4 0 \nL 0 0 \nz\n\" style=\"fill:#ffffff;\"/>\n  </g>\n  <g id=\"axes_1\">\n   <g id=\"LineCollection_1\">\n    <path clip-path=\"url(#p9d2331d560)\" d=\"M 26.836364 282.109091 \nL 419.563636 282.109091 \n\" style=\"fill:none;stroke:#000000;\"/>\n    <path clip-path=\"url(#p9d2331d560)\" d=\"M 26.836364 229.745455 \nL 419.563636 177.381818 \n\" style=\"fill:none;stroke:#000000;\"/>\n    <path clip-path=\"url(#p9d2331d560)\" d=\"M 26.836364 177.381818 \nL 419.563636 282.109091 \n\" style=\"fill:none;stroke:#000000;\"/>\n    <path clip-path=\"url(#p9d2331d560)\" d=\"M 26.836364 177.381818 \nL 419.563636 229.745455 \n\" style=\"fill:none;stroke:#000000;\"/>\n    <path clip-path=\"url(#p9d2331d560)\" d=\"M 26.836364 177.381818 \nL 419.563636 177.381818 \n\" style=\"fill:none;stroke:#000000;\"/>\n    <path clip-path=\"url(#p9d2331d560)\" d=\"M 26.836364 125.018182 \nL 419.563636 177.381818 \n\" style=\"fill:none;stroke:#000000;\"/>\n    <path clip-path=\"url(#p9d2331d560)\" d=\"M 26.836364 125.018182 \nL 419.563636 125.018182 \n\" style=\"fill:none;stroke:#000000;\"/>\n    <path clip-path=\"url(#p9d2331d560)\" d=\"M 26.836364 72.654545 \nL 419.563636 177.381818 \n\" style=\"fill:none;stroke:#000000;\"/>\n    <path clip-path=\"url(#p9d2331d560)\" d=\"M 26.836364 72.654545 \nL 419.563636 72.654545 \n\" style=\"fill:none;stroke:#000000;\"/>\n    <path clip-path=\"url(#p9d2331d560)\" d=\"M 26.836364 20.290909 \nL 419.563636 72.654545 \n\" style=\"fill:none;stroke:#000000;\"/>\n   </g>\n   <g id=\"PathCollection_1\">\n    <defs>\n     <path d=\"M 0 8.660254 \nC 2.296726 8.660254 4.499694 7.747755 6.123724 6.123724 \nC 7.747755 4.499694 8.660254 2.296726 8.660254 0 \nC 8.660254 -2.296726 7.747755 -4.499694 6.123724 -6.123724 \nC 4.499694 -7.747755 2.296726 -8.660254 0 -8.660254 \nC -2.296726 -8.660254 -4.499694 -7.747755 -6.123724 -6.123724 \nC -7.747755 -4.499694 -8.660254 -2.296726 -8.660254 0 \nC -8.660254 2.296726 -7.747755 4.499694 -6.123724 6.123724 \nC -4.499694 7.747755 -2.296726 8.660254 0 8.660254 \nz\n\" id=\"m919169cf12\" style=\"stroke:#1f78b4;\"/>\n    </defs>\n    <g clip-path=\"url(#p9d2331d560)\">\n     <use style=\"fill:#1f78b4;stroke:#1f78b4;\" x=\"26.836364\" xlink:href=\"#m919169cf12\" y=\"282.109091\"/>\n     <use style=\"fill:#1f78b4;stroke:#1f78b4;\" x=\"26.836364\" xlink:href=\"#m919169cf12\" y=\"229.745455\"/>\n     <use style=\"fill:#1f78b4;stroke:#1f78b4;\" x=\"26.836364\" xlink:href=\"#m919169cf12\" y=\"177.381818\"/>\n     <use style=\"fill:#1f78b4;stroke:#1f78b4;\" x=\"26.836364\" xlink:href=\"#m919169cf12\" y=\"125.018182\"/>\n     <use style=\"fill:#1f78b4;stroke:#1f78b4;\" x=\"26.836364\" xlink:href=\"#m919169cf12\" y=\"72.654545\"/>\n     <use style=\"fill:#1f78b4;stroke:#1f78b4;\" x=\"26.836364\" xlink:href=\"#m919169cf12\" y=\"20.290909\"/>\n     <use style=\"fill:#1f78b4;stroke:#1f78b4;\" x=\"419.563636\" xlink:href=\"#m919169cf12\" y=\"282.109091\"/>\n     <use style=\"fill:#1f78b4;stroke:#1f78b4;\" x=\"419.563636\" xlink:href=\"#m919169cf12\" y=\"229.745455\"/>\n     <use style=\"fill:#1f78b4;stroke:#1f78b4;\" x=\"419.563636\" xlink:href=\"#m919169cf12\" y=\"177.381818\"/>\n     <use style=\"fill:#1f78b4;stroke:#1f78b4;\" x=\"419.563636\" xlink:href=\"#m919169cf12\" y=\"125.018182\"/>\n     <use style=\"fill:#1f78b4;stroke:#1f78b4;\" x=\"419.563636\" xlink:href=\"#m919169cf12\" y=\"72.654545\"/>\n    </g>\n   </g>\n   <g id=\"text_1\">\n    <g clip-path=\"url(#p9d2331d560)\">\n     <!-- 1 -->\n     <g transform=\"translate(23.018864 285.420341)scale(0.12 -0.12)\">\n      <defs>\n       <path d=\"M 12.40625 8.296875 \nL 28.515625 8.296875 \nL 28.515625 63.921875 \nL 10.984375 60.40625 \nL 10.984375 69.390625 \nL 28.421875 72.90625 \nL 38.28125 72.90625 \nL 38.28125 8.296875 \nL 54.390625 8.296875 \nL 54.390625 0 \nL 12.40625 0 \nz\n\" id=\"DejaVuSans-49\"/>\n      </defs>\n      <use xlink:href=\"#DejaVuSans-49\"/>\n     </g>\n    </g>\n   </g>\n   <g id=\"text_2\">\n    <g clip-path=\"url(#p9d2331d560)\">\n     <!-- 2 -->\n     <g transform=\"translate(23.018864 233.056705)scale(0.12 -0.12)\">\n      <defs>\n       <path d=\"M 19.1875 8.296875 \nL 53.609375 8.296875 \nL 53.609375 0 \nL 7.328125 0 \nL 7.328125 8.296875 \nQ 12.9375 14.109375 22.625 23.890625 \nQ 32.328125 33.6875 34.8125 36.53125 \nQ 39.546875 41.84375 41.421875 45.53125 \nQ 43.3125 49.21875 43.3125 52.78125 \nQ 43.3125 58.59375 39.234375 62.25 \nQ 35.15625 65.921875 28.609375 65.921875 \nQ 23.96875 65.921875 18.8125 64.3125 \nQ 13.671875 62.703125 7.8125 59.421875 \nL 7.8125 69.390625 \nQ 13.765625 71.78125 18.9375 73 \nQ 24.125 74.21875 28.421875 74.21875 \nQ 39.75 74.21875 46.484375 68.546875 \nQ 53.21875 62.890625 53.21875 53.421875 \nQ 53.21875 48.921875 51.53125 44.890625 \nQ 49.859375 40.875 45.40625 35.40625 \nQ 44.1875 33.984375 37.640625 27.21875 \nQ 31.109375 20.453125 19.1875 8.296875 \nz\n\" id=\"DejaVuSans-50\"/>\n      </defs>\n      <use xlink:href=\"#DejaVuSans-50\"/>\n     </g>\n    </g>\n   </g>\n   <g id=\"text_3\">\n    <g clip-path=\"url(#p9d2331d560)\">\n     <!-- 3 -->\n     <g transform=\"translate(23.018864 180.693068)scale(0.12 -0.12)\">\n      <defs>\n       <path d=\"M 40.578125 39.3125 \nQ 47.65625 37.796875 51.625 33 \nQ 55.609375 28.21875 55.609375 21.1875 \nQ 55.609375 10.40625 48.1875 4.484375 \nQ 40.765625 -1.421875 27.09375 -1.421875 \nQ 22.515625 -1.421875 17.65625 -0.515625 \nQ 12.796875 0.390625 7.625 2.203125 \nL 7.625 11.71875 \nQ 11.71875 9.328125 16.59375 8.109375 \nQ 21.484375 6.890625 26.8125 6.890625 \nQ 36.078125 6.890625 40.9375 10.546875 \nQ 45.796875 14.203125 45.796875 21.1875 \nQ 45.796875 27.640625 41.28125 31.265625 \nQ 36.765625 34.90625 28.71875 34.90625 \nL 20.21875 34.90625 \nL 20.21875 43.015625 \nL 29.109375 43.015625 \nQ 36.375 43.015625 40.234375 45.921875 \nQ 44.09375 48.828125 44.09375 54.296875 \nQ 44.09375 59.90625 40.109375 62.90625 \nQ 36.140625 65.921875 28.71875 65.921875 \nQ 24.65625 65.921875 20.015625 65.03125 \nQ 15.375 64.15625 9.8125 62.3125 \nL 9.8125 71.09375 \nQ 15.4375 72.65625 20.34375 73.4375 \nQ 25.25 74.21875 29.59375 74.21875 \nQ 40.828125 74.21875 47.359375 69.109375 \nQ 53.90625 64.015625 53.90625 55.328125 \nQ 53.90625 49.265625 50.4375 45.09375 \nQ 46.96875 40.921875 40.578125 39.3125 \nz\n\" id=\"DejaVuSans-51\"/>\n      </defs>\n      <use xlink:href=\"#DejaVuSans-51\"/>\n     </g>\n    </g>\n   </g>\n   <g id=\"text_4\">\n    <g clip-path=\"url(#p9d2331d560)\">\n     <!-- 4 -->\n     <g transform=\"translate(23.018864 128.329432)scale(0.12 -0.12)\">\n      <defs>\n       <path d=\"M 37.796875 64.3125 \nL 12.890625 25.390625 \nL 37.796875 25.390625 \nz\nM 35.203125 72.90625 \nL 47.609375 72.90625 \nL 47.609375 25.390625 \nL 58.015625 25.390625 \nL 58.015625 17.1875 \nL 47.609375 17.1875 \nL 47.609375 0 \nL 37.796875 0 \nL 37.796875 17.1875 \nL 4.890625 17.1875 \nL 4.890625 26.703125 \nz\n\" id=\"DejaVuSans-52\"/>\n      </defs>\n      <use xlink:href=\"#DejaVuSans-52\"/>\n     </g>\n    </g>\n   </g>\n   <g id=\"text_5\">\n    <g clip-path=\"url(#p9d2331d560)\">\n     <!-- 5 -->\n     <g transform=\"translate(23.018864 75.965795)scale(0.12 -0.12)\">\n      <defs>\n       <path d=\"M 10.796875 72.90625 \nL 49.515625 72.90625 \nL 49.515625 64.59375 \nL 19.828125 64.59375 \nL 19.828125 46.734375 \nQ 21.96875 47.46875 24.109375 47.828125 \nQ 26.265625 48.1875 28.421875 48.1875 \nQ 40.625 48.1875 47.75 41.5 \nQ 54.890625 34.8125 54.890625 23.390625 \nQ 54.890625 11.625 47.5625 5.09375 \nQ 40.234375 -1.421875 26.90625 -1.421875 \nQ 22.3125 -1.421875 17.546875 -0.640625 \nQ 12.796875 0.140625 7.71875 1.703125 \nL 7.71875 11.625 \nQ 12.109375 9.234375 16.796875 8.0625 \nQ 21.484375 6.890625 26.703125 6.890625 \nQ 35.15625 6.890625 40.078125 11.328125 \nQ 45.015625 15.765625 45.015625 23.390625 \nQ 45.015625 31 40.078125 35.4375 \nQ 35.15625 39.890625 26.703125 39.890625 \nQ 22.75 39.890625 18.8125 39.015625 \nQ 14.890625 38.140625 10.796875 36.28125 \nz\n\" id=\"DejaVuSans-53\"/>\n      </defs>\n      <use xlink:href=\"#DejaVuSans-53\"/>\n     </g>\n    </g>\n   </g>\n   <g id=\"text_6\">\n    <g clip-path=\"url(#p9d2331d560)\">\n     <!-- 6 -->\n     <g transform=\"translate(23.018864 23.602159)scale(0.12 -0.12)\">\n      <defs>\n       <path d=\"M 33.015625 40.375 \nQ 26.375 40.375 22.484375 35.828125 \nQ 18.609375 31.296875 18.609375 23.390625 \nQ 18.609375 15.53125 22.484375 10.953125 \nQ 26.375 6.390625 33.015625 6.390625 \nQ 39.65625 6.390625 43.53125 10.953125 \nQ 47.40625 15.53125 47.40625 23.390625 \nQ 47.40625 31.296875 43.53125 35.828125 \nQ 39.65625 40.375 33.015625 40.375 \nz\nM 52.59375 71.296875 \nL 52.59375 62.3125 \nQ 48.875 64.0625 45.09375 64.984375 \nQ 41.3125 65.921875 37.59375 65.921875 \nQ 27.828125 65.921875 22.671875 59.328125 \nQ 17.53125 52.734375 16.796875 39.40625 \nQ 19.671875 43.65625 24.015625 45.921875 \nQ 28.375 48.1875 33.59375 48.1875 \nQ 44.578125 48.1875 50.953125 41.515625 \nQ 57.328125 34.859375 57.328125 23.390625 \nQ 57.328125 12.15625 50.6875 5.359375 \nQ 44.046875 -1.421875 33.015625 -1.421875 \nQ 20.359375 -1.421875 13.671875 8.265625 \nQ 6.984375 17.96875 6.984375 36.375 \nQ 6.984375 53.65625 15.1875 63.9375 \nQ 23.390625 74.21875 37.203125 74.21875 \nQ 40.921875 74.21875 44.703125 73.484375 \nQ 48.484375 72.75 52.59375 71.296875 \nz\n\" id=\"DejaVuSans-54\"/>\n      </defs>\n      <use xlink:href=\"#DejaVuSans-54\"/>\n     </g>\n    </g>\n   </g>\n   <g id=\"text_7\">\n    <g clip-path=\"url(#p9d2331d560)\">\n     <!-- 7 -->\n     <g transform=\"translate(415.746136 285.420341)scale(0.12 -0.12)\">\n      <defs>\n       <path d=\"M 8.203125 72.90625 \nL 55.078125 72.90625 \nL 55.078125 68.703125 \nL 28.609375 0 \nL 18.3125 0 \nL 43.21875 64.59375 \nL 8.203125 64.59375 \nz\n\" id=\"DejaVuSans-55\"/>\n      </defs>\n      <use xlink:href=\"#DejaVuSans-55\"/>\n     </g>\n    </g>\n   </g>\n   <g id=\"text_8\">\n    <g clip-path=\"url(#p9d2331d560)\">\n     <!-- 8 -->\n     <g transform=\"translate(415.746136 233.056705)scale(0.12 -0.12)\">\n      <defs>\n       <path d=\"M 31.78125 34.625 \nQ 24.75 34.625 20.71875 30.859375 \nQ 16.703125 27.09375 16.703125 20.515625 \nQ 16.703125 13.921875 20.71875 10.15625 \nQ 24.75 6.390625 31.78125 6.390625 \nQ 38.8125 6.390625 42.859375 10.171875 \nQ 46.921875 13.96875 46.921875 20.515625 \nQ 46.921875 27.09375 42.890625 30.859375 \nQ 38.875 34.625 31.78125 34.625 \nz\nM 21.921875 38.8125 \nQ 15.578125 40.375 12.03125 44.71875 \nQ 8.5 49.078125 8.5 55.328125 \nQ 8.5 64.0625 14.71875 69.140625 \nQ 20.953125 74.21875 31.78125 74.21875 \nQ 42.671875 74.21875 48.875 69.140625 \nQ 55.078125 64.0625 55.078125 55.328125 \nQ 55.078125 49.078125 51.53125 44.71875 \nQ 48 40.375 41.703125 38.8125 \nQ 48.828125 37.15625 52.796875 32.3125 \nQ 56.78125 27.484375 56.78125 20.515625 \nQ 56.78125 9.90625 50.3125 4.234375 \nQ 43.84375 -1.421875 31.78125 -1.421875 \nQ 19.734375 -1.421875 13.25 4.234375 \nQ 6.78125 9.90625 6.78125 20.515625 \nQ 6.78125 27.484375 10.78125 32.3125 \nQ 14.796875 37.15625 21.921875 38.8125 \nz\nM 18.3125 54.390625 \nQ 18.3125 48.734375 21.84375 45.5625 \nQ 25.390625 42.390625 31.78125 42.390625 \nQ 38.140625 42.390625 41.71875 45.5625 \nQ 45.3125 48.734375 45.3125 54.390625 \nQ 45.3125 60.0625 41.71875 63.234375 \nQ 38.140625 66.40625 31.78125 66.40625 \nQ 25.390625 66.40625 21.84375 63.234375 \nQ 18.3125 60.0625 18.3125 54.390625 \nz\n\" id=\"DejaVuSans-56\"/>\n      </defs>\n      <use xlink:href=\"#DejaVuSans-56\"/>\n     </g>\n    </g>\n   </g>\n   <g id=\"text_9\">\n    <g clip-path=\"url(#p9d2331d560)\">\n     <!-- 9 -->\n     <g transform=\"translate(415.746136 180.693068)scale(0.12 -0.12)\">\n      <defs>\n       <path d=\"M 10.984375 1.515625 \nL 10.984375 10.5 \nQ 14.703125 8.734375 18.5 7.8125 \nQ 22.3125 6.890625 25.984375 6.890625 \nQ 35.75 6.890625 40.890625 13.453125 \nQ 46.046875 20.015625 46.78125 33.40625 \nQ 43.953125 29.203125 39.59375 26.953125 \nQ 35.25 24.703125 29.984375 24.703125 \nQ 19.046875 24.703125 12.671875 31.3125 \nQ 6.296875 37.9375 6.296875 49.421875 \nQ 6.296875 60.640625 12.9375 67.421875 \nQ 19.578125 74.21875 30.609375 74.21875 \nQ 43.265625 74.21875 49.921875 64.515625 \nQ 56.59375 54.828125 56.59375 36.375 \nQ 56.59375 19.140625 48.40625 8.859375 \nQ 40.234375 -1.421875 26.421875 -1.421875 \nQ 22.703125 -1.421875 18.890625 -0.6875 \nQ 15.09375 0.046875 10.984375 1.515625 \nz\nM 30.609375 32.421875 \nQ 37.25 32.421875 41.125 36.953125 \nQ 45.015625 41.5 45.015625 49.421875 \nQ 45.015625 57.28125 41.125 61.84375 \nQ 37.25 66.40625 30.609375 66.40625 \nQ 23.96875 66.40625 20.09375 61.84375 \nQ 16.21875 57.28125 16.21875 49.421875 \nQ 16.21875 41.5 20.09375 36.953125 \nQ 23.96875 32.421875 30.609375 32.421875 \nz\n\" id=\"DejaVuSans-57\"/>\n      </defs>\n      <use xlink:href=\"#DejaVuSans-57\"/>\n     </g>\n    </g>\n   </g>\n   <g id=\"text_10\">\n    <g clip-path=\"url(#p9d2331d560)\">\n     <!-- 10 -->\n     <g transform=\"translate(411.928636 128.329432)scale(0.12 -0.12)\">\n      <defs>\n       <path d=\"M 31.78125 66.40625 \nQ 24.171875 66.40625 20.328125 58.90625 \nQ 16.5 51.421875 16.5 36.375 \nQ 16.5 21.390625 20.328125 13.890625 \nQ 24.171875 6.390625 31.78125 6.390625 \nQ 39.453125 6.390625 43.28125 13.890625 \nQ 47.125 21.390625 47.125 36.375 \nQ 47.125 51.421875 43.28125 58.90625 \nQ 39.453125 66.40625 31.78125 66.40625 \nz\nM 31.78125 74.21875 \nQ 44.046875 74.21875 50.515625 64.515625 \nQ 56.984375 54.828125 56.984375 36.375 \nQ 56.984375 17.96875 50.515625 8.265625 \nQ 44.046875 -1.421875 31.78125 -1.421875 \nQ 19.53125 -1.421875 13.0625 8.265625 \nQ 6.59375 17.96875 6.59375 36.375 \nQ 6.59375 54.828125 13.0625 64.515625 \nQ 19.53125 74.21875 31.78125 74.21875 \nz\n\" id=\"DejaVuSans-48\"/>\n      </defs>\n      <use xlink:href=\"#DejaVuSans-49\"/>\n      <use x=\"63.623047\" xlink:href=\"#DejaVuSans-48\"/>\n     </g>\n    </g>\n   </g>\n   <g id=\"text_11\">\n    <g clip-path=\"url(#p9d2331d560)\">\n     <!-- 11 -->\n     <g transform=\"translate(411.928636 75.965795)scale(0.12 -0.12)\">\n      <use xlink:href=\"#DejaVuSans-49\"/>\n      <use x=\"63.623047\" xlink:href=\"#DejaVuSans-49\"/>\n     </g>\n    </g>\n   </g>\n  </g>\n </g>\n <defs>\n  <clipPath id=\"p9d2331d560\">\n   <rect height=\"288\" width=\"432\" x=\"7.2\" y=\"7.2\"/>\n  </clipPath>\n </defs>\n</svg>\n",
      "image/png": "[encoded data removed]"
     },
     "metadata": {}
    }
   ],
   "source": [
    "import matplotlib.pyplot as plt\n",
    "X, Y = nx.bipartite.sets(GBI)\n",
    "pos = dict()\n",
    "pos.update( (n, (1, i)) for i, n in enumerate(X) ) # put nodes from X at x=1\n",
    "pos.update( (n, (2, i)) for i, n in enumerate(Y) ) # put nodes from Y at x=2\n",
    "nx.draw(G, pos=pos, with_labels = True)\n",
    "plt.show()"
   ]
  },
  {
   "cell_type": "code",
   "execution_count": 103,
   "metadata": {},
   "outputs": [
    {
     "output_type": "execute_result",
     "data": {
      "text/plain": [
       "matrix([[0., 0., 0., 0., 0., 0., 1., 0., 0., 0., 0.],\n",
       "        [0., 0., 0., 0., 0., 0., 0., 0., 1., 0., 0.],\n",
       "        [0., 0., 0., 0., 0., 0., 1., 1., 1., 0., 0.],\n",
       "        [0., 0., 0., 0., 0., 0., 0., 0., 1., 1., 0.],\n",
       "        [0., 0., 0., 0., 0., 0., 0., 0., 1., 0., 1.],\n",
       "        [0., 0., 0., 0., 0., 0., 0., 0., 0., 0., 1.],\n",
       "        [1., 0., 1., 0., 0., 0., 0., 0., 0., 0., 0.],\n",
       "        [0., 0., 1., 0., 0., 0., 0., 0., 0., 0., 0.],\n",
       "        [0., 1., 1., 1., 1., 0., 0., 0., 0., 0., 0.],\n",
       "        [0., 0., 0., 1., 0., 0., 0., 0., 0., 0., 0.],\n",
       "        [0., 0., 0., 0., 1., 1., 0., 0., 0., 0., 0.]])"
      ]
     },
     "metadata": {},
     "execution_count": 103
    }
   ],
   "source": [
    "nx.to_numpy_matrix(GBI)"
   ]
  },
  {
   "source": [
    "Block diagonal matrix because the lower end nodes 1 to 6 are not connect with each other and the same for the higher end nodes"
   ],
   "cell_type": "markdown",
   "metadata": {}
  },
  {
   "source": [
    "### Projections"
   ],
   "cell_type": "markdown",
   "metadata": {}
  },
  {
   "cell_type": "code",
   "execution_count": 105,
   "metadata": {},
   "outputs": [],
   "source": [
    "purp_proj = nx.bipartite.projection.projected_graph(GBI, list(range(1,7)))\n",
    "gree_proj = nx.bipartite.projection.projected_graph(GBI, list(range(7,12)))"
   ]
  },
  {
   "cell_type": "code",
   "execution_count": 106,
   "metadata": {},
   "outputs": [
    {
     "output_type": "execute_result",
     "data": {
      "text/plain": [
       "matrix([[0., 0., 1., 0., 0., 0.],\n",
       "        [0., 0., 1., 1., 1., 0.],\n",
       "        [1., 1., 0., 1., 1., 0.],\n",
       "        [0., 1., 1., 0., 1., 0.],\n",
       "        [0., 1., 1., 1., 0., 1.],\n",
       "        [0., 0., 0., 0., 1., 0.]])"
      ]
     },
     "metadata": {},
     "execution_count": 106
    }
   ],
   "source": [
    "nx.to_numpy_matrix(purp_proj)"
   ]
  },
  {
   "cell_type": "code",
   "execution_count": 107,
   "metadata": {},
   "outputs": [
    {
     "output_type": "execute_result",
     "data": {
      "text/plain": [
       "matrix([[0., 1., 1., 0., 0.],\n",
       "        [1., 0., 1., 0., 0.],\n",
       "        [1., 1., 0., 1., 1.],\n",
       "        [0., 0., 1., 0., 0.],\n",
       "        [0., 0., 1., 0., 0.]])"
      ]
     },
     "metadata": {},
     "execution_count": 107
    }
   ],
   "source": [
    "nx.to_numpy_matrix(gree_proj)"
   ]
  },
  {
   "cell_type": "code",
   "execution_count": 116,
   "metadata": {},
   "outputs": [],
   "source": [
    "def avg_degree(G, nodes):\n",
    "    degrees = list(nx.degree(G,nodes))\n",
    "    return sum([b for a,b in degrees])/len(degrees)"
   ]
  },
  {
   "cell_type": "code",
   "execution_count": 117,
   "metadata": {},
   "outputs": [
    {
     "output_type": "stream",
     "name": "stdout",
     "text": [
      "Average degree of purple nodes in full graph 1.6666666666666667\nAverage degree of green nodes in full graph 2.0\n"
     ]
    }
   ],
   "source": [
    "purple_nodes = list(range(1,7))\n",
    "green_nodes = list(range(7,12))\n",
    "print(f'Average degree of purple nodes in full graph {avg_degree(GBI, purple_nodes)}')\n",
    "print(f'Average degree of green nodes in full graph {avg_degree(GBI, green_nodes)}')\n"
   ]
  },
  {
   "cell_type": "code",
   "execution_count": 119,
   "metadata": {},
   "outputs": [
    {
     "output_type": "stream",
     "name": "stdout",
     "text": [
      "Average degree of purple nodes purple projection 2.6666666666666665\nAverage degree of green nodes in green projection 2.0\n"
     ]
    }
   ],
   "source": [
    "purple_nodes = list(range(1,7))\n",
    "green_nodes = list(range(7,12))\n",
    "print(f'Average degree of purple nodes purple projection {avg_degree(purp_proj, purple_nodes)}')\n",
    "print(f'Average degree of green nodes in green projection {avg_degree(gree_proj, green_nodes)}')"
   ]
  },
  {
   "source": [
    "# "
   ],
   "cell_type": "markdown",
   "metadata": {}
  }
 ]
}