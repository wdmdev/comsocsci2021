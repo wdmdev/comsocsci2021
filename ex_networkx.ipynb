{
 "metadata": {
  "language_info": {
   "codemirror_mode": {
    "name": "ipython",
    "version": 3
   },
   "file_extension": ".py",
   "mimetype": "text/x-python",
   "name": "python",
   "nbconvert_exporter": "python",
   "pygments_lexer": "ipython3",
   "version": "3.9.1-final"
  },
  "orig_nbformat": 2,
  "kernelspec": {
   "name": "python3",
   "display_name": "Python 3.9.1 64-bit ('com_social2021': conda)",
   "metadata": {
    "interpreter": {
     "hash": "83ff59762366ec201ab4f65328d80b06a6364ce388f35dd8bdd75ebdd542ac99"
    }
   }
  }
 },
 "nbformat": 4,
 "nbformat_minor": 2,
 "cells": [
  {
   "source": [
    "import networkx as nx"
   ],
   "cell_type": "code",
   "metadata": {},
   "execution_count": 1,
   "outputs": []
  },
  {
   "source": [
    "### Create graph"
   ],
   "cell_type": "markdown",
   "metadata": {}
  },
  {
   "cell_type": "code",
   "execution_count": 2,
   "metadata": {},
   "outputs": [],
   "source": [
    "G = nx.Graph()"
   ]
  },
  {
   "source": [
    "### Adding node"
   ],
   "cell_type": "markdown",
   "metadata": {}
  },
  {
   "cell_type": "code",
   "execution_count": 3,
   "metadata": {},
   "outputs": [],
   "source": [
    "G.add_node(1)"
   ]
  },
  {
   "cell_type": "code",
   "execution_count": 4,
   "metadata": {},
   "outputs": [],
   "source": [
    "G.add_nodes_from([2,3])"
   ]
  },
  {
   "source": [
    "### With node attributes"
   ],
   "cell_type": "markdown",
   "metadata": {}
  },
  {
   "cell_type": "code",
   "execution_count": 6,
   "metadata": {},
   "outputs": [],
   "source": [
    "G.add_nodes_from([\n",
    "    (4, {\"color\": \"red\"}),\n",
    "    (5, {\"color\": \"blue\"})\n",
    "])"
   ]
  },
  {
   "source": [
    "### Import nodes from other graph"
   ],
   "cell_type": "markdown",
   "metadata": {}
  },
  {
   "cell_type": "code",
   "execution_count": 8,
   "metadata": {},
   "outputs": [],
   "source": [
    "H = nx.path_graph(10)\n",
    "G.add_nodes_from(H)"
   ]
  },
  {
   "source": [
    "### Adding edges"
   ],
   "cell_type": "markdown",
   "metadata": {}
  },
  {
   "cell_type": "code",
   "execution_count": 16,
   "metadata": {},
   "outputs": [],
   "source": [
    "G.add_edge(1,2)\n",
    "e = (2,3)\n",
    "G.add_edge(*e) #unpacking tuple"
   ]
  },
  {
   "cell_type": "code",
   "execution_count": 17,
   "metadata": {},
   "outputs": [],
   "source": [
    "G.add_edges_from([(1,2), (1,3)])"
   ]
  },
  {
   "cell_type": "code",
   "execution_count": 18,
   "metadata": {},
   "outputs": [],
   "source": [
    "G.add_edges_from(H.edges)"
   ]
  },
  {
   "cell_type": "code",
   "execution_count": 19,
   "metadata": {},
   "outputs": [],
   "source": [
    "#remove all nodes and edges\n",
    "G.clear()"
   ]
  },
  {
   "cell_type": "code",
   "execution_count": 40,
   "metadata": {},
   "outputs": [],
   "source": [
    "G.add_edges_from([(1,2), (1,3)])\n",
    "G.add_node(1)\n",
    "G.add_edge(1,2)\n",
    "G.add_node(\"spam\") # adds node \"spam\"\n",
    "G.add_nodes_from(\"spam\") #adds 4 nodes s, p, a, m\n",
    "G.add_edge(3, 'm')"
   ]
  },
  {
   "cell_type": "code",
   "execution_count": 34,
   "metadata": {},
   "outputs": [
    {
     "output_type": "execute_result",
     "data": {
      "text/plain": [
       "8"
      ]
     },
     "metadata": {},
     "execution_count": 34
    }
   ],
   "source": [
    "G.number_of_nodes()"
   ]
  },
  {
   "cell_type": "code",
   "execution_count": 35,
   "metadata": {},
   "outputs": [
    {
     "output_type": "execute_result",
     "data": {
      "text/plain": [
       "3"
      ]
     },
     "metadata": {},
     "execution_count": 35
    }
   ],
   "source": [
    "G.number_of_edges()"
   ]
  },
  {
   "source": [
    "###  Examining graphs"
   ],
   "cell_type": "markdown",
   "metadata": {}
  },
  {
   "cell_type": "code",
   "execution_count": 50,
   "metadata": {},
   "outputs": [
    {
     "output_type": "execute_result",
     "data": {
      "text/plain": [
       "[1, 2, 3, 'spam', 's', 'p', 'a', 'm']"
      ]
     },
     "metadata": {},
     "execution_count": 50
    }
   ],
   "source": [
    "list(G.nodes)"
   ]
  },
  {
   "cell_type": "code",
   "execution_count": 51,
   "metadata": {},
   "outputs": [
    {
     "output_type": "execute_result",
     "data": {
      "text/plain": [
       "[(1, 2), (1, 3), (3, 'm')]"
      ]
     },
     "metadata": {},
     "execution_count": 51
    }
   ],
   "source": [
    "list(G.edges)"
   ]
  },
  {
   "cell_type": "code",
   "execution_count": 57,
   "metadata": {},
   "outputs": [
    {
     "output_type": "execute_result",
     "data": {
      "text/plain": [
       "[2, 3]"
      ]
     },
     "metadata": {},
     "execution_count": 57
    }
   ],
   "source": [
    "list(G.adj[1])"
   ]
  },
  {
   "cell_type": "code",
   "execution_count": 58,
   "metadata": {},
   "outputs": [
    {
     "output_type": "execute_result",
     "data": {
      "text/plain": [
       "EdgeDataView([(2, 1), ('m', 3)])"
      ]
     },
     "metadata": {},
     "execution_count": 58
    }
   ],
   "source": [
    "G.edges([2,'m'])"
   ]
  },
  {
   "cell_type": "code",
   "execution_count": 59,
   "metadata": {},
   "outputs": [
    {
     "output_type": "execute_result",
     "data": {
      "text/plain": [
       "DegreeView({2: 1, 3: 2})"
      ]
     },
     "metadata": {},
     "execution_count": 59
    }
   ],
   "source": [
    "G.degree([2,3])"
   ]
  },
  {
   "source": [
    "### Subscript notation"
   ],
   "cell_type": "markdown",
   "metadata": {}
  },
  {
   "cell_type": "code",
   "execution_count": 65,
   "metadata": {},
   "outputs": [],
   "source": [
    "G = nx.Graph([(1, 2, {\"color\": \"yellow\"})])\n",
    "G.add_edge(1,3)\n",
    "G[1][3]['color'] = 'blue'\n",
    "G[1][2]['color'] = 'red'"
   ]
  },
  {
   "cell_type": "code",
   "execution_count": 66,
   "metadata": {},
   "outputs": [
    {
     "output_type": "execute_result",
     "data": {
      "text/plain": [
       "{'color': 'red'}"
      ]
     },
     "metadata": {},
     "execution_count": 66
    }
   ],
   "source": [
    "G.edges[1,2]"
   ]
  },
  {
   "source": [
    "###  Access edge data"
   ],
   "cell_type": "markdown",
   "metadata": {}
  },
  {
   "cell_type": "code",
   "execution_count": 67,
   "metadata": {},
   "outputs": [
    {
     "output_type": "stream",
     "name": "stdout",
     "text": [
      "(1, 2, 0.125)\n(2, 1, 0.125)\n(3, 4, 0.375)\n(4, 3, 0.375)\n"
     ]
    }
   ],
   "source": [
    "FG = nx.Graph()\n",
    "\n",
    "FG.add_weighted_edges_from([(1, 2, 0.125), (1, 3, 0.75), (2, 4, 1.2), (3, 4, 0.375)])\n",
    "\n",
    "for n, nbrs in FG.adj.items():\n",
    "\n",
    "   for nbr, eattr in nbrs.items():\n",
    "\n",
    "       wt = eattr['weight']\n",
    "\n",
    "       if wt < 0.5: print(f\"({n}, {nbr}, {wt:.3})\")"
   ]
  },
  {
   "cell_type": "code",
   "execution_count": 70,
   "metadata": {},
   "outputs": [
    {
     "output_type": "stream",
     "name": "stdout",
     "text": [
      "(1, 2, 0.125)\n(3, 4, 0.375)\n"
     ]
    }
   ],
   "source": [
    "for u, v, wt in FG.edges.data('weight'):\n",
    "    if wt < 0.5:\n",
    "        print(f'({u}, {v}, {wt:.3})')"
   ]
  },
  {
   "source": [
    "### Node and edge attributes"
   ],
   "cell_type": "markdown",
   "metadata": {}
  },
  {
   "cell_type": "code",
   "execution_count": 71,
   "metadata": {},
   "outputs": [
    {
     "output_type": "execute_result",
     "data": {
      "text/plain": [
       "NodeDataView({1: {'time': '5pm', 'room': 714}, 2: {}, 3: {'time': '2pm'}})"
      ]
     },
     "metadata": {},
     "execution_count": 71
    }
   ],
   "source": [
    "G.add_node(1, time='5pm')\n",
    "G.add_nodes_from([3], time='2pm')\n",
    "G.nodes[1]['room'] = 714\n",
    "G.nodes.data()"
   ]
  },
  {
   "cell_type": "code",
   "execution_count": 72,
   "metadata": {},
   "outputs": [
    {
     "output_type": "execute_result",
     "data": {
      "text/plain": [
       "EdgeDataView([(1, 2, {'color': 'blue', 'weight': 4.7}), (1, 3, {'color': 'blue'}), (2, 3, {'weight': 8}), (3, 4, {'color': 'red', 'weight': 4.2}), (4, 5, {'color': 'red'})])"
      ]
     },
     "metadata": {},
     "execution_count": 72
    }
   ],
   "source": [
    "G.add_edge(1, 2, weight=4.7 )\n",
    "G.add_edges_from([(3, 4), (4, 5)], color='red')\n",
    "G.add_edges_from([(1, 2, {'color': 'blue'}), (2, 3, {'weight': 8})])\n",
    "G[1][2]['weight'] = 4.7\n",
    "G.edges[3, 4]['weight'] = 4.2\n",
    "G.edges.data()"
   ]
  },
  {
   "source": [
    "### Directed graphs"
   ],
   "cell_type": "markdown",
   "metadata": {}
  },
  {
   "cell_type": "code",
   "execution_count": 74,
   "metadata": {},
   "outputs": [
    {
     "output_type": "stream",
     "name": "stdout",
     "text": [
      "[2]\n[2]\n"
     ]
    }
   ],
   "source": [
    "DG = nx.DiGraph()\n",
    "DG.add_weighted_edges_from([(1, 2, 0.5), (3, 1, 0.75)])\n",
    "DG.out_degree(1, weight='weight')\n",
    "DG.degree(1, weight='weight')\n",
    "print(list(DG.successors(1)))\n",
    "print(list(DG.neighbors(1)))"
   ]
  },
  {
   "source": [
    "### Convert to undirected graph"
   ],
   "cell_type": "markdown",
   "metadata": {}
  },
  {
   "cell_type": "code",
   "execution_count": 75,
   "metadata": {},
   "outputs": [],
   "source": [
    "H = nx.Graph(G)"
   ]
  },
  {
   "source": [
    "### Multi graphs"
   ],
   "cell_type": "markdown",
   "metadata": {}
  },
  {
   "cell_type": "code",
   "execution_count": 76,
   "metadata": {},
   "outputs": [
    {
     "output_type": "stream",
     "name": "stdout",
     "text": [
      "{1: 1.25, 2: 1.75, 3: 0.5}\n"
     ]
    },
    {
     "output_type": "execute_result",
     "data": {
      "text/plain": [
       "[1, 2, 3]"
      ]
     },
     "metadata": {},
     "execution_count": 76
    }
   ],
   "source": [
    "MG = nx.MultiGraph()\n",
    "MG.add_weighted_edges_from([(1, 2, 0.5), (1, 2, 0.75), (2, 3, 0.5)])\n",
    "\n",
    "print(dict(MG.degree(weight='weight')))\n",
    "\n",
    "GG = nx.Graph()\n",
    "for n, nbrs in MG.adjacency():\n",
    "   for nbr, edict in nbrs.items():\n",
    "       minvalue = min([d['weight'] for d in edict.values()])\n",
    "       GG.add_edge(n, nbr, weight = minvalue)\n",
    "\n",
    "nx.shortest_path(GG, 1, 3)"
   ]
  },
  {
   "source": [
    "### Drawing graphs"
   ],
   "cell_type": "markdown",
   "metadata": {}
  },
  {
   "cell_type": "code",
   "execution_count": 77,
   "metadata": {},
   "outputs": [
    {
     "output_type": "display_data",
     "data": {
      "text/plain": "<Figure size 432x288 with 2 Axes>",
      "image/svg+xml": "<?xml version=\"1.0\" encoding=\"utf-8\" standalone=\"no\"?>\n<!DOCTYPE svg PUBLIC \"-//W3C//DTD SVG 1.1//EN\"\n  \"http://www.w3.org/Graphics/SVG/1.1/DTD/svg11.dtd\">\n<!-- Created with matplotlib (https://matplotlib.org/) -->\n<svg height=\"231.84pt\" version=\"1.1\" viewBox=\"0 0 349.2 231.84\" width=\"349.2pt\" xmlns=\"http://www.w3.org/2000/svg\" xmlns:xlink=\"http://www.w3.org/1999/xlink\">\n <metadata>\n  <rdf:RDF xmlns:cc=\"http://creativecommons.org/ns#\" xmlns:dc=\"http://purl.org/dc/elements/1.1/\" xmlns:rdf=\"http://www.w3.org/1999/02/22-rdf-syntax-ns#\">\n   <cc:Work>\n    <dc:type rdf:resource=\"http://purl.org/dc/dcmitype/StillImage\"/>\n    <dc:date>2021-02-17T09:42:26.359690</dc:date>\n    <dc:format>image/svg+xml</dc:format>\n    <dc:creator>\n     <cc:Agent>\n      <dc:title>Matplotlib v3.3.4, https://matplotlib.org/</dc:title>\n     </cc:Agent>\n    </dc:creator>\n   </cc:Work>\n  </rdf:RDF>\n </metadata>\n <defs>\n  <style type=\"text/css\">*{stroke-linecap:butt;stroke-linejoin:round;}</style>\n </defs>\n <g id=\"figure_1\">\n  <g id=\"patch_1\">\n   <path d=\"M 0 231.84 \nL 349.2 231.84 \nL 349.2 0 \nL 0 0 \nz\n\" style=\"fill:#ffffff;\"/>\n  </g>\n  <g id=\"axes_1\">\n   <g id=\"LineCollection_1\">\n    <path clip-path=\"url(#p709c475a63)\" d=\"M 92.15103 214.756364 \nL 83.157783 150.337571 \n\" style=\"fill:none;stroke:#000000;\"/>\n    <path clip-path=\"url(#p709c475a63)\" d=\"M 92.15103 214.756364 \nL 115.984768 102.014967 \n\" style=\"fill:none;stroke:#000000;\"/>\n    <path clip-path=\"url(#p709c475a63)\" d=\"M 92.15103 214.756364 \nL 46.8872 168.664341 \n\" style=\"fill:none;stroke:#000000;\"/>\n    <path clip-path=\"url(#p709c475a63)\" d=\"M 83.157783 150.337571 \nL 14.117355 102.978186 \n\" style=\"fill:none;stroke:#000000;\"/>\n    <path clip-path=\"url(#p709c475a63)\" d=\"M 83.157783 150.337571 \nL 152.464463 90.793726 \n\" style=\"fill:none;stroke:#000000;\"/>\n    <path clip-path=\"url(#p709c475a63)\" d=\"M 14.117355 102.978186 \nL 71.160142 93.391355 \n\" style=\"fill:none;stroke:#000000;\"/>\n    <path clip-path=\"url(#p709c475a63)\" d=\"M 14.117355 102.978186 \nL 36.978093 46.512586 \n\" style=\"fill:none;stroke:#000000;\"/>\n    <path clip-path=\"url(#p709c475a63)\" d=\"M 71.160142 93.391355 \nL 115.984768 102.014967 \n\" style=\"fill:none;stroke:#000000;\"/>\n    <path clip-path=\"url(#p709c475a63)\" d=\"M 71.160142 93.391355 \nL 122.366751 160.74796 \n\" style=\"fill:none;stroke:#000000;\"/>\n    <path clip-path=\"url(#p709c475a63)\" d=\"M 115.984768 102.014967 \nL 111.11178 17.083636 \n\" style=\"fill:none;stroke:#000000;\"/>\n    <path clip-path=\"url(#p709c475a63)\" d=\"M 46.8872 168.664341 \nL 36.978093 46.512586 \n\" style=\"fill:none;stroke:#000000;\"/>\n    <path clip-path=\"url(#p709c475a63)\" d=\"M 46.8872 168.664341 \nL 122.366751 160.74796 \n\" style=\"fill:none;stroke:#000000;\"/>\n    <path clip-path=\"url(#p709c475a63)\" d=\"M 152.464463 90.793726 \nL 122.366751 160.74796 \n\" style=\"fill:none;stroke:#000000;\"/>\n    <path clip-path=\"url(#p709c475a63)\" d=\"M 152.464463 90.793726 \nL 111.11178 17.083636 \n\" style=\"fill:none;stroke:#000000;\"/>\n    <path clip-path=\"url(#p709c475a63)\" d=\"M 36.978093 46.512586 \nL 111.11178 17.083636 \n\" style=\"fill:none;stroke:#000000;\"/>\n   </g>\n   <g id=\"PathCollection_1\">\n    <defs>\n     <path d=\"M 0 8.660254 \nC 2.296726 8.660254 4.499694 7.747755 6.123724 6.123724 \nC 7.747755 4.499694 8.660254 2.296726 8.660254 0 \nC 8.660254 -2.296726 7.747755 -4.499694 6.123724 -6.123724 \nC 4.499694 -7.747755 2.296726 -8.660254 0 -8.660254 \nC -2.296726 -8.660254 -4.499694 -7.747755 -6.123724 -6.123724 \nC -7.747755 -4.499694 -8.660254 -2.296726 -8.660254 0 \nC -8.660254 2.296726 -7.747755 4.499694 -6.123724 6.123724 \nC -4.499694 7.747755 -2.296726 8.660254 0 8.660254 \nz\n\" id=\"m8957fd3cef\" style=\"stroke:#1f78b4;\"/>\n    </defs>\n    <g clip-path=\"url(#p709c475a63)\">\n     <use style=\"fill:#1f78b4;stroke:#1f78b4;\" x=\"92.15103\" xlink:href=\"#m8957fd3cef\" y=\"214.756364\"/>\n     <use style=\"fill:#1f78b4;stroke:#1f78b4;\" x=\"83.157783\" xlink:href=\"#m8957fd3cef\" y=\"150.337571\"/>\n     <use style=\"fill:#1f78b4;stroke:#1f78b4;\" x=\"14.117355\" xlink:href=\"#m8957fd3cef\" y=\"102.978186\"/>\n     <use style=\"fill:#1f78b4;stroke:#1f78b4;\" x=\"71.160142\" xlink:href=\"#m8957fd3cef\" y=\"93.391355\"/>\n     <use style=\"fill:#1f78b4;stroke:#1f78b4;\" x=\"115.984768\" xlink:href=\"#m8957fd3cef\" y=\"102.014967\"/>\n     <use style=\"fill:#1f78b4;stroke:#1f78b4;\" x=\"46.8872\" xlink:href=\"#m8957fd3cef\" y=\"168.664341\"/>\n     <use style=\"fill:#1f78b4;stroke:#1f78b4;\" x=\"152.464463\" xlink:href=\"#m8957fd3cef\" y=\"90.793726\"/>\n     <use style=\"fill:#1f78b4;stroke:#1f78b4;\" x=\"36.978093\" xlink:href=\"#m8957fd3cef\" y=\"46.512586\"/>\n     <use style=\"fill:#1f78b4;stroke:#1f78b4;\" x=\"122.366751\" xlink:href=\"#m8957fd3cef\" y=\"160.74796\"/>\n     <use style=\"fill:#1f78b4;stroke:#1f78b4;\" x=\"111.11178\" xlink:href=\"#m8957fd3cef\" y=\"17.083636\"/>\n    </g>\n   </g>\n   <g id=\"text_1\">\n    <g clip-path=\"url(#p709c475a63)\">\n     <!-- 0 -->\n     <g transform=\"translate(87.976342 218.067614)scale(0.12 -0.12)\">\n      <defs>\n       <path d=\"M 46 36.53125 \nQ 46 50.203125 43.4375 55.78125 \nQ 40.875 61.375 34.8125 61.375 \nQ 28.765625 61.375 26.171875 55.78125 \nQ 23.578125 50.203125 23.578125 36.53125 \nQ 23.578125 22.703125 26.171875 17.03125 \nQ 28.765625 11.375 34.8125 11.375 \nQ 40.828125 11.375 43.40625 17.03125 \nQ 46 22.703125 46 36.53125 \nz\nM 64.796875 36.375 \nQ 64.796875 18.265625 56.984375 8.421875 \nQ 49.171875 -1.421875 34.8125 -1.421875 \nQ 20.40625 -1.421875 12.59375 8.421875 \nQ 4.78125 18.265625 4.78125 36.375 \nQ 4.78125 54.546875 12.59375 64.375 \nQ 20.40625 74.21875 34.8125 74.21875 \nQ 49.171875 74.21875 56.984375 64.375 \nQ 64.796875 54.546875 64.796875 36.375 \nz\n\" id=\"DejaVuSans-Bold-48\"/>\n      </defs>\n      <use xlink:href=\"#DejaVuSans-Bold-48\"/>\n     </g>\n    </g>\n   </g>\n   <g id=\"text_2\">\n    <g clip-path=\"url(#p709c475a63)\">\n     <!-- 1 -->\n     <g transform=\"translate(78.983095 153.648821)scale(0.12 -0.12)\">\n      <defs>\n       <path d=\"M 11.71875 12.984375 \nL 28.328125 12.984375 \nL 28.328125 60.109375 \nL 11.28125 56.59375 \nL 11.28125 69.390625 \nL 28.21875 72.90625 \nL 46.09375 72.90625 \nL 46.09375 12.984375 \nL 62.703125 12.984375 \nL 62.703125 0 \nL 11.71875 0 \nz\n\" id=\"DejaVuSans-Bold-49\"/>\n      </defs>\n      <use xlink:href=\"#DejaVuSans-Bold-49\"/>\n     </g>\n    </g>\n   </g>\n   <g id=\"text_3\">\n    <g clip-path=\"url(#p709c475a63)\">\n     <!-- 2 -->\n     <g transform=\"translate(9.942668 106.289436)scale(0.12 -0.12)\">\n      <defs>\n       <path d=\"M 28.8125 13.8125 \nL 60.890625 13.8125 \nL 60.890625 0 \nL 7.90625 0 \nL 7.90625 13.8125 \nL 34.515625 37.3125 \nQ 38.09375 40.53125 39.796875 43.609375 \nQ 41.5 46.6875 41.5 50 \nQ 41.5 55.125 38.0625 58.25 \nQ 34.625 61.375 28.90625 61.375 \nQ 24.515625 61.375 19.28125 59.5 \nQ 14.0625 57.625 8.109375 53.90625 \nL 8.109375 69.921875 \nQ 14.453125 72.015625 20.65625 73.109375 \nQ 26.859375 74.21875 32.8125 74.21875 \nQ 45.90625 74.21875 53.15625 68.453125 \nQ 60.40625 62.703125 60.40625 52.390625 \nQ 60.40625 46.4375 57.328125 41.28125 \nQ 54.25 36.140625 44.390625 27.484375 \nz\n\" id=\"DejaVuSans-Bold-50\"/>\n      </defs>\n      <use xlink:href=\"#DejaVuSans-Bold-50\"/>\n     </g>\n    </g>\n   </g>\n   <g id=\"text_4\">\n    <g clip-path=\"url(#p709c475a63)\">\n     <!-- 3 -->\n     <g transform=\"translate(66.985455 96.702605)scale(0.12 -0.12)\">\n      <defs>\n       <path d=\"M 46.578125 39.3125 \nQ 53.953125 37.40625 57.78125 32.6875 \nQ 61.625 27.984375 61.625 20.703125 \nQ 61.625 9.859375 53.3125 4.21875 \nQ 45.015625 -1.421875 29.109375 -1.421875 \nQ 23.484375 -1.421875 17.84375 -0.515625 \nQ 12.203125 0.390625 6.6875 2.203125 \nL 6.6875 16.703125 \nQ 11.96875 14.0625 17.15625 12.71875 \nQ 22.359375 11.375 27.390625 11.375 \nQ 34.859375 11.375 38.84375 13.953125 \nQ 42.828125 16.546875 42.828125 21.390625 \nQ 42.828125 26.375 38.75 28.9375 \nQ 34.671875 31.5 26.703125 31.5 \nL 19.1875 31.5 \nL 19.1875 43.609375 \nL 27.09375 43.609375 \nQ 34.1875 43.609375 37.640625 45.828125 \nQ 41.109375 48.046875 41.109375 52.59375 \nQ 41.109375 56.78125 37.734375 59.078125 \nQ 34.375 61.375 28.21875 61.375 \nQ 23.6875 61.375 19.046875 60.34375 \nQ 14.40625 59.328125 9.8125 57.328125 \nL 9.8125 71.09375 \nQ 15.375 72.65625 20.84375 73.4375 \nQ 26.3125 74.21875 31.59375 74.21875 \nQ 45.796875 74.21875 52.84375 69.546875 \nQ 59.90625 64.890625 59.90625 55.515625 \nQ 59.90625 49.125 56.53125 45.046875 \nQ 53.171875 40.96875 46.578125 39.3125 \nz\n\" id=\"DejaVuSans-Bold-51\"/>\n      </defs>\n      <use xlink:href=\"#DejaVuSans-Bold-51\"/>\n     </g>\n    </g>\n   </g>\n   <g id=\"text_5\">\n    <g clip-path=\"url(#p709c475a63)\">\n     <!-- 4 -->\n     <g transform=\"translate(111.81008 105.326217)scale(0.12 -0.12)\">\n      <defs>\n       <path d=\"M 36.8125 57.421875 \nL 16.21875 26.90625 \nL 36.8125 26.90625 \nz\nM 33.6875 72.90625 \nL 54.59375 72.90625 \nL 54.59375 26.90625 \nL 64.984375 26.90625 \nL 64.984375 13.28125 \nL 54.59375 13.28125 \nL 54.59375 0 \nL 36.8125 0 \nL 36.8125 13.28125 \nL 4.5 13.28125 \nL 4.5 29.390625 \nz\n\" id=\"DejaVuSans-Bold-52\"/>\n      </defs>\n      <use xlink:href=\"#DejaVuSans-Bold-52\"/>\n     </g>\n    </g>\n   </g>\n   <g id=\"text_6\">\n    <g clip-path=\"url(#p709c475a63)\">\n     <!-- 5 -->\n     <g transform=\"translate(42.712513 171.975591)scale(0.12 -0.12)\">\n      <defs>\n       <path d=\"M 10.59375 72.90625 \nL 57.328125 72.90625 \nL 57.328125 59.078125 \nL 25.59375 59.078125 \nL 25.59375 47.796875 \nQ 27.734375 48.390625 29.90625 48.703125 \nQ 32.078125 49.03125 34.421875 49.03125 \nQ 47.75 49.03125 55.171875 42.359375 \nQ 62.59375 35.6875 62.59375 23.78125 \nQ 62.59375 11.96875 54.515625 5.265625 \nQ 46.4375 -1.421875 32.078125 -1.421875 \nQ 25.875 -1.421875 19.796875 -0.21875 \nQ 13.71875 0.984375 7.71875 3.421875 \nL 7.71875 18.21875 \nQ 13.671875 14.796875 19.015625 13.078125 \nQ 24.359375 11.375 29.109375 11.375 \nQ 35.9375 11.375 39.859375 14.71875 \nQ 43.796875 18.0625 43.796875 23.78125 \nQ 43.796875 29.546875 39.859375 32.859375 \nQ 35.9375 36.1875 29.109375 36.1875 \nQ 25.046875 36.1875 20.453125 35.125 \nQ 15.875 34.078125 10.59375 31.890625 \nz\n\" id=\"DejaVuSans-Bold-53\"/>\n      </defs>\n      <use xlink:href=\"#DejaVuSans-Bold-53\"/>\n     </g>\n    </g>\n   </g>\n   <g id=\"text_7\">\n    <g clip-path=\"url(#p709c475a63)\">\n     <!-- 6 -->\n     <g transform=\"translate(148.289775 94.104976)scale(0.12 -0.12)\">\n      <defs>\n       <path d=\"M 36.1875 35.984375 \nQ 31.25 35.984375 28.78125 32.78125 \nQ 26.3125 29.59375 26.3125 23.1875 \nQ 26.3125 16.796875 28.78125 13.59375 \nQ 31.25 10.40625 36.1875 10.40625 \nQ 41.15625 10.40625 43.625 13.59375 \nQ 46.09375 16.796875 46.09375 23.1875 \nQ 46.09375 29.59375 43.625 32.78125 \nQ 41.15625 35.984375 36.1875 35.984375 \nz\nM 59.421875 71 \nL 59.421875 57.515625 \nQ 54.78125 59.71875 50.671875 60.765625 \nQ 46.578125 61.8125 42.671875 61.8125 \nQ 34.28125 61.8125 29.59375 57.140625 \nQ 24.90625 52.484375 24.125 43.3125 \nQ 27.34375 45.703125 31.09375 46.890625 \nQ 34.859375 48.09375 39.3125 48.09375 \nQ 50.484375 48.09375 57.34375 41.546875 \nQ 64.203125 35.015625 64.203125 24.421875 \nQ 64.203125 12.703125 56.53125 5.640625 \nQ 48.875 -1.421875 35.984375 -1.421875 \nQ 21.78125 -1.421875 13.984375 8.171875 \nQ 6.203125 17.78125 6.203125 35.40625 \nQ 6.203125 53.46875 15.3125 63.796875 \nQ 24.421875 74.125 40.28125 74.125 \nQ 45.3125 74.125 50.046875 73.34375 \nQ 54.78125 72.5625 59.421875 71 \nz\n\" id=\"DejaVuSans-Bold-54\"/>\n      </defs>\n      <use xlink:href=\"#DejaVuSans-Bold-54\"/>\n     </g>\n    </g>\n   </g>\n   <g id=\"text_8\">\n    <g clip-path=\"url(#p709c475a63)\">\n     <!-- 7 -->\n     <g transform=\"translate(32.803405 49.823836)scale(0.12 -0.12)\">\n      <defs>\n       <path d=\"M 6.6875 72.90625 \nL 61.625 72.90625 \nL 61.625 62.3125 \nL 33.203125 0 \nL 14.890625 0 \nL 41.796875 59.078125 \nL 6.6875 59.078125 \nz\n\" id=\"DejaVuSans-Bold-55\"/>\n      </defs>\n      <use xlink:href=\"#DejaVuSans-Bold-55\"/>\n     </g>\n    </g>\n   </g>\n   <g id=\"text_9\">\n    <g clip-path=\"url(#p709c475a63)\">\n     <!-- 8 -->\n     <g transform=\"translate(118.192063 164.05921)scale(0.12 -0.12)\">\n      <defs>\n       <path d=\"M 34.8125 32.625 \nQ 29.546875 32.625 26.703125 29.734375 \nQ 23.875 26.859375 23.875 21.484375 \nQ 23.875 16.109375 26.703125 13.25 \nQ 29.546875 10.40625 34.8125 10.40625 \nQ 40.046875 10.40625 42.828125 13.25 \nQ 45.609375 16.109375 45.609375 21.484375 \nQ 45.609375 26.90625 42.828125 29.765625 \nQ 40.046875 32.625 34.8125 32.625 \nz\nM 21.09375 38.8125 \nQ 14.453125 40.828125 11.078125 44.96875 \nQ 7.71875 49.125 7.71875 55.328125 \nQ 7.71875 64.546875 14.59375 69.375 \nQ 21.484375 74.21875 34.8125 74.21875 \nQ 48.046875 74.21875 54.921875 69.40625 \nQ 61.8125 64.59375 61.8125 55.328125 \nQ 61.8125 49.125 58.421875 44.96875 \nQ 55.03125 40.828125 48.390625 38.8125 \nQ 55.8125 36.765625 59.59375 32.15625 \nQ 63.375 27.546875 63.375 20.515625 \nQ 63.375 9.671875 56.171875 4.125 \nQ 48.96875 -1.421875 34.8125 -1.421875 \nQ 20.609375 -1.421875 13.359375 4.125 \nQ 6.109375 9.671875 6.109375 20.515625 \nQ 6.109375 27.546875 9.890625 32.15625 \nQ 13.671875 36.765625 21.09375 38.8125 \nz\nM 25.484375 53.421875 \nQ 25.484375 49.078125 27.90625 46.734375 \nQ 30.328125 44.390625 34.8125 44.390625 \nQ 39.203125 44.390625 41.59375 46.734375 \nQ 44 49.078125 44 53.421875 \nQ 44 57.765625 41.59375 60.078125 \nQ 39.203125 62.40625 34.8125 62.40625 \nQ 30.328125 62.40625 27.90625 60.0625 \nQ 25.484375 57.71875 25.484375 53.421875 \nz\n\" id=\"DejaVuSans-Bold-56\"/>\n      </defs>\n      <use xlink:href=\"#DejaVuSans-Bold-56\"/>\n     </g>\n    </g>\n   </g>\n   <g id=\"text_10\">\n    <g clip-path=\"url(#p709c475a63)\">\n     <!-- 9 -->\n     <g transform=\"translate(106.937092 20.394886)scale(0.12 -0.12)\">\n      <defs>\n       <path d=\"M 10.015625 1.609375 \nL 10.015625 15.09375 \nQ 14.5 12.984375 18.59375 11.9375 \nQ 22.703125 10.890625 26.703125 10.890625 \nQ 35.109375 10.890625 39.796875 15.546875 \nQ 44.484375 20.21875 45.3125 29.390625 \nQ 42 26.953125 38.234375 25.734375 \nQ 34.46875 24.515625 30.078125 24.515625 \nQ 18.890625 24.515625 12.03125 31.03125 \nQ 5.171875 37.546875 5.171875 48.1875 \nQ 5.171875 59.96875 12.8125 67.046875 \nQ 20.453125 74.125 33.296875 74.125 \nQ 47.5625 74.125 55.375 64.5 \nQ 63.1875 54.890625 63.1875 37.3125 \nQ 63.1875 19.234375 54.046875 8.90625 \nQ 44.921875 -1.421875 29 -1.421875 \nQ 23.875 -1.421875 19.1875 -0.65625 \nQ 14.5 0.09375 10.015625 1.609375 \nz\nM 33.203125 36.71875 \nQ 38.140625 36.71875 40.625 39.90625 \nQ 43.109375 43.109375 43.109375 49.515625 \nQ 43.109375 55.859375 40.625 59.078125 \nQ 38.140625 62.3125 33.203125 62.3125 \nQ 28.265625 62.3125 25.78125 59.078125 \nQ 23.296875 55.859375 23.296875 49.515625 \nQ 23.296875 43.109375 25.78125 39.90625 \nQ 28.265625 36.71875 33.203125 36.71875 \nz\n\" id=\"DejaVuSans-Bold-57\"/>\n      </defs>\n      <use xlink:href=\"#DejaVuSans-Bold-57\"/>\n     </g>\n    </g>\n   </g>\n  </g>\n  <g id=\"axes_2\">\n   <g id=\"LineCollection_2\">\n    <path clip-path=\"url(#p8e3b44be22)\" d=\"M 196.735537 115.920003 \nL 249.579413 214.756364 \n\" style=\"fill:none;stroke:#000000;\"/>\n    <path clip-path=\"url(#p8e3b44be22)\" d=\"M 196.735537 115.920003 \nL 249.57939 17.083636 \n\" style=\"fill:none;stroke:#000000;\"/>\n    <path clip-path=\"url(#p8e3b44be22)\" d=\"M 196.735537 115.920003 \nL 273.211925 63.958637 \n\" style=\"fill:none;stroke:#000000;\"/>\n    <path clip-path=\"url(#p8e3b44be22)\" d=\"M 249.579413 214.756364 \nL 335.082645 177.0042 \n\" style=\"fill:none;stroke:#000000;\"/>\n    <path clip-path=\"url(#p8e3b44be22)\" d=\"M 249.579413 214.756364 \nL 236.845239 99.863062 \n\" style=\"fill:none;stroke:#000000;\"/>\n    <path clip-path=\"url(#p8e3b44be22)\" d=\"M 335.082645 177.0042 \nL 335.082626 54.835756 \n\" style=\"fill:none;stroke:#000000;\"/>\n    <path clip-path=\"url(#p8e3b44be22)\" d=\"M 335.082645 177.0042 \nL 250.736087 157.957621 \n\" style=\"fill:none;stroke:#000000;\"/>\n    <path clip-path=\"url(#p8e3b44be22)\" d=\"M 335.082626 54.835756 \nL 249.57939 17.083636 \n\" style=\"fill:none;stroke:#000000;\"/>\n    <path clip-path=\"url(#p8e3b44be22)\" d=\"M 335.082626 54.835756 \nL 295.687783 157.957605 \n\" style=\"fill:none;stroke:#000000;\"/>\n    <path clip-path=\"url(#p8e3b44be22)\" d=\"M 249.57939 17.083636 \nL 309.578608 99.863036 \n\" style=\"fill:none;stroke:#000000;\"/>\n    <path clip-path=\"url(#p8e3b44be22)\" d=\"M 273.211925 63.958637 \nL 250.736087 157.957621 \n\" style=\"fill:none;stroke:#000000;\"/>\n    <path clip-path=\"url(#p8e3b44be22)\" d=\"M 273.211925 63.958637 \nL 295.687783 157.957605 \n\" style=\"fill:none;stroke:#000000;\"/>\n    <path clip-path=\"url(#p8e3b44be22)\" d=\"M 236.845239 99.863062 \nL 295.687783 157.957605 \n\" style=\"fill:none;stroke:#000000;\"/>\n    <path clip-path=\"url(#p8e3b44be22)\" d=\"M 236.845239 99.863062 \nL 309.578608 99.863036 \n\" style=\"fill:none;stroke:#000000;\"/>\n    <path clip-path=\"url(#p8e3b44be22)\" d=\"M 250.736087 157.957621 \nL 309.578608 99.863036 \n\" style=\"fill:none;stroke:#000000;\"/>\n   </g>\n   <g id=\"PathCollection_2\">\n    <g clip-path=\"url(#p8e3b44be22)\">\n     <use style=\"fill:#1f78b4;stroke:#1f78b4;\" x=\"196.735537\" xlink:href=\"#m8957fd3cef\" y=\"115.920003\"/>\n     <use style=\"fill:#1f78b4;stroke:#1f78b4;\" x=\"249.579413\" xlink:href=\"#m8957fd3cef\" y=\"214.756364\"/>\n     <use style=\"fill:#1f78b4;stroke:#1f78b4;\" x=\"335.082645\" xlink:href=\"#m8957fd3cef\" y=\"177.0042\"/>\n     <use style=\"fill:#1f78b4;stroke:#1f78b4;\" x=\"335.082626\" xlink:href=\"#m8957fd3cef\" y=\"54.835756\"/>\n     <use style=\"fill:#1f78b4;stroke:#1f78b4;\" x=\"249.57939\" xlink:href=\"#m8957fd3cef\" y=\"17.083636\"/>\n     <use style=\"fill:#1f78b4;stroke:#1f78b4;\" x=\"273.211925\" xlink:href=\"#m8957fd3cef\" y=\"63.958637\"/>\n     <use style=\"fill:#1f78b4;stroke:#1f78b4;\" x=\"236.845239\" xlink:href=\"#m8957fd3cef\" y=\"99.863062\"/>\n     <use style=\"fill:#1f78b4;stroke:#1f78b4;\" x=\"250.736087\" xlink:href=\"#m8957fd3cef\" y=\"157.957621\"/>\n     <use style=\"fill:#1f78b4;stroke:#1f78b4;\" x=\"295.687783\" xlink:href=\"#m8957fd3cef\" y=\"157.957605\"/>\n     <use style=\"fill:#1f78b4;stroke:#1f78b4;\" x=\"309.578608\" xlink:href=\"#m8957fd3cef\" y=\"99.863036\"/>\n    </g>\n   </g>\n   <g id=\"text_11\">\n    <g clip-path=\"url(#p8e3b44be22)\">\n     <!-- 0 -->\n     <g transform=\"translate(192.56085 119.231253)scale(0.12 -0.12)\">\n      <use xlink:href=\"#DejaVuSans-Bold-48\"/>\n     </g>\n    </g>\n   </g>\n   <g id=\"text_12\">\n    <g clip-path=\"url(#p8e3b44be22)\">\n     <!-- 1 -->\n     <g transform=\"translate(245.404726 218.067614)scale(0.12 -0.12)\">\n      <use xlink:href=\"#DejaVuSans-Bold-49\"/>\n     </g>\n    </g>\n   </g>\n   <g id=\"text_13\">\n    <g clip-path=\"url(#p8e3b44be22)\">\n     <!-- 2 -->\n     <g transform=\"translate(330.907957 180.31545)scale(0.12 -0.12)\">\n      <use xlink:href=\"#DejaVuSans-Bold-50\"/>\n     </g>\n    </g>\n   </g>\n   <g id=\"text_14\">\n    <g clip-path=\"url(#p8e3b44be22)\">\n     <!-- 3 -->\n     <g transform=\"translate(330.907939 58.147006)scale(0.12 -0.12)\">\n      <use xlink:href=\"#DejaVuSans-Bold-51\"/>\n     </g>\n    </g>\n   </g>\n   <g id=\"text_15\">\n    <g clip-path=\"url(#p8e3b44be22)\">\n     <!-- 4 -->\n     <g transform=\"translate(245.404703 20.394886)scale(0.12 -0.12)\">\n      <use xlink:href=\"#DejaVuSans-Bold-52\"/>\n     </g>\n    </g>\n   </g>\n   <g id=\"text_16\">\n    <g clip-path=\"url(#p8e3b44be22)\">\n     <!-- 5 -->\n     <g transform=\"translate(269.037238 67.269887)scale(0.12 -0.12)\">\n      <use xlink:href=\"#DejaVuSans-Bold-53\"/>\n     </g>\n    </g>\n   </g>\n   <g id=\"text_17\">\n    <g clip-path=\"url(#p8e3b44be22)\">\n     <!-- 6 -->\n     <g transform=\"translate(232.670552 103.174312)scale(0.12 -0.12)\">\n      <use xlink:href=\"#DejaVuSans-Bold-54\"/>\n     </g>\n    </g>\n   </g>\n   <g id=\"text_18\">\n    <g clip-path=\"url(#p8e3b44be22)\">\n     <!-- 7 -->\n     <g transform=\"translate(246.5614 161.268871)scale(0.12 -0.12)\">\n      <use xlink:href=\"#DejaVuSans-Bold-55\"/>\n     </g>\n    </g>\n   </g>\n   <g id=\"text_19\">\n    <g clip-path=\"url(#p8e3b44be22)\">\n     <!-- 8 -->\n     <g transform=\"translate(291.513095 161.268855)scale(0.12 -0.12)\">\n      <use xlink:href=\"#DejaVuSans-Bold-56\"/>\n     </g>\n    </g>\n   </g>\n   <g id=\"text_20\">\n    <g clip-path=\"url(#p8e3b44be22)\">\n     <!-- 9 -->\n     <g transform=\"translate(305.40392 103.174286)scale(0.12 -0.12)\">\n      <use xlink:href=\"#DejaVuSans-Bold-57\"/>\n     </g>\n    </g>\n   </g>\n  </g>\n </g>\n <defs>\n  <clipPath id=\"p709c475a63\">\n   <rect height=\"217.44\" width=\"152.181818\" x=\"7.2\" y=\"7.2\"/>\n  </clipPath>\n  <clipPath id=\"p8e3b44be22\">\n   <rect height=\"217.44\" width=\"152.181818\" x=\"189.818182\" y=\"7.2\"/>\n  </clipPath>\n </defs>\n</svg>\n",
      "image/png": "[encoded data removed]"
     },
     "metadata": {}
    }
   ],
   "source": [
    "import matplotlib.pyplot as plt\n",
    "G = nx.petersen_graph()\n",
    "plt.subplot(121)\n",
    "nx.draw(G, with_labels=True, font_weight='bold')\n",
    "plt.subplot(122)\n",
    "nx.draw_shell(G, nlist=[range(5, 10), range(5)], with_labels=True, font_weight='bold')"
   ]
  },
  {
   "cell_type": "code",
   "execution_count": 78,
   "metadata": {},
   "outputs": [
    {
     "output_type": "display_data",
     "data": {
      "text/plain": "<Figure size 432x288 with 4 Axes>",
      "image/svg+xml": "<?xml version=\"1.0\" encoding=\"utf-8\" standalone=\"no\"?>\n<!DOCTYPE svg PUBLIC \"-//W3C//DTD SVG 1.1//EN\"\n  \"http://www.w3.org/Graphics/SVG/1.1/DTD/svg11.dtd\">\n<!-- Created with matplotlib (https://matplotlib.org/) -->\n<svg height=\"231.84pt\" version=\"1.1\" viewBox=\"0 0 349.2 231.84\" width=\"349.2pt\" xmlns=\"http://www.w3.org/2000/svg\" xmlns:xlink=\"http://www.w3.org/1999/xlink\">\n <metadata>\n  <rdf:RDF xmlns:cc=\"http://creativecommons.org/ns#\" xmlns:dc=\"http://purl.org/dc/elements/1.1/\" xmlns:rdf=\"http://www.w3.org/1999/02/22-rdf-syntax-ns#\">\n   <cc:Work>\n    <dc:type rdf:resource=\"http://purl.org/dc/dcmitype/StillImage\"/>\n    <dc:date>2021-02-17T09:43:39.011918</dc:date>\n    <dc:format>image/svg+xml</dc:format>\n    <dc:creator>\n     <cc:Agent>\n      <dc:title>Matplotlib v3.3.4, https://matplotlib.org/</dc:title>\n     </cc:Agent>\n    </dc:creator>\n   </cc:Work>\n  </rdf:RDF>\n </metadata>\n <defs>\n  <style type=\"text/css\">*{stroke-linecap:butt;stroke-linejoin:round;}</style>\n </defs>\n <g id=\"figure_1\">\n  <g id=\"patch_1\">\n   <path d=\"M 0 231.84 \nL 349.2 231.84 \nL 349.2 0 \nL 0 0 \nz\n\" style=\"fill:#ffffff;\"/>\n  </g>\n  <g id=\"axes_1\">\n   <g id=\"LineCollection_1\">\n    <path clip-path=\"url(#pdc1df95584)\" d=\"M 112.312502 101.543802 \nL 133.608345 25.845407 \n\" style=\"fill:none;stroke:#000000;stroke-width:3;\"/>\n    <path clip-path=\"url(#pdc1df95584)\" d=\"M 112.312502 101.543802 \nL 103.542791 89.176169 \n\" style=\"fill:none;stroke:#000000;stroke-width:3;\"/>\n    <path clip-path=\"url(#pdc1df95584)\" d=\"M 112.312502 101.543802 \nL 152.464463 67.045088 \n\" style=\"fill:none;stroke:#000000;stroke-width:3;\"/>\n    <path clip-path=\"url(#pdc1df95584)\" d=\"M 133.608345 25.845407 \nL 14.117355 62.204874 \n\" style=\"fill:none;stroke:#000000;stroke-width:3;\"/>\n    <path clip-path=\"url(#pdc1df95584)\" d=\"M 133.608345 25.845407 \nL 81.373438 79.609815 \n\" style=\"fill:none;stroke:#000000;stroke-width:3;\"/>\n    <path clip-path=\"url(#pdc1df95584)\" d=\"M 14.117355 62.204874 \nL 50.695138 18.951357 \n\" style=\"fill:none;stroke:#000000;stroke-width:3;\"/>\n    <path clip-path=\"url(#pdc1df95584)\" d=\"M 14.117355 62.204874 \nL 82.188126 11.692562 \n\" style=\"fill:none;stroke:#000000;stroke-width:3;\"/>\n    <path clip-path=\"url(#pdc1df95584)\" d=\"M 50.695138 18.951357 \nL 103.542791 89.176169 \n\" style=\"fill:none;stroke:#000000;stroke-width:3;\"/>\n    <path clip-path=\"url(#pdc1df95584)\" d=\"M 50.695138 18.951357 \nL 69.836468 77.5892 \n\" style=\"fill:none;stroke:#000000;stroke-width:3;\"/>\n    <path clip-path=\"url(#pdc1df95584)\" d=\"M 103.542791 89.176169 \nL 113.078895 36.551646 \n\" style=\"fill:none;stroke:#000000;stroke-width:3;\"/>\n    <path clip-path=\"url(#pdc1df95584)\" d=\"M 152.464463 67.045088 \nL 82.188126 11.692562 \n\" style=\"fill:none;stroke:#000000;stroke-width:3;\"/>\n    <path clip-path=\"url(#pdc1df95584)\" d=\"M 152.464463 67.045088 \nL 69.836468 77.5892 \n\" style=\"fill:none;stroke:#000000;stroke-width:3;\"/>\n    <path clip-path=\"url(#pdc1df95584)\" d=\"M 81.373438 79.609815 \nL 69.836468 77.5892 \n\" style=\"fill:none;stroke:#000000;stroke-width:3;\"/>\n    <path clip-path=\"url(#pdc1df95584)\" d=\"M 81.373438 79.609815 \nL 113.078895 36.551646 \n\" style=\"fill:none;stroke:#000000;stroke-width:3;\"/>\n    <path clip-path=\"url(#pdc1df95584)\" d=\"M 82.188126 11.692562 \nL 113.078895 36.551646 \n\" style=\"fill:none;stroke:#000000;stroke-width:3;\"/>\n   </g>\n   <g id=\"PathCollection_1\">\n    <defs>\n     <path d=\"M 0 5 \nC 1.326016 5 2.597899 4.473168 3.535534 3.535534 \nC 4.473168 2.597899 5 1.326016 5 0 \nC 5 -1.326016 4.473168 -2.597899 3.535534 -3.535534 \nC 2.597899 -4.473168 1.326016 -5 0 -5 \nC -1.326016 -5 -2.597899 -4.473168 -3.535534 -3.535534 \nC -4.473168 -2.597899 -5 -1.326016 -5 0 \nC -5 1.326016 -4.473168 2.597899 -3.535534 3.535534 \nC -2.597899 4.473168 -1.326016 5 0 5 \nz\n\" id=\"m343357cb2d\" style=\"stroke:#000000;\"/>\n    </defs>\n    <g clip-path=\"url(#pdc1df95584)\">\n     <use style=\"stroke:#000000;\" x=\"112.312502\" xlink:href=\"#m343357cb2d\" y=\"101.543802\"/>\n     <use style=\"stroke:#000000;\" x=\"133.608345\" xlink:href=\"#m343357cb2d\" y=\"25.845407\"/>\n     <use style=\"stroke:#000000;\" x=\"14.117355\" xlink:href=\"#m343357cb2d\" y=\"62.204874\"/>\n     <use style=\"stroke:#000000;\" x=\"50.695138\" xlink:href=\"#m343357cb2d\" y=\"18.951357\"/>\n     <use style=\"stroke:#000000;\" x=\"103.542791\" xlink:href=\"#m343357cb2d\" y=\"89.176169\"/>\n     <use style=\"stroke:#000000;\" x=\"152.464463\" xlink:href=\"#m343357cb2d\" y=\"67.045088\"/>\n     <use style=\"stroke:#000000;\" x=\"81.373438\" xlink:href=\"#m343357cb2d\" y=\"79.609815\"/>\n     <use style=\"stroke:#000000;\" x=\"82.188126\" xlink:href=\"#m343357cb2d\" y=\"11.692562\"/>\n     <use style=\"stroke:#000000;\" x=\"69.836468\" xlink:href=\"#m343357cb2d\" y=\"77.5892\"/>\n     <use style=\"stroke:#000000;\" x=\"113.078895\" xlink:href=\"#m343357cb2d\" y=\"36.551646\"/>\n    </g>\n   </g>\n  </g>\n  <g id=\"axes_2\">\n   <g id=\"LineCollection_2\">\n    <path clip-path=\"url(#p3b995e4239)\" d=\"M 335.082645 56.618183 \nL 321.871672 28.852623 \n\" style=\"fill:none;stroke:#000000;stroke-width:3;\"/>\n    <path clip-path=\"url(#p3b995e4239)\" d=\"M 335.082645 56.618183 \nL 209.94651 28.852623 \n\" style=\"fill:none;stroke:#000000;stroke-width:3;\"/>\n    <path clip-path=\"url(#p3b995e4239)\" d=\"M 335.082645 56.618183 \nL 196.735537 56.618187 \n\" style=\"fill:none;stroke:#000000;stroke-width:3;\"/>\n    <path clip-path=\"url(#p3b995e4239)\" d=\"M 321.871672 28.852623 \nL 287.284893 11.692562 \n\" style=\"fill:none;stroke:#000000;stroke-width:3;\"/>\n    <path clip-path=\"url(#p3b995e4239)\" d=\"M 321.871672 28.852623 \nL 209.946514 84.383746 \n\" style=\"fill:none;stroke:#000000;stroke-width:3;\"/>\n    <path clip-path=\"url(#p3b995e4239)\" d=\"M 287.284893 11.692562 \nL 244.533285 11.692565 \n\" style=\"fill:none;stroke:#000000;stroke-width:3;\"/>\n    <path clip-path=\"url(#p3b995e4239)\" d=\"M 287.284893 11.692562 \nL 244.533278 101.543802 \n\" style=\"fill:none;stroke:#000000;stroke-width:3;\"/>\n    <path clip-path=\"url(#p3b995e4239)\" d=\"M 244.533285 11.692565 \nL 209.94651 28.852623 \n\" style=\"fill:none;stroke:#000000;stroke-width:3;\"/>\n    <path clip-path=\"url(#p3b995e4239)\" d=\"M 244.533285 11.692565 \nL 287.284903 101.543802 \n\" style=\"fill:none;stroke:#000000;stroke-width:3;\"/>\n    <path clip-path=\"url(#p3b995e4239)\" d=\"M 209.94651 28.852623 \nL 321.871668 84.383746 \n\" style=\"fill:none;stroke:#000000;stroke-width:3;\"/>\n    <path clip-path=\"url(#p3b995e4239)\" d=\"M 196.735537 56.618187 \nL 244.533278 101.543802 \n\" style=\"fill:none;stroke:#000000;stroke-width:3;\"/>\n    <path clip-path=\"url(#p3b995e4239)\" d=\"M 196.735537 56.618187 \nL 287.284903 101.543802 \n\" style=\"fill:none;stroke:#000000;stroke-width:3;\"/>\n    <path clip-path=\"url(#p3b995e4239)\" d=\"M 209.946514 84.383746 \nL 287.284903 101.543802 \n\" style=\"fill:none;stroke:#000000;stroke-width:3;\"/>\n    <path clip-path=\"url(#p3b995e4239)\" d=\"M 209.946514 84.383746 \nL 321.871668 84.383746 \n\" style=\"fill:none;stroke:#000000;stroke-width:3;\"/>\n    <path clip-path=\"url(#p3b995e4239)\" d=\"M 244.533278 101.543802 \nL 321.871668 84.383746 \n\" style=\"fill:none;stroke:#000000;stroke-width:3;\"/>\n   </g>\n   <g id=\"PathCollection_2\">\n    <g clip-path=\"url(#p3b995e4239)\">\n     <use style=\"stroke:#000000;\" x=\"335.082645\" xlink:href=\"#m343357cb2d\" y=\"56.618183\"/>\n     <use style=\"stroke:#000000;\" x=\"321.871672\" xlink:href=\"#m343357cb2d\" y=\"28.852623\"/>\n     <use style=\"stroke:#000000;\" x=\"287.284893\" xlink:href=\"#m343357cb2d\" y=\"11.692562\"/>\n     <use style=\"stroke:#000000;\" x=\"244.533285\" xlink:href=\"#m343357cb2d\" y=\"11.692565\"/>\n     <use style=\"stroke:#000000;\" x=\"209.94651\" xlink:href=\"#m343357cb2d\" y=\"28.852623\"/>\n     <use style=\"stroke:#000000;\" x=\"196.735537\" xlink:href=\"#m343357cb2d\" y=\"56.618187\"/>\n     <use style=\"stroke:#000000;\" x=\"209.946514\" xlink:href=\"#m343357cb2d\" y=\"84.383746\"/>\n     <use style=\"stroke:#000000;\" x=\"244.533278\" xlink:href=\"#m343357cb2d\" y=\"101.543802\"/>\n     <use style=\"stroke:#000000;\" x=\"287.284903\" xlink:href=\"#m343357cb2d\" y=\"101.543802\"/>\n     <use style=\"stroke:#000000;\" x=\"321.871668\" xlink:href=\"#m343357cb2d\" y=\"84.383746\"/>\n    </g>\n   </g>\n  </g>\n  <g id=\"axes_3\">\n   <g id=\"LineCollection_3\">\n    <path clip-path=\"url(#pd311c7e832)\" d=\"M 48.783915 196.24547 \nL 36.484289 220.147438 \n\" style=\"fill:none;stroke:#000000;stroke-width:3;\"/>\n    <path clip-path=\"url(#pd311c7e832)\" d=\"M 48.783915 196.24547 \nL 34.635444 203.159537 \n\" style=\"fill:none;stroke:#000000;stroke-width:3;\"/>\n    <path clip-path=\"url(#pd311c7e832)\" d=\"M 48.783915 196.24547 \nL 115.319428 135.358424 \n\" style=\"fill:none;stroke:#000000;stroke-width:3;\"/>\n    <path clip-path=\"url(#pd311c7e832)\" d=\"M 36.484289 220.147438 \nL 111.238263 191.030396 \n\" style=\"fill:none;stroke:#000000;stroke-width:3;\"/>\n    <path clip-path=\"url(#pd311c7e832)\" d=\"M 36.484289 220.147438 \nL 14.117355 195.2915 \n\" style=\"fill:none;stroke:#000000;stroke-width:3;\"/>\n    <path clip-path=\"url(#pd311c7e832)\" d=\"M 111.238263 191.030396 \nL 59.944757 162.066203 \n\" style=\"fill:none;stroke:#000000;stroke-width:3;\"/>\n    <path clip-path=\"url(#pd311c7e832)\" d=\"M 111.238263 191.030396 \nL 152.464463 171.236684 \n\" style=\"fill:none;stroke:#000000;stroke-width:3;\"/>\n    <path clip-path=\"url(#pd311c7e832)\" d=\"M 59.944757 162.066203 \nL 34.635444 203.159537 \n\" style=\"fill:none;stroke:#000000;stroke-width:3;\"/>\n    <path clip-path=\"url(#pd311c7e832)\" d=\"M 59.944757 162.066203 \nL 51.726295 130.296198 \n\" style=\"fill:none;stroke:#000000;stroke-width:3;\"/>\n    <path clip-path=\"url(#pd311c7e832)\" d=\"M 34.635444 203.159537 \nL 63.562017 207.267792 \n\" style=\"fill:none;stroke:#000000;stroke-width:3;\"/>\n    <path clip-path=\"url(#pd311c7e832)\" d=\"M 115.319428 135.358424 \nL 152.464463 171.236684 \n\" style=\"fill:none;stroke:#000000;stroke-width:3;\"/>\n    <path clip-path=\"url(#pd311c7e832)\" d=\"M 115.319428 135.358424 \nL 51.726295 130.296198 \n\" style=\"fill:none;stroke:#000000;stroke-width:3;\"/>\n    <path clip-path=\"url(#pd311c7e832)\" d=\"M 14.117355 195.2915 \nL 51.726295 130.296198 \n\" style=\"fill:none;stroke:#000000;stroke-width:3;\"/>\n    <path clip-path=\"url(#pd311c7e832)\" d=\"M 14.117355 195.2915 \nL 63.562017 207.267792 \n\" style=\"fill:none;stroke:#000000;stroke-width:3;\"/>\n    <path clip-path=\"url(#pd311c7e832)\" d=\"M 152.464463 171.236684 \nL 63.562017 207.267792 \n\" style=\"fill:none;stroke:#000000;stroke-width:3;\"/>\n   </g>\n   <g id=\"PathCollection_3\">\n    <g clip-path=\"url(#pd311c7e832)\">\n     <use style=\"stroke:#000000;\" x=\"48.783915\" xlink:href=\"#m343357cb2d\" y=\"196.24547\"/>\n     <use style=\"stroke:#000000;\" x=\"36.484289\" xlink:href=\"#m343357cb2d\" y=\"220.147438\"/>\n     <use style=\"stroke:#000000;\" x=\"111.238263\" xlink:href=\"#m343357cb2d\" y=\"191.030396\"/>\n     <use style=\"stroke:#000000;\" x=\"59.944757\" xlink:href=\"#m343357cb2d\" y=\"162.066203\"/>\n     <use style=\"stroke:#000000;\" x=\"34.635444\" xlink:href=\"#m343357cb2d\" y=\"203.159537\"/>\n     <use style=\"stroke:#000000;\" x=\"115.319428\" xlink:href=\"#m343357cb2d\" y=\"135.358424\"/>\n     <use style=\"stroke:#000000;\" x=\"14.117355\" xlink:href=\"#m343357cb2d\" y=\"195.2915\"/>\n     <use style=\"stroke:#000000;\" x=\"152.464463\" xlink:href=\"#m343357cb2d\" y=\"171.236684\"/>\n     <use style=\"stroke:#000000;\" x=\"51.726295\" xlink:href=\"#m343357cb2d\" y=\"130.296198\"/>\n     <use style=\"stroke:#000000;\" x=\"63.562017\" xlink:href=\"#m343357cb2d\" y=\"207.267792\"/>\n    </g>\n   </g>\n  </g>\n  <g id=\"axes_4\">\n   <g id=\"LineCollection_4\">\n    <path clip-path=\"url(#pa9fbad9a89)\" d=\"M 196.735537 175.221819 \nL 249.579413 220.147438 \n\" style=\"fill:none;stroke:#000000;stroke-width:3;\"/>\n    <path clip-path=\"url(#pa9fbad9a89)\" d=\"M 196.735537 175.221819 \nL 249.57939 130.296198 \n\" style=\"fill:none;stroke:#000000;stroke-width:3;\"/>\n    <path clip-path=\"url(#pa9fbad9a89)\" d=\"M 196.735537 175.221819 \nL 273.211925 151.603017 \n\" style=\"fill:none;stroke:#000000;stroke-width:3;\"/>\n    <path clip-path=\"url(#pa9fbad9a89)\" d=\"M 249.579413 220.147438 \nL 335.082645 202.987364 \n\" style=\"fill:none;stroke:#000000;stroke-width:3;\"/>\n    <path clip-path=\"url(#pa9fbad9a89)\" d=\"M 249.579413 220.147438 \nL 236.845239 167.92321 \n\" style=\"fill:none;stroke:#000000;stroke-width:3;\"/>\n    <path clip-path=\"url(#pa9fbad9a89)\" d=\"M 335.082645 202.987364 \nL 335.082626 147.456253 \n\" style=\"fill:none;stroke:#000000;stroke-width:3;\"/>\n    <path clip-path=\"url(#pa9fbad9a89)\" d=\"M 335.082645 202.987364 \nL 250.736087 194.329828 \n\" style=\"fill:none;stroke:#000000;stroke-width:3;\"/>\n    <path clip-path=\"url(#pa9fbad9a89)\" d=\"M 335.082626 147.456253 \nL 249.57939 130.296198 \n\" style=\"fill:none;stroke:#000000;stroke-width:3;\"/>\n    <path clip-path=\"url(#pa9fbad9a89)\" d=\"M 335.082626 147.456253 \nL 295.687783 194.329821 \n\" style=\"fill:none;stroke:#000000;stroke-width:3;\"/>\n    <path clip-path=\"url(#pa9fbad9a89)\" d=\"M 249.57939 130.296198 \nL 309.578608 167.923198 \n\" style=\"fill:none;stroke:#000000;stroke-width:3;\"/>\n    <path clip-path=\"url(#pa9fbad9a89)\" d=\"M 273.211925 151.603017 \nL 250.736087 194.329828 \n\" style=\"fill:none;stroke:#000000;stroke-width:3;\"/>\n    <path clip-path=\"url(#pa9fbad9a89)\" d=\"M 273.211925 151.603017 \nL 295.687783 194.329821 \n\" style=\"fill:none;stroke:#000000;stroke-width:3;\"/>\n    <path clip-path=\"url(#pa9fbad9a89)\" d=\"M 236.845239 167.92321 \nL 295.687783 194.329821 \n\" style=\"fill:none;stroke:#000000;stroke-width:3;\"/>\n    <path clip-path=\"url(#pa9fbad9a89)\" d=\"M 236.845239 167.92321 \nL 309.578608 167.923198 \n\" style=\"fill:none;stroke:#000000;stroke-width:3;\"/>\n    <path clip-path=\"url(#pa9fbad9a89)\" d=\"M 250.736087 194.329828 \nL 309.578608 167.923198 \n\" style=\"fill:none;stroke:#000000;stroke-width:3;\"/>\n   </g>\n   <g id=\"PathCollection_4\">\n    <g clip-path=\"url(#pa9fbad9a89)\">\n     <use style=\"stroke:#000000;\" x=\"196.735537\" xlink:href=\"#m343357cb2d\" y=\"175.221819\"/>\n     <use style=\"stroke:#000000;\" x=\"249.579413\" xlink:href=\"#m343357cb2d\" y=\"220.147438\"/>\n     <use style=\"stroke:#000000;\" x=\"335.082645\" xlink:href=\"#m343357cb2d\" y=\"202.987364\"/>\n     <use style=\"stroke:#000000;\" x=\"335.082626\" xlink:href=\"#m343357cb2d\" y=\"147.456253\"/>\n     <use style=\"stroke:#000000;\" x=\"249.57939\" xlink:href=\"#m343357cb2d\" y=\"130.296198\"/>\n     <use style=\"stroke:#000000;\" x=\"273.211925\" xlink:href=\"#m343357cb2d\" y=\"151.603017\"/>\n     <use style=\"stroke:#000000;\" x=\"236.845239\" xlink:href=\"#m343357cb2d\" y=\"167.92321\"/>\n     <use style=\"stroke:#000000;\" x=\"250.736087\" xlink:href=\"#m343357cb2d\" y=\"194.329828\"/>\n     <use style=\"stroke:#000000;\" x=\"295.687783\" xlink:href=\"#m343357cb2d\" y=\"194.329821\"/>\n     <use style=\"stroke:#000000;\" x=\"309.578608\" xlink:href=\"#m343357cb2d\" y=\"167.923198\"/>\n    </g>\n   </g>\n  </g>\n </g>\n <defs>\n  <clipPath id=\"pdc1df95584\">\n   <rect height=\"98.836364\" width=\"152.181818\" x=\"7.2\" y=\"7.2\"/>\n  </clipPath>\n  <clipPath id=\"p3b995e4239\">\n   <rect height=\"98.836364\" width=\"152.181818\" x=\"189.818182\" y=\"7.2\"/>\n  </clipPath>\n  <clipPath id=\"pd311c7e832\">\n   <rect height=\"98.836364\" width=\"152.181818\" x=\"7.2\" y=\"125.803636\"/>\n  </clipPath>\n  <clipPath id=\"pa9fbad9a89\">\n   <rect height=\"98.836364\" width=\"152.181818\" x=\"189.818182\" y=\"125.803636\"/>\n  </clipPath>\n </defs>\n</svg>\n",
      "image/png": "[encoded data removed]"
     },
     "metadata": {}
    }
   ],
   "source": [
    "options = {\n",
    "\n",
    "    'node_color': 'black',\n",
    "\n",
    "    'node_size': 100,\n",
    "\n",
    "    'width': 3,\n",
    "\n",
    "}\n",
    "\n",
    "plt.subplot(221)\n",
    "nx.draw_random(G, **options)\n",
    "plt.subplot(222)\n",
    "nx.draw_circular(G, **options)\n",
    "plt.subplot(223)\n",
    "nx.draw_spectral(G, **options)\n",
    "plt.subplot(224)\n",
    "nx.draw_shell(G, nlist=[range(5,10), range(5)], **options)"
   ]
  },
  {
   "cell_type": "code",
   "execution_count": null,
   "metadata": {},
   "outputs": [],
   "source": []
  }
 ]
}